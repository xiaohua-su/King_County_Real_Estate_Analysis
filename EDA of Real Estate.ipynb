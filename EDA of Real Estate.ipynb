{
 "cells": [
  {
   "cell_type": "code",
   "execution_count": 80,
   "metadata": {},
   "outputs": [],
   "source": [
    "import pandas as pd\n",
    "import numpy as np\n",
    "import matplotlib.pyplot as plt\n",
    "import seaborn as sns\n",
    "from sklearn.preprocessing import OneHotEncoder, StandardScaler\n",
    "from sklearn.datasets import make_regression\n",
    "from sklearn.linear_model import LinearRegression\n",
    "import sklearn.metrics as metrics\n",
    "from random import gauss\n",
    "from mpl_toolkits.mplot3d import Axes3D\n",
    "from scipy import stats as stats\n",
    "from statsmodels.formula.api import ols\n",
    "import statsmodels.api as sm\n",
    "\n",
    "%matplotlib inline\n",
    "pd.set_option('display.max_columns', None) #shows all columns on dataframe\n",
    "pd.set_option('display.float_format', lambda x: '%.2f' % x) #applied to every df in this notebook"
   ]
  },
  {
   "cell_type": "code",
   "execution_count": 2,
   "metadata": {},
   "outputs": [],
   "source": [
    "df = pd.read_csv('./data/kc_house_data.csv')"
   ]
  },
  {
   "cell_type": "code",
   "execution_count": 3,
   "metadata": {},
   "outputs": [
    {
     "data": {
      "text/html": [
       "<div>\n",
       "<style scoped>\n",
       "    .dataframe tbody tr th:only-of-type {\n",
       "        vertical-align: middle;\n",
       "    }\n",
       "\n",
       "    .dataframe tbody tr th {\n",
       "        vertical-align: top;\n",
       "    }\n",
       "\n",
       "    .dataframe thead th {\n",
       "        text-align: right;\n",
       "    }\n",
       "</style>\n",
       "<table border=\"1\" class=\"dataframe\">\n",
       "  <thead>\n",
       "    <tr style=\"text-align: right;\">\n",
       "      <th></th>\n",
       "      <th>id</th>\n",
       "      <th>date</th>\n",
       "      <th>price</th>\n",
       "      <th>bedrooms</th>\n",
       "      <th>bathrooms</th>\n",
       "      <th>sqft_living</th>\n",
       "      <th>sqft_lot</th>\n",
       "      <th>floors</th>\n",
       "      <th>waterfront</th>\n",
       "      <th>view</th>\n",
       "      <th>condition</th>\n",
       "      <th>grade</th>\n",
       "      <th>sqft_above</th>\n",
       "      <th>sqft_basement</th>\n",
       "      <th>yr_built</th>\n",
       "      <th>yr_renovated</th>\n",
       "      <th>zipcode</th>\n",
       "      <th>lat</th>\n",
       "      <th>long</th>\n",
       "      <th>sqft_living15</th>\n",
       "      <th>sqft_lot15</th>\n",
       "    </tr>\n",
       "  </thead>\n",
       "  <tbody>\n",
       "    <tr>\n",
       "      <th>0</th>\n",
       "      <td>7129300520</td>\n",
       "      <td>10/13/2014</td>\n",
       "      <td>221900.00</td>\n",
       "      <td>3</td>\n",
       "      <td>1.00</td>\n",
       "      <td>1180</td>\n",
       "      <td>5650</td>\n",
       "      <td>1.00</td>\n",
       "      <td>NaN</td>\n",
       "      <td>NONE</td>\n",
       "      <td>Average</td>\n",
       "      <td>7 Average</td>\n",
       "      <td>1180</td>\n",
       "      <td>0.0</td>\n",
       "      <td>1955</td>\n",
       "      <td>0.00</td>\n",
       "      <td>98178</td>\n",
       "      <td>47.51</td>\n",
       "      <td>-122.26</td>\n",
       "      <td>1340</td>\n",
       "      <td>5650</td>\n",
       "    </tr>\n",
       "    <tr>\n",
       "      <th>1</th>\n",
       "      <td>6414100192</td>\n",
       "      <td>12/9/2014</td>\n",
       "      <td>538000.00</td>\n",
       "      <td>3</td>\n",
       "      <td>2.25</td>\n",
       "      <td>2570</td>\n",
       "      <td>7242</td>\n",
       "      <td>2.00</td>\n",
       "      <td>NO</td>\n",
       "      <td>NONE</td>\n",
       "      <td>Average</td>\n",
       "      <td>7 Average</td>\n",
       "      <td>2170</td>\n",
       "      <td>400.0</td>\n",
       "      <td>1951</td>\n",
       "      <td>1991.00</td>\n",
       "      <td>98125</td>\n",
       "      <td>47.72</td>\n",
       "      <td>-122.32</td>\n",
       "      <td>1690</td>\n",
       "      <td>7639</td>\n",
       "    </tr>\n",
       "    <tr>\n",
       "      <th>2</th>\n",
       "      <td>5631500400</td>\n",
       "      <td>2/25/2015</td>\n",
       "      <td>180000.00</td>\n",
       "      <td>2</td>\n",
       "      <td>1.00</td>\n",
       "      <td>770</td>\n",
       "      <td>10000</td>\n",
       "      <td>1.00</td>\n",
       "      <td>NO</td>\n",
       "      <td>NONE</td>\n",
       "      <td>Average</td>\n",
       "      <td>6 Low Average</td>\n",
       "      <td>770</td>\n",
       "      <td>0.0</td>\n",
       "      <td>1933</td>\n",
       "      <td>nan</td>\n",
       "      <td>98028</td>\n",
       "      <td>47.74</td>\n",
       "      <td>-122.23</td>\n",
       "      <td>2720</td>\n",
       "      <td>8062</td>\n",
       "    </tr>\n",
       "    <tr>\n",
       "      <th>3</th>\n",
       "      <td>2487200875</td>\n",
       "      <td>12/9/2014</td>\n",
       "      <td>604000.00</td>\n",
       "      <td>4</td>\n",
       "      <td>3.00</td>\n",
       "      <td>1960</td>\n",
       "      <td>5000</td>\n",
       "      <td>1.00</td>\n",
       "      <td>NO</td>\n",
       "      <td>NONE</td>\n",
       "      <td>Very Good</td>\n",
       "      <td>7 Average</td>\n",
       "      <td>1050</td>\n",
       "      <td>910.0</td>\n",
       "      <td>1965</td>\n",
       "      <td>0.00</td>\n",
       "      <td>98136</td>\n",
       "      <td>47.52</td>\n",
       "      <td>-122.39</td>\n",
       "      <td>1360</td>\n",
       "      <td>5000</td>\n",
       "    </tr>\n",
       "    <tr>\n",
       "      <th>4</th>\n",
       "      <td>1954400510</td>\n",
       "      <td>2/18/2015</td>\n",
       "      <td>510000.00</td>\n",
       "      <td>3</td>\n",
       "      <td>2.00</td>\n",
       "      <td>1680</td>\n",
       "      <td>8080</td>\n",
       "      <td>1.00</td>\n",
       "      <td>NO</td>\n",
       "      <td>NONE</td>\n",
       "      <td>Average</td>\n",
       "      <td>8 Good</td>\n",
       "      <td>1680</td>\n",
       "      <td>0.0</td>\n",
       "      <td>1987</td>\n",
       "      <td>0.00</td>\n",
       "      <td>98074</td>\n",
       "      <td>47.62</td>\n",
       "      <td>-122.05</td>\n",
       "      <td>1800</td>\n",
       "      <td>7503</td>\n",
       "    </tr>\n",
       "  </tbody>\n",
       "</table>\n",
       "</div>"
      ],
      "text/plain": [
       "           id        date     price  bedrooms  bathrooms  sqft_living  \\\n",
       "0  7129300520  10/13/2014 221900.00         3       1.00         1180   \n",
       "1  6414100192   12/9/2014 538000.00         3       2.25         2570   \n",
       "2  5631500400   2/25/2015 180000.00         2       1.00          770   \n",
       "3  2487200875   12/9/2014 604000.00         4       3.00         1960   \n",
       "4  1954400510   2/18/2015 510000.00         3       2.00         1680   \n",
       "\n",
       "   sqft_lot  floors waterfront  view  condition          grade  sqft_above  \\\n",
       "0      5650    1.00        NaN  NONE    Average      7 Average        1180   \n",
       "1      7242    2.00         NO  NONE    Average      7 Average        2170   \n",
       "2     10000    1.00         NO  NONE    Average  6 Low Average         770   \n",
       "3      5000    1.00         NO  NONE  Very Good      7 Average        1050   \n",
       "4      8080    1.00         NO  NONE    Average         8 Good        1680   \n",
       "\n",
       "  sqft_basement  yr_built  yr_renovated  zipcode   lat    long  sqft_living15  \\\n",
       "0           0.0      1955          0.00    98178 47.51 -122.26           1340   \n",
       "1         400.0      1951       1991.00    98125 47.72 -122.32           1690   \n",
       "2           0.0      1933           nan    98028 47.74 -122.23           2720   \n",
       "3         910.0      1965          0.00    98136 47.52 -122.39           1360   \n",
       "4           0.0      1987          0.00    98074 47.62 -122.05           1800   \n",
       "\n",
       "   sqft_lot15  \n",
       "0        5650  \n",
       "1        7639  \n",
       "2        8062  \n",
       "3        5000  \n",
       "4        7503  "
      ]
     },
     "execution_count": 3,
     "metadata": {},
     "output_type": "execute_result"
    }
   ],
   "source": [
    "df.head()"
   ]
  },
  {
   "cell_type": "code",
   "execution_count": 4,
   "metadata": {},
   "outputs": [
    {
     "name": "stdout",
     "output_type": "stream",
     "text": [
      "<class 'pandas.core.frame.DataFrame'>\n",
      "RangeIndex: 21597 entries, 0 to 21596\n",
      "Data columns (total 21 columns):\n",
      " #   Column         Non-Null Count  Dtype  \n",
      "---  ------         --------------  -----  \n",
      " 0   id             21597 non-null  int64  \n",
      " 1   date           21597 non-null  object \n",
      " 2   price          21597 non-null  float64\n",
      " 3   bedrooms       21597 non-null  int64  \n",
      " 4   bathrooms      21597 non-null  float64\n",
      " 5   sqft_living    21597 non-null  int64  \n",
      " 6   sqft_lot       21597 non-null  int64  \n",
      " 7   floors         21597 non-null  float64\n",
      " 8   waterfront     19221 non-null  object \n",
      " 9   view           21534 non-null  object \n",
      " 10  condition      21597 non-null  object \n",
      " 11  grade          21597 non-null  object \n",
      " 12  sqft_above     21597 non-null  int64  \n",
      " 13  sqft_basement  21597 non-null  object \n",
      " 14  yr_built       21597 non-null  int64  \n",
      " 15  yr_renovated   17755 non-null  float64\n",
      " 16  zipcode        21597 non-null  int64  \n",
      " 17  lat            21597 non-null  float64\n",
      " 18  long           21597 non-null  float64\n",
      " 19  sqft_living15  21597 non-null  int64  \n",
      " 20  sqft_lot15     21597 non-null  int64  \n",
      "dtypes: float64(6), int64(9), object(6)\n",
      "memory usage: 3.5+ MB\n"
     ]
    }
   ],
   "source": [
    "df.info()"
   ]
  },
  {
   "cell_type": "code",
   "execution_count": 5,
   "metadata": {},
   "outputs": [
    {
     "data": {
      "text/plain": [
       "Average      14020\n",
       "Good          5677\n",
       "Very Good     1701\n",
       "Fair           170\n",
       "Poor            29\n",
       "Name: condition, dtype: int64"
      ]
     },
     "execution_count": 5,
     "metadata": {},
     "output_type": "execute_result"
    }
   ],
   "source": [
    "df['condition'].value_counts()\n",
    "#difficult to make reccomendation base off of this since there's a lot of ways to define these terms\n",
    "#use grade which is a little less vague"
   ]
  },
  {
   "cell_type": "code",
   "execution_count": 6,
   "metadata": {},
   "outputs": [
    {
     "data": {
      "text/plain": [
       "0.00       17011\n",
       "2014.00       73\n",
       "2003.00       31\n",
       "2013.00       31\n",
       "2007.00       30\n",
       "           ...  \n",
       "1946.00        1\n",
       "1959.00        1\n",
       "1971.00        1\n",
       "1951.00        1\n",
       "1954.00        1\n",
       "Name: yr_renovated, Length: 70, dtype: int64"
      ]
     },
     "execution_count": 6,
     "metadata": {},
     "output_type": "execute_result"
    }
   ],
   "source": [
    "df['yr_renovated'].value_counts()\n",
    "#dropping columns base on the number of zeros\n",
    "#potentially compared the zeros to the those that have ben renovated to see if there is a significant difference"
   ]
  },
  {
   "cell_type": "code",
   "execution_count": 7,
   "metadata": {},
   "outputs": [],
   "source": [
    "#think that view might be important so we drop the nulls there for now\n",
    "df_copy = df.copy()\n",
    "df_copy['view'] = df_copy['view'].fillna(value = 'NO_RECORD')"
   ]
  },
  {
   "cell_type": "code",
   "execution_count": 8,
   "metadata": {},
   "outputs": [],
   "source": [
    "df_copy = df_copy.sort_values(by=['id', 'date'])\n",
    "df_copy = df_copy.drop_duplicates(subset=['id'], keep='last')"
   ]
  },
  {
   "cell_type": "code",
   "execution_count": 9,
   "metadata": {},
   "outputs": [],
   "source": [
    "numbers = df_copy.select_dtypes(np.number)"
   ]
  },
  {
   "cell_type": "code",
   "execution_count": 10,
   "metadata": {},
   "outputs": [],
   "source": [
    "df_2 = numbers.drop(['id', 'lat', 'long', 'zipcode'], axis = 1)"
   ]
  },
  {
   "cell_type": "code",
   "execution_count": 11,
   "metadata": {},
   "outputs": [],
   "source": [
    "#picture = sns.pairplot(numbers)"
   ]
  },
  {
   "cell_type": "code",
   "execution_count": 12,
   "metadata": {},
   "outputs": [],
   "source": [
    "#fig, ax = plt.subplots(figsize=(10,10))\n",
    "#heat = sns.heatmap(df_2.corr(), annot = True)\n",
    "#plt.savefig('heat.png',bbox = 'tight')"
   ]
  },
  {
   "cell_type": "code",
   "execution_count": 13,
   "metadata": {},
   "outputs": [],
   "source": [
    "#visually the price of average, fair and good look the about the same so we would need to run a significant test to see\n",
    "#excellent and none looks to be potentially significant\n",
    "#use of anova here to see and ad-hoc tests"
   ]
  },
  {
   "cell_type": "code",
   "execution_count": 14,
   "metadata": {},
   "outputs": [],
   "source": [
    "df_copy.yr_renovated.fillna(value = 0, inplace = True)\n",
    "#fill them with zero, might be mention in the next step to look at\n",
    "#for now we can drop "
   ]
  },
  {
   "cell_type": "code",
   "execution_count": 15,
   "metadata": {},
   "outputs": [],
   "source": [
    "#we have some of the houses appearing more than once so we are trying to drop\n",
    "#trial = copy_df.groupby(['id']).date.transform(max)\n",
    "#trial_cleaned = copy_df[copy_df.id == trial]"
   ]
  },
  {
   "cell_type": "code",
   "execution_count": 16,
   "metadata": {},
   "outputs": [
    {
     "name": "stdout",
     "output_type": "stream",
     "text": [
      "<class 'pandas.core.frame.DataFrame'>\n",
      "Int64Index: 21420 entries, 2494 to 15937\n",
      "Data columns (total 21 columns):\n",
      " #   Column         Non-Null Count  Dtype  \n",
      "---  ------         --------------  -----  \n",
      " 0   id             21420 non-null  int64  \n",
      " 1   date           21420 non-null  object \n",
      " 2   price          21420 non-null  float64\n",
      " 3   bedrooms       21420 non-null  int64  \n",
      " 4   bathrooms      21420 non-null  float64\n",
      " 5   sqft_living    21420 non-null  int64  \n",
      " 6   sqft_lot       21420 non-null  int64  \n",
      " 7   floors         21420 non-null  float64\n",
      " 8   waterfront     19070 non-null  object \n",
      " 9   view           21420 non-null  object \n",
      " 10  condition      21420 non-null  object \n",
      " 11  grade          21420 non-null  object \n",
      " 12  sqft_above     21420 non-null  int64  \n",
      " 13  sqft_basement  21420 non-null  object \n",
      " 14  yr_built       21420 non-null  int64  \n",
      " 15  yr_renovated   21420 non-null  float64\n",
      " 16  zipcode        21420 non-null  int64  \n",
      " 17  lat            21420 non-null  float64\n",
      " 18  long           21420 non-null  float64\n",
      " 19  sqft_living15  21420 non-null  int64  \n",
      " 20  sqft_lot15     21420 non-null  int64  \n",
      "dtypes: float64(6), int64(9), object(6)\n",
      "memory usage: 3.6+ MB\n"
     ]
    }
   ],
   "source": [
    "#making the categorical variable\n",
    "cate_column = df_copy[['grade', 'view']]\n",
    "\n",
    "df_copy.info()"
   ]
  },
  {
   "cell_type": "code",
   "execution_count": 17,
   "metadata": {},
   "outputs": [
    {
     "data": {
      "text/plain": [
       "<21420x15 sparse matrix of type '<class 'numpy.float64'>'\n",
       "\twith 40754 stored elements in Compressed Sparse Row format>"
      ]
     },
     "execution_count": 17,
     "metadata": {},
     "output_type": "execute_result"
    }
   ],
   "source": [
    "ohe = OneHotEncoder(drop='first')\n",
    "\n",
    "column_name = ['grade', 'view']\n",
    "features = cate_column.copy()\n",
    "\n",
    "features2 = features[column_name]\n",
    "\n",
    "cate_ohe = ohe.fit_transform(features2)\n",
    "\n",
    "cate_ohe"
   ]
  },
  {
   "cell_type": "code",
   "execution_count": 18,
   "metadata": {},
   "outputs": [],
   "source": [
    "name = ohe.get_feature_names()"
   ]
  },
  {
   "cell_type": "code",
   "execution_count": 19,
   "metadata": {},
   "outputs": [],
   "source": [
    "cate_parsed = pd.DataFrame(cate_ohe.todense(), columns = name)"
   ]
  },
  {
   "cell_type": "code",
   "execution_count": 20,
   "metadata": {},
   "outputs": [
    {
     "data": {
      "text/html": [
       "<div>\n",
       "<style scoped>\n",
       "    .dataframe tbody tr th:only-of-type {\n",
       "        vertical-align: middle;\n",
       "    }\n",
       "\n",
       "    .dataframe tbody tr th {\n",
       "        vertical-align: top;\n",
       "    }\n",
       "\n",
       "    .dataframe thead th {\n",
       "        text-align: right;\n",
       "    }\n",
       "</style>\n",
       "<table border=\"1\" class=\"dataframe\">\n",
       "  <thead>\n",
       "    <tr style=\"text-align: right;\">\n",
       "      <th></th>\n",
       "      <th>x0_11 Excellent</th>\n",
       "      <th>x0_12 Luxury</th>\n",
       "      <th>x0_13 Mansion</th>\n",
       "      <th>x0_3 Poor</th>\n",
       "      <th>x0_4 Low</th>\n",
       "      <th>x0_5 Fair</th>\n",
       "      <th>x0_6 Low Average</th>\n",
       "      <th>x0_7 Average</th>\n",
       "      <th>x0_8 Good</th>\n",
       "      <th>x0_9 Better</th>\n",
       "      <th>x1_EXCELLENT</th>\n",
       "      <th>x1_FAIR</th>\n",
       "      <th>x1_GOOD</th>\n",
       "      <th>x1_NONE</th>\n",
       "      <th>x1_NO_RECORD</th>\n",
       "    </tr>\n",
       "  </thead>\n",
       "  <tbody>\n",
       "    <tr>\n",
       "      <th>0</th>\n",
       "      <td>0.00</td>\n",
       "      <td>0.00</td>\n",
       "      <td>0.00</td>\n",
       "      <td>0.00</td>\n",
       "      <td>0.00</td>\n",
       "      <td>0.00</td>\n",
       "      <td>0.00</td>\n",
       "      <td>1.00</td>\n",
       "      <td>0.00</td>\n",
       "      <td>0.00</td>\n",
       "      <td>0.00</td>\n",
       "      <td>0.00</td>\n",
       "      <td>0.00</td>\n",
       "      <td>1.00</td>\n",
       "      <td>0.00</td>\n",
       "    </tr>\n",
       "    <tr>\n",
       "      <th>1</th>\n",
       "      <td>0.00</td>\n",
       "      <td>0.00</td>\n",
       "      <td>0.00</td>\n",
       "      <td>0.00</td>\n",
       "      <td>0.00</td>\n",
       "      <td>0.00</td>\n",
       "      <td>0.00</td>\n",
       "      <td>0.00</td>\n",
       "      <td>1.00</td>\n",
       "      <td>0.00</td>\n",
       "      <td>0.00</td>\n",
       "      <td>0.00</td>\n",
       "      <td>0.00</td>\n",
       "      <td>1.00</td>\n",
       "      <td>0.00</td>\n",
       "    </tr>\n",
       "    <tr>\n",
       "      <th>2</th>\n",
       "      <td>0.00</td>\n",
       "      <td>0.00</td>\n",
       "      <td>0.00</td>\n",
       "      <td>0.00</td>\n",
       "      <td>0.00</td>\n",
       "      <td>0.00</td>\n",
       "      <td>0.00</td>\n",
       "      <td>1.00</td>\n",
       "      <td>0.00</td>\n",
       "      <td>0.00</td>\n",
       "      <td>0.00</td>\n",
       "      <td>0.00</td>\n",
       "      <td>0.00</td>\n",
       "      <td>1.00</td>\n",
       "      <td>0.00</td>\n",
       "    </tr>\n",
       "    <tr>\n",
       "      <th>3</th>\n",
       "      <td>0.00</td>\n",
       "      <td>0.00</td>\n",
       "      <td>0.00</td>\n",
       "      <td>0.00</td>\n",
       "      <td>0.00</td>\n",
       "      <td>0.00</td>\n",
       "      <td>1.00</td>\n",
       "      <td>0.00</td>\n",
       "      <td>0.00</td>\n",
       "      <td>0.00</td>\n",
       "      <td>0.00</td>\n",
       "      <td>0.00</td>\n",
       "      <td>0.00</td>\n",
       "      <td>1.00</td>\n",
       "      <td>0.00</td>\n",
       "    </tr>\n",
       "    <tr>\n",
       "      <th>4</th>\n",
       "      <td>0.00</td>\n",
       "      <td>0.00</td>\n",
       "      <td>0.00</td>\n",
       "      <td>0.00</td>\n",
       "      <td>0.00</td>\n",
       "      <td>0.00</td>\n",
       "      <td>0.00</td>\n",
       "      <td>1.00</td>\n",
       "      <td>0.00</td>\n",
       "      <td>0.00</td>\n",
       "      <td>0.00</td>\n",
       "      <td>0.00</td>\n",
       "      <td>0.00</td>\n",
       "      <td>1.00</td>\n",
       "      <td>0.00</td>\n",
       "    </tr>\n",
       "    <tr>\n",
       "      <th>...</th>\n",
       "      <td>...</td>\n",
       "      <td>...</td>\n",
       "      <td>...</td>\n",
       "      <td>...</td>\n",
       "      <td>...</td>\n",
       "      <td>...</td>\n",
       "      <td>...</td>\n",
       "      <td>...</td>\n",
       "      <td>...</td>\n",
       "      <td>...</td>\n",
       "      <td>...</td>\n",
       "      <td>...</td>\n",
       "      <td>...</td>\n",
       "      <td>...</td>\n",
       "      <td>...</td>\n",
       "    </tr>\n",
       "    <tr>\n",
       "      <th>21415</th>\n",
       "      <td>0.00</td>\n",
       "      <td>0.00</td>\n",
       "      <td>0.00</td>\n",
       "      <td>0.00</td>\n",
       "      <td>0.00</td>\n",
       "      <td>0.00</td>\n",
       "      <td>0.00</td>\n",
       "      <td>1.00</td>\n",
       "      <td>0.00</td>\n",
       "      <td>0.00</td>\n",
       "      <td>0.00</td>\n",
       "      <td>0.00</td>\n",
       "      <td>0.00</td>\n",
       "      <td>1.00</td>\n",
       "      <td>0.00</td>\n",
       "    </tr>\n",
       "    <tr>\n",
       "      <th>21416</th>\n",
       "      <td>0.00</td>\n",
       "      <td>0.00</td>\n",
       "      <td>0.00</td>\n",
       "      <td>0.00</td>\n",
       "      <td>0.00</td>\n",
       "      <td>0.00</td>\n",
       "      <td>0.00</td>\n",
       "      <td>1.00</td>\n",
       "      <td>0.00</td>\n",
       "      <td>0.00</td>\n",
       "      <td>0.00</td>\n",
       "      <td>0.00</td>\n",
       "      <td>0.00</td>\n",
       "      <td>1.00</td>\n",
       "      <td>0.00</td>\n",
       "    </tr>\n",
       "    <tr>\n",
       "      <th>21417</th>\n",
       "      <td>0.00</td>\n",
       "      <td>0.00</td>\n",
       "      <td>0.00</td>\n",
       "      <td>0.00</td>\n",
       "      <td>0.00</td>\n",
       "      <td>0.00</td>\n",
       "      <td>0.00</td>\n",
       "      <td>1.00</td>\n",
       "      <td>0.00</td>\n",
       "      <td>0.00</td>\n",
       "      <td>0.00</td>\n",
       "      <td>0.00</td>\n",
       "      <td>0.00</td>\n",
       "      <td>1.00</td>\n",
       "      <td>0.00</td>\n",
       "    </tr>\n",
       "    <tr>\n",
       "      <th>21418</th>\n",
       "      <td>0.00</td>\n",
       "      <td>0.00</td>\n",
       "      <td>0.00</td>\n",
       "      <td>0.00</td>\n",
       "      <td>0.00</td>\n",
       "      <td>0.00</td>\n",
       "      <td>0.00</td>\n",
       "      <td>0.00</td>\n",
       "      <td>0.00</td>\n",
       "      <td>1.00</td>\n",
       "      <td>0.00</td>\n",
       "      <td>0.00</td>\n",
       "      <td>0.00</td>\n",
       "      <td>1.00</td>\n",
       "      <td>0.00</td>\n",
       "    </tr>\n",
       "    <tr>\n",
       "      <th>21419</th>\n",
       "      <td>0.00</td>\n",
       "      <td>0.00</td>\n",
       "      <td>0.00</td>\n",
       "      <td>0.00</td>\n",
       "      <td>0.00</td>\n",
       "      <td>0.00</td>\n",
       "      <td>1.00</td>\n",
       "      <td>0.00</td>\n",
       "      <td>0.00</td>\n",
       "      <td>0.00</td>\n",
       "      <td>0.00</td>\n",
       "      <td>0.00</td>\n",
       "      <td>0.00</td>\n",
       "      <td>1.00</td>\n",
       "      <td>0.00</td>\n",
       "    </tr>\n",
       "  </tbody>\n",
       "</table>\n",
       "<p>21420 rows × 15 columns</p>\n",
       "</div>"
      ],
      "text/plain": [
       "       x0_11 Excellent  x0_12 Luxury  x0_13 Mansion  x0_3 Poor  x0_4 Low  \\\n",
       "0                 0.00          0.00           0.00       0.00      0.00   \n",
       "1                 0.00          0.00           0.00       0.00      0.00   \n",
       "2                 0.00          0.00           0.00       0.00      0.00   \n",
       "3                 0.00          0.00           0.00       0.00      0.00   \n",
       "4                 0.00          0.00           0.00       0.00      0.00   \n",
       "...                ...           ...            ...        ...       ...   \n",
       "21415             0.00          0.00           0.00       0.00      0.00   \n",
       "21416             0.00          0.00           0.00       0.00      0.00   \n",
       "21417             0.00          0.00           0.00       0.00      0.00   \n",
       "21418             0.00          0.00           0.00       0.00      0.00   \n",
       "21419             0.00          0.00           0.00       0.00      0.00   \n",
       "\n",
       "       x0_5 Fair  x0_6 Low Average  x0_7 Average  x0_8 Good  x0_9 Better  \\\n",
       "0           0.00              0.00          1.00       0.00         0.00   \n",
       "1           0.00              0.00          0.00       1.00         0.00   \n",
       "2           0.00              0.00          1.00       0.00         0.00   \n",
       "3           0.00              1.00          0.00       0.00         0.00   \n",
       "4           0.00              0.00          1.00       0.00         0.00   \n",
       "...          ...               ...           ...        ...          ...   \n",
       "21415       0.00              0.00          1.00       0.00         0.00   \n",
       "21416       0.00              0.00          1.00       0.00         0.00   \n",
       "21417       0.00              0.00          1.00       0.00         0.00   \n",
       "21418       0.00              0.00          0.00       0.00         1.00   \n",
       "21419       0.00              1.00          0.00       0.00         0.00   \n",
       "\n",
       "       x1_EXCELLENT  x1_FAIR  x1_GOOD  x1_NONE  x1_NO_RECORD  \n",
       "0              0.00     0.00     0.00     1.00          0.00  \n",
       "1              0.00     0.00     0.00     1.00          0.00  \n",
       "2              0.00     0.00     0.00     1.00          0.00  \n",
       "3              0.00     0.00     0.00     1.00          0.00  \n",
       "4              0.00     0.00     0.00     1.00          0.00  \n",
       "...             ...      ...      ...      ...           ...  \n",
       "21415          0.00     0.00     0.00     1.00          0.00  \n",
       "21416          0.00     0.00     0.00     1.00          0.00  \n",
       "21417          0.00     0.00     0.00     1.00          0.00  \n",
       "21418          0.00     0.00     0.00     1.00          0.00  \n",
       "21419          0.00     0.00     0.00     1.00          0.00  \n",
       "\n",
       "[21420 rows x 15 columns]"
      ]
     },
     "execution_count": 20,
     "metadata": {},
     "output_type": "execute_result"
    }
   ],
   "source": [
    "cate_parsed\n",
    "#X0 = grade\n",
    "#x1 = view"
   ]
  },
  {
   "cell_type": "code",
   "execution_count": 21,
   "metadata": {},
   "outputs": [
    {
     "data": {
      "text/html": [
       "<div>\n",
       "<style scoped>\n",
       "    .dataframe tbody tr th:only-of-type {\n",
       "        vertical-align: middle;\n",
       "    }\n",
       "\n",
       "    .dataframe tbody tr th {\n",
       "        vertical-align: top;\n",
       "    }\n",
       "\n",
       "    .dataframe thead th {\n",
       "        text-align: right;\n",
       "    }\n",
       "</style>\n",
       "<table border=\"1\" class=\"dataframe\">\n",
       "  <thead>\n",
       "    <tr style=\"text-align: right;\">\n",
       "      <th></th>\n",
       "      <th>price</th>\n",
       "      <th>bedrooms</th>\n",
       "      <th>bathrooms</th>\n",
       "      <th>sqft_living</th>\n",
       "      <th>floors</th>\n",
       "      <th>sqft_above</th>\n",
       "      <th>sqft_living15</th>\n",
       "    </tr>\n",
       "  </thead>\n",
       "  <tbody>\n",
       "    <tr>\n",
       "      <th>2494</th>\n",
       "      <td>-0.71</td>\n",
       "      <td>2.84</td>\n",
       "      <td>1.15</td>\n",
       "      <td>0.34</td>\n",
       "      <td>0.93</td>\n",
       "      <td>0.73</td>\n",
       "      <td>2060</td>\n",
       "    </tr>\n",
       "    <tr>\n",
       "      <th>6729</th>\n",
       "      <td>0.29</td>\n",
       "      <td>0.68</td>\n",
       "      <td>-0.48</td>\n",
       "      <td>-0.03</td>\n",
       "      <td>-0.92</td>\n",
       "      <td>-0.76</td>\n",
       "      <td>2590</td>\n",
       "    </tr>\n",
       "    <tr>\n",
       "      <th>8404</th>\n",
       "      <td>-0.38</td>\n",
       "      <td>-0.40</td>\n",
       "      <td>-1.45</td>\n",
       "      <td>-0.68</td>\n",
       "      <td>-0.92</td>\n",
       "      <td>-0.40</td>\n",
       "      <td>2250</td>\n",
       "    </tr>\n",
       "    <tr>\n",
       "      <th>8800</th>\n",
       "      <td>-0.83</td>\n",
       "      <td>-0.40</td>\n",
       "      <td>-1.45</td>\n",
       "      <td>-0.71</td>\n",
       "      <td>0.01</td>\n",
       "      <td>-0.94</td>\n",
       "      <td>1290</td>\n",
       "    </tr>\n",
       "    <tr>\n",
       "      <th>3553</th>\n",
       "      <td>-0.38</td>\n",
       "      <td>0.68</td>\n",
       "      <td>-0.15</td>\n",
       "      <td>-0.47</td>\n",
       "      <td>-0.92</td>\n",
       "      <td>-1.24</td>\n",
       "      <td>1480</td>\n",
       "    </tr>\n",
       "    <tr>\n",
       "      <th>...</th>\n",
       "      <td>...</td>\n",
       "      <td>...</td>\n",
       "      <td>...</td>\n",
       "      <td>...</td>\n",
       "      <td>...</td>\n",
       "      <td>...</td>\n",
       "      <td>...</td>\n",
       "    </tr>\n",
       "    <tr>\n",
       "      <th>16723</th>\n",
       "      <td>-0.48</td>\n",
       "      <td>1.76</td>\n",
       "      <td>-0.15</td>\n",
       "      <td>-0.53</td>\n",
       "      <td>0.01</td>\n",
       "      <td>-0.23</td>\n",
       "      <td>1190</td>\n",
       "    </tr>\n",
       "    <tr>\n",
       "      <th>3257</th>\n",
       "      <td>-0.44</td>\n",
       "      <td>-1.48</td>\n",
       "      <td>-1.45</td>\n",
       "      <td>-1.14</td>\n",
       "      <td>-0.92</td>\n",
       "      <td>-1.15</td>\n",
       "      <td>1930</td>\n",
       "    </tr>\n",
       "    <tr>\n",
       "      <th>7614</th>\n",
       "      <td>-0.55</td>\n",
       "      <td>-0.40</td>\n",
       "      <td>-1.45</td>\n",
       "      <td>-1.07</td>\n",
       "      <td>-0.92</td>\n",
       "      <td>-1.29</td>\n",
       "      <td>1510</td>\n",
       "    </tr>\n",
       "    <tr>\n",
       "      <th>20963</th>\n",
       "      <td>-0.38</td>\n",
       "      <td>-1.48</td>\n",
       "      <td>-0.48</td>\n",
       "      <td>-0.73</td>\n",
       "      <td>0.01</td>\n",
       "      <td>-1.08</td>\n",
       "      <td>1440</td>\n",
       "    </tr>\n",
       "    <tr>\n",
       "      <th>15937</th>\n",
       "      <td>-0.74</td>\n",
       "      <td>-0.40</td>\n",
       "      <td>-1.45</td>\n",
       "      <td>-0.83</td>\n",
       "      <td>-0.92</td>\n",
       "      <td>-1.10</td>\n",
       "      <td>1000</td>\n",
       "    </tr>\n",
       "  </tbody>\n",
       "</table>\n",
       "<p>21420 rows × 7 columns</p>\n",
       "</div>"
      ],
      "text/plain": [
       "       price  bedrooms  bathrooms  sqft_living  floors  sqft_above  \\\n",
       "2494   -0.71      2.84       1.15         0.34    0.93        0.73   \n",
       "6729    0.29      0.68      -0.48        -0.03   -0.92       -0.76   \n",
       "8404   -0.38     -0.40      -1.45        -0.68   -0.92       -0.40   \n",
       "8800   -0.83     -0.40      -1.45        -0.71    0.01       -0.94   \n",
       "3553   -0.38      0.68      -0.15        -0.47   -0.92       -1.24   \n",
       "...      ...       ...        ...          ...     ...         ...   \n",
       "16723  -0.48      1.76      -0.15        -0.53    0.01       -0.23   \n",
       "3257   -0.44     -1.48      -1.45        -1.14   -0.92       -1.15   \n",
       "7614   -0.55     -0.40      -1.45        -1.07   -0.92       -1.29   \n",
       "20963  -0.38     -1.48      -0.48        -0.73    0.01       -1.08   \n",
       "15937  -0.74     -0.40      -1.45        -0.83   -0.92       -1.10   \n",
       "\n",
       "       sqft_living15  \n",
       "2494            2060  \n",
       "6729            2590  \n",
       "8404            2250  \n",
       "8800            1290  \n",
       "3553            1480  \n",
       "...              ...  \n",
       "16723           1190  \n",
       "3257            1930  \n",
       "7614            1510  \n",
       "20963           1440  \n",
       "15937           1000  \n",
       "\n",
       "[21420 rows x 7 columns]"
      ]
     },
     "execution_count": 21,
     "metadata": {},
     "output_type": "execute_result"
    }
   ],
   "source": [
    "#to potentially drop sqft_lot and sqft_lot15\n",
    "ss = StandardScaler()\n",
    "#scaled_ = ss.fit_transform(df_2)\n",
    "\n",
    "columns_name1 = ['price', 'bedrooms', 'bathrooms', 'sqft_living', 'floors', 'sqft_above']\n",
    "numbers_scaling = df_2.copy().drop(['yr_renovated','sqft_lot15', 'sqft_lot', 'yr_built'], axis = 1)\n",
    "\n",
    "features= numbers_scaling[columns_name1]\n",
    "\n",
    "scale1 = ss.fit(features)\n",
    "scale2 = scale1.transform(features)\n",
    "numbers_scaling[columns_name1] = scale2\n",
    "\n",
    "numbers_scaling"
   ]
  },
  {
   "cell_type": "code",
   "execution_count": 22,
   "metadata": {},
   "outputs": [],
   "source": [
    "scaled_and_parse_df = pd.concat([numbers_scaling, cate_parsed], axis = 1)"
   ]
  },
  {
   "cell_type": "code",
   "execution_count": 46,
   "metadata": {},
   "outputs": [],
   "source": [
    "scaled_and_parse_df.dropna(inplace=True)"
   ]
  },
  {
   "cell_type": "code",
   "execution_count": 47,
   "metadata": {},
   "outputs": [
    {
     "name": "stdout",
     "output_type": "stream",
     "text": [
      "<class 'pandas.core.frame.DataFrame'>\n",
      "Int64Index: 21420 entries, 2494 to 15937\n",
      "Data columns (total 7 columns):\n",
      " #   Column         Non-Null Count  Dtype  \n",
      "---  ------         --------------  -----  \n",
      " 0   price          21420 non-null  float64\n",
      " 1   bedrooms       21420 non-null  float64\n",
      " 2   bathrooms      21420 non-null  float64\n",
      " 3   sqft_living    21420 non-null  float64\n",
      " 4   floors         21420 non-null  float64\n",
      " 5   sqft_above     21420 non-null  float64\n",
      " 6   sqft_living15  21420 non-null  int64  \n",
      "dtypes: float64(6), int64(1)\n",
      "memory usage: 1.9 MB\n"
     ]
    }
   ],
   "source": [
    "numbers_scaling.info()"
   ]
  },
  {
   "cell_type": "code",
   "execution_count": 48,
   "metadata": {},
   "outputs": [
    {
     "name": "stdout",
     "output_type": "stream",
     "text": [
      "<class 'pandas.core.frame.DataFrame'>\n",
      "RangeIndex: 21420 entries, 0 to 21419\n",
      "Data columns (total 15 columns):\n",
      " #   Column            Non-Null Count  Dtype  \n",
      "---  ------            --------------  -----  \n",
      " 0   x0_11 Excellent   21420 non-null  float64\n",
      " 1   x0_12 Luxury      21420 non-null  float64\n",
      " 2   x0_13 Mansion     21420 non-null  float64\n",
      " 3   x0_3 Poor         21420 non-null  float64\n",
      " 4   x0_4 Low          21420 non-null  float64\n",
      " 5   x0_5 Fair         21420 non-null  float64\n",
      " 6   x0_6 Low Average  21420 non-null  float64\n",
      " 7   x0_7 Average      21420 non-null  float64\n",
      " 8   x0_8 Good         21420 non-null  float64\n",
      " 9   x0_9 Better       21420 non-null  float64\n",
      " 10  x1_EXCELLENT      21420 non-null  float64\n",
      " 11  x1_FAIR           21420 non-null  float64\n",
      " 12  x1_GOOD           21420 non-null  float64\n",
      " 13  x1_NONE           21420 non-null  float64\n",
      " 14  x1_NO_RECORD      21420 non-null  float64\n",
      "dtypes: float64(15)\n",
      "memory usage: 2.5 MB\n"
     ]
    }
   ],
   "source": [
    "cate_parsed.info()"
   ]
  },
  {
   "cell_type": "code",
   "execution_count": 49,
   "metadata": {},
   "outputs": [
    {
     "data": {
      "text/html": [
       "<div>\n",
       "<style scoped>\n",
       "    .dataframe tbody tr th:only-of-type {\n",
       "        vertical-align: middle;\n",
       "    }\n",
       "\n",
       "    .dataframe tbody tr th {\n",
       "        vertical-align: top;\n",
       "    }\n",
       "\n",
       "    .dataframe thead th {\n",
       "        text-align: right;\n",
       "    }\n",
       "</style>\n",
       "<table border=\"1\" class=\"dataframe\">\n",
       "  <thead>\n",
       "    <tr style=\"text-align: right;\">\n",
       "      <th></th>\n",
       "      <th>price</th>\n",
       "      <th>bedrooms</th>\n",
       "      <th>bathrooms</th>\n",
       "      <th>sqft_living</th>\n",
       "      <th>floors</th>\n",
       "      <th>sqft_above</th>\n",
       "      <th>sqft_living15</th>\n",
       "      <th>x0_11 Excellent</th>\n",
       "      <th>x0_12 Luxury</th>\n",
       "      <th>x0_13 Mansion</th>\n",
       "      <th>x0_3 Poor</th>\n",
       "      <th>x0_4 Low</th>\n",
       "      <th>x0_5 Fair</th>\n",
       "      <th>x0_6 Low Average</th>\n",
       "      <th>x0_7 Average</th>\n",
       "      <th>x0_8 Good</th>\n",
       "      <th>x0_9 Better</th>\n",
       "      <th>x1_EXCELLENT</th>\n",
       "      <th>x1_FAIR</th>\n",
       "      <th>x1_GOOD</th>\n",
       "      <th>x1_NONE</th>\n",
       "      <th>x1_NO_RECORD</th>\n",
       "    </tr>\n",
       "  </thead>\n",
       "  <tbody>\n",
       "    <tr>\n",
       "      <th>0</th>\n",
       "      <td>-0.87</td>\n",
       "      <td>-0.40</td>\n",
       "      <td>-1.45</td>\n",
       "      <td>-0.98</td>\n",
       "      <td>-0.92</td>\n",
       "      <td>-0.74</td>\n",
       "      <td>1340.00</td>\n",
       "      <td>0.00</td>\n",
       "      <td>0.00</td>\n",
       "      <td>0.00</td>\n",
       "      <td>0.00</td>\n",
       "      <td>0.00</td>\n",
       "      <td>0.00</td>\n",
       "      <td>0.00</td>\n",
       "      <td>1.00</td>\n",
       "      <td>0.00</td>\n",
       "      <td>0.00</td>\n",
       "      <td>0.00</td>\n",
       "      <td>0.00</td>\n",
       "      <td>0.00</td>\n",
       "      <td>1.00</td>\n",
       "      <td>0.00</td>\n",
       "    </tr>\n",
       "    <tr>\n",
       "      <th>1</th>\n",
       "      <td>-0.01</td>\n",
       "      <td>-0.40</td>\n",
       "      <td>0.17</td>\n",
       "      <td>0.53</td>\n",
       "      <td>0.93</td>\n",
       "      <td>0.46</td>\n",
       "      <td>1690.00</td>\n",
       "      <td>0.00</td>\n",
       "      <td>0.00</td>\n",
       "      <td>0.00</td>\n",
       "      <td>0.00</td>\n",
       "      <td>0.00</td>\n",
       "      <td>0.00</td>\n",
       "      <td>0.00</td>\n",
       "      <td>0.00</td>\n",
       "      <td>1.00</td>\n",
       "      <td>0.00</td>\n",
       "      <td>0.00</td>\n",
       "      <td>0.00</td>\n",
       "      <td>0.00</td>\n",
       "      <td>1.00</td>\n",
       "      <td>0.00</td>\n",
       "    </tr>\n",
       "    <tr>\n",
       "      <th>2</th>\n",
       "      <td>-0.98</td>\n",
       "      <td>-1.48</td>\n",
       "      <td>-1.45</td>\n",
       "      <td>-1.43</td>\n",
       "      <td>-0.92</td>\n",
       "      <td>-1.23</td>\n",
       "      <td>2720.00</td>\n",
       "      <td>0.00</td>\n",
       "      <td>0.00</td>\n",
       "      <td>0.00</td>\n",
       "      <td>0.00</td>\n",
       "      <td>0.00</td>\n",
       "      <td>0.00</td>\n",
       "      <td>0.00</td>\n",
       "      <td>1.00</td>\n",
       "      <td>0.00</td>\n",
       "      <td>0.00</td>\n",
       "      <td>0.00</td>\n",
       "      <td>0.00</td>\n",
       "      <td>0.00</td>\n",
       "      <td>1.00</td>\n",
       "      <td>0.00</td>\n",
       "    </tr>\n",
       "    <tr>\n",
       "      <th>3</th>\n",
       "      <td>0.17</td>\n",
       "      <td>0.68</td>\n",
       "      <td>1.15</td>\n",
       "      <td>-0.13</td>\n",
       "      <td>-0.92</td>\n",
       "      <td>-0.89</td>\n",
       "      <td>1360.00</td>\n",
       "      <td>0.00</td>\n",
       "      <td>0.00</td>\n",
       "      <td>0.00</td>\n",
       "      <td>0.00</td>\n",
       "      <td>0.00</td>\n",
       "      <td>0.00</td>\n",
       "      <td>1.00</td>\n",
       "      <td>0.00</td>\n",
       "      <td>0.00</td>\n",
       "      <td>0.00</td>\n",
       "      <td>0.00</td>\n",
       "      <td>0.00</td>\n",
       "      <td>0.00</td>\n",
       "      <td>1.00</td>\n",
       "      <td>0.00</td>\n",
       "    </tr>\n",
       "    <tr>\n",
       "      <th>4</th>\n",
       "      <td>-0.08</td>\n",
       "      <td>-0.40</td>\n",
       "      <td>-0.15</td>\n",
       "      <td>-0.44</td>\n",
       "      <td>-0.92</td>\n",
       "      <td>-0.13</td>\n",
       "      <td>1800.00</td>\n",
       "      <td>0.00</td>\n",
       "      <td>0.00</td>\n",
       "      <td>0.00</td>\n",
       "      <td>0.00</td>\n",
       "      <td>0.00</td>\n",
       "      <td>0.00</td>\n",
       "      <td>0.00</td>\n",
       "      <td>1.00</td>\n",
       "      <td>0.00</td>\n",
       "      <td>0.00</td>\n",
       "      <td>0.00</td>\n",
       "      <td>0.00</td>\n",
       "      <td>0.00</td>\n",
       "      <td>1.00</td>\n",
       "      <td>0.00</td>\n",
       "    </tr>\n",
       "    <tr>\n",
       "      <th>...</th>\n",
       "      <td>...</td>\n",
       "      <td>...</td>\n",
       "      <td>...</td>\n",
       "      <td>...</td>\n",
       "      <td>...</td>\n",
       "      <td>...</td>\n",
       "      <td>...</td>\n",
       "      <td>...</td>\n",
       "      <td>...</td>\n",
       "      <td>...</td>\n",
       "      <td>...</td>\n",
       "      <td>...</td>\n",
       "      <td>...</td>\n",
       "      <td>...</td>\n",
       "      <td>...</td>\n",
       "      <td>...</td>\n",
       "      <td>...</td>\n",
       "      <td>...</td>\n",
       "      <td>...</td>\n",
       "      <td>...</td>\n",
       "      <td>...</td>\n",
       "      <td>...</td>\n",
       "    </tr>\n",
       "    <tr>\n",
       "      <th>21415</th>\n",
       "      <td>0.70</td>\n",
       "      <td>0.68</td>\n",
       "      <td>1.47</td>\n",
       "      <td>1.59</td>\n",
       "      <td>0.93</td>\n",
       "      <td>2.11</td>\n",
       "      <td>1940.00</td>\n",
       "      <td>0.00</td>\n",
       "      <td>0.00</td>\n",
       "      <td>0.00</td>\n",
       "      <td>0.00</td>\n",
       "      <td>0.00</td>\n",
       "      <td>0.00</td>\n",
       "      <td>0.00</td>\n",
       "      <td>1.00</td>\n",
       "      <td>0.00</td>\n",
       "      <td>0.00</td>\n",
       "      <td>0.00</td>\n",
       "      <td>0.00</td>\n",
       "      <td>0.00</td>\n",
       "      <td>1.00</td>\n",
       "      <td>0.00</td>\n",
       "    </tr>\n",
       "    <tr>\n",
       "      <th>21416</th>\n",
       "      <td>0.97</td>\n",
       "      <td>0.68</td>\n",
       "      <td>1.80</td>\n",
       "      <td>0.44</td>\n",
       "      <td>0.93</td>\n",
       "      <td>-0.01</td>\n",
       "      <td>1710.00</td>\n",
       "      <td>0.00</td>\n",
       "      <td>0.00</td>\n",
       "      <td>0.00</td>\n",
       "      <td>0.00</td>\n",
       "      <td>0.00</td>\n",
       "      <td>0.00</td>\n",
       "      <td>0.00</td>\n",
       "      <td>1.00</td>\n",
       "      <td>0.00</td>\n",
       "      <td>0.00</td>\n",
       "      <td>0.00</td>\n",
       "      <td>0.00</td>\n",
       "      <td>0.00</td>\n",
       "      <td>1.00</td>\n",
       "      <td>0.00</td>\n",
       "    </tr>\n",
       "    <tr>\n",
       "      <th>21417</th>\n",
       "      <td>-0.20</td>\n",
       "      <td>-0.40</td>\n",
       "      <td>0.50</td>\n",
       "      <td>0.64</td>\n",
       "      <td>0.93</td>\n",
       "      <td>1.06</td>\n",
       "      <td>3040.00</td>\n",
       "      <td>0.00</td>\n",
       "      <td>0.00</td>\n",
       "      <td>0.00</td>\n",
       "      <td>0.00</td>\n",
       "      <td>0.00</td>\n",
       "      <td>0.00</td>\n",
       "      <td>0.00</td>\n",
       "      <td>1.00</td>\n",
       "      <td>0.00</td>\n",
       "      <td>0.00</td>\n",
       "      <td>0.00</td>\n",
       "      <td>0.00</td>\n",
       "      <td>0.00</td>\n",
       "      <td>1.00</td>\n",
       "      <td>0.00</td>\n",
       "    </tr>\n",
       "    <tr>\n",
       "      <th>21418</th>\n",
       "      <td>-0.15</td>\n",
       "      <td>-1.48</td>\n",
       "      <td>0.50</td>\n",
       "      <td>-0.71</td>\n",
       "      <td>2.78</td>\n",
       "      <td>-0.46</td>\n",
       "      <td>1620.00</td>\n",
       "      <td>0.00</td>\n",
       "      <td>0.00</td>\n",
       "      <td>0.00</td>\n",
       "      <td>0.00</td>\n",
       "      <td>0.00</td>\n",
       "      <td>0.00</td>\n",
       "      <td>0.00</td>\n",
       "      <td>0.00</td>\n",
       "      <td>0.00</td>\n",
       "      <td>1.00</td>\n",
       "      <td>0.00</td>\n",
       "      <td>0.00</td>\n",
       "      <td>0.00</td>\n",
       "      <td>1.00</td>\n",
       "      <td>0.00</td>\n",
       "    </tr>\n",
       "    <tr>\n",
       "      <th>21419</th>\n",
       "      <td>-0.13</td>\n",
       "      <td>1.76</td>\n",
       "      <td>0.82</td>\n",
       "      <td>0.64</td>\n",
       "      <td>0.93</td>\n",
       "      <td>1.06</td>\n",
       "      <td>2670.00</td>\n",
       "      <td>0.00</td>\n",
       "      <td>0.00</td>\n",
       "      <td>0.00</td>\n",
       "      <td>0.00</td>\n",
       "      <td>0.00</td>\n",
       "      <td>0.00</td>\n",
       "      <td>1.00</td>\n",
       "      <td>0.00</td>\n",
       "      <td>0.00</td>\n",
       "      <td>0.00</td>\n",
       "      <td>0.00</td>\n",
       "      <td>0.00</td>\n",
       "      <td>0.00</td>\n",
       "      <td>1.00</td>\n",
       "      <td>0.00</td>\n",
       "    </tr>\n",
       "  </tbody>\n",
       "</table>\n",
       "<p>21244 rows × 22 columns</p>\n",
       "</div>"
      ],
      "text/plain": [
       "       price  bedrooms  bathrooms  sqft_living  floors  sqft_above  \\\n",
       "0      -0.87     -0.40      -1.45        -0.98   -0.92       -0.74   \n",
       "1      -0.01     -0.40       0.17         0.53    0.93        0.46   \n",
       "2      -0.98     -1.48      -1.45        -1.43   -0.92       -1.23   \n",
       "3       0.17      0.68       1.15        -0.13   -0.92       -0.89   \n",
       "4      -0.08     -0.40      -0.15        -0.44   -0.92       -0.13   \n",
       "...      ...       ...        ...          ...     ...         ...   \n",
       "21415   0.70      0.68       1.47         1.59    0.93        2.11   \n",
       "21416   0.97      0.68       1.80         0.44    0.93       -0.01   \n",
       "21417  -0.20     -0.40       0.50         0.64    0.93        1.06   \n",
       "21418  -0.15     -1.48       0.50        -0.71    2.78       -0.46   \n",
       "21419  -0.13      1.76       0.82         0.64    0.93        1.06   \n",
       "\n",
       "       sqft_living15  x0_11 Excellent  x0_12 Luxury  x0_13 Mansion  x0_3 Poor  \\\n",
       "0            1340.00             0.00          0.00           0.00       0.00   \n",
       "1            1690.00             0.00          0.00           0.00       0.00   \n",
       "2            2720.00             0.00          0.00           0.00       0.00   \n",
       "3            1360.00             0.00          0.00           0.00       0.00   \n",
       "4            1800.00             0.00          0.00           0.00       0.00   \n",
       "...              ...              ...           ...            ...        ...   \n",
       "21415        1940.00             0.00          0.00           0.00       0.00   \n",
       "21416        1710.00             0.00          0.00           0.00       0.00   \n",
       "21417        3040.00             0.00          0.00           0.00       0.00   \n",
       "21418        1620.00             0.00          0.00           0.00       0.00   \n",
       "21419        2670.00             0.00          0.00           0.00       0.00   \n",
       "\n",
       "       x0_4 Low  x0_5 Fair  x0_6 Low Average  x0_7 Average  x0_8 Good  \\\n",
       "0          0.00       0.00              0.00          1.00       0.00   \n",
       "1          0.00       0.00              0.00          0.00       1.00   \n",
       "2          0.00       0.00              0.00          1.00       0.00   \n",
       "3          0.00       0.00              1.00          0.00       0.00   \n",
       "4          0.00       0.00              0.00          1.00       0.00   \n",
       "...         ...        ...               ...           ...        ...   \n",
       "21415      0.00       0.00              0.00          1.00       0.00   \n",
       "21416      0.00       0.00              0.00          1.00       0.00   \n",
       "21417      0.00       0.00              0.00          1.00       0.00   \n",
       "21418      0.00       0.00              0.00          0.00       0.00   \n",
       "21419      0.00       0.00              1.00          0.00       0.00   \n",
       "\n",
       "       x0_9 Better  x1_EXCELLENT  x1_FAIR  x1_GOOD  x1_NONE  x1_NO_RECORD  \n",
       "0             0.00          0.00     0.00     0.00     1.00          0.00  \n",
       "1             0.00          0.00     0.00     0.00     1.00          0.00  \n",
       "2             0.00          0.00     0.00     0.00     1.00          0.00  \n",
       "3             0.00          0.00     0.00     0.00     1.00          0.00  \n",
       "4             0.00          0.00     0.00     0.00     1.00          0.00  \n",
       "...            ...           ...      ...      ...      ...           ...  \n",
       "21415         0.00          0.00     0.00     0.00     1.00          0.00  \n",
       "21416         0.00          0.00     0.00     0.00     1.00          0.00  \n",
       "21417         0.00          0.00     0.00     0.00     1.00          0.00  \n",
       "21418         1.00          0.00     0.00     0.00     1.00          0.00  \n",
       "21419         0.00          0.00     0.00     0.00     1.00          0.00  \n",
       "\n",
       "[21244 rows x 22 columns]"
      ]
     },
     "execution_count": 49,
     "metadata": {},
     "output_type": "execute_result"
    }
   ],
   "source": [
    "#for our regression and simple linear model\n",
    "scaled_and_parse_df"
   ]
  },
  {
   "cell_type": "code",
   "execution_count": 50,
   "metadata": {},
   "outputs": [
    {
     "name": "stdout",
     "output_type": "stream",
     "text": [
      "<class 'pandas.core.frame.DataFrame'>\n",
      "Int64Index: 21244 entries, 0 to 21419\n",
      "Data columns (total 22 columns):\n",
      " #   Column            Non-Null Count  Dtype  \n",
      "---  ------            --------------  -----  \n",
      " 0   price             21244 non-null  float64\n",
      " 1   bedrooms          21244 non-null  float64\n",
      " 2   bathrooms         21244 non-null  float64\n",
      " 3   sqft_living       21244 non-null  float64\n",
      " 4   floors            21244 non-null  float64\n",
      " 5   sqft_above        21244 non-null  float64\n",
      " 6   sqft_living15     21244 non-null  float64\n",
      " 7   x0_11 Excellent   21244 non-null  float64\n",
      " 8   x0_12 Luxury      21244 non-null  float64\n",
      " 9   x0_13 Mansion     21244 non-null  float64\n",
      " 10  x0_3 Poor         21244 non-null  float64\n",
      " 11  x0_4 Low          21244 non-null  float64\n",
      " 12  x0_5 Fair         21244 non-null  float64\n",
      " 13  x0_6 Low Average  21244 non-null  float64\n",
      " 14  x0_7 Average      21244 non-null  float64\n",
      " 15  x0_8 Good         21244 non-null  float64\n",
      " 16  x0_9 Better       21244 non-null  float64\n",
      " 17  x1_EXCELLENT      21244 non-null  float64\n",
      " 18  x1_FAIR           21244 non-null  float64\n",
      " 19  x1_GOOD           21244 non-null  float64\n",
      " 20  x1_NONE           21244 non-null  float64\n",
      " 21  x1_NO_RECORD      21244 non-null  float64\n",
      "dtypes: float64(22)\n",
      "memory usage: 3.7 MB\n"
     ]
    }
   ],
   "source": [
    "scaled_and_parse_df.info()"
   ]
  },
  {
   "cell_type": "code",
   "execution_count": 51,
   "metadata": {
    "scrolled": true
   },
   "outputs": [
    {
     "data": {
      "text/plain": [
       "0"
      ]
     },
     "execution_count": 51,
     "metadata": {},
     "output_type": "execute_result"
    }
   ],
   "source": [
    "#check for nulls, so clean to work with for regression\n",
    "scaled_and_parse_df.isnull().sum().sum()"
   ]
  },
  {
   "cell_type": "code",
   "execution_count": 52,
   "metadata": {},
   "outputs": [
    {
     "data": {
      "text/html": [
       "<table class=\"simpletable\">\n",
       "<caption>OLS Regression Results</caption>\n",
       "<tr>\n",
       "  <th>Dep. Variable:</th>          <td>price</td>      <th>  R-squared:         </th> <td>   0.491</td> \n",
       "</tr>\n",
       "<tr>\n",
       "  <th>Model:</th>                   <td>OLS</td>       <th>  Adj. R-squared:    </th> <td>   0.491</td> \n",
       "</tr>\n",
       "<tr>\n",
       "  <th>Method:</th>             <td>Least Squares</td>  <th>  F-statistic:       </th> <td>2.047e+04</td>\n",
       "</tr>\n",
       "<tr>\n",
       "  <th>Date:</th>             <td>Fri, 25 Mar 2022</td> <th>  Prob (F-statistic):</th>  <td>  0.00</td>  \n",
       "</tr>\n",
       "<tr>\n",
       "  <th>Time:</th>                 <td>16:24:05</td>     <th>  Log-Likelihood:    </th> <td> -22908.</td> \n",
       "</tr>\n",
       "<tr>\n",
       "  <th>No. Observations:</th>      <td> 21244</td>      <th>  AIC:               </th> <td>4.582e+04</td>\n",
       "</tr>\n",
       "<tr>\n",
       "  <th>Df Residuals:</th>          <td> 21242</td>      <th>  BIC:               </th> <td>4.584e+04</td>\n",
       "</tr>\n",
       "<tr>\n",
       "  <th>Df Model:</th>              <td>     1</td>      <th>                     </th>     <td> </td>    \n",
       "</tr>\n",
       "<tr>\n",
       "  <th>Covariance Type:</th>      <td>nonrobust</td>    <th>                     </th>     <td> </td>    \n",
       "</tr>\n",
       "</table>\n",
       "<table class=\"simpletable\">\n",
       "<tr>\n",
       "       <td></td>          <th>coef</th>     <th>std err</th>      <th>t</th>      <th>P>|t|</th>  <th>[0.025</th>    <th>0.975]</th>  \n",
       "</tr>\n",
       "<tr>\n",
       "  <th>Intercept</th>   <td>   -0.0008</td> <td>    0.005</td> <td>   -0.166</td> <td> 0.868</td> <td>   -0.010</td> <td>    0.009</td>\n",
       "</tr>\n",
       "<tr>\n",
       "  <th>sqft_living</th> <td>    0.7003</td> <td>    0.005</td> <td>  143.063</td> <td> 0.000</td> <td>    0.691</td> <td>    0.710</td>\n",
       "</tr>\n",
       "</table>\n",
       "<table class=\"simpletable\">\n",
       "<tr>\n",
       "  <th>Omnibus:</th>       <td>14604.999</td> <th>  Durbin-Watson:     </th>  <td>   1.989</td> \n",
       "</tr>\n",
       "<tr>\n",
       "  <th>Prob(Omnibus):</th>  <td> 0.000</td>   <th>  Jarque-Bera (JB):  </th> <td>542091.201</td>\n",
       "</tr>\n",
       "<tr>\n",
       "  <th>Skew:</th>           <td> 2.828</td>   <th>  Prob(JB):          </th>  <td>    0.00</td> \n",
       "</tr>\n",
       "<tr>\n",
       "  <th>Kurtosis:</th>       <td>27.092</td>   <th>  Cond. No.          </th>  <td>    1.00</td> \n",
       "</tr>\n",
       "</table><br/><br/>Notes:<br/>[1] Standard Errors assume that the covariance matrix of the errors is correctly specified."
      ],
      "text/plain": [
       "<class 'statsmodels.iolib.summary.Summary'>\n",
       "\"\"\"\n",
       "                            OLS Regression Results                            \n",
       "==============================================================================\n",
       "Dep. Variable:                  price   R-squared:                       0.491\n",
       "Model:                            OLS   Adj. R-squared:                  0.491\n",
       "Method:                 Least Squares   F-statistic:                 2.047e+04\n",
       "Date:                Fri, 25 Mar 2022   Prob (F-statistic):               0.00\n",
       "Time:                        16:24:05   Log-Likelihood:                -22908.\n",
       "No. Observations:               21244   AIC:                         4.582e+04\n",
       "Df Residuals:                   21242   BIC:                         4.584e+04\n",
       "Df Model:                           1                                         \n",
       "Covariance Type:            nonrobust                                         \n",
       "===============================================================================\n",
       "                  coef    std err          t      P>|t|      [0.025      0.975]\n",
       "-------------------------------------------------------------------------------\n",
       "Intercept      -0.0008      0.005     -0.166      0.868      -0.010       0.009\n",
       "sqft_living     0.7003      0.005    143.063      0.000       0.691       0.710\n",
       "==============================================================================\n",
       "Omnibus:                    14604.999   Durbin-Watson:                   1.989\n",
       "Prob(Omnibus):                  0.000   Jarque-Bera (JB):           542091.201\n",
       "Skew:                           2.828   Prob(JB):                         0.00\n",
       "Kurtosis:                      27.092   Cond. No.                         1.00\n",
       "==============================================================================\n",
       "\n",
       "Notes:\n",
       "[1] Standard Errors assume that the covariance matrix of the errors is correctly specified.\n",
       "\"\"\""
      ]
     },
     "execution_count": 52,
     "metadata": {},
     "output_type": "execute_result"
    }
   ],
   "source": [
    "# Creating a straightforward, initial model --\n",
    "# just for kicks\n",
    "simple_formula = 'price ~ sqft_living'\n",
    "simple_model = ols(formula = simple_formula,\n",
    "                   data = scaled_and_parse_df).fit()\n",
    "simple_mod_summ = simple_model.summary()\n",
    "\n",
    "simple_mod_summ"
   ]
  },
  {
   "cell_type": "code",
   "execution_count": 53,
   "metadata": {},
   "outputs": [],
   "source": [
    "# The simple regression model for price and sqft_living has an R-squared value of .49, suggesting our model\n",
    "# only accounts for 50% of the variation in our data.\n",
    "\n",
    "# Our p_value for sqft_living is 0.00 would suggest we have a statistically significant relationship to price "
   ]
  },
  {
   "cell_type": "code",
   "execution_count": 54,
   "metadata": {},
   "outputs": [
    {
     "data": {
      "image/png": "[encoded data removed]",
      "text/plain": [
       "<Figure size 432x288 with 1 Axes>"
      ]
     },
     "metadata": {
      "needs_background": "light"
     },
     "output_type": "display_data"
    }
   ],
   "source": [
    "fig, ax = plt.subplots()\n",
    "\n",
    "x = scaled_and_parse_df['sqft_living']\n",
    "y = scaled_and_parse_df['price']\n",
    "\n",
    "\n",
    "ax.scatter(x, y);"
   ]
  },
  {
   "cell_type": "code",
   "execution_count": 55,
   "metadata": {},
   "outputs": [
    {
     "data": {
      "text/plain": [
       "array([[1.       , 0.7019173],\n",
       "       [0.7019173, 1.       ]])"
      ]
     },
     "execution_count": 55,
     "metadata": {},
     "output_type": "execute_result"
    }
   ],
   "source": [
    "np.corrcoef(df['sqft_living'],df['price'])"
   ]
  },
  {
   "cell_type": "code",
   "execution_count": 56,
   "metadata": {},
   "outputs": [],
   "source": [
    "# passing our first assumption\n",
    "# Based on our scatterplot, we can see that there is a strong correlation between sqft_living and price\n",
    "# our pearson correlation coefficiant of .70 suggests that these two variables are strongly correlated "
   ]
  },
  {
   "cell_type": "code",
   "execution_count": 57,
   "metadata": {},
   "outputs": [
    {
     "data": {
      "text/plain": [
       "0.7019173021377595"
      ]
     },
     "execution_count": 57,
     "metadata": {},
     "output_type": "execute_result"
    }
   ],
   "source": [
    "df.price.corr(df['sqft_living'])"
   ]
  },
  {
   "cell_type": "code",
   "execution_count": 58,
   "metadata": {},
   "outputs": [],
   "source": [
    "## Refer to the heatmap above to multicollinearity "
   ]
  },
  {
   "cell_type": "code",
   "execution_count": 59,
   "metadata": {},
   "outputs": [
    {
     "data": {
      "text/html": [
       "<table class=\"simpletable\">\n",
       "<caption>OLS Regression Results</caption>\n",
       "<tr>\n",
       "  <th>Dep. Variable:</th>          <td>price</td>      <th>  R-squared:         </th> <td>   0.505</td> \n",
       "</tr>\n",
       "<tr>\n",
       "  <th>Model:</th>                   <td>OLS</td>       <th>  Adj. R-squared:    </th> <td>   0.505</td> \n",
       "</tr>\n",
       "<tr>\n",
       "  <th>Method:</th>             <td>Least Squares</td>  <th>  F-statistic:       </th> <td>   2407.</td> \n",
       "</tr>\n",
       "<tr>\n",
       "  <th>Date:</th>             <td>Fri, 25 Mar 2022</td> <th>  Prob (F-statistic):</th>  <td>  0.00</td>  \n",
       "</tr>\n",
       "<tr>\n",
       "  <th>Time:</th>                 <td>16:24:05</td>     <th>  Log-Likelihood:    </th> <td> -22605.</td> \n",
       "</tr>\n",
       "<tr>\n",
       "  <th>No. Observations:</th>      <td> 21244</td>      <th>  AIC:               </th> <td>4.523e+04</td>\n",
       "</tr>\n",
       "<tr>\n",
       "  <th>Df Residuals:</th>          <td> 21234</td>      <th>  BIC:               </th> <td>4.531e+04</td>\n",
       "</tr>\n",
       "<tr>\n",
       "  <th>Df Model:</th>              <td>     9</td>      <th>                     </th>     <td> </td>    \n",
       "</tr>\n",
       "<tr>\n",
       "  <th>Covariance Type:</th>      <td>nonrobust</td>    <th>                     </th>     <td> </td>    \n",
       "</tr>\n",
       "</table>\n",
       "<table class=\"simpletable\">\n",
       "<tr>\n",
       "        <td></td>          <th>coef</th>     <th>std err</th>      <th>t</th>      <th>P>|t|</th>  <th>[0.025</th>    <th>0.975]</th>  \n",
       "</tr>\n",
       "<tr>\n",
       "  <th>Intercept</th>    <td>    0.0497</td> <td>    0.023</td> <td>    2.176</td> <td> 0.030</td> <td>    0.005</td> <td>    0.094</td>\n",
       "</tr>\n",
       "<tr>\n",
       "  <th>sqft_living</th>  <td>    0.7746</td> <td>    0.008</td> <td>   98.942</td> <td> 0.000</td> <td>    0.759</td> <td>    0.790</td>\n",
       "</tr>\n",
       "<tr>\n",
       "  <th>bedrooms</th>     <td>   -0.1464</td> <td>    0.006</td> <td>  -24.439</td> <td> 0.000</td> <td>   -0.158</td> <td>   -0.135</td>\n",
       "</tr>\n",
       "<tr>\n",
       "  <th>bathrooms</th>    <td>    0.0140</td> <td>    0.008</td> <td>    1.733</td> <td> 0.083</td> <td>   -0.002</td> <td>    0.030</td>\n",
       "</tr>\n",
       "<tr>\n",
       "  <th>floors</th>       <td>    0.0005</td> <td>    0.006</td> <td>    0.089</td> <td> 0.929</td> <td>   -0.011</td> <td>    0.012</td>\n",
       "</tr>\n",
       "<tr>\n",
       "  <th>x1_EXCELLENT</th> <td>   -0.0035</td> <td>    0.046</td> <td>   -0.076</td> <td> 0.939</td> <td>   -0.093</td> <td>    0.086</td>\n",
       "</tr>\n",
       "<tr>\n",
       "  <th>x1_FAIR</th>      <td>   -0.0903</td> <td>    0.045</td> <td>   -2.007</td> <td> 0.045</td> <td>   -0.178</td> <td>   -0.002</td>\n",
       "</tr>\n",
       "<tr>\n",
       "  <th>x1_GOOD</th>      <td>   -0.0234</td> <td>    0.039</td> <td>   -0.603</td> <td> 0.546</td> <td>   -0.099</td> <td>    0.053</td>\n",
       "</tr>\n",
       "<tr>\n",
       "  <th>x1_NO_RECORD</th> <td>   -0.0689</td> <td>    0.094</td> <td>   -0.732</td> <td> 0.464</td> <td>   -0.253</td> <td>    0.116</td>\n",
       "</tr>\n",
       "<tr>\n",
       "  <th>x1_NONE</th>      <td>   -0.0535</td> <td>    0.023</td> <td>   -2.286</td> <td> 0.022</td> <td>   -0.099</td> <td>   -0.008</td>\n",
       "</tr>\n",
       "</table>\n",
       "<table class=\"simpletable\">\n",
       "<tr>\n",
       "  <th>Omnibus:</th>       <td>14212.675</td> <th>  Durbin-Watson:     </th>  <td>   1.991</td> \n",
       "</tr>\n",
       "<tr>\n",
       "  <th>Prob(Omnibus):</th>  <td> 0.000</td>   <th>  Jarque-Bera (JB):  </th> <td>489334.358</td>\n",
       "</tr>\n",
       "<tr>\n",
       "  <th>Skew:</th>           <td> 2.739</td>   <th>  Prob(JB):          </th>  <td>    0.00</td> \n",
       "</tr>\n",
       "<tr>\n",
       "  <th>Kurtosis:</th>       <td>25.865</td>   <th>  Cond. No.          </th>  <td>    31.2</td> \n",
       "</tr>\n",
       "</table><br/><br/>Notes:<br/>[1] Standard Errors assume that the covariance matrix of the errors is correctly specified."
      ],
      "text/plain": [
       "<class 'statsmodels.iolib.summary.Summary'>\n",
       "\"\"\"\n",
       "                            OLS Regression Results                            \n",
       "==============================================================================\n",
       "Dep. Variable:                  price   R-squared:                       0.505\n",
       "Model:                            OLS   Adj. R-squared:                  0.505\n",
       "Method:                 Least Squares   F-statistic:                     2407.\n",
       "Date:                Fri, 25 Mar 2022   Prob (F-statistic):               0.00\n",
       "Time:                        16:24:05   Log-Likelihood:                -22605.\n",
       "No. Observations:               21244   AIC:                         4.523e+04\n",
       "Df Residuals:                   21234   BIC:                         4.531e+04\n",
       "Df Model:                           9                                         \n",
       "Covariance Type:            nonrobust                                         \n",
       "================================================================================\n",
       "                   coef    std err          t      P>|t|      [0.025      0.975]\n",
       "--------------------------------------------------------------------------------\n",
       "Intercept        0.0497      0.023      2.176      0.030       0.005       0.094\n",
       "sqft_living      0.7746      0.008     98.942      0.000       0.759       0.790\n",
       "bedrooms        -0.1464      0.006    -24.439      0.000      -0.158      -0.135\n",
       "bathrooms        0.0140      0.008      1.733      0.083      -0.002       0.030\n",
       "floors           0.0005      0.006      0.089      0.929      -0.011       0.012\n",
       "x1_EXCELLENT    -0.0035      0.046     -0.076      0.939      -0.093       0.086\n",
       "x1_FAIR         -0.0903      0.045     -2.007      0.045      -0.178      -0.002\n",
       "x1_GOOD         -0.0234      0.039     -0.603      0.546      -0.099       0.053\n",
       "x1_NO_RECORD    -0.0689      0.094     -0.732      0.464      -0.253       0.116\n",
       "x1_NONE         -0.0535      0.023     -2.286      0.022      -0.099      -0.008\n",
       "==============================================================================\n",
       "Omnibus:                    14212.675   Durbin-Watson:                   1.991\n",
       "Prob(Omnibus):                  0.000   Jarque-Bera (JB):           489334.358\n",
       "Skew:                           2.739   Prob(JB):                         0.00\n",
       "Kurtosis:                      25.865   Cond. No.                         31.2\n",
       "==============================================================================\n",
       "\n",
       "Notes:\n",
       "[1] Standard Errors assume that the covariance matrix of the errors is correctly specified.\n",
       "\"\"\""
      ]
     },
     "execution_count": 59,
     "metadata": {},
     "output_type": "execute_result"
    }
   ],
   "source": [
    "simple_formula2 = 'price ~ sqft_living + bedrooms + bathrooms + floors + x1_EXCELLENT + x1_FAIR + x1_GOOD + x1_NO_RECORD + x1_NONE'\n",
    "simple_model2 = ols(formula = simple_formula2,\n",
    "                   data = scaled_and_parse_df).fit()\n",
    "simple_mod_summ2 = simple_model2.summary()\n",
    "\n",
    "simple_mod_summ2"
   ]
  },
  {
   "cell_type": "code",
   "execution_count": 60,
   "metadata": {},
   "outputs": [
    {
     "data": {
      "text/html": [
       "<table class=\"simpletable\">\n",
       "<caption>OLS Regression Results</caption>\n",
       "<tr>\n",
       "  <th>Dep. Variable:</th>          <td>price</td>      <th>  R-squared:         </th> <td>   0.505</td> \n",
       "</tr>\n",
       "<tr>\n",
       "  <th>Model:</th>                   <td>OLS</td>       <th>  Adj. R-squared:    </th> <td>   0.505</td> \n",
       "</tr>\n",
       "<tr>\n",
       "  <th>Method:</th>             <td>Least Squares</td>  <th>  F-statistic:       </th> <td>1.082e+04</td>\n",
       "</tr>\n",
       "<tr>\n",
       "  <th>Date:</th>             <td>Fri, 25 Mar 2022</td> <th>  Prob (F-statistic):</th>  <td>  0.00</td>  \n",
       "</tr>\n",
       "<tr>\n",
       "  <th>Time:</th>                 <td>16:24:05</td>     <th>  Log-Likelihood:    </th> <td> -22611.</td> \n",
       "</tr>\n",
       "<tr>\n",
       "  <th>No. Observations:</th>      <td> 21244</td>      <th>  AIC:               </th> <td>4.523e+04</td>\n",
       "</tr>\n",
       "<tr>\n",
       "  <th>Df Residuals:</th>          <td> 21241</td>      <th>  BIC:               </th> <td>4.525e+04</td>\n",
       "</tr>\n",
       "<tr>\n",
       "  <th>Df Model:</th>              <td>     2</td>      <th>                     </th>     <td> </td>    \n",
       "</tr>\n",
       "<tr>\n",
       "  <th>Covariance Type:</th>      <td>nonrobust</td>    <th>                     </th>     <td> </td>    \n",
       "</tr>\n",
       "</table>\n",
       "<table class=\"simpletable\">\n",
       "<tr>\n",
       "       <td></td>          <th>coef</th>     <th>std err</th>      <th>t</th>      <th>P>|t|</th>  <th>[0.025</th>    <th>0.975]</th>  \n",
       "</tr>\n",
       "<tr>\n",
       "  <th>Intercept</th>   <td>   -0.0006</td> <td>    0.005</td> <td>   -0.132</td> <td> 0.895</td> <td>   -0.010</td> <td>    0.009</td>\n",
       "</tr>\n",
       "<tr>\n",
       "  <th>sqft_living</th> <td>    0.7842</td> <td>    0.006</td> <td>  132.579</td> <td> 0.000</td> <td>    0.773</td> <td>    0.796</td>\n",
       "</tr>\n",
       "<tr>\n",
       "  <th>bedrooms</th>    <td>   -0.1448</td> <td>    0.006</td> <td>  -24.547</td> <td> 0.000</td> <td>   -0.156</td> <td>   -0.133</td>\n",
       "</tr>\n",
       "</table>\n",
       "<table class=\"simpletable\">\n",
       "<tr>\n",
       "  <th>Omnibus:</th>       <td>14187.926</td> <th>  Durbin-Watson:     </th>  <td>   1.992</td> \n",
       "</tr>\n",
       "<tr>\n",
       "  <th>Prob(Omnibus):</th>  <td> 0.000</td>   <th>  Jarque-Bera (JB):  </th> <td>486482.999</td>\n",
       "</tr>\n",
       "<tr>\n",
       "  <th>Skew:</th>           <td> 2.733</td>   <th>  Prob(JB):          </th>  <td>    0.00</td> \n",
       "</tr>\n",
       "<tr>\n",
       "  <th>Kurtosis:</th>       <td>25.797</td>   <th>  Cond. No.          </th>  <td>    1.93</td> \n",
       "</tr>\n",
       "</table><br/><br/>Notes:<br/>[1] Standard Errors assume that the covariance matrix of the errors is correctly specified."
      ],
      "text/plain": [
       "<class 'statsmodels.iolib.summary.Summary'>\n",
       "\"\"\"\n",
       "                            OLS Regression Results                            \n",
       "==============================================================================\n",
       "Dep. Variable:                  price   R-squared:                       0.505\n",
       "Model:                            OLS   Adj. R-squared:                  0.505\n",
       "Method:                 Least Squares   F-statistic:                 1.082e+04\n",
       "Date:                Fri, 25 Mar 2022   Prob (F-statistic):               0.00\n",
       "Time:                        16:24:05   Log-Likelihood:                -22611.\n",
       "No. Observations:               21244   AIC:                         4.523e+04\n",
       "Df Residuals:                   21241   BIC:                         4.525e+04\n",
       "Df Model:                           2                                         \n",
       "Covariance Type:            nonrobust                                         \n",
       "===============================================================================\n",
       "                  coef    std err          t      P>|t|      [0.025      0.975]\n",
       "-------------------------------------------------------------------------------\n",
       "Intercept      -0.0006      0.005     -0.132      0.895      -0.010       0.009\n",
       "sqft_living     0.7842      0.006    132.579      0.000       0.773       0.796\n",
       "bedrooms       -0.1448      0.006    -24.547      0.000      -0.156      -0.133\n",
       "==============================================================================\n",
       "Omnibus:                    14187.926   Durbin-Watson:                   1.992\n",
       "Prob(Omnibus):                  0.000   Jarque-Bera (JB):           486482.999\n",
       "Skew:                           2.733   Prob(JB):                         0.00\n",
       "Kurtosis:                      25.797   Cond. No.                         1.93\n",
       "==============================================================================\n",
       "\n",
       "Notes:\n",
       "[1] Standard Errors assume that the covariance matrix of the errors is correctly specified.\n",
       "\"\"\""
      ]
     },
     "execution_count": 60,
     "metadata": {},
     "output_type": "execute_result"
    }
   ],
   "source": [
    "simple_formula3 = 'price ~ sqft_living + bedrooms'\n",
    "simple_model3 = ols(formula = simple_formula3,\n",
    "                   data = scaled_and_parse_df).fit()\n",
    "simple_mod_summ3 = simple_model3.summary()\n",
    "\n",
    "simple_mod_summ3"
   ]
  },
  {
   "cell_type": "code",
   "execution_count": 61,
   "metadata": {},
   "outputs": [
    {
     "data": {
      "image/png": "[encoded data removed]",
      "text/plain": [
       "<Figure size 1080x360 with 2 Axes>"
      ]
     },
     "metadata": {
      "needs_background": "light"
     },
     "output_type": "display_data"
    }
   ],
   "source": [
    "fig, ax = plt.subplots(ncols=2,figsize=(15,5))\n",
    "\n",
    "x1 = scaled_and_parse_df[['sqft_living']]\n",
    "y1 = scaled_and_parse_df[['price']]\n",
    "\n",
    "x2 = scaled_and_parse_df[['bedrooms']]\n",
    "\n",
    "ax[0].scatter(x1, y1)\n",
    "ax[1].scatter(x2,y1);"
   ]
  },
  {
   "cell_type": "code",
   "execution_count": 62,
   "metadata": {},
   "outputs": [],
   "source": [
    "# Upon looking at our scaled dataframe, we noticed that there is a house sold with 33 bedrooms for $600k\n",
    "# After considering the price sold, sqft and number of bathrooms - the # of bedrooms appears \n",
    "# to be an error of somesort\n",
    "# Since we explored bedrooms having a relatively small correlation to price, we are not too worried about this one\n",
    "# outlier being included in our scatterplot"
   ]
  },
  {
   "cell_type": "code",
   "execution_count": 63,
   "metadata": {},
   "outputs": [],
   "source": [
    "sk_lr = LinearRegression()"
   ]
  },
  {
   "cell_type": "code",
   "execution_count": 64,
   "metadata": {
    "scrolled": false
   },
   "outputs": [
    {
     "data": {
      "text/plain": [
       "sqft_living    0\n",
       "dtype: int64"
      ]
     },
     "execution_count": 64,
     "metadata": {},
     "output_type": "execute_result"
    }
   ],
   "source": [
    "scaled_and_parse_df[['sqft_living']].isna().sum()"
   ]
  },
  {
   "cell_type": "code",
   "execution_count": 65,
   "metadata": {},
   "outputs": [
    {
     "name": "stdout",
     "output_type": "stream",
     "text": [
      "<class 'pandas.core.frame.DataFrame'>\n",
      "Int64Index: 21244 entries, 0 to 21419\n",
      "Data columns (total 22 columns):\n",
      " #   Column            Non-Null Count  Dtype  \n",
      "---  ------            --------------  -----  \n",
      " 0   price             21244 non-null  float64\n",
      " 1   bedrooms          21244 non-null  float64\n",
      " 2   bathrooms         21244 non-null  float64\n",
      " 3   sqft_living       21244 non-null  float64\n",
      " 4   floors            21244 non-null  float64\n",
      " 5   sqft_above        21244 non-null  float64\n",
      " 6   sqft_living15     21244 non-null  float64\n",
      " 7   x0_11 Excellent   21244 non-null  float64\n",
      " 8   x0_12 Luxury      21244 non-null  float64\n",
      " 9   x0_13 Mansion     21244 non-null  float64\n",
      " 10  x0_3 Poor         21244 non-null  float64\n",
      " 11  x0_4 Low          21244 non-null  float64\n",
      " 12  x0_5 Fair         21244 non-null  float64\n",
      " 13  x0_6 Low Average  21244 non-null  float64\n",
      " 14  x0_7 Average      21244 non-null  float64\n",
      " 15  x0_8 Good         21244 non-null  float64\n",
      " 16  x0_9 Better       21244 non-null  float64\n",
      " 17  x1_EXCELLENT      21244 non-null  float64\n",
      " 18  x1_FAIR           21244 non-null  float64\n",
      " 19  x1_GOOD           21244 non-null  float64\n",
      " 20  x1_NONE           21244 non-null  float64\n",
      " 21  x1_NO_RECORD      21244 non-null  float64\n",
      "dtypes: float64(22)\n",
      "memory usage: 3.7 MB\n"
     ]
    }
   ],
   "source": [
    "scaled_and_parse_df.info()"
   ]
  },
  {
   "cell_type": "code",
   "execution_count": 66,
   "metadata": {},
   "outputs": [
    {
     "name": "stdout",
     "output_type": "stream",
     "text": [
      "<class 'pandas.core.frame.DataFrame'>\n",
      "RangeIndex: 21597 entries, 0 to 21596\n",
      "Data columns (total 21 columns):\n",
      " #   Column         Non-Null Count  Dtype  \n",
      "---  ------         --------------  -----  \n",
      " 0   id             21597 non-null  int64  \n",
      " 1   date           21597 non-null  object \n",
      " 2   price          21597 non-null  float64\n",
      " 3   bedrooms       21597 non-null  int64  \n",
      " 4   bathrooms      21597 non-null  float64\n",
      " 5   sqft_living    21597 non-null  int64  \n",
      " 6   sqft_lot       21597 non-null  int64  \n",
      " 7   floors         21597 non-null  float64\n",
      " 8   waterfront     19221 non-null  object \n",
      " 9   view           21534 non-null  object \n",
      " 10  condition      21597 non-null  object \n",
      " 11  grade          21597 non-null  object \n",
      " 12  sqft_above     21597 non-null  int64  \n",
      " 13  sqft_basement  21597 non-null  object \n",
      " 14  yr_built       21597 non-null  int64  \n",
      " 15  yr_renovated   17755 non-null  float64\n",
      " 16  zipcode        21597 non-null  int64  \n",
      " 17  lat            21597 non-null  float64\n",
      " 18  long           21597 non-null  float64\n",
      " 19  sqft_living15  21597 non-null  int64  \n",
      " 20  sqft_lot15     21597 non-null  int64  \n",
      "dtypes: float64(6), int64(9), object(6)\n",
      "memory usage: 3.5+ MB\n"
     ]
    }
   ],
   "source": [
    "df.info()"
   ]
  },
  {
   "cell_type": "code",
   "execution_count": 67,
   "metadata": {},
   "outputs": [],
   "source": [
    "X = scaled_and_parse_df[['sqft_living']]\n",
    "y = scaled_and_parse_df['price']"
   ]
  },
  {
   "cell_type": "code",
   "execution_count": 68,
   "metadata": {},
   "outputs": [
    {
     "data": {
      "text/plain": [
       "LinearRegression()"
      ]
     },
     "execution_count": 68,
     "metadata": {},
     "output_type": "execute_result"
    }
   ],
   "source": [
    "sk_lr.fit(X,y)"
   ]
  },
  {
   "cell_type": "code",
   "execution_count": 69,
   "metadata": {},
   "outputs": [
    {
     "data": {
      "text/plain": [
       "0.49070885724246194"
      ]
     },
     "execution_count": 69,
     "metadata": {},
     "output_type": "execute_result"
    }
   ],
   "source": [
    "sk_lr.score(X,y)"
   ]
  },
  {
   "cell_type": "code",
   "execution_count": 70,
   "metadata": {},
   "outputs": [],
   "source": [
    "# predict\n",
    "\n",
    "preds = sk_lr.predict(X)\n"
   ]
  },
  {
   "cell_type": "code",
   "execution_count": 71,
   "metadata": {},
   "outputs": [
    {
     "data": {
      "text/plain": [
       "array([-0.68914422,  0.3702585 , -1.00162992, ...,  0.44647452,\n",
       "       -0.49860417,  0.44647452])"
      ]
     },
     "execution_count": 71,
     "metadata": {},
     "output_type": "execute_result"
    }
   ],
   "source": [
    "preds"
   ]
  },
  {
   "cell_type": "code",
   "execution_count": 72,
   "metadata": {},
   "outputs": [
    {
     "data": {
      "text/plain": [
       "0       -0.18\n",
       "1       -0.38\n",
       "2        0.02\n",
       "3        0.27\n",
       "4        0.22\n",
       "         ... \n",
       "21415   -0.41\n",
       "21416    0.66\n",
       "21417   -0.65\n",
       "21418    0.35\n",
       "21419   -0.57\n",
       "Name: price, Length: 21244, dtype: float64"
      ]
     },
     "execution_count": 72,
     "metadata": {},
     "output_type": "execute_result"
    }
   ],
   "source": [
    "resids = y - preds\n",
    "resids"
   ]
  },
  {
   "cell_type": "code",
   "execution_count": 75,
   "metadata": {},
   "outputs": [
    {
     "data": {
      "text/plain": [
       "145"
      ]
     },
     "execution_count": 75,
     "metadata": {},
     "output_type": "execute_result"
    }
   ],
   "source": [
    "#Create out bins\n",
    "\n",
    "bins = int( len(X)**.5)\n",
    "bins"
   ]
  },
  {
   "cell_type": "code",
   "execution_count": 76,
   "metadata": {},
   "outputs": [
    {
     "data": {
      "image/png": "[encoded data removed]",
      "text/plain": [
       "<Figure size 432x288 with 1 Axes>"
      ]
     },
     "metadata": {
      "needs_background": "light"
     },
     "output_type": "display_data"
    }
   ],
   "source": [
    "# Histogram of residuals\n",
    "\n",
    "plt.hist(resids, bins=bins);"
   ]
  },
  {
   "cell_type": "code",
   "execution_count": 78,
   "metadata": {},
   "outputs": [
    {
     "data": {
      "text/plain": [
       "<seaborn.axisgrid.FacetGrid at 0x14c6d8c8850>"
      ]
     },
     "execution_count": 78,
     "metadata": {},
     "output_type": "execute_result"
    },
    {
     "data": {
      "image/png": "[encoded data removed]",
      "text/plain": [
       "<Figure size 360x360 with 1 Axes>"
      ]
     },
     "metadata": {
      "needs_background": "light"
     },
     "output_type": "display_data"
    }
   ],
   "source": [
    "sns.displot(resids, bins=bins, kde=True)"
   ]
  },
  {
   "cell_type": "code",
   "execution_count": 82,
   "metadata": {},
   "outputs": [
    {
     "data": {
      "image/png": "[encoded data removed]",
      "text/plain": [
       "<Figure size 432x288 with 1 Axes>"
      ]
     },
     "metadata": {
      "needs_background": "light"
     },
     "output_type": "display_data"
    }
   ],
   "source": [
    "sm.qqplot(resids, line='r');"
   ]
  },
  {
   "cell_type": "code",
   "execution_count": 83,
   "metadata": {},
   "outputs": [
    {
     "data": {
      "image/png": "[encoded data removed]",
      "text/plain": [
       "<Figure size 432x288 with 1 Axes>"
      ]
     },
     "metadata": {
      "needs_background": "light"
     },
     "output_type": "display_data"
    }
   ],
   "source": [
    "# resid plot sns.resid\n",
    "\n",
    "sns.residplot(x=X, y=y);"
   ]
  },
  {
   "cell_type": "code",
   "execution_count": 84,
   "metadata": {},
   "outputs": [
    {
     "data": {
      "text/plain": [
       "<matplotlib.collections.PathCollection at 0x14c6f1c1070>"
      ]
     },
     "execution_count": 84,
     "metadata": {},
     "output_type": "execute_result"
    },
    {
     "data": {
      "image/png": "[encoded data removed]",
      "text/plain": [
       "<Figure size 432x288 with 1 Axes>"
      ]
     },
     "metadata": {
      "needs_background": "light"
     },
     "output_type": "display_data"
    }
   ],
   "source": [
    "plt.scatter(preds, resids)"
   ]
  }
 ],
 "metadata": {
  "kernelspec": {
   "display_name": "Python 3",
   "language": "python",
   "name": "python3"
  },
  "language_info": {
   "codemirror_mode": {
    "name": "ipython",
    "version": 3
   },
   "file_extension": ".py",
   "mimetype": "text/x-python",
   "name": "python",
   "nbconvert_exporter": "python",
   "pygments_lexer": "ipython3",
   "version": "3.8.5"
  }
 },
 "nbformat": 4,
 "nbformat_minor": 4
}
