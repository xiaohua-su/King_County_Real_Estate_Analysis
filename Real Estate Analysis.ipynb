{
 "cells": [
  {
   "cell_type": "markdown",
   "metadata": {},
   "source": [
    "# Analysis of Real Estates in King County, Seattle "
   ]
  },
  {
   "cell_type": "markdown",
   "metadata": {},
   "source": [
    "## Overview"
   ]
  },
  {
   "cell_type": "markdown",
   "metadata": {},
   "source": [
    "Overview with what our recommendations will be"
   ]
  },
  {
   "cell_type": "markdown",
   "metadata": {},
   "source": [
    "## Business Problem"
   ]
  },
  {
   "cell_type": "markdown",
   "metadata": {},
   "source": [
    "business problem"
   ]
  },
  {
   "cell_type": "markdown",
   "metadata": {},
   "source": [
    "## Data"
   ]
  },
  {
   "cell_type": "code",
   "execution_count": 3,
   "metadata": {},
   "outputs": [],
   "source": [
    "import pandas as pd\n",
    "import numpy as np\n",
    "import matplotlib.pyplot as plt\n",
    "import seaborn as sns\n",
    "from sklearn.preprocessing import OneHotEncoder, StandardScaler\n",
    "from sklearn.datasets import make_regression\n",
    "from sklearn.linear_model import LinearRegression\n",
    "import sklearn.metrics as metrics\n",
    "from random import gauss\n",
    "from mpl_toolkits.mplot3d import Axes3D\n",
    "from scipy import stats as stats\n",
    "from statsmodels.formula.api import ols\n",
    "import statsmodels.api as sm\n",
    "from sklearn.dummy import DummyRegressor\n",
    "from statsmodels.stats.multicomp import pairwise_tukeyhsd\n",
    "from sklearn.model_selection import train_test_split\n",
    "\n",
    "%matplotlib inline\n",
    "pd.set_option('display.max_columns', None) #shows all columns on dataframe\n",
    "pd.set_option('display.float_format', lambda x: '%.2f' % x) #applied to every df in this notebook"
   ]
  },
  {
   "cell_type": "code",
   "execution_count": 4,
   "metadata": {},
   "outputs": [],
   "source": [
    "df = pd.read_csv('./data/kc_house_data.csv')"
   ]
  },
  {
   "cell_type": "code",
   "execution_count": 50,
   "metadata": {},
   "outputs": [
    {
     "data": {
      "text/html": [
       "<div>\n",
       "<style scoped>\n",
       "    .dataframe tbody tr th:only-of-type {\n",
       "        vertical-align: middle;\n",
       "    }\n",
       "\n",
       "    .dataframe tbody tr th {\n",
       "        vertical-align: top;\n",
       "    }\n",
       "\n",
       "    .dataframe thead th {\n",
       "        text-align: right;\n",
       "    }\n",
       "</style>\n",
       "<table border=\"1\" class=\"dataframe\">\n",
       "  <thead>\n",
       "    <tr style=\"text-align: right;\">\n",
       "      <th></th>\n",
       "      <th>id</th>\n",
       "      <th>date</th>\n",
       "      <th>price</th>\n",
       "      <th>bedrooms</th>\n",
       "      <th>bathrooms</th>\n",
       "      <th>sqft_living</th>\n",
       "      <th>sqft_lot</th>\n",
       "      <th>floors</th>\n",
       "      <th>waterfront</th>\n",
       "      <th>view</th>\n",
       "      <th>condition</th>\n",
       "      <th>grade</th>\n",
       "      <th>sqft_above</th>\n",
       "      <th>sqft_basement</th>\n",
       "      <th>yr_built</th>\n",
       "      <th>yr_renovated</th>\n",
       "      <th>zipcode</th>\n",
       "      <th>lat</th>\n",
       "      <th>long</th>\n",
       "      <th>sqft_living15</th>\n",
       "      <th>sqft_lot15</th>\n",
       "    </tr>\n",
       "  </thead>\n",
       "  <tbody>\n",
       "    <tr>\n",
       "      <th>0</th>\n",
       "      <td>7129300520</td>\n",
       "      <td>10/13/2014</td>\n",
       "      <td>221900.00</td>\n",
       "      <td>3</td>\n",
       "      <td>1.00</td>\n",
       "      <td>1180</td>\n",
       "      <td>5650</td>\n",
       "      <td>1.00</td>\n",
       "      <td>NaN</td>\n",
       "      <td>NONE</td>\n",
       "      <td>Average</td>\n",
       "      <td>7 Average</td>\n",
       "      <td>1180</td>\n",
       "      <td>0.0</td>\n",
       "      <td>1955</td>\n",
       "      <td>0.00</td>\n",
       "      <td>98178</td>\n",
       "      <td>47.51</td>\n",
       "      <td>-122.26</td>\n",
       "      <td>1340</td>\n",
       "      <td>5650</td>\n",
       "    </tr>\n",
       "    <tr>\n",
       "      <th>1</th>\n",
       "      <td>6414100192</td>\n",
       "      <td>12/9/2014</td>\n",
       "      <td>538000.00</td>\n",
       "      <td>3</td>\n",
       "      <td>2.25</td>\n",
       "      <td>2570</td>\n",
       "      <td>7242</td>\n",
       "      <td>2.00</td>\n",
       "      <td>NO</td>\n",
       "      <td>NONE</td>\n",
       "      <td>Average</td>\n",
       "      <td>7 Average</td>\n",
       "      <td>2170</td>\n",
       "      <td>400.0</td>\n",
       "      <td>1951</td>\n",
       "      <td>1991.00</td>\n",
       "      <td>98125</td>\n",
       "      <td>47.72</td>\n",
       "      <td>-122.32</td>\n",
       "      <td>1690</td>\n",
       "      <td>7639</td>\n",
       "    </tr>\n",
       "    <tr>\n",
       "      <th>2</th>\n",
       "      <td>5631500400</td>\n",
       "      <td>2/25/2015</td>\n",
       "      <td>180000.00</td>\n",
       "      <td>2</td>\n",
       "      <td>1.00</td>\n",
       "      <td>770</td>\n",
       "      <td>10000</td>\n",
       "      <td>1.00</td>\n",
       "      <td>NO</td>\n",
       "      <td>NONE</td>\n",
       "      <td>Average</td>\n",
       "      <td>6 Low Average</td>\n",
       "      <td>770</td>\n",
       "      <td>0.0</td>\n",
       "      <td>1933</td>\n",
       "      <td>nan</td>\n",
       "      <td>98028</td>\n",
       "      <td>47.74</td>\n",
       "      <td>-122.23</td>\n",
       "      <td>2720</td>\n",
       "      <td>8062</td>\n",
       "    </tr>\n",
       "    <tr>\n",
       "      <th>3</th>\n",
       "      <td>2487200875</td>\n",
       "      <td>12/9/2014</td>\n",
       "      <td>604000.00</td>\n",
       "      <td>4</td>\n",
       "      <td>3.00</td>\n",
       "      <td>1960</td>\n",
       "      <td>5000</td>\n",
       "      <td>1.00</td>\n",
       "      <td>NO</td>\n",
       "      <td>NONE</td>\n",
       "      <td>Very Good</td>\n",
       "      <td>7 Average</td>\n",
       "      <td>1050</td>\n",
       "      <td>910.0</td>\n",
       "      <td>1965</td>\n",
       "      <td>0.00</td>\n",
       "      <td>98136</td>\n",
       "      <td>47.52</td>\n",
       "      <td>-122.39</td>\n",
       "      <td>1360</td>\n",
       "      <td>5000</td>\n",
       "    </tr>\n",
       "    <tr>\n",
       "      <th>4</th>\n",
       "      <td>1954400510</td>\n",
       "      <td>2/18/2015</td>\n",
       "      <td>510000.00</td>\n",
       "      <td>3</td>\n",
       "      <td>2.00</td>\n",
       "      <td>1680</td>\n",
       "      <td>8080</td>\n",
       "      <td>1.00</td>\n",
       "      <td>NO</td>\n",
       "      <td>NONE</td>\n",
       "      <td>Average</td>\n",
       "      <td>8 Good</td>\n",
       "      <td>1680</td>\n",
       "      <td>0.0</td>\n",
       "      <td>1987</td>\n",
       "      <td>0.00</td>\n",
       "      <td>98074</td>\n",
       "      <td>47.62</td>\n",
       "      <td>-122.05</td>\n",
       "      <td>1800</td>\n",
       "      <td>7503</td>\n",
       "    </tr>\n",
       "  </tbody>\n",
       "</table>\n",
       "</div>"
      ],
      "text/plain": [
       "           id        date     price  bedrooms  bathrooms  sqft_living  \\\n",
       "0  7129300520  10/13/2014 221900.00         3       1.00         1180   \n",
       "1  6414100192   12/9/2014 538000.00         3       2.25         2570   \n",
       "2  5631500400   2/25/2015 180000.00         2       1.00          770   \n",
       "3  2487200875   12/9/2014 604000.00         4       3.00         1960   \n",
       "4  1954400510   2/18/2015 510000.00         3       2.00         1680   \n",
       "\n",
       "   sqft_lot  floors waterfront  view  condition          grade  sqft_above  \\\n",
       "0      5650    1.00        NaN  NONE    Average      7 Average        1180   \n",
       "1      7242    2.00         NO  NONE    Average      7 Average        2170   \n",
       "2     10000    1.00         NO  NONE    Average  6 Low Average         770   \n",
       "3      5000    1.00         NO  NONE  Very Good      7 Average        1050   \n",
       "4      8080    1.00         NO  NONE    Average         8 Good        1680   \n",
       "\n",
       "  sqft_basement  yr_built  yr_renovated  zipcode   lat    long  sqft_living15  \\\n",
       "0           0.0      1955          0.00    98178 47.51 -122.26           1340   \n",
       "1         400.0      1951       1991.00    98125 47.72 -122.32           1690   \n",
       "2           0.0      1933           nan    98028 47.74 -122.23           2720   \n",
       "3         910.0      1965          0.00    98136 47.52 -122.39           1360   \n",
       "4           0.0      1987          0.00    98074 47.62 -122.05           1800   \n",
       "\n",
       "   sqft_lot15  \n",
       "0        5650  \n",
       "1        7639  \n",
       "2        8062  \n",
       "3        5000  \n",
       "4        7503  "
      ]
     },
     "execution_count": 50,
     "metadata": {},
     "output_type": "execute_result"
    }
   ],
   "source": [
    "#checking the data\n",
    "df.head()"
   ]
  },
  {
   "cell_type": "code",
   "execution_count": 51,
   "metadata": {},
   "outputs": [
    {
     "name": "stdout",
     "output_type": "stream",
     "text": [
      "<class 'pandas.core.frame.DataFrame'>\n",
      "RangeIndex: 21597 entries, 0 to 21596\n",
      "Data columns (total 21 columns):\n",
      " #   Column         Non-Null Count  Dtype  \n",
      "---  ------         --------------  -----  \n",
      " 0   id             21597 non-null  int64  \n",
      " 1   date           21597 non-null  object \n",
      " 2   price          21597 non-null  float64\n",
      " 3   bedrooms       21597 non-null  int64  \n",
      " 4   bathrooms      21597 non-null  float64\n",
      " 5   sqft_living    21597 non-null  int64  \n",
      " 6   sqft_lot       21597 non-null  int64  \n",
      " 7   floors         21597 non-null  float64\n",
      " 8   waterfront     19221 non-null  object \n",
      " 9   view           21534 non-null  object \n",
      " 10  condition      21597 non-null  object \n",
      " 11  grade          21597 non-null  object \n",
      " 12  sqft_above     21597 non-null  int64  \n",
      " 13  sqft_basement  21597 non-null  object \n",
      " 14  yr_built       21597 non-null  int64  \n",
      " 15  yr_renovated   17755 non-null  float64\n",
      " 16  zipcode        21597 non-null  int64  \n",
      " 17  lat            21597 non-null  float64\n",
      " 18  long           21597 non-null  float64\n",
      " 19  sqft_living15  21597 non-null  int64  \n",
      " 20  sqft_lot15     21597 non-null  int64  \n",
      "dtypes: float64(6), int64(9), object(6)\n",
      "memory usage: 3.5+ MB\n"
     ]
    }
   ],
   "source": [
    "df.info()"
   ]
  },
  {
   "cell_type": "markdown",
   "metadata": {},
   "source": [
    "Summary of what we notice, what potential columns we want"
   ]
  },
  {
   "cell_type": "markdown",
   "metadata": {},
   "source": [
    "## Initial Cleaning"
   ]
  },
  {
   "cell_type": "code",
   "execution_count": 52,
   "metadata": {},
   "outputs": [
    {
     "data": {
      "text/plain": [
       "Average      14020\n",
       "Good          5677\n",
       "Very Good     1701\n",
       "Fair           170\n",
       "Poor            29\n",
       "Name: condition, dtype: int64"
      ]
     },
     "execution_count": 52,
     "metadata": {},
     "output_type": "execute_result"
    }
   ],
   "source": [
    "#checking condition\n",
    "df['condition'].value_counts()"
   ]
  },
  {
   "cell_type": "markdown",
   "metadata": {},
   "source": [
    "Difficult to make reccomendation base off of this since there's a lot of ways to define these terms so decided to use grade which is a little less vague."
   ]
  },
  {
   "cell_type": "code",
   "execution_count": 5,
   "metadata": {},
   "outputs": [],
   "source": [
    "#dropping nulls base off view\n",
    "df_copy = df.copy()\n",
    "df_copy = df_copy.dropna(subset = ['view'])"
   ]
  },
  {
   "cell_type": "markdown",
   "metadata": {},
   "source": [
    "We are dropping the nulls based off nulls because view is a column of interest for us."
   ]
  },
  {
   "cell_type": "code",
   "execution_count": 6,
   "metadata": {},
   "outputs": [],
   "source": [
    "#dropping multiple entries of same place \n",
    "df_copy = df_copy.sort_values(by=['id', 'date'])\n",
    "df_copy = df_copy.drop_duplicates(subset=['id'], keep='last')"
   ]
  },
  {
   "cell_type": "markdown",
   "metadata": {},
   "source": [
    "Rational of the dropping of duplicates"
   ]
  },
  {
   "cell_type": "markdown",
   "metadata": {},
   "source": [
    "## Exploring Data"
   ]
  },
  {
   "cell_type": "code",
   "execution_count": 17,
   "metadata": {},
   "outputs": [
    {
     "data": {
      "image/png": "[encoded data removed]",
      "text/plain": [
       "<Figure size 1080x1080 with 2 Axes>"
      ]
     },
     "metadata": {
      "needs_background": "light"
     },
     "output_type": "display_data"
    }
   ],
   "source": [
    "#looking at correlations\n",
    "fig, ax = plt.subplots(figsize=(15,15))\n",
    "heat = sns.heatmap(df_copy.corr(), annot = True)"
   ]
  },
  {
   "cell_type": "markdown",
   "metadata": {},
   "source": [
    "Summary of what we notice and potential problem"
   ]
  },
  {
   "cell_type": "code",
   "execution_count": 56,
   "metadata": {},
   "outputs": [
    {
     "data": {
      "text/html": [
       "<div>\n",
       "<style scoped>\n",
       "    .dataframe tbody tr th:only-of-type {\n",
       "        vertical-align: middle;\n",
       "    }\n",
       "\n",
       "    .dataframe tbody tr th {\n",
       "        vertical-align: top;\n",
       "    }\n",
       "\n",
       "    .dataframe thead th {\n",
       "        text-align: right;\n",
       "    }\n",
       "</style>\n",
       "<table border=\"1\" class=\"dataframe\">\n",
       "  <thead>\n",
       "    <tr style=\"text-align: right;\">\n",
       "      <th></th>\n",
       "      <th>id</th>\n",
       "      <th>price</th>\n",
       "      <th>bedrooms</th>\n",
       "      <th>bathrooms</th>\n",
       "      <th>sqft_living</th>\n",
       "      <th>sqft_lot</th>\n",
       "      <th>floors</th>\n",
       "      <th>sqft_above</th>\n",
       "      <th>yr_built</th>\n",
       "      <th>yr_renovated</th>\n",
       "      <th>zipcode</th>\n",
       "      <th>lat</th>\n",
       "      <th>long</th>\n",
       "      <th>sqft_living15</th>\n",
       "      <th>sqft_lot15</th>\n",
       "    </tr>\n",
       "    <tr>\n",
       "      <th>view</th>\n",
       "      <th></th>\n",
       "      <th></th>\n",
       "      <th></th>\n",
       "      <th></th>\n",
       "      <th></th>\n",
       "      <th></th>\n",
       "      <th></th>\n",
       "      <th></th>\n",
       "      <th></th>\n",
       "      <th></th>\n",
       "      <th></th>\n",
       "      <th></th>\n",
       "      <th></th>\n",
       "      <th></th>\n",
       "      <th></th>\n",
       "    </tr>\n",
       "  </thead>\n",
       "  <tbody>\n",
       "    <tr>\n",
       "      <th>AVERAGE</th>\n",
       "      <td>4780987779.11</td>\n",
       "      <td>791956.68</td>\n",
       "      <td>3.57</td>\n",
       "      <td>2.43</td>\n",
       "      <td>2651.20</td>\n",
       "      <td>22331.72</td>\n",
       "      <td>1.51</td>\n",
       "      <td>2083.87</td>\n",
       "      <td>1964.82</td>\n",
       "      <td>128.57</td>\n",
       "      <td>98090.98</td>\n",
       "      <td>47.56</td>\n",
       "      <td>-122.24</td>\n",
       "      <td>2427.20</td>\n",
       "      <td>17364.67</td>\n",
       "    </tr>\n",
       "    <tr>\n",
       "      <th>EXCELLENT</th>\n",
       "      <td>4970006204.50</td>\n",
       "      <td>1453795.18</td>\n",
       "      <td>3.63</td>\n",
       "      <td>2.78</td>\n",
       "      <td>3337.17</td>\n",
       "      <td>21762.46</td>\n",
       "      <td>1.60</td>\n",
       "      <td>2509.69</td>\n",
       "      <td>1965.77</td>\n",
       "      <td>331.97</td>\n",
       "      <td>98096.41</td>\n",
       "      <td>47.58</td>\n",
       "      <td>-122.26</td>\n",
       "      <td>2838.68</td>\n",
       "      <td>18994.11</td>\n",
       "    </tr>\n",
       "    <tr>\n",
       "      <th>FAIR</th>\n",
       "      <td>4604598059.83</td>\n",
       "      <td>814386.56</td>\n",
       "      <td>3.53</td>\n",
       "      <td>2.35</td>\n",
       "      <td>2573.51</td>\n",
       "      <td>12342.66</td>\n",
       "      <td>1.39</td>\n",
       "      <td>1936.88</td>\n",
       "      <td>1962.90</td>\n",
       "      <td>180.02</td>\n",
       "      <td>98096.60</td>\n",
       "      <td>47.58</td>\n",
       "      <td>-122.29</td>\n",
       "      <td>2408.13</td>\n",
       "      <td>10753.88</td>\n",
       "    </tr>\n",
       "    <tr>\n",
       "      <th>GOOD</th>\n",
       "      <td>4346605769.28</td>\n",
       "      <td>972809.66</td>\n",
       "      <td>3.67</td>\n",
       "      <td>2.67</td>\n",
       "      <td>3012.47</td>\n",
       "      <td>35010.67</td>\n",
       "      <td>1.57</td>\n",
       "      <td>2276.73</td>\n",
       "      <td>1967.34</td>\n",
       "      <td>239.63</td>\n",
       "      <td>98092.44</td>\n",
       "      <td>47.55</td>\n",
       "      <td>-122.24</td>\n",
       "      <td>2697.59</td>\n",
       "      <td>23983.25</td>\n",
       "    </tr>\n",
       "    <tr>\n",
       "      <th>NONE</th>\n",
       "      <td>4572504059.05</td>\n",
       "      <td>497472.12</td>\n",
       "      <td>3.35</td>\n",
       "      <td>2.07</td>\n",
       "      <td>2001.17</td>\n",
       "      <td>14178.46</td>\n",
       "      <td>1.49</td>\n",
       "      <td>1749.66</td>\n",
       "      <td>1971.73</td>\n",
       "      <td>72.10</td>\n",
       "      <td>98076.21</td>\n",
       "      <td>47.56</td>\n",
       "      <td>-122.21</td>\n",
       "      <td>1926.60</td>\n",
       "      <td>12179.02</td>\n",
       "    </tr>\n",
       "  </tbody>\n",
       "</table>\n",
       "</div>"
      ],
      "text/plain": [
       "                     id      price  bedrooms  bathrooms  sqft_living  \\\n",
       "view                                                                   \n",
       "AVERAGE   4780987779.11  791956.68      3.57       2.43      2651.20   \n",
       "EXCELLENT 4970006204.50 1453795.18      3.63       2.78      3337.17   \n",
       "FAIR      4604598059.83  814386.56      3.53       2.35      2573.51   \n",
       "GOOD      4346605769.28  972809.66      3.67       2.67      3012.47   \n",
       "NONE      4572504059.05  497472.12      3.35       2.07      2001.17   \n",
       "\n",
       "           sqft_lot  floors  sqft_above  yr_built  yr_renovated  zipcode  \\\n",
       "view                                                                       \n",
       "AVERAGE    22331.72    1.51     2083.87   1964.82        128.57 98090.98   \n",
       "EXCELLENT  21762.46    1.60     2509.69   1965.77        331.97 98096.41   \n",
       "FAIR       12342.66    1.39     1936.88   1962.90        180.02 98096.60   \n",
       "GOOD       35010.67    1.57     2276.73   1967.34        239.63 98092.44   \n",
       "NONE       14178.46    1.49     1749.66   1971.73         72.10 98076.21   \n",
       "\n",
       "            lat    long  sqft_living15  sqft_lot15  \n",
       "view                                                \n",
       "AVERAGE   47.56 -122.24        2427.20    17364.67  \n",
       "EXCELLENT 47.58 -122.26        2838.68    18994.11  \n",
       "FAIR      47.58 -122.29        2408.13    10753.88  \n",
       "GOOD      47.55 -122.24        2697.59    23983.25  \n",
       "NONE      47.56 -122.21        1926.60    12179.02  "
      ]
     },
     "execution_count": 56,
     "metadata": {},
     "output_type": "execute_result"
    }
   ],
   "source": [
    "df_copy.groupby('view').mean()"
   ]
  },
  {
   "cell_type": "markdown",
   "metadata": {},
   "source": [
    "visually the price of average, fair and good look the about the same so we would need to run a significant test to see. Excellent and none looks to be potentially significant. Need to use anova here to see and ad-hoc tests"
   ]
  },
  {
   "cell_type": "code",
   "execution_count": 19,
   "metadata": {},
   "outputs": [
    {
     "data": {
      "text/html": [
       "<div>\n",
       "<style scoped>\n",
       "    .dataframe tbody tr th:only-of-type {\n",
       "        vertical-align: middle;\n",
       "    }\n",
       "\n",
       "    .dataframe tbody tr th {\n",
       "        vertical-align: top;\n",
       "    }\n",
       "\n",
       "    .dataframe thead th {\n",
       "        text-align: right;\n",
       "    }\n",
       "</style>\n",
       "<table border=\"1\" class=\"dataframe\">\n",
       "  <thead>\n",
       "    <tr style=\"text-align: right;\">\n",
       "      <th></th>\n",
       "      <th>id</th>\n",
       "      <th>date</th>\n",
       "      <th>price</th>\n",
       "      <th>bedrooms</th>\n",
       "      <th>bathrooms</th>\n",
       "      <th>sqft_living</th>\n",
       "      <th>view</th>\n",
       "      <th>grade</th>\n",
       "      <th>sqft_basement</th>\n",
       "      <th>zipcode</th>\n",
       "    </tr>\n",
       "  </thead>\n",
       "  <tbody>\n",
       "    <tr>\n",
       "      <th>2494</th>\n",
       "      <td>1000102</td>\n",
       "      <td>9/16/2014</td>\n",
       "      <td>280000.00</td>\n",
       "      <td>6</td>\n",
       "      <td>3.00</td>\n",
       "      <td>2400</td>\n",
       "      <td>NONE</td>\n",
       "      <td>7 Average</td>\n",
       "      <td>0.0</td>\n",
       "      <td>98002</td>\n",
       "    </tr>\n",
       "    <tr>\n",
       "      <th>6729</th>\n",
       "      <td>1200019</td>\n",
       "      <td>5/8/2014</td>\n",
       "      <td>647500.00</td>\n",
       "      <td>4</td>\n",
       "      <td>1.75</td>\n",
       "      <td>2060</td>\n",
       "      <td>NONE</td>\n",
       "      <td>8 Good</td>\n",
       "      <td>900.0</td>\n",
       "      <td>98166</td>\n",
       "    </tr>\n",
       "    <tr>\n",
       "      <th>8404</th>\n",
       "      <td>1200021</td>\n",
       "      <td>8/11/2014</td>\n",
       "      <td>400000.00</td>\n",
       "      <td>3</td>\n",
       "      <td>1.00</td>\n",
       "      <td>1460</td>\n",
       "      <td>NONE</td>\n",
       "      <td>7 Average</td>\n",
       "      <td>0.0</td>\n",
       "      <td>98166</td>\n",
       "    </tr>\n",
       "    <tr>\n",
       "      <th>8800</th>\n",
       "      <td>2800031</td>\n",
       "      <td>4/1/2015</td>\n",
       "      <td>235000.00</td>\n",
       "      <td>3</td>\n",
       "      <td>1.00</td>\n",
       "      <td>1430</td>\n",
       "      <td>NONE</td>\n",
       "      <td>6 Low Average</td>\n",
       "      <td>420.0</td>\n",
       "      <td>98168</td>\n",
       "    </tr>\n",
       "    <tr>\n",
       "      <th>3553</th>\n",
       "      <td>3600057</td>\n",
       "      <td>3/19/2015</td>\n",
       "      <td>402500.00</td>\n",
       "      <td>4</td>\n",
       "      <td>2.00</td>\n",
       "      <td>1650</td>\n",
       "      <td>NONE</td>\n",
       "      <td>7 Average</td>\n",
       "      <td>890.0</td>\n",
       "      <td>98144</td>\n",
       "    </tr>\n",
       "    <tr>\n",
       "      <th>...</th>\n",
       "      <td>...</td>\n",
       "      <td>...</td>\n",
       "      <td>...</td>\n",
       "      <td>...</td>\n",
       "      <td>...</td>\n",
       "      <td>...</td>\n",
       "      <td>...</td>\n",
       "      <td>...</td>\n",
       "      <td>...</td>\n",
       "      <td>...</td>\n",
       "    </tr>\n",
       "    <tr>\n",
       "      <th>16723</th>\n",
       "      <td>9842300095</td>\n",
       "      <td>7/25/2014</td>\n",
       "      <td>365000.00</td>\n",
       "      <td>5</td>\n",
       "      <td>2.00</td>\n",
       "      <td>1600</td>\n",
       "      <td>NONE</td>\n",
       "      <td>7 Average</td>\n",
       "      <td>0.0</td>\n",
       "      <td>98126</td>\n",
       "    </tr>\n",
       "    <tr>\n",
       "      <th>3257</th>\n",
       "      <td>9842300485</td>\n",
       "      <td>3/11/2015</td>\n",
       "      <td>380000.00</td>\n",
       "      <td>2</td>\n",
       "      <td>1.00</td>\n",
       "      <td>1040</td>\n",
       "      <td>NONE</td>\n",
       "      <td>7 Average</td>\n",
       "      <td>200.0</td>\n",
       "      <td>98126</td>\n",
       "    </tr>\n",
       "    <tr>\n",
       "      <th>7614</th>\n",
       "      <td>9842300540</td>\n",
       "      <td>6/24/2014</td>\n",
       "      <td>339000.00</td>\n",
       "      <td>3</td>\n",
       "      <td>1.00</td>\n",
       "      <td>1100</td>\n",
       "      <td>NONE</td>\n",
       "      <td>7 Average</td>\n",
       "      <td>380.0</td>\n",
       "      <td>98126</td>\n",
       "    </tr>\n",
       "    <tr>\n",
       "      <th>20963</th>\n",
       "      <td>9895000040</td>\n",
       "      <td>7/3/2014</td>\n",
       "      <td>399900.00</td>\n",
       "      <td>2</td>\n",
       "      <td>1.75</td>\n",
       "      <td>1410</td>\n",
       "      <td>NONE</td>\n",
       "      <td>9 Better</td>\n",
       "      <td>510.0</td>\n",
       "      <td>98027</td>\n",
       "    </tr>\n",
       "    <tr>\n",
       "      <th>15937</th>\n",
       "      <td>9900000190</td>\n",
       "      <td>10/30/2014</td>\n",
       "      <td>268950.00</td>\n",
       "      <td>3</td>\n",
       "      <td>1.00</td>\n",
       "      <td>1320</td>\n",
       "      <td>NONE</td>\n",
       "      <td>6 Low Average</td>\n",
       "      <td>440.0</td>\n",
       "      <td>98166</td>\n",
       "    </tr>\n",
       "  </tbody>\n",
       "</table>\n",
       "<p>21357 rows × 10 columns</p>\n",
       "</div>"
      ],
      "text/plain": [
       "               id        date     price  bedrooms  bathrooms  sqft_living  \\\n",
       "2494      1000102   9/16/2014 280000.00         6       3.00         2400   \n",
       "6729      1200019    5/8/2014 647500.00         4       1.75         2060   \n",
       "8404      1200021   8/11/2014 400000.00         3       1.00         1460   \n",
       "8800      2800031    4/1/2015 235000.00         3       1.00         1430   \n",
       "3553      3600057   3/19/2015 402500.00         4       2.00         1650   \n",
       "...           ...         ...       ...       ...        ...          ...   \n",
       "16723  9842300095   7/25/2014 365000.00         5       2.00         1600   \n",
       "3257   9842300485   3/11/2015 380000.00         2       1.00         1040   \n",
       "7614   9842300540   6/24/2014 339000.00         3       1.00         1100   \n",
       "20963  9895000040    7/3/2014 399900.00         2       1.75         1410   \n",
       "15937  9900000190  10/30/2014 268950.00         3       1.00         1320   \n",
       "\n",
       "       view          grade sqft_basement  zipcode  \n",
       "2494   NONE      7 Average           0.0    98002  \n",
       "6729   NONE         8 Good         900.0    98166  \n",
       "8404   NONE      7 Average           0.0    98166  \n",
       "8800   NONE  6 Low Average         420.0    98168  \n",
       "3553   NONE      7 Average         890.0    98144  \n",
       "...     ...            ...           ...      ...  \n",
       "16723  NONE      7 Average           0.0    98126  \n",
       "3257   NONE      7 Average         200.0    98126  \n",
       "7614   NONE      7 Average         380.0    98126  \n",
       "20963  NONE       9 Better         510.0    98027  \n",
       "15937  NONE  6 Low Average         440.0    98166  \n",
       "\n",
       "[21357 rows x 10 columns]"
      ]
     },
     "execution_count": 19,
     "metadata": {},
     "output_type": "execute_result"
    }
   ],
   "source": [
    "df_copy.drop(columns = ['floors', 'waterfront',\n",
    "                        'lat', 'long', 'condition',\n",
    "                        'yr_built', 'yr_renovated', \n",
    "                        'sqft_lot', 'sqft_lot15',\n",
    "                       'sqft_above', 'sqft_living15'])"
   ]
  },
  {
   "cell_type": "markdown",
   "metadata": {},
   "source": [
    "#### Initiating Train_test_split"
   ]
  },
  {
   "cell_type": "code",
   "execution_count": 20,
   "metadata": {},
   "outputs": [],
   "source": [
    "X = df_copy.drop(columns = 'price')\n",
    "y = df_copy.price"
   ]
  },
  {
   "cell_type": "code",
   "execution_count": 21,
   "metadata": {},
   "outputs": [],
   "source": [
    "X_train, X_test, y_train, y_test = train_test_split(X, y, test_size=0.33, random_state=42)"
   ]
  },
  {
   "cell_type": "code",
   "execution_count": 22,
   "metadata": {},
   "outputs": [],
   "source": [
    "train_df = pd.concat([X_train, y_train], axis=1)\n",
    "\n",
    "test_df = pd.concat([X_test, y_test], axis=1)"
   ]
  },
  {
   "cell_type": "code",
   "execution_count": 23,
   "metadata": {},
   "outputs": [
    {
     "data": {
      "image/png": "[encoded data removed]",
      "text/plain": [
       "<Figure size 1008x1008 with 2 Axes>"
      ]
     },
     "metadata": {
      "needs_background": "light"
     },
     "output_type": "display_data"
    }
   ],
   "source": [
    "fig, ax = plt.subplots(figsize=(14,14))\n",
    "heat = sns.heatmap(train_df.corr(), annot = True)"
   ]
  },
  {
   "cell_type": "markdown",
   "metadata": {},
   "source": [
    "#### View Analysis"
   ]
  },
  {
   "cell_type": "markdown",
   "metadata": {},
   "source": [
    "is there a difference between those that have a view versus those that don't"
   ]
  },
  {
   "cell_type": "code",
   "execution_count": 57,
   "metadata": {},
   "outputs": [],
   "source": [
    "summary_of_view = df_copy.groupby('view').mean()"
   ]
  },
  {
   "cell_type": "markdown",
   "metadata": {},
   "source": [
    "from the df summary, we notice that there is a difference in price between price for those that are excellent\n",
    "compared to those that have a view written as none. Further investigation will be performed to determine if this\n",
    "difference is statistically significant"
   ]
  },
  {
   "cell_type": "code",
   "execution_count": 24,
   "metadata": {},
   "outputs": [],
   "source": [
    "df_average = train_df[train_df['view'] == 'AVERAGE']\n",
    "df_excellent = train_df[train_df['view'] == 'EXCELLENT']\n",
    "df_fair = train_df[train_df['view'] == 'FAIR']\n",
    "df_good = train_df[train_df['view'] == 'GOOD']\n",
    "df_none = train_df[train_df['view'] == 'NONE']"
   ]
  },
  {
   "cell_type": "markdown",
   "metadata": {},
   "source": [
    "Subsetting the data into different views\n",
    " - number of rows: none = 19422, avg = 957, good = 508, fair = 330, excellent = 317, norecord = 17"
   ]
  },
  {
   "cell_type": "code",
   "execution_count": 25,
   "metadata": {},
   "outputs": [],
   "source": [
    "fvalue, pvalue = stats.f_oneway(df_average['price'], df_excellent['price'], df_fair['price'],\n",
    "                                df_good['price'] , df_none['price'])"
   ]
  },
  {
   "cell_type": "code",
   "execution_count": 26,
   "metadata": {},
   "outputs": [
    {
     "name": "stdout",
     "output_type": "stream",
     "text": [
      "          Multiple Comparison of Means - Tukey HSD, FWER=0.05           \n",
      "========================================================================\n",
      "  group1    group2    meandiff   p-adj     lower        upper     reject\n",
      "------------------------------------------------------------------------\n",
      "  AVERAGE EXCELLENT  661381.9591 0.001   587260.9579  735502.9603   True\n",
      "  AVERAGE      FAIR     632.3693   0.9   -73358.0221   74622.7607  False\n",
      "  AVERAGE      GOOD  153508.7996 0.001    90837.6508  216179.9484   True\n",
      "  AVERAGE      NONE -304411.2575 0.001  -342373.9367 -266448.5783   True\n",
      "EXCELLENT      FAIR -660749.5898 0.001  -751422.2948 -570076.8848   True\n",
      "EXCELLENT      GOOD -507873.1595 0.001  -589571.5946 -426174.7244   True\n",
      "EXCELLENT      NONE -965793.2166 0.001 -1030508.9521 -901077.4811   True\n",
      "     FAIR      GOOD  152876.4303 0.001    71296.4726   234456.388   True\n",
      "     FAIR      NONE -305043.6268 0.001  -369609.7296 -240477.5241   True\n",
      "     GOOD      NONE -457920.0571 0.001  -509124.3196 -406715.7946   True\n",
      "------------------------------------------------------------------------\n"
     ]
    }
   ],
   "source": [
    "#creating df of just view\n",
    "df_view = train_df[['view', 'price']]\n",
    "\n",
    "#Tukey test\n",
    "print(pairwise_tukeyhsd(df_view['price'], df_view['view']))"
   ]
  },
  {
   "cell_type": "markdown",
   "metadata": {},
   "source": [
    "Average and Fair are not significant to each other, so they should be grouped together. Each other subset should be on their\n",
    "owen as they have a p value of under .05"
   ]
  },
  {
   "cell_type": "markdown",
   "metadata": {},
   "source": [
    "#### Grade Analysis"
   ]
  },
  {
   "cell_type": "markdown",
   "metadata": {},
   "source": [
    " Is there a difference between grades"
   ]
  },
  {
   "cell_type": "code",
   "execution_count": 27,
   "metadata": {},
   "outputs": [
    {
     "data": {
      "text/plain": [
       "7 Average        5939\n",
       "8 Good           4008\n",
       "9 Better         1756\n",
       "6 Low Average    1353\n",
       "10 Very Good      730\n",
       "11 Excellent      268\n",
       "5 Fair            169\n",
       "12 Luxury          60\n",
       "4 Low              17\n",
       "13 Mansion          8\n",
       "3 Poor              1\n",
       "Name: grade, dtype: int64"
      ]
     },
     "execution_count": 27,
     "metadata": {},
     "output_type": "execute_result"
    }
   ],
   "source": [
    "train_df.grade.value_counts()"
   ]
  },
  {
   "cell_type": "markdown",
   "metadata": {},
   "source": [
    "issue here that there are many different grade and some of them have very little that can skew the perception such as poor having 1, mansion having 13, low = 27, luxury having 87"
   ]
  },
  {
   "cell_type": "code",
   "execution_count": 28,
   "metadata": {},
   "outputs": [],
   "source": [
    "#dropping poor row\n",
    "df3 = train_df.copy()\n",
    "df3 = df3[df3['grade'] != '3 Poor']"
   ]
  },
  {
   "cell_type": "code",
   "execution_count": 29,
   "metadata": {},
   "outputs": [],
   "source": [
    "df_10 = train_df[train_df['grade'] == '10 Very Good']\n",
    "df_11 = train_df[train_df['grade'] == '11 Excellent']\n",
    "df_12 = train_df[train_df['grade'] == '12 Luxury']\n",
    "df_4 = train_df[train_df['grade'] == '4 Low']\n",
    "df_5 = train_df[train_df['grade'] == '5 Fair']\n",
    "df_6 = train_df[train_df['grade'] == '6 Low Average']\n",
    "df_7 = train_df[train_df['grade'] == '7 Average']\n",
    "df_8 = train_df[train_df['grade'] == '8 Good']\n",
    "df_9 = train_df[train_df['grade'] == '9 Better']"
   ]
  },
  {
   "cell_type": "code",
   "execution_count": 32,
   "metadata": {},
   "outputs": [
    {
     "data": {
      "text/plain": [
       "0.0"
      ]
     },
     "execution_count": 32,
     "metadata": {},
     "output_type": "execute_result"
    }
   ],
   "source": [
    "f_value_grade, p_value_grade = stats.f_oneway(df_10['price'], df_11['price'], df_12['price'],\n",
    "                                df_4['price'] , df_5['price'], df_6['price'], df_7['price'],df_8['price'],\n",
    "                                              df_9['price'])\n",
    "p_value_grade"
   ]
  },
  {
   "cell_type": "markdown",
   "metadata": {},
   "source": [
    "There is a significant difference in price betweeen grades but we don't know which one is significant.\n",
    "Further testing required to determine which is important"
   ]
  },
  {
   "cell_type": "code",
   "execution_count": 33,
   "metadata": {},
   "outputs": [
    {
     "name": "stdout",
     "output_type": "stream",
     "text": [
      "                Multiple Comparison of Means - Tukey HSD, FWER=0.05                \n",
      "===================================================================================\n",
      "    group1        group2       meandiff   p-adj      lower         upper     reject\n",
      "-----------------------------------------------------------------------------------\n",
      " 10 Very Good  11 Excellent   440093.1729  0.001    381286.075   498900.2708   True\n",
      " 10 Very Good     12 Luxury  1204225.3694  0.001  1093647.0985  1314803.6403   True\n",
      " 10 Very Good    13 Mansion  3538808.7027  0.001  3246113.8658  3831503.5397   True\n",
      " 10 Very Good        3 Poor  -802941.2973 0.0642 -1626871.7649    20989.1704  False\n",
      " 10 Very Good         4 Low  -845764.8267  0.001 -1047772.4292  -643757.2241   True\n",
      " 10 Very Good        5 Fair  -811568.6582  0.001  -881854.5837  -741282.7327   True\n",
      " 10 Very Good 6 Low Average  -759938.1731  0.001  -797749.9956  -722126.3506   True\n",
      " 10 Very Good     7 Average  -661960.3897  0.001  -694253.1798  -629667.5996   True\n",
      " 10 Very Good        8 Good  -522053.3614  0.001  -555186.7265  -488919.9963   True\n",
      " 10 Very Good      9 Better  -285430.3018  0.001  -321689.6657  -249170.9379   True\n",
      " 11 Excellent     12 Luxury   764132.1965  0.001    646537.644   881726.7491   True\n",
      " 11 Excellent    13 Mansion  3098715.5299  0.001  2803298.5494  3394132.5103   True\n",
      " 11 Excellent        3 Poor -1243034.4701  0.001 -2067935.8827  -418133.0576   True\n",
      " 11 Excellent         4 Low -1285857.9996  0.001 -1491790.0182  -1079925.981   True\n",
      " 11 Excellent        5 Fair -1251661.8311  0.001 -1332538.5033 -1170785.1589   True\n",
      " 11 Excellent 6 Low Average  -1200031.346  0.001 -1255082.7648 -1144979.9272   True\n",
      " 11 Excellent     7 Average -1102053.5626  0.001 -1153470.9632  -1050636.162   True\n",
      " 11 Excellent        8 Good  -962146.5343  0.001 -1014095.9777  -910197.0908   True\n",
      " 11 Excellent      9 Better  -725523.4747  0.001  -779520.3844   -671526.565   True\n",
      "    12 Luxury    13 Mansion  2334583.3333  0.001  2024679.3618  2644487.3049   True\n",
      "    12 Luxury        3 Poor -2007166.6667  0.001 -2837366.4135 -1176966.9199   True\n",
      "    12 Luxury         4 Low -2049990.1961  0.001  -2276214.146 -1823766.2462   True\n",
      "    12 Luxury        5 Fair -2015794.0276  0.001 -2139528.8867 -1892059.1686   True\n",
      "    12 Luxury 6 Low Average -1964163.5425  0.001 -2072791.0618 -1855536.0232   True\n",
      "    12 Luxury     7 Average -1866185.7591  0.001 -1973017.5349 -1759353.9833   True\n",
      "    12 Luxury        8 Good -1726278.7308  0.001 -1833367.5906 -1619189.8709   True\n",
      "    12 Luxury      9 Better -1489655.6712  0.001 -1597752.5976 -1381558.7449   True\n",
      "   13 Mansion        3 Poor    -4341750.0  0.001  -5215062.277  -3468437.723   True\n",
      "   13 Mansion         4 Low -4384573.5294  0.001 -4737589.0943 -4031557.9645   True\n",
      "   13 Mansion        5 Fair -4350377.3609  0.001 -4648291.8267 -4052462.8952   True\n",
      "   13 Mansion 6 Low Average -4298746.8758  0.001 -4590710.3179 -4006783.4338   True\n",
      "   13 Mansion     7 Average -4200769.0924  0.001 -4492069.1815 -3909469.0034   True\n",
      "   13 Mansion        8 Good -4060862.0641  0.001 -4352256.5347 -3769467.5936   True\n",
      "   13 Mansion      9 Better -3824239.0046  0.001 -4116005.4506 -3532472.5585   True\n",
      "       3 Poor         4 Low   -42823.5294    0.9  -890060.8852   804413.8264  False\n",
      "       3 Poor        5 Fair    -8627.3609    0.9  -834426.4751   817171.7532  False\n",
      "       3 Poor 6 Low Average    43003.1242    0.9   -780667.805   866674.0533  False\n",
      "       3 Poor     7 Average   140980.9076    0.9   -682455.119   964416.9342  False\n",
      "       3 Poor        8 Good   280887.9359    0.9   -542581.484  1104357.3558  False\n",
      "       3 Poor      9 Better   517510.9954 0.6142  -306090.1259  1341112.1168  False\n",
      "        4 Low        5 Fair    34196.1685    0.9  -175302.8359   243695.1729  False\n",
      "        4 Low 6 Low Average    85826.6536    0.9  -115119.7458    286773.053  False\n",
      "        4 Low     7 Average    183804.437 0.1054   -16176.9267   383785.8006  False\n",
      "        4 Low        8 Good   323711.4653  0.001   123592.6471   523830.2835   True\n",
      "        4 Low      9 Better   560334.5249  0.001   359674.4566   760994.5931   True\n",
      "       5 Fair 6 Low Average    51630.4851 0.3198   -15544.6239   118805.5941  False\n",
      "       5 Fair     7 Average   149608.2685  0.001    85377.5466   213838.9905   True\n",
      "       5 Fair        8 Good   289515.2968  0.001   224857.8825   354172.7112   True\n",
      "       5 Fair      9 Better   526138.3564  0.001   459824.6865   592452.0263   True\n",
      "6 Low Average     7 Average    97977.7834  0.001    73174.3916   122781.1752   True\n",
      "6 Low Average        8 Good   237884.8117  0.001   211996.5164    263773.107   True\n",
      "6 Low Average      9 Better   474507.8713  0.001   444723.2206    504292.522   True\n",
      "    7 Average        8 Good   139907.0283  0.001   123075.6825   156738.3742   True\n",
      "    7 Average      9 Better   376530.0879  0.001   354164.5834   398895.5923   True\n",
      "       8 Good      9 Better   236623.0596  0.001   213060.1358   260185.9833   True\n",
      "-----------------------------------------------------------------------------------\n"
     ]
    }
   ],
   "source": [
    "#ad-hoc test\n",
    "df_grade = train_df[['grade', 'price']]\n",
    "\n",
    "print(pairwise_tukeyhsd(df_grade['price'], df_grade['grade']))"
   ]
  },
  {
   "cell_type": "markdown",
   "metadata": {},
   "source": [
    "Summary of what we notice"
   ]
  },
  {
   "cell_type": "markdown",
   "metadata": {},
   "source": [
    "#### One Hot Encoding | Rework to include Train only"
   ]
  },
  {
   "cell_type": "code",
   "execution_count": 34,
   "metadata": {},
   "outputs": [],
   "source": [
    "#categorizing average and fair together since they are not different from each other\n",
    "df3['view'] = df3['view'].str.replace('AVERAGE', 'FAIR')"
   ]
  },
  {
   "cell_type": "code",
   "execution_count": 35,
   "metadata": {},
   "outputs": [
    {
     "data": {
      "text/html": [
       "<div>\n",
       "<style scoped>\n",
       "    .dataframe tbody tr th:only-of-type {\n",
       "        vertical-align: middle;\n",
       "    }\n",
       "\n",
       "    .dataframe tbody tr th {\n",
       "        vertical-align: top;\n",
       "    }\n",
       "\n",
       "    .dataframe thead th {\n",
       "        text-align: right;\n",
       "    }\n",
       "</style>\n",
       "<table border=\"1\" class=\"dataframe\">\n",
       "  <thead>\n",
       "    <tr style=\"text-align: right;\">\n",
       "      <th></th>\n",
       "      <th>grade</th>\n",
       "      <th>view</th>\n",
       "    </tr>\n",
       "  </thead>\n",
       "  <tbody>\n",
       "    <tr>\n",
       "      <th>15502</th>\n",
       "      <td>7 Average</td>\n",
       "      <td>FAIR</td>\n",
       "    </tr>\n",
       "    <tr>\n",
       "      <th>7198</th>\n",
       "      <td>7 Average</td>\n",
       "      <td>NONE</td>\n",
       "    </tr>\n",
       "    <tr>\n",
       "      <th>7083</th>\n",
       "      <td>8 Good</td>\n",
       "      <td>NONE</td>\n",
       "    </tr>\n",
       "    <tr>\n",
       "      <th>21100</th>\n",
       "      <td>8 Good</td>\n",
       "      <td>NONE</td>\n",
       "    </tr>\n",
       "    <tr>\n",
       "      <th>2405</th>\n",
       "      <td>11 Excellent</td>\n",
       "      <td>NONE</td>\n",
       "    </tr>\n",
       "    <tr>\n",
       "      <th>...</th>\n",
       "      <td>...</td>\n",
       "      <td>...</td>\n",
       "    </tr>\n",
       "    <tr>\n",
       "      <th>17577</th>\n",
       "      <td>7 Average</td>\n",
       "      <td>NONE</td>\n",
       "    </tr>\n",
       "    <tr>\n",
       "      <th>5228</th>\n",
       "      <td>7 Average</td>\n",
       "      <td>NONE</td>\n",
       "    </tr>\n",
       "    <tr>\n",
       "      <th>10941</th>\n",
       "      <td>6 Low Average</td>\n",
       "      <td>NONE</td>\n",
       "    </tr>\n",
       "    <tr>\n",
       "      <th>4776</th>\n",
       "      <td>7 Average</td>\n",
       "      <td>NONE</td>\n",
       "    </tr>\n",
       "    <tr>\n",
       "      <th>10505</th>\n",
       "      <td>7 Average</td>\n",
       "      <td>NONE</td>\n",
       "    </tr>\n",
       "  </tbody>\n",
       "</table>\n",
       "<p>14308 rows × 2 columns</p>\n",
       "</div>"
      ],
      "text/plain": [
       "               grade  view\n",
       "15502      7 Average  FAIR\n",
       "7198       7 Average  NONE\n",
       "7083          8 Good  NONE\n",
       "21100         8 Good  NONE\n",
       "2405    11 Excellent  NONE\n",
       "...              ...   ...\n",
       "17577      7 Average  NONE\n",
       "5228       7 Average  NONE\n",
       "10941  6 Low Average  NONE\n",
       "4776       7 Average  NONE\n",
       "10505      7 Average  NONE\n",
       "\n",
       "[14308 rows x 2 columns]"
      ]
     },
     "execution_count": 35,
     "metadata": {},
     "output_type": "execute_result"
    }
   ],
   "source": [
    "#making the categorical variable\n",
    "cate_column = df3[['grade', 'view']]\n",
    "\n",
    "cate_column"
   ]
  },
  {
   "cell_type": "code",
   "execution_count": 40,
   "metadata": {},
   "outputs": [
    {
     "data": {
      "text/plain": [
       "<14308x12 sparse matrix of type '<class 'numpy.float64'>'\n",
       "\twith 27674 stored elements in Compressed Sparse Row format>"
      ]
     },
     "execution_count": 40,
     "metadata": {},
     "output_type": "execute_result"
    }
   ],
   "source": [
    "ohe = OneHotEncoder(drop='first')\n",
    "\n",
    "column_name = ['grade', 'view']\n",
    "features = cate_column.copy()\n",
    "\n",
    "features2 = features[column_name]\n",
    "\n",
    "cate_ohe = ohe.fit_transform(features2)\n",
    "\n",
    "cate_ohe"
   ]
  },
  {
   "cell_type": "code",
   "execution_count": 41,
   "metadata": {},
   "outputs": [
    {
     "name": "stderr",
     "output_type": "stream",
     "text": [
      "C:\\Users\\xiaoh\\anaconda3\\envs\\learn-env\\lib\\site-packages\\sklearn\\utils\\deprecation.py:87: FutureWarning: Function get_feature_names is deprecated; get_feature_names is deprecated in 1.0 and will be removed in 1.2. Please use get_feature_names_out instead.\n",
      "  warnings.warn(msg, category=FutureWarning)\n"
     ]
    }
   ],
   "source": [
    "name = ohe.get_feature_names()"
   ]
  },
  {
   "cell_type": "code",
   "execution_count": 42,
   "metadata": {},
   "outputs": [
    {
     "data": {
      "text/html": [
       "<div>\n",
       "<style scoped>\n",
       "    .dataframe tbody tr th:only-of-type {\n",
       "        vertical-align: middle;\n",
       "    }\n",
       "\n",
       "    .dataframe tbody tr th {\n",
       "        vertical-align: top;\n",
       "    }\n",
       "\n",
       "    .dataframe thead th {\n",
       "        text-align: right;\n",
       "    }\n",
       "</style>\n",
       "<table border=\"1\" class=\"dataframe\">\n",
       "  <thead>\n",
       "    <tr style=\"text-align: right;\">\n",
       "      <th></th>\n",
       "      <th>x0_11 Excellent</th>\n",
       "      <th>x0_12 Luxury</th>\n",
       "      <th>x0_13 Mansion</th>\n",
       "      <th>x0_4 Low</th>\n",
       "      <th>x0_5 Fair</th>\n",
       "      <th>x0_6 Low Average</th>\n",
       "      <th>x0_7 Average</th>\n",
       "      <th>x0_8 Good</th>\n",
       "      <th>x0_9 Better</th>\n",
       "      <th>x1_FAIR</th>\n",
       "      <th>x1_GOOD</th>\n",
       "      <th>x1_NONE</th>\n",
       "    </tr>\n",
       "  </thead>\n",
       "  <tbody>\n",
       "    <tr>\n",
       "      <th>15502</th>\n",
       "      <td>0.00</td>\n",
       "      <td>0.00</td>\n",
       "      <td>0.00</td>\n",
       "      <td>0.00</td>\n",
       "      <td>0.00</td>\n",
       "      <td>0.00</td>\n",
       "      <td>1.00</td>\n",
       "      <td>0.00</td>\n",
       "      <td>0.00</td>\n",
       "      <td>1.00</td>\n",
       "      <td>0.00</td>\n",
       "      <td>0.00</td>\n",
       "    </tr>\n",
       "    <tr>\n",
       "      <th>7198</th>\n",
       "      <td>0.00</td>\n",
       "      <td>0.00</td>\n",
       "      <td>0.00</td>\n",
       "      <td>0.00</td>\n",
       "      <td>0.00</td>\n",
       "      <td>0.00</td>\n",
       "      <td>1.00</td>\n",
       "      <td>0.00</td>\n",
       "      <td>0.00</td>\n",
       "      <td>0.00</td>\n",
       "      <td>0.00</td>\n",
       "      <td>1.00</td>\n",
       "    </tr>\n",
       "    <tr>\n",
       "      <th>7083</th>\n",
       "      <td>0.00</td>\n",
       "      <td>0.00</td>\n",
       "      <td>0.00</td>\n",
       "      <td>0.00</td>\n",
       "      <td>0.00</td>\n",
       "      <td>0.00</td>\n",
       "      <td>0.00</td>\n",
       "      <td>1.00</td>\n",
       "      <td>0.00</td>\n",
       "      <td>0.00</td>\n",
       "      <td>0.00</td>\n",
       "      <td>1.00</td>\n",
       "    </tr>\n",
       "    <tr>\n",
       "      <th>21100</th>\n",
       "      <td>0.00</td>\n",
       "      <td>0.00</td>\n",
       "      <td>0.00</td>\n",
       "      <td>0.00</td>\n",
       "      <td>0.00</td>\n",
       "      <td>0.00</td>\n",
       "      <td>0.00</td>\n",
       "      <td>1.00</td>\n",
       "      <td>0.00</td>\n",
       "      <td>0.00</td>\n",
       "      <td>0.00</td>\n",
       "      <td>1.00</td>\n",
       "    </tr>\n",
       "    <tr>\n",
       "      <th>2405</th>\n",
       "      <td>1.00</td>\n",
       "      <td>0.00</td>\n",
       "      <td>0.00</td>\n",
       "      <td>0.00</td>\n",
       "      <td>0.00</td>\n",
       "      <td>0.00</td>\n",
       "      <td>0.00</td>\n",
       "      <td>0.00</td>\n",
       "      <td>0.00</td>\n",
       "      <td>0.00</td>\n",
       "      <td>0.00</td>\n",
       "      <td>1.00</td>\n",
       "    </tr>\n",
       "    <tr>\n",
       "      <th>...</th>\n",
       "      <td>...</td>\n",
       "      <td>...</td>\n",
       "      <td>...</td>\n",
       "      <td>...</td>\n",
       "      <td>...</td>\n",
       "      <td>...</td>\n",
       "      <td>...</td>\n",
       "      <td>...</td>\n",
       "      <td>...</td>\n",
       "      <td>...</td>\n",
       "      <td>...</td>\n",
       "      <td>...</td>\n",
       "    </tr>\n",
       "    <tr>\n",
       "      <th>17577</th>\n",
       "      <td>0.00</td>\n",
       "      <td>0.00</td>\n",
       "      <td>0.00</td>\n",
       "      <td>0.00</td>\n",
       "      <td>0.00</td>\n",
       "      <td>0.00</td>\n",
       "      <td>1.00</td>\n",
       "      <td>0.00</td>\n",
       "      <td>0.00</td>\n",
       "      <td>0.00</td>\n",
       "      <td>0.00</td>\n",
       "      <td>1.00</td>\n",
       "    </tr>\n",
       "    <tr>\n",
       "      <th>5228</th>\n",
       "      <td>0.00</td>\n",
       "      <td>0.00</td>\n",
       "      <td>0.00</td>\n",
       "      <td>0.00</td>\n",
       "      <td>0.00</td>\n",
       "      <td>0.00</td>\n",
       "      <td>1.00</td>\n",
       "      <td>0.00</td>\n",
       "      <td>0.00</td>\n",
       "      <td>0.00</td>\n",
       "      <td>0.00</td>\n",
       "      <td>1.00</td>\n",
       "    </tr>\n",
       "    <tr>\n",
       "      <th>10941</th>\n",
       "      <td>0.00</td>\n",
       "      <td>0.00</td>\n",
       "      <td>0.00</td>\n",
       "      <td>0.00</td>\n",
       "      <td>0.00</td>\n",
       "      <td>1.00</td>\n",
       "      <td>0.00</td>\n",
       "      <td>0.00</td>\n",
       "      <td>0.00</td>\n",
       "      <td>0.00</td>\n",
       "      <td>0.00</td>\n",
       "      <td>1.00</td>\n",
       "    </tr>\n",
       "    <tr>\n",
       "      <th>4776</th>\n",
       "      <td>0.00</td>\n",
       "      <td>0.00</td>\n",
       "      <td>0.00</td>\n",
       "      <td>0.00</td>\n",
       "      <td>0.00</td>\n",
       "      <td>0.00</td>\n",
       "      <td>1.00</td>\n",
       "      <td>0.00</td>\n",
       "      <td>0.00</td>\n",
       "      <td>0.00</td>\n",
       "      <td>0.00</td>\n",
       "      <td>1.00</td>\n",
       "    </tr>\n",
       "    <tr>\n",
       "      <th>10505</th>\n",
       "      <td>0.00</td>\n",
       "      <td>0.00</td>\n",
       "      <td>0.00</td>\n",
       "      <td>0.00</td>\n",
       "      <td>0.00</td>\n",
       "      <td>0.00</td>\n",
       "      <td>1.00</td>\n",
       "      <td>0.00</td>\n",
       "      <td>0.00</td>\n",
       "      <td>0.00</td>\n",
       "      <td>0.00</td>\n",
       "      <td>1.00</td>\n",
       "    </tr>\n",
       "  </tbody>\n",
       "</table>\n",
       "<p>14308 rows × 12 columns</p>\n",
       "</div>"
      ],
      "text/plain": [
       "       x0_11 Excellent  x0_12 Luxury  x0_13 Mansion  x0_4 Low  x0_5 Fair  \\\n",
       "15502             0.00          0.00           0.00      0.00       0.00   \n",
       "7198              0.00          0.00           0.00      0.00       0.00   \n",
       "7083              0.00          0.00           0.00      0.00       0.00   \n",
       "21100             0.00          0.00           0.00      0.00       0.00   \n",
       "2405              1.00          0.00           0.00      0.00       0.00   \n",
       "...                ...           ...            ...       ...        ...   \n",
       "17577             0.00          0.00           0.00      0.00       0.00   \n",
       "5228              0.00          0.00           0.00      0.00       0.00   \n",
       "10941             0.00          0.00           0.00      0.00       0.00   \n",
       "4776              0.00          0.00           0.00      0.00       0.00   \n",
       "10505             0.00          0.00           0.00      0.00       0.00   \n",
       "\n",
       "       x0_6 Low Average  x0_7 Average  x0_8 Good  x0_9 Better  x1_FAIR  \\\n",
       "15502              0.00          1.00       0.00         0.00     1.00   \n",
       "7198               0.00          1.00       0.00         0.00     0.00   \n",
       "7083               0.00          0.00       1.00         0.00     0.00   \n",
       "21100              0.00          0.00       1.00         0.00     0.00   \n",
       "2405               0.00          0.00       0.00         0.00     0.00   \n",
       "...                 ...           ...        ...          ...      ...   \n",
       "17577              0.00          1.00       0.00         0.00     0.00   \n",
       "5228               0.00          1.00       0.00         0.00     0.00   \n",
       "10941              1.00          0.00       0.00         0.00     0.00   \n",
       "4776               0.00          1.00       0.00         0.00     0.00   \n",
       "10505              0.00          1.00       0.00         0.00     0.00   \n",
       "\n",
       "       x1_GOOD  x1_NONE  \n",
       "15502     0.00     0.00  \n",
       "7198      0.00     1.00  \n",
       "7083      0.00     1.00  \n",
       "21100     0.00     1.00  \n",
       "2405      0.00     1.00  \n",
       "...        ...      ...  \n",
       "17577     0.00     1.00  \n",
       "5228      0.00     1.00  \n",
       "10941     0.00     1.00  \n",
       "4776      0.00     1.00  \n",
       "10505     0.00     1.00  \n",
       "\n",
       "[14308 rows x 12 columns]"
      ]
     },
     "execution_count": 42,
     "metadata": {},
     "output_type": "execute_result"
    }
   ],
   "source": [
    "cate_parsed = pd.DataFrame(cate_ohe.todense(), columns = name, index = features.index)\n",
    "cate_parsed"
   ]
  },
  {
   "cell_type": "markdown",
   "metadata": {},
   "source": [
    "#### Scaling | Rework only to include train"
   ]
  },
  {
   "cell_type": "code",
   "execution_count": 43,
   "metadata": {},
   "outputs": [],
   "source": [
    "numbers = train_df.select_dtypes(np.number)"
   ]
  },
  {
   "cell_type": "code",
   "execution_count": 45,
   "metadata": {},
   "outputs": [
    {
     "data": {
      "text/html": [
       "<div>\n",
       "<style scoped>\n",
       "    .dataframe tbody tr th:only-of-type {\n",
       "        vertical-align: middle;\n",
       "    }\n",
       "\n",
       "    .dataframe tbody tr th {\n",
       "        vertical-align: top;\n",
       "    }\n",
       "\n",
       "    .dataframe thead th {\n",
       "        text-align: right;\n",
       "    }\n",
       "</style>\n",
       "<table border=\"1\" class=\"dataframe\">\n",
       "  <thead>\n",
       "    <tr style=\"text-align: right;\">\n",
       "      <th></th>\n",
       "      <th>id</th>\n",
       "      <th>bedrooms</th>\n",
       "      <th>bathrooms</th>\n",
       "      <th>sqft_living</th>\n",
       "      <th>sqft_lot</th>\n",
       "      <th>floors</th>\n",
       "      <th>sqft_above</th>\n",
       "      <th>yr_built</th>\n",
       "      <th>yr_renovated</th>\n",
       "      <th>zipcode</th>\n",
       "      <th>lat</th>\n",
       "      <th>long</th>\n",
       "      <th>sqft_living15</th>\n",
       "      <th>sqft_lot15</th>\n",
       "      <th>price</th>\n",
       "    </tr>\n",
       "  </thead>\n",
       "  <tbody>\n",
       "    <tr>\n",
       "      <th>15502</th>\n",
       "      <td>579000595</td>\n",
       "      <td>-1.47</td>\n",
       "      <td>-1.44</td>\n",
       "      <td>-0.57</td>\n",
       "      <td>5000</td>\n",
       "      <td>1.50</td>\n",
       "      <td>1560</td>\n",
       "      <td>1942</td>\n",
       "      <td>0.00</td>\n",
       "      <td>98117</td>\n",
       "      <td>47.70</td>\n",
       "      <td>-122.39</td>\n",
       "      <td>2620</td>\n",
       "      <td>5400</td>\n",
       "      <td>0.49</td>\n",
       "    </tr>\n",
       "    <tr>\n",
       "      <th>7198</th>\n",
       "      <td>5101407250</td>\n",
       "      <td>0.65</td>\n",
       "      <td>0.17</td>\n",
       "      <td>0.88</td>\n",
       "      <td>9680</td>\n",
       "      <td>2.00</td>\n",
       "      <td>1990</td>\n",
       "      <td>1947</td>\n",
       "      <td>0.00</td>\n",
       "      <td>98125</td>\n",
       "      <td>47.70</td>\n",
       "      <td>-122.31</td>\n",
       "      <td>1850</td>\n",
       "      <td>7540</td>\n",
       "      <td>0.24</td>\n",
       "    </tr>\n",
       "    <tr>\n",
       "      <th>7083</th>\n",
       "      <td>5694001061</td>\n",
       "      <td>-0.41</td>\n",
       "      <td>1.79</td>\n",
       "      <td>-0.21</td>\n",
       "      <td>1710</td>\n",
       "      <td>2.00</td>\n",
       "      <td>1640</td>\n",
       "      <td>1999</td>\n",
       "      <td>0.00</td>\n",
       "      <td>98103</td>\n",
       "      <td>47.66</td>\n",
       "      <td>-122.35</td>\n",
       "      <td>1680</td>\n",
       "      <td>1562</td>\n",
       "      <td>0.12</td>\n",
       "    </tr>\n",
       "    <tr>\n",
       "      <th>21100</th>\n",
       "      <td>6824100029</td>\n",
       "      <td>-0.41</td>\n",
       "      <td>1.14</td>\n",
       "      <td>-0.60</td>\n",
       "      <td>1568</td>\n",
       "      <td>3.00</td>\n",
       "      <td>1530</td>\n",
       "      <td>2012</td>\n",
       "      <td>0.00</td>\n",
       "      <td>98117</td>\n",
       "      <td>47.70</td>\n",
       "      <td>-122.37</td>\n",
       "      <td>1460</td>\n",
       "      <td>1224</td>\n",
       "      <td>-0.18</td>\n",
       "    </tr>\n",
       "    <tr>\n",
       "      <th>2405</th>\n",
       "      <td>3888100128</td>\n",
       "      <td>0.65</td>\n",
       "      <td>1.79</td>\n",
       "      <td>2.20</td>\n",
       "      <td>7304</td>\n",
       "      <td>2.00</td>\n",
       "      <td>3070</td>\n",
       "      <td>2006</td>\n",
       "      <td>0.00</td>\n",
       "      <td>98033</td>\n",
       "      <td>47.68</td>\n",
       "      <td>-122.17</td>\n",
       "      <td>2470</td>\n",
       "      <td>9600</td>\n",
       "      <td>1.14</td>\n",
       "    </tr>\n",
       "    <tr>\n",
       "      <th>...</th>\n",
       "      <td>...</td>\n",
       "      <td>...</td>\n",
       "      <td>...</td>\n",
       "      <td>...</td>\n",
       "      <td>...</td>\n",
       "      <td>...</td>\n",
       "      <td>...</td>\n",
       "      <td>...</td>\n",
       "      <td>...</td>\n",
       "      <td>...</td>\n",
       "      <td>...</td>\n",
       "      <td>...</td>\n",
       "      <td>...</td>\n",
       "      <td>...</td>\n",
       "      <td>...</td>\n",
       "    </tr>\n",
       "    <tr>\n",
       "      <th>17577</th>\n",
       "      <td>4077800593</td>\n",
       "      <td>-0.41</td>\n",
       "      <td>-1.44</td>\n",
       "      <td>-0.78</td>\n",
       "      <td>8968</td>\n",
       "      <td>1.00</td>\n",
       "      <td>1360</td>\n",
       "      <td>1956</td>\n",
       "      <td>0.00</td>\n",
       "      <td>98125</td>\n",
       "      <td>47.71</td>\n",
       "      <td>-122.29</td>\n",
       "      <td>1490</td>\n",
       "      <td>7355</td>\n",
       "      <td>-0.50</td>\n",
       "    </tr>\n",
       "    <tr>\n",
       "      <th>5228</th>\n",
       "      <td>4346300010</td>\n",
       "      <td>-0.41</td>\n",
       "      <td>0.49</td>\n",
       "      <td>-0.57</td>\n",
       "      <td>9361</td>\n",
       "      <td>1.50</td>\n",
       "      <td>1360</td>\n",
       "      <td>1936</td>\n",
       "      <td>0.00</td>\n",
       "      <td>98108</td>\n",
       "      <td>47.56</td>\n",
       "      <td>-122.30</td>\n",
       "      <td>1670</td>\n",
       "      <td>6244</td>\n",
       "      <td>0.01</td>\n",
       "    </tr>\n",
       "    <tr>\n",
       "      <th>10941</th>\n",
       "      <td>2130701535</td>\n",
       "      <td>-1.47</td>\n",
       "      <td>-0.47</td>\n",
       "      <td>-0.78</td>\n",
       "      <td>10000</td>\n",
       "      <td>1.00</td>\n",
       "      <td>1360</td>\n",
       "      <td>1957</td>\n",
       "      <td>1989.00</td>\n",
       "      <td>98019</td>\n",
       "      <td>47.74</td>\n",
       "      <td>-121.98</td>\n",
       "      <td>1430</td>\n",
       "      <td>10000</td>\n",
       "      <td>-0.70</td>\n",
       "    </tr>\n",
       "    <tr>\n",
       "      <th>4776</th>\n",
       "      <td>411100020</td>\n",
       "      <td>-0.41</td>\n",
       "      <td>-0.47</td>\n",
       "      <td>-1.02</td>\n",
       "      <td>8263</td>\n",
       "      <td>1.00</td>\n",
       "      <td>1140</td>\n",
       "      <td>1950</td>\n",
       "      <td>0.00</td>\n",
       "      <td>98155</td>\n",
       "      <td>47.74</td>\n",
       "      <td>-122.33</td>\n",
       "      <td>1140</td>\n",
       "      <td>6770</td>\n",
       "      <td>-0.62</td>\n",
       "    </tr>\n",
       "    <tr>\n",
       "      <th>10505</th>\n",
       "      <td>7229900885</td>\n",
       "      <td>-0.41</td>\n",
       "      <td>-1.44</td>\n",
       "      <td>-0.62</td>\n",
       "      <td>10369</td>\n",
       "      <td>1.00</td>\n",
       "      <td>1010</td>\n",
       "      <td>1968</td>\n",
       "      <td>0.00</td>\n",
       "      <td>98059</td>\n",
       "      <td>47.48</td>\n",
       "      <td>-122.10</td>\n",
       "      <td>1510</td>\n",
       "      <td>16057</td>\n",
       "      <td>-0.61</td>\n",
       "    </tr>\n",
       "  </tbody>\n",
       "</table>\n",
       "<p>14309 rows × 15 columns</p>\n",
       "</div>"
      ],
      "text/plain": [
       "               id  bedrooms  bathrooms  sqft_living  sqft_lot  floors  \\\n",
       "15502   579000595     -1.47      -1.44        -0.57      5000    1.50   \n",
       "7198   5101407250      0.65       0.17         0.88      9680    2.00   \n",
       "7083   5694001061     -0.41       1.79        -0.21      1710    2.00   \n",
       "21100  6824100029     -0.41       1.14        -0.60      1568    3.00   \n",
       "2405   3888100128      0.65       1.79         2.20      7304    2.00   \n",
       "...           ...       ...        ...          ...       ...     ...   \n",
       "17577  4077800593     -0.41      -1.44        -0.78      8968    1.00   \n",
       "5228   4346300010     -0.41       0.49        -0.57      9361    1.50   \n",
       "10941  2130701535     -1.47      -0.47        -0.78     10000    1.00   \n",
       "4776    411100020     -0.41      -0.47        -1.02      8263    1.00   \n",
       "10505  7229900885     -0.41      -1.44        -0.62     10369    1.00   \n",
       "\n",
       "       sqft_above  yr_built  yr_renovated  zipcode   lat    long  \\\n",
       "15502        1560      1942          0.00    98117 47.70 -122.39   \n",
       "7198         1990      1947          0.00    98125 47.70 -122.31   \n",
       "7083         1640      1999          0.00    98103 47.66 -122.35   \n",
       "21100        1530      2012          0.00    98117 47.70 -122.37   \n",
       "2405         3070      2006          0.00    98033 47.68 -122.17   \n",
       "...           ...       ...           ...      ...   ...     ...   \n",
       "17577        1360      1956          0.00    98125 47.71 -122.29   \n",
       "5228         1360      1936          0.00    98108 47.56 -122.30   \n",
       "10941        1360      1957       1989.00    98019 47.74 -121.98   \n",
       "4776         1140      1950          0.00    98155 47.74 -122.33   \n",
       "10505        1010      1968          0.00    98059 47.48 -122.10   \n",
       "\n",
       "       sqft_living15  sqft_lot15  price  \n",
       "15502           2620        5400   0.49  \n",
       "7198            1850        7540   0.24  \n",
       "7083            1680        1562   0.12  \n",
       "21100           1460        1224  -0.18  \n",
       "2405            2470        9600   1.14  \n",
       "...              ...         ...    ...  \n",
       "17577           1490        7355  -0.50  \n",
       "5228            1670        6244   0.01  \n",
       "10941           1430       10000  -0.70  \n",
       "4776            1140        6770  -0.62  \n",
       "10505           1510       16057  -0.61  \n",
       "\n",
       "[14309 rows x 15 columns]"
      ]
     },
     "execution_count": 45,
     "metadata": {},
     "output_type": "execute_result"
    }
   ],
   "source": [
    "#Rework to include only the train\n",
    "ss = StandardScaler()\n",
    "\n",
    "columns_name1 = ['price', 'bedrooms', 'bathrooms', 'sqft_living']\n",
    "numbers_scaling = numbers.copy()\n",
    "\n",
    "features= numbers_scaling[columns_name1]\n",
    "\n",
    "scale1 = ss.fit(features)\n",
    "scale2 = scale1.transform(features)\n",
    "numbers_scaling[columns_name1] = scale2\n",
    "\n",
    "numbers_scaling"
   ]
  },
  {
   "cell_type": "code",
   "execution_count": 46,
   "metadata": {},
   "outputs": [],
   "source": [
    "#combinig scale and ohe\n",
    "scaled_and_parse_df = pd.concat([numbers_scaling, cate_parsed], axis = 1)"
   ]
  },
  {
   "cell_type": "markdown",
   "metadata": {},
   "source": [
    "## Linear Regression | Rework so fit is only on train and not test"
   ]
  },
  {
   "cell_type": "markdown",
   "metadata": {},
   "source": [
    "#### simple linear"
   ]
  },
  {
   "cell_type": "code",
   "execution_count": 75,
   "metadata": {},
   "outputs": [
    {
     "data": {
      "image/png": "[encoded data removed]",
      "text/plain": [
       "<Figure size 432x288 with 1 Axes>"
      ]
     },
     "metadata": {
      "needs_background": "light"
     },
     "output_type": "display_data"
    }
   ],
   "source": [
    "fig, ax = plt.subplots()\n",
    "\n",
    "x = scaled_and_parse_df['sqft_living']\n",
    "y = scaled_and_parse_df['price']\n",
    "\n",
    "\n",
    "ax.scatter(x, y);"
   ]
  },
  {
   "cell_type": "code",
   "execution_count": 76,
   "metadata": {},
   "outputs": [
    {
     "data": {
      "text/plain": [
       "array([[1.       , 0.7019173],\n",
       "       [0.7019173, 1.       ]])"
      ]
     },
     "execution_count": 76,
     "metadata": {},
     "output_type": "execute_result"
    }
   ],
   "source": [
    "np.corrcoef(df['sqft_living'],df['price'])"
   ]
  },
  {
   "cell_type": "markdown",
   "metadata": {},
   "source": [
    "passing our first assumption.Based on our scatterplot, we can see that there is a strong correlation between sqft_living and price.our pearson correlation coefficiant of .70 suggests that these two variables are strongly correlated. Refer to the heatmap above to multicollinearity "
   ]
  },
  {
   "cell_type": "code",
   "execution_count": 77,
   "metadata": {},
   "outputs": [],
   "source": [
    "#Create & Instantiate a DummyRegressor\n",
    "dummy_reg = DummyRegressor()"
   ]
  },
  {
   "cell_type": "code",
   "execution_count": 78,
   "metadata": {},
   "outputs": [],
   "source": [
    "#Define X and y variable using scaled & parse dataframe\n",
    "\n",
    "X_s_p = scaled_and_parse_df['sqft_living']\n",
    "y_s_p = scaled_and_parse_df['price']"
   ]
  },
  {
   "cell_type": "code",
   "execution_count": 50,
   "metadata": {},
   "outputs": [
    {
     "ename": "ValueError",
     "evalue": "could not convert string to float: '9/6/2014'",
     "output_type": "error",
     "traceback": [
      "\u001b[1;31m---------------------------------------------------------------------------\u001b[0m",
      "\u001b[1;31mValueError\u001b[0m                                Traceback (most recent call last)",
      "\u001b[1;32m<ipython-input-50-d7e3837c89d8>\u001b[0m in \u001b[0;36m<module>\u001b[1;34m\u001b[0m\n\u001b[0;32m      1\u001b[0m \u001b[0msk_lr\u001b[0m \u001b[1;33m=\u001b[0m \u001b[0mLinearRegression\u001b[0m\u001b[1;33m(\u001b[0m\u001b[1;33m)\u001b[0m\u001b[1;33m\u001b[0m\u001b[1;33m\u001b[0m\u001b[0m\n\u001b[1;32m----> 2\u001b[1;33m \u001b[0msk_lr\u001b[0m\u001b[1;33m.\u001b[0m\u001b[0mfit\u001b[0m\u001b[1;33m(\u001b[0m\u001b[0mX_train\u001b[0m\u001b[1;33m,\u001b[0m \u001b[0my_train\u001b[0m\u001b[1;33m)\u001b[0m\u001b[1;33m\u001b[0m\u001b[1;33m\u001b[0m\u001b[0m\n\u001b[0m\u001b[0;32m      3\u001b[0m \u001b[0mpreds\u001b[0m \u001b[1;33m=\u001b[0m \u001b[0msk_lr\u001b[0m\u001b[1;33m.\u001b[0m\u001b[0mpredict\u001b[0m\u001b[1;33m(\u001b[0m\u001b[0my_train\u001b[0m\u001b[1;33m)\u001b[0m\u001b[1;33m\u001b[0m\u001b[1;33m\u001b[0m\u001b[0m\n",
      "\u001b[1;32m~\\anaconda3\\envs\\learn-env\\lib\\site-packages\\sklearn\\linear_model\\_base.py\u001b[0m in \u001b[0;36mfit\u001b[1;34m(self, X, y, sample_weight)\u001b[0m\n\u001b[0;32m    660\u001b[0m         \u001b[0maccept_sparse\u001b[0m \u001b[1;33m=\u001b[0m \u001b[1;32mFalse\u001b[0m \u001b[1;32mif\u001b[0m \u001b[0mself\u001b[0m\u001b[1;33m.\u001b[0m\u001b[0mpositive\u001b[0m \u001b[1;32melse\u001b[0m \u001b[1;33m[\u001b[0m\u001b[1;34m\"csr\"\u001b[0m\u001b[1;33m,\u001b[0m \u001b[1;34m\"csc\"\u001b[0m\u001b[1;33m,\u001b[0m \u001b[1;34m\"coo\"\u001b[0m\u001b[1;33m]\u001b[0m\u001b[1;33m\u001b[0m\u001b[1;33m\u001b[0m\u001b[0m\n\u001b[0;32m    661\u001b[0m \u001b[1;33m\u001b[0m\u001b[0m\n\u001b[1;32m--> 662\u001b[1;33m         X, y = self._validate_data(\n\u001b[0m\u001b[0;32m    663\u001b[0m             \u001b[0mX\u001b[0m\u001b[1;33m,\u001b[0m \u001b[0my\u001b[0m\u001b[1;33m,\u001b[0m \u001b[0maccept_sparse\u001b[0m\u001b[1;33m=\u001b[0m\u001b[0maccept_sparse\u001b[0m\u001b[1;33m,\u001b[0m \u001b[0my_numeric\u001b[0m\u001b[1;33m=\u001b[0m\u001b[1;32mTrue\u001b[0m\u001b[1;33m,\u001b[0m \u001b[0mmulti_output\u001b[0m\u001b[1;33m=\u001b[0m\u001b[1;32mTrue\u001b[0m\u001b[1;33m\u001b[0m\u001b[1;33m\u001b[0m\u001b[0m\n\u001b[0;32m    664\u001b[0m         )\n",
      "\u001b[1;32m~\\anaconda3\\envs\\learn-env\\lib\\site-packages\\sklearn\\base.py\u001b[0m in \u001b[0;36m_validate_data\u001b[1;34m(self, X, y, reset, validate_separately, **check_params)\u001b[0m\n\u001b[0;32m    579\u001b[0m                 \u001b[0my\u001b[0m \u001b[1;33m=\u001b[0m \u001b[0mcheck_array\u001b[0m\u001b[1;33m(\u001b[0m\u001b[0my\u001b[0m\u001b[1;33m,\u001b[0m \u001b[1;33m**\u001b[0m\u001b[0mcheck_y_params\u001b[0m\u001b[1;33m)\u001b[0m\u001b[1;33m\u001b[0m\u001b[1;33m\u001b[0m\u001b[0m\n\u001b[0;32m    580\u001b[0m             \u001b[1;32melse\u001b[0m\u001b[1;33m:\u001b[0m\u001b[1;33m\u001b[0m\u001b[1;33m\u001b[0m\u001b[0m\n\u001b[1;32m--> 581\u001b[1;33m                 \u001b[0mX\u001b[0m\u001b[1;33m,\u001b[0m \u001b[0my\u001b[0m \u001b[1;33m=\u001b[0m \u001b[0mcheck_X_y\u001b[0m\u001b[1;33m(\u001b[0m\u001b[0mX\u001b[0m\u001b[1;33m,\u001b[0m \u001b[0my\u001b[0m\u001b[1;33m,\u001b[0m \u001b[1;33m**\u001b[0m\u001b[0mcheck_params\u001b[0m\u001b[1;33m)\u001b[0m\u001b[1;33m\u001b[0m\u001b[1;33m\u001b[0m\u001b[0m\n\u001b[0m\u001b[0;32m    582\u001b[0m             \u001b[0mout\u001b[0m \u001b[1;33m=\u001b[0m \u001b[0mX\u001b[0m\u001b[1;33m,\u001b[0m \u001b[0my\u001b[0m\u001b[1;33m\u001b[0m\u001b[1;33m\u001b[0m\u001b[0m\n\u001b[0;32m    583\u001b[0m \u001b[1;33m\u001b[0m\u001b[0m\n",
      "\u001b[1;32m~\\anaconda3\\envs\\learn-env\\lib\\site-packages\\sklearn\\utils\\validation.py\u001b[0m in \u001b[0;36mcheck_X_y\u001b[1;34m(X, y, accept_sparse, accept_large_sparse, dtype, order, copy, force_all_finite, ensure_2d, allow_nd, multi_output, ensure_min_samples, ensure_min_features, y_numeric, estimator)\u001b[0m\n\u001b[0;32m    962\u001b[0m         \u001b[1;32mraise\u001b[0m \u001b[0mValueError\u001b[0m\u001b[1;33m(\u001b[0m\u001b[1;34m\"y cannot be None\"\u001b[0m\u001b[1;33m)\u001b[0m\u001b[1;33m\u001b[0m\u001b[1;33m\u001b[0m\u001b[0m\n\u001b[0;32m    963\u001b[0m \u001b[1;33m\u001b[0m\u001b[0m\n\u001b[1;32m--> 964\u001b[1;33m     X = check_array(\n\u001b[0m\u001b[0;32m    965\u001b[0m         \u001b[0mX\u001b[0m\u001b[1;33m,\u001b[0m\u001b[1;33m\u001b[0m\u001b[1;33m\u001b[0m\u001b[0m\n\u001b[0;32m    966\u001b[0m         \u001b[0maccept_sparse\u001b[0m\u001b[1;33m=\u001b[0m\u001b[0maccept_sparse\u001b[0m\u001b[1;33m,\u001b[0m\u001b[1;33m\u001b[0m\u001b[1;33m\u001b[0m\u001b[0m\n",
      "\u001b[1;32m~\\anaconda3\\envs\\learn-env\\lib\\site-packages\\sklearn\\utils\\validation.py\u001b[0m in \u001b[0;36mcheck_array\u001b[1;34m(array, accept_sparse, accept_large_sparse, dtype, order, copy, force_all_finite, ensure_2d, allow_nd, ensure_min_samples, ensure_min_features, estimator)\u001b[0m\n\u001b[0;32m    744\u001b[0m                     \u001b[0marray\u001b[0m \u001b[1;33m=\u001b[0m \u001b[0marray\u001b[0m\u001b[1;33m.\u001b[0m\u001b[0mastype\u001b[0m\u001b[1;33m(\u001b[0m\u001b[0mdtype\u001b[0m\u001b[1;33m,\u001b[0m \u001b[0mcasting\u001b[0m\u001b[1;33m=\u001b[0m\u001b[1;34m\"unsafe\"\u001b[0m\u001b[1;33m,\u001b[0m \u001b[0mcopy\u001b[0m\u001b[1;33m=\u001b[0m\u001b[1;32mFalse\u001b[0m\u001b[1;33m)\u001b[0m\u001b[1;33m\u001b[0m\u001b[1;33m\u001b[0m\u001b[0m\n\u001b[0;32m    745\u001b[0m                 \u001b[1;32melse\u001b[0m\u001b[1;33m:\u001b[0m\u001b[1;33m\u001b[0m\u001b[1;33m\u001b[0m\u001b[0m\n\u001b[1;32m--> 746\u001b[1;33m                     \u001b[0marray\u001b[0m \u001b[1;33m=\u001b[0m \u001b[0mnp\u001b[0m\u001b[1;33m.\u001b[0m\u001b[0masarray\u001b[0m\u001b[1;33m(\u001b[0m\u001b[0marray\u001b[0m\u001b[1;33m,\u001b[0m \u001b[0morder\u001b[0m\u001b[1;33m=\u001b[0m\u001b[0morder\u001b[0m\u001b[1;33m,\u001b[0m \u001b[0mdtype\u001b[0m\u001b[1;33m=\u001b[0m\u001b[0mdtype\u001b[0m\u001b[1;33m)\u001b[0m\u001b[1;33m\u001b[0m\u001b[1;33m\u001b[0m\u001b[0m\n\u001b[0m\u001b[0;32m    747\u001b[0m             \u001b[1;32mexcept\u001b[0m \u001b[0mComplexWarning\u001b[0m \u001b[1;32mas\u001b[0m \u001b[0mcomplex_warning\u001b[0m\u001b[1;33m:\u001b[0m\u001b[1;33m\u001b[0m\u001b[1;33m\u001b[0m\u001b[0m\n\u001b[0;32m    748\u001b[0m                 raise ValueError(\n",
      "\u001b[1;32m~\\anaconda3\\envs\\learn-env\\lib\\site-packages\\numpy\\core\\_asarray.py\u001b[0m in \u001b[0;36masarray\u001b[1;34m(a, dtype, order)\u001b[0m\n\u001b[0;32m     83\u001b[0m \u001b[1;33m\u001b[0m\u001b[0m\n\u001b[0;32m     84\u001b[0m     \"\"\"\n\u001b[1;32m---> 85\u001b[1;33m     \u001b[1;32mreturn\u001b[0m \u001b[0marray\u001b[0m\u001b[1;33m(\u001b[0m\u001b[0ma\u001b[0m\u001b[1;33m,\u001b[0m \u001b[0mdtype\u001b[0m\u001b[1;33m,\u001b[0m \u001b[0mcopy\u001b[0m\u001b[1;33m=\u001b[0m\u001b[1;32mFalse\u001b[0m\u001b[1;33m,\u001b[0m \u001b[0morder\u001b[0m\u001b[1;33m=\u001b[0m\u001b[0morder\u001b[0m\u001b[1;33m)\u001b[0m\u001b[1;33m\u001b[0m\u001b[1;33m\u001b[0m\u001b[0m\n\u001b[0m\u001b[0;32m     86\u001b[0m \u001b[1;33m\u001b[0m\u001b[0m\n\u001b[0;32m     87\u001b[0m \u001b[1;33m\u001b[0m\u001b[0m\n",
      "\u001b[1;32m~\\anaconda3\\envs\\learn-env\\lib\\site-packages\\pandas\\core\\generic.py\u001b[0m in \u001b[0;36m__array__\u001b[1;34m(self, dtype)\u001b[0m\n\u001b[0;32m   1779\u001b[0m \u001b[1;33m\u001b[0m\u001b[0m\n\u001b[0;32m   1780\u001b[0m     \u001b[1;32mdef\u001b[0m \u001b[0m__array__\u001b[0m\u001b[1;33m(\u001b[0m\u001b[0mself\u001b[0m\u001b[1;33m,\u001b[0m \u001b[0mdtype\u001b[0m\u001b[1;33m=\u001b[0m\u001b[1;32mNone\u001b[0m\u001b[1;33m)\u001b[0m \u001b[1;33m->\u001b[0m \u001b[0mnp\u001b[0m\u001b[1;33m.\u001b[0m\u001b[0mndarray\u001b[0m\u001b[1;33m:\u001b[0m\u001b[1;33m\u001b[0m\u001b[1;33m\u001b[0m\u001b[0m\n\u001b[1;32m-> 1781\u001b[1;33m         \u001b[1;32mreturn\u001b[0m \u001b[0mnp\u001b[0m\u001b[1;33m.\u001b[0m\u001b[0masarray\u001b[0m\u001b[1;33m(\u001b[0m\u001b[0mself\u001b[0m\u001b[1;33m.\u001b[0m\u001b[0m_values\u001b[0m\u001b[1;33m,\u001b[0m \u001b[0mdtype\u001b[0m\u001b[1;33m=\u001b[0m\u001b[0mdtype\u001b[0m\u001b[1;33m)\u001b[0m\u001b[1;33m\u001b[0m\u001b[1;33m\u001b[0m\u001b[0m\n\u001b[0m\u001b[0;32m   1782\u001b[0m \u001b[1;33m\u001b[0m\u001b[0m\n\u001b[0;32m   1783\u001b[0m     \u001b[1;32mdef\u001b[0m \u001b[0m__array_wrap__\u001b[0m\u001b[1;33m(\u001b[0m\u001b[0mself\u001b[0m\u001b[1;33m,\u001b[0m \u001b[0mresult\u001b[0m\u001b[1;33m,\u001b[0m \u001b[0mcontext\u001b[0m\u001b[1;33m=\u001b[0m\u001b[1;32mNone\u001b[0m\u001b[1;33m)\u001b[0m\u001b[1;33m:\u001b[0m\u001b[1;33m\u001b[0m\u001b[1;33m\u001b[0m\u001b[0m\n",
      "\u001b[1;32m~\\anaconda3\\envs\\learn-env\\lib\\site-packages\\numpy\\core\\_asarray.py\u001b[0m in \u001b[0;36masarray\u001b[1;34m(a, dtype, order)\u001b[0m\n\u001b[0;32m     83\u001b[0m \u001b[1;33m\u001b[0m\u001b[0m\n\u001b[0;32m     84\u001b[0m     \"\"\"\n\u001b[1;32m---> 85\u001b[1;33m     \u001b[1;32mreturn\u001b[0m \u001b[0marray\u001b[0m\u001b[1;33m(\u001b[0m\u001b[0ma\u001b[0m\u001b[1;33m,\u001b[0m \u001b[0mdtype\u001b[0m\u001b[1;33m,\u001b[0m \u001b[0mcopy\u001b[0m\u001b[1;33m=\u001b[0m\u001b[1;32mFalse\u001b[0m\u001b[1;33m,\u001b[0m \u001b[0morder\u001b[0m\u001b[1;33m=\u001b[0m\u001b[0morder\u001b[0m\u001b[1;33m)\u001b[0m\u001b[1;33m\u001b[0m\u001b[1;33m\u001b[0m\u001b[0m\n\u001b[0m\u001b[0;32m     86\u001b[0m \u001b[1;33m\u001b[0m\u001b[0m\n\u001b[0;32m     87\u001b[0m \u001b[1;33m\u001b[0m\u001b[0m\n",
      "\u001b[1;31mValueError\u001b[0m: could not convert string to float: '9/6/2014'"
     ]
    }
   ],
   "source": [
    "sk_lr = LinearRegression()\n",
    "sk_lr.fit(X_train, y_train)\n",
    "preds = sk_lr.predict(y_train)"
   ]
  },
  {
   "cell_type": "code",
   "execution_count": null,
   "metadata": {},
   "outputs": [],
   "source": [
    "X = scaled_and_parse_df[['sqft_living']]\n",
    "y = scaled_and_parse_df['price']"
   ]
  },
  {
   "cell_type": "code",
   "execution_count": null,
   "metadata": {},
   "outputs": [],
   "source": [
    "resids = y - preds\n",
    "resids"
   ]
  },
  {
   "cell_type": "code",
   "execution_count": null,
   "metadata": {},
   "outputs": [],
   "source": [
    "#Create out bins\n",
    "\n",
    "bins = int( len(X)**.5)\n",
    "bins"
   ]
  },
  {
   "cell_type": "code",
   "execution_count": null,
   "metadata": {},
   "outputs": [],
   "source": [
    "# Histogram of residuals\n",
    "\n",
    "plt.hist(resids, bins=bins);"
   ]
  },
  {
   "cell_type": "code",
   "execution_count": null,
   "metadata": {},
   "outputs": [],
   "source": [
    "sns.displot(resids, bins=bins, kde=True)"
   ]
  },
  {
   "cell_type": "code",
   "execution_count": null,
   "metadata": {},
   "outputs": [],
   "source": [
    "sm.qqplot(resids, line='r');"
   ]
  },
  {
   "cell_type": "code",
   "execution_count": null,
   "metadata": {},
   "outputs": [],
   "source": [
    "# resid plot sns.resid\n",
    "\n",
    "sns.residplot(x=X, y=y);"
   ]
  },
  {
   "cell_type": "code",
   "execution_count": null,
   "metadata": {},
   "outputs": [],
   "source": [
    "plt.scatter(preds, resids)"
   ]
  },
  {
   "cell_type": "code",
   "execution_count": null,
   "metadata": {},
   "outputs": [],
   "source": [
    "#Fit the dummy_regressor\n",
    "\n",
    "dummy_reg.fit(X_s_p,y_s_p)"
   ]
  },
  {
   "cell_type": "code",
   "execution_count": null,
   "metadata": {},
   "outputs": [],
   "source": [
    "# Score it\n",
    "\n",
    "dummy_reg.score(X_s_p,y_s_p)"
   ]
  },
  {
   "cell_type": "code",
   "execution_count": null,
   "metadata": {},
   "outputs": [],
   "source": [
    "# Creating a straightforward, initial model --\n",
    "# just for kicks\n",
    "simple_formula = 'price ~ sqft_living'\n",
    "simple_model = ols(formula = simple_formula,\n",
    "                   data = scaled_and_parse_df).fit()\n",
    "simple_mod_summ = simple_model.summary()\n",
    "\n",
    "simple_mod_summ"
   ]
  },
  {
   "cell_type": "code",
   "execution_count": null,
   "metadata": {},
   "outputs": [],
   "source": [
    "#test on our test data set"
   ]
  },
  {
   "cell_type": "markdown",
   "metadata": {},
   "source": [
    "Summary comparison between the two"
   ]
  },
  {
   "cell_type": "markdown",
   "metadata": {},
   "source": [
    "#### Multiple regression | Rework to train data"
   ]
  },
  {
   "cell_type": "markdown",
   "metadata": {},
   "source": [
    "Slowly adding in other variables"
   ]
  },
  {
   "cell_type": "code",
   "execution_count": 51,
   "metadata": {},
   "outputs": [
    {
     "data": {
      "image/png": "[encoded data removed]",
      "text/plain": [
       "<Figure size 1080x360 with 2 Axes>"
      ]
     },
     "metadata": {
      "needs_background": "light"
     },
     "output_type": "display_data"
    }
   ],
   "source": [
    "fig, ax = plt.subplots(ncols=2,figsize=(15,5))\n",
    "\n",
    "x1 = scaled_and_parse_df[['sqft_living']]\n",
    "y1 = scaled_and_parse_df[['price']]\n",
    "\n",
    "x2 = scaled_and_parse_df[['bedrooms']]\n",
    "\n",
    "ax[0].scatter(x1, y1)\n",
    "ax[1].scatter(x2,y1);"
   ]
  },
  {
   "cell_type": "markdown",
   "metadata": {},
   "source": [
    "#Upon looking at our scaled dataframe, we noticed that there is a house sold with 33 bedrooms for $600k\n",
    "#After considering the price sold, sqft and number of bathrooms - the # of bedrooms appears \n",
    "#to be an error of somesort\n",
    "#Since we explored bedrooms having a relatively small correlation to price, we are not too worried about this one\n",
    "#outlier being included in our scatterplot"
   ]
  },
  {
   "cell_type": "code",
   "execution_count": null,
   "metadata": {},
   "outputs": [],
   "source": [
    "simple_formula3 = 'price ~ sqft_living + bedrooms'\n",
    "simple_model3 = ols(formula = simple_formula3,\n",
    "                   data = scaled_and_parse_df).fit()\n",
    "simple_mod_summ3 = simple_model3.summary()\n",
    "\n",
    "simple_mod_summ3"
   ]
  },
  {
   "cell_type": "code",
   "execution_count": null,
   "metadata": {},
   "outputs": [],
   "source": []
  },
  {
   "cell_type": "code",
   "execution_count": null,
   "metadata": {},
   "outputs": [],
   "source": []
  },
  {
   "cell_type": "code",
   "execution_count": null,
   "metadata": {},
   "outputs": [],
   "source": []
  },
  {
   "cell_type": "code",
   "execution_count": null,
   "metadata": {},
   "outputs": [],
   "source": []
  },
  {
   "cell_type": "code",
   "execution_count": null,
   "metadata": {},
   "outputs": [],
   "source": []
  }
 ],
 "metadata": {
  "kernelspec": {
   "display_name": "Python (learn-env)",
   "language": "python",
   "name": "learn-env"
  },
  "language_info": {
   "codemirror_mode": {
    "name": "ipython",
    "version": 3
   },
   "file_extension": ".py",
   "mimetype": "text/x-python",
   "name": "python",
   "nbconvert_exporter": "python",
   "pygments_lexer": "ipython3",
   "version": "3.8.5"
  }
 },
 "nbformat": 4,
 "nbformat_minor": 4
}
