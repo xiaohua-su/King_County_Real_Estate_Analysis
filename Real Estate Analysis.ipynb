{
 "cells": [
  {
   "cell_type": "markdown",
   "metadata": {},
   "source": [
    "# Analysis of Real Estates in King County, Seattle "
   ]
  },
  {
   "cell_type": "markdown",
   "metadata": {},
   "source": [
    "## Overview"
   ]
  },
  {
   "cell_type": "markdown",
   "metadata": {},
   "source": [
    "Overview with what our recommendations will be"
   ]
  },
  {
   "cell_type": "markdown",
   "metadata": {},
   "source": [
    "## Business Problem"
   ]
  },
  {
   "cell_type": "markdown",
   "metadata": {},
   "source": [
    "business problem"
   ]
  },
  {
   "cell_type": "markdown",
   "metadata": {},
   "source": [
    "## Data"
   ]
  },
  {
   "cell_type": "code",
   "execution_count": 48,
   "metadata": {},
   "outputs": [],
   "source": [
    "import pandas as pd\n",
    "import numpy as np\n",
    "import matplotlib.pyplot as plt\n",
    "import seaborn as sns\n",
    "from sklearn.preprocessing import OneHotEncoder, StandardScaler\n",
    "from sklearn.datasets import make_regression\n",
    "from sklearn.linear_model import LinearRegression\n",
    "import sklearn.metrics as metrics\n",
    "from random import gauss\n",
    "from mpl_toolkits.mplot3d import Axes3D\n",
    "from scipy import stats as stats\n",
    "from statsmodels.formula.api import ols\n",
    "import statsmodels.api as sm\n",
    "from sklearn.dummy import DummyRegressor\n",
    "from statsmodels.stats.multicomp import pairwise_tukeyhsd\n",
    "\n",
    "%matplotlib inline\n",
    "pd.set_option('display.max_columns', None) #shows all columns on dataframe\n",
    "pd.set_option('display.float_format', lambda x: '%.2f' % x) #applied to every df in this notebook"
   ]
  },
  {
   "cell_type": "code",
   "execution_count": 49,
   "metadata": {},
   "outputs": [],
   "source": [
    "df = pd.read_csv('./data/kc_house_data.csv')"
   ]
  },
  {
   "cell_type": "code",
   "execution_count": 50,
   "metadata": {},
   "outputs": [
    {
     "data": {
      "text/html": [
       "<div>\n",
       "<style scoped>\n",
       "    .dataframe tbody tr th:only-of-type {\n",
       "        vertical-align: middle;\n",
       "    }\n",
       "\n",
       "    .dataframe tbody tr th {\n",
       "        vertical-align: top;\n",
       "    }\n",
       "\n",
       "    .dataframe thead th {\n",
       "        text-align: right;\n",
       "    }\n",
       "</style>\n",
       "<table border=\"1\" class=\"dataframe\">\n",
       "  <thead>\n",
       "    <tr style=\"text-align: right;\">\n",
       "      <th></th>\n",
       "      <th>id</th>\n",
       "      <th>date</th>\n",
       "      <th>price</th>\n",
       "      <th>bedrooms</th>\n",
       "      <th>bathrooms</th>\n",
       "      <th>sqft_living</th>\n",
       "      <th>sqft_lot</th>\n",
       "      <th>floors</th>\n",
       "      <th>waterfront</th>\n",
       "      <th>view</th>\n",
       "      <th>condition</th>\n",
       "      <th>grade</th>\n",
       "      <th>sqft_above</th>\n",
       "      <th>sqft_basement</th>\n",
       "      <th>yr_built</th>\n",
       "      <th>yr_renovated</th>\n",
       "      <th>zipcode</th>\n",
       "      <th>lat</th>\n",
       "      <th>long</th>\n",
       "      <th>sqft_living15</th>\n",
       "      <th>sqft_lot15</th>\n",
       "    </tr>\n",
       "  </thead>\n",
       "  <tbody>\n",
       "    <tr>\n",
       "      <th>0</th>\n",
       "      <td>7129300520</td>\n",
       "      <td>10/13/2014</td>\n",
       "      <td>221900.00</td>\n",
       "      <td>3</td>\n",
       "      <td>1.00</td>\n",
       "      <td>1180</td>\n",
       "      <td>5650</td>\n",
       "      <td>1.00</td>\n",
       "      <td>NaN</td>\n",
       "      <td>NONE</td>\n",
       "      <td>Average</td>\n",
       "      <td>7 Average</td>\n",
       "      <td>1180</td>\n",
       "      <td>0.0</td>\n",
       "      <td>1955</td>\n",
       "      <td>0.00</td>\n",
       "      <td>98178</td>\n",
       "      <td>47.51</td>\n",
       "      <td>-122.26</td>\n",
       "      <td>1340</td>\n",
       "      <td>5650</td>\n",
       "    </tr>\n",
       "    <tr>\n",
       "      <th>1</th>\n",
       "      <td>6414100192</td>\n",
       "      <td>12/9/2014</td>\n",
       "      <td>538000.00</td>\n",
       "      <td>3</td>\n",
       "      <td>2.25</td>\n",
       "      <td>2570</td>\n",
       "      <td>7242</td>\n",
       "      <td>2.00</td>\n",
       "      <td>NO</td>\n",
       "      <td>NONE</td>\n",
       "      <td>Average</td>\n",
       "      <td>7 Average</td>\n",
       "      <td>2170</td>\n",
       "      <td>400.0</td>\n",
       "      <td>1951</td>\n",
       "      <td>1991.00</td>\n",
       "      <td>98125</td>\n",
       "      <td>47.72</td>\n",
       "      <td>-122.32</td>\n",
       "      <td>1690</td>\n",
       "      <td>7639</td>\n",
       "    </tr>\n",
       "    <tr>\n",
       "      <th>2</th>\n",
       "      <td>5631500400</td>\n",
       "      <td>2/25/2015</td>\n",
       "      <td>180000.00</td>\n",
       "      <td>2</td>\n",
       "      <td>1.00</td>\n",
       "      <td>770</td>\n",
       "      <td>10000</td>\n",
       "      <td>1.00</td>\n",
       "      <td>NO</td>\n",
       "      <td>NONE</td>\n",
       "      <td>Average</td>\n",
       "      <td>6 Low Average</td>\n",
       "      <td>770</td>\n",
       "      <td>0.0</td>\n",
       "      <td>1933</td>\n",
       "      <td>nan</td>\n",
       "      <td>98028</td>\n",
       "      <td>47.74</td>\n",
       "      <td>-122.23</td>\n",
       "      <td>2720</td>\n",
       "      <td>8062</td>\n",
       "    </tr>\n",
       "    <tr>\n",
       "      <th>3</th>\n",
       "      <td>2487200875</td>\n",
       "      <td>12/9/2014</td>\n",
       "      <td>604000.00</td>\n",
       "      <td>4</td>\n",
       "      <td>3.00</td>\n",
       "      <td>1960</td>\n",
       "      <td>5000</td>\n",
       "      <td>1.00</td>\n",
       "      <td>NO</td>\n",
       "      <td>NONE</td>\n",
       "      <td>Very Good</td>\n",
       "      <td>7 Average</td>\n",
       "      <td>1050</td>\n",
       "      <td>910.0</td>\n",
       "      <td>1965</td>\n",
       "      <td>0.00</td>\n",
       "      <td>98136</td>\n",
       "      <td>47.52</td>\n",
       "      <td>-122.39</td>\n",
       "      <td>1360</td>\n",
       "      <td>5000</td>\n",
       "    </tr>\n",
       "    <tr>\n",
       "      <th>4</th>\n",
       "      <td>1954400510</td>\n",
       "      <td>2/18/2015</td>\n",
       "      <td>510000.00</td>\n",
       "      <td>3</td>\n",
       "      <td>2.00</td>\n",
       "      <td>1680</td>\n",
       "      <td>8080</td>\n",
       "      <td>1.00</td>\n",
       "      <td>NO</td>\n",
       "      <td>NONE</td>\n",
       "      <td>Average</td>\n",
       "      <td>8 Good</td>\n",
       "      <td>1680</td>\n",
       "      <td>0.0</td>\n",
       "      <td>1987</td>\n",
       "      <td>0.00</td>\n",
       "      <td>98074</td>\n",
       "      <td>47.62</td>\n",
       "      <td>-122.05</td>\n",
       "      <td>1800</td>\n",
       "      <td>7503</td>\n",
       "    </tr>\n",
       "  </tbody>\n",
       "</table>\n",
       "</div>"
      ],
      "text/plain": [
       "           id        date     price  bedrooms  bathrooms  sqft_living  \\\n",
       "0  7129300520  10/13/2014 221900.00         3       1.00         1180   \n",
       "1  6414100192   12/9/2014 538000.00         3       2.25         2570   \n",
       "2  5631500400   2/25/2015 180000.00         2       1.00          770   \n",
       "3  2487200875   12/9/2014 604000.00         4       3.00         1960   \n",
       "4  1954400510   2/18/2015 510000.00         3       2.00         1680   \n",
       "\n",
       "   sqft_lot  floors waterfront  view  condition          grade  sqft_above  \\\n",
       "0      5650    1.00        NaN  NONE    Average      7 Average        1180   \n",
       "1      7242    2.00         NO  NONE    Average      7 Average        2170   \n",
       "2     10000    1.00         NO  NONE    Average  6 Low Average         770   \n",
       "3      5000    1.00         NO  NONE  Very Good      7 Average        1050   \n",
       "4      8080    1.00         NO  NONE    Average         8 Good        1680   \n",
       "\n",
       "  sqft_basement  yr_built  yr_renovated  zipcode   lat    long  sqft_living15  \\\n",
       "0           0.0      1955          0.00    98178 47.51 -122.26           1340   \n",
       "1         400.0      1951       1991.00    98125 47.72 -122.32           1690   \n",
       "2           0.0      1933           nan    98028 47.74 -122.23           2720   \n",
       "3         910.0      1965          0.00    98136 47.52 -122.39           1360   \n",
       "4           0.0      1987          0.00    98074 47.62 -122.05           1800   \n",
       "\n",
       "   sqft_lot15  \n",
       "0        5650  \n",
       "1        7639  \n",
       "2        8062  \n",
       "3        5000  \n",
       "4        7503  "
      ]
     },
     "execution_count": 50,
     "metadata": {},
     "output_type": "execute_result"
    }
   ],
   "source": [
    "#checking the data\n",
    "df.head()"
   ]
  },
  {
   "cell_type": "code",
   "execution_count": 51,
   "metadata": {},
   "outputs": [
    {
     "name": "stdout",
     "output_type": "stream",
     "text": [
      "<class 'pandas.core.frame.DataFrame'>\n",
      "RangeIndex: 21597 entries, 0 to 21596\n",
      "Data columns (total 21 columns):\n",
      " #   Column         Non-Null Count  Dtype  \n",
      "---  ------         --------------  -----  \n",
      " 0   id             21597 non-null  int64  \n",
      " 1   date           21597 non-null  object \n",
      " 2   price          21597 non-null  float64\n",
      " 3   bedrooms       21597 non-null  int64  \n",
      " 4   bathrooms      21597 non-null  float64\n",
      " 5   sqft_living    21597 non-null  int64  \n",
      " 6   sqft_lot       21597 non-null  int64  \n",
      " 7   floors         21597 non-null  float64\n",
      " 8   waterfront     19221 non-null  object \n",
      " 9   view           21534 non-null  object \n",
      " 10  condition      21597 non-null  object \n",
      " 11  grade          21597 non-null  object \n",
      " 12  sqft_above     21597 non-null  int64  \n",
      " 13  sqft_basement  21597 non-null  object \n",
      " 14  yr_built       21597 non-null  int64  \n",
      " 15  yr_renovated   17755 non-null  float64\n",
      " 16  zipcode        21597 non-null  int64  \n",
      " 17  lat            21597 non-null  float64\n",
      " 18  long           21597 non-null  float64\n",
      " 19  sqft_living15  21597 non-null  int64  \n",
      " 20  sqft_lot15     21597 non-null  int64  \n",
      "dtypes: float64(6), int64(9), object(6)\n",
      "memory usage: 3.5+ MB\n"
     ]
    }
   ],
   "source": [
    "df.info()"
   ]
  },
  {
   "cell_type": "markdown",
   "metadata": {},
   "source": [
    "Summary of what we notice, what potential columns we want"
   ]
  },
  {
   "cell_type": "markdown",
   "metadata": {},
   "source": [
    "## Initial Cleaning"
   ]
  },
  {
   "cell_type": "code",
   "execution_count": 52,
   "metadata": {},
   "outputs": [
    {
     "data": {
      "text/plain": [
       "Average      14020\n",
       "Good          5677\n",
       "Very Good     1701\n",
       "Fair           170\n",
       "Poor            29\n",
       "Name: condition, dtype: int64"
      ]
     },
     "execution_count": 52,
     "metadata": {},
     "output_type": "execute_result"
    }
   ],
   "source": [
    "#checking condition\n",
    "df['condition'].value_counts()"
   ]
  },
  {
   "cell_type": "markdown",
   "metadata": {},
   "source": [
    "Difficult to make reccomendation base off of this since there's a lot of ways to define these terms so decided to use grade which is a little less vague."
   ]
  },
  {
   "cell_type": "code",
   "execution_count": 53,
   "metadata": {},
   "outputs": [],
   "source": [
    "#dropping nulls base off view\n",
    "df_copy = df.copy()\n",
    "df_copy = df_copy.dropna(subset = ['view'])"
   ]
  },
  {
   "cell_type": "markdown",
   "metadata": {},
   "source": [
    "We are dropping the nulls based off nulls because view is a column of interest for us."
   ]
  },
  {
   "cell_type": "code",
   "execution_count": 54,
   "metadata": {},
   "outputs": [],
   "source": [
    "#dropping multiple entries of same place \n",
    "df_copy = df_copy.sort_values(by=['id', 'date'])\n",
    "df_copy = df_copy.drop_duplicates(subset=['id'], keep='last')"
   ]
  },
  {
   "cell_type": "markdown",
   "metadata": {},
   "source": [
    "Rational of the dropping of duplicates"
   ]
  },
  {
   "cell_type": "markdown",
   "metadata": {},
   "source": [
    "## Exploring Data"
   ]
  },
  {
   "cell_type": "code",
   "execution_count": 55,
   "metadata": {},
   "outputs": [
    {
     "data": {
      "image/png": "[encoded data removed]",
      "text/plain": [
       "<Figure size 720x720 with 2 Axes>"
      ]
     },
     "metadata": {
      "needs_background": "light"
     },
     "output_type": "display_data"
    }
   ],
   "source": [
    "#looking at correlations\n",
    "fig, ax = plt.subplots(figsize=(10,10))\n",
    "heat = sns.heatmap(df_copy.corr(), annot = True)"
   ]
  },
  {
   "cell_type": "markdown",
   "metadata": {},
   "source": [
    "Summary of what we notice and potential problem"
   ]
  },
  {
   "cell_type": "code",
   "execution_count": 56,
   "metadata": {},
   "outputs": [
    {
     "data": {
      "text/html": [
       "<div>\n",
       "<style scoped>\n",
       "    .dataframe tbody tr th:only-of-type {\n",
       "        vertical-align: middle;\n",
       "    }\n",
       "\n",
       "    .dataframe tbody tr th {\n",
       "        vertical-align: top;\n",
       "    }\n",
       "\n",
       "    .dataframe thead th {\n",
       "        text-align: right;\n",
       "    }\n",
       "</style>\n",
       "<table border=\"1\" class=\"dataframe\">\n",
       "  <thead>\n",
       "    <tr style=\"text-align: right;\">\n",
       "      <th></th>\n",
       "      <th>id</th>\n",
       "      <th>price</th>\n",
       "      <th>bedrooms</th>\n",
       "      <th>bathrooms</th>\n",
       "      <th>sqft_living</th>\n",
       "      <th>sqft_lot</th>\n",
       "      <th>floors</th>\n",
       "      <th>sqft_above</th>\n",
       "      <th>yr_built</th>\n",
       "      <th>yr_renovated</th>\n",
       "      <th>zipcode</th>\n",
       "      <th>lat</th>\n",
       "      <th>long</th>\n",
       "      <th>sqft_living15</th>\n",
       "      <th>sqft_lot15</th>\n",
       "    </tr>\n",
       "    <tr>\n",
       "      <th>view</th>\n",
       "      <th></th>\n",
       "      <th></th>\n",
       "      <th></th>\n",
       "      <th></th>\n",
       "      <th></th>\n",
       "      <th></th>\n",
       "      <th></th>\n",
       "      <th></th>\n",
       "      <th></th>\n",
       "      <th></th>\n",
       "      <th></th>\n",
       "      <th></th>\n",
       "      <th></th>\n",
       "      <th></th>\n",
       "      <th></th>\n",
       "    </tr>\n",
       "  </thead>\n",
       "  <tbody>\n",
       "    <tr>\n",
       "      <th>AVERAGE</th>\n",
       "      <td>4780987779.11</td>\n",
       "      <td>791956.68</td>\n",
       "      <td>3.57</td>\n",
       "      <td>2.43</td>\n",
       "      <td>2651.20</td>\n",
       "      <td>22331.72</td>\n",
       "      <td>1.51</td>\n",
       "      <td>2083.87</td>\n",
       "      <td>1964.82</td>\n",
       "      <td>128.57</td>\n",
       "      <td>98090.98</td>\n",
       "      <td>47.56</td>\n",
       "      <td>-122.24</td>\n",
       "      <td>2427.20</td>\n",
       "      <td>17364.67</td>\n",
       "    </tr>\n",
       "    <tr>\n",
       "      <th>EXCELLENT</th>\n",
       "      <td>4970006204.50</td>\n",
       "      <td>1453795.18</td>\n",
       "      <td>3.63</td>\n",
       "      <td>2.78</td>\n",
       "      <td>3337.17</td>\n",
       "      <td>21762.46</td>\n",
       "      <td>1.60</td>\n",
       "      <td>2509.69</td>\n",
       "      <td>1965.77</td>\n",
       "      <td>331.97</td>\n",
       "      <td>98096.41</td>\n",
       "      <td>47.58</td>\n",
       "      <td>-122.26</td>\n",
       "      <td>2838.68</td>\n",
       "      <td>18994.11</td>\n",
       "    </tr>\n",
       "    <tr>\n",
       "      <th>FAIR</th>\n",
       "      <td>4604598059.83</td>\n",
       "      <td>814386.56</td>\n",
       "      <td>3.53</td>\n",
       "      <td>2.35</td>\n",
       "      <td>2573.51</td>\n",
       "      <td>12342.66</td>\n",
       "      <td>1.39</td>\n",
       "      <td>1936.88</td>\n",
       "      <td>1962.90</td>\n",
       "      <td>180.02</td>\n",
       "      <td>98096.60</td>\n",
       "      <td>47.58</td>\n",
       "      <td>-122.29</td>\n",
       "      <td>2408.13</td>\n",
       "      <td>10753.88</td>\n",
       "    </tr>\n",
       "    <tr>\n",
       "      <th>GOOD</th>\n",
       "      <td>4346605769.28</td>\n",
       "      <td>972809.66</td>\n",
       "      <td>3.67</td>\n",
       "      <td>2.67</td>\n",
       "      <td>3012.47</td>\n",
       "      <td>35010.67</td>\n",
       "      <td>1.57</td>\n",
       "      <td>2276.73</td>\n",
       "      <td>1967.34</td>\n",
       "      <td>239.63</td>\n",
       "      <td>98092.44</td>\n",
       "      <td>47.55</td>\n",
       "      <td>-122.24</td>\n",
       "      <td>2697.59</td>\n",
       "      <td>23983.25</td>\n",
       "    </tr>\n",
       "    <tr>\n",
       "      <th>NONE</th>\n",
       "      <td>4572504059.05</td>\n",
       "      <td>497472.12</td>\n",
       "      <td>3.35</td>\n",
       "      <td>2.07</td>\n",
       "      <td>2001.17</td>\n",
       "      <td>14178.46</td>\n",
       "      <td>1.49</td>\n",
       "      <td>1749.66</td>\n",
       "      <td>1971.73</td>\n",
       "      <td>72.10</td>\n",
       "      <td>98076.21</td>\n",
       "      <td>47.56</td>\n",
       "      <td>-122.21</td>\n",
       "      <td>1926.60</td>\n",
       "      <td>12179.02</td>\n",
       "    </tr>\n",
       "  </tbody>\n",
       "</table>\n",
       "</div>"
      ],
      "text/plain": [
       "                     id      price  bedrooms  bathrooms  sqft_living  \\\n",
       "view                                                                   \n",
       "AVERAGE   4780987779.11  791956.68      3.57       2.43      2651.20   \n",
       "EXCELLENT 4970006204.50 1453795.18      3.63       2.78      3337.17   \n",
       "FAIR      4604598059.83  814386.56      3.53       2.35      2573.51   \n",
       "GOOD      4346605769.28  972809.66      3.67       2.67      3012.47   \n",
       "NONE      4572504059.05  497472.12      3.35       2.07      2001.17   \n",
       "\n",
       "           sqft_lot  floors  sqft_above  yr_built  yr_renovated  zipcode  \\\n",
       "view                                                                       \n",
       "AVERAGE    22331.72    1.51     2083.87   1964.82        128.57 98090.98   \n",
       "EXCELLENT  21762.46    1.60     2509.69   1965.77        331.97 98096.41   \n",
       "FAIR       12342.66    1.39     1936.88   1962.90        180.02 98096.60   \n",
       "GOOD       35010.67    1.57     2276.73   1967.34        239.63 98092.44   \n",
       "NONE       14178.46    1.49     1749.66   1971.73         72.10 98076.21   \n",
       "\n",
       "            lat    long  sqft_living15  sqft_lot15  \n",
       "view                                                \n",
       "AVERAGE   47.56 -122.24        2427.20    17364.67  \n",
       "EXCELLENT 47.58 -122.26        2838.68    18994.11  \n",
       "FAIR      47.58 -122.29        2408.13    10753.88  \n",
       "GOOD      47.55 -122.24        2697.59    23983.25  \n",
       "NONE      47.56 -122.21        1926.60    12179.02  "
      ]
     },
     "execution_count": 56,
     "metadata": {},
     "output_type": "execute_result"
    }
   ],
   "source": [
    "df_copy.groupby('view').mean()"
   ]
  },
  {
   "cell_type": "markdown",
   "metadata": {},
   "source": [
    "visually the price of average, fair and good look the about the same so we would need to run a significant test to see. Excellent and none looks to be potentially significant. Need to use anova here to see and ad-hoc tests"
   ]
  },
  {
   "cell_type": "markdown",
   "metadata": {},
   "source": [
    "#### Initiating Train-Split? Here?"
   ]
  },
  {
   "cell_type": "code",
   "execution_count": null,
   "metadata": {},
   "outputs": [],
   "source": []
  },
  {
   "cell_type": "code",
   "execution_count": null,
   "metadata": {},
   "outputs": [],
   "source": []
  },
  {
   "cell_type": "code",
   "execution_count": null,
   "metadata": {},
   "outputs": [],
   "source": []
  },
  {
   "cell_type": "code",
   "execution_count": null,
   "metadata": {},
   "outputs": [],
   "source": []
  },
  {
   "cell_type": "markdown",
   "metadata": {},
   "source": [
    "#### View Analysis"
   ]
  },
  {
   "cell_type": "markdown",
   "metadata": {},
   "source": [
    "is there a difference between those that have a view versus those that don't"
   ]
  },
  {
   "cell_type": "code",
   "execution_count": 57,
   "metadata": {},
   "outputs": [],
   "source": [
    "summary_of_view = df_copy.groupby('view').mean()"
   ]
  },
  {
   "cell_type": "markdown",
   "metadata": {},
   "source": [
    "from the df summary, we notice that there is a difference in price between price for those that are excellent\n",
    "compared to those that have a view written as none. Further investigation will be performed to determine if this\n",
    "difference is statistically significant"
   ]
  },
  {
   "cell_type": "code",
   "execution_count": 58,
   "metadata": {},
   "outputs": [],
   "source": [
    "df_average = df_copy[df_copy['view'] == 'AVERAGE']\n",
    "df_excellent = df_copy[df_copy['view'] == 'EXCELLENT']\n",
    "df_fair = df_copy[df_copy['view'] == 'FAIR']\n",
    "df_good = df_copy[df_copy['view'] == 'GOOD']\n",
    "df_none = df_copy[df_copy['view'] == 'NONE']"
   ]
  },
  {
   "cell_type": "markdown",
   "metadata": {},
   "source": [
    "Subsetting the data into different views\n",
    " - number of rows: none = 19422, avg = 957, good = 508, fair = 330, excellent = 317, norecord = 17"
   ]
  },
  {
   "cell_type": "code",
   "execution_count": 59,
   "metadata": {},
   "outputs": [],
   "source": [
    "fvalue, pvalue = stats.f_oneway(df_average['price'], df_excellent['price'], df_fair['price'],\n",
    "                                df_good['price'] , df_none['price'])"
   ]
  },
  {
   "cell_type": "code",
   "execution_count": 60,
   "metadata": {},
   "outputs": [
    {
     "name": "stdout",
     "output_type": "stream",
     "text": [
      "          Multiple Comparison of Means - Tukey HSD, FWER=0.05           \n",
      "========================================================================\n",
      "  group1    group2    meandiff   p-adj     lower        upper     reject\n",
      "------------------------------------------------------------------------\n",
      "  AVERAGE EXCELLENT  661838.4963  0.001  602455.3172  721221.6753   True\n",
      "  AVERAGE      FAIR   22429.8804 0.8103  -35925.3814   80785.1422  False\n",
      "  AVERAGE      GOOD  180852.9845  0.001  130629.6173  231076.3517   True\n",
      "  AVERAGE      NONE -294484.5601  0.001 -324736.2482 -264232.8721   True\n",
      "EXCELLENT      FAIR -639408.6159  0.001 -711436.0704 -567381.1614   True\n",
      "EXCELLENT      GOOD -480985.5118  0.001 -546598.0428 -415372.9808   True\n",
      "EXCELLENT      NONE -956323.0564  0.001 -1008263.236 -904382.8769   True\n",
      "     FAIR      GOOD  158423.1041  0.001    93739.421  223106.7872   True\n",
      "     FAIR      NONE -316914.4405  0.001 -367676.2065 -266152.6746   True\n",
      "     GOOD      NONE -475337.5446  0.001   -516493.43 -434181.6592   True\n",
      "------------------------------------------------------------------------\n"
     ]
    }
   ],
   "source": [
    "#creating df of just view\n",
    "df_view = df_copy[['view', 'price']]\n",
    "\n",
    "#Tukey test\n",
    "print(pairwise_tukeyhsd(df_view['price'], df_view['view']))"
   ]
  },
  {
   "cell_type": "markdown",
   "metadata": {},
   "source": [
    "Average and Fair are not significant to each other, so they should be grouped together. Each other subset should be on their\n",
    "owen as they have a p value of under .05"
   ]
  },
  {
   "cell_type": "markdown",
   "metadata": {},
   "source": [
    "#### Grade Analysis"
   ]
  },
  {
   "cell_type": "markdown",
   "metadata": {},
   "source": [
    " Is there a difference between grades"
   ]
  },
  {
   "cell_type": "code",
   "execution_count": 61,
   "metadata": {},
   "outputs": [
    {
     "data": {
      "text/plain": [
       "7 Average        8863\n",
       "8 Good           6029\n",
       "9 Better         2595\n",
       "6 Low Average    1988\n",
       "10 Very Good     1126\n",
       "11 Excellent      394\n",
       "5 Fair            234\n",
       "12 Luxury          87\n",
       "4 Low              27\n",
       "13 Mansion         13\n",
       "3 Poor              1\n",
       "Name: grade, dtype: int64"
      ]
     },
     "execution_count": 61,
     "metadata": {},
     "output_type": "execute_result"
    }
   ],
   "source": [
    "df_copy.grade.value_counts()"
   ]
  },
  {
   "cell_type": "markdown",
   "metadata": {},
   "source": [
    "issue here that there are many different grade and some of them have very little that can skew the perception such as poor having 1, mansion having 13, low = 27, luxury having 87"
   ]
  },
  {
   "cell_type": "code",
   "execution_count": 62,
   "metadata": {},
   "outputs": [],
   "source": [
    "#dropping poor row\n",
    "df3 = df_copy.copy()\n",
    "df3 = df3[df3['grade'] != '3 Poor']"
   ]
  },
  {
   "cell_type": "code",
   "execution_count": 63,
   "metadata": {},
   "outputs": [],
   "source": [
    "df_10 = df_copy[df_copy['grade'] == '10 Very Good']\n",
    "df_11 = df_copy[df_copy['grade'] == '11 Excellent']\n",
    "df_12 = df_copy[df_copy['grade'] == '12 Luxury']\n",
    "df_4 = df_copy[df_copy['grade'] == '4 Low']\n",
    "df_5 = df_copy[df_copy['grade'] == '5 Fair']\n",
    "df_6 = df_copy[df_copy['grade'] == '6 Low Average']\n",
    "df_7 = df_copy[df_copy['grade'] == '7 Average']\n",
    "df_8 = df_copy[df_copy['grade'] == '8 Good']\n",
    "df_9 = df_copy[df_copy['grade'] == '9 Better']"
   ]
  },
  {
   "cell_type": "code",
   "execution_count": 64,
   "metadata": {},
   "outputs": [],
   "source": [
    "f_value_grade, p_value_grade = stats.f_oneway(df_10['price'], df_11['price'], df_12['price'],\n",
    "                                df_4['price'] , df_5['price'], df_6['price'], df_7['price'],df_8['price'],\n",
    "                                              df_9['price'])"
   ]
  },
  {
   "cell_type": "markdown",
   "metadata": {},
   "source": [
    "There is a significant difference in price betweeen grades but we don't know which one is significant.\n",
    "Further testing required to determine which is important"
   ]
  },
  {
   "cell_type": "code",
   "execution_count": 65,
   "metadata": {},
   "outputs": [
    {
     "name": "stdout",
     "output_type": "stream",
     "text": [
      "                Multiple Comparison of Means - Tukey HSD, FWER=0.05                \n",
      "===================================================================================\n",
      "    group1        group2       meandiff   p-adj      lower         upper     reject\n",
      "-----------------------------------------------------------------------------------\n",
      " 10 Very Good  11 Excellent   426433.5346  0.001   378539.5661    474327.503   True\n",
      " 10 Very Good     12 Luxury  1106449.2054  0.001  1015399.6321  1197498.7788   True\n",
      " 10 Very Good    13 Mansion  2638885.1029  0.001  2410642.1766  2867128.0292   True\n",
      " 10 Very Good        3 Poor  -809884.1279 0.0555 -1628479.1491     8710.8933  False\n",
      " 10 Very Good         4 Low   -859882.276  0.001 -1019227.8161   -700536.736   True\n",
      " 10 Very Good        5 Fair  -824232.8416  0.001  -883018.1317  -765447.5514   True\n",
      " 10 Very Good 6 Low Average  -769377.8658  0.001  -799896.0194  -738859.7122   True\n",
      " 10 Very Good     7 Average  -669427.2193  0.001  -695313.9838  -643540.4548   True\n",
      " 10 Very Good        8 Good  -528666.0251  0.001   -555229.771  -502102.2791   True\n",
      " 10 Very Good      9 Better  -297993.9853  0.001  -327193.0066   -268794.964   True\n",
      " 11 Excellent     12 Luxury   680015.6709  0.001   583089.4819   776941.8599   True\n",
      " 11 Excellent    13 Mansion  2212451.5683  0.001  1981801.4118  2443101.7248   True\n",
      " 11 Excellent        3 Poor -1236317.6624  0.001 -2055587.1358  -417048.1891   True\n",
      " 11 Excellent         4 Low -1286315.8106  0.001 -1449090.6933 -1123540.9279   True\n",
      " 11 Excellent        5 Fair -1250666.3761  0.001 -1318196.8999 -1183135.8523   True\n",
      " 11 Excellent 6 Low Average -1195811.4004  0.001 -1240933.6676 -1150689.1331   True\n",
      " 11 Excellent     7 Average -1095860.7538  0.001 -1137988.9615 -1053732.5462   True\n",
      " 11 Excellent        8 Good  -955099.5596  0.001  -997647.1083  -912552.0109   True\n",
      " 11 Excellent      9 Better  -724427.5199  0.001   -768668.272  -680186.7677   True\n",
      "    12 Luxury    13 Mansion  1532435.8974  0.001   1289134.259  1775737.5359   True\n",
      "    12 Luxury        3 Poor -1916333.3333  0.001 -2739254.1452 -1093412.5215   True\n",
      "    12 Luxury         4 Low -1966331.4815  0.001 -2146586.4537 -1786076.5092   True\n",
      "    12 Luxury        5 Fair  -1930682.047  0.001 -2033427.1891 -1827936.9049   True\n",
      "    12 Luxury 6 Low Average -1875827.0713  0.001 -1965449.6777 -1786204.4648   True\n",
      "    12 Luxury     7 Average -1775876.4247  0.001 -1864029.5782 -1687723.2712   True\n",
      "    12 Luxury        8 Good -1635115.2305  0.001  -1723469.554 -1546760.9069   True\n",
      "    12 Luxury      9 Better -1404443.1908  0.001 -1493625.2334 -1315261.1481   True\n",
      "   13 Mansion        3 Poor -3448769.2308  0.001 -4297888.4634 -2599649.9982   True\n",
      "   13 Mansion         4 Low -3498767.3789  0.001 -3774985.8859 -3222548.8719   True\n",
      "   13 Mansion        5 Fair -3463117.9444  0.001 -3696273.1992 -3229962.6897   True\n",
      "   13 Mansion 6 Low Average -3408262.9687  0.001 -3635940.4164  -3180585.521   True\n",
      "   13 Mansion     7 Average -3308312.3222  0.001  -3535415.354 -3081209.2903   True\n",
      "   13 Mansion        8 Good -3167551.1279  0.001 -3394732.3223 -2940369.9335   True\n",
      "   13 Mansion      9 Better -2936879.0882  0.001 -3164383.4735 -2709374.7029   True\n",
      "       3 Poor         4 Low   -49998.1481    0.9  -883244.5936   783248.2973  False\n",
      "       3 Poor        5 Fair   -14348.7137    0.9  -834326.9744   805629.5471  False\n",
      "       3 Poor 6 Low Average    40506.2621    0.9   -777931.271   858943.7951  False\n",
      "       3 Poor     7 Average   140456.9086    0.9  -677821.0163   958734.8335  False\n",
      "       3 Poor        8 Good   281218.1028    0.9  -537081.5186  1099517.7242  False\n",
      "       3 Poor      9 Better   511890.1426   0.62  -306499.2639  1330279.5491  False\n",
      "        4 Low        5 Fair    35649.4345    0.9  -130656.1294   201954.9983  False\n",
      "        4 Low 6 Low Average    90504.4102 0.7293   -68030.0905   249038.9109  False\n",
      "        4 Low     7 Average   190455.0568 0.0048     32746.608   348163.5055   True\n",
      "        4 Low        8 Good    331216.251  0.001   173395.2675   489037.2344   True\n",
      "        4 Low      9 Better   561888.2907  0.001    403602.432   720174.1494   True\n",
      "       5 Fair 6 Low Average    54854.9757  0.067    -1694.9768   111404.9283  False\n",
      "       5 Fair     7 Average   154805.6223  0.001   100614.6267   208996.6179   True\n",
      "       5 Fair        8 Good   295566.8165  0.001   241049.1861   350084.4469   True\n",
      "       5 Fair      9 Better   526238.8563  0.001   470389.7535    582087.959   True\n",
      "6 Low Average     7 Average    99950.6465  0.001    79645.1949   120256.0982   True\n",
      "6 Low Average        8 Good   240711.8408  0.001   219550.0973   261873.5843   True\n",
      "6 Low Average      9 Better   471383.8805  0.001   446995.9812   495771.7798   True\n",
      "    7 Average        8 Good   140761.1942  0.001    127101.536   154420.8525   True\n",
      "    7 Average      9 Better    371433.234  0.001    353170.252   389696.2159   True\n",
      "       8 Good      9 Better   230672.0397  0.001    211461.508   249882.5715   True\n",
      "-----------------------------------------------------------------------------------\n"
     ]
    }
   ],
   "source": [
    "#ad-hoc test\n",
    "df_grade = df_copy[['grade', 'price']]\n",
    "\n",
    "print(pairwise_tukeyhsd(df_grade['price'], df_grade['grade']))"
   ]
  },
  {
   "cell_type": "markdown",
   "metadata": {},
   "source": [
    "Summary of what we notice"
   ]
  },
  {
   "cell_type": "markdown",
   "metadata": {},
   "source": [
    "#### One Hot Encoding | Rework to include Train only"
   ]
  },
  {
   "cell_type": "code",
   "execution_count": 66,
   "metadata": {},
   "outputs": [],
   "source": [
    "#categorizing average and fair together since they are not different from each other\n",
    "df3['view'] = df3['view'].str.replace('AVERAGE', 'FAIR')"
   ]
  },
  {
   "cell_type": "code",
   "execution_count": 67,
   "metadata": {},
   "outputs": [
    {
     "data": {
      "text/html": [
       "<div>\n",
       "<style scoped>\n",
       "    .dataframe tbody tr th:only-of-type {\n",
       "        vertical-align: middle;\n",
       "    }\n",
       "\n",
       "    .dataframe tbody tr th {\n",
       "        vertical-align: top;\n",
       "    }\n",
       "\n",
       "    .dataframe thead th {\n",
       "        text-align: right;\n",
       "    }\n",
       "</style>\n",
       "<table border=\"1\" class=\"dataframe\">\n",
       "  <thead>\n",
       "    <tr style=\"text-align: right;\">\n",
       "      <th></th>\n",
       "      <th>grade</th>\n",
       "      <th>view</th>\n",
       "    </tr>\n",
       "  </thead>\n",
       "  <tbody>\n",
       "    <tr>\n",
       "      <th>2494</th>\n",
       "      <td>7 Average</td>\n",
       "      <td>NONE</td>\n",
       "    </tr>\n",
       "    <tr>\n",
       "      <th>6729</th>\n",
       "      <td>8 Good</td>\n",
       "      <td>NONE</td>\n",
       "    </tr>\n",
       "    <tr>\n",
       "      <th>8404</th>\n",
       "      <td>7 Average</td>\n",
       "      <td>NONE</td>\n",
       "    </tr>\n",
       "    <tr>\n",
       "      <th>8800</th>\n",
       "      <td>6 Low Average</td>\n",
       "      <td>NONE</td>\n",
       "    </tr>\n",
       "    <tr>\n",
       "      <th>3553</th>\n",
       "      <td>7 Average</td>\n",
       "      <td>NONE</td>\n",
       "    </tr>\n",
       "    <tr>\n",
       "      <th>...</th>\n",
       "      <td>...</td>\n",
       "      <td>...</td>\n",
       "    </tr>\n",
       "    <tr>\n",
       "      <th>16723</th>\n",
       "      <td>7 Average</td>\n",
       "      <td>NONE</td>\n",
       "    </tr>\n",
       "    <tr>\n",
       "      <th>3257</th>\n",
       "      <td>7 Average</td>\n",
       "      <td>NONE</td>\n",
       "    </tr>\n",
       "    <tr>\n",
       "      <th>7614</th>\n",
       "      <td>7 Average</td>\n",
       "      <td>NONE</td>\n",
       "    </tr>\n",
       "    <tr>\n",
       "      <th>20963</th>\n",
       "      <td>9 Better</td>\n",
       "      <td>NONE</td>\n",
       "    </tr>\n",
       "    <tr>\n",
       "      <th>15937</th>\n",
       "      <td>6 Low Average</td>\n",
       "      <td>NONE</td>\n",
       "    </tr>\n",
       "  </tbody>\n",
       "</table>\n",
       "<p>21356 rows × 2 columns</p>\n",
       "</div>"
      ],
      "text/plain": [
       "               grade  view\n",
       "2494       7 Average  NONE\n",
       "6729          8 Good  NONE\n",
       "8404       7 Average  NONE\n",
       "8800   6 Low Average  NONE\n",
       "3553       7 Average  NONE\n",
       "...              ...   ...\n",
       "16723      7 Average  NONE\n",
       "3257       7 Average  NONE\n",
       "7614       7 Average  NONE\n",
       "20963       9 Better  NONE\n",
       "15937  6 Low Average  NONE\n",
       "\n",
       "[21356 rows x 2 columns]"
      ]
     },
     "execution_count": 67,
     "metadata": {},
     "output_type": "execute_result"
    }
   ],
   "source": [
    "\n",
    "#making the categorical variable\n",
    "cate_column = df3[['grade', 'view']]\n",
    "\n",
    "cate_column"
   ]
  },
  {
   "cell_type": "code",
   "execution_count": 68,
   "metadata": {},
   "outputs": [
    {
     "data": {
      "text/plain": [
       "<21356x12 sparse matrix of type '<class 'numpy.float64'>'\n",
       "\twith 41272 stored elements in Compressed Sparse Row format>"
      ]
     },
     "execution_count": 68,
     "metadata": {},
     "output_type": "execute_result"
    }
   ],
   "source": [
    "ohe = OneHotEncoder(drop='first')\n",
    "\n",
    "column_name = ['grade', 'view']\n",
    "features = cate_column.copy()\n",
    "\n",
    "features2 = features[column_name]\n",
    "\n",
    "cate_ohe = ohe.fit_transform(features2)\n",
    "\n",
    "cate_ohe"
   ]
  },
  {
   "cell_type": "code",
   "execution_count": 69,
   "metadata": {},
   "outputs": [],
   "source": [
    "name = ohe.get_feature_names()"
   ]
  },
  {
   "cell_type": "code",
   "execution_count": 70,
   "metadata": {},
   "outputs": [
    {
     "data": {
      "text/html": [
       "<div>\n",
       "<style scoped>\n",
       "    .dataframe tbody tr th:only-of-type {\n",
       "        vertical-align: middle;\n",
       "    }\n",
       "\n",
       "    .dataframe tbody tr th {\n",
       "        vertical-align: top;\n",
       "    }\n",
       "\n",
       "    .dataframe thead th {\n",
       "        text-align: right;\n",
       "    }\n",
       "</style>\n",
       "<table border=\"1\" class=\"dataframe\">\n",
       "  <thead>\n",
       "    <tr style=\"text-align: right;\">\n",
       "      <th></th>\n",
       "      <th>x0_11 Excellent</th>\n",
       "      <th>x0_12 Luxury</th>\n",
       "      <th>x0_13 Mansion</th>\n",
       "      <th>x0_4 Low</th>\n",
       "      <th>x0_5 Fair</th>\n",
       "      <th>x0_6 Low Average</th>\n",
       "      <th>x0_7 Average</th>\n",
       "      <th>x0_8 Good</th>\n",
       "      <th>x0_9 Better</th>\n",
       "      <th>x1_FAIR</th>\n",
       "      <th>x1_GOOD</th>\n",
       "      <th>x1_NONE</th>\n",
       "    </tr>\n",
       "  </thead>\n",
       "  <tbody>\n",
       "    <tr>\n",
       "      <th>2494</th>\n",
       "      <td>0.00</td>\n",
       "      <td>0.00</td>\n",
       "      <td>0.00</td>\n",
       "      <td>0.00</td>\n",
       "      <td>0.00</td>\n",
       "      <td>0.00</td>\n",
       "      <td>1.00</td>\n",
       "      <td>0.00</td>\n",
       "      <td>0.00</td>\n",
       "      <td>0.00</td>\n",
       "      <td>0.00</td>\n",
       "      <td>1.00</td>\n",
       "    </tr>\n",
       "    <tr>\n",
       "      <th>6729</th>\n",
       "      <td>0.00</td>\n",
       "      <td>0.00</td>\n",
       "      <td>0.00</td>\n",
       "      <td>0.00</td>\n",
       "      <td>0.00</td>\n",
       "      <td>0.00</td>\n",
       "      <td>0.00</td>\n",
       "      <td>1.00</td>\n",
       "      <td>0.00</td>\n",
       "      <td>0.00</td>\n",
       "      <td>0.00</td>\n",
       "      <td>1.00</td>\n",
       "    </tr>\n",
       "    <tr>\n",
       "      <th>8404</th>\n",
       "      <td>0.00</td>\n",
       "      <td>0.00</td>\n",
       "      <td>0.00</td>\n",
       "      <td>0.00</td>\n",
       "      <td>0.00</td>\n",
       "      <td>0.00</td>\n",
       "      <td>1.00</td>\n",
       "      <td>0.00</td>\n",
       "      <td>0.00</td>\n",
       "      <td>0.00</td>\n",
       "      <td>0.00</td>\n",
       "      <td>1.00</td>\n",
       "    </tr>\n",
       "    <tr>\n",
       "      <th>8800</th>\n",
       "      <td>0.00</td>\n",
       "      <td>0.00</td>\n",
       "      <td>0.00</td>\n",
       "      <td>0.00</td>\n",
       "      <td>0.00</td>\n",
       "      <td>1.00</td>\n",
       "      <td>0.00</td>\n",
       "      <td>0.00</td>\n",
       "      <td>0.00</td>\n",
       "      <td>0.00</td>\n",
       "      <td>0.00</td>\n",
       "      <td>1.00</td>\n",
       "    </tr>\n",
       "    <tr>\n",
       "      <th>3553</th>\n",
       "      <td>0.00</td>\n",
       "      <td>0.00</td>\n",
       "      <td>0.00</td>\n",
       "      <td>0.00</td>\n",
       "      <td>0.00</td>\n",
       "      <td>0.00</td>\n",
       "      <td>1.00</td>\n",
       "      <td>0.00</td>\n",
       "      <td>0.00</td>\n",
       "      <td>0.00</td>\n",
       "      <td>0.00</td>\n",
       "      <td>1.00</td>\n",
       "    </tr>\n",
       "    <tr>\n",
       "      <th>...</th>\n",
       "      <td>...</td>\n",
       "      <td>...</td>\n",
       "      <td>...</td>\n",
       "      <td>...</td>\n",
       "      <td>...</td>\n",
       "      <td>...</td>\n",
       "      <td>...</td>\n",
       "      <td>...</td>\n",
       "      <td>...</td>\n",
       "      <td>...</td>\n",
       "      <td>...</td>\n",
       "      <td>...</td>\n",
       "    </tr>\n",
       "    <tr>\n",
       "      <th>16723</th>\n",
       "      <td>0.00</td>\n",
       "      <td>0.00</td>\n",
       "      <td>0.00</td>\n",
       "      <td>0.00</td>\n",
       "      <td>0.00</td>\n",
       "      <td>0.00</td>\n",
       "      <td>1.00</td>\n",
       "      <td>0.00</td>\n",
       "      <td>0.00</td>\n",
       "      <td>0.00</td>\n",
       "      <td>0.00</td>\n",
       "      <td>1.00</td>\n",
       "    </tr>\n",
       "    <tr>\n",
       "      <th>3257</th>\n",
       "      <td>0.00</td>\n",
       "      <td>0.00</td>\n",
       "      <td>0.00</td>\n",
       "      <td>0.00</td>\n",
       "      <td>0.00</td>\n",
       "      <td>0.00</td>\n",
       "      <td>1.00</td>\n",
       "      <td>0.00</td>\n",
       "      <td>0.00</td>\n",
       "      <td>0.00</td>\n",
       "      <td>0.00</td>\n",
       "      <td>1.00</td>\n",
       "    </tr>\n",
       "    <tr>\n",
       "      <th>7614</th>\n",
       "      <td>0.00</td>\n",
       "      <td>0.00</td>\n",
       "      <td>0.00</td>\n",
       "      <td>0.00</td>\n",
       "      <td>0.00</td>\n",
       "      <td>0.00</td>\n",
       "      <td>1.00</td>\n",
       "      <td>0.00</td>\n",
       "      <td>0.00</td>\n",
       "      <td>0.00</td>\n",
       "      <td>0.00</td>\n",
       "      <td>1.00</td>\n",
       "    </tr>\n",
       "    <tr>\n",
       "      <th>20963</th>\n",
       "      <td>0.00</td>\n",
       "      <td>0.00</td>\n",
       "      <td>0.00</td>\n",
       "      <td>0.00</td>\n",
       "      <td>0.00</td>\n",
       "      <td>0.00</td>\n",
       "      <td>0.00</td>\n",
       "      <td>0.00</td>\n",
       "      <td>1.00</td>\n",
       "      <td>0.00</td>\n",
       "      <td>0.00</td>\n",
       "      <td>1.00</td>\n",
       "    </tr>\n",
       "    <tr>\n",
       "      <th>15937</th>\n",
       "      <td>0.00</td>\n",
       "      <td>0.00</td>\n",
       "      <td>0.00</td>\n",
       "      <td>0.00</td>\n",
       "      <td>0.00</td>\n",
       "      <td>1.00</td>\n",
       "      <td>0.00</td>\n",
       "      <td>0.00</td>\n",
       "      <td>0.00</td>\n",
       "      <td>0.00</td>\n",
       "      <td>0.00</td>\n",
       "      <td>1.00</td>\n",
       "    </tr>\n",
       "  </tbody>\n",
       "</table>\n",
       "<p>21356 rows × 12 columns</p>\n",
       "</div>"
      ],
      "text/plain": [
       "       x0_11 Excellent  x0_12 Luxury  x0_13 Mansion  x0_4 Low  x0_5 Fair  \\\n",
       "2494              0.00          0.00           0.00      0.00       0.00   \n",
       "6729              0.00          0.00           0.00      0.00       0.00   \n",
       "8404              0.00          0.00           0.00      0.00       0.00   \n",
       "8800              0.00          0.00           0.00      0.00       0.00   \n",
       "3553              0.00          0.00           0.00      0.00       0.00   \n",
       "...                ...           ...            ...       ...        ...   \n",
       "16723             0.00          0.00           0.00      0.00       0.00   \n",
       "3257              0.00          0.00           0.00      0.00       0.00   \n",
       "7614              0.00          0.00           0.00      0.00       0.00   \n",
       "20963             0.00          0.00           0.00      0.00       0.00   \n",
       "15937             0.00          0.00           0.00      0.00       0.00   \n",
       "\n",
       "       x0_6 Low Average  x0_7 Average  x0_8 Good  x0_9 Better  x1_FAIR  \\\n",
       "2494               0.00          1.00       0.00         0.00     0.00   \n",
       "6729               0.00          0.00       1.00         0.00     0.00   \n",
       "8404               0.00          1.00       0.00         0.00     0.00   \n",
       "8800               1.00          0.00       0.00         0.00     0.00   \n",
       "3553               0.00          1.00       0.00         0.00     0.00   \n",
       "...                 ...           ...        ...          ...      ...   \n",
       "16723              0.00          1.00       0.00         0.00     0.00   \n",
       "3257               0.00          1.00       0.00         0.00     0.00   \n",
       "7614               0.00          1.00       0.00         0.00     0.00   \n",
       "20963              0.00          0.00       0.00         1.00     0.00   \n",
       "15937              1.00          0.00       0.00         0.00     0.00   \n",
       "\n",
       "       x1_GOOD  x1_NONE  \n",
       "2494      0.00     1.00  \n",
       "6729      0.00     1.00  \n",
       "8404      0.00     1.00  \n",
       "8800      0.00     1.00  \n",
       "3553      0.00     1.00  \n",
       "...        ...      ...  \n",
       "16723     0.00     1.00  \n",
       "3257      0.00     1.00  \n",
       "7614      0.00     1.00  \n",
       "20963     0.00     1.00  \n",
       "15937     0.00     1.00  \n",
       "\n",
       "[21356 rows x 12 columns]"
      ]
     },
     "execution_count": 70,
     "metadata": {},
     "output_type": "execute_result"
    }
   ],
   "source": [
    "cate_parsed = pd.DataFrame(cate_ohe.todense(), columns = name, index = features.index)\n",
    "cate_parsed"
   ]
  },
  {
   "cell_type": "markdown",
   "metadata": {},
   "source": [
    "#### Scaling | Rework only to include train"
   ]
  },
  {
   "cell_type": "code",
   "execution_count": 71,
   "metadata": {},
   "outputs": [],
   "source": [
    "numbers = df_copy.select_dtypes(np.number)"
   ]
  },
  {
   "cell_type": "code",
   "execution_count": 72,
   "metadata": {},
   "outputs": [
    {
     "name": "stdout",
     "output_type": "stream",
     "text": [
      "<class 'pandas.core.frame.DataFrame'>\n",
      "Int64Index: 21357 entries, 2494 to 15937\n",
      "Data columns (total 11 columns):\n",
      " #   Column         Non-Null Count  Dtype  \n",
      "---  ------         --------------  -----  \n",
      " 0   price          21357 non-null  float64\n",
      " 1   bedrooms       21357 non-null  int64  \n",
      " 2   bathrooms      21357 non-null  float64\n",
      " 3   sqft_living    21357 non-null  int64  \n",
      " 4   sqft_lot       21357 non-null  int64  \n",
      " 5   floors         21357 non-null  float64\n",
      " 6   sqft_above     21357 non-null  int64  \n",
      " 7   yr_built       21357 non-null  int64  \n",
      " 8   yr_renovated   17565 non-null  float64\n",
      " 9   sqft_living15  21357 non-null  int64  \n",
      " 10  sqft_lot15     21357 non-null  int64  \n",
      "dtypes: float64(4), int64(7)\n",
      "memory usage: 2.0 MB\n"
     ]
    }
   ],
   "source": [
    "df_2 = numbers.drop(['id', 'lat', 'long', 'zipcode'], axis = 1)\n",
    "df_2.info()"
   ]
  },
  {
   "cell_type": "code",
   "execution_count": 73,
   "metadata": {},
   "outputs": [
    {
     "data": {
      "text/html": [
       "<div>\n",
       "<style scoped>\n",
       "    .dataframe tbody tr th:only-of-type {\n",
       "        vertical-align: middle;\n",
       "    }\n",
       "\n",
       "    .dataframe tbody tr th {\n",
       "        vertical-align: top;\n",
       "    }\n",
       "\n",
       "    .dataframe thead th {\n",
       "        text-align: right;\n",
       "    }\n",
       "</style>\n",
       "<table border=\"1\" class=\"dataframe\">\n",
       "  <thead>\n",
       "    <tr style=\"text-align: right;\">\n",
       "      <th></th>\n",
       "      <th>price</th>\n",
       "      <th>bedrooms</th>\n",
       "      <th>bathrooms</th>\n",
       "      <th>sqft_living</th>\n",
       "      <th>floors</th>\n",
       "      <th>sqft_above</th>\n",
       "      <th>sqft_living15</th>\n",
       "    </tr>\n",
       "  </thead>\n",
       "  <tbody>\n",
       "    <tr>\n",
       "      <th>2494</th>\n",
       "      <td>-0.71</td>\n",
       "      <td>2.84</td>\n",
       "      <td>1.15</td>\n",
       "      <td>0.35</td>\n",
       "      <td>0.93</td>\n",
       "      <td>0.73</td>\n",
       "      <td>2060</td>\n",
       "    </tr>\n",
       "    <tr>\n",
       "      <th>6729</th>\n",
       "      <td>0.29</td>\n",
       "      <td>0.68</td>\n",
       "      <td>-0.48</td>\n",
       "      <td>-0.02</td>\n",
       "      <td>-0.92</td>\n",
       "      <td>-0.76</td>\n",
       "      <td>2590</td>\n",
       "    </tr>\n",
       "    <tr>\n",
       "      <th>8404</th>\n",
       "      <td>-0.38</td>\n",
       "      <td>-0.40</td>\n",
       "      <td>-1.46</td>\n",
       "      <td>-0.68</td>\n",
       "      <td>-0.92</td>\n",
       "      <td>-0.40</td>\n",
       "      <td>2250</td>\n",
       "    </tr>\n",
       "    <tr>\n",
       "      <th>8800</th>\n",
       "      <td>-0.83</td>\n",
       "      <td>-0.40</td>\n",
       "      <td>-1.46</td>\n",
       "      <td>-0.71</td>\n",
       "      <td>0.01</td>\n",
       "      <td>-0.94</td>\n",
       "      <td>1290</td>\n",
       "    </tr>\n",
       "    <tr>\n",
       "      <th>3553</th>\n",
       "      <td>-0.38</td>\n",
       "      <td>0.68</td>\n",
       "      <td>-0.15</td>\n",
       "      <td>-0.47</td>\n",
       "      <td>-0.92</td>\n",
       "      <td>-1.24</td>\n",
       "      <td>1480</td>\n",
       "    </tr>\n",
       "    <tr>\n",
       "      <th>...</th>\n",
       "      <td>...</td>\n",
       "      <td>...</td>\n",
       "      <td>...</td>\n",
       "      <td>...</td>\n",
       "      <td>...</td>\n",
       "      <td>...</td>\n",
       "      <td>...</td>\n",
       "    </tr>\n",
       "    <tr>\n",
       "      <th>16723</th>\n",
       "      <td>-0.48</td>\n",
       "      <td>1.76</td>\n",
       "      <td>-0.15</td>\n",
       "      <td>-0.53</td>\n",
       "      <td>0.01</td>\n",
       "      <td>-0.23</td>\n",
       "      <td>1190</td>\n",
       "    </tr>\n",
       "    <tr>\n",
       "      <th>3257</th>\n",
       "      <td>-0.44</td>\n",
       "      <td>-1.48</td>\n",
       "      <td>-1.46</td>\n",
       "      <td>-1.14</td>\n",
       "      <td>-0.92</td>\n",
       "      <td>-1.15</td>\n",
       "      <td>1930</td>\n",
       "    </tr>\n",
       "    <tr>\n",
       "      <th>7614</th>\n",
       "      <td>-0.55</td>\n",
       "      <td>-0.40</td>\n",
       "      <td>-1.46</td>\n",
       "      <td>-1.07</td>\n",
       "      <td>-0.92</td>\n",
       "      <td>-1.29</td>\n",
       "      <td>1510</td>\n",
       "    </tr>\n",
       "    <tr>\n",
       "      <th>20963</th>\n",
       "      <td>-0.38</td>\n",
       "      <td>-1.48</td>\n",
       "      <td>-0.48</td>\n",
       "      <td>-0.73</td>\n",
       "      <td>0.01</td>\n",
       "      <td>-1.08</td>\n",
       "      <td>1440</td>\n",
       "    </tr>\n",
       "    <tr>\n",
       "      <th>15937</th>\n",
       "      <td>-0.74</td>\n",
       "      <td>-0.40</td>\n",
       "      <td>-1.46</td>\n",
       "      <td>-0.83</td>\n",
       "      <td>-0.92</td>\n",
       "      <td>-1.10</td>\n",
       "      <td>1000</td>\n",
       "    </tr>\n",
       "  </tbody>\n",
       "</table>\n",
       "<p>21357 rows × 7 columns</p>\n",
       "</div>"
      ],
      "text/plain": [
       "       price  bedrooms  bathrooms  sqft_living  floors  sqft_above  \\\n",
       "2494   -0.71      2.84       1.15         0.35    0.93        0.73   \n",
       "6729    0.29      0.68      -0.48        -0.02   -0.92       -0.76   \n",
       "8404   -0.38     -0.40      -1.46        -0.68   -0.92       -0.40   \n",
       "8800   -0.83     -0.40      -1.46        -0.71    0.01       -0.94   \n",
       "3553   -0.38      0.68      -0.15        -0.47   -0.92       -1.24   \n",
       "...      ...       ...        ...          ...     ...         ...   \n",
       "16723  -0.48      1.76      -0.15        -0.53    0.01       -0.23   \n",
       "3257   -0.44     -1.48      -1.46        -1.14   -0.92       -1.15   \n",
       "7614   -0.55     -0.40      -1.46        -1.07   -0.92       -1.29   \n",
       "20963  -0.38     -1.48      -0.48        -0.73    0.01       -1.08   \n",
       "15937  -0.74     -0.40      -1.46        -0.83   -0.92       -1.10   \n",
       "\n",
       "       sqft_living15  \n",
       "2494            2060  \n",
       "6729            2590  \n",
       "8404            2250  \n",
       "8800            1290  \n",
       "3553            1480  \n",
       "...              ...  \n",
       "16723           1190  \n",
       "3257            1930  \n",
       "7614            1510  \n",
       "20963           1440  \n",
       "15937           1000  \n",
       "\n",
       "[21357 rows x 7 columns]"
      ]
     },
     "execution_count": 73,
     "metadata": {},
     "output_type": "execute_result"
    }
   ],
   "source": [
    "#Rework to include only the train\n",
    "ss = StandardScaler()\n",
    "\n",
    "columns_name1 = ['price', 'bedrooms', 'bathrooms', 'sqft_living', 'floors', 'sqft_above']\n",
    "numbers_scaling = df_2.copy().drop(['yr_renovated','sqft_lot15', 'sqft_lot', 'yr_built'], axis = 1)\n",
    "\n",
    "features= numbers_scaling[columns_name1]\n",
    "\n",
    "scale1 = ss.fit(features)\n",
    "scale2 = scale1.transform(features)\n",
    "numbers_scaling[columns_name1] = scale2\n",
    "\n",
    "numbers_scaling"
   ]
  },
  {
   "cell_type": "code",
   "execution_count": 74,
   "metadata": {},
   "outputs": [],
   "source": [
    "#combinig scale and ohe\n",
    "scaled_and_parse_df = pd.concat([numbers_scaling, cate_parsed], axis = 1)"
   ]
  },
  {
   "cell_type": "markdown",
   "metadata": {},
   "source": [
    "## Linear Regression | Rework so fit is only on train and not test"
   ]
  },
  {
   "cell_type": "markdown",
   "metadata": {},
   "source": [
    "#### simple linear"
   ]
  },
  {
   "cell_type": "code",
   "execution_count": 75,
   "metadata": {},
   "outputs": [
    {
     "data": {
      "image/png": "[encoded data removed]",
      "text/plain": [
       "<Figure size 432x288 with 1 Axes>"
      ]
     },
     "metadata": {
      "needs_background": "light"
     },
     "output_type": "display_data"
    }
   ],
   "source": [
    "fig, ax = plt.subplots()\n",
    "\n",
    "x = scaled_and_parse_df['sqft_living']\n",
    "y = scaled_and_parse_df['price']\n",
    "\n",
    "\n",
    "ax.scatter(x, y);"
   ]
  },
  {
   "cell_type": "code",
   "execution_count": 76,
   "metadata": {},
   "outputs": [
    {
     "data": {
      "text/plain": [
       "array([[1.       , 0.7019173],\n",
       "       [0.7019173, 1.       ]])"
      ]
     },
     "execution_count": 76,
     "metadata": {},
     "output_type": "execute_result"
    }
   ],
   "source": [
    "np.corrcoef(df['sqft_living'],df['price'])"
   ]
  },
  {
   "cell_type": "markdown",
   "metadata": {},
   "source": [
    "passing our first assumption.Based on our scatterplot, we can see that there is a strong correlation between sqft_living and price.our pearson correlation coefficiant of .70 suggests that these two variables are strongly correlated. Refer to the heatmap above to multicollinearity "
   ]
  },
  {
   "cell_type": "code",
   "execution_count": 77,
   "metadata": {},
   "outputs": [],
   "source": [
    "#Create & Instantiate a DummyRegressor\n",
    "\n",
    "dummy_reg = DummyRegressor()"
   ]
  },
  {
   "cell_type": "code",
   "execution_count": 78,
   "metadata": {},
   "outputs": [],
   "source": [
    "#Define X and y variable using scaled & parse dataframe\n",
    "\n",
    "X_s_p = scaled_and_parse_df['sqft_living']\n",
    "y_s_p = scaled_and_parse_df['price']"
   ]
  },
  {
   "cell_type": "code",
   "execution_count": 79,
   "metadata": {},
   "outputs": [
    {
     "ename": "NameError",
     "evalue": "name 'sk_lr' is not defined",
     "output_type": "error",
     "traceback": [
      "\u001b[1;31m---------------------------------------------------------------------------\u001b[0m",
      "\u001b[1;31mNameError\u001b[0m                                 Traceback (most recent call last)",
      "\u001b[1;32m<ipython-input-79-f27390d6c203>\u001b[0m in \u001b[0;36m<module>\u001b[1;34m\u001b[0m\n\u001b[1;32m----> 1\u001b[1;33m \u001b[0mpreds\u001b[0m \u001b[1;33m=\u001b[0m \u001b[0msk_lr\u001b[0m\u001b[1;33m.\u001b[0m\u001b[0mpredict\u001b[0m\u001b[1;33m(\u001b[0m\u001b[0mX\u001b[0m\u001b[1;33m)\u001b[0m\u001b[1;33m\u001b[0m\u001b[1;33m\u001b[0m\u001b[0m\n\u001b[0m",
      "\u001b[1;31mNameError\u001b[0m: name 'sk_lr' is not defined"
     ]
    }
   ],
   "source": [
    "preds = sk_lr.predict(X)"
   ]
  },
  {
   "cell_type": "code",
   "execution_count": null,
   "metadata": {},
   "outputs": [],
   "source": [
    "X = scaled_and_parse_df[['sqft_living']]\n",
    "y = scaled_and_parse_df['price']"
   ]
  },
  {
   "cell_type": "code",
   "execution_count": null,
   "metadata": {},
   "outputs": [],
   "source": [
    "resids = y - preds\n",
    "resids"
   ]
  },
  {
   "cell_type": "code",
   "execution_count": null,
   "metadata": {},
   "outputs": [],
   "source": [
    "#Create out bins\n",
    "\n",
    "bins = int( len(X)**.5)\n",
    "bins"
   ]
  },
  {
   "cell_type": "code",
   "execution_count": null,
   "metadata": {},
   "outputs": [],
   "source": [
    "# Histogram of residuals\n",
    "\n",
    "plt.hist(resids, bins=bins);"
   ]
  },
  {
   "cell_type": "code",
   "execution_count": null,
   "metadata": {},
   "outputs": [],
   "source": [
    "sns.displot(resids, bins=bins, kde=True)"
   ]
  },
  {
   "cell_type": "code",
   "execution_count": null,
   "metadata": {},
   "outputs": [],
   "source": [
    "sm.qqplot(resids, line='r');"
   ]
  },
  {
   "cell_type": "code",
   "execution_count": null,
   "metadata": {},
   "outputs": [],
   "source": [
    "# resid plot sns.resid\n",
    "\n",
    "sns.residplot(x=X, y=y);"
   ]
  },
  {
   "cell_type": "code",
   "execution_count": null,
   "metadata": {},
   "outputs": [],
   "source": [
    "plt.scatter(preds, resids)"
   ]
  },
  {
   "cell_type": "code",
   "execution_count": null,
   "metadata": {},
   "outputs": [],
   "source": [
    "#Fit the dummy_regressor\n",
    "\n",
    "dummy_reg.fit(X_s_p,y_s_p)"
   ]
  },
  {
   "cell_type": "code",
   "execution_count": null,
   "metadata": {},
   "outputs": [],
   "source": [
    "# Score it\n",
    "\n",
    "dummy_reg.score(X_s_p,y_s_p)"
   ]
  },
  {
   "cell_type": "code",
   "execution_count": null,
   "metadata": {},
   "outputs": [],
   "source": [
    "# Creating a straightforward, initial model --\n",
    "# just for kicks\n",
    "simple_formula = 'price ~ sqft_living'\n",
    "simple_model = ols(formula = simple_formula,\n",
    "                   data = scaled_and_parse_df).fit()\n",
    "simple_mod_summ = simple_model.summary()\n",
    "\n",
    "simple_mod_summ"
   ]
  },
  {
   "cell_type": "code",
   "execution_count": null,
   "metadata": {},
   "outputs": [],
   "source": [
    "#test on our test data set"
   ]
  },
  {
   "cell_type": "markdown",
   "metadata": {},
   "source": [
    "Summary comparison between the two"
   ]
  },
  {
   "cell_type": "markdown",
   "metadata": {},
   "source": [
    "#### Multiple regression | Rework to train data"
   ]
  },
  {
   "cell_type": "markdown",
   "metadata": {},
   "source": [
    "Slowly adding in other variables"
   ]
  },
  {
   "cell_type": "code",
   "execution_count": null,
   "metadata": {},
   "outputs": [],
   "source": [
    "fig, ax = plt.subplots(ncols=2,figsize=(15,5))\n",
    "\n",
    "x1 = scaled_and_parse_df[['sqft_living']]\n",
    "y1 = scaled_and_parse_df[['price']]\n",
    "\n",
    "x2 = scaled_and_parse_df[['bedrooms']]\n",
    "\n",
    "ax[0].scatter(x1, y1)\n",
    "ax[1].scatter(x2,y1);"
   ]
  },
  {
   "cell_type": "markdown",
   "metadata": {},
   "source": [
    "#Upon looking at our scaled dataframe, we noticed that there is a house sold with 33 bedrooms for $600k\n",
    "#After considering the price sold, sqft and number of bathrooms - the # of bedrooms appears \n",
    "#to be an error of somesort\n",
    "#Since we explored bedrooms having a relatively small correlation to price, we are not too worried about this one\n",
    "#outlier being included in our scatterplot"
   ]
  },
  {
   "cell_type": "code",
   "execution_count": null,
   "metadata": {},
   "outputs": [],
   "source": [
    "simple_formula3 = 'price ~ sqft_living + bedrooms'\n",
    "simple_model3 = ols(formula = simple_formula3,\n",
    "                   data = scaled_and_parse_df).fit()\n",
    "simple_mod_summ3 = simple_model3.summary()\n",
    "\n",
    "simple_mod_summ3"
   ]
  },
  {
   "cell_type": "code",
   "execution_count": null,
   "metadata": {},
   "outputs": [],
   "source": []
  },
  {
   "cell_type": "code",
   "execution_count": null,
   "metadata": {},
   "outputs": [],
   "source": []
  },
  {
   "cell_type": "code",
   "execution_count": null,
   "metadata": {},
   "outputs": [],
   "source": []
  },
  {
   "cell_type": "code",
   "execution_count": null,
   "metadata": {},
   "outputs": [],
   "source": []
  },
  {
   "cell_type": "code",
   "execution_count": null,
   "metadata": {},
   "outputs": [],
   "source": []
  }
 ],
 "metadata": {
  "kernelspec": {
   "display_name": "Python (learn-env)",
   "language": "python",
   "name": "learn-env"
  },
  "language_info": {
   "codemirror_mode": {
    "name": "ipython",
    "version": 3
   },
   "file_extension": ".py",
   "mimetype": "text/x-python",
   "name": "python",
   "nbconvert_exporter": "python",
   "pygments_lexer": "ipython3",
   "version": "3.8.5"
  }
 },
 "nbformat": 4,
 "nbformat_minor": 4
}
