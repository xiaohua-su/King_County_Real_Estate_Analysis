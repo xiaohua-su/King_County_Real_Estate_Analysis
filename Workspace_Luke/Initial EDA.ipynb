{
 "cells": [
  {
   "cell_type": "markdown",
   "metadata": {},
   "source": [
    "# Initial Analysis of King County Housing Dataset"
   ]
  },
  {
   "cell_type": "code",
   "execution_count": 142,
   "metadata": {},
   "outputs": [],
   "source": [
    "import pandas as pd\n",
    "import numpy as np\n",
    "import matplotlib.pyplot as plt\n",
    "%matplotlib inline"
   ]
  },
  {
   "cell_type": "code",
   "execution_count": 143,
   "metadata": {},
   "outputs": [],
   "source": [
    "# Reading in .csv, assigning to dataframe `df`\n",
    "df = pd.read_csv('../data/kc_house_data.csv')\n",
    "\n",
    "# Shows all columns, i.e. forces pandas/Jupyter\n",
    "# not to truncate dataframe horizontally\n",
    "pd.set_option('display.max_columns', False)"
   ]
  },
  {
   "cell_type": "code",
   "execution_count": 144,
   "metadata": {
    "scrolled": true
   },
   "outputs": [],
   "source": [
    "# Checking out the data\n",
    "df.head(10);"
   ]
  },
  {
   "cell_type": "code",
   "execution_count": 145,
   "metadata": {
    "scrolled": true
   },
   "outputs": [
    {
     "name": "stdout",
     "output_type": "stream",
     "text": [
      "<class 'pandas.core.frame.DataFrame'>\n",
      "RangeIndex: 21597 entries, 0 to 21596\n",
      "Data columns (total 21 columns):\n",
      " #   Column         Non-Null Count  Dtype  \n",
      "---  ------         --------------  -----  \n",
      " 0   id             21597 non-null  int64  \n",
      " 1   date           21597 non-null  object \n",
      " 2   price          21597 non-null  float64\n",
      " 3   bedrooms       21597 non-null  int64  \n",
      " 4   bathrooms      21597 non-null  float64\n",
      " 5   sqft_living    21597 non-null  int64  \n",
      " 6   sqft_lot       21597 non-null  int64  \n",
      " 7   floors         21597 non-null  float64\n",
      " 8   waterfront     19221 non-null  object \n",
      " 9   view           21534 non-null  object \n",
      " 10  condition      21597 non-null  object \n",
      " 11  grade          21597 non-null  object \n",
      " 12  sqft_above     21597 non-null  int64  \n",
      " 13  sqft_basement  21597 non-null  object \n",
      " 14  yr_built       21597 non-null  int64  \n",
      " 15  yr_renovated   17755 non-null  float64\n",
      " 16  zipcode        21597 non-null  int64  \n",
      " 17  lat            21597 non-null  float64\n",
      " 18  long           21597 non-null  float64\n",
      " 19  sqft_living15  21597 non-null  int64  \n",
      " 20  sqft_lot15     21597 non-null  int64  \n",
      "dtypes: float64(6), int64(9), object(6)\n",
      "memory usage: 3.5+ MB\n"
     ]
    }
   ],
   "source": [
    "# Checking out the data types and null/non-null counts\n",
    "df.info()"
   ]
  },
  {
   "cell_type": "markdown",
   "metadata": {},
   "source": [
    "### Initial thoughts\n",
    "\n",
    "#### The Good\n",
    "- How should we approach `sqft_living` vs. `sqft_above`? What, if anything, is the difference between these two metrics? `sqft_above` counts living area separate from the basement, but it seems the parameter of interest there is whether or not the house *has* livable basement area.\n",
    "    - Running a heat map proves that these variables have a colinearity coefficient of `0.88`; it's likely we'll need to choose one or the other for a linear model.\n",
    "- Because `sqft_living` refers to a record and `sqft_living15` refers to properties in the geographical vicinity of that record, we can compare the values stored in these two columns in a given row to determine if a home's square footage is greater than or less than nearby homes.\n",
    "    - It might be useful to, early on, perform some simple linear regressions using these as predictor variables to determine goodness of fit, etc.\n",
    "    \n",
    "#### The Less Good\n",
    "- Is `id` going to be useful in any way? It doesn't seem like an instance where a 'unique identifier' is going to provide us with any information we can use for prediction.\n",
    "    - However! - see \"Notes for Cleaning\" below.\n",
    "- We are working with data from a *single county* - will `lat` and `long` be able to tell us anything that we can't glean from, say, zip code? This might also make our presentation and recommendations unnecessarily complex.\n",
    "\n",
    "#### The... Not Sure?\n",
    "- `yr_renovated` has a fairly substantial number of null values (~4,000), and an even greater number of records with value `0.0`, which likely indicates that no renovation has been done to the house (need to check data dictionary).\n",
    "    - Heat map examination also indicates a low correlation, < 0.1, between `yr_built` and `price`.   \n",
    "- `waterfront` may be useful as a boolean value, i.e. to test whether homes located on water are higher priced than homes that we **know** are not located on water.\n",
    "\n",
    "#### Notes for Cleaning\n",
    "- Coded null values exist in the following columns:\n",
    "    - `waterfront`\n",
    "    - `view`\n",
    "    - `yr_renovated`\n",
    "- Duplicates exist in the `id` column - these are houses that were sold more than once! What are we going to do about this, and why are we going to go about it that way?"
   ]
  },
  {
   "cell_type": "code",
   "execution_count": 146,
   "metadata": {},
   "outputs": [],
   "source": [
    "# Dealing with duplicates in the `id` column, keeping only the most recent sale\n",
    "\n",
    "## code goes here"
   ]
  },
  {
   "cell_type": "code",
   "execution_count": 147,
   "metadata": {},
   "outputs": [
    {
     "data": {
      "text/plain": [
       "NO     19075\n",
       "YES      146\n",
       "Name: waterfront, dtype: int64"
      ]
     },
     "execution_count": 147,
     "metadata": {},
     "output_type": "execute_result"
    }
   ],
   "source": [
    "# Some exploratory value counts on columns of interest\n",
    "\n",
    "# Counting the number of homes with recorded\n",
    "# waterfront status vs. those without it\n",
    "df.waterfront.value_counts()\n",
    "\n",
    "\n",
    "# Number of bathrooms - note that many values exist\n",
    "# with decimal places, i.e. half baths. This could get\n",
    "# messy and convoluted quickly.\n",
    "\n",
    "## df.bathrooms.value_counts()"
   ]
  },
  {
   "cell_type": "code",
   "execution_count": 148,
   "metadata": {},
   "outputs": [],
   "source": [
    "# Filling null values in column `view` with string indicating\n",
    "# that no record exists on the property's view\n",
    "df.view.fillna(value = 'NO RECORD', inplace = True)\n",
    "\n",
    "# Filling null values in column `yr_renovated` with integer 0,\n",
    "# indicating that no renovation year exists for this record\n",
    "df.yr_renovated.fillna(value = 0, inplace = True)\n",
    "\n",
    "# Filling null values in column `waterfront` to reflect\n",
    "# unknown status - this code may go unused\n",
    "## df.waterfront.fillna(value = 'UNKNOWN', inplace = True)"
   ]
  },
  {
   "cell_type": "code",
   "execution_count": 149,
   "metadata": {},
   "outputs": [
    {
     "name": "stdout",
     "output_type": "stream",
     "text": [
      "Condition value counts:\n",
      "Average      14020\n",
      "Good          5677\n",
      "Very Good     1701\n",
      "Fair           170\n",
      "Poor            29\n",
      "Name: condition, dtype: int64\n",
      "\n",
      "Grade value counts:\n",
      "7 Average        8974\n",
      "8 Good           6065\n",
      "9 Better         2615\n",
      "6 Low Average    2038\n",
      "10 Very Good     1134\n",
      "11 Excellent      399\n",
      "5 Fair            242\n",
      "12 Luxury          89\n",
      "4 Low              27\n",
      "13 Mansion         13\n",
      "3 Poor              1\n",
      "Name: grade, dtype: int64\n",
      "\n",
      "Renovation year value counts:\n",
      "0.00       20853\n",
      "2014.00       73\n",
      "2003.00       31\n",
      "2013.00       31\n",
      "2007.00       30\n",
      "           ...  \n",
      "1946.00        1\n",
      "1959.00        1\n",
      "1971.00        1\n",
      "1951.00        1\n",
      "1954.00        1\n",
      "Name: yr_renovated, Length: 70, dtype: int64\n",
      "\n"
     ]
    }
   ],
   "source": [
    "# Creating variables to count values in columns `grade`, `condition`, \n",
    "# and `yr_renovated` in King County real estate data\n",
    "grade_counts = df['grade'].value_counts()\n",
    "condition_counts = df['condition'].value_counts()\n",
    "renovation_counts = df['yr_renovated'].value_counts()\n",
    "\n",
    "# Printing value counts\n",
    "print(f'Condition value counts:\\n{condition_counts}\\n')\n",
    "print(f'Grade value counts:\\n{grade_counts}\\n')\n",
    "print(f'Renovation year value counts:\\n{renovation_counts}\\n')"
   ]
  },
  {
   "cell_type": "code",
   "execution_count": 150,
   "metadata": {},
   "outputs": [],
   "source": [
    "# Dropping columns we determined were either superfluous or irrelevant\n",
    "df.drop(columns = ['id', 'floors', 'condition', 'lat', 'long', 'zipcode', 'sqft_above', 'sqft_basement',\n",
    "                   'sqft_lot15', ], inplace = True)\n",
    "# potentially include yr_renovated? depending on use"
   ]
  },
  {
   "cell_type": "code",
   "execution_count": 151,
   "metadata": {},
   "outputs": [],
   "source": [
    "# Applied universally to notebook -- converts any scientific notation\n",
    "# to standard notation, rounded to two decimal places\n",
    "\n",
    "# Use with caution! Will need to restart kernel to reset effect.\n",
    "\n",
    "## pd.set_option('display.float_format', lambda x: '%.2f' % x)"
   ]
  },
  {
   "cell_type": "code",
   "execution_count": 159,
   "metadata": {
    "scrolled": true
   },
   "outputs": [
    {
     "data": {
      "text/html": [
       "<div>\n",
       "<style scoped>\n",
       "    .dataframe tbody tr th:only-of-type {\n",
       "        vertical-align: middle;\n",
       "    }\n",
       "\n",
       "    .dataframe tbody tr th {\n",
       "        vertical-align: top;\n",
       "    }\n",
       "\n",
       "    .dataframe thead th {\n",
       "        text-align: right;\n",
       "    }\n",
       "</style>\n",
       "<table border=\"1\" class=\"dataframe\">\n",
       "  <thead>\n",
       "    <tr style=\"text-align: right;\">\n",
       "      <th></th>\n",
       "      <th>price</th>\n",
       "      <th>bedrooms</th>\n",
       "      <th>bathrooms</th>\n",
       "      <th>sqft_living</th>\n",
       "      <th>sqft_lot</th>\n",
       "      <th>yr_built</th>\n",
       "      <th>yr_renovated</th>\n",
       "      <th>sqft_living15</th>\n",
       "    </tr>\n",
       "    <tr>\n",
       "      <th>view</th>\n",
       "      <th></th>\n",
       "      <th></th>\n",
       "      <th></th>\n",
       "      <th></th>\n",
       "      <th></th>\n",
       "      <th></th>\n",
       "      <th></th>\n",
       "      <th></th>\n",
       "    </tr>\n",
       "  </thead>\n",
       "  <tbody>\n",
       "    <tr>\n",
       "      <th>EXCELLENT</th>\n",
       "      <td>1452465.88</td>\n",
       "      <td>3.62</td>\n",
       "      <td>2.78</td>\n",
       "      <td>3334.48</td>\n",
       "      <td>21624.01</td>\n",
       "      <td>1965.95</td>\n",
       "      <td>270.18</td>\n",
       "      <td>2841.00</td>\n",
       "    </tr>\n",
       "    <tr>\n",
       "      <th>GOOD</th>\n",
       "      <td>973285.20</td>\n",
       "      <td>3.67</td>\n",
       "      <td>2.67</td>\n",
       "      <td>3016.85</td>\n",
       "      <td>34877.13</td>\n",
       "      <td>1967.39</td>\n",
       "      <td>192.58</td>\n",
       "      <td>2702.21</td>\n",
       "    </tr>\n",
       "    <tr>\n",
       "      <th>FAIR</th>\n",
       "      <td>813373.27</td>\n",
       "      <td>3.54</td>\n",
       "      <td>2.35</td>\n",
       "      <td>2571.05</td>\n",
       "      <td>12370.60</td>\n",
       "      <td>1962.89</td>\n",
       "      <td>151.11</td>\n",
       "      <td>2407.35</td>\n",
       "    </tr>\n",
       "    <tr>\n",
       "      <th>AVERAGE</th>\n",
       "      <td>791390.37</td>\n",
       "      <td>3.57</td>\n",
       "      <td>2.43</td>\n",
       "      <td>2650.72</td>\n",
       "      <td>22317.00</td>\n",
       "      <td>1964.82</td>\n",
       "      <td>106.27</td>\n",
       "      <td>2427.34</td>\n",
       "    </tr>\n",
       "    <tr>\n",
       "      <th>NO RECORD</th>\n",
       "      <td>621958.17</td>\n",
       "      <td>3.43</td>\n",
       "      <td>2.15</td>\n",
       "      <td>2249.17</td>\n",
       "      <td>18111.57</td>\n",
       "      <td>1970.11</td>\n",
       "      <td>31.67</td>\n",
       "      <td>2096.13</td>\n",
       "    </tr>\n",
       "    <tr>\n",
       "      <th>NONE</th>\n",
       "      <td>496806.07</td>\n",
       "      <td>3.35</td>\n",
       "      <td>2.07</td>\n",
       "      <td>1998.36</td>\n",
       "      <td>14156.57</td>\n",
       "      <td>1971.62</td>\n",
       "      <td>59.10</td>\n",
       "      <td>1924.74</td>\n",
       "    </tr>\n",
       "  </tbody>\n",
       "</table>\n",
       "</div>"
      ],
      "text/plain": [
       "               price  bedrooms  ...  yr_renovated  sqft_living15\n",
       "view                            ...                             \n",
       "EXCELLENT 1452465.88      3.62  ...        270.18        2841.00\n",
       "GOOD       973285.20      3.67  ...        192.58        2702.21\n",
       "FAIR       813373.27      3.54  ...        151.11        2407.35\n",
       "AVERAGE    791390.37      3.57  ...        106.27        2427.34\n",
       "NO RECORD  621958.17      3.43  ...         31.67        2096.13\n",
       "NONE       496806.07      3.35  ...         59.10        1924.74\n",
       "\n",
       "[6 rows x 8 columns]"
      ]
     },
     "execution_count": 159,
     "metadata": {},
     "output_type": "execute_result"
    }
   ],
   "source": [
    "# Creating new df, grouped by column `view`, and looking\n",
    "# at mean values for the categorical variables in `view`\n",
    "view_df = df.groupby('view').mean()\n",
    "\n",
    "view_df.sort_values('price', ascending = False)"
   ]
  },
  {
   "cell_type": "markdown",
   "metadata": {},
   "source": [
    "Takeaways from this quick analysis of `view` include...\n",
    "\n",
    "- Clear descending order with `EXCELLENT` at top and `NONE` at bottom\n",
    "- Significant differences between `EXCELLENT` and middle `view` values, and between middle `view` values and `NONE`\n",
    "    - Differences not as significant between `GOOD`, `FAIR`, and `AVERAGE`\n",
    "- `NO RECORD` (formerly null/NaN) will need further investigation, as it seems to lie between `AVERAGE` (i.e. **having** a view, but an average one) and `NONE`, which ostensibly means no scenic view whatsoever.\n",
    "    - Fortunately, we have < 100 null values in this column, so we can either drop them or modify them without worrying about those changes affecting our conclusions significantly."
   ]
  },
  {
   "cell_type": "code",
   "execution_count": 153,
   "metadata": {},
   "outputs": [
    {
     "name": "stdout",
     "output_type": "stream",
     "text": [
      "<class 'pandas.core.frame.DataFrame'>\n",
      "RangeIndex: 21597 entries, 0 to 21596\n",
      "Data columns (total 12 columns):\n",
      " #   Column         Non-Null Count  Dtype  \n",
      "---  ------         --------------  -----  \n",
      " 0   date           21597 non-null  object \n",
      " 1   price          21597 non-null  float64\n",
      " 2   bedrooms       21597 non-null  int64  \n",
      " 3   bathrooms      21597 non-null  float64\n",
      " 4   sqft_living    21597 non-null  int64  \n",
      " 5   sqft_lot       21597 non-null  int64  \n",
      " 6   waterfront     19221 non-null  object \n",
      " 7   view           21597 non-null  object \n",
      " 8   grade          21597 non-null  object \n",
      " 9   yr_built       21597 non-null  int64  \n",
      " 10  yr_renovated   21597 non-null  float64\n",
      " 11  sqft_living15  21597 non-null  int64  \n",
      "dtypes: float64(3), int64(5), object(4)\n",
      "memory usage: 2.0+ MB\n"
     ]
    }
   ],
   "source": [
    "# Multiples in id column\n",
    "# df[df['id'] == 795000620]\n",
    "df.info()"
   ]
  },
  {
   "cell_type": "markdown",
   "metadata": {},
   "source": [
    "### Side notes and things to revisit\n",
    "\n",
    "- `yr_renovated` has null values and a lot of `0` values too. Of the houses *with* values in the `yr_renovated` column, the vast majority were renovations from 2013 and 2014. It might be worth further exploring how these recently renovated homes compare pricewise to homes built in prior years."
   ]
  },
  {
   "cell_type": "code",
   "execution_count": null,
   "metadata": {},
   "outputs": [],
   "source": []
  }
 ],
 "metadata": {
  "kernelspec": {
   "display_name": "Python (learn-env)",
   "language": "python",
   "name": "learn-env"
  },
  "language_info": {
   "codemirror_mode": {
    "name": "ipython",
    "version": 3
   },
   "file_extension": ".py",
   "mimetype": "text/x-python",
   "name": "python",
   "nbconvert_exporter": "python",
   "pygments_lexer": "ipython3",
   "version": "3.8.5"
  }
 },
 "nbformat": 4,
 "nbformat_minor": 4
}
