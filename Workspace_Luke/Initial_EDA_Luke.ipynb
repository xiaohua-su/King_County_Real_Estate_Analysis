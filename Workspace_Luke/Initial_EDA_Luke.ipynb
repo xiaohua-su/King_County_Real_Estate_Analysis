{
 "cells": [
  {
   "cell_type": "markdown",
   "metadata": {},
   "source": [
    "# Initial Analysis of King County Housing Dataset"
   ]
  },
  {
   "cell_type": "code",
   "execution_count": 2,
   "metadata": {},
   "outputs": [],
   "source": [
    "import pandas as pd\n",
    "import numpy as np\n",
    "import matplotlib.pyplot as plt\n",
    "import seaborn as sns\n",
    "from scipy import stats\n",
    "import statsmodels.api as sm\n",
    "from statsmodels.formula.api import ols\n",
    "from sklearn.preprocessing import OneHotEncoder, StandardScaler\n",
    "from sklearn.datasets import make_regression\n",
    "from sklearn.linear_model import LinearRegression\n",
    "import sklearn.metrics as metrics\n",
    "from random import gauss\n",
    "from mpl_toolkits.mplot3d import Axes3D\n",
    "\n",
    "%matplotlib inline"
   ]
  },
  {
   "cell_type": "code",
   "execution_count": 3,
   "metadata": {},
   "outputs": [],
   "source": [
    "# Reading in .csv, assigning to dataframe `df`\n",
    "df = pd.read_csv('../data/kc_house_data.csv')\n",
    "\n",
    "# Shows all columns, i.e. forces pandas/Jupyter\n",
    "# not to truncate dataframe horizontally\n",
    "pd.set_option('display.max_columns', False)"
   ]
  },
  {
   "cell_type": "code",
   "execution_count": 4,
   "metadata": {
    "scrolled": true
   },
   "outputs": [],
   "source": [
    "# Checking out the data\n",
    "df.head(10);"
   ]
  },
  {
   "cell_type": "code",
   "execution_count": 5,
   "metadata": {
    "scrolled": true
   },
   "outputs": [
    {
     "name": "stdout",
     "output_type": "stream",
     "text": [
      "<class 'pandas.core.frame.DataFrame'>\n",
      "RangeIndex: 21597 entries, 0 to 21596\n",
      "Data columns (total 21 columns):\n",
      " #   Column         Non-Null Count  Dtype  \n",
      "---  ------         --------------  -----  \n",
      " 0   id             21597 non-null  int64  \n",
      " 1   date           21597 non-null  object \n",
      " 2   price          21597 non-null  float64\n",
      " 3   bedrooms       21597 non-null  int64  \n",
      " 4   bathrooms      21597 non-null  float64\n",
      " 5   sqft_living    21597 non-null  int64  \n",
      " 6   sqft_lot       21597 non-null  int64  \n",
      " 7   floors         21597 non-null  float64\n",
      " 8   waterfront     19221 non-null  object \n",
      " 9   view           21534 non-null  object \n",
      " 10  condition      21597 non-null  object \n",
      " 11  grade          21597 non-null  object \n",
      " 12  sqft_above     21597 non-null  int64  \n",
      " 13  sqft_basement  21597 non-null  object \n",
      " 14  yr_built       21597 non-null  int64  \n",
      " 15  yr_renovated   17755 non-null  float64\n",
      " 16  zipcode        21597 non-null  int64  \n",
      " 17  lat            21597 non-null  float64\n",
      " 18  long           21597 non-null  float64\n",
      " 19  sqft_living15  21597 non-null  int64  \n",
      " 20  sqft_lot15     21597 non-null  int64  \n",
      "dtypes: float64(6), int64(9), object(6)\n",
      "memory usage: 3.5+ MB\n"
     ]
    }
   ],
   "source": [
    "# Checking out the data types and null/non-null counts\n",
    "df.info()"
   ]
  },
  {
   "cell_type": "code",
   "execution_count": 13,
   "metadata": {},
   "outputs": [],
   "source": [
    "# Converting column `date` to datetime64[ns] from type string/object\n",
    "df['date'] = df['date'].astype('datetime64[ns]')\n",
    "\n",
    "# trial = df.groupby(['id']).date.transform(max)\n",
    "# trial_cleaned = df[df.id == trial]\n",
    "\n",
    "# trial_cleaned = None"
   ]
  },
  {
   "cell_type": "code",
   "execution_count": 6,
   "metadata": {
    "scrolled": true
   },
   "outputs": [],
   "source": [
    "# Creating a straightforward, initial model --\n",
    "# just for kicks\n",
    "simple_formula = 'price ~ sqft_living'\n",
    "simple_model = ols(formula = simple_formula,\n",
    "                   data = df).fit()"
   ]
  },
  {
   "cell_type": "code",
   "execution_count": 25,
   "metadata": {},
   "outputs": [
    {
     "data": {
      "text/html": [
       "<div>\n",
       "<style scoped>\n",
       "    .dataframe tbody tr th:only-of-type {\n",
       "        vertical-align: middle;\n",
       "    }\n",
       "\n",
       "    .dataframe tbody tr th {\n",
       "        vertical-align: top;\n",
       "    }\n",
       "\n",
       "    .dataframe thead th {\n",
       "        text-align: right;\n",
       "    }\n",
       "</style>\n",
       "<table border=\"1\" class=\"dataframe\">\n",
       "  <thead>\n",
       "    <tr style=\"text-align: right;\">\n",
       "      <th></th>\n",
       "      <th>id</th>\n",
       "      <th>price</th>\n",
       "      <th>bedrooms</th>\n",
       "      <th>bathrooms</th>\n",
       "      <th>sqft_living</th>\n",
       "      <th>sqft_lot</th>\n",
       "      <th>floors</th>\n",
       "      <th>sqft_above</th>\n",
       "      <th>yr_built</th>\n",
       "      <th>yr_renovated</th>\n",
       "      <th>zipcode</th>\n",
       "      <th>lat</th>\n",
       "      <th>long</th>\n",
       "      <th>sqft_living15</th>\n",
       "      <th>sqft_lot15</th>\n",
       "    </tr>\n",
       "  </thead>\n",
       "  <tbody>\n",
       "    <tr>\n",
       "      <th>0</th>\n",
       "      <td>7129300520</td>\n",
       "      <td>221900.0</td>\n",
       "      <td>3</td>\n",
       "      <td>1.00</td>\n",
       "      <td>1180</td>\n",
       "      <td>5650</td>\n",
       "      <td>1.0</td>\n",
       "      <td>1180</td>\n",
       "      <td>1955</td>\n",
       "      <td>0.0</td>\n",
       "      <td>98178</td>\n",
       "      <td>47.5112</td>\n",
       "      <td>-122.257</td>\n",
       "      <td>1340</td>\n",
       "      <td>5650</td>\n",
       "    </tr>\n",
       "    <tr>\n",
       "      <th>1</th>\n",
       "      <td>6414100192</td>\n",
       "      <td>538000.0</td>\n",
       "      <td>3</td>\n",
       "      <td>2.25</td>\n",
       "      <td>2570</td>\n",
       "      <td>7242</td>\n",
       "      <td>2.0</td>\n",
       "      <td>2170</td>\n",
       "      <td>1951</td>\n",
       "      <td>1991.0</td>\n",
       "      <td>98125</td>\n",
       "      <td>47.7210</td>\n",
       "      <td>-122.319</td>\n",
       "      <td>1690</td>\n",
       "      <td>7639</td>\n",
       "    </tr>\n",
       "    <tr>\n",
       "      <th>2</th>\n",
       "      <td>5631500400</td>\n",
       "      <td>180000.0</td>\n",
       "      <td>2</td>\n",
       "      <td>1.00</td>\n",
       "      <td>770</td>\n",
       "      <td>10000</td>\n",
       "      <td>1.0</td>\n",
       "      <td>770</td>\n",
       "      <td>1933</td>\n",
       "      <td>NaN</td>\n",
       "      <td>98028</td>\n",
       "      <td>47.7379</td>\n",
       "      <td>-122.233</td>\n",
       "      <td>2720</td>\n",
       "      <td>8062</td>\n",
       "    </tr>\n",
       "    <tr>\n",
       "      <th>3</th>\n",
       "      <td>2487200875</td>\n",
       "      <td>604000.0</td>\n",
       "      <td>4</td>\n",
       "      <td>3.00</td>\n",
       "      <td>1960</td>\n",
       "      <td>5000</td>\n",
       "      <td>1.0</td>\n",
       "      <td>1050</td>\n",
       "      <td>1965</td>\n",
       "      <td>0.0</td>\n",
       "      <td>98136</td>\n",
       "      <td>47.5208</td>\n",
       "      <td>-122.393</td>\n",
       "      <td>1360</td>\n",
       "      <td>5000</td>\n",
       "    </tr>\n",
       "    <tr>\n",
       "      <th>4</th>\n",
       "      <td>1954400510</td>\n",
       "      <td>510000.0</td>\n",
       "      <td>3</td>\n",
       "      <td>2.00</td>\n",
       "      <td>1680</td>\n",
       "      <td>8080</td>\n",
       "      <td>1.0</td>\n",
       "      <td>1680</td>\n",
       "      <td>1987</td>\n",
       "      <td>0.0</td>\n",
       "      <td>98074</td>\n",
       "      <td>47.6168</td>\n",
       "      <td>-122.045</td>\n",
       "      <td>1800</td>\n",
       "      <td>7503</td>\n",
       "    </tr>\n",
       "  </tbody>\n",
       "</table>\n",
       "</div>"
      ],
      "text/plain": [
       "           id     price  bedrooms  ...     long  sqft_living15  sqft_lot15\n",
       "0  7129300520  221900.0         3  ... -122.257           1340        5650\n",
       "1  6414100192  538000.0         3  ... -122.319           1690        7639\n",
       "2  5631500400  180000.0         2  ... -122.233           2720        8062\n",
       "3  2487200875  604000.0         4  ... -122.393           1360        5000\n",
       "4  1954400510  510000.0         3  ... -122.045           1800        7503\n",
       "\n",
       "[5 rows x 15 columns]"
      ]
     },
     "execution_count": 25,
     "metadata": {},
     "output_type": "execute_result"
    }
   ],
   "source": [
    "numbers_df = df.select_dtypes('number')\n",
    "\n",
    "numbers_df.head()"
   ]
  },
  {
   "cell_type": "code",
   "execution_count": 29,
   "metadata": {},
   "outputs": [
    {
     "data": {
      "text/plain": [
       "(21420, 21)"
      ]
     },
     "execution_count": 29,
     "metadata": {},
     "output_type": "execute_result"
    }
   ],
   "source": [
    "df_copy2 = df.sort_values(by=['id', 'date'])\n",
    "df_copy2 = df_copy2.drop_duplicates(subset=['id'], keep='last')\n",
    "\n",
    "df_copy2;"
   ]
  },
  {
   "cell_type": "markdown",
   "metadata": {},
   "source": [
    "### Initial thoughts\n",
    "\n",
    "#### The Good\n",
    "- How should we approach `sqft_living` vs. `sqft_above`? What, if anything, is the difference between these two metrics? `sqft_above` counts living area separate from the basement, but it seems the parameter of interest there is whether or not the house *has* livable basement area.\n",
    "    - Running a heat map proves that these variables have a colinearity coefficient of `0.88`; it's likely we'll need to choose one or the other for a linear model.\n",
    "- Because `sqft_living` refers to a record and `sqft_living15` refers to properties in the geographical vicinity of that record, we can compare the values stored in these two columns in a given row to determine if a home's square footage is greater than or less than nearby homes.\n",
    "    - It might be useful to, early on, perform some simple linear regressions using these as predictor variables to determine goodness of fit, etc.\n",
    "    \n",
    "#### The Less Good\n",
    "- Is `id` going to be useful in any way? It doesn't seem like an instance where a 'unique identifier' is going to provide us with any information we can use for prediction.\n",
    "    - However! - see \"Notes for Cleaning\" below.\n",
    "- We are working with data from a *single county* - will `lat` and `long` be able to tell us anything that we can't glean from, say, zip code? This might also make our presentation and recommendations unnecessarily complex.\n",
    "\n",
    "#### The... Not Sure?\n",
    "- `yr_renovated` has a fairly substantial number of null values (~4,000), and an even greater number of records with value `0.0`, which likely indicates that no renovation has been done to the house (need to check data dictionary).\n",
    "    - Heat map examination also indicates a low correlation, < 0.1, between `yr_built` and `price`.   \n",
    "- `waterfront` may be useful as a boolean value, i.e. to test whether homes located on water are higher priced than homes that we **know** are not located on water.\n",
    "\n",
    "#### Notes for Cleaning\n",
    "- Coded null values exist in the following columns:\n",
    "    - `waterfront`\n",
    "    - `view`\n",
    "    - `yr_renovated`\n",
    "- Duplicates exist in the `id` column - these are houses that were sold more than once! What are we going to do about this, and why are we going to go about it that way?"
   ]
  },
  {
   "cell_type": "code",
   "execution_count": 6,
   "metadata": {},
   "outputs": [],
   "source": [
    "# Dealing with duplicates in the `id` column, keeping only the most recent sale\n",
    "\n",
    "## code goes here"
   ]
  },
  {
   "cell_type": "code",
   "execution_count": 7,
   "metadata": {},
   "outputs": [
    {
     "data": {
      "text/plain": [
       "NO     19075\n",
       "YES      146\n",
       "Name: waterfront, dtype: int64"
      ]
     },
     "execution_count": 7,
     "metadata": {},
     "output_type": "execute_result"
    }
   ],
   "source": [
    "# Some exploratory value counts on columns of interest\n",
    "\n",
    "# Counting the number of homes with recorded\n",
    "# waterfront status vs. those without it\n",
    "df.waterfront.value_counts()\n",
    "\n",
    "\n",
    "# Number of bathrooms - note that many values exist\n",
    "# with decimal places, i.e. half baths. This could get\n",
    "# messy and convoluted quickly.\n",
    "\n",
    "## df.bathrooms.value_counts()"
   ]
  },
  {
   "cell_type": "code",
   "execution_count": 8,
   "metadata": {},
   "outputs": [],
   "source": [
    "# Filling null values in column `view` with string indicating\n",
    "# that no record exists on the property's view\n",
    "df.view.fillna(value = 'NO RECORD', inplace = True)\n",
    "\n",
    "# Filling null values in column `yr_renovated` with integer 0,\n",
    "# indicating that no renovation year exists for this record\n",
    "df.yr_renovated.fillna(value = 0, inplace = True)\n",
    "\n",
    "# Filling null values in column `waterfront` to reflect\n",
    "# unknown status - this code may go unused\n",
    "df.waterfront.fillna(value = 'UNKNOWN', inplace = True)"
   ]
  },
  {
   "cell_type": "code",
   "execution_count": 9,
   "metadata": {},
   "outputs": [
    {
     "name": "stdout",
     "output_type": "stream",
     "text": [
      "Condition value counts:\n",
      "Average      14020\n",
      "Good          5677\n",
      "Very Good     1701\n",
      "Fair           170\n",
      "Poor            29\n",
      "Name: condition, dtype: int64\n",
      "\n",
      "Grade value counts:\n",
      "7 Average        8974\n",
      "8 Good           6065\n",
      "9 Better         2615\n",
      "6 Low Average    2038\n",
      "10 Very Good     1134\n",
      "11 Excellent      399\n",
      "5 Fair            242\n",
      "12 Luxury          89\n",
      "4 Low              27\n",
      "13 Mansion         13\n",
      "3 Poor              1\n",
      "Name: grade, dtype: int64\n",
      "\n",
      "Renovation year value counts:\n",
      "0.0       20853\n",
      "2014.0       73\n",
      "2003.0       31\n",
      "2013.0       31\n",
      "2007.0       30\n",
      "          ...  \n",
      "1946.0        1\n",
      "1959.0        1\n",
      "1971.0        1\n",
      "1951.0        1\n",
      "1954.0        1\n",
      "Name: yr_renovated, Length: 70, dtype: int64\n",
      "\n"
     ]
    }
   ],
   "source": [
    "# Creating variables to count values in columns `grade`, `condition`, \n",
    "# and `yr_renovated` in King County real estate data\n",
    "grade_counts = df['grade'].value_counts()\n",
    "condition_counts = df['condition'].value_counts()\n",
    "renovation_counts = df['yr_renovated'].value_counts()\n",
    "\n",
    "# Printing value counts\n",
    "print(f'Condition value counts:\\n{condition_counts}\\n')\n",
    "print(f'Grade value counts:\\n{grade_counts}\\n')\n",
    "print(f'Renovation year value counts:\\n{renovation_counts}\\n')"
   ]
  },
  {
   "cell_type": "code",
   "execution_count": 10,
   "metadata": {},
   "outputs": [],
   "source": [
    "# Dropping columns we determined were either superfluous or irrelevant\n",
    "df.drop(columns = ['id', 'sqft_lot', 'floors', 'condition', 'sqft_above', 'sqft_basement',\n",
    "                   'zipcode', 'lat', 'long', 'sqft_lot15'], inplace = True)\n",
    "# potentially include yr_renovated? depending on use"
   ]
  },
  {
   "cell_type": "code",
   "execution_count": 11,
   "metadata": {},
   "outputs": [],
   "source": [
    "# Applied universally to notebook -- converts any scientific notation\n",
    "# to standard notation, rounded to two decimal places\n",
    "\n",
    "# Use with caution! Will need to restart kernel to reset effect.\n",
    "\n",
    "## pd.set_option('display.float_format', lambda x: '%.2f' % x)"
   ]
  },
  {
   "cell_type": "code",
   "execution_count": 12,
   "metadata": {
    "scrolled": true
   },
   "outputs": [
    {
     "data": {
      "text/html": [
       "<div>\n",
       "<style scoped>\n",
       "    .dataframe tbody tr th:only-of-type {\n",
       "        vertical-align: middle;\n",
       "    }\n",
       "\n",
       "    .dataframe tbody tr th {\n",
       "        vertical-align: top;\n",
       "    }\n",
       "\n",
       "    .dataframe thead th {\n",
       "        text-align: right;\n",
       "    }\n",
       "</style>\n",
       "<table border=\"1\" class=\"dataframe\">\n",
       "  <thead>\n",
       "    <tr style=\"text-align: right;\">\n",
       "      <th></th>\n",
       "      <th>price</th>\n",
       "      <th>bedrooms</th>\n",
       "      <th>bathrooms</th>\n",
       "      <th>sqft_living</th>\n",
       "      <th>yr_built</th>\n",
       "      <th>yr_renovated</th>\n",
       "      <th>sqft_living15</th>\n",
       "    </tr>\n",
       "    <tr>\n",
       "      <th>view</th>\n",
       "      <th></th>\n",
       "      <th></th>\n",
       "      <th></th>\n",
       "      <th></th>\n",
       "      <th></th>\n",
       "      <th></th>\n",
       "      <th></th>\n",
       "    </tr>\n",
       "  </thead>\n",
       "  <tbody>\n",
       "    <tr>\n",
       "      <th>EXCELLENT</th>\n",
       "      <td>1.452466e+06</td>\n",
       "      <td>3.624606</td>\n",
       "      <td>2.782334</td>\n",
       "      <td>3334.479495</td>\n",
       "      <td>1965.949527</td>\n",
       "      <td>270.179811</td>\n",
       "      <td>2841.000000</td>\n",
       "    </tr>\n",
       "    <tr>\n",
       "      <th>GOOD</th>\n",
       "      <td>9.732852e+05</td>\n",
       "      <td>3.671260</td>\n",
       "      <td>2.670276</td>\n",
       "      <td>3016.846457</td>\n",
       "      <td>1967.389764</td>\n",
       "      <td>192.582677</td>\n",
       "      <td>2702.208661</td>\n",
       "    </tr>\n",
       "    <tr>\n",
       "      <th>FAIR</th>\n",
       "      <td>8.133733e+05</td>\n",
       "      <td>3.536364</td>\n",
       "      <td>2.350000</td>\n",
       "      <td>2571.045455</td>\n",
       "      <td>1962.890909</td>\n",
       "      <td>151.109091</td>\n",
       "      <td>2407.345455</td>\n",
       "    </tr>\n",
       "    <tr>\n",
       "      <th>AVERAGE</th>\n",
       "      <td>7.913904e+05</td>\n",
       "      <td>3.567398</td>\n",
       "      <td>2.426594</td>\n",
       "      <td>2650.719958</td>\n",
       "      <td>1964.817137</td>\n",
       "      <td>106.271682</td>\n",
       "      <td>2427.344828</td>\n",
       "    </tr>\n",
       "    <tr>\n",
       "      <th>NO RECORD</th>\n",
       "      <td>6.219582e+05</td>\n",
       "      <td>3.428571</td>\n",
       "      <td>2.154762</td>\n",
       "      <td>2249.174603</td>\n",
       "      <td>1970.111111</td>\n",
       "      <td>31.666667</td>\n",
       "      <td>2096.126984</td>\n",
       "    </tr>\n",
       "    <tr>\n",
       "      <th>NONE</th>\n",
       "      <td>4.968061e+05</td>\n",
       "      <td>3.348780</td>\n",
       "      <td>2.071028</td>\n",
       "      <td>1998.364793</td>\n",
       "      <td>1971.621821</td>\n",
       "      <td>59.104572</td>\n",
       "      <td>1924.738492</td>\n",
       "    </tr>\n",
       "  </tbody>\n",
       "</table>\n",
       "</div>"
      ],
      "text/plain": [
       "                  price  bedrooms  ...  yr_renovated  sqft_living15\n",
       "view                               ...                             \n",
       "EXCELLENT  1.452466e+06  3.624606  ...    270.179811    2841.000000\n",
       "GOOD       9.732852e+05  3.671260  ...    192.582677    2702.208661\n",
       "FAIR       8.133733e+05  3.536364  ...    151.109091    2407.345455\n",
       "AVERAGE    7.913904e+05  3.567398  ...    106.271682    2427.344828\n",
       "NO RECORD  6.219582e+05  3.428571  ...     31.666667    2096.126984\n",
       "NONE       4.968061e+05  3.348780  ...     59.104572    1924.738492\n",
       "\n",
       "[6 rows x 7 columns]"
      ]
     },
     "execution_count": 12,
     "metadata": {},
     "output_type": "execute_result"
    }
   ],
   "source": [
    "# Creating new df, grouped by column `view`, and looking\n",
    "# at mean values for the categorical variables in `view`\n",
    "view_df = df.groupby('view').mean()\n",
    "\n",
    "view_df.sort_values('price', ascending = False)"
   ]
  },
  {
   "cell_type": "markdown",
   "metadata": {},
   "source": [
    "Takeaways from this quick analysis of `view` include...\n",
    "\n",
    "- Clear descending order with `EXCELLENT` at top and `NONE` at bottom\n",
    "- Significant differences between `EXCELLENT` and middle `view` values, and between middle `view` values and `NONE`\n",
    "    - Differences not as significant between `GOOD`, `FAIR`, and `AVERAGE`\n",
    "- `NO RECORD` (formerly null/NaN) will need further investigation, as it seems to lie between `AVERAGE` (i.e. **having** a view, but an average one) and `NONE`, which ostensibly means no scenic view whatsoever.\n",
    "    - Fortunately, we have < 100 null values in this column, so we can either drop them or modify them without worrying about those changes affecting our conclusions significantly."
   ]
  },
  {
   "cell_type": "markdown",
   "metadata": {},
   "source": [
    "### Side notes and things to revisit\n",
    "\n",
    "- `yr_renovated` has null values and a lot of `0` values too. Of the houses *with* values in the `yr_renovated` column, the vast majority were renovations from 2013 and 2014. It might be worth further exploring how these recently renovated homes compare pricewise to homes built in prior years."
   ]
  }
 ],
 "metadata": {
  "kernelspec": {
   "display_name": "Python (learn-env)",
   "language": "python",
   "name": "learn-env"
  },
  "language_info": {
   "codemirror_mode": {
    "name": "ipython",
    "version": 3
   },
   "file_extension": ".py",
   "mimetype": "text/x-python",
   "name": "python",
   "nbconvert_exporter": "python",
   "pygments_lexer": "ipython3",
   "version": "3.8.5"
  }
 },
 "nbformat": 4,
 "nbformat_minor": 4
}
