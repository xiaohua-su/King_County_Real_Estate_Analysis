{
 "cells": [
  {
   "cell_type": "markdown",
   "metadata": {},
   "source": [
    "# Initial Analysis of King County Housing Dataset"
   ]
  },
  {
   "cell_type": "code",
   "execution_count": 72,
   "metadata": {},
   "outputs": [],
   "source": [
    "import pandas as pd\n",
    "import numpy as np\n",
    "import matplotlib.pyplot as plt\n",
    "import seaborn as sns\n",
    "from scipy import stats\n",
    "import statsmodels.api as sm\n",
    "from statsmodels.formula.api import ols\n",
    "from sklearn.preprocessing import OneHotEncoder, StandardScaler\n",
    "from sklearn.datasets import make_regression\n",
    "from sklearn.linear_model import LinearRegression\n",
    "import sklearn.metrics as metrics\n",
    "from random import gauss\n",
    "from mpl_toolkits.mplot3d import Axes3D\n",
    "\n",
    "%matplotlib inline"
   ]
  },
  {
   "cell_type": "code",
   "execution_count": 73,
   "metadata": {},
   "outputs": [],
   "source": [
    "# Reading in .csv, assigning to dataframe `df`\n",
    "df = pd.read_csv('../data/kc_house_data.csv')\n",
    "\n",
    "# Shows all columns, i.e. forces pandas/Jupyter\n",
    "# not to truncate dataframe horizontally\n",
    "pd.set_option('display.max_columns', False)"
   ]
  },
  {
   "cell_type": "code",
   "execution_count": 74,
   "metadata": {
    "scrolled": true
   },
   "outputs": [],
   "source": [
    "# Checking out the data\n",
    "# df.head(10)"
   ]
  },
  {
   "cell_type": "code",
   "execution_count": 84,
   "metadata": {
    "scrolled": true
   },
   "outputs": [
    {
     "name": "stdout",
     "output_type": "stream",
     "text": [
      "<class 'pandas.core.frame.DataFrame'>\n",
      "RangeIndex: 21597 entries, 0 to 21596\n",
      "Data columns (total 21 columns):\n",
      " #   Column         Non-Null Count  Dtype         \n",
      "---  ------         --------------  -----         \n",
      " 0   id             21597 non-null  int64         \n",
      " 1   date           21597 non-null  datetime64[ns]\n",
      " 2   price          21597 non-null  float64       \n",
      " 3   bedrooms       21597 non-null  int64         \n",
      " 4   bathrooms      21597 non-null  float64       \n",
      " 5   sqft_living    21597 non-null  int64         \n",
      " 6   sqft_lot       21597 non-null  int64         \n",
      " 7   floors         21597 non-null  float64       \n",
      " 8   waterfront     19221 non-null  object        \n",
      " 9   view           21534 non-null  object        \n",
      " 10  condition      21597 non-null  object        \n",
      " 11  grade          21597 non-null  object        \n",
      " 12  sqft_above     21597 non-null  int64         \n",
      " 13  sqft_basement  21597 non-null  object        \n",
      " 14  yr_built       21597 non-null  int64         \n",
      " 15  yr_renovated   17755 non-null  float64       \n",
      " 16  zipcode        21597 non-null  int64         \n",
      " 17  lat            21597 non-null  float64       \n",
      " 18  long           21597 non-null  float64       \n",
      " 19  sqft_living15  21597 non-null  int64         \n",
      " 20  sqft_lot15     21597 non-null  int64         \n",
      "dtypes: datetime64[ns](1), float64(6), int64(9), object(5)\n",
      "memory usage: 3.5+ MB\n"
     ]
    }
   ],
   "source": [
    "# Checking out the data types and null/non-null counts\n",
    "# df.info()"
   ]
  },
  {
   "cell_type": "code",
   "execution_count": 76,
   "metadata": {},
   "outputs": [],
   "source": [
    "# Converting column `date` to datetime64[ns] from type string/object\n",
    "df['date'] = df['date'].astype('datetime64[ns]')"
   ]
  },
  {
   "cell_type": "code",
   "execution_count": 85,
   "metadata": {},
   "outputs": [],
   "source": [
    "# plt.scatter(x = df['bedrooms'], y = df['price']);"
   ]
  },
  {
   "cell_type": "markdown",
   "metadata": {},
   "source": [
    "## Initial thoughts\n",
    "\n",
    "#### The Good\n",
    "- How should we approach `sqft_living` vs. `sqft_above`? What, if anything, is the difference between these two metrics? `sqft_above` counts living area separate from the basement, but it seems the parameter of interest there is whether or not the house *has* livable basement area.\n",
    "    - Running a heat map proves that these variables have a colinearity coefficient of `0.88`; it's likely we'll need to choose one or the other for a linear model.\n",
    "- Because `sqft_living` refers to a record and `sqft_living15` refers to properties in the geographical vicinity of that record, we can compare the values stored in these two columns in a given row to determine if a home's square footage is greater than or less than nearby homes.\n",
    "    - It might be useful to, early on, perform some simple linear regressions using these as predictor variables to determine goodness of fit, etc.\n",
    "    \n",
    "#### The Less Good\n",
    "- Is `id` going to be useful in any way? It doesn't seem like an instance where a 'unique identifier' is going to provide us with any information we can use for prediction.\n",
    "    - However! - see \"Notes for Cleaning\" below.\n",
    "- We are working with data from a *single county* - will `lat` and `long` be able to tell us anything that we can't glean from, say, zip code? This might also make our presentation and recommendations unnecessarily complex.\n",
    "\n",
    "#### The... Not Sure?\n",
    "- `yr_renovated` has a fairly substantial number of null values (~4,000), and an even greater number of records with value `0.0`, which likely indicates that no renovation has been done to the house (need to check data dictionary).\n",
    "    - Heat map examination also indicates a low correlation, < 0.1, between `yr_built` and `price`.   \n",
    "- `waterfront` may be useful as a boolean value, i.e. to test whether homes located on water are higher priced than homes that we **know** are not located on water.\n",
    "\n",
    "#### Notes for Cleaning\n",
    "- Coded null values exist in the following columns:\n",
    "    - `waterfront`\n",
    "    - `view`\n",
    "    - `yr_renovated`\n",
    "    \n",
    "- Duplicates exist in the `id` column - these are houses that were sold more than once! What are we going to do about this, and why are we going to go about it that way?"
   ]
  },
  {
   "cell_type": "code",
   "execution_count": 86,
   "metadata": {},
   "outputs": [
    {
     "name": "stdout",
     "output_type": "stream",
     "text": [
      "The original dataset had 21597 rows.\n",
      "\n",
      "After removing duplicates from the 'id' column, i.e. houses with more than one sale,\n",
      "the dataset has 21420 rows.\n",
      "\n",
      "There were 177 houses in the original dataset with multiple sales.\n"
     ]
    }
   ],
   "source": [
    "# Dealing with duplicates in the `id` column\n",
    "# Creating a new copy of the dataframe, sorting\n",
    "# by columns `id` and `date`\n",
    "df_copy = df.sort_values(by = ['id', 'date'])\n",
    "df_copy.drop_duplicates(subset = ['id'],\n",
    "                        keep = 'last',\n",
    "                        inplace = True)\n",
    "\n",
    "print(f\"\"\"The original dataset had {df.shape[0]} rows.\n",
    "\n",
    "After removing duplicates from the 'id' column, i.e. houses with more than one sale,\n",
    "the dataset has {df_copy.shape[0]} rows.\n",
    "\n",
    "There were {df.shape[0] - df_copy.shape[0]} houses in the original dataset with multiple sales.\"\"\")"
   ]
  },
  {
   "cell_type": "code",
   "execution_count": null,
   "metadata": {},
   "outputs": [],
   "source": [
    "# DummyRegressor?"
   ]
  },
  {
   "cell_type": "code",
   "execution_count": 41,
   "metadata": {
    "scrolled": true
   },
   "outputs": [],
   "source": [
    "# Creating a straightforward, initial model --\n",
    "# just for kicks\n",
    "simple_formula = 'price ~ sqft_living'\n",
    "simple_model = ols(formula = simple_formula, data = df_copy).fit()"
   ]
  },
  {
   "cell_type": "code",
   "execution_count": 42,
   "metadata": {},
   "outputs": [
    {
     "data": {
      "text/plain": [
       "NO     19075\n",
       "YES      146\n",
       "Name: waterfront, dtype: int64"
      ]
     },
     "execution_count": 42,
     "metadata": {},
     "output_type": "execute_result"
    }
   ],
   "source": [
    "# Some exploratory value counts on columns of interest\n",
    "\n",
    "# Counting the number of homes with recorded\n",
    "# waterfront status vs. those without it\n",
    "df.waterfront.value_counts()\n",
    "\n",
    "# Number of bathrooms - note that many values exist\n",
    "# with decimal places, i.e. half baths. This could get\n",
    "# messy and convoluted quickly.\n",
    "\n",
    "## df.bathrooms.value_counts()"
   ]
  },
  {
   "cell_type": "code",
   "execution_count": null,
   "metadata": {},
   "outputs": [],
   "source": [
    "# Is it possible to loop or function for the below cell?"
   ]
  },
  {
   "cell_type": "code",
   "execution_count": 113,
   "metadata": {},
   "outputs": [],
   "source": [
    "# Filling null values in column `view` with string indicating\n",
    "# that no record exists on the property's view\n",
    "df.view.fillna(value = 'NO_RECORD', inplace = True)\n",
    "\n",
    "# Filling null values in column `yr_renovated` with integer 0,\n",
    "# indicating that no renovation year exists for this record\n",
    "df.yr_renovated.fillna(value = 0, inplace = True)\n",
    "\n",
    "# Filling null values in column `waterfront` to reflect\n",
    "# unknown status - this code may go unused\n",
    "df.waterfront.fillna(value = 'NO_RECORD', inplace = True)"
   ]
  },
  {
   "cell_type": "code",
   "execution_count": 101,
   "metadata": {},
   "outputs": [
    {
     "data": {
      "text/plain": [
       "'grade'"
      ]
     },
     "execution_count": 101,
     "metadata": {},
     "output_type": "execute_result"
    }
   ],
   "source": [
    "grade_counts.name"
   ]
  },
  {
   "cell_type": "code",
   "execution_count": 111,
   "metadata": {
    "scrolled": false
   },
   "outputs": [
    {
     "name": "stdout",
     "output_type": "stream",
     "text": [
      "'GRADE' value counts:\n",
      "7 Average        8974\n",
      "8 Good           6065\n",
      "9 Better         2615\n",
      "6 Low Average    2038\n",
      "10 Very Good     1134\n",
      "11 Excellent      399\n",
      "5 Fair            242\n",
      "12 Luxury          89\n",
      "4 Low              27\n",
      "13 Mansion         13\n",
      "3 Poor              1\n",
      "Name: grade, dtype: int64\n",
      "\n",
      "\n",
      "'CONDITION' value counts:\n",
      "Average      14020\n",
      "Good          5677\n",
      "Very Good     1701\n",
      "Fair           170\n",
      "Poor            29\n",
      "Name: condition, dtype: int64\n",
      "\n",
      "\n",
      "'YR_RENOVATED' value counts:\n",
      "0.00       17011\n",
      "2014.00       73\n",
      "2003.00       31\n",
      "2013.00       31\n",
      "2007.00       30\n",
      "           ...  \n",
      "1946.00        1\n",
      "1959.00        1\n",
      "1971.00        1\n",
      "1951.00        1\n",
      "1954.00        1\n",
      "Name: yr_renovated, Length: 70, dtype: int64\n",
      "\n",
      "\n"
     ]
    }
   ],
   "source": [
    "# Creating variables to count values in columns `grade`, `condition`, \n",
    "# and `yr_renovated` in King County real estate data\n",
    "\n",
    "grade_counts = df['grade'].value_counts()\n",
    "condition_counts = df['condition'].value_counts()\n",
    "renovation_counts = df['yr_renovated'].value_counts()\n",
    "\n",
    "# Looping through to see several value counts at once\n",
    "counts = [grade_counts, condition_counts, renovation_counts]\n",
    "num = 0\n",
    "\n",
    "for x in counts:\n",
    "    num += 1\n",
    "    column_name = x.name\n",
    "    print(f\"'{column_name.upper()}' value counts:\\n{x}\\n\\n\")"
   ]
  },
  {
   "cell_type": "code",
   "execution_count": 107,
   "metadata": {},
   "outputs": [
    {
     "data": {
      "text/plain": [
       "0.00       17011\n",
       "2014.00       73\n",
       "2003.00       31\n",
       "2013.00       31\n",
       "2007.00       30\n",
       "2000.00       29\n",
       "2005.00       29\n",
       "1990.00       22\n",
       "2004.00       22\n",
       "2009.00       21\n",
       "1989.00       20\n",
       "2006.00       20\n",
       "2002.00       17\n",
       "1991.00       16\n",
       "1998.00       16\n",
       "1984.00       16\n",
       "1999.00       15\n",
       "2008.00       15\n",
       "2010.00       15\n",
       "2001.00       15\n",
       "Name: yr_renovated, dtype: int64"
      ]
     },
     "execution_count": 107,
     "metadata": {},
     "output_type": "execute_result"
    }
   ],
   "source": [
    "df['yr_renovated'].value_counts().head(20)"
   ]
  },
  {
   "cell_type": "code",
   "execution_count": 45,
   "metadata": {
    "scrolled": false
   },
   "outputs": [
    {
     "name": "stdout",
     "output_type": "stream",
     "text": [
      "<class 'pandas.core.frame.DataFrame'>\n",
      "RangeIndex: 21597 entries, 0 to 21596\n",
      "Data columns (total 15 columns):\n",
      " #   Column         Non-Null Count  Dtype  \n",
      "---  ------         --------------  -----  \n",
      " 0   id             21597 non-null  int64  \n",
      " 1   price          21597 non-null  float64\n",
      " 2   bedrooms       21597 non-null  int64  \n",
      " 3   bathrooms      21597 non-null  float64\n",
      " 4   sqft_living    21597 non-null  int64  \n",
      " 5   sqft_lot       21597 non-null  int64  \n",
      " 6   floors         21597 non-null  float64\n",
      " 7   sqft_above     21597 non-null  int64  \n",
      " 8   yr_built       21597 non-null  int64  \n",
      " 9   yr_renovated   21597 non-null  float64\n",
      " 10  zipcode        21597 non-null  int64  \n",
      " 11  lat            21597 non-null  float64\n",
      " 12  long           21597 non-null  float64\n",
      " 13  sqft_living15  21597 non-null  int64  \n",
      " 14  sqft_lot15     21597 non-null  int64  \n",
      "dtypes: float64(6), int64(9)\n",
      "memory usage: 2.5 MB\n"
     ]
    }
   ],
   "source": [
    "# Dataframe including only columns w/ numerical values\n",
    "numbers_df = df.select_dtypes('number')\n",
    "\n",
    "numbers_df.info()"
   ]
  },
  {
   "cell_type": "code",
   "execution_count": 46,
   "metadata": {},
   "outputs": [],
   "source": [
    "# Dropping columns we determined were either superfluous or irrelevant\n",
    "df.drop(columns = ['id', 'sqft_lot', 'floors', 'condition', 'sqft_above', 'sqft_basement',\n",
    "                   'zipcode', 'lat', 'long', 'sqft_lot15'], inplace = True)\n",
    "# potentially include yr_renovated? depending on use"
   ]
  },
  {
   "cell_type": "code",
   "execution_count": 50,
   "metadata": {},
   "outputs": [],
   "source": [
    "# Applied universally to notebook -- converts any scientific notation\n",
    "# to standard notation, rounded to two decimal places\n",
    "\n",
    "# Use with caution! Will need to restart kernel to reset effect.\n",
    "\n",
    "pd.set_option('display.float_format', lambda x: '%.2f' % x)"
   ]
  },
  {
   "cell_type": "code",
   "execution_count": 51,
   "metadata": {
    "scrolled": true
   },
   "outputs": [
    {
     "data": {
      "text/html": [
       "<div>\n",
       "<style scoped>\n",
       "    .dataframe tbody tr th:only-of-type {\n",
       "        vertical-align: middle;\n",
       "    }\n",
       "\n",
       "    .dataframe tbody tr th {\n",
       "        vertical-align: top;\n",
       "    }\n",
       "\n",
       "    .dataframe thead th {\n",
       "        text-align: right;\n",
       "    }\n",
       "</style>\n",
       "<table border=\"1\" class=\"dataframe\">\n",
       "  <thead>\n",
       "    <tr style=\"text-align: right;\">\n",
       "      <th></th>\n",
       "      <th>price</th>\n",
       "      <th>bedrooms</th>\n",
       "      <th>bathrooms</th>\n",
       "      <th>sqft_living</th>\n",
       "      <th>yr_built</th>\n",
       "      <th>yr_renovated</th>\n",
       "      <th>sqft_living15</th>\n",
       "    </tr>\n",
       "    <tr>\n",
       "      <th>view</th>\n",
       "      <th></th>\n",
       "      <th></th>\n",
       "      <th></th>\n",
       "      <th></th>\n",
       "      <th></th>\n",
       "      <th></th>\n",
       "      <th></th>\n",
       "    </tr>\n",
       "  </thead>\n",
       "  <tbody>\n",
       "    <tr>\n",
       "      <th>EXCELLENT</th>\n",
       "      <td>1452465.88</td>\n",
       "      <td>3.62</td>\n",
       "      <td>2.78</td>\n",
       "      <td>3334.48</td>\n",
       "      <td>1965.95</td>\n",
       "      <td>270.18</td>\n",
       "      <td>2841.00</td>\n",
       "    </tr>\n",
       "    <tr>\n",
       "      <th>GOOD</th>\n",
       "      <td>973285.20</td>\n",
       "      <td>3.67</td>\n",
       "      <td>2.67</td>\n",
       "      <td>3016.85</td>\n",
       "      <td>1967.39</td>\n",
       "      <td>192.58</td>\n",
       "      <td>2702.21</td>\n",
       "    </tr>\n",
       "    <tr>\n",
       "      <th>FAIR</th>\n",
       "      <td>813373.27</td>\n",
       "      <td>3.54</td>\n",
       "      <td>2.35</td>\n",
       "      <td>2571.05</td>\n",
       "      <td>1962.89</td>\n",
       "      <td>151.11</td>\n",
       "      <td>2407.35</td>\n",
       "    </tr>\n",
       "    <tr>\n",
       "      <th>AVERAGE</th>\n",
       "      <td>791390.37</td>\n",
       "      <td>3.57</td>\n",
       "      <td>2.43</td>\n",
       "      <td>2650.72</td>\n",
       "      <td>1964.82</td>\n",
       "      <td>106.27</td>\n",
       "      <td>2427.34</td>\n",
       "    </tr>\n",
       "    <tr>\n",
       "      <th>NO RECORD</th>\n",
       "      <td>621958.17</td>\n",
       "      <td>3.43</td>\n",
       "      <td>2.15</td>\n",
       "      <td>2249.17</td>\n",
       "      <td>1970.11</td>\n",
       "      <td>31.67</td>\n",
       "      <td>2096.13</td>\n",
       "    </tr>\n",
       "    <tr>\n",
       "      <th>NONE</th>\n",
       "      <td>496806.07</td>\n",
       "      <td>3.35</td>\n",
       "      <td>2.07</td>\n",
       "      <td>1998.36</td>\n",
       "      <td>1971.62</td>\n",
       "      <td>59.10</td>\n",
       "      <td>1924.74</td>\n",
       "    </tr>\n",
       "  </tbody>\n",
       "</table>\n",
       "</div>"
      ],
      "text/plain": [
       "               price  bedrooms  ...  yr_renovated  sqft_living15\n",
       "view                            ...                             \n",
       "EXCELLENT 1452465.88      3.62  ...        270.18        2841.00\n",
       "GOOD       973285.20      3.67  ...        192.58        2702.21\n",
       "FAIR       813373.27      3.54  ...        151.11        2407.35\n",
       "AVERAGE    791390.37      3.57  ...        106.27        2427.34\n",
       "NO RECORD  621958.17      3.43  ...         31.67        2096.13\n",
       "NONE       496806.07      3.35  ...         59.10        1924.74\n",
       "\n",
       "[6 rows x 7 columns]"
      ]
     },
     "execution_count": 51,
     "metadata": {},
     "output_type": "execute_result"
    }
   ],
   "source": [
    "# Creating new df, grouped by column `view`, and looking\n",
    "# at mean values for the categorical variables in `view`\n",
    "view_df = df.groupby('view').mean()\n",
    "\n",
    "view_df.sort_values('price', ascending = False)"
   ]
  },
  {
   "cell_type": "markdown",
   "metadata": {},
   "source": [
    "Takeaways from this quick analysis of `view` include...\n",
    "\n",
    "- Clear descending order with `EXCELLENT` at top and `NONE` at bottom\n",
    "- Significant differences between `EXCELLENT` and middle `view` values, and between middle `view` values and `NONE`\n",
    "    - Differences not as significant between `GOOD`, `FAIR`, and `AVERAGE`\n",
    "- `NO RECORD` (formerly null/NaN) will need further investigation, as it seems to lie between `AVERAGE` (i.e. **having** a view, but an average one) and `NONE`, which ostensibly means no scenic view whatsoever.\n",
    "    - Fortunately, we have < 100 null values in this column, so we can either drop them or modify them without worrying about those changes affecting our conclusions significantly."
   ]
  },
  {
   "cell_type": "code",
   "execution_count": 114,
   "metadata": {
    "scrolled": true
   },
   "outputs": [
    {
     "data": {
      "text/html": [
       "<div>\n",
       "<style scoped>\n",
       "    .dataframe tbody tr th:only-of-type {\n",
       "        vertical-align: middle;\n",
       "    }\n",
       "\n",
       "    .dataframe tbody tr th {\n",
       "        vertical-align: top;\n",
       "    }\n",
       "\n",
       "    .dataframe thead th {\n",
       "        text-align: right;\n",
       "    }\n",
       "</style>\n",
       "<table border=\"1\" class=\"dataframe\">\n",
       "  <thead>\n",
       "    <tr style=\"text-align: right;\">\n",
       "      <th></th>\n",
       "      <th>id</th>\n",
       "      <th>price</th>\n",
       "      <th>bedrooms</th>\n",
       "      <th>bathrooms</th>\n",
       "      <th>sqft_living</th>\n",
       "      <th>sqft_lot</th>\n",
       "      <th>floors</th>\n",
       "      <th>sqft_above</th>\n",
       "      <th>yr_built</th>\n",
       "      <th>yr_renovated</th>\n",
       "      <th>zipcode</th>\n",
       "      <th>lat</th>\n",
       "      <th>long</th>\n",
       "      <th>sqft_living15</th>\n",
       "      <th>sqft_lot15</th>\n",
       "    </tr>\n",
       "    <tr>\n",
       "      <th>waterfront</th>\n",
       "      <th></th>\n",
       "      <th></th>\n",
       "      <th></th>\n",
       "      <th></th>\n",
       "      <th></th>\n",
       "      <th></th>\n",
       "      <th></th>\n",
       "      <th></th>\n",
       "      <th></th>\n",
       "      <th></th>\n",
       "      <th></th>\n",
       "      <th></th>\n",
       "      <th></th>\n",
       "      <th></th>\n",
       "      <th></th>\n",
       "    </tr>\n",
       "  </thead>\n",
       "  <tbody>\n",
       "    <tr>\n",
       "      <th>YES</th>\n",
       "      <td>4454968693.05</td>\n",
       "      <td>1717214.73</td>\n",
       "      <td>3.35</td>\n",
       "      <td>2.71</td>\n",
       "      <td>3244.75</td>\n",
       "      <td>25870.88</td>\n",
       "      <td>1.63</td>\n",
       "      <td>2508.76</td>\n",
       "      <td>1962.28</td>\n",
       "      <td>395.01</td>\n",
       "      <td>98096.71</td>\n",
       "      <td>47.54</td>\n",
       "      <td>-122.28</td>\n",
       "      <td>2682.83</td>\n",
       "      <td>22893.70</td>\n",
       "    </tr>\n",
       "    <tr>\n",
       "      <th>NO</th>\n",
       "      <td>4593352007.42</td>\n",
       "      <td>532641.99</td>\n",
       "      <td>3.37</td>\n",
       "      <td>2.11</td>\n",
       "      <td>2073.52</td>\n",
       "      <td>14991.12</td>\n",
       "      <td>1.49</td>\n",
       "      <td>1785.88</td>\n",
       "      <td>1971.11</td>\n",
       "      <td>65.20</td>\n",
       "      <td>98077.59</td>\n",
       "      <td>47.56</td>\n",
       "      <td>-122.21</td>\n",
       "      <td>1982.05</td>\n",
       "      <td>12729.49</td>\n",
       "    </tr>\n",
       "    <tr>\n",
       "      <th>NO_RECORD</th>\n",
       "      <td>4484801440.32</td>\n",
       "      <td>529430.07</td>\n",
       "      <td>3.36</td>\n",
       "      <td>2.11</td>\n",
       "      <td>2063.34</td>\n",
       "      <td>15306.89</td>\n",
       "      <td>1.49</td>\n",
       "      <td>1766.19</td>\n",
       "      <td>1970.68</td>\n",
       "      <td>77.25</td>\n",
       "      <td>98079.69</td>\n",
       "      <td>47.56</td>\n",
       "      <td>-122.21</td>\n",
       "      <td>1980.51</td>\n",
       "      <td>12366.68</td>\n",
       "    </tr>\n",
       "  </tbody>\n",
       "</table>\n",
       "</div>"
      ],
      "text/plain": [
       "                      id      price  ...  sqft_living15  sqft_lot15\n",
       "waterfront                           ...                           \n",
       "YES        4454968693.05 1717214.73  ...        2682.83    22893.70\n",
       "NO         4593352007.42  532641.99  ...        1982.05    12729.49\n",
       "NO_RECORD  4484801440.32  529430.07  ...        1980.51    12366.68\n",
       "\n",
       "[3 rows x 15 columns]"
      ]
     },
     "execution_count": 114,
     "metadata": {},
     "output_type": "execute_result"
    }
   ],
   "source": [
    "wf_df = df.groupby('waterfront').mean()\n",
    "\n",
    "wf_df.sort_values('price', ascending = False)"
   ]
  },
  {
   "cell_type": "markdown",
   "metadata": {},
   "source": [
    "### Side notes and things to revisit\n",
    "\n",
    "- `yr_renovated` has null values and a lot of `0` values too. Of the houses *with* values in the `yr_renovated` column, the vast majority were renovations from 2013 and 2014. It might be worth further exploring how these recently renovated homes compare pricewise to homes built in prior years."
   ]
  }
 ],
 "metadata": {
  "kernelspec": {
   "display_name": "Python (learn-env)",
   "language": "python",
   "name": "learn-env"
  },
  "language_info": {
   "codemirror_mode": {
    "name": "ipython",
    "version": 3
   },
   "file_extension": ".py",
   "mimetype": "text/x-python",
   "name": "python",
   "nbconvert_exporter": "python",
   "pygments_lexer": "ipython3",
   "version": "3.8.5"
  }
 },
 "nbformat": 4,
 "nbformat_minor": 4
}
