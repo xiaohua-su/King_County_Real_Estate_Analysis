{
 "cells": [
  {
   "cell_type": "code",
   "execution_count": 1,
   "metadata": {},
   "outputs": [],
   "source": [
    "import pandas as pd\n",
    "import numpy as np\n",
    "import matplotlib.pyplot as plt\n",
    "import seaborn as sns\n",
    "from scipy import stats\n",
    "\n",
    "from sklearn.preprocessing import OneHotEncoder, StandardScaler\n",
    "from sklearn.datasets import make_regression\n",
    "from sklearn.linear_model import LinearRegression\n",
    "from sklearn.dummy import DummyRegressor\n",
    "import sklearn.metrics as metrics\n",
    "\n",
    "# from random import gauss\n",
    "# from mpl_toolkits.mplot3d import Axes3D\n",
    "\n",
    "from statsmodels.formula.api import ols\n",
    "import statsmodels.api as sm\n",
    "\n",
    "from statsmodels.stats.multicomp import pairwise_tukeyhsd\n",
    "from sklearn.model_selection import train_test_split\n",
    "\n",
    "%matplotlib inline"
   ]
  },
  {
   "cell_type": "code",
   "execution_count": 2,
   "metadata": {},
   "outputs": [],
   "source": [
    "# Shows *all* columns in dataframe, i.e. does not truncate horizontally\n",
    "pd.set_option('display.max_columns', None)\n",
    "\n",
    "# Converts from scientific notation to standard form (applied to every df in\n",
    "# this notebook) and rounds to two decimal places\n",
    "pd.set_option('display.float_format', lambda x: '%.2f' % x)"
   ]
  },
  {
   "cell_type": "code",
   "execution_count": 3,
   "metadata": {},
   "outputs": [
    {
     "data": {
      "text/plain": [
       "Index(['id', 'date', 'price', 'bedrooms', 'bathrooms', 'sqft_living',\n",
       "       'sqft_lot', 'floors', 'waterfront', 'view', 'condition', 'grade',\n",
       "       'sqft_above', 'sqft_basement', 'yr_built', 'yr_renovated', 'zipcode',\n",
       "       'lat', 'long', 'sqft_living15', 'sqft_lot15'],\n",
       "      dtype='object')"
      ]
     },
     "execution_count": 3,
     "metadata": {},
     "output_type": "execute_result"
    }
   ],
   "source": [
    "df = pd.read_csv('../data/kc_house_data.csv')\n",
    "\n",
    "# Listing out column names\n",
    "df.columns"
   ]
  },
  {
   "cell_type": "code",
   "execution_count": 4,
   "metadata": {},
   "outputs": [],
   "source": [
    "# Converting column `date` to datetime64[ns] from type string/object\n",
    "df['date'] = df['date'].astype('datetime64[ns]')"
   ]
  },
  {
   "cell_type": "code",
   "execution_count": 5,
   "metadata": {},
   "outputs": [],
   "source": [
    "df_copy = df.copy()"
   ]
  },
  {
   "cell_type": "code",
   "execution_count": 6,
   "metadata": {},
   "outputs": [
    {
     "data": {
      "text/plain": [
       "795000620     3\n",
       "1825069031    2\n",
       "2019200220    2\n",
       "7129304540    2\n",
       "1781500435    2\n",
       "             ..\n",
       "7812801125    1\n",
       "4364700875    1\n",
       "3021059276    1\n",
       "880000205     1\n",
       "1777500160    1\n",
       "Name: id, Length: 21420, dtype: int64"
      ]
     },
     "execution_count": 6,
     "metadata": {},
     "output_type": "execute_result"
    }
   ],
   "source": [
    "df_copy['id'].value_counts()"
   ]
  },
  {
   "cell_type": "code",
   "execution_count": 7,
   "metadata": {},
   "outputs": [],
   "source": [
    "df_copy = df_copy.sort_values(by=['id', 'date'])\n",
    "df_copy = df_copy.drop_duplicates(subset=['id'], keep='last')"
   ]
  },
  {
   "cell_type": "code",
   "execution_count": 8,
   "metadata": {},
   "outputs": [],
   "source": [
    "#looking at correlations\n",
    "#fig, ax = plt.subplots(figsize=(15,15))\n",
    "#heat = sns.heatmap(df_copy.corr(), annot = True)"
   ]
  },
  {
   "cell_type": "code",
   "execution_count": 9,
   "metadata": {},
   "outputs": [
    {
     "data": {
      "text/html": [
       "<div>\n",
       "<style scoped>\n",
       "    .dataframe tbody tr th:only-of-type {\n",
       "        vertical-align: middle;\n",
       "    }\n",
       "\n",
       "    .dataframe tbody tr th {\n",
       "        vertical-align: top;\n",
       "    }\n",
       "\n",
       "    .dataframe thead th {\n",
       "        text-align: right;\n",
       "    }\n",
       "</style>\n",
       "<table border=\"1\" class=\"dataframe\">\n",
       "  <thead>\n",
       "    <tr style=\"text-align: right;\">\n",
       "      <th></th>\n",
       "      <th>id</th>\n",
       "      <th>date</th>\n",
       "      <th>price</th>\n",
       "      <th>bedrooms</th>\n",
       "      <th>bathrooms</th>\n",
       "      <th>sqft_living</th>\n",
       "      <th>sqft_lot</th>\n",
       "      <th>floors</th>\n",
       "      <th>waterfront</th>\n",
       "      <th>view</th>\n",
       "      <th>condition</th>\n",
       "      <th>grade</th>\n",
       "      <th>sqft_above</th>\n",
       "      <th>sqft_basement</th>\n",
       "      <th>yr_built</th>\n",
       "      <th>yr_renovated</th>\n",
       "      <th>zipcode</th>\n",
       "      <th>lat</th>\n",
       "      <th>long</th>\n",
       "      <th>sqft_living15</th>\n",
       "      <th>sqft_lot15</th>\n",
       "    </tr>\n",
       "  </thead>\n",
       "  <tbody>\n",
       "    <tr>\n",
       "      <th>7245</th>\n",
       "      <td>6762700020</td>\n",
       "      <td>2014-10-13</td>\n",
       "      <td>7700000.00</td>\n",
       "      <td>6</td>\n",
       "      <td>8.00</td>\n",
       "      <td>12050</td>\n",
       "      <td>27600</td>\n",
       "      <td>2.50</td>\n",
       "      <td>NO</td>\n",
       "      <td>GOOD</td>\n",
       "      <td>Good</td>\n",
       "      <td>13 Mansion</td>\n",
       "      <td>8570</td>\n",
       "      <td>3480.0</td>\n",
       "      <td>1910</td>\n",
       "      <td>1987.00</td>\n",
       "      <td>98102</td>\n",
       "      <td>47.63</td>\n",
       "      <td>-122.32</td>\n",
       "      <td>3940</td>\n",
       "      <td>8800</td>\n",
       "    </tr>\n",
       "    <tr>\n",
       "      <th>3910</th>\n",
       "      <td>9808700762</td>\n",
       "      <td>2014-06-11</td>\n",
       "      <td>7060000.00</td>\n",
       "      <td>5</td>\n",
       "      <td>4.50</td>\n",
       "      <td>10040</td>\n",
       "      <td>37325</td>\n",
       "      <td>2.00</td>\n",
       "      <td>YES</td>\n",
       "      <td>AVERAGE</td>\n",
       "      <td>Average</td>\n",
       "      <td>11 Excellent</td>\n",
       "      <td>7680</td>\n",
       "      <td>2360.0</td>\n",
       "      <td>1940</td>\n",
       "      <td>2001.00</td>\n",
       "      <td>98004</td>\n",
       "      <td>47.65</td>\n",
       "      <td>-122.21</td>\n",
       "      <td>3930</td>\n",
       "      <td>25449</td>\n",
       "    </tr>\n",
       "    <tr>\n",
       "      <th>9245</th>\n",
       "      <td>9208900037</td>\n",
       "      <td>2014-09-19</td>\n",
       "      <td>6890000.00</td>\n",
       "      <td>6</td>\n",
       "      <td>7.75</td>\n",
       "      <td>9890</td>\n",
       "      <td>31374</td>\n",
       "      <td>2.00</td>\n",
       "      <td>NO</td>\n",
       "      <td>EXCELLENT</td>\n",
       "      <td>Average</td>\n",
       "      <td>13 Mansion</td>\n",
       "      <td>8860</td>\n",
       "      <td>1030.0</td>\n",
       "      <td>2001</td>\n",
       "      <td>0.00</td>\n",
       "      <td>98039</td>\n",
       "      <td>47.63</td>\n",
       "      <td>-122.24</td>\n",
       "      <td>4540</td>\n",
       "      <td>42730</td>\n",
       "    </tr>\n",
       "    <tr>\n",
       "      <th>4407</th>\n",
       "      <td>2470100110</td>\n",
       "      <td>2014-08-04</td>\n",
       "      <td>5570000.00</td>\n",
       "      <td>5</td>\n",
       "      <td>5.75</td>\n",
       "      <td>9200</td>\n",
       "      <td>35069</td>\n",
       "      <td>2.00</td>\n",
       "      <td>NO</td>\n",
       "      <td>NONE</td>\n",
       "      <td>Average</td>\n",
       "      <td>13 Mansion</td>\n",
       "      <td>6200</td>\n",
       "      <td>3000.0</td>\n",
       "      <td>2001</td>\n",
       "      <td>nan</td>\n",
       "      <td>98039</td>\n",
       "      <td>47.63</td>\n",
       "      <td>-122.23</td>\n",
       "      <td>3560</td>\n",
       "      <td>24345</td>\n",
       "    </tr>\n",
       "    <tr>\n",
       "      <th>1446</th>\n",
       "      <td>8907500070</td>\n",
       "      <td>2015-04-13</td>\n",
       "      <td>5350000.00</td>\n",
       "      <td>5</td>\n",
       "      <td>5.00</td>\n",
       "      <td>8000</td>\n",
       "      <td>23985</td>\n",
       "      <td>2.00</td>\n",
       "      <td>NO</td>\n",
       "      <td>EXCELLENT</td>\n",
       "      <td>Average</td>\n",
       "      <td>12 Luxury</td>\n",
       "      <td>6720</td>\n",
       "      <td>1280.0</td>\n",
       "      <td>2009</td>\n",
       "      <td>0.00</td>\n",
       "      <td>98004</td>\n",
       "      <td>47.62</td>\n",
       "      <td>-122.22</td>\n",
       "      <td>4600</td>\n",
       "      <td>21750</td>\n",
       "    </tr>\n",
       "    <tr>\n",
       "      <th>...</th>\n",
       "      <td>...</td>\n",
       "      <td>...</td>\n",
       "      <td>...</td>\n",
       "      <td>...</td>\n",
       "      <td>...</td>\n",
       "      <td>...</td>\n",
       "      <td>...</td>\n",
       "      <td>...</td>\n",
       "      <td>...</td>\n",
       "      <td>...</td>\n",
       "      <td>...</td>\n",
       "      <td>...</td>\n",
       "      <td>...</td>\n",
       "      <td>...</td>\n",
       "      <td>...</td>\n",
       "      <td>...</td>\n",
       "      <td>...</td>\n",
       "      <td>...</td>\n",
       "      <td>...</td>\n",
       "      <td>...</td>\n",
       "      <td>...</td>\n",
       "    </tr>\n",
       "    <tr>\n",
       "      <th>18453</th>\n",
       "      <td>7999600180</td>\n",
       "      <td>2014-05-29</td>\n",
       "      <td>83000.00</td>\n",
       "      <td>2</td>\n",
       "      <td>1.00</td>\n",
       "      <td>900</td>\n",
       "      <td>8580</td>\n",
       "      <td>1.00</td>\n",
       "      <td>NO</td>\n",
       "      <td>NONE</td>\n",
       "      <td>Average</td>\n",
       "      <td>5 Fair</td>\n",
       "      <td>900</td>\n",
       "      <td>0.0</td>\n",
       "      <td>1918</td>\n",
       "      <td>0.00</td>\n",
       "      <td>98168</td>\n",
       "      <td>47.47</td>\n",
       "      <td>-122.27</td>\n",
       "      <td>2060</td>\n",
       "      <td>6533</td>\n",
       "    </tr>\n",
       "    <tr>\n",
       "      <th>2139</th>\n",
       "      <td>1623049041</td>\n",
       "      <td>2014-05-08</td>\n",
       "      <td>82500.00</td>\n",
       "      <td>2</td>\n",
       "      <td>1.00</td>\n",
       "      <td>520</td>\n",
       "      <td>22334</td>\n",
       "      <td>1.00</td>\n",
       "      <td>NO</td>\n",
       "      <td>NONE</td>\n",
       "      <td>Fair</td>\n",
       "      <td>5 Fair</td>\n",
       "      <td>520</td>\n",
       "      <td>0.0</td>\n",
       "      <td>1951</td>\n",
       "      <td>0.00</td>\n",
       "      <td>98168</td>\n",
       "      <td>47.48</td>\n",
       "      <td>-122.30</td>\n",
       "      <td>1572</td>\n",
       "      <td>10570</td>\n",
       "    </tr>\n",
       "    <tr>\n",
       "      <th>16184</th>\n",
       "      <td>3028200080</td>\n",
       "      <td>2015-03-24</td>\n",
       "      <td>81000.00</td>\n",
       "      <td>2</td>\n",
       "      <td>1.00</td>\n",
       "      <td>730</td>\n",
       "      <td>9975</td>\n",
       "      <td>1.00</td>\n",
       "      <td>NaN</td>\n",
       "      <td>NONE</td>\n",
       "      <td>Poor</td>\n",
       "      <td>5 Fair</td>\n",
       "      <td>730</td>\n",
       "      <td>0.0</td>\n",
       "      <td>1943</td>\n",
       "      <td>0.00</td>\n",
       "      <td>98168</td>\n",
       "      <td>47.48</td>\n",
       "      <td>-122.31</td>\n",
       "      <td>860</td>\n",
       "      <td>9000</td>\n",
       "    </tr>\n",
       "    <tr>\n",
       "      <th>465</th>\n",
       "      <td>8658300340</td>\n",
       "      <td>2014-05-23</td>\n",
       "      <td>80000.00</td>\n",
       "      <td>1</td>\n",
       "      <td>0.75</td>\n",
       "      <td>430</td>\n",
       "      <td>5050</td>\n",
       "      <td>1.00</td>\n",
       "      <td>NaN</td>\n",
       "      <td>NONE</td>\n",
       "      <td>Fair</td>\n",
       "      <td>4 Low</td>\n",
       "      <td>430</td>\n",
       "      <td>0.0</td>\n",
       "      <td>1912</td>\n",
       "      <td>0.00</td>\n",
       "      <td>98014</td>\n",
       "      <td>47.65</td>\n",
       "      <td>-121.91</td>\n",
       "      <td>1200</td>\n",
       "      <td>7500</td>\n",
       "    </tr>\n",
       "    <tr>\n",
       "      <th>15279</th>\n",
       "      <td>40000362</td>\n",
       "      <td>2014-05-06</td>\n",
       "      <td>78000.00</td>\n",
       "      <td>2</td>\n",
       "      <td>1.00</td>\n",
       "      <td>780</td>\n",
       "      <td>16344</td>\n",
       "      <td>1.00</td>\n",
       "      <td>NO</td>\n",
       "      <td>NONE</td>\n",
       "      <td>Poor</td>\n",
       "      <td>5 Fair</td>\n",
       "      <td>780</td>\n",
       "      <td>0.0</td>\n",
       "      <td>1942</td>\n",
       "      <td>nan</td>\n",
       "      <td>98168</td>\n",
       "      <td>47.47</td>\n",
       "      <td>-122.28</td>\n",
       "      <td>1700</td>\n",
       "      <td>10387</td>\n",
       "    </tr>\n",
       "  </tbody>\n",
       "</table>\n",
       "<p>21420 rows × 21 columns</p>\n",
       "</div>"
      ],
      "text/plain": [
       "               id       date      price  bedrooms  bathrooms  sqft_living  \\\n",
       "7245   6762700020 2014-10-13 7700000.00         6       8.00        12050   \n",
       "3910   9808700762 2014-06-11 7060000.00         5       4.50        10040   \n",
       "9245   9208900037 2014-09-19 6890000.00         6       7.75         9890   \n",
       "4407   2470100110 2014-08-04 5570000.00         5       5.75         9200   \n",
       "1446   8907500070 2015-04-13 5350000.00         5       5.00         8000   \n",
       "...           ...        ...        ...       ...        ...          ...   \n",
       "18453  7999600180 2014-05-29   83000.00         2       1.00          900   \n",
       "2139   1623049041 2014-05-08   82500.00         2       1.00          520   \n",
       "16184  3028200080 2015-03-24   81000.00         2       1.00          730   \n",
       "465    8658300340 2014-05-23   80000.00         1       0.75          430   \n",
       "15279    40000362 2014-05-06   78000.00         2       1.00          780   \n",
       "\n",
       "       sqft_lot  floors waterfront       view condition         grade  \\\n",
       "7245      27600    2.50         NO       GOOD      Good    13 Mansion   \n",
       "3910      37325    2.00        YES    AVERAGE   Average  11 Excellent   \n",
       "9245      31374    2.00         NO  EXCELLENT   Average    13 Mansion   \n",
       "4407      35069    2.00         NO       NONE   Average    13 Mansion   \n",
       "1446      23985    2.00         NO  EXCELLENT   Average     12 Luxury   \n",
       "...         ...     ...        ...        ...       ...           ...   \n",
       "18453      8580    1.00         NO       NONE   Average        5 Fair   \n",
       "2139      22334    1.00         NO       NONE      Fair        5 Fair   \n",
       "16184      9975    1.00        NaN       NONE      Poor        5 Fair   \n",
       "465        5050    1.00        NaN       NONE      Fair         4 Low   \n",
       "15279     16344    1.00         NO       NONE      Poor        5 Fair   \n",
       "\n",
       "       sqft_above sqft_basement  yr_built  yr_renovated  zipcode   lat  \\\n",
       "7245         8570        3480.0      1910       1987.00    98102 47.63   \n",
       "3910         7680        2360.0      1940       2001.00    98004 47.65   \n",
       "9245         8860        1030.0      2001          0.00    98039 47.63   \n",
       "4407         6200        3000.0      2001           nan    98039 47.63   \n",
       "1446         6720        1280.0      2009          0.00    98004 47.62   \n",
       "...           ...           ...       ...           ...      ...   ...   \n",
       "18453         900           0.0      1918          0.00    98168 47.47   \n",
       "2139          520           0.0      1951          0.00    98168 47.48   \n",
       "16184         730           0.0      1943          0.00    98168 47.48   \n",
       "465           430           0.0      1912          0.00    98014 47.65   \n",
       "15279         780           0.0      1942           nan    98168 47.47   \n",
       "\n",
       "         long  sqft_living15  sqft_lot15  \n",
       "7245  -122.32           3940        8800  \n",
       "3910  -122.21           3930       25449  \n",
       "9245  -122.24           4540       42730  \n",
       "4407  -122.23           3560       24345  \n",
       "1446  -122.22           4600       21750  \n",
       "...       ...            ...         ...  \n",
       "18453 -122.27           2060        6533  \n",
       "2139  -122.30           1572       10570  \n",
       "16184 -122.31            860        9000  \n",
       "465   -121.91           1200        7500  \n",
       "15279 -122.28           1700       10387  \n",
       "\n",
       "[21420 rows x 21 columns]"
      ]
     },
     "execution_count": 9,
     "metadata": {},
     "output_type": "execute_result"
    }
   ],
   "source": [
    "df_copy.groupby('view').mean()\n",
    "\n",
    "df_copy.sort_values('price', ascending = False)"
   ]
  },
  {
   "cell_type": "code",
   "execution_count": 10,
   "metadata": {},
   "outputs": [],
   "source": [
    "# Dropping irrelevant columns\n",
    "df_copy.drop(columns = ['id', 'floors', 'waterfront', 'date',\n",
    "                        'lat', 'long', 'condition', 'yr_renovated',\n",
    "                         'sqft_lot15','sqft_above', 'sqft_living15',\n",
    "                         'sqft_basement'],\n",
    "                        inplace=True)"
   ]
  },
  {
   "cell_type": "code",
   "execution_count": 11,
   "metadata": {},
   "outputs": [
    {
     "data": {
      "text/html": [
       "<div>\n",
       "<style scoped>\n",
       "    .dataframe tbody tr th:only-of-type {\n",
       "        vertical-align: middle;\n",
       "    }\n",
       "\n",
       "    .dataframe tbody tr th {\n",
       "        vertical-align: top;\n",
       "    }\n",
       "\n",
       "    .dataframe thead th {\n",
       "        text-align: right;\n",
       "    }\n",
       "</style>\n",
       "<table border=\"1\" class=\"dataframe\">\n",
       "  <thead>\n",
       "    <tr style=\"text-align: right;\">\n",
       "      <th></th>\n",
       "      <th>price</th>\n",
       "      <th>bedrooms</th>\n",
       "      <th>bathrooms</th>\n",
       "      <th>sqft_living</th>\n",
       "      <th>sqft_lot</th>\n",
       "      <th>view</th>\n",
       "      <th>grade</th>\n",
       "      <th>yr_built</th>\n",
       "      <th>zipcode</th>\n",
       "    </tr>\n",
       "  </thead>\n",
       "  <tbody>\n",
       "    <tr>\n",
       "      <th>2495</th>\n",
       "      <td>300000.00</td>\n",
       "      <td>6</td>\n",
       "      <td>3.00</td>\n",
       "      <td>2400</td>\n",
       "      <td>9373</td>\n",
       "      <td>NONE</td>\n",
       "      <td>7 Average</td>\n",
       "      <td>1991</td>\n",
       "      <td>98002</td>\n",
       "    </tr>\n",
       "    <tr>\n",
       "      <th>6729</th>\n",
       "      <td>647500.00</td>\n",
       "      <td>4</td>\n",
       "      <td>1.75</td>\n",
       "      <td>2060</td>\n",
       "      <td>26036</td>\n",
       "      <td>NONE</td>\n",
       "      <td>8 Good</td>\n",
       "      <td>1947</td>\n",
       "      <td>98166</td>\n",
       "    </tr>\n",
       "    <tr>\n",
       "      <th>8404</th>\n",
       "      <td>400000.00</td>\n",
       "      <td>3</td>\n",
       "      <td>1.00</td>\n",
       "      <td>1460</td>\n",
       "      <td>43000</td>\n",
       "      <td>NONE</td>\n",
       "      <td>7 Average</td>\n",
       "      <td>1952</td>\n",
       "      <td>98166</td>\n",
       "    </tr>\n",
       "    <tr>\n",
       "      <th>8800</th>\n",
       "      <td>235000.00</td>\n",
       "      <td>3</td>\n",
       "      <td>1.00</td>\n",
       "      <td>1430</td>\n",
       "      <td>7599</td>\n",
       "      <td>NONE</td>\n",
       "      <td>6 Low Average</td>\n",
       "      <td>1930</td>\n",
       "      <td>98168</td>\n",
       "    </tr>\n",
       "    <tr>\n",
       "      <th>3553</th>\n",
       "      <td>402500.00</td>\n",
       "      <td>4</td>\n",
       "      <td>2.00</td>\n",
       "      <td>1650</td>\n",
       "      <td>3504</td>\n",
       "      <td>NONE</td>\n",
       "      <td>7 Average</td>\n",
       "      <td>1951</td>\n",
       "      <td>98144</td>\n",
       "    </tr>\n",
       "  </tbody>\n",
       "</table>\n",
       "</div>"
      ],
      "text/plain": [
       "         price  bedrooms  bathrooms  sqft_living  sqft_lot  view  \\\n",
       "2495 300000.00         6       3.00         2400      9373  NONE   \n",
       "6729 647500.00         4       1.75         2060     26036  NONE   \n",
       "8404 400000.00         3       1.00         1460     43000  NONE   \n",
       "8800 235000.00         3       1.00         1430      7599  NONE   \n",
       "3553 402500.00         4       2.00         1650      3504  NONE   \n",
       "\n",
       "              grade  yr_built  zipcode  \n",
       "2495      7 Average      1991    98002  \n",
       "6729         8 Good      1947    98166  \n",
       "8404      7 Average      1952    98166  \n",
       "8800  6 Low Average      1930    98168  \n",
       "3553      7 Average      1951    98144  "
      ]
     },
     "execution_count": 11,
     "metadata": {},
     "output_type": "execute_result"
    }
   ],
   "source": [
    "df_copy.head()"
   ]
  },
  {
   "cell_type": "code",
   "execution_count": 12,
   "metadata": {},
   "outputs": [],
   "source": [
    "# Establishing target and predictor variables\n",
    "df_copy = df_copy[df_copy['grade'] != '3 Poor']\n",
    "X = df_copy.drop(columns = 'price')\n",
    "y = df_copy.price"
   ]
  },
  {
   "cell_type": "code",
   "execution_count": 13,
   "metadata": {},
   "outputs": [],
   "source": [
    "# Creating variables for train and test sets\n",
    "X_train, X_test, y_train, y_test = train_test_split(X, y, test_size=0.33, random_state=42)"
   ]
  },
  {
   "cell_type": "code",
   "execution_count": 14,
   "metadata": {},
   "outputs": [],
   "source": [
    "train_df = pd.concat([X_train, y_train], axis=1)\n",
    "\n",
    "test_df = pd.concat([X_test, y_test], axis=1)"
   ]
  },
  {
   "cell_type": "code",
   "execution_count": 15,
   "metadata": {},
   "outputs": [
    {
     "data": {
      "text/html": [
       "<div>\n",
       "<style scoped>\n",
       "    .dataframe tbody tr th:only-of-type {\n",
       "        vertical-align: middle;\n",
       "    }\n",
       "\n",
       "    .dataframe tbody tr th {\n",
       "        vertical-align: top;\n",
       "    }\n",
       "\n",
       "    .dataframe thead tr th {\n",
       "        text-align: left;\n",
       "    }\n",
       "\n",
       "    .dataframe thead tr:last-of-type th {\n",
       "        text-align: right;\n",
       "    }\n",
       "</style>\n",
       "<table border=\"1\" class=\"dataframe\">\n",
       "  <thead>\n",
       "    <tr>\n",
       "      <th></th>\n",
       "      <th colspan=\"2\" halign=\"left\">price</th>\n",
       "      <th colspan=\"2\" halign=\"left\">bedrooms</th>\n",
       "      <th colspan=\"2\" halign=\"left\">bathrooms</th>\n",
       "      <th colspan=\"2\" halign=\"left\">sqft_living</th>\n",
       "      <th colspan=\"2\" halign=\"left\">sqft_lot</th>\n",
       "      <th colspan=\"2\" halign=\"left\">yr_built</th>\n",
       "      <th colspan=\"2\" halign=\"left\">zipcode</th>\n",
       "    </tr>\n",
       "    <tr>\n",
       "      <th></th>\n",
       "      <th>mean</th>\n",
       "      <th>std</th>\n",
       "      <th>mean</th>\n",
       "      <th>std</th>\n",
       "      <th>mean</th>\n",
       "      <th>std</th>\n",
       "      <th>mean</th>\n",
       "      <th>std</th>\n",
       "      <th>mean</th>\n",
       "      <th>std</th>\n",
       "      <th>mean</th>\n",
       "      <th>std</th>\n",
       "      <th>mean</th>\n",
       "      <th>std</th>\n",
       "    </tr>\n",
       "    <tr>\n",
       "      <th>view</th>\n",
       "      <th></th>\n",
       "      <th></th>\n",
       "      <th></th>\n",
       "      <th></th>\n",
       "      <th></th>\n",
       "      <th></th>\n",
       "      <th></th>\n",
       "      <th></th>\n",
       "      <th></th>\n",
       "      <th></th>\n",
       "      <th></th>\n",
       "      <th></th>\n",
       "      <th></th>\n",
       "      <th></th>\n",
       "    </tr>\n",
       "  </thead>\n",
       "  <tbody>\n",
       "    <tr>\n",
       "      <th>AVERAGE</th>\n",
       "      <td>791956.68</td>\n",
       "      <td>510351.93</td>\n",
       "      <td>3.57</td>\n",
       "      <td>0.98</td>\n",
       "      <td>2.43</td>\n",
       "      <td>0.87</td>\n",
       "      <td>2651.20</td>\n",
       "      <td>1133.59</td>\n",
       "      <td>22331.72</td>\n",
       "      <td>60261.29</td>\n",
       "      <td>1964.82</td>\n",
       "      <td>29.70</td>\n",
       "      <td>98090.98</td>\n",
       "      <td>59.82</td>\n",
       "    </tr>\n",
       "    <tr>\n",
       "      <th>EXCELLENT</th>\n",
       "      <td>1454416.19</td>\n",
       "      <td>934214.96</td>\n",
       "      <td>3.63</td>\n",
       "      <td>1.10</td>\n",
       "      <td>2.78</td>\n",
       "      <td>1.07</td>\n",
       "      <td>3337.17</td>\n",
       "      <td>1544.93</td>\n",
       "      <td>21762.46</td>\n",
       "      <td>35989.90</td>\n",
       "      <td>1965.77</td>\n",
       "      <td>27.23</td>\n",
       "      <td>98096.41</td>\n",
       "      <td>61.65</td>\n",
       "    </tr>\n",
       "    <tr>\n",
       "      <th>FAIR</th>\n",
       "      <td>814386.56</td>\n",
       "      <td>513226.70</td>\n",
       "      <td>3.53</td>\n",
       "      <td>0.98</td>\n",
       "      <td>2.35</td>\n",
       "      <td>0.84</td>\n",
       "      <td>2573.51</td>\n",
       "      <td>1042.89</td>\n",
       "      <td>12342.66</td>\n",
       "      <td>17078.17</td>\n",
       "      <td>1962.90</td>\n",
       "      <td>26.36</td>\n",
       "      <td>98096.60</td>\n",
       "      <td>61.08</td>\n",
       "    </tr>\n",
       "    <tr>\n",
       "      <th>GOOD</th>\n",
       "      <td>972849.27</td>\n",
       "      <td>615076.79</td>\n",
       "      <td>3.67</td>\n",
       "      <td>0.93</td>\n",
       "      <td>2.67</td>\n",
       "      <td>0.89</td>\n",
       "      <td>3012.47</td>\n",
       "      <td>1204.88</td>\n",
       "      <td>35010.67</td>\n",
       "      <td>109236.86</td>\n",
       "      <td>1967.34</td>\n",
       "      <td>30.00</td>\n",
       "      <td>98092.44</td>\n",
       "      <td>62.24</td>\n",
       "    </tr>\n",
       "    <tr>\n",
       "      <th>NONE</th>\n",
       "      <td>498348.59</td>\n",
       "      <td>287343.67</td>\n",
       "      <td>3.35</td>\n",
       "      <td>0.92</td>\n",
       "      <td>2.07</td>\n",
       "      <td>0.74</td>\n",
       "      <td>2001.25</td>\n",
       "      <td>837.14</td>\n",
       "      <td>14178.52</td>\n",
       "      <td>37110.06</td>\n",
       "      <td>1971.74</td>\n",
       "      <td>29.37</td>\n",
       "      <td>98076.21</td>\n",
       "      <td>52.33</td>\n",
       "    </tr>\n",
       "  </tbody>\n",
       "</table>\n",
       "</div>"
      ],
      "text/plain": [
       "               price           bedrooms      bathrooms      sqft_living  \\\n",
       "                mean       std     mean  std      mean  std        mean   \n",
       "view                                                                      \n",
       "AVERAGE    791956.68 510351.93     3.57 0.98      2.43 0.87     2651.20   \n",
       "EXCELLENT 1454416.19 934214.96     3.63 1.10      2.78 1.07     3337.17   \n",
       "FAIR       814386.56 513226.70     3.53 0.98      2.35 0.84     2573.51   \n",
       "GOOD       972849.27 615076.79     3.67 0.93      2.67 0.89     3012.47   \n",
       "NONE       498348.59 287343.67     3.35 0.92      2.07 0.74     2001.25   \n",
       "\n",
       "                  sqft_lot           yr_built        zipcode        \n",
       "              std     mean       std     mean   std     mean   std  \n",
       "view                                                                \n",
       "AVERAGE   1133.59 22331.72  60261.29  1964.82 29.70 98090.98 59.82  \n",
       "EXCELLENT 1544.93 21762.46  35989.90  1965.77 27.23 98096.41 61.65  \n",
       "FAIR      1042.89 12342.66  17078.17  1962.90 26.36 98096.60 61.08  \n",
       "GOOD      1204.88 35010.67 109236.86  1967.34 30.00 98092.44 62.24  \n",
       "NONE       837.14 14178.52  37110.06  1971.74 29.37 98076.21 52.33  "
      ]
     },
     "execution_count": 15,
     "metadata": {},
     "output_type": "execute_result"
    }
   ],
   "source": [
    "summary_of_view = df_copy.groupby('view').agg(['mean', 'std'])\n",
    "\n",
    "summary_of_view"
   ]
  },
  {
   "cell_type": "code",
   "execution_count": 16,
   "metadata": {},
   "outputs": [],
   "source": [
    "# Figure out how to do this in a loop/function?\n",
    "df_average = train_df[train_df['view'] == 'AVERAGE']\n",
    "df_excellent = train_df[train_df['view'] == 'EXCELLENT']\n",
    "df_fair = train_df[train_df['view'] == 'FAIR']\n",
    "df_good = train_df[train_df['view'] == 'GOOD']\n",
    "df_none = train_df[train_df['view'] == 'NONE']"
   ]
  },
  {
   "cell_type": "code",
   "execution_count": 17,
   "metadata": {},
   "outputs": [
    {
     "data": {
      "text/plain": [
       "NONE         12913\n",
       "AVERAGE        637\n",
       "GOOD           336\n",
       "FAIR           230\n",
       "EXCELLENT      192\n",
       "Name: view, dtype: int64"
      ]
     },
     "execution_count": 17,
     "metadata": {},
     "output_type": "execute_result"
    }
   ],
   "source": [
    "train_df['view'].value_counts()"
   ]
  },
  {
   "cell_type": "code",
   "execution_count": 18,
   "metadata": {},
   "outputs": [],
   "source": [
    "fvalue, pvalue = stats.f_oneway(df_average['price'], df_excellent['price'], df_fair['price'],\n",
    "                                df_good['price'] , df_none['price'])"
   ]
  },
  {
   "cell_type": "code",
   "execution_count": 19,
   "metadata": {},
   "outputs": [
    {
     "data": {
      "text/plain": [
       "7 Average        5975\n",
       "8 Good           4030\n",
       "9 Better         1744\n",
       "6 Low Average    1349\n",
       "10 Very Good      754\n",
       "11 Excellent      261\n",
       "5 Fair            147\n",
       "12 Luxury          64\n",
       "4 Low              19\n",
       "13 Mansion          7\n",
       "Name: grade, dtype: int64"
      ]
     },
     "execution_count": 19,
     "metadata": {},
     "output_type": "execute_result"
    }
   ],
   "source": [
    "train_df.grade.value_counts()"
   ]
  },
  {
   "cell_type": "code",
   "execution_count": null,
   "metadata": {},
   "outputs": [],
   "source": []
  },
  {
   "cell_type": "code",
   "execution_count": 20,
   "metadata": {},
   "outputs": [],
   "source": [
    "# Dropping poor row, since there is only one\n",
    "df3 = train_df.copy()"
   ]
  },
  {
   "cell_type": "code",
   "execution_count": 21,
   "metadata": {},
   "outputs": [
    {
     "data": {
      "text/html": [
       "<div>\n",
       "<style scoped>\n",
       "    .dataframe tbody tr th:only-of-type {\n",
       "        vertical-align: middle;\n",
       "    }\n",
       "\n",
       "    .dataframe tbody tr th {\n",
       "        vertical-align: top;\n",
       "    }\n",
       "\n",
       "    .dataframe thead th {\n",
       "        text-align: right;\n",
       "    }\n",
       "</style>\n",
       "<table border=\"1\" class=\"dataframe\">\n",
       "  <thead>\n",
       "    <tr style=\"text-align: right;\">\n",
       "      <th></th>\n",
       "      <th>bedrooms</th>\n",
       "      <th>bathrooms</th>\n",
       "      <th>sqft_living</th>\n",
       "      <th>sqft_lot</th>\n",
       "      <th>view</th>\n",
       "      <th>grade</th>\n",
       "      <th>yr_built</th>\n",
       "      <th>zipcode</th>\n",
       "      <th>price</th>\n",
       "    </tr>\n",
       "  </thead>\n",
       "  <tbody>\n",
       "    <tr>\n",
       "      <th>14622</th>\n",
       "      <td>4</td>\n",
       "      <td>2.50</td>\n",
       "      <td>1750</td>\n",
       "      <td>8476</td>\n",
       "      <td>NONE</td>\n",
       "      <td>7 Average</td>\n",
       "      <td>1983</td>\n",
       "      <td>98058</td>\n",
       "      <td>335000.00</td>\n",
       "    </tr>\n",
       "    <tr>\n",
       "      <th>1744</th>\n",
       "      <td>4</td>\n",
       "      <td>2.50</td>\n",
       "      <td>2660</td>\n",
       "      <td>5608</td>\n",
       "      <td>NONE</td>\n",
       "      <td>9 Better</td>\n",
       "      <td>2003</td>\n",
       "      <td>98029</td>\n",
       "      <td>729000.00</td>\n",
       "    </tr>\n",
       "    <tr>\n",
       "      <th>2729</th>\n",
       "      <td>3</td>\n",
       "      <td>1.00</td>\n",
       "      <td>1740</td>\n",
       "      <td>5247</td>\n",
       "      <td>NONE</td>\n",
       "      <td>7 Average</td>\n",
       "      <td>1947</td>\n",
       "      <td>98168</td>\n",
       "      <td>283000.00</td>\n",
       "    </tr>\n",
       "    <tr>\n",
       "      <th>13117</th>\n",
       "      <td>4</td>\n",
       "      <td>2.50</td>\n",
       "      <td>2700</td>\n",
       "      <td>5100</td>\n",
       "      <td>NONE</td>\n",
       "      <td>8 Good</td>\n",
       "      <td>1968</td>\n",
       "      <td>98136</td>\n",
       "      <td>550000.00</td>\n",
       "    </tr>\n",
       "    <tr>\n",
       "      <th>18281</th>\n",
       "      <td>3</td>\n",
       "      <td>1.75</td>\n",
       "      <td>1380</td>\n",
       "      <td>8182</td>\n",
       "      <td>NONE</td>\n",
       "      <td>7 Average</td>\n",
       "      <td>1942</td>\n",
       "      <td>98133</td>\n",
       "      <td>425000.00</td>\n",
       "    </tr>\n",
       "  </tbody>\n",
       "</table>\n",
       "</div>"
      ],
      "text/plain": [
       "       bedrooms  bathrooms  sqft_living  sqft_lot  view      grade  yr_built  \\\n",
       "14622         4       2.50         1750      8476  NONE  7 Average      1983   \n",
       "1744          4       2.50         2660      5608  NONE   9 Better      2003   \n",
       "2729          3       1.00         1740      5247  NONE  7 Average      1947   \n",
       "13117         4       2.50         2700      5100  NONE     8 Good      1968   \n",
       "18281         3       1.75         1380      8182  NONE  7 Average      1942   \n",
       "\n",
       "       zipcode     price  \n",
       "14622    98058 335000.00  \n",
       "1744     98029 729000.00  \n",
       "2729     98168 283000.00  \n",
       "13117    98136 550000.00  \n",
       "18281    98133 425000.00  "
      ]
     },
     "execution_count": 21,
     "metadata": {},
     "output_type": "execute_result"
    }
   ],
   "source": [
    "df3.head()"
   ]
  },
  {
   "cell_type": "code",
   "execution_count": 22,
   "metadata": {},
   "outputs": [],
   "source": [
    "df3.grade = [x.replace(\" \", \"_\").strip() for x in df3.grade]"
   ]
  },
  {
   "cell_type": "code",
   "execution_count": 23,
   "metadata": {},
   "outputs": [
    {
     "data": {
      "text/plain": [
       "7_Average        5975\n",
       "8_Good           4030\n",
       "9_Better         1744\n",
       "6_Low_Average    1349\n",
       "10_Very_Good      754\n",
       "11_Excellent      261\n",
       "5_Fair            147\n",
       "12_Luxury          64\n",
       "4_Low              19\n",
       "13_Mansion          7\n",
       "Name: grade, dtype: int64"
      ]
     },
     "execution_count": 23,
     "metadata": {},
     "output_type": "execute_result"
    }
   ],
   "source": [
    "df3['grade'].value_counts()"
   ]
  },
  {
   "cell_type": "code",
   "execution_count": 24,
   "metadata": {},
   "outputs": [],
   "source": [
    "# Might need a for loop or a function here\n",
    "df_10 = train_df[train_df['grade'] == '10 Very Good']\n",
    "df_11 = train_df[train_df['grade'] == '11 Excellent']\n",
    "df_12 = train_df[train_df['grade'] == '12 Luxury']\n",
    "df_4 = train_df[train_df['grade'] == '4 Low']\n",
    "df_5 = train_df[train_df['grade'] == '5 Fair']\n",
    "df_6 = train_df[train_df['grade'] == '6 Low Average']\n",
    "df_7 = train_df[train_df['grade'] == '7 Average']\n",
    "df_8 = train_df[train_df['grade'] == '8 Good']\n",
    "df_9 = train_df[train_df['grade'] == '9 Better']"
   ]
  },
  {
   "cell_type": "code",
   "execution_count": 25,
   "metadata": {},
   "outputs": [
    {
     "data": {
      "text/plain": [
       "0.0"
      ]
     },
     "execution_count": 25,
     "metadata": {},
     "output_type": "execute_result"
    }
   ],
   "source": [
    "# Finding f-statistic and p-value using ANOVA testing\n",
    "\n",
    "f_value_grade, p_value_grade = stats.f_oneway(df_10['price'], df_11['price'], df_12['price'],\n",
    "                                              df_4['price'], df_5['price'], df_6['price'],\n",
    "                                              df_7['price'], df_8['price'], df_9['price'])\n",
    "p_value_grade"
   ]
  },
  {
   "cell_type": "code",
   "execution_count": 26,
   "metadata": {},
   "outputs": [
    {
     "name": "stdout",
     "output_type": "stream",
     "text": [
      "                Multiple Comparison of Means - Tukey HSD, FWER=0.05                \n",
      "===================================================================================\n",
      "    group1        group2       meandiff   p-adj      lower         upper     reject\n",
      "-----------------------------------------------------------------------------------\n",
      " 10 Very Good  11 Excellent   381056.6583  0.001   322630.8353   439482.4812   True\n",
      " 10 Very Good     12 Luxury  1074763.4844  0.001   968843.2982  1180683.6706   True\n",
      " 10 Very Good    13 Mansion  2930578.2166  0.001  2621665.7899  3239490.6432   True\n",
      " 10 Very Good         4 Low  -879246.2195  0.001 -1068221.5081   -690270.931   True\n",
      " 10 Very Good        5 Fair   -826698.729  0.001  -900047.9995  -753349.4585   True\n",
      " 10 Very Good 6 Low Average  -769929.2032  0.001   -806921.026  -732937.3804   True\n",
      " 10 Very Good     7 Average  -672494.5974  0.001  -703935.7443  -641053.4505   True\n",
      " 10 Very Good        8 Good  -533427.0034  0.001  -565707.1228  -501146.8839   True\n",
      " 10 Very Good      9 Better  -300298.5162  0.001  -335756.5824  -264840.4499   True\n",
      " 11 Excellent     12 Luxury   693706.8261  0.001   580229.4766   807184.1757   True\n",
      " 11 Excellent    13 Mansion  2549521.5583  0.001  2237937.0427  2861106.0739   True\n",
      " 11 Excellent         4 Low -1260302.8778  0.001 -1453615.2745 -1066990.4811   True\n",
      " 11 Excellent        5 Fair -1207755.3873  0.001 -1291649.0014 -1123861.7732   True\n",
      " 11 Excellent 6 Low Average -1150985.8615  0.001 -1205998.7506 -1095972.9724   True\n",
      " 11 Excellent     7 Average -1053551.2557  0.001 -1104996.0681 -1002106.4432   True\n",
      " 11 Excellent        8 Good  -914483.6616  0.001  -966445.4661  -862521.8572   True\n",
      " 11 Excellent      9 Better  -681355.1744  0.001  -735348.6692  -627361.6797   True\n",
      "    12 Luxury    13 Mansion  1855814.7321  0.001  1531946.8278  2179682.6364   True\n",
      "    12 Luxury         4 Low -1954009.7039  0.001 -2166554.2681 -1741465.1398   True\n",
      "    12 Luxury        5 Fair -1901462.2134  0.001 -2023296.7223 -1779627.7046   True\n",
      "    12 Luxury 6 Low Average -1844692.6876  0.001 -1948769.2317 -1740616.1436   True\n",
      "    12 Luxury     7 Average -1747258.0818  0.001 -1849493.4856  -1645022.678   True\n",
      "    12 Luxury        8 Good -1608190.4878  0.001 -1710687.0154 -1505693.9601   True\n",
      "    12 Luxury      9 Better -1375062.0006  0.001 -1478603.3282 -1271520.6729   True\n",
      "   13 Mansion         4 Low -3809824.4361  0.001 -4169522.9116 -3450125.9606   True\n",
      "   13 Mansion        5 Fair -3757276.9456  0.001 -4072001.3473 -3442552.5438   True\n",
      "   13 Mansion 6 Low Average -3700507.4198  0.001 -4008792.5614 -3392222.2782   True\n",
      "   13 Mansion     7 Average  -3603072.814  0.001 -3910741.2708 -3295404.3572   True\n",
      "   13 Mansion        8 Good -3464005.2199  0.001 -3771760.5443 -3156249.8955   True\n",
      "   13 Mansion      9 Better -3230876.7327  0.001 -3538981.5981 -2922771.8674   True\n",
      "        4 Low        5 Fair    52547.4905    0.9  -145786.1209   250881.1019  False\n",
      "        4 Low 6 Low Average   109317.0163  0.683   -78631.1172   297265.1498  False\n",
      "        4 Low     7 Average   206751.6221 0.0169     19816.736   393686.5082   True\n",
      "        4 Low        8 Good   345819.2162  0.001   158741.3927   532897.0396   True\n",
      "        4 Low      9 Better   578947.7034  0.001   391295.4175   766599.9892   True\n",
      "       5 Fair 6 Low Average    56769.5258 0.2459   -13891.3308   127430.3824  False\n",
      "       5 Fair     7 Average   154204.1316  0.001    86284.2713   222123.9919   True\n",
      "       5 Fair        8 Good   293271.7257  0.001   224959.4441   361584.0073   True\n",
      "       5 Fair      9 Better   526400.2129  0.001    456530.075   596270.3508   True\n",
      "6 Low Average     7 Average    97434.6058  0.001    72911.4148   121957.7969   True\n",
      "6 Low Average        8 Good   236502.1999  0.001   210912.2157   262092.1841   True\n",
      "6 Low Average      9 Better   469630.6871  0.001   440132.9644   499128.4098   True\n",
      "    7 Average        8 Good    139067.594  0.001   122484.5287   155650.6594   True\n",
      "    7 Average      9 Better   372196.0812  0.001   350054.1209   394338.0416   True\n",
      "       8 Good      9 Better   233128.4872  0.001    209810.537   256446.4374   True\n",
      "-----------------------------------------------------------------------------------\n"
     ]
    }
   ],
   "source": [
    "# Ad-hoc test to determine differeces in price vs. grade\n",
    "\n",
    "df_grade = train_df[['grade', 'price']]\n",
    "\n",
    "print(pairwise_tukeyhsd(df_grade['price'], df_grade['grade']))"
   ]
  },
  {
   "cell_type": "code",
   "execution_count": 27,
   "metadata": {},
   "outputs": [
    {
     "data": {
      "text/html": [
       "<div>\n",
       "<style scoped>\n",
       "    .dataframe tbody tr th:only-of-type {\n",
       "        vertical-align: middle;\n",
       "    }\n",
       "\n",
       "    .dataframe tbody tr th {\n",
       "        vertical-align: top;\n",
       "    }\n",
       "\n",
       "    .dataframe thead th {\n",
       "        text-align: right;\n",
       "    }\n",
       "</style>\n",
       "<table border=\"1\" class=\"dataframe\">\n",
       "  <thead>\n",
       "    <tr style=\"text-align: right;\">\n",
       "      <th></th>\n",
       "      <th>grade</th>\n",
       "      <th>view</th>\n",
       "      <th>zipcode</th>\n",
       "    </tr>\n",
       "  </thead>\n",
       "  <tbody>\n",
       "    <tr>\n",
       "      <th>14622</th>\n",
       "      <td>7_Average</td>\n",
       "      <td>NONE</td>\n",
       "      <td>98058</td>\n",
       "    </tr>\n",
       "    <tr>\n",
       "      <th>1744</th>\n",
       "      <td>9_Better</td>\n",
       "      <td>NONE</td>\n",
       "      <td>98029</td>\n",
       "    </tr>\n",
       "    <tr>\n",
       "      <th>2729</th>\n",
       "      <td>7_Average</td>\n",
       "      <td>NONE</td>\n",
       "      <td>98168</td>\n",
       "    </tr>\n",
       "    <tr>\n",
       "      <th>13117</th>\n",
       "      <td>8_Good</td>\n",
       "      <td>NONE</td>\n",
       "      <td>98136</td>\n",
       "    </tr>\n",
       "    <tr>\n",
       "      <th>18281</th>\n",
       "      <td>7_Average</td>\n",
       "      <td>NONE</td>\n",
       "      <td>98133</td>\n",
       "    </tr>\n",
       "    <tr>\n",
       "      <th>...</th>\n",
       "      <td>...</td>\n",
       "      <td>...</td>\n",
       "      <td>...</td>\n",
       "    </tr>\n",
       "    <tr>\n",
       "      <th>13105</th>\n",
       "      <td>7_Average</td>\n",
       "      <td>NONE</td>\n",
       "      <td>98178</td>\n",
       "    </tr>\n",
       "    <tr>\n",
       "      <th>17476</th>\n",
       "      <td>7_Average</td>\n",
       "      <td>NONE</td>\n",
       "      <td>98166</td>\n",
       "    </tr>\n",
       "    <tr>\n",
       "      <th>9990</th>\n",
       "      <td>7_Average</td>\n",
       "      <td>NONE</td>\n",
       "      <td>98034</td>\n",
       "    </tr>\n",
       "    <tr>\n",
       "      <th>338</th>\n",
       "      <td>7_Average</td>\n",
       "      <td>NONE</td>\n",
       "      <td>98133</td>\n",
       "    </tr>\n",
       "    <tr>\n",
       "      <th>9180</th>\n",
       "      <td>5_Fair</td>\n",
       "      <td>NONE</td>\n",
       "      <td>98056</td>\n",
       "    </tr>\n",
       "  </tbody>\n",
       "</table>\n",
       "<p>14350 rows × 3 columns</p>\n",
       "</div>"
      ],
      "text/plain": [
       "           grade  view  zipcode\n",
       "14622  7_Average  NONE    98058\n",
       "1744    9_Better  NONE    98029\n",
       "2729   7_Average  NONE    98168\n",
       "13117     8_Good  NONE    98136\n",
       "18281  7_Average  NONE    98133\n",
       "...          ...   ...      ...\n",
       "13105  7_Average  NONE    98178\n",
       "17476  7_Average  NONE    98166\n",
       "9990   7_Average  NONE    98034\n",
       "338    7_Average  NONE    98133\n",
       "9180      5_Fair  NONE    98056\n",
       "\n",
       "[14350 rows x 3 columns]"
      ]
     },
     "execution_count": 27,
     "metadata": {},
     "output_type": "execute_result"
    }
   ],
   "source": [
    "#making the categorical variable\n",
    "cate_column = df3[['grade', 'view', 'zipcode']]\n",
    "\n",
    "cate_column"
   ]
  },
  {
   "cell_type": "code",
   "execution_count": 28,
   "metadata": {},
   "outputs": [
    {
     "data": {
      "text/plain": [
       "NONE         12913\n",
       "AVERAGE        637\n",
       "GOOD           336\n",
       "FAIR           230\n",
       "EXCELLENT      192\n",
       "Name: view, dtype: int64"
      ]
     },
     "execution_count": 28,
     "metadata": {},
     "output_type": "execute_result"
    }
   ],
   "source": [
    "df3.view.value_counts()"
   ]
  },
  {
   "cell_type": "code",
   "execution_count": 29,
   "metadata": {},
   "outputs": [
    {
     "data": {
      "text/plain": [
       "Index(['price', 'bedrooms', 'bathrooms', 'sqft_living', 'sqft_lot', 'view',\n",
       "       'grade', 'yr_built', 'zipcode'],\n",
       "      dtype='object')"
      ]
     },
     "execution_count": 29,
     "metadata": {},
     "output_type": "execute_result"
    }
   ],
   "source": [
    "df_copy.columns"
   ]
  },
  {
   "cell_type": "code",
   "execution_count": 30,
   "metadata": {},
   "outputs": [
    {
     "data": {
      "text/plain": [
       "70"
      ]
     },
     "execution_count": 30,
     "metadata": {},
     "output_type": "execute_result"
    }
   ],
   "source": [
    "len(df_copy.zipcode.unique())"
   ]
  },
  {
   "cell_type": "code",
   "execution_count": 31,
   "metadata": {},
   "outputs": [],
   "source": [
    "#ohe = OneHotEncoder(drop = 'if_binary')\n",
    "\n",
    "#column_name = ['grade', 'view', 'zipcode']\n",
    "#features = cate_column.copy()\n",
    "\n",
    "#features2 = features[column_name]\n",
    "\n",
    "#cate_ohe = ohe.fit_transform(features2)\n",
    "\n",
    "#cate_ohe"
   ]
  },
  {
   "cell_type": "code",
   "execution_count": 32,
   "metadata": {},
   "outputs": [],
   "source": [
    "#name = ohe.get_feature_names_out()"
   ]
  },
  {
   "cell_type": "code",
   "execution_count": 33,
   "metadata": {
    "scrolled": true
   },
   "outputs": [],
   "source": [
    "#df3.grade.value_counts()"
   ]
  },
  {
   "cell_type": "code",
   "execution_count": 34,
   "metadata": {
    "scrolled": false
   },
   "outputs": [],
   "source": [
    "#cate_parsed = pd.DataFrame(cate_ohe.todense(), columns = name, index = features.index)\n",
    "#cate_parsed"
   ]
  },
  {
   "cell_type": "code",
   "execution_count": 35,
   "metadata": {},
   "outputs": [],
   "source": [
    "#cate_parsed.drop(columns = ['view_FAIR', 'grade_4_Low'], inplace = True)"
   ]
  },
  {
   "cell_type": "markdown",
   "metadata": {},
   "source": [
    "Dropping the view_Fair because it's not different in term of mean price compared to average, dropping low in grade because it's not significant to some other grades but significant to others."
   ]
  },
  {
   "cell_type": "code",
   "execution_count": 36,
   "metadata": {},
   "outputs": [],
   "source": [
    "# Creating dataframe with only numerical columns\n",
    "#numbers = train_df.select_dtypes(np.number)"
   ]
  },
  {
   "cell_type": "code",
   "execution_count": 37,
   "metadata": {},
   "outputs": [
    {
     "name": "stdout",
     "output_type": "stream",
     "text": [
      "<class 'pandas.core.frame.DataFrame'>\n",
      "Int64Index: 14350 entries, 14622 to 9180\n",
      "Data columns (total 9 columns):\n",
      " #   Column       Non-Null Count  Dtype  \n",
      "---  ------       --------------  -----  \n",
      " 0   bedrooms     14350 non-null  int64  \n",
      " 1   bathrooms    14350 non-null  float64\n",
      " 2   sqft_living  14350 non-null  int64  \n",
      " 3   sqft_lot     14350 non-null  int64  \n",
      " 4   view         14308 non-null  object \n",
      " 5   grade        14350 non-null  object \n",
      " 6   yr_built     14350 non-null  int64  \n",
      " 7   zipcode      14350 non-null  int64  \n",
      " 8   price        14350 non-null  float64\n",
      "dtypes: float64(2), int64(5), object(2)\n",
      "memory usage: 1.1+ MB\n"
     ]
    }
   ],
   "source": [
    "df3.info()"
   ]
  },
  {
   "cell_type": "code",
   "execution_count": 38,
   "metadata": {
    "scrolled": true
   },
   "outputs": [],
   "source": [
    "#df3.zipcode = df3.zipcode.astype(str)"
   ]
  },
  {
   "cell_type": "code",
   "execution_count": 39,
   "metadata": {},
   "outputs": [
    {
     "data": {
      "text/plain": [
       "70"
      ]
     },
     "execution_count": 39,
     "metadata": {},
     "output_type": "execute_result"
    }
   ],
   "source": [
    "len(df3.zipcode.unique())"
   ]
  },
  {
   "cell_type": "code",
   "execution_count": null,
   "metadata": {},
   "outputs": [],
   "source": []
  },
  {
   "cell_type": "code",
   "execution_count": 40,
   "metadata": {
    "scrolled": true
   },
   "outputs": [
    {
     "data": {
      "text/plain": [
       "array([[     0.,      0.,      0., ...,   1983.,  98058., 335000.],\n",
       "       [     0.,      0.,      0., ...,   2003.,  98029., 729000.],\n",
       "       [     0.,      0.,      0., ...,   1947.,  98168., 283000.],\n",
       "       ...,\n",
       "       [     0.,      0.,      0., ...,   1960.,  98034., 620000.],\n",
       "       [     0.,      0.,      0., ...,   1954.,  98133., 265000.],\n",
       "       [     0.,      0.,      0., ...,   1942.,  98056., 139000.]])"
      ]
     },
     "execution_count": 40,
     "metadata": {},
     "output_type": "execute_result"
    }
   ],
   "source": [
    "cat_cols = [c for c in df3.columns if df3[c].dtype == 'O']\n",
    "\n",
    "encoder = OneHotEncoder(drop='if_binary')\n",
    "from sklearn.compose import ColumnTransformer\n",
    "\n",
    "# Create an columntransformer object.\n",
    "# This will help us to merge transformed columns\n",
    "# with the rest of the dataset.\n",
    "\n",
    "ct = ColumnTransformer(transformers=[('ohe', encoder, cat_cols)],\n",
    "                       remainder='passthrough')\n",
    "ct.fit(df3)\n",
    "X_train_enc = ct.transform(df3)\n",
    "X_train_enc"
   ]
  },
  {
   "cell_type": "code",
   "execution_count": 41,
   "metadata": {},
   "outputs": [
    {
     "name": "stderr",
     "output_type": "stream",
     "text": [
      "C:\\Users\\xiaoh\\anaconda3\\envs\\learn-env\\lib\\site-packages\\sklearn\\utils\\deprecation.py:87: FutureWarning: Function get_feature_names is deprecated; get_feature_names is deprecated in 1.0 and will be removed in 1.2. Please use get_feature_names_out instead.\n",
      "  warnings.warn(msg, category=FutureWarning)\n"
     ]
    }
   ],
   "source": [
    "X_train_enc= pd.DataFrame(X_train_enc, columns= ct.get_feature_names())"
   ]
  },
  {
   "cell_type": "code",
   "execution_count": 42,
   "metadata": {
    "scrolled": true
   },
   "outputs": [],
   "source": [
    "#Rework to include only the train_df\n",
    "#ss = StandardScaler()\n",
    "\n",
    "#columns_name1 = ['price', 'sqft_living']\n",
    "#numbers_scaling = numbers.copy()\n",
    "\n",
    "#features= numbers_scaling[columns_name1]\n",
    "\n",
    "#scale1 = ss.fit(features)\n",
    "#scale2 = scale1.transform(features)\n",
    "#numbers_scaling[columns_name1] = scale2\n",
    "\n",
    "#numbers_scaling"
   ]
  },
  {
   "cell_type": "code",
   "execution_count": 43,
   "metadata": {},
   "outputs": [
    {
     "data": {
      "text/plain": [
       "array([[-0.21552789, -0.11645273, -0.12762818, ...,  0.4036936 ,\n",
       "        -0.3746041 , -0.56265404],\n",
       "       [-0.21552789, -0.11645273, -0.12762818, ...,  1.08548407,\n",
       "        -0.91880207,  0.51143509],\n",
       "       [-0.21552789, -0.11645273, -0.12762818, ..., -0.82352925,\n",
       "         1.68959511, -0.70441199],\n",
       "       ...,\n",
       "       [-0.21552789, -0.11645273, -0.12762818, ..., -0.38036544,\n",
       "        -0.82497483,  0.21428861],\n",
       "       [-0.21552789, -0.11645273, -0.12762818, ..., -0.58490258,\n",
       "         1.03280445, -0.75348205],\n",
       "       [-0.21552789, -0.11645273, -0.12762818, ..., -0.99397686,\n",
       "        -0.41213499, -1.09697249]])"
      ]
     },
     "execution_count": 43,
     "metadata": {},
     "output_type": "execute_result"
    }
   ],
   "source": [
    "# Instantiate our scaler\n",
    "\n",
    "scaler = StandardScaler()\n",
    "\n",
    "# Fit our scaler \n",
    "\n",
    "scaler.fit(X_train_enc)\n",
    "\n",
    "# Transform training data\n",
    "\n",
    "X_train_scaled = scaler.transform(X_train_enc)\n",
    "X_train_scaled"
   ]
  },
  {
   "cell_type": "code",
   "execution_count": 44,
   "metadata": {},
   "outputs": [
    {
     "data": {
      "text/plain": [
       "(14350,)"
      ]
     },
     "execution_count": 44,
     "metadata": {},
     "output_type": "execute_result"
    }
   ],
   "source": [
    "y_train.shape"
   ]
  },
  {
   "cell_type": "code",
   "execution_count": 45,
   "metadata": {
    "scrolled": true
   },
   "outputs": [],
   "source": [
    "scaled_p_df = pd.DataFrame(X_train_scaled, columns= ct.get_feature_names_out(), index = y_train.index)"
   ]
  },
  {
   "cell_type": "code",
   "execution_count": 46,
   "metadata": {},
   "outputs": [
    {
     "data": {
      "text/html": [
       "<div>\n",
       "<style scoped>\n",
       "    .dataframe tbody tr th:only-of-type {\n",
       "        vertical-align: middle;\n",
       "    }\n",
       "\n",
       "    .dataframe tbody tr th {\n",
       "        vertical-align: top;\n",
       "    }\n",
       "\n",
       "    .dataframe thead th {\n",
       "        text-align: right;\n",
       "    }\n",
       "</style>\n",
       "<table border=\"1\" class=\"dataframe\">\n",
       "  <thead>\n",
       "    <tr style=\"text-align: right;\">\n",
       "      <th></th>\n",
       "      <th>ohe__view_AVERAGE</th>\n",
       "      <th>ohe__view_EXCELLENT</th>\n",
       "      <th>ohe__view_FAIR</th>\n",
       "      <th>ohe__view_GOOD</th>\n",
       "      <th>ohe__view_NONE</th>\n",
       "      <th>ohe__view_nan</th>\n",
       "      <th>ohe__grade_10_Very_Good</th>\n",
       "      <th>ohe__grade_11_Excellent</th>\n",
       "      <th>ohe__grade_12_Luxury</th>\n",
       "      <th>ohe__grade_13_Mansion</th>\n",
       "      <th>ohe__grade_4_Low</th>\n",
       "      <th>ohe__grade_5_Fair</th>\n",
       "      <th>ohe__grade_6_Low_Average</th>\n",
       "      <th>ohe__grade_7_Average</th>\n",
       "      <th>ohe__grade_8_Good</th>\n",
       "      <th>ohe__grade_9_Better</th>\n",
       "      <th>remainder__bedrooms</th>\n",
       "      <th>remainder__bathrooms</th>\n",
       "      <th>remainder__sqft_living</th>\n",
       "      <th>remainder__sqft_lot</th>\n",
       "      <th>remainder__yr_built</th>\n",
       "      <th>remainder__zipcode</th>\n",
       "      <th>remainder__price</th>\n",
       "    </tr>\n",
       "  </thead>\n",
       "  <tbody>\n",
       "    <tr>\n",
       "      <th>14622</th>\n",
       "      <td>-0.22</td>\n",
       "      <td>-0.12</td>\n",
       "      <td>-0.13</td>\n",
       "      <td>-0.15</td>\n",
       "      <td>0.33</td>\n",
       "      <td>-0.05</td>\n",
       "      <td>-0.24</td>\n",
       "      <td>-0.14</td>\n",
       "      <td>-0.07</td>\n",
       "      <td>-0.02</td>\n",
       "      <td>-0.04</td>\n",
       "      <td>-0.10</td>\n",
       "      <td>-0.32</td>\n",
       "      <td>1.18</td>\n",
       "      <td>-0.62</td>\n",
       "      <td>-0.37</td>\n",
       "      <td>0.66</td>\n",
       "      <td>0.49</td>\n",
       "      <td>-0.36</td>\n",
       "      <td>-0.17</td>\n",
       "      <td>0.40</td>\n",
       "      <td>-0.37</td>\n",
       "      <td>-0.56</td>\n",
       "    </tr>\n",
       "    <tr>\n",
       "      <th>1744</th>\n",
       "      <td>-0.22</td>\n",
       "      <td>-0.12</td>\n",
       "      <td>-0.13</td>\n",
       "      <td>-0.15</td>\n",
       "      <td>0.33</td>\n",
       "      <td>-0.05</td>\n",
       "      <td>-0.24</td>\n",
       "      <td>-0.14</td>\n",
       "      <td>-0.07</td>\n",
       "      <td>-0.02</td>\n",
       "      <td>-0.04</td>\n",
       "      <td>-0.10</td>\n",
       "      <td>-0.32</td>\n",
       "      <td>-0.84</td>\n",
       "      <td>-0.62</td>\n",
       "      <td>2.69</td>\n",
       "      <td>0.66</td>\n",
       "      <td>0.49</td>\n",
       "      <td>0.63</td>\n",
       "      <td>-0.24</td>\n",
       "      <td>1.09</td>\n",
       "      <td>-0.92</td>\n",
       "      <td>0.51</td>\n",
       "    </tr>\n",
       "    <tr>\n",
       "      <th>2729</th>\n",
       "      <td>-0.22</td>\n",
       "      <td>-0.12</td>\n",
       "      <td>-0.13</td>\n",
       "      <td>-0.15</td>\n",
       "      <td>0.33</td>\n",
       "      <td>-0.05</td>\n",
       "      <td>-0.24</td>\n",
       "      <td>-0.14</td>\n",
       "      <td>-0.07</td>\n",
       "      <td>-0.02</td>\n",
       "      <td>-0.04</td>\n",
       "      <td>-0.10</td>\n",
       "      <td>-0.32</td>\n",
       "      <td>1.18</td>\n",
       "      <td>-0.62</td>\n",
       "      <td>-0.37</td>\n",
       "      <td>-0.40</td>\n",
       "      <td>-1.46</td>\n",
       "      <td>-0.37</td>\n",
       "      <td>-0.25</td>\n",
       "      <td>-0.82</td>\n",
       "      <td>1.69</td>\n",
       "      <td>-0.70</td>\n",
       "    </tr>\n",
       "    <tr>\n",
       "      <th>13117</th>\n",
       "      <td>-0.22</td>\n",
       "      <td>-0.12</td>\n",
       "      <td>-0.13</td>\n",
       "      <td>-0.15</td>\n",
       "      <td>0.33</td>\n",
       "      <td>-0.05</td>\n",
       "      <td>-0.24</td>\n",
       "      <td>-0.14</td>\n",
       "      <td>-0.07</td>\n",
       "      <td>-0.02</td>\n",
       "      <td>-0.04</td>\n",
       "      <td>-0.10</td>\n",
       "      <td>-0.32</td>\n",
       "      <td>-0.84</td>\n",
       "      <td>1.60</td>\n",
       "      <td>-0.37</td>\n",
       "      <td>0.66</td>\n",
       "      <td>0.49</td>\n",
       "      <td>0.68</td>\n",
       "      <td>-0.25</td>\n",
       "      <td>-0.11</td>\n",
       "      <td>1.09</td>\n",
       "      <td>0.02</td>\n",
       "    </tr>\n",
       "    <tr>\n",
       "      <th>18281</th>\n",
       "      <td>-0.22</td>\n",
       "      <td>-0.12</td>\n",
       "      <td>-0.13</td>\n",
       "      <td>-0.15</td>\n",
       "      <td>0.33</td>\n",
       "      <td>-0.05</td>\n",
       "      <td>-0.24</td>\n",
       "      <td>-0.14</td>\n",
       "      <td>-0.07</td>\n",
       "      <td>-0.02</td>\n",
       "      <td>-0.04</td>\n",
       "      <td>-0.10</td>\n",
       "      <td>-0.32</td>\n",
       "      <td>1.18</td>\n",
       "      <td>-0.62</td>\n",
       "      <td>-0.37</td>\n",
       "      <td>-0.40</td>\n",
       "      <td>-0.48</td>\n",
       "      <td>-0.77</td>\n",
       "      <td>-0.17</td>\n",
       "      <td>-0.99</td>\n",
       "      <td>1.03</td>\n",
       "      <td>-0.32</td>\n",
       "    </tr>\n",
       "  </tbody>\n",
       "</table>\n",
       "</div>"
      ],
      "text/plain": [
       "       ohe__view_AVERAGE  ohe__view_EXCELLENT  ohe__view_FAIR  ohe__view_GOOD  \\\n",
       "14622              -0.22                -0.12           -0.13           -0.15   \n",
       "1744               -0.22                -0.12           -0.13           -0.15   \n",
       "2729               -0.22                -0.12           -0.13           -0.15   \n",
       "13117              -0.22                -0.12           -0.13           -0.15   \n",
       "18281              -0.22                -0.12           -0.13           -0.15   \n",
       "\n",
       "       ohe__view_NONE  ohe__view_nan  ohe__grade_10_Very_Good  \\\n",
       "14622            0.33          -0.05                    -0.24   \n",
       "1744             0.33          -0.05                    -0.24   \n",
       "2729             0.33          -0.05                    -0.24   \n",
       "13117            0.33          -0.05                    -0.24   \n",
       "18281            0.33          -0.05                    -0.24   \n",
       "\n",
       "       ohe__grade_11_Excellent  ohe__grade_12_Luxury  ohe__grade_13_Mansion  \\\n",
       "14622                    -0.14                 -0.07                  -0.02   \n",
       "1744                     -0.14                 -0.07                  -0.02   \n",
       "2729                     -0.14                 -0.07                  -0.02   \n",
       "13117                    -0.14                 -0.07                  -0.02   \n",
       "18281                    -0.14                 -0.07                  -0.02   \n",
       "\n",
       "       ohe__grade_4_Low  ohe__grade_5_Fair  ohe__grade_6_Low_Average  \\\n",
       "14622             -0.04              -0.10                     -0.32   \n",
       "1744              -0.04              -0.10                     -0.32   \n",
       "2729              -0.04              -0.10                     -0.32   \n",
       "13117             -0.04              -0.10                     -0.32   \n",
       "18281             -0.04              -0.10                     -0.32   \n",
       "\n",
       "       ohe__grade_7_Average  ohe__grade_8_Good  ohe__grade_9_Better  \\\n",
       "14622                  1.18              -0.62                -0.37   \n",
       "1744                  -0.84              -0.62                 2.69   \n",
       "2729                   1.18              -0.62                -0.37   \n",
       "13117                 -0.84               1.60                -0.37   \n",
       "18281                  1.18              -0.62                -0.37   \n",
       "\n",
       "       remainder__bedrooms  remainder__bathrooms  remainder__sqft_living  \\\n",
       "14622                 0.66                  0.49                   -0.36   \n",
       "1744                  0.66                  0.49                    0.63   \n",
       "2729                 -0.40                 -1.46                   -0.37   \n",
       "13117                 0.66                  0.49                    0.68   \n",
       "18281                -0.40                 -0.48                   -0.77   \n",
       "\n",
       "       remainder__sqft_lot  remainder__yr_built  remainder__zipcode  \\\n",
       "14622                -0.17                 0.40               -0.37   \n",
       "1744                 -0.24                 1.09               -0.92   \n",
       "2729                 -0.25                -0.82                1.69   \n",
       "13117                -0.25                -0.11                1.09   \n",
       "18281                -0.17                -0.99                1.03   \n",
       "\n",
       "       remainder__price  \n",
       "14622             -0.56  \n",
       "1744               0.51  \n",
       "2729              -0.70  \n",
       "13117              0.02  \n",
       "18281             -0.32  "
      ]
     },
     "execution_count": 46,
     "metadata": {},
     "output_type": "execute_result"
    }
   ],
   "source": [
    "scaled_p_df.head()"
   ]
  },
  {
   "cell_type": "code",
   "execution_count": 47,
   "metadata": {},
   "outputs": [],
   "source": [
    "scaled_p_df.columns = [x.replace(\"ohe__\", \"\").replace('remainder__','').strip() for x in scaled_p_df.columns]"
   ]
  },
  {
   "cell_type": "code",
   "execution_count": 48,
   "metadata": {},
   "outputs": [
    {
     "data": {
      "text/html": [
       "<div>\n",
       "<style scoped>\n",
       "    .dataframe tbody tr th:only-of-type {\n",
       "        vertical-align: middle;\n",
       "    }\n",
       "\n",
       "    .dataframe tbody tr th {\n",
       "        vertical-align: top;\n",
       "    }\n",
       "\n",
       "    .dataframe thead th {\n",
       "        text-align: right;\n",
       "    }\n",
       "</style>\n",
       "<table border=\"1\" class=\"dataframe\">\n",
       "  <thead>\n",
       "    <tr style=\"text-align: right;\">\n",
       "      <th></th>\n",
       "      <th>view_AVERAGE</th>\n",
       "      <th>view_EXCELLENT</th>\n",
       "      <th>view_FAIR</th>\n",
       "      <th>view_GOOD</th>\n",
       "      <th>view_NONE</th>\n",
       "      <th>view_nan</th>\n",
       "      <th>grade_10_Very_Good</th>\n",
       "      <th>grade_11_Excellent</th>\n",
       "      <th>grade_12_Luxury</th>\n",
       "      <th>grade_13_Mansion</th>\n",
       "      <th>grade_4_Low</th>\n",
       "      <th>grade_5_Fair</th>\n",
       "      <th>grade_6_Low_Average</th>\n",
       "      <th>grade_7_Average</th>\n",
       "      <th>grade_8_Good</th>\n",
       "      <th>grade_9_Better</th>\n",
       "      <th>bedrooms</th>\n",
       "      <th>bathrooms</th>\n",
       "      <th>sqft_living</th>\n",
       "      <th>sqft_lot</th>\n",
       "      <th>yr_built</th>\n",
       "      <th>zipcode</th>\n",
       "      <th>price</th>\n",
       "    </tr>\n",
       "  </thead>\n",
       "  <tbody>\n",
       "    <tr>\n",
       "      <th>14622</th>\n",
       "      <td>-0.22</td>\n",
       "      <td>-0.12</td>\n",
       "      <td>-0.13</td>\n",
       "      <td>-0.15</td>\n",
       "      <td>0.33</td>\n",
       "      <td>-0.05</td>\n",
       "      <td>-0.24</td>\n",
       "      <td>-0.14</td>\n",
       "      <td>-0.07</td>\n",
       "      <td>-0.02</td>\n",
       "      <td>-0.04</td>\n",
       "      <td>-0.10</td>\n",
       "      <td>-0.32</td>\n",
       "      <td>1.18</td>\n",
       "      <td>-0.62</td>\n",
       "      <td>-0.37</td>\n",
       "      <td>0.66</td>\n",
       "      <td>0.49</td>\n",
       "      <td>-0.36</td>\n",
       "      <td>-0.17</td>\n",
       "      <td>0.40</td>\n",
       "      <td>-0.37</td>\n",
       "      <td>-0.56</td>\n",
       "    </tr>\n",
       "    <tr>\n",
       "      <th>1744</th>\n",
       "      <td>-0.22</td>\n",
       "      <td>-0.12</td>\n",
       "      <td>-0.13</td>\n",
       "      <td>-0.15</td>\n",
       "      <td>0.33</td>\n",
       "      <td>-0.05</td>\n",
       "      <td>-0.24</td>\n",
       "      <td>-0.14</td>\n",
       "      <td>-0.07</td>\n",
       "      <td>-0.02</td>\n",
       "      <td>-0.04</td>\n",
       "      <td>-0.10</td>\n",
       "      <td>-0.32</td>\n",
       "      <td>-0.84</td>\n",
       "      <td>-0.62</td>\n",
       "      <td>2.69</td>\n",
       "      <td>0.66</td>\n",
       "      <td>0.49</td>\n",
       "      <td>0.63</td>\n",
       "      <td>-0.24</td>\n",
       "      <td>1.09</td>\n",
       "      <td>-0.92</td>\n",
       "      <td>0.51</td>\n",
       "    </tr>\n",
       "    <tr>\n",
       "      <th>2729</th>\n",
       "      <td>-0.22</td>\n",
       "      <td>-0.12</td>\n",
       "      <td>-0.13</td>\n",
       "      <td>-0.15</td>\n",
       "      <td>0.33</td>\n",
       "      <td>-0.05</td>\n",
       "      <td>-0.24</td>\n",
       "      <td>-0.14</td>\n",
       "      <td>-0.07</td>\n",
       "      <td>-0.02</td>\n",
       "      <td>-0.04</td>\n",
       "      <td>-0.10</td>\n",
       "      <td>-0.32</td>\n",
       "      <td>1.18</td>\n",
       "      <td>-0.62</td>\n",
       "      <td>-0.37</td>\n",
       "      <td>-0.40</td>\n",
       "      <td>-1.46</td>\n",
       "      <td>-0.37</td>\n",
       "      <td>-0.25</td>\n",
       "      <td>-0.82</td>\n",
       "      <td>1.69</td>\n",
       "      <td>-0.70</td>\n",
       "    </tr>\n",
       "    <tr>\n",
       "      <th>13117</th>\n",
       "      <td>-0.22</td>\n",
       "      <td>-0.12</td>\n",
       "      <td>-0.13</td>\n",
       "      <td>-0.15</td>\n",
       "      <td>0.33</td>\n",
       "      <td>-0.05</td>\n",
       "      <td>-0.24</td>\n",
       "      <td>-0.14</td>\n",
       "      <td>-0.07</td>\n",
       "      <td>-0.02</td>\n",
       "      <td>-0.04</td>\n",
       "      <td>-0.10</td>\n",
       "      <td>-0.32</td>\n",
       "      <td>-0.84</td>\n",
       "      <td>1.60</td>\n",
       "      <td>-0.37</td>\n",
       "      <td>0.66</td>\n",
       "      <td>0.49</td>\n",
       "      <td>0.68</td>\n",
       "      <td>-0.25</td>\n",
       "      <td>-0.11</td>\n",
       "      <td>1.09</td>\n",
       "      <td>0.02</td>\n",
       "    </tr>\n",
       "    <tr>\n",
       "      <th>18281</th>\n",
       "      <td>-0.22</td>\n",
       "      <td>-0.12</td>\n",
       "      <td>-0.13</td>\n",
       "      <td>-0.15</td>\n",
       "      <td>0.33</td>\n",
       "      <td>-0.05</td>\n",
       "      <td>-0.24</td>\n",
       "      <td>-0.14</td>\n",
       "      <td>-0.07</td>\n",
       "      <td>-0.02</td>\n",
       "      <td>-0.04</td>\n",
       "      <td>-0.10</td>\n",
       "      <td>-0.32</td>\n",
       "      <td>1.18</td>\n",
       "      <td>-0.62</td>\n",
       "      <td>-0.37</td>\n",
       "      <td>-0.40</td>\n",
       "      <td>-0.48</td>\n",
       "      <td>-0.77</td>\n",
       "      <td>-0.17</td>\n",
       "      <td>-0.99</td>\n",
       "      <td>1.03</td>\n",
       "      <td>-0.32</td>\n",
       "    </tr>\n",
       "  </tbody>\n",
       "</table>\n",
       "</div>"
      ],
      "text/plain": [
       "       view_AVERAGE  view_EXCELLENT  view_FAIR  view_GOOD  view_NONE  \\\n",
       "14622         -0.22           -0.12      -0.13      -0.15       0.33   \n",
       "1744          -0.22           -0.12      -0.13      -0.15       0.33   \n",
       "2729          -0.22           -0.12      -0.13      -0.15       0.33   \n",
       "13117         -0.22           -0.12      -0.13      -0.15       0.33   \n",
       "18281         -0.22           -0.12      -0.13      -0.15       0.33   \n",
       "\n",
       "       view_nan  grade_10_Very_Good  grade_11_Excellent  grade_12_Luxury  \\\n",
       "14622     -0.05               -0.24               -0.14            -0.07   \n",
       "1744      -0.05               -0.24               -0.14            -0.07   \n",
       "2729      -0.05               -0.24               -0.14            -0.07   \n",
       "13117     -0.05               -0.24               -0.14            -0.07   \n",
       "18281     -0.05               -0.24               -0.14            -0.07   \n",
       "\n",
       "       grade_13_Mansion  grade_4_Low  grade_5_Fair  grade_6_Low_Average  \\\n",
       "14622             -0.02        -0.04         -0.10                -0.32   \n",
       "1744              -0.02        -0.04         -0.10                -0.32   \n",
       "2729              -0.02        -0.04         -0.10                -0.32   \n",
       "13117             -0.02        -0.04         -0.10                -0.32   \n",
       "18281             -0.02        -0.04         -0.10                -0.32   \n",
       "\n",
       "       grade_7_Average  grade_8_Good  grade_9_Better  bedrooms  bathrooms  \\\n",
       "14622             1.18         -0.62           -0.37      0.66       0.49   \n",
       "1744             -0.84         -0.62            2.69      0.66       0.49   \n",
       "2729              1.18         -0.62           -0.37     -0.40      -1.46   \n",
       "13117            -0.84          1.60           -0.37      0.66       0.49   \n",
       "18281             1.18         -0.62           -0.37     -0.40      -0.48   \n",
       "\n",
       "       sqft_living  sqft_lot  yr_built  zipcode  price  \n",
       "14622        -0.36     -0.17      0.40    -0.37  -0.56  \n",
       "1744          0.63     -0.24      1.09    -0.92   0.51  \n",
       "2729         -0.37     -0.25     -0.82     1.69  -0.70  \n",
       "13117         0.68     -0.25     -0.11     1.09   0.02  \n",
       "18281        -0.77     -0.17     -0.99     1.03  -0.32  "
      ]
     },
     "execution_count": 48,
     "metadata": {},
     "output_type": "execute_result"
    }
   ],
   "source": [
    "scaled_p_df.head()"
   ]
  },
  {
   "cell_type": "code",
   "execution_count": 49,
   "metadata": {},
   "outputs": [],
   "source": [
    "scaled_p_df.drop(columns = ['view_FAIR', 'grade_4_Low'], inplace = True)"
   ]
  },
  {
   "cell_type": "code",
   "execution_count": 50,
   "metadata": {
    "scrolled": true
   },
   "outputs": [],
   "source": [
    "#cate_parsed.info()"
   ]
  },
  {
   "cell_type": "code",
   "execution_count": 51,
   "metadata": {},
   "outputs": [],
   "source": [
    "#cate_parsed.head()"
   ]
  },
  {
   "cell_type": "code",
   "execution_count": 52,
   "metadata": {},
   "outputs": [],
   "source": [
    "#combinig scale and ohe\n",
    "#scaled_and_parse_df = pd.concat([numbers_scaling, cate_parsed], axis = 1)"
   ]
  },
  {
   "cell_type": "code",
   "execution_count": 53,
   "metadata": {},
   "outputs": [],
   "source": [
    "#scaled_and_parse_df.columns = [x.replace(\" \", \"_\").strip() for x in scaled_and_parse_df.columns]"
   ]
  },
  {
   "cell_type": "code",
   "execution_count": 54,
   "metadata": {},
   "outputs": [
    {
     "data": {
      "image/png": "[encoded data removed]",
      "text/plain": [
       "<Figure size 432x288 with 1 Axes>"
      ]
     },
     "metadata": {
      "needs_background": "light"
     },
     "output_type": "display_data"
    }
   ],
   "source": [
    "fig, ax = plt.subplots()\n",
    "\n",
    "x = scaled_p_df['sqft_living']\n",
    "y = scaled_p_df['price']\n",
    "\n",
    "\n",
    "ax.scatter(x, y);"
   ]
  },
  {
   "cell_type": "code",
   "execution_count": 55,
   "metadata": {},
   "outputs": [
    {
     "data": {
      "text/plain": [
       "array([[1.       , 0.7019173],\n",
       "       [0.7019173, 1.       ]])"
      ]
     },
     "execution_count": 55,
     "metadata": {},
     "output_type": "execute_result"
    }
   ],
   "source": [
    "np.corrcoef(df['sqft_living'],df['price'])"
   ]
  },
  {
   "cell_type": "code",
   "execution_count": 56,
   "metadata": {},
   "outputs": [
    {
     "data": {
      "text/plain": [
       "0.0"
      ]
     },
     "execution_count": 56,
     "metadata": {},
     "output_type": "execute_result"
    }
   ],
   "source": [
    "# Baseline model\n",
    "# Import necessary package\n",
    "from sklearn.dummy import DummyRegressor\n",
    "\n",
    "# Instantiate\n",
    "dummy_lr = DummyRegressor()\n",
    "\n",
    "# Create variables\n",
    "X = scaled_p_df['sqft_living']\n",
    "y = scaled_p_df['price']\n",
    "\n",
    "# Fit\n",
    "dummy_lr.fit(X,y)\n",
    "\n",
    "# Score\n",
    "dummy_lr.score(X,y)"
   ]
  },
  {
   "cell_type": "code",
   "execution_count": 57,
   "metadata": {},
   "outputs": [],
   "source": [
    "#Define X and y variable using scaled & parse dataframe\n",
    "\n",
    "X_s_p = scaled_p_df[['sqft_living']]\n",
    "y_s_p = scaled_p_df[['price']]"
   ]
  },
  {
   "cell_type": "code",
   "execution_count": 58,
   "metadata": {},
   "outputs": [
    {
     "name": "stderr",
     "output_type": "stream",
     "text": [
      "C:\\Users\\xiaoh\\anaconda3\\envs\\learn-env\\lib\\site-packages\\sklearn\\base.py:493: FutureWarning: The feature names should match those that were passed during fit. Starting version 1.2, an error will be raised.\n",
      "Feature names unseen at fit time:\n",
      "- price\n",
      "Feature names seen at fit time, yet now missing:\n",
      "- sqft_living\n",
      "\n",
      "  warnings.warn(message, FutureWarning)\n"
     ]
    },
    {
     "data": {
      "text/plain": [
       "array([[-0.39294888],\n",
       "       [ 0.35717836],\n",
       "       [-0.49195044],\n",
       "       ...,\n",
       "       [ 0.14965585],\n",
       "       [-0.52622021],\n",
       "       [-0.76610862]])"
      ]
     },
     "execution_count": 58,
     "metadata": {},
     "output_type": "execute_result"
    }
   ],
   "source": [
    "sk_lr = LinearRegression()\n",
    "sk_lr.fit(X_s_p, y_s_p)\n",
    "preds = sk_lr.predict(y_s_p)\n",
    "\n",
    "preds"
   ]
  },
  {
   "cell_type": "code",
   "execution_count": 59,
   "metadata": {},
   "outputs": [],
   "source": [
    "X = scaled_p_df['sqft_living']\n",
    "y = scaled_p_df[['price']]"
   ]
  },
  {
   "cell_type": "code",
   "execution_count": 60,
   "metadata": {},
   "outputs": [],
   "source": [
    "X = scaled_p_df['sqft_living']\n",
    "y = scaled_p_df[['price']]\n"
   ]
  },
  {
   "cell_type": "code",
   "execution_count": 61,
   "metadata": {},
   "outputs": [
    {
     "data": {
      "text/html": [
       "<div>\n",
       "<style scoped>\n",
       "    .dataframe tbody tr th:only-of-type {\n",
       "        vertical-align: middle;\n",
       "    }\n",
       "\n",
       "    .dataframe tbody tr th {\n",
       "        vertical-align: top;\n",
       "    }\n",
       "\n",
       "    .dataframe thead th {\n",
       "        text-align: right;\n",
       "    }\n",
       "</style>\n",
       "<table border=\"1\" class=\"dataframe\">\n",
       "  <thead>\n",
       "    <tr style=\"text-align: right;\">\n",
       "      <th></th>\n",
       "      <th>price</th>\n",
       "    </tr>\n",
       "  </thead>\n",
       "  <tbody>\n",
       "    <tr>\n",
       "      <th>14622</th>\n",
       "      <td>-0.17</td>\n",
       "    </tr>\n",
       "    <tr>\n",
       "      <th>1744</th>\n",
       "      <td>0.15</td>\n",
       "    </tr>\n",
       "    <tr>\n",
       "      <th>2729</th>\n",
       "      <td>-0.21</td>\n",
       "    </tr>\n",
       "    <tr>\n",
       "      <th>13117</th>\n",
       "      <td>0.01</td>\n",
       "    </tr>\n",
       "    <tr>\n",
       "      <th>18281</th>\n",
       "      <td>-0.10</td>\n",
       "    </tr>\n",
       "    <tr>\n",
       "      <th>...</th>\n",
       "      <td>...</td>\n",
       "    </tr>\n",
       "    <tr>\n",
       "      <th>13105</th>\n",
       "      <td>-0.20</td>\n",
       "    </tr>\n",
       "    <tr>\n",
       "      <th>17476</th>\n",
       "      <td>-0.22</td>\n",
       "    </tr>\n",
       "    <tr>\n",
       "      <th>9990</th>\n",
       "      <td>0.06</td>\n",
       "    </tr>\n",
       "    <tr>\n",
       "      <th>338</th>\n",
       "      <td>-0.23</td>\n",
       "    </tr>\n",
       "    <tr>\n",
       "      <th>9180</th>\n",
       "      <td>-0.33</td>\n",
       "    </tr>\n",
       "  </tbody>\n",
       "</table>\n",
       "<p>14350 rows × 1 columns</p>\n",
       "</div>"
      ],
      "text/plain": [
       "       price\n",
       "14622  -0.17\n",
       "1744    0.15\n",
       "2729   -0.21\n",
       "13117   0.01\n",
       "18281  -0.10\n",
       "...      ...\n",
       "13105  -0.20\n",
       "17476  -0.22\n",
       "9990    0.06\n",
       "338    -0.23\n",
       "9180   -0.33\n",
       "\n",
       "[14350 rows x 1 columns]"
      ]
     },
     "execution_count": 61,
     "metadata": {},
     "output_type": "execute_result"
    }
   ],
   "source": [
    "X = scaled_p_df['sqft_living']\n",
    "y = scaled_p_df[['price']]\n",
    "resids = y - preds\n",
    "resids"
   ]
  },
  {
   "cell_type": "code",
   "execution_count": 62,
   "metadata": {},
   "outputs": [
    {
     "data": {
      "text/plain": [
       "119"
      ]
     },
     "execution_count": 62,
     "metadata": {},
     "output_type": "execute_result"
    }
   ],
   "source": [
    "#Create out bins\n",
    "\n",
    "bins = int( len(X)**.5)\n",
    "bins"
   ]
  },
  {
   "cell_type": "code",
   "execution_count": 63,
   "metadata": {},
   "outputs": [
    {
     "data": {
      "image/png": "[encoded data removed]",
      "text/plain": [
       "<Figure size 432x288 with 1 Axes>"
      ]
     },
     "metadata": {
      "needs_background": "light"
     },
     "output_type": "display_data"
    }
   ],
   "source": [
    "# Histogram of residuals\n",
    "\n",
    "plt.hist(resids, bins=bins);"
   ]
  },
  {
   "cell_type": "code",
   "execution_count": 64,
   "metadata": {},
   "outputs": [
    {
     "name": "stdout",
     "output_type": "stream",
     "text": [
      "price   5.89\n",
      "dtype: float64\n"
     ]
    },
    {
     "data": {
      "text/plain": [
       "price   -0.38\n",
       "dtype: float64"
      ]
     },
     "execution_count": 64,
     "metadata": {},
     "output_type": "execute_result"
    }
   ],
   "source": [
    "print(resids.max())\n",
    "resids.min()"
   ]
  },
  {
   "cell_type": "code",
   "execution_count": 65,
   "metadata": {},
   "outputs": [
    {
     "data": {
      "text/plain": [
       "<seaborn.axisgrid.FacetGrid at 0x28cd1e9d5b0>"
      ]
     },
     "execution_count": 65,
     "metadata": {},
     "output_type": "execute_result"
    },
    {
     "data": {
      "image/png": "[encoded data removed]",
      "text/plain": [
       "<Figure size 420.875x360 with 1 Axes>"
      ]
     },
     "metadata": {
      "needs_background": "light"
     },
     "output_type": "display_data"
    }
   ],
   "source": [
    "sns.displot(resids, bins=bins, kde=True)"
   ]
  },
  {
   "cell_type": "code",
   "execution_count": 66,
   "metadata": {},
   "outputs": [
    {
     "data": {
      "image/png": "[encoded data removed]",
      "text/plain": [
       "<Figure size 432x288 with 1 Axes>"
      ]
     },
     "metadata": {
      "needs_background": "light"
     },
     "output_type": "display_data"
    }
   ],
   "source": [
    "sm.qqplot(resids, line='r');"
   ]
  },
  {
   "cell_type": "code",
   "execution_count": 67,
   "metadata": {},
   "outputs": [
    {
     "data": {
      "image/png": "[encoded data removed]",
      "text/plain": [
       "<Figure size 432x288 with 1 Axes>"
      ]
     },
     "metadata": {
      "needs_background": "light"
     },
     "output_type": "display_data"
    }
   ],
   "source": [
    "# resid plot sns.resid\n",
    "\n",
    "sns.residplot(x=X, y=y);"
   ]
  },
  {
   "cell_type": "code",
   "execution_count": 68,
   "metadata": {},
   "outputs": [
    {
     "data": {
      "image/png": "[encoded data removed]",
      "text/plain": [
       "<Figure size 432x288 with 1 Axes>"
      ]
     },
     "metadata": {
      "needs_background": "light"
     },
     "output_type": "display_data"
    }
   ],
   "source": [
    "plt.scatter(preds, resids);"
   ]
  },
  {
   "cell_type": "code",
   "execution_count": 69,
   "metadata": {},
   "outputs": [
    {
     "data": {
      "text/plain": [
       "DummyRegressor()"
      ]
     },
     "execution_count": 69,
     "metadata": {},
     "output_type": "execute_result"
    }
   ],
   "source": [
    "#Fit the dummy_regressor\n",
    "\n",
    "dummy_lr.fit(X_s_p,y_s_p)"
   ]
  },
  {
   "cell_type": "code",
   "execution_count": 70,
   "metadata": {},
   "outputs": [
    {
     "data": {
      "text/plain": [
       "0.0"
      ]
     },
     "execution_count": 70,
     "metadata": {},
     "output_type": "execute_result"
    }
   ],
   "source": [
    "# Score it\n",
    "\n",
    "dummy_lr.score(X_s_p,y_s_p)"
   ]
  },
  {
   "cell_type": "code",
   "execution_count": 71,
   "metadata": {},
   "outputs": [
    {
     "data": {
      "text/html": [
       "<table class=\"simpletable\">\n",
       "<caption>OLS Regression Results</caption>\n",
       "<tr>\n",
       "  <th>Dep. Variable:</th>          <td>price</td>      <th>  R-squared:         </th> <td>   0.488</td> \n",
       "</tr>\n",
       "<tr>\n",
       "  <th>Model:</th>                   <td>OLS</td>       <th>  Adj. R-squared:    </th> <td>   0.488</td> \n",
       "</tr>\n",
       "<tr>\n",
       "  <th>Method:</th>             <td>Least Squares</td>  <th>  F-statistic:       </th> <td>1.366e+04</td>\n",
       "</tr>\n",
       "<tr>\n",
       "  <th>Date:</th>             <td>Tue, 29 Mar 2022</td> <th>  Prob (F-statistic):</th>  <td>  0.00</td>  \n",
       "</tr>\n",
       "<tr>\n",
       "  <th>Time:</th>                 <td>13:01:38</td>     <th>  Log-Likelihood:    </th> <td> -15562.</td> \n",
       "</tr>\n",
       "<tr>\n",
       "  <th>No. Observations:</th>      <td> 14350</td>      <th>  AIC:               </th> <td>3.113e+04</td>\n",
       "</tr>\n",
       "<tr>\n",
       "  <th>Df Residuals:</th>          <td> 14348</td>      <th>  BIC:               </th> <td>3.114e+04</td>\n",
       "</tr>\n",
       "<tr>\n",
       "  <th>Df Model:</th>              <td>     1</td>      <th>                     </th>     <td> </td>    \n",
       "</tr>\n",
       "<tr>\n",
       "  <th>Covariance Type:</th>      <td>nonrobust</td>    <th>                     </th>     <td> </td>    \n",
       "</tr>\n",
       "</table>\n",
       "<table class=\"simpletable\">\n",
       "<tr>\n",
       "       <td></td>          <th>coef</th>     <th>std err</th>      <th>t</th>      <th>P>|t|</th>  <th>[0.025</th>    <th>0.975]</th>  \n",
       "</tr>\n",
       "<tr>\n",
       "  <th>Intercept</th>   <td>-9.582e-17</td> <td>    0.006</td> <td> -1.6e-14</td> <td> 1.000</td> <td>   -0.012</td> <td>    0.012</td>\n",
       "</tr>\n",
       "<tr>\n",
       "  <th>sqft_living</th> <td>    0.6984</td> <td>    0.006</td> <td>  116.881</td> <td> 0.000</td> <td>    0.687</td> <td>    0.710</td>\n",
       "</tr>\n",
       "</table>\n",
       "<table class=\"simpletable\">\n",
       "<tr>\n",
       "  <th>Omnibus:</th>       <td>10027.296</td> <th>  Durbin-Watson:     </th>  <td>   1.987</td> \n",
       "</tr>\n",
       "<tr>\n",
       "  <th>Prob(Omnibus):</th>  <td> 0.000</td>   <th>  Jarque-Bera (JB):  </th> <td>388924.106</td>\n",
       "</tr>\n",
       "<tr>\n",
       "  <th>Skew:</th>           <td> 2.880</td>   <th>  Prob(JB):          </th>  <td>    0.00</td> \n",
       "</tr>\n",
       "<tr>\n",
       "  <th>Kurtosis:</th>       <td>27.845</td>   <th>  Cond. No.          </th>  <td>    1.00</td> \n",
       "</tr>\n",
       "</table><br/><br/>Notes:<br/>[1] Standard Errors assume that the covariance matrix of the errors is correctly specified."
      ],
      "text/plain": [
       "<class 'statsmodels.iolib.summary.Summary'>\n",
       "\"\"\"\n",
       "                            OLS Regression Results                            \n",
       "==============================================================================\n",
       "Dep. Variable:                  price   R-squared:                       0.488\n",
       "Model:                            OLS   Adj. R-squared:                  0.488\n",
       "Method:                 Least Squares   F-statistic:                 1.366e+04\n",
       "Date:                Tue, 29 Mar 2022   Prob (F-statistic):               0.00\n",
       "Time:                        13:01:38   Log-Likelihood:                -15562.\n",
       "No. Observations:               14350   AIC:                         3.113e+04\n",
       "Df Residuals:                   14348   BIC:                         3.114e+04\n",
       "Df Model:                           1                                         \n",
       "Covariance Type:            nonrobust                                         \n",
       "===============================================================================\n",
       "                  coef    std err          t      P>|t|      [0.025      0.975]\n",
       "-------------------------------------------------------------------------------\n",
       "Intercept   -9.582e-17      0.006   -1.6e-14      1.000      -0.012       0.012\n",
       "sqft_living     0.6984      0.006    116.881      0.000       0.687       0.710\n",
       "==============================================================================\n",
       "Omnibus:                    10027.296   Durbin-Watson:                   1.987\n",
       "Prob(Omnibus):                  0.000   Jarque-Bera (JB):           388924.106\n",
       "Skew:                           2.880   Prob(JB):                         0.00\n",
       "Kurtosis:                      27.845   Cond. No.                         1.00\n",
       "==============================================================================\n",
       "\n",
       "Notes:\n",
       "[1] Standard Errors assume that the covariance matrix of the errors is correctly specified.\n",
       "\"\"\""
      ]
     },
     "execution_count": 71,
     "metadata": {},
     "output_type": "execute_result"
    }
   ],
   "source": [
    "# Creating a straightforward, initial model --\n",
    "# just for kicks\n",
    "simple_formula = 'price ~ sqft_living'\n",
    "simple_model = ols(formula = simple_formula,\n",
    "                   data = scaled_p_df).fit()\n",
    "simple_mod_summ = simple_model.summary()\n",
    "\n",
    "simple_mod_summ"
   ]
  },
  {
   "cell_type": "code",
   "execution_count": 72,
   "metadata": {},
   "outputs": [
    {
     "data": {
      "text/plain": [
       "<matplotlib.collections.PathCollection at 0x28cd0f27580>"
      ]
     },
     "execution_count": 72,
     "metadata": {},
     "output_type": "execute_result"
    },
    {
     "data": {
      "image/png": "[encoded data removed]",
      "text/plain": [
       "<Figure size 1080x360 with 2 Axes>"
      ]
     },
     "metadata": {
      "needs_background": "light"
     },
     "output_type": "display_data"
    }
   ],
   "source": [
    "fig, ax = plt.subplots(ncols=2,figsize=(15,5))\n",
    "\n",
    "x1 = scaled_p_df[['sqft_living']]\n",
    "y1 = scaled_p_df[['price']]\n",
    "\n",
    "# x2 = scaled_and_parse_df[['bedrooms']]\n",
    "\n",
    "ax[0].scatter(x1, y1)\n",
    "# ax[1].scatter(x2,y1);"
   ]
  },
  {
   "cell_type": "code",
   "execution_count": 73,
   "metadata": {},
   "outputs": [
    {
     "data": {
      "text/html": [
       "<table class=\"simpletable\">\n",
       "<caption>OLS Regression Results</caption>\n",
       "<tr>\n",
       "  <th>Dep. Variable:</th>          <td>price</td>      <th>  R-squared:         </th> <td>   0.488</td> \n",
       "</tr>\n",
       "<tr>\n",
       "  <th>Model:</th>                   <td>OLS</td>       <th>  Adj. R-squared:    </th> <td>   0.488</td> \n",
       "</tr>\n",
       "<tr>\n",
       "  <th>Method:</th>             <td>Least Squares</td>  <th>  F-statistic:       </th> <td>1.366e+04</td>\n",
       "</tr>\n",
       "<tr>\n",
       "  <th>Date:</th>             <td>Tue, 29 Mar 2022</td> <th>  Prob (F-statistic):</th>  <td>  0.00</td>  \n",
       "</tr>\n",
       "<tr>\n",
       "  <th>Time:</th>                 <td>13:01:38</td>     <th>  Log-Likelihood:    </th> <td> -15562.</td> \n",
       "</tr>\n",
       "<tr>\n",
       "  <th>No. Observations:</th>      <td> 14350</td>      <th>  AIC:               </th> <td>3.113e+04</td>\n",
       "</tr>\n",
       "<tr>\n",
       "  <th>Df Residuals:</th>          <td> 14348</td>      <th>  BIC:               </th> <td>3.114e+04</td>\n",
       "</tr>\n",
       "<tr>\n",
       "  <th>Df Model:</th>              <td>     1</td>      <th>                     </th>     <td> </td>    \n",
       "</tr>\n",
       "<tr>\n",
       "  <th>Covariance Type:</th>      <td>nonrobust</td>    <th>                     </th>     <td> </td>    \n",
       "</tr>\n",
       "</table>\n",
       "<table class=\"simpletable\">\n",
       "<tr>\n",
       "       <td></td>          <th>coef</th>     <th>std err</th>      <th>t</th>      <th>P>|t|</th>  <th>[0.025</th>    <th>0.975]</th>  \n",
       "</tr>\n",
       "<tr>\n",
       "  <th>Intercept</th>   <td>-9.582e-17</td> <td>    0.006</td> <td> -1.6e-14</td> <td> 1.000</td> <td>   -0.012</td> <td>    0.012</td>\n",
       "</tr>\n",
       "<tr>\n",
       "  <th>sqft_living</th> <td>    0.6984</td> <td>    0.006</td> <td>  116.881</td> <td> 0.000</td> <td>    0.687</td> <td>    0.710</td>\n",
       "</tr>\n",
       "</table>\n",
       "<table class=\"simpletable\">\n",
       "<tr>\n",
       "  <th>Omnibus:</th>       <td>10027.296</td> <th>  Durbin-Watson:     </th>  <td>   1.987</td> \n",
       "</tr>\n",
       "<tr>\n",
       "  <th>Prob(Omnibus):</th>  <td> 0.000</td>   <th>  Jarque-Bera (JB):  </th> <td>388924.106</td>\n",
       "</tr>\n",
       "<tr>\n",
       "  <th>Skew:</th>           <td> 2.880</td>   <th>  Prob(JB):          </th>  <td>    0.00</td> \n",
       "</tr>\n",
       "<tr>\n",
       "  <th>Kurtosis:</th>       <td>27.845</td>   <th>  Cond. No.          </th>  <td>    1.00</td> \n",
       "</tr>\n",
       "</table><br/><br/>Notes:<br/>[1] Standard Errors assume that the covariance matrix of the errors is correctly specified."
      ],
      "text/plain": [
       "<class 'statsmodels.iolib.summary.Summary'>\n",
       "\"\"\"\n",
       "                            OLS Regression Results                            \n",
       "==============================================================================\n",
       "Dep. Variable:                  price   R-squared:                       0.488\n",
       "Model:                            OLS   Adj. R-squared:                  0.488\n",
       "Method:                 Least Squares   F-statistic:                 1.366e+04\n",
       "Date:                Tue, 29 Mar 2022   Prob (F-statistic):               0.00\n",
       "Time:                        13:01:38   Log-Likelihood:                -15562.\n",
       "No. Observations:               14350   AIC:                         3.113e+04\n",
       "Df Residuals:                   14348   BIC:                         3.114e+04\n",
       "Df Model:                           1                                         \n",
       "Covariance Type:            nonrobust                                         \n",
       "===============================================================================\n",
       "                  coef    std err          t      P>|t|      [0.025      0.975]\n",
       "-------------------------------------------------------------------------------\n",
       "Intercept   -9.582e-17      0.006   -1.6e-14      1.000      -0.012       0.012\n",
       "sqft_living     0.6984      0.006    116.881      0.000       0.687       0.710\n",
       "==============================================================================\n",
       "Omnibus:                    10027.296   Durbin-Watson:                   1.987\n",
       "Prob(Omnibus):                  0.000   Jarque-Bera (JB):           388924.106\n",
       "Skew:                           2.880   Prob(JB):                         0.00\n",
       "Kurtosis:                      27.845   Cond. No.                         1.00\n",
       "==============================================================================\n",
       "\n",
       "Notes:\n",
       "[1] Standard Errors assume that the covariance matrix of the errors is correctly specified.\n",
       "\"\"\""
      ]
     },
     "execution_count": 73,
     "metadata": {},
     "output_type": "execute_result"
    }
   ],
   "source": [
    "simple_formula3 = 'price ~ sqft_living'\n",
    "simple_model3 = ols(formula = simple_formula3,\n",
    "                   data = scaled_p_df).fit()\n",
    "simple_mod_summ3 = simple_model3.summary()\n",
    "\n",
    "simple_mod_summ3"
   ]
  },
  {
   "cell_type": "code",
   "execution_count": 74,
   "metadata": {},
   "outputs": [
    {
     "data": {
      "text/html": [
       "<table class=\"simpletable\">\n",
       "<caption>OLS Regression Results</caption>\n",
       "<tr>\n",
       "  <th>Dep. Variable:</th>          <td>price</td>      <th>  R-squared:         </th> <td>   0.593</td> \n",
       "</tr>\n",
       "<tr>\n",
       "  <th>Model:</th>                   <td>OLS</td>       <th>  Adj. R-squared:    </th> <td>   0.593</td> \n",
       "</tr>\n",
       "<tr>\n",
       "  <th>Method:</th>             <td>Least Squares</td>  <th>  F-statistic:       </th> <td>   1899.</td> \n",
       "</tr>\n",
       "<tr>\n",
       "  <th>Date:</th>             <td>Tue, 29 Mar 2022</td> <th>  Prob (F-statistic):</th>  <td>  0.00</td>  \n",
       "</tr>\n",
       "<tr>\n",
       "  <th>Time:</th>                 <td>13:01:38</td>     <th>  Log-Likelihood:    </th> <td> -13912.</td> \n",
       "</tr>\n",
       "<tr>\n",
       "  <th>No. Observations:</th>      <td> 14350</td>      <th>  AIC:               </th> <td>2.785e+04</td>\n",
       "</tr>\n",
       "<tr>\n",
       "  <th>Df Residuals:</th>          <td> 14338</td>      <th>  BIC:               </th> <td>2.794e+04</td>\n",
       "</tr>\n",
       "<tr>\n",
       "  <th>Df Model:</th>              <td>    11</td>      <th>                     </th>     <td> </td>    \n",
       "</tr>\n",
       "<tr>\n",
       "  <th>Covariance Type:</th>      <td>nonrobust</td>    <th>                     </th>     <td> </td>    \n",
       "</tr>\n",
       "</table>\n",
       "<table class=\"simpletable\">\n",
       "<tr>\n",
       "           <td></td>              <th>coef</th>     <th>std err</th>      <th>t</th>      <th>P>|t|</th>  <th>[0.025</th>    <th>0.975]</th>  \n",
       "</tr>\n",
       "<tr>\n",
       "  <th>Intercept</th>           <td>-9.614e-17</td> <td>    0.005</td> <td> -1.8e-14</td> <td> 1.000</td> <td>   -0.010</td> <td>    0.010</td>\n",
       "</tr>\n",
       "<tr>\n",
       "  <th>sqft_living</th>         <td>    0.3787</td> <td>    0.008</td> <td>   45.193</td> <td> 0.000</td> <td>    0.362</td> <td>    0.395</td>\n",
       "</tr>\n",
       "<tr>\n",
       "  <th>view_GOOD</th>           <td>   -0.0024</td> <td>    0.006</td> <td>   -0.393</td> <td> 0.694</td> <td>   -0.014</td> <td>    0.009</td>\n",
       "</tr>\n",
       "<tr>\n",
       "  <th>view_NONE</th>           <td>   -0.1578</td> <td>    0.006</td> <td>  -25.536</td> <td> 0.000</td> <td>   -0.170</td> <td>   -0.146</td>\n",
       "</tr>\n",
       "<tr>\n",
       "  <th>grade_11_Excellent</th>  <td>    0.0860</td> <td>    0.006</td> <td>   13.843</td> <td> 0.000</td> <td>    0.074</td> <td>    0.098</td>\n",
       "</tr>\n",
       "<tr>\n",
       "  <th>grade_12_Luxury</th>     <td>    0.1311</td> <td>    0.006</td> <td>   23.088</td> <td> 0.000</td> <td>    0.120</td> <td>    0.142</td>\n",
       "</tr>\n",
       "<tr>\n",
       "  <th>grade_13_Mansion</th>    <td>    0.1334</td> <td>    0.005</td> <td>   24.613</td> <td> 0.000</td> <td>    0.123</td> <td>    0.144</td>\n",
       "</tr>\n",
       "<tr>\n",
       "  <th>grade_5_Fair</th>        <td>   -0.1079</td> <td>    0.006</td> <td>  -17.380</td> <td> 0.000</td> <td>   -0.120</td> <td>   -0.096</td>\n",
       "</tr>\n",
       "<tr>\n",
       "  <th>grade_6_Low_Average</th> <td>   -0.2926</td> <td>    0.010</td> <td>  -28.328</td> <td> 0.000</td> <td>   -0.313</td> <td>   -0.272</td>\n",
       "</tr>\n",
       "<tr>\n",
       "  <th>grade_7_Average</th>     <td>   -0.4673</td> <td>    0.014</td> <td>  -32.468</td> <td> 0.000</td> <td>   -0.495</td> <td>   -0.439</td>\n",
       "</tr>\n",
       "<tr>\n",
       "  <th>grade_8_Good</th>        <td>   -0.3619</td> <td>    0.012</td> <td>  -29.212</td> <td> 0.000</td> <td>   -0.386</td> <td>   -0.338</td>\n",
       "</tr>\n",
       "<tr>\n",
       "  <th>grade_9_Better</th>      <td>   -0.1573</td> <td>    0.009</td> <td>  -17.129</td> <td> 0.000</td> <td>   -0.175</td> <td>   -0.139</td>\n",
       "</tr>\n",
       "</table>\n",
       "<table class=\"simpletable\">\n",
       "<tr>\n",
       "  <th>Omnibus:</th>       <td>9360.776</td> <th>  Durbin-Watson:     </th>  <td>   1.992</td> \n",
       "</tr>\n",
       "<tr>\n",
       "  <th>Prob(Omnibus):</th>  <td> 0.000</td>  <th>  Jarque-Bera (JB):  </th> <td>399175.526</td>\n",
       "</tr>\n",
       "<tr>\n",
       "  <th>Skew:</th>           <td> 2.558</td>  <th>  Prob(JB):          </th>  <td>    0.00</td> \n",
       "</tr>\n",
       "<tr>\n",
       "  <th>Kurtosis:</th>       <td>28.327</td>  <th>  Cond. No.          </th>  <td>    6.15</td> \n",
       "</tr>\n",
       "</table><br/><br/>Notes:<br/>[1] Standard Errors assume that the covariance matrix of the errors is correctly specified."
      ],
      "text/plain": [
       "<class 'statsmodels.iolib.summary.Summary'>\n",
       "\"\"\"\n",
       "                            OLS Regression Results                            \n",
       "==============================================================================\n",
       "Dep. Variable:                  price   R-squared:                       0.593\n",
       "Model:                            OLS   Adj. R-squared:                  0.593\n",
       "Method:                 Least Squares   F-statistic:                     1899.\n",
       "Date:                Tue, 29 Mar 2022   Prob (F-statistic):               0.00\n",
       "Time:                        13:01:38   Log-Likelihood:                -13912.\n",
       "No. Observations:               14350   AIC:                         2.785e+04\n",
       "Df Residuals:                   14338   BIC:                         2.794e+04\n",
       "Df Model:                          11                                         \n",
       "Covariance Type:            nonrobust                                         \n",
       "=======================================================================================\n",
       "                          coef    std err          t      P>|t|      [0.025      0.975]\n",
       "---------------------------------------------------------------------------------------\n",
       "Intercept           -9.614e-17      0.005   -1.8e-14      1.000      -0.010       0.010\n",
       "sqft_living             0.3787      0.008     45.193      0.000       0.362       0.395\n",
       "view_GOOD              -0.0024      0.006     -0.393      0.694      -0.014       0.009\n",
       "view_NONE              -0.1578      0.006    -25.536      0.000      -0.170      -0.146\n",
       "grade_11_Excellent      0.0860      0.006     13.843      0.000       0.074       0.098\n",
       "grade_12_Luxury         0.1311      0.006     23.088      0.000       0.120       0.142\n",
       "grade_13_Mansion        0.1334      0.005     24.613      0.000       0.123       0.144\n",
       "grade_5_Fair           -0.1079      0.006    -17.380      0.000      -0.120      -0.096\n",
       "grade_6_Low_Average    -0.2926      0.010    -28.328      0.000      -0.313      -0.272\n",
       "grade_7_Average        -0.4673      0.014    -32.468      0.000      -0.495      -0.439\n",
       "grade_8_Good           -0.3619      0.012    -29.212      0.000      -0.386      -0.338\n",
       "grade_9_Better         -0.1573      0.009    -17.129      0.000      -0.175      -0.139\n",
       "==============================================================================\n",
       "Omnibus:                     9360.776   Durbin-Watson:                   1.992\n",
       "Prob(Omnibus):                  0.000   Jarque-Bera (JB):           399175.526\n",
       "Skew:                           2.558   Prob(JB):                         0.00\n",
       "Kurtosis:                      28.327   Cond. No.                         6.15\n",
       "==============================================================================\n",
       "\n",
       "Notes:\n",
       "[1] Standard Errors assume that the covariance matrix of the errors is correctly specified.\n",
       "\"\"\""
      ]
     },
     "execution_count": 74,
     "metadata": {},
     "output_type": "execute_result"
    }
   ],
   "source": [
    "simple_formula4 = 'price ~ sqft_living + view_GOOD + view_NONE + grade_11_Excellent + grade_12_Luxury + grade_13_Mansion + grade_5_Fair + grade_6_Low_Average + grade_7_Average + grade_8_Good+ grade_9_Better'          \n",
    "\n",
    "simple_model4 = ols(formula = simple_formula4,\n",
    "                   data = scaled_p_df).fit()\n",
    "\n",
    "simple_mod_summ4 = simple_model4.summary()\n",
    "\n",
    "simple_mod_summ4"
   ]
  },
  {
   "cell_type": "code",
   "execution_count": 75,
   "metadata": {},
   "outputs": [
    {
     "data": {
      "text/html": [
       "<table class=\"simpletable\">\n",
       "<caption>OLS Regression Results</caption>\n",
       "<tr>\n",
       "  <th>Dep. Variable:</th>          <td>price</td>      <th>  R-squared:         </th> <td>   0.535</td> \n",
       "</tr>\n",
       "<tr>\n",
       "  <th>Model:</th>                   <td>OLS</td>       <th>  Adj. R-squared:    </th> <td>   0.535</td> \n",
       "</tr>\n",
       "<tr>\n",
       "  <th>Method:</th>             <td>Least Squares</td>  <th>  F-statistic:       </th> <td>   1650.</td> \n",
       "</tr>\n",
       "<tr>\n",
       "  <th>Date:</th>             <td>Tue, 29 Mar 2022</td> <th>  Prob (F-statistic):</th>  <td>  0.00</td>  \n",
       "</tr>\n",
       "<tr>\n",
       "  <th>Time:</th>                 <td>13:01:38</td>     <th>  Log-Likelihood:    </th> <td> -14867.</td> \n",
       "</tr>\n",
       "<tr>\n",
       "  <th>No. Observations:</th>      <td> 14350</td>      <th>  AIC:               </th> <td>2.976e+04</td>\n",
       "</tr>\n",
       "<tr>\n",
       "  <th>Df Residuals:</th>          <td> 14339</td>      <th>  BIC:               </th> <td>2.984e+04</td>\n",
       "</tr>\n",
       "<tr>\n",
       "  <th>Df Model:</th>              <td>    10</td>      <th>                     </th>     <td> </td>    \n",
       "</tr>\n",
       "<tr>\n",
       "  <th>Covariance Type:</th>      <td>nonrobust</td>    <th>                     </th>     <td> </td>    \n",
       "</tr>\n",
       "</table>\n",
       "<table class=\"simpletable\">\n",
       "<tr>\n",
       "           <td></td>              <th>coef</th>     <th>std err</th>      <th>t</th>      <th>P>|t|</th>  <th>[0.025</th>    <th>0.975]</th>  \n",
       "</tr>\n",
       "<tr>\n",
       "  <th>Intercept</th>           <td>-9.614e-17</td> <td>    0.006</td> <td>-1.69e-14</td> <td> 1.000</td> <td>   -0.011</td> <td>    0.011</td>\n",
       "</tr>\n",
       "<tr>\n",
       "  <th>view_GOOD</th>           <td>   -0.0002</td> <td>    0.006</td> <td>   -0.028</td> <td> 0.978</td> <td>   -0.013</td> <td>    0.012</td>\n",
       "</tr>\n",
       "<tr>\n",
       "  <th>view_NONE</th>           <td>   -0.1885</td> <td>    0.007</td> <td>  -28.728</td> <td> 0.000</td> <td>   -0.201</td> <td>   -0.176</td>\n",
       "</tr>\n",
       "<tr>\n",
       "  <th>grade_11_Excellent</th>  <td>    0.1366</td> <td>    0.007</td> <td>   20.900</td> <td> 0.000</td> <td>    0.124</td> <td>    0.149</td>\n",
       "</tr>\n",
       "<tr>\n",
       "  <th>grade_12_Luxury</th>     <td>    0.1865</td> <td>    0.006</td> <td>   31.466</td> <td> 0.000</td> <td>    0.175</td> <td>    0.198</td>\n",
       "</tr>\n",
       "<tr>\n",
       "  <th>grade_13_Mansion</th>    <td>    0.1712</td> <td>    0.006</td> <td>   29.909</td> <td> 0.000</td> <td>    0.160</td> <td>    0.182</td>\n",
       "</tr>\n",
       "<tr>\n",
       "  <th>grade_5_Fair</th>        <td>   -0.2082</td> <td>    0.006</td> <td>  -33.609</td> <td> 0.000</td> <td>   -0.220</td> <td>   -0.196</td>\n",
       "</tr>\n",
       "<tr>\n",
       "  <th>grade_6_Low_Average</th> <td>   -0.5594</td> <td>    0.009</td> <td>  -61.762</td> <td> 0.000</td> <td>   -0.577</td> <td>   -0.542</td>\n",
       "</tr>\n",
       "<tr>\n",
       "  <th>grade_7_Average</th>     <td>   -0.8150</td> <td>    0.013</td> <td>  -62.703</td> <td> 0.000</td> <td>   -0.841</td> <td>   -0.790</td>\n",
       "</tr>\n",
       "<tr>\n",
       "  <th>grade_8_Good</th>        <td>   -0.5891</td> <td>    0.012</td> <td>  -48.675</td> <td> 0.000</td> <td>   -0.613</td> <td>   -0.565</td>\n",
       "</tr>\n",
       "<tr>\n",
       "  <th>grade_9_Better</th>      <td>   -0.2343</td> <td>    0.010</td> <td>  -24.301</td> <td> 0.000</td> <td>   -0.253</td> <td>   -0.215</td>\n",
       "</tr>\n",
       "</table>\n",
       "<table class=\"simpletable\">\n",
       "<tr>\n",
       "  <th>Omnibus:</th>       <td>10662.505</td> <th>  Durbin-Watson:     </th>  <td>   2.010</td> \n",
       "</tr>\n",
       "<tr>\n",
       "  <th>Prob(Omnibus):</th>  <td> 0.000</td>   <th>  Jarque-Bera (JB):  </th> <td>687729.522</td>\n",
       "</tr>\n",
       "<tr>\n",
       "  <th>Skew:</th>           <td> 2.985</td>   <th>  Prob(JB):          </th>  <td>    0.00</td> \n",
       "</tr>\n",
       "<tr>\n",
       "  <th>Kurtosis:</th>       <td>36.385</td>   <th>  Cond. No.          </th>  <td>    4.76</td> \n",
       "</tr>\n",
       "</table><br/><br/>Notes:<br/>[1] Standard Errors assume that the covariance matrix of the errors is correctly specified."
      ],
      "text/plain": [
       "<class 'statsmodels.iolib.summary.Summary'>\n",
       "\"\"\"\n",
       "                            OLS Regression Results                            \n",
       "==============================================================================\n",
       "Dep. Variable:                  price   R-squared:                       0.535\n",
       "Model:                            OLS   Adj. R-squared:                  0.535\n",
       "Method:                 Least Squares   F-statistic:                     1650.\n",
       "Date:                Tue, 29 Mar 2022   Prob (F-statistic):               0.00\n",
       "Time:                        13:01:38   Log-Likelihood:                -14867.\n",
       "No. Observations:               14350   AIC:                         2.976e+04\n",
       "Df Residuals:                   14339   BIC:                         2.984e+04\n",
       "Df Model:                          10                                         \n",
       "Covariance Type:            nonrobust                                         \n",
       "=======================================================================================\n",
       "                          coef    std err          t      P>|t|      [0.025      0.975]\n",
       "---------------------------------------------------------------------------------------\n",
       "Intercept           -9.614e-17      0.006  -1.69e-14      1.000      -0.011       0.011\n",
       "view_GOOD              -0.0002      0.006     -0.028      0.978      -0.013       0.012\n",
       "view_NONE              -0.1885      0.007    -28.728      0.000      -0.201      -0.176\n",
       "grade_11_Excellent      0.1366      0.007     20.900      0.000       0.124       0.149\n",
       "grade_12_Luxury         0.1865      0.006     31.466      0.000       0.175       0.198\n",
       "grade_13_Mansion        0.1712      0.006     29.909      0.000       0.160       0.182\n",
       "grade_5_Fair           -0.2082      0.006    -33.609      0.000      -0.220      -0.196\n",
       "grade_6_Low_Average    -0.5594      0.009    -61.762      0.000      -0.577      -0.542\n",
       "grade_7_Average        -0.8150      0.013    -62.703      0.000      -0.841      -0.790\n",
       "grade_8_Good           -0.5891      0.012    -48.675      0.000      -0.613      -0.565\n",
       "grade_9_Better         -0.2343      0.010    -24.301      0.000      -0.253      -0.215\n",
       "==============================================================================\n",
       "Omnibus:                    10662.505   Durbin-Watson:                   2.010\n",
       "Prob(Omnibus):                  0.000   Jarque-Bera (JB):           687729.522\n",
       "Skew:                           2.985   Prob(JB):                         0.00\n",
       "Kurtosis:                      36.385   Cond. No.                         4.76\n",
       "==============================================================================\n",
       "\n",
       "Notes:\n",
       "[1] Standard Errors assume that the covariance matrix of the errors is correctly specified.\n",
       "\"\"\""
      ]
     },
     "execution_count": 75,
     "metadata": {},
     "output_type": "execute_result"
    }
   ],
   "source": [
    "simple_formula4 = 'price ~  view_GOOD + view_NONE + grade_11_Excellent + grade_12_Luxury + grade_13_Mansion + grade_5_Fair + grade_6_Low_Average + grade_7_Average + grade_8_Good+ grade_9_Better'          \n",
    "\n",
    "simple_model4 = ols(formula = simple_formula4,\n",
    "                   data = scaled_p_df).fit()\n",
    "\n",
    "simple_mod_summ4 = simple_model4.summary()\n",
    "\n",
    "simple_mod_summ4"
   ]
  },
  {
   "cell_type": "code",
   "execution_count": 76,
   "metadata": {},
   "outputs": [
    {
     "data": {
      "text/html": [
       "<table class=\"simpletable\">\n",
       "<caption>OLS Regression Results</caption>\n",
       "<tr>\n",
       "  <th>Dep. Variable:</th>          <td>price</td>      <th>  R-squared:         </th> <td>   0.570</td> \n",
       "</tr>\n",
       "<tr>\n",
       "  <th>Model:</th>                   <td>OLS</td>       <th>  Adj. R-squared:    </th> <td>   0.570</td> \n",
       "</tr>\n",
       "<tr>\n",
       "  <th>Method:</th>             <td>Least Squares</td>  <th>  F-statistic:       </th> <td>   2115.</td> \n",
       "</tr>\n",
       "<tr>\n",
       "  <th>Date:</th>             <td>Tue, 29 Mar 2022</td> <th>  Prob (F-statistic):</th>  <td>  0.00</td>  \n",
       "</tr>\n",
       "<tr>\n",
       "  <th>Time:</th>                 <td>13:01:38</td>     <th>  Log-Likelihood:    </th> <td> -14301.</td> \n",
       "</tr>\n",
       "<tr>\n",
       "  <th>No. Observations:</th>      <td> 14350</td>      <th>  AIC:               </th> <td>2.862e+04</td>\n",
       "</tr>\n",
       "<tr>\n",
       "  <th>Df Residuals:</th>          <td> 14340</td>      <th>  BIC:               </th> <td>2.870e+04</td>\n",
       "</tr>\n",
       "<tr>\n",
       "  <th>Df Model:</th>              <td>     9</td>      <th>                     </th>     <td> </td>    \n",
       "</tr>\n",
       "<tr>\n",
       "  <th>Covariance Type:</th>      <td>nonrobust</td>    <th>                     </th>     <td> </td>    \n",
       "</tr>\n",
       "</table>\n",
       "<table class=\"simpletable\">\n",
       "<tr>\n",
       "           <td></td>              <th>coef</th>     <th>std err</th>      <th>t</th>      <th>P>|t|</th>  <th>[0.025</th>    <th>0.975]</th>  \n",
       "</tr>\n",
       "<tr>\n",
       "  <th>Intercept</th>           <td>-9.614e-17</td> <td>    0.005</td> <td>-1.76e-14</td> <td> 1.000</td> <td>   -0.011</td> <td>    0.011</td>\n",
       "</tr>\n",
       "<tr>\n",
       "  <th>sqft_living</th>         <td>    0.4088</td> <td>    0.009</td> <td>   47.861</td> <td> 0.000</td> <td>    0.392</td> <td>    0.426</td>\n",
       "</tr>\n",
       "<tr>\n",
       "  <th>grade_11_Excellent</th>  <td>    0.0903</td> <td>    0.006</td> <td>   14.151</td> <td> 0.000</td> <td>    0.078</td> <td>    0.103</td>\n",
       "</tr>\n",
       "<tr>\n",
       "  <th>grade_12_Luxury</th>     <td>    0.1371</td> <td>    0.006</td> <td>   23.519</td> <td> 0.000</td> <td>    0.126</td> <td>    0.149</td>\n",
       "</tr>\n",
       "<tr>\n",
       "  <th>grade_13_Mansion</th>    <td>    0.1357</td> <td>    0.006</td> <td>   24.376</td> <td> 0.000</td> <td>    0.125</td> <td>    0.147</td>\n",
       "</tr>\n",
       "<tr>\n",
       "  <th>grade_5_Fair</th>        <td>   -0.1103</td> <td>    0.006</td> <td>  -17.307</td> <td> 0.000</td> <td>   -0.123</td> <td>   -0.098</td>\n",
       "</tr>\n",
       "<tr>\n",
       "  <th>grade_6_Low_Average</th> <td>   -0.3007</td> <td>    0.011</td> <td>  -28.363</td> <td> 0.000</td> <td>   -0.322</td> <td>   -0.280</td>\n",
       "</tr>\n",
       "<tr>\n",
       "  <th>grade_7_Average</th>     <td>   -0.4883</td> <td>    0.015</td> <td>  -33.085</td> <td> 0.000</td> <td>   -0.517</td> <td>   -0.459</td>\n",
       "</tr>\n",
       "<tr>\n",
       "  <th>grade_8_Good</th>        <td>   -0.3748</td> <td>    0.013</td> <td>  -29.476</td> <td> 0.000</td> <td>   -0.400</td> <td>   -0.350</td>\n",
       "</tr>\n",
       "<tr>\n",
       "  <th>grade_9_Better</th>      <td>   -0.1625</td> <td>    0.009</td> <td>  -17.227</td> <td> 0.000</td> <td>   -0.181</td> <td>   -0.144</td>\n",
       "</tr>\n",
       "</table>\n",
       "<table class=\"simpletable\">\n",
       "<tr>\n",
       "  <th>Omnibus:</th>       <td>9640.891</td> <th>  Durbin-Watson:     </th>  <td>   1.985</td> \n",
       "</tr>\n",
       "<tr>\n",
       "  <th>Prob(Omnibus):</th>  <td> 0.000</td>  <th>  Jarque-Bera (JB):  </th> <td>395021.267</td>\n",
       "</tr>\n",
       "<tr>\n",
       "  <th>Skew:</th>           <td> 2.691</td>  <th>  Prob(JB):          </th>  <td>    0.00</td> \n",
       "</tr>\n",
       "<tr>\n",
       "  <th>Kurtosis:</th>       <td>28.134</td>  <th>  Cond. No.          </th>  <td>    5.79</td> \n",
       "</tr>\n",
       "</table><br/><br/>Notes:<br/>[1] Standard Errors assume that the covariance matrix of the errors is correctly specified."
      ],
      "text/plain": [
       "<class 'statsmodels.iolib.summary.Summary'>\n",
       "\"\"\"\n",
       "                            OLS Regression Results                            \n",
       "==============================================================================\n",
       "Dep. Variable:                  price   R-squared:                       0.570\n",
       "Model:                            OLS   Adj. R-squared:                  0.570\n",
       "Method:                 Least Squares   F-statistic:                     2115.\n",
       "Date:                Tue, 29 Mar 2022   Prob (F-statistic):               0.00\n",
       "Time:                        13:01:38   Log-Likelihood:                -14301.\n",
       "No. Observations:               14350   AIC:                         2.862e+04\n",
       "Df Residuals:                   14340   BIC:                         2.870e+04\n",
       "Df Model:                           9                                         \n",
       "Covariance Type:            nonrobust                                         \n",
       "=======================================================================================\n",
       "                          coef    std err          t      P>|t|      [0.025      0.975]\n",
       "---------------------------------------------------------------------------------------\n",
       "Intercept           -9.614e-17      0.005  -1.76e-14      1.000      -0.011       0.011\n",
       "sqft_living             0.4088      0.009     47.861      0.000       0.392       0.426\n",
       "grade_11_Excellent      0.0903      0.006     14.151      0.000       0.078       0.103\n",
       "grade_12_Luxury         0.1371      0.006     23.519      0.000       0.126       0.149\n",
       "grade_13_Mansion        0.1357      0.006     24.376      0.000       0.125       0.147\n",
       "grade_5_Fair           -0.1103      0.006    -17.307      0.000      -0.123      -0.098\n",
       "grade_6_Low_Average    -0.3007      0.011    -28.363      0.000      -0.322      -0.280\n",
       "grade_7_Average        -0.4883      0.015    -33.085      0.000      -0.517      -0.459\n",
       "grade_8_Good           -0.3748      0.013    -29.476      0.000      -0.400      -0.350\n",
       "grade_9_Better         -0.1625      0.009    -17.227      0.000      -0.181      -0.144\n",
       "==============================================================================\n",
       "Omnibus:                     9640.891   Durbin-Watson:                   1.985\n",
       "Prob(Omnibus):                  0.000   Jarque-Bera (JB):           395021.267\n",
       "Skew:                           2.691   Prob(JB):                         0.00\n",
       "Kurtosis:                      28.134   Cond. No.                         5.79\n",
       "==============================================================================\n",
       "\n",
       "Notes:\n",
       "[1] Standard Errors assume that the covariance matrix of the errors is correctly specified.\n",
       "\"\"\""
      ]
     },
     "execution_count": 76,
     "metadata": {},
     "output_type": "execute_result"
    }
   ],
   "source": [
    "simple_formula4 = 'price ~ sqft_living + grade_11_Excellent + grade_12_Luxury + grade_13_Mansion + grade_5_Fair + grade_6_Low_Average + grade_7_Average + grade_8_Good+ grade_9_Better'          \n",
    "\n",
    "simple_model4 = ols(formula = simple_formula4,\n",
    "                   data = scaled_p_df).fit()\n",
    "\n",
    "simple_mod_summ4 = simple_model4.summary()\n",
    "\n",
    "simple_mod_summ4"
   ]
  },
  {
   "cell_type": "code",
   "execution_count": 77,
   "metadata": {
    "scrolled": true
   },
   "outputs": [
    {
     "data": {
      "text/html": [
       "<table class=\"simpletable\">\n",
       "<caption>OLS Regression Results</caption>\n",
       "<tr>\n",
       "  <th>Dep. Variable:</th>          <td>price</td>      <th>  R-squared:         </th> <td>   0.517</td> \n",
       "</tr>\n",
       "<tr>\n",
       "  <th>Model:</th>                   <td>OLS</td>       <th>  Adj. R-squared:    </th> <td>   0.517</td> \n",
       "</tr>\n",
       "<tr>\n",
       "  <th>Method:</th>             <td>Least Squares</td>  <th>  F-statistic:       </th> <td>   5119.</td> \n",
       "</tr>\n",
       "<tr>\n",
       "  <th>Date:</th>             <td>Tue, 29 Mar 2022</td> <th>  Prob (F-statistic):</th>  <td>  0.00</td>  \n",
       "</tr>\n",
       "<tr>\n",
       "  <th>Time:</th>                 <td>13:01:38</td>     <th>  Log-Likelihood:    </th> <td> -15140.</td> \n",
       "</tr>\n",
       "<tr>\n",
       "  <th>No. Observations:</th>      <td> 14350</td>      <th>  AIC:               </th> <td>3.029e+04</td>\n",
       "</tr>\n",
       "<tr>\n",
       "  <th>Df Residuals:</th>          <td> 14346</td>      <th>  BIC:               </th> <td>3.032e+04</td>\n",
       "</tr>\n",
       "<tr>\n",
       "  <th>Df Model:</th>              <td>     3</td>      <th>                     </th>     <td> </td>    \n",
       "</tr>\n",
       "<tr>\n",
       "  <th>Covariance Type:</th>      <td>nonrobust</td>    <th>                     </th>     <td> </td>    \n",
       "</tr>\n",
       "</table>\n",
       "<table class=\"simpletable\">\n",
       "<tr>\n",
       "       <td></td>          <th>coef</th>     <th>std err</th>      <th>t</th>      <th>P>|t|</th>  <th>[0.025</th>    <th>0.975]</th>  \n",
       "</tr>\n",
       "<tr>\n",
       "  <th>Intercept</th>   <td>-9.614e-17</td> <td>    0.006</td> <td>-1.66e-14</td> <td> 1.000</td> <td>   -0.011</td> <td>    0.011</td>\n",
       "</tr>\n",
       "<tr>\n",
       "  <th>sqft_living</th> <td>    0.6514</td> <td>    0.006</td> <td>  108.219</td> <td> 0.000</td> <td>    0.640</td> <td>    0.663</td>\n",
       "</tr>\n",
       "<tr>\n",
       "  <th>view_GOOD</th>   <td>    0.0055</td> <td>    0.007</td> <td>    0.846</td> <td> 0.397</td> <td>   -0.007</td> <td>    0.018</td>\n",
       "</tr>\n",
       "<tr>\n",
       "  <th>view_NONE</th>   <td>   -0.1749</td> <td>    0.007</td> <td>  -26.047</td> <td> 0.000</td> <td>   -0.188</td> <td>   -0.162</td>\n",
       "</tr>\n",
       "</table>\n",
       "<table class=\"simpletable\">\n",
       "<tr>\n",
       "  <th>Omnibus:</th>       <td>9859.835</td> <th>  Durbin-Watson:     </th>  <td>   1.993</td> \n",
       "</tr>\n",
       "<tr>\n",
       "  <th>Prob(Omnibus):</th>  <td> 0.000</td>  <th>  Jarque-Bera (JB):  </th> <td>413957.207</td>\n",
       "</tr>\n",
       "<tr>\n",
       "  <th>Skew:</th>           <td> 2.778</td>  <th>  Prob(JB):          </th>  <td>    0.00</td> \n",
       "</tr>\n",
       "<tr>\n",
       "  <th>Kurtosis:</th>       <td>28.719</td>  <th>  Cond. No.          </th>  <td>    1.76</td> \n",
       "</tr>\n",
       "</table><br/><br/>Notes:<br/>[1] Standard Errors assume that the covariance matrix of the errors is correctly specified."
      ],
      "text/plain": [
       "<class 'statsmodels.iolib.summary.Summary'>\n",
       "\"\"\"\n",
       "                            OLS Regression Results                            \n",
       "==============================================================================\n",
       "Dep. Variable:                  price   R-squared:                       0.517\n",
       "Model:                            OLS   Adj. R-squared:                  0.517\n",
       "Method:                 Least Squares   F-statistic:                     5119.\n",
       "Date:                Tue, 29 Mar 2022   Prob (F-statistic):               0.00\n",
       "Time:                        13:01:38   Log-Likelihood:                -15140.\n",
       "No. Observations:               14350   AIC:                         3.029e+04\n",
       "Df Residuals:                   14346   BIC:                         3.032e+04\n",
       "Df Model:                           3                                         \n",
       "Covariance Type:            nonrobust                                         \n",
       "===============================================================================\n",
       "                  coef    std err          t      P>|t|      [0.025      0.975]\n",
       "-------------------------------------------------------------------------------\n",
       "Intercept   -9.614e-17      0.006  -1.66e-14      1.000      -0.011       0.011\n",
       "sqft_living     0.6514      0.006    108.219      0.000       0.640       0.663\n",
       "view_GOOD       0.0055      0.007      0.846      0.397      -0.007       0.018\n",
       "view_NONE      -0.1749      0.007    -26.047      0.000      -0.188      -0.162\n",
       "==============================================================================\n",
       "Omnibus:                     9859.835   Durbin-Watson:                   1.993\n",
       "Prob(Omnibus):                  0.000   Jarque-Bera (JB):           413957.207\n",
       "Skew:                           2.778   Prob(JB):                         0.00\n",
       "Kurtosis:                      28.719   Cond. No.                         1.76\n",
       "==============================================================================\n",
       "\n",
       "Notes:\n",
       "[1] Standard Errors assume that the covariance matrix of the errors is correctly specified.\n",
       "\"\"\""
      ]
     },
     "execution_count": 77,
     "metadata": {},
     "output_type": "execute_result"
    }
   ],
   "source": [
    "simple_formula4 = 'price ~ sqft_living + view_GOOD + view_NONE'          \n",
    "\n",
    "simple_model4 = ols(formula = simple_formula4,\n",
    "                   data = scaled_p_df).fit()\n",
    "\n",
    "simple_mod_summ4 = simple_model4.summary()\n",
    "\n",
    "simple_mod_summ4"
   ]
  },
  {
   "cell_type": "code",
   "execution_count": 78,
   "metadata": {},
   "outputs": [],
   "source": [
    "no_y_train_df = scaled_p_df.drop(columns = 'price')"
   ]
  },
  {
   "cell_type": "code",
   "execution_count": 83,
   "metadata": {},
   "outputs": [],
   "source": [
    "#just bedroom, bathrooms, sqft_lot, no zipcode\n",
    "no_zip_yr_built = no_y_train_df.drop(columns = ['zipcode', 'yr_built'])"
   ]
  },
  {
   "cell_type": "code",
   "execution_count": 84,
   "metadata": {
    "scrolled": true
   },
   "outputs": [
    {
     "data": {
      "text/html": [
       "<table class=\"simpletable\">\n",
       "<caption>OLS Regression Results</caption>\n",
       "<tr>\n",
       "  <th>Dep. Variable:</th>          <td>price</td>      <th>  R-squared:         </th>  <td>   0.615</td>  \n",
       "</tr>\n",
       "<tr>\n",
       "  <th>Model:</th>                   <td>OLS</td>       <th>  Adj. R-squared:    </th>  <td>   0.614</td>  \n",
       "</tr>\n",
       "<tr>\n",
       "  <th>Method:</th>             <td>Least Squares</td>  <th>  F-statistic:       </th>  <td>   1271.</td>  \n",
       "</tr>\n",
       "<tr>\n",
       "  <th>Date:</th>             <td>Tue, 29 Mar 2022</td> <th>  Prob (F-statistic):</th>   <td>  0.00</td>   \n",
       "</tr>\n",
       "<tr>\n",
       "  <th>Time:</th>                 <td>13:05:25</td>     <th>  Log-Likelihood:    </th> <td>-1.9738e+05</td>\n",
       "</tr>\n",
       "<tr>\n",
       "  <th>No. Observations:</th>      <td> 14350</td>      <th>  AIC:               </th>  <td>3.948e+05</td> \n",
       "</tr>\n",
       "<tr>\n",
       "  <th>Df Residuals:</th>          <td> 14331</td>      <th>  BIC:               </th>  <td>3.949e+05</td> \n",
       "</tr>\n",
       "<tr>\n",
       "  <th>Df Model:</th>              <td>    18</td>      <th>                     </th>      <td> </td>     \n",
       "</tr>\n",
       "<tr>\n",
       "  <th>Covariance Type:</th>      <td>nonrobust</td>    <th>                     </th>      <td> </td>     \n",
       "</tr>\n",
       "</table>\n",
       "<table class=\"simpletable\">\n",
       "<tr>\n",
       "           <td></td>              <th>coef</th>     <th>std err</th>      <th>t</th>      <th>P>|t|</th>  <th>[0.025</th>    <th>0.975]</th>  \n",
       "</tr>\n",
       "<tr>\n",
       "  <th>const</th>               <td> 5.414e+05</td> <td> 1901.585</td> <td>  284.707</td> <td> 0.000</td> <td> 5.38e+05</td> <td> 5.45e+05</td>\n",
       "</tr>\n",
       "<tr>\n",
       "  <th>view_AVERAGE</th>        <td>-1.427e+04</td> <td> 3613.656</td> <td>   -3.950</td> <td> 0.000</td> <td>-2.14e+04</td> <td>-7190.874</td>\n",
       "</tr>\n",
       "<tr>\n",
       "  <th>view_EXCELLENT</th>      <td> 4.549e+04</td> <td> 2576.259</td> <td>   17.656</td> <td> 0.000</td> <td> 4.04e+04</td> <td> 5.05e+04</td>\n",
       "</tr>\n",
       "<tr>\n",
       "  <th>view_GOOD</th>           <td> 3414.5157</td> <td> 2958.417</td> <td>    1.154</td> <td> 0.248</td> <td>-2384.366</td> <td> 9213.397</td>\n",
       "</tr>\n",
       "<tr>\n",
       "  <th>view_NONE</th>           <td> -5.11e+04</td> <td> 4573.592</td> <td>  -11.173</td> <td> 0.000</td> <td>-6.01e+04</td> <td>-4.21e+04</td>\n",
       "</tr>\n",
       "<tr>\n",
       "  <th>view_nan</th>            <td>-7117.0143</td> <td> 2066.584</td> <td>   -3.444</td> <td> 0.001</td> <td>-1.12e+04</td> <td>-3066.242</td>\n",
       "</tr>\n",
       "<tr>\n",
       "  <th>grade_10_Very_Good</th>  <td> 9.684e+04</td> <td>  1.2e+04</td> <td>    8.068</td> <td> 0.000</td> <td> 7.33e+04</td> <td>  1.2e+05</td>\n",
       "</tr>\n",
       "<tr>\n",
       "  <th>grade_11_Excellent</th>  <td> 8.891e+04</td> <td> 7424.398</td> <td>   11.976</td> <td> 0.000</td> <td> 7.44e+04</td> <td> 1.03e+05</td>\n",
       "</tr>\n",
       "<tr>\n",
       "  <th>grade_12_Luxury</th>     <td> 7.282e+04</td> <td> 4118.315</td> <td>   17.683</td> <td> 0.000</td> <td> 6.48e+04</td> <td> 8.09e+04</td>\n",
       "</tr>\n",
       "<tr>\n",
       "  <th>grade_13_Mansion</th>    <td> 5.747e+04</td> <td> 2289.198</td> <td>   25.105</td> <td> 0.000</td> <td>  5.3e+04</td> <td>  6.2e+04</td>\n",
       "</tr>\n",
       "<tr>\n",
       "  <th>grade_5_Fair</th>        <td> 2961.2790</td> <td> 5597.328</td> <td>    0.529</td> <td> 0.597</td> <td>-8010.209</td> <td> 1.39e+04</td>\n",
       "</tr>\n",
       "<tr>\n",
       "  <th>grade_6_Low_Average</th> <td> 1.744e+04</td> <td> 1.54e+04</td> <td>    1.134</td> <td> 0.257</td> <td>-1.27e+04</td> <td> 4.76e+04</td>\n",
       "</tr>\n",
       "<tr>\n",
       "  <th>grade_7_Average</th>     <td> 4.342e+04</td> <td> 2.59e+04</td> <td>    1.677</td> <td> 0.094</td> <td>-7340.519</td> <td> 9.42e+04</td>\n",
       "</tr>\n",
       "<tr>\n",
       "  <th>grade_8_Good</th>        <td> 6.379e+04</td> <td> 2.37e+04</td> <td>    2.693</td> <td> 0.007</td> <td> 1.74e+04</td> <td>  1.1e+05</td>\n",
       "</tr>\n",
       "<tr>\n",
       "  <th>grade_9_Better</th>      <td> 8.425e+04</td> <td> 1.73e+04</td> <td>    4.856</td> <td> 0.000</td> <td> 5.02e+04</td> <td> 1.18e+05</td>\n",
       "</tr>\n",
       "<tr>\n",
       "  <th>bedrooms</th>            <td>-1.503e+04</td> <td> 2450.401</td> <td>   -6.135</td> <td> 0.000</td> <td>-1.98e+04</td> <td>-1.02e+04</td>\n",
       "</tr>\n",
       "<tr>\n",
       "  <th>bathrooms</th>           <td>-5276.1553</td> <td> 3087.812</td> <td>   -1.709</td> <td> 0.088</td> <td>-1.13e+04</td> <td>  776.355</td>\n",
       "</tr>\n",
       "<tr>\n",
       "  <th>sqft_living</th>         <td> 1.498e+05</td> <td> 4011.250</td> <td>   37.353</td> <td> 0.000</td> <td> 1.42e+05</td> <td> 1.58e+05</td>\n",
       "</tr>\n",
       "<tr>\n",
       "  <th>sqft_lot</th>            <td>-1.514e+04</td> <td> 1949.575</td> <td>   -7.765</td> <td> 0.000</td> <td> -1.9e+04</td> <td>-1.13e+04</td>\n",
       "</tr>\n",
       "</table>\n",
       "<table class=\"simpletable\">\n",
       "<tr>\n",
       "  <th>Omnibus:</th>       <td>9029.743</td> <th>  Durbin-Watson:     </th>  <td>   2.003</td> \n",
       "</tr>\n",
       "<tr>\n",
       "  <th>Prob(Omnibus):</th>  <td> 0.000</td>  <th>  Jarque-Bera (JB):  </th> <td>419881.220</td>\n",
       "</tr>\n",
       "<tr>\n",
       "  <th>Skew:</th>           <td> 2.392</td>  <th>  Prob(JB):          </th>  <td>    0.00</td> \n",
       "</tr>\n",
       "<tr>\n",
       "  <th>Kurtosis:</th>       <td>29.064</td>  <th>  Cond. No.          </th>  <td>    42.0</td> \n",
       "</tr>\n",
       "</table><br/><br/>Notes:<br/>[1] Standard Errors assume that the covariance matrix of the errors is correctly specified."
      ],
      "text/plain": [
       "<class 'statsmodels.iolib.summary.Summary'>\n",
       "\"\"\"\n",
       "                            OLS Regression Results                            \n",
       "==============================================================================\n",
       "Dep. Variable:                  price   R-squared:                       0.615\n",
       "Model:                            OLS   Adj. R-squared:                  0.614\n",
       "Method:                 Least Squares   F-statistic:                     1271.\n",
       "Date:                Tue, 29 Mar 2022   Prob (F-statistic):               0.00\n",
       "Time:                        13:05:25   Log-Likelihood:            -1.9738e+05\n",
       "No. Observations:               14350   AIC:                         3.948e+05\n",
       "Df Residuals:                   14331   BIC:                         3.949e+05\n",
       "Df Model:                          18                                         \n",
       "Covariance Type:            nonrobust                                         \n",
       "=======================================================================================\n",
       "                          coef    std err          t      P>|t|      [0.025      0.975]\n",
       "---------------------------------------------------------------------------------------\n",
       "const                5.414e+05   1901.585    284.707      0.000    5.38e+05    5.45e+05\n",
       "view_AVERAGE        -1.427e+04   3613.656     -3.950      0.000   -2.14e+04   -7190.874\n",
       "view_EXCELLENT       4.549e+04   2576.259     17.656      0.000    4.04e+04    5.05e+04\n",
       "view_GOOD            3414.5157   2958.417      1.154      0.248   -2384.366    9213.397\n",
       "view_NONE            -5.11e+04   4573.592    -11.173      0.000   -6.01e+04   -4.21e+04\n",
       "view_nan            -7117.0143   2066.584     -3.444      0.001   -1.12e+04   -3066.242\n",
       "grade_10_Very_Good   9.684e+04    1.2e+04      8.068      0.000    7.33e+04     1.2e+05\n",
       "grade_11_Excellent   8.891e+04   7424.398     11.976      0.000    7.44e+04    1.03e+05\n",
       "grade_12_Luxury      7.282e+04   4118.315     17.683      0.000    6.48e+04    8.09e+04\n",
       "grade_13_Mansion     5.747e+04   2289.198     25.105      0.000     5.3e+04     6.2e+04\n",
       "grade_5_Fair         2961.2790   5597.328      0.529      0.597   -8010.209    1.39e+04\n",
       "grade_6_Low_Average  1.744e+04   1.54e+04      1.134      0.257   -1.27e+04    4.76e+04\n",
       "grade_7_Average      4.342e+04   2.59e+04      1.677      0.094   -7340.519    9.42e+04\n",
       "grade_8_Good         6.379e+04   2.37e+04      2.693      0.007    1.74e+04     1.1e+05\n",
       "grade_9_Better       8.425e+04   1.73e+04      4.856      0.000    5.02e+04    1.18e+05\n",
       "bedrooms            -1.503e+04   2450.401     -6.135      0.000   -1.98e+04   -1.02e+04\n",
       "bathrooms           -5276.1553   3087.812     -1.709      0.088   -1.13e+04     776.355\n",
       "sqft_living          1.498e+05   4011.250     37.353      0.000    1.42e+05    1.58e+05\n",
       "sqft_lot            -1.514e+04   1949.575     -7.765      0.000    -1.9e+04   -1.13e+04\n",
       "==============================================================================\n",
       "Omnibus:                     9029.743   Durbin-Watson:                   2.003\n",
       "Prob(Omnibus):                  0.000   Jarque-Bera (JB):           419881.220\n",
       "Skew:                           2.392   Prob(JB):                         0.00\n",
       "Kurtosis:                      29.064   Cond. No.                         42.0\n",
       "==============================================================================\n",
       "\n",
       "Notes:\n",
       "[1] Standard Errors assume that the covariance matrix of the errors is correctly specified.\n",
       "\"\"\""
      ]
     },
     "execution_count": 84,
     "metadata": {},
     "output_type": "execute_result"
    }
   ],
   "source": [
    "all_var = sm.OLS(y_train, sm.add_constant(no_zip_yr_built)).fit()\n",
    "all_var.summary()"
   ]
  },
  {
   "cell_type": "code",
   "execution_count": null,
   "metadata": {},
   "outputs": [],
   "source": []
  }
 ],
 "metadata": {
  "kernelspec": {
   "display_name": "Python (learn-env)",
   "language": "python",
   "name": "learn-env"
  },
  "language_info": {
   "codemirror_mode": {
    "name": "ipython",
    "version": 3
   },
   "file_extension": ".py",
   "mimetype": "text/x-python",
   "name": "python",
   "nbconvert_exporter": "python",
   "pygments_lexer": "ipython3",
   "version": "3.8.5"
  }
 },
 "nbformat": 4,
 "nbformat_minor": 4
}
