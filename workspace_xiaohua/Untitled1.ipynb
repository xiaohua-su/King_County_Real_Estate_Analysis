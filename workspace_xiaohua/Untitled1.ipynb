{
 "cells": [
  {
   "cell_type": "code",
   "execution_count": 1,
   "metadata": {},
   "outputs": [],
   "source": [
    "import pandas as pd\n",
    "import numpy as np\n",
    "import matplotlib.pyplot as plt\n",
    "import seaborn as sns\n",
    "from scipy import stats\n",
    "\n",
    "from sklearn.preprocessing import OneHotEncoder, StandardScaler\n",
    "from sklearn.datasets import make_regression\n",
    "from sklearn.linear_model import LinearRegression\n",
    "from sklearn.dummy import DummyRegressor\n",
    "import sklearn.metrics as metrics\n",
    "from sklearn.metrics import r2_score\n",
    "\n",
    "# from random import gauss\n",
    "# from mpl_toolkits.mplot3d import Axes3D\n",
    "\n",
    "from statsmodels.formula.api import ols\n",
    "import statsmodels.api as sm\n",
    "\n",
    "from statsmodels.stats.multicomp import pairwise_tukeyhsd\n",
    "from sklearn.model_selection import train_test_split\n",
    "\n",
    "%matplotlib inline"
   ]
  },
  {
   "cell_type": "code",
   "execution_count": 2,
   "metadata": {},
   "outputs": [],
   "source": [
    "# Shows *all* columns in dataframe, i.e. does not truncate horizontally\n",
    "pd.set_option('display.max_columns', None)\n",
    "\n",
    "# Converts from scientific notation to standard form (applied to every df in\n",
    "# this notebook) and rounds to two decimal places\n",
    "pd.set_option('display.float_format', lambda x: '%.2f' % x)"
   ]
  },
  {
   "cell_type": "code",
   "execution_count": 3,
   "metadata": {},
   "outputs": [
    {
     "data": {
      "text/plain": [
       "Index(['id', 'date', 'price', 'bedrooms', 'bathrooms', 'sqft_living',\n",
       "       'sqft_lot', 'floors', 'waterfront', 'view', 'condition', 'grade',\n",
       "       'sqft_above', 'sqft_basement', 'yr_built', 'yr_renovated', 'zipcode',\n",
       "       'lat', 'long', 'sqft_living15', 'sqft_lot15'],\n",
       "      dtype='object')"
      ]
     },
     "execution_count": 3,
     "metadata": {},
     "output_type": "execute_result"
    }
   ],
   "source": [
    "df = pd.read_csv('../data/kc_house_data.csv')\n",
    "\n",
    "# Listing out column names\n",
    "df.columns"
   ]
  },
  {
   "cell_type": "code",
   "execution_count": 4,
   "metadata": {},
   "outputs": [],
   "source": [
    "# Converting column `date` to datetime64[ns] from type string/object\n",
    "df['date'] = df['date'].astype('datetime64[ns]')"
   ]
  },
  {
   "cell_type": "code",
   "execution_count": 5,
   "metadata": {},
   "outputs": [],
   "source": [
    "df_copy = df.copy()"
   ]
  },
  {
   "cell_type": "code",
   "execution_count": 6,
   "metadata": {},
   "outputs": [
    {
     "data": {
      "text/plain": [
       "795000620     3\n",
       "1825069031    2\n",
       "2019200220    2\n",
       "7129304540    2\n",
       "1781500435    2\n",
       "             ..\n",
       "7812801125    1\n",
       "4364700875    1\n",
       "3021059276    1\n",
       "880000205     1\n",
       "1777500160    1\n",
       "Name: id, Length: 21420, dtype: int64"
      ]
     },
     "execution_count": 6,
     "metadata": {},
     "output_type": "execute_result"
    }
   ],
   "source": [
    "df_copy['id'].value_counts()"
   ]
  },
  {
   "cell_type": "code",
   "execution_count": 7,
   "metadata": {},
   "outputs": [],
   "source": [
    "df_copy = df_copy.sort_values(by=['id', 'date'])\n",
    "df_copy = df_copy.drop_duplicates(subset=['id'], keep='last')"
   ]
  },
  {
   "cell_type": "code",
   "execution_count": 8,
   "metadata": {},
   "outputs": [],
   "source": [
    "#looking at correlations\n",
    "#fig, ax = plt.subplots(figsize=(15,15))\n",
    "#heat = sns.heatmap(df_copy.corr(), annot = True)"
   ]
  },
  {
   "cell_type": "code",
   "execution_count": 9,
   "metadata": {},
   "outputs": [
    {
     "data": {
      "text/html": [
       "<div>\n",
       "<style scoped>\n",
       "    .dataframe tbody tr th:only-of-type {\n",
       "        vertical-align: middle;\n",
       "    }\n",
       "\n",
       "    .dataframe tbody tr th {\n",
       "        vertical-align: top;\n",
       "    }\n",
       "\n",
       "    .dataframe thead th {\n",
       "        text-align: right;\n",
       "    }\n",
       "</style>\n",
       "<table border=\"1\" class=\"dataframe\">\n",
       "  <thead>\n",
       "    <tr style=\"text-align: right;\">\n",
       "      <th></th>\n",
       "      <th>id</th>\n",
       "      <th>date</th>\n",
       "      <th>price</th>\n",
       "      <th>bedrooms</th>\n",
       "      <th>bathrooms</th>\n",
       "      <th>sqft_living</th>\n",
       "      <th>sqft_lot</th>\n",
       "      <th>floors</th>\n",
       "      <th>waterfront</th>\n",
       "      <th>view</th>\n",
       "      <th>condition</th>\n",
       "      <th>grade</th>\n",
       "      <th>sqft_above</th>\n",
       "      <th>sqft_basement</th>\n",
       "      <th>yr_built</th>\n",
       "      <th>yr_renovated</th>\n",
       "      <th>zipcode</th>\n",
       "      <th>lat</th>\n",
       "      <th>long</th>\n",
       "      <th>sqft_living15</th>\n",
       "      <th>sqft_lot15</th>\n",
       "    </tr>\n",
       "  </thead>\n",
       "  <tbody>\n",
       "    <tr>\n",
       "      <th>7245</th>\n",
       "      <td>6762700020</td>\n",
       "      <td>2014-10-13</td>\n",
       "      <td>7700000.00</td>\n",
       "      <td>6</td>\n",
       "      <td>8.00</td>\n",
       "      <td>12050</td>\n",
       "      <td>27600</td>\n",
       "      <td>2.50</td>\n",
       "      <td>NO</td>\n",
       "      <td>GOOD</td>\n",
       "      <td>Good</td>\n",
       "      <td>13 Mansion</td>\n",
       "      <td>8570</td>\n",
       "      <td>3480.0</td>\n",
       "      <td>1910</td>\n",
       "      <td>1987.00</td>\n",
       "      <td>98102</td>\n",
       "      <td>47.63</td>\n",
       "      <td>-122.32</td>\n",
       "      <td>3940</td>\n",
       "      <td>8800</td>\n",
       "    </tr>\n",
       "    <tr>\n",
       "      <th>3910</th>\n",
       "      <td>9808700762</td>\n",
       "      <td>2014-06-11</td>\n",
       "      <td>7060000.00</td>\n",
       "      <td>5</td>\n",
       "      <td>4.50</td>\n",
       "      <td>10040</td>\n",
       "      <td>37325</td>\n",
       "      <td>2.00</td>\n",
       "      <td>YES</td>\n",
       "      <td>AVERAGE</td>\n",
       "      <td>Average</td>\n",
       "      <td>11 Excellent</td>\n",
       "      <td>7680</td>\n",
       "      <td>2360.0</td>\n",
       "      <td>1940</td>\n",
       "      <td>2001.00</td>\n",
       "      <td>98004</td>\n",
       "      <td>47.65</td>\n",
       "      <td>-122.21</td>\n",
       "      <td>3930</td>\n",
       "      <td>25449</td>\n",
       "    </tr>\n",
       "    <tr>\n",
       "      <th>9245</th>\n",
       "      <td>9208900037</td>\n",
       "      <td>2014-09-19</td>\n",
       "      <td>6890000.00</td>\n",
       "      <td>6</td>\n",
       "      <td>7.75</td>\n",
       "      <td>9890</td>\n",
       "      <td>31374</td>\n",
       "      <td>2.00</td>\n",
       "      <td>NO</td>\n",
       "      <td>EXCELLENT</td>\n",
       "      <td>Average</td>\n",
       "      <td>13 Mansion</td>\n",
       "      <td>8860</td>\n",
       "      <td>1030.0</td>\n",
       "      <td>2001</td>\n",
       "      <td>0.00</td>\n",
       "      <td>98039</td>\n",
       "      <td>47.63</td>\n",
       "      <td>-122.24</td>\n",
       "      <td>4540</td>\n",
       "      <td>42730</td>\n",
       "    </tr>\n",
       "    <tr>\n",
       "      <th>4407</th>\n",
       "      <td>2470100110</td>\n",
       "      <td>2014-08-04</td>\n",
       "      <td>5570000.00</td>\n",
       "      <td>5</td>\n",
       "      <td>5.75</td>\n",
       "      <td>9200</td>\n",
       "      <td>35069</td>\n",
       "      <td>2.00</td>\n",
       "      <td>NO</td>\n",
       "      <td>NONE</td>\n",
       "      <td>Average</td>\n",
       "      <td>13 Mansion</td>\n",
       "      <td>6200</td>\n",
       "      <td>3000.0</td>\n",
       "      <td>2001</td>\n",
       "      <td>nan</td>\n",
       "      <td>98039</td>\n",
       "      <td>47.63</td>\n",
       "      <td>-122.23</td>\n",
       "      <td>3560</td>\n",
       "      <td>24345</td>\n",
       "    </tr>\n",
       "    <tr>\n",
       "      <th>1446</th>\n",
       "      <td>8907500070</td>\n",
       "      <td>2015-04-13</td>\n",
       "      <td>5350000.00</td>\n",
       "      <td>5</td>\n",
       "      <td>5.00</td>\n",
       "      <td>8000</td>\n",
       "      <td>23985</td>\n",
       "      <td>2.00</td>\n",
       "      <td>NO</td>\n",
       "      <td>EXCELLENT</td>\n",
       "      <td>Average</td>\n",
       "      <td>12 Luxury</td>\n",
       "      <td>6720</td>\n",
       "      <td>1280.0</td>\n",
       "      <td>2009</td>\n",
       "      <td>0.00</td>\n",
       "      <td>98004</td>\n",
       "      <td>47.62</td>\n",
       "      <td>-122.22</td>\n",
       "      <td>4600</td>\n",
       "      <td>21750</td>\n",
       "    </tr>\n",
       "    <tr>\n",
       "      <th>...</th>\n",
       "      <td>...</td>\n",
       "      <td>...</td>\n",
       "      <td>...</td>\n",
       "      <td>...</td>\n",
       "      <td>...</td>\n",
       "      <td>...</td>\n",
       "      <td>...</td>\n",
       "      <td>...</td>\n",
       "      <td>...</td>\n",
       "      <td>...</td>\n",
       "      <td>...</td>\n",
       "      <td>...</td>\n",
       "      <td>...</td>\n",
       "      <td>...</td>\n",
       "      <td>...</td>\n",
       "      <td>...</td>\n",
       "      <td>...</td>\n",
       "      <td>...</td>\n",
       "      <td>...</td>\n",
       "      <td>...</td>\n",
       "      <td>...</td>\n",
       "    </tr>\n",
       "    <tr>\n",
       "      <th>18453</th>\n",
       "      <td>7999600180</td>\n",
       "      <td>2014-05-29</td>\n",
       "      <td>83000.00</td>\n",
       "      <td>2</td>\n",
       "      <td>1.00</td>\n",
       "      <td>900</td>\n",
       "      <td>8580</td>\n",
       "      <td>1.00</td>\n",
       "      <td>NO</td>\n",
       "      <td>NONE</td>\n",
       "      <td>Average</td>\n",
       "      <td>5 Fair</td>\n",
       "      <td>900</td>\n",
       "      <td>0.0</td>\n",
       "      <td>1918</td>\n",
       "      <td>0.00</td>\n",
       "      <td>98168</td>\n",
       "      <td>47.47</td>\n",
       "      <td>-122.27</td>\n",
       "      <td>2060</td>\n",
       "      <td>6533</td>\n",
       "    </tr>\n",
       "    <tr>\n",
       "      <th>2139</th>\n",
       "      <td>1623049041</td>\n",
       "      <td>2014-05-08</td>\n",
       "      <td>82500.00</td>\n",
       "      <td>2</td>\n",
       "      <td>1.00</td>\n",
       "      <td>520</td>\n",
       "      <td>22334</td>\n",
       "      <td>1.00</td>\n",
       "      <td>NO</td>\n",
       "      <td>NONE</td>\n",
       "      <td>Fair</td>\n",
       "      <td>5 Fair</td>\n",
       "      <td>520</td>\n",
       "      <td>0.0</td>\n",
       "      <td>1951</td>\n",
       "      <td>0.00</td>\n",
       "      <td>98168</td>\n",
       "      <td>47.48</td>\n",
       "      <td>-122.30</td>\n",
       "      <td>1572</td>\n",
       "      <td>10570</td>\n",
       "    </tr>\n",
       "    <tr>\n",
       "      <th>16184</th>\n",
       "      <td>3028200080</td>\n",
       "      <td>2015-03-24</td>\n",
       "      <td>81000.00</td>\n",
       "      <td>2</td>\n",
       "      <td>1.00</td>\n",
       "      <td>730</td>\n",
       "      <td>9975</td>\n",
       "      <td>1.00</td>\n",
       "      <td>NaN</td>\n",
       "      <td>NONE</td>\n",
       "      <td>Poor</td>\n",
       "      <td>5 Fair</td>\n",
       "      <td>730</td>\n",
       "      <td>0.0</td>\n",
       "      <td>1943</td>\n",
       "      <td>0.00</td>\n",
       "      <td>98168</td>\n",
       "      <td>47.48</td>\n",
       "      <td>-122.31</td>\n",
       "      <td>860</td>\n",
       "      <td>9000</td>\n",
       "    </tr>\n",
       "    <tr>\n",
       "      <th>465</th>\n",
       "      <td>8658300340</td>\n",
       "      <td>2014-05-23</td>\n",
       "      <td>80000.00</td>\n",
       "      <td>1</td>\n",
       "      <td>0.75</td>\n",
       "      <td>430</td>\n",
       "      <td>5050</td>\n",
       "      <td>1.00</td>\n",
       "      <td>NaN</td>\n",
       "      <td>NONE</td>\n",
       "      <td>Fair</td>\n",
       "      <td>4 Low</td>\n",
       "      <td>430</td>\n",
       "      <td>0.0</td>\n",
       "      <td>1912</td>\n",
       "      <td>0.00</td>\n",
       "      <td>98014</td>\n",
       "      <td>47.65</td>\n",
       "      <td>-121.91</td>\n",
       "      <td>1200</td>\n",
       "      <td>7500</td>\n",
       "    </tr>\n",
       "    <tr>\n",
       "      <th>15279</th>\n",
       "      <td>40000362</td>\n",
       "      <td>2014-05-06</td>\n",
       "      <td>78000.00</td>\n",
       "      <td>2</td>\n",
       "      <td>1.00</td>\n",
       "      <td>780</td>\n",
       "      <td>16344</td>\n",
       "      <td>1.00</td>\n",
       "      <td>NO</td>\n",
       "      <td>NONE</td>\n",
       "      <td>Poor</td>\n",
       "      <td>5 Fair</td>\n",
       "      <td>780</td>\n",
       "      <td>0.0</td>\n",
       "      <td>1942</td>\n",
       "      <td>nan</td>\n",
       "      <td>98168</td>\n",
       "      <td>47.47</td>\n",
       "      <td>-122.28</td>\n",
       "      <td>1700</td>\n",
       "      <td>10387</td>\n",
       "    </tr>\n",
       "  </tbody>\n",
       "</table>\n",
       "<p>21420 rows × 21 columns</p>\n",
       "</div>"
      ],
      "text/plain": [
       "               id       date      price  bedrooms  bathrooms  sqft_living  \\\n",
       "7245   6762700020 2014-10-13 7700000.00         6       8.00        12050   \n",
       "3910   9808700762 2014-06-11 7060000.00         5       4.50        10040   \n",
       "9245   9208900037 2014-09-19 6890000.00         6       7.75         9890   \n",
       "4407   2470100110 2014-08-04 5570000.00         5       5.75         9200   \n",
       "1446   8907500070 2015-04-13 5350000.00         5       5.00         8000   \n",
       "...           ...        ...        ...       ...        ...          ...   \n",
       "18453  7999600180 2014-05-29   83000.00         2       1.00          900   \n",
       "2139   1623049041 2014-05-08   82500.00         2       1.00          520   \n",
       "16184  3028200080 2015-03-24   81000.00         2       1.00          730   \n",
       "465    8658300340 2014-05-23   80000.00         1       0.75          430   \n",
       "15279    40000362 2014-05-06   78000.00         2       1.00          780   \n",
       "\n",
       "       sqft_lot  floors waterfront       view condition         grade  \\\n",
       "7245      27600    2.50         NO       GOOD      Good    13 Mansion   \n",
       "3910      37325    2.00        YES    AVERAGE   Average  11 Excellent   \n",
       "9245      31374    2.00         NO  EXCELLENT   Average    13 Mansion   \n",
       "4407      35069    2.00         NO       NONE   Average    13 Mansion   \n",
       "1446      23985    2.00         NO  EXCELLENT   Average     12 Luxury   \n",
       "...         ...     ...        ...        ...       ...           ...   \n",
       "18453      8580    1.00         NO       NONE   Average        5 Fair   \n",
       "2139      22334    1.00         NO       NONE      Fair        5 Fair   \n",
       "16184      9975    1.00        NaN       NONE      Poor        5 Fair   \n",
       "465        5050    1.00        NaN       NONE      Fair         4 Low   \n",
       "15279     16344    1.00         NO       NONE      Poor        5 Fair   \n",
       "\n",
       "       sqft_above sqft_basement  yr_built  yr_renovated  zipcode   lat  \\\n",
       "7245         8570        3480.0      1910       1987.00    98102 47.63   \n",
       "3910         7680        2360.0      1940       2001.00    98004 47.65   \n",
       "9245         8860        1030.0      2001          0.00    98039 47.63   \n",
       "4407         6200        3000.0      2001           nan    98039 47.63   \n",
       "1446         6720        1280.0      2009          0.00    98004 47.62   \n",
       "...           ...           ...       ...           ...      ...   ...   \n",
       "18453         900           0.0      1918          0.00    98168 47.47   \n",
       "2139          520           0.0      1951          0.00    98168 47.48   \n",
       "16184         730           0.0      1943          0.00    98168 47.48   \n",
       "465           430           0.0      1912          0.00    98014 47.65   \n",
       "15279         780           0.0      1942           nan    98168 47.47   \n",
       "\n",
       "         long  sqft_living15  sqft_lot15  \n",
       "7245  -122.32           3940        8800  \n",
       "3910  -122.21           3930       25449  \n",
       "9245  -122.24           4540       42730  \n",
       "4407  -122.23           3560       24345  \n",
       "1446  -122.22           4600       21750  \n",
       "...       ...            ...         ...  \n",
       "18453 -122.27           2060        6533  \n",
       "2139  -122.30           1572       10570  \n",
       "16184 -122.31            860        9000  \n",
       "465   -121.91           1200        7500  \n",
       "15279 -122.28           1700       10387  \n",
       "\n",
       "[21420 rows x 21 columns]"
      ]
     },
     "execution_count": 9,
     "metadata": {},
     "output_type": "execute_result"
    }
   ],
   "source": [
    "df_copy.groupby('view').mean()\n",
    "\n",
    "df_copy.sort_values('price', ascending = False)"
   ]
  },
  {
   "cell_type": "code",
   "execution_count": 10,
   "metadata": {},
   "outputs": [],
   "source": [
    "# Dropping irrelevant columns\n",
    "df_copy.drop(columns = ['id', 'floors', 'waterfront', 'date',\n",
    "                        'lat', 'long', 'condition', 'yr_renovated',\n",
    "                         'sqft_lot15','sqft_above', 'sqft_living15',\n",
    "                         'sqft_basement'],\n",
    "                        inplace=True)"
   ]
  },
  {
   "cell_type": "code",
   "execution_count": 11,
   "metadata": {},
   "outputs": [
    {
     "data": {
      "text/html": [
       "<div>\n",
       "<style scoped>\n",
       "    .dataframe tbody tr th:only-of-type {\n",
       "        vertical-align: middle;\n",
       "    }\n",
       "\n",
       "    .dataframe tbody tr th {\n",
       "        vertical-align: top;\n",
       "    }\n",
       "\n",
       "    .dataframe thead th {\n",
       "        text-align: right;\n",
       "    }\n",
       "</style>\n",
       "<table border=\"1\" class=\"dataframe\">\n",
       "  <thead>\n",
       "    <tr style=\"text-align: right;\">\n",
       "      <th></th>\n",
       "      <th>price</th>\n",
       "      <th>bedrooms</th>\n",
       "      <th>bathrooms</th>\n",
       "      <th>sqft_living</th>\n",
       "      <th>sqft_lot</th>\n",
       "      <th>view</th>\n",
       "      <th>grade</th>\n",
       "      <th>yr_built</th>\n",
       "      <th>zipcode</th>\n",
       "    </tr>\n",
       "  </thead>\n",
       "  <tbody>\n",
       "    <tr>\n",
       "      <th>2495</th>\n",
       "      <td>300000.00</td>\n",
       "      <td>6</td>\n",
       "      <td>3.00</td>\n",
       "      <td>2400</td>\n",
       "      <td>9373</td>\n",
       "      <td>NONE</td>\n",
       "      <td>7 Average</td>\n",
       "      <td>1991</td>\n",
       "      <td>98002</td>\n",
       "    </tr>\n",
       "    <tr>\n",
       "      <th>6729</th>\n",
       "      <td>647500.00</td>\n",
       "      <td>4</td>\n",
       "      <td>1.75</td>\n",
       "      <td>2060</td>\n",
       "      <td>26036</td>\n",
       "      <td>NONE</td>\n",
       "      <td>8 Good</td>\n",
       "      <td>1947</td>\n",
       "      <td>98166</td>\n",
       "    </tr>\n",
       "    <tr>\n",
       "      <th>8404</th>\n",
       "      <td>400000.00</td>\n",
       "      <td>3</td>\n",
       "      <td>1.00</td>\n",
       "      <td>1460</td>\n",
       "      <td>43000</td>\n",
       "      <td>NONE</td>\n",
       "      <td>7 Average</td>\n",
       "      <td>1952</td>\n",
       "      <td>98166</td>\n",
       "    </tr>\n",
       "    <tr>\n",
       "      <th>8800</th>\n",
       "      <td>235000.00</td>\n",
       "      <td>3</td>\n",
       "      <td>1.00</td>\n",
       "      <td>1430</td>\n",
       "      <td>7599</td>\n",
       "      <td>NONE</td>\n",
       "      <td>6 Low Average</td>\n",
       "      <td>1930</td>\n",
       "      <td>98168</td>\n",
       "    </tr>\n",
       "    <tr>\n",
       "      <th>3553</th>\n",
       "      <td>402500.00</td>\n",
       "      <td>4</td>\n",
       "      <td>2.00</td>\n",
       "      <td>1650</td>\n",
       "      <td>3504</td>\n",
       "      <td>NONE</td>\n",
       "      <td>7 Average</td>\n",
       "      <td>1951</td>\n",
       "      <td>98144</td>\n",
       "    </tr>\n",
       "  </tbody>\n",
       "</table>\n",
       "</div>"
      ],
      "text/plain": [
       "         price  bedrooms  bathrooms  sqft_living  sqft_lot  view  \\\n",
       "2495 300000.00         6       3.00         2400      9373  NONE   \n",
       "6729 647500.00         4       1.75         2060     26036  NONE   \n",
       "8404 400000.00         3       1.00         1460     43000  NONE   \n",
       "8800 235000.00         3       1.00         1430      7599  NONE   \n",
       "3553 402500.00         4       2.00         1650      3504  NONE   \n",
       "\n",
       "              grade  yr_built  zipcode  \n",
       "2495      7 Average      1991    98002  \n",
       "6729         8 Good      1947    98166  \n",
       "8404      7 Average      1952    98166  \n",
       "8800  6 Low Average      1930    98168  \n",
       "3553      7 Average      1951    98144  "
      ]
     },
     "execution_count": 11,
     "metadata": {},
     "output_type": "execute_result"
    }
   ],
   "source": [
    "df_copy.head()"
   ]
  },
  {
   "cell_type": "code",
   "execution_count": 12,
   "metadata": {
    "scrolled": false
   },
   "outputs": [],
   "source": [
    "df_copy['sqft_living'] = np.log(df_copy['sqft_living'])"
   ]
  },
  {
   "cell_type": "code",
   "execution_count": null,
   "metadata": {},
   "outputs": [],
   "source": []
  },
  {
   "cell_type": "code",
   "execution_count": 13,
   "metadata": {},
   "outputs": [],
   "source": [
    "# Establishing target and predictor variables\n",
    "df_copy = df_copy[df_copy['grade'] != '3 Poor']"
   ]
  },
  {
   "cell_type": "code",
   "execution_count": 14,
   "metadata": {},
   "outputs": [],
   "source": [
    "X = df_copy.drop(columns = 'price')"
   ]
  },
  {
   "cell_type": "code",
   "execution_count": 15,
   "metadata": {},
   "outputs": [],
   "source": [
    "y = df_copy.price"
   ]
  },
  {
   "cell_type": "code",
   "execution_count": 16,
   "metadata": {},
   "outputs": [],
   "source": [
    "# Creating variables for train and test sets\n",
    "X_train, X_test, y_train, y_test = train_test_split(X, y, test_size=0.33, random_state=42)"
   ]
  },
  {
   "cell_type": "code",
   "execution_count": 17,
   "metadata": {},
   "outputs": [],
   "source": [
    "train_df = pd.concat([X_train, y_train], axis=1)\n",
    "\n",
    "test_df = pd.concat([X_test, y_test], axis=1)"
   ]
  },
  {
   "cell_type": "code",
   "execution_count": 18,
   "metadata": {
    "scrolled": true
   },
   "outputs": [
    {
     "data": {
      "text/plain": [
       "True"
      ]
     },
     "execution_count": 18,
     "metadata": {},
     "output_type": "execute_result"
    }
   ],
   "source": [
    "# Did it split correctly?\n",
    "len(X_train + X_test) == len(X)"
   ]
  },
  {
   "cell_type": "code",
   "execution_count": 19,
   "metadata": {},
   "outputs": [],
   "source": [
    "simple_model = sm.OLS(y_train, sm.add_constant(X_train['sqft_living'])).fit()"
   ]
  },
  {
   "cell_type": "code",
   "execution_count": 20,
   "metadata": {},
   "outputs": [
    {
     "data": {
      "text/html": [
       "<table class=\"simpletable\">\n",
       "<caption>OLS Regression Results</caption>\n",
       "<tr>\n",
       "  <th>Dep. Variable:</th>          <td>price</td>      <th>  R-squared:         </th>  <td>   0.368</td>  \n",
       "</tr>\n",
       "<tr>\n",
       "  <th>Model:</th>                   <td>OLS</td>       <th>  Adj. R-squared:    </th>  <td>   0.368</td>  \n",
       "</tr>\n",
       "<tr>\n",
       "  <th>Method:</th>             <td>Least Squares</td>  <th>  F-statistic:       </th>  <td>   8365.</td>  \n",
       "</tr>\n",
       "<tr>\n",
       "  <th>Date:</th>             <td>Tue, 29 Mar 2022</td> <th>  Prob (F-statistic):</th>   <td>  0.00</td>   \n",
       "</tr>\n",
       "<tr>\n",
       "  <th>Time:</th>                 <td>16:02:36</td>     <th>  Log-Likelihood:    </th> <td>-2.0093e+05</td>\n",
       "</tr>\n",
       "<tr>\n",
       "  <th>No. Observations:</th>      <td> 14350</td>      <th>  AIC:               </th>  <td>4.019e+05</td> \n",
       "</tr>\n",
       "<tr>\n",
       "  <th>Df Residuals:</th>          <td> 14348</td>      <th>  BIC:               </th>  <td>4.019e+05</td> \n",
       "</tr>\n",
       "<tr>\n",
       "  <th>Df Model:</th>              <td>     1</td>      <th>                     </th>      <td> </td>     \n",
       "</tr>\n",
       "<tr>\n",
       "  <th>Covariance Type:</th>      <td>nonrobust</td>    <th>                     </th>      <td> </td>     \n",
       "</tr>\n",
       "</table>\n",
       "<table class=\"simpletable\">\n",
       "<tr>\n",
       "       <td></td>          <th>coef</th>     <th>std err</th>      <th>t</th>      <th>P>|t|</th>  <th>[0.025</th>    <th>0.975]</th>  \n",
       "</tr>\n",
       "<tr>\n",
       "  <th>const</th>       <td>-3.426e+06</td> <td> 4.34e+04</td> <td>  -78.854</td> <td> 0.000</td> <td>-3.51e+06</td> <td>-3.34e+06</td>\n",
       "</tr>\n",
       "<tr>\n",
       "  <th>sqft_living</th> <td> 5.254e+05</td> <td> 5744.837</td> <td>   91.458</td> <td> 0.000</td> <td> 5.14e+05</td> <td> 5.37e+05</td>\n",
       "</tr>\n",
       "</table>\n",
       "<table class=\"simpletable\">\n",
       "<tr>\n",
       "  <th>Omnibus:</th>       <td>13227.742</td> <th>  Durbin-Watson:     </th>  <td>   1.993</td>  \n",
       "</tr>\n",
       "<tr>\n",
       "  <th>Prob(Omnibus):</th>  <td> 0.000</td>   <th>  Jarque-Bera (JB):  </th> <td>1260597.499</td>\n",
       "</tr>\n",
       "<tr>\n",
       "  <th>Skew:</th>           <td> 4.113</td>   <th>  Prob(JB):          </th>  <td>    0.00</td>  \n",
       "</tr>\n",
       "<tr>\n",
       "  <th>Kurtosis:</th>       <td>48.174</td>   <th>  Cond. No.          </th>  <td>    137.</td>  \n",
       "</tr>\n",
       "</table><br/><br/>Notes:<br/>[1] Standard Errors assume that the covariance matrix of the errors is correctly specified."
      ],
      "text/plain": [
       "<class 'statsmodels.iolib.summary.Summary'>\n",
       "\"\"\"\n",
       "                            OLS Regression Results                            \n",
       "==============================================================================\n",
       "Dep. Variable:                  price   R-squared:                       0.368\n",
       "Model:                            OLS   Adj. R-squared:                  0.368\n",
       "Method:                 Least Squares   F-statistic:                     8365.\n",
       "Date:                Tue, 29 Mar 2022   Prob (F-statistic):               0.00\n",
       "Time:                        16:02:36   Log-Likelihood:            -2.0093e+05\n",
       "No. Observations:               14350   AIC:                         4.019e+05\n",
       "Df Residuals:                   14348   BIC:                         4.019e+05\n",
       "Df Model:                           1                                         \n",
       "Covariance Type:            nonrobust                                         \n",
       "===============================================================================\n",
       "                  coef    std err          t      P>|t|      [0.025      0.975]\n",
       "-------------------------------------------------------------------------------\n",
       "const       -3.426e+06   4.34e+04    -78.854      0.000   -3.51e+06   -3.34e+06\n",
       "sqft_living  5.254e+05   5744.837     91.458      0.000    5.14e+05    5.37e+05\n",
       "==============================================================================\n",
       "Omnibus:                    13227.742   Durbin-Watson:                   1.993\n",
       "Prob(Omnibus):                  0.000   Jarque-Bera (JB):          1260597.499\n",
       "Skew:                           4.113   Prob(JB):                         0.00\n",
       "Kurtosis:                      48.174   Cond. No.                         137.\n",
       "==============================================================================\n",
       "\n",
       "Notes:\n",
       "[1] Standard Errors assume that the covariance matrix of the errors is correctly specified.\n",
       "\"\"\""
      ]
     },
     "execution_count": 20,
     "metadata": {},
     "output_type": "execute_result"
    }
   ],
   "source": [
    "simple_model.summary()"
   ]
  },
  {
   "cell_type": "code",
   "execution_count": 21,
   "metadata": {},
   "outputs": [
    {
     "data": {
      "text/plain": [
       "14622   497226.33\n",
       "1744    717221.00\n",
       "2729    494215.38\n",
       "13117   725063.09\n",
       "18281   372424.45\n",
       "           ...   \n",
       "13105   654348.05\n",
       "17476   336990.11\n",
       "9990    807720.75\n",
       "338     387437.19\n",
       "9180      8237.87\n",
       "Length: 14350, dtype: float64"
      ]
     },
     "execution_count": 21,
     "metadata": {},
     "output_type": "execute_result"
    }
   ],
   "source": [
    "# Get our predictions!\n",
    "simple_train_preds = simple_model.predict(sm.add_constant(X_train['sqft_living']))\n",
    "simple_train_preds"
   ]
  },
  {
   "cell_type": "code",
   "execution_count": 22,
   "metadata": {},
   "outputs": [
    {
     "data": {
      "image/png": "[encoded data removed]",
      "text/plain": [
       "<Figure size 432x288 with 1 Axes>"
      ]
     },
     "metadata": {
      "needs_background": "light"
     },
     "output_type": "display_data"
    }
   ],
   "source": [
    "# Just looking at two variables\n",
    "\n",
    "# Plot our points, rating vs balance, as a scatterplot\n",
    "plt.scatter(train_df['sqft_living'], train_df['price'])\n",
    "\n",
    "# Plot the line of best fit!\n",
    "plt.plot(train_df['sqft_living'], simple_train_preds, color='black')\n",
    "\n",
    "plt.ylabel('Sale Price')\n",
    "plt.xlabel('Squarefoot Living Area')\n",
    "plt.title('Relationship between Squarefoot Living Area and Sale Price')\n",
    "plt.show()"
   ]
  },
  {
   "cell_type": "code",
   "execution_count": 23,
   "metadata": {},
   "outputs": [
    {
     "data": {
      "text/html": [
       "<div>\n",
       "<style scoped>\n",
       "    .dataframe tbody tr th:only-of-type {\n",
       "        vertical-align: middle;\n",
       "    }\n",
       "\n",
       "    .dataframe tbody tr th {\n",
       "        vertical-align: top;\n",
       "    }\n",
       "\n",
       "    .dataframe thead tr th {\n",
       "        text-align: left;\n",
       "    }\n",
       "\n",
       "    .dataframe thead tr:last-of-type th {\n",
       "        text-align: right;\n",
       "    }\n",
       "</style>\n",
       "<table border=\"1\" class=\"dataframe\">\n",
       "  <thead>\n",
       "    <tr>\n",
       "      <th></th>\n",
       "      <th colspan=\"2\" halign=\"left\">price</th>\n",
       "      <th colspan=\"2\" halign=\"left\">bedrooms</th>\n",
       "      <th colspan=\"2\" halign=\"left\">bathrooms</th>\n",
       "      <th colspan=\"2\" halign=\"left\">sqft_living</th>\n",
       "      <th colspan=\"2\" halign=\"left\">sqft_lot</th>\n",
       "      <th colspan=\"2\" halign=\"left\">yr_built</th>\n",
       "      <th colspan=\"2\" halign=\"left\">zipcode</th>\n",
       "    </tr>\n",
       "    <tr>\n",
       "      <th></th>\n",
       "      <th>mean</th>\n",
       "      <th>std</th>\n",
       "      <th>mean</th>\n",
       "      <th>std</th>\n",
       "      <th>mean</th>\n",
       "      <th>std</th>\n",
       "      <th>mean</th>\n",
       "      <th>std</th>\n",
       "      <th>mean</th>\n",
       "      <th>std</th>\n",
       "      <th>mean</th>\n",
       "      <th>std</th>\n",
       "      <th>mean</th>\n",
       "      <th>std</th>\n",
       "    </tr>\n",
       "    <tr>\n",
       "      <th>view</th>\n",
       "      <th></th>\n",
       "      <th></th>\n",
       "      <th></th>\n",
       "      <th></th>\n",
       "      <th></th>\n",
       "      <th></th>\n",
       "      <th></th>\n",
       "      <th></th>\n",
       "      <th></th>\n",
       "      <th></th>\n",
       "      <th></th>\n",
       "      <th></th>\n",
       "      <th></th>\n",
       "      <th></th>\n",
       "    </tr>\n",
       "  </thead>\n",
       "  <tbody>\n",
       "    <tr>\n",
       "      <th>AVERAGE</th>\n",
       "      <td>791956.68</td>\n",
       "      <td>510351.93</td>\n",
       "      <td>3.57</td>\n",
       "      <td>0.98</td>\n",
       "      <td>2.43</td>\n",
       "      <td>0.87</td>\n",
       "      <td>7.79</td>\n",
       "      <td>0.43</td>\n",
       "      <td>22331.72</td>\n",
       "      <td>60261.29</td>\n",
       "      <td>1964.82</td>\n",
       "      <td>29.70</td>\n",
       "      <td>98090.98</td>\n",
       "      <td>59.82</td>\n",
       "    </tr>\n",
       "    <tr>\n",
       "      <th>EXCELLENT</th>\n",
       "      <td>1454416.19</td>\n",
       "      <td>934214.96</td>\n",
       "      <td>3.63</td>\n",
       "      <td>1.10</td>\n",
       "      <td>2.78</td>\n",
       "      <td>1.07</td>\n",
       "      <td>8.02</td>\n",
       "      <td>0.44</td>\n",
       "      <td>21762.46</td>\n",
       "      <td>35989.90</td>\n",
       "      <td>1965.77</td>\n",
       "      <td>27.23</td>\n",
       "      <td>98096.41</td>\n",
       "      <td>61.65</td>\n",
       "    </tr>\n",
       "    <tr>\n",
       "      <th>FAIR</th>\n",
       "      <td>814386.56</td>\n",
       "      <td>513226.70</td>\n",
       "      <td>3.53</td>\n",
       "      <td>0.98</td>\n",
       "      <td>2.35</td>\n",
       "      <td>0.84</td>\n",
       "      <td>7.77</td>\n",
       "      <td>0.42</td>\n",
       "      <td>12342.66</td>\n",
       "      <td>17078.17</td>\n",
       "      <td>1962.90</td>\n",
       "      <td>26.36</td>\n",
       "      <td>98096.60</td>\n",
       "      <td>61.08</td>\n",
       "    </tr>\n",
       "    <tr>\n",
       "      <th>GOOD</th>\n",
       "      <td>972849.27</td>\n",
       "      <td>615076.79</td>\n",
       "      <td>3.67</td>\n",
       "      <td>0.93</td>\n",
       "      <td>2.67</td>\n",
       "      <td>0.89</td>\n",
       "      <td>7.94</td>\n",
       "      <td>0.39</td>\n",
       "      <td>35010.67</td>\n",
       "      <td>109236.86</td>\n",
       "      <td>1967.34</td>\n",
       "      <td>30.00</td>\n",
       "      <td>98092.44</td>\n",
       "      <td>62.24</td>\n",
       "    </tr>\n",
       "    <tr>\n",
       "      <th>NONE</th>\n",
       "      <td>498348.59</td>\n",
       "      <td>287343.67</td>\n",
       "      <td>3.35</td>\n",
       "      <td>0.92</td>\n",
       "      <td>2.07</td>\n",
       "      <td>0.74</td>\n",
       "      <td>7.52</td>\n",
       "      <td>0.41</td>\n",
       "      <td>14178.52</td>\n",
       "      <td>37110.06</td>\n",
       "      <td>1971.74</td>\n",
       "      <td>29.37</td>\n",
       "      <td>98076.21</td>\n",
       "      <td>52.33</td>\n",
       "    </tr>\n",
       "  </tbody>\n",
       "</table>\n",
       "</div>"
      ],
      "text/plain": [
       "               price           bedrooms      bathrooms      sqft_living       \\\n",
       "                mean       std     mean  std      mean  std        mean  std   \n",
       "view                                                                           \n",
       "AVERAGE    791956.68 510351.93     3.57 0.98      2.43 0.87        7.79 0.43   \n",
       "EXCELLENT 1454416.19 934214.96     3.63 1.10      2.78 1.07        8.02 0.44   \n",
       "FAIR       814386.56 513226.70     3.53 0.98      2.35 0.84        7.77 0.42   \n",
       "GOOD       972849.27 615076.79     3.67 0.93      2.67 0.89        7.94 0.39   \n",
       "NONE       498348.59 287343.67     3.35 0.92      2.07 0.74        7.52 0.41   \n",
       "\n",
       "          sqft_lot           yr_built        zipcode        \n",
       "              mean       std     mean   std     mean   std  \n",
       "view                                                        \n",
       "AVERAGE   22331.72  60261.29  1964.82 29.70 98090.98 59.82  \n",
       "EXCELLENT 21762.46  35989.90  1965.77 27.23 98096.41 61.65  \n",
       "FAIR      12342.66  17078.17  1962.90 26.36 98096.60 61.08  \n",
       "GOOD      35010.67 109236.86  1967.34 30.00 98092.44 62.24  \n",
       "NONE      14178.52  37110.06  1971.74 29.37 98076.21 52.33  "
      ]
     },
     "execution_count": 23,
     "metadata": {},
     "output_type": "execute_result"
    }
   ],
   "source": [
    "summary_of_view = df_copy.groupby('view').agg(['mean', 'std'])\n",
    "\n",
    "summary_of_view"
   ]
  },
  {
   "cell_type": "code",
   "execution_count": 24,
   "metadata": {},
   "outputs": [],
   "source": [
    "# Figure out how to do this in a loop/function?\n",
    "df_average = train_df[train_df['view'] == 'AVERAGE']\n",
    "df_excellent = train_df[train_df['view'] == 'EXCELLENT']\n",
    "df_fair = train_df[train_df['view'] == 'FAIR']\n",
    "df_good = train_df[train_df['view'] == 'GOOD']\n",
    "df_none = train_df[train_df['view'] == 'NONE']"
   ]
  },
  {
   "cell_type": "code",
   "execution_count": 25,
   "metadata": {},
   "outputs": [
    {
     "data": {
      "text/plain": [
       "NONE         12913\n",
       "AVERAGE        637\n",
       "GOOD           336\n",
       "FAIR           230\n",
       "EXCELLENT      192\n",
       "Name: view, dtype: int64"
      ]
     },
     "execution_count": 25,
     "metadata": {},
     "output_type": "execute_result"
    }
   ],
   "source": [
    "train_df['view'].value_counts()"
   ]
  },
  {
   "cell_type": "code",
   "execution_count": 26,
   "metadata": {},
   "outputs": [],
   "source": [
    "fvalue, pvalue = stats.f_oneway(df_average['price'], df_excellent['price'], df_fair['price'],\n",
    "                                df_good['price'] , df_none['price'])"
   ]
  },
  {
   "cell_type": "code",
   "execution_count": 27,
   "metadata": {},
   "outputs": [
    {
     "data": {
      "text/plain": [
       "7 Average        5975\n",
       "8 Good           4030\n",
       "9 Better         1744\n",
       "6 Low Average    1349\n",
       "10 Very Good      754\n",
       "11 Excellent      261\n",
       "5 Fair            147\n",
       "12 Luxury          64\n",
       "4 Low              19\n",
       "13 Mansion          7\n",
       "Name: grade, dtype: int64"
      ]
     },
     "execution_count": 27,
     "metadata": {},
     "output_type": "execute_result"
    }
   ],
   "source": [
    "train_df.grade.value_counts()"
   ]
  },
  {
   "cell_type": "code",
   "execution_count": null,
   "metadata": {},
   "outputs": [],
   "source": []
  },
  {
   "cell_type": "code",
   "execution_count": 28,
   "metadata": {},
   "outputs": [],
   "source": [
    "# Dropping poor row, since there is only one\n",
    "df3 = train_df.copy()"
   ]
  },
  {
   "cell_type": "code",
   "execution_count": 29,
   "metadata": {},
   "outputs": [
    {
     "data": {
      "text/html": [
       "<div>\n",
       "<style scoped>\n",
       "    .dataframe tbody tr th:only-of-type {\n",
       "        vertical-align: middle;\n",
       "    }\n",
       "\n",
       "    .dataframe tbody tr th {\n",
       "        vertical-align: top;\n",
       "    }\n",
       "\n",
       "    .dataframe thead th {\n",
       "        text-align: right;\n",
       "    }\n",
       "</style>\n",
       "<table border=\"1\" class=\"dataframe\">\n",
       "  <thead>\n",
       "    <tr style=\"text-align: right;\">\n",
       "      <th></th>\n",
       "      <th>bedrooms</th>\n",
       "      <th>bathrooms</th>\n",
       "      <th>sqft_living</th>\n",
       "      <th>sqft_lot</th>\n",
       "      <th>view</th>\n",
       "      <th>grade</th>\n",
       "      <th>yr_built</th>\n",
       "      <th>zipcode</th>\n",
       "      <th>price</th>\n",
       "    </tr>\n",
       "  </thead>\n",
       "  <tbody>\n",
       "    <tr>\n",
       "      <th>14622</th>\n",
       "      <td>4</td>\n",
       "      <td>2.50</td>\n",
       "      <td>7.47</td>\n",
       "      <td>8476</td>\n",
       "      <td>NONE</td>\n",
       "      <td>7 Average</td>\n",
       "      <td>1983</td>\n",
       "      <td>98058</td>\n",
       "      <td>335000.00</td>\n",
       "    </tr>\n",
       "    <tr>\n",
       "      <th>1744</th>\n",
       "      <td>4</td>\n",
       "      <td>2.50</td>\n",
       "      <td>7.89</td>\n",
       "      <td>5608</td>\n",
       "      <td>NONE</td>\n",
       "      <td>9 Better</td>\n",
       "      <td>2003</td>\n",
       "      <td>98029</td>\n",
       "      <td>729000.00</td>\n",
       "    </tr>\n",
       "    <tr>\n",
       "      <th>2729</th>\n",
       "      <td>3</td>\n",
       "      <td>1.00</td>\n",
       "      <td>7.46</td>\n",
       "      <td>5247</td>\n",
       "      <td>NONE</td>\n",
       "      <td>7 Average</td>\n",
       "      <td>1947</td>\n",
       "      <td>98168</td>\n",
       "      <td>283000.00</td>\n",
       "    </tr>\n",
       "    <tr>\n",
       "      <th>13117</th>\n",
       "      <td>4</td>\n",
       "      <td>2.50</td>\n",
       "      <td>7.90</td>\n",
       "      <td>5100</td>\n",
       "      <td>NONE</td>\n",
       "      <td>8 Good</td>\n",
       "      <td>1968</td>\n",
       "      <td>98136</td>\n",
       "      <td>550000.00</td>\n",
       "    </tr>\n",
       "    <tr>\n",
       "      <th>18281</th>\n",
       "      <td>3</td>\n",
       "      <td>1.75</td>\n",
       "      <td>7.23</td>\n",
       "      <td>8182</td>\n",
       "      <td>NONE</td>\n",
       "      <td>7 Average</td>\n",
       "      <td>1942</td>\n",
       "      <td>98133</td>\n",
       "      <td>425000.00</td>\n",
       "    </tr>\n",
       "  </tbody>\n",
       "</table>\n",
       "</div>"
      ],
      "text/plain": [
       "       bedrooms  bathrooms  sqft_living  sqft_lot  view      grade  yr_built  \\\n",
       "14622         4       2.50         7.47      8476  NONE  7 Average      1983   \n",
       "1744          4       2.50         7.89      5608  NONE   9 Better      2003   \n",
       "2729          3       1.00         7.46      5247  NONE  7 Average      1947   \n",
       "13117         4       2.50         7.90      5100  NONE     8 Good      1968   \n",
       "18281         3       1.75         7.23      8182  NONE  7 Average      1942   \n",
       "\n",
       "       zipcode     price  \n",
       "14622    98058 335000.00  \n",
       "1744     98029 729000.00  \n",
       "2729     98168 283000.00  \n",
       "13117    98136 550000.00  \n",
       "18281    98133 425000.00  "
      ]
     },
     "execution_count": 29,
     "metadata": {},
     "output_type": "execute_result"
    }
   ],
   "source": [
    "df3.head()"
   ]
  },
  {
   "cell_type": "code",
   "execution_count": 30,
   "metadata": {},
   "outputs": [],
   "source": [
    "df3.grade = [x.replace(\" \", \"_\").strip() for x in df3.grade]"
   ]
  },
  {
   "cell_type": "code",
   "execution_count": 31,
   "metadata": {},
   "outputs": [
    {
     "data": {
      "text/plain": [
       "7_Average        5975\n",
       "8_Good           4030\n",
       "9_Better         1744\n",
       "6_Low_Average    1349\n",
       "10_Very_Good      754\n",
       "11_Excellent      261\n",
       "5_Fair            147\n",
       "12_Luxury          64\n",
       "4_Low              19\n",
       "13_Mansion          7\n",
       "Name: grade, dtype: int64"
      ]
     },
     "execution_count": 31,
     "metadata": {},
     "output_type": "execute_result"
    }
   ],
   "source": [
    "df3['grade'].value_counts()"
   ]
  },
  {
   "cell_type": "code",
   "execution_count": 32,
   "metadata": {},
   "outputs": [],
   "source": [
    "# Might need a for loop or a function here\n",
    "df_10 = train_df[train_df['grade'] == '10 Very Good']\n",
    "df_11 = train_df[train_df['grade'] == '11 Excellent']\n",
    "df_12 = train_df[train_df['grade'] == '12 Luxury']\n",
    "df_4 = train_df[train_df['grade'] == '4 Low']\n",
    "df_5 = train_df[train_df['grade'] == '5 Fair']\n",
    "df_6 = train_df[train_df['grade'] == '6 Low Average']\n",
    "df_7 = train_df[train_df['grade'] == '7 Average']\n",
    "df_8 = train_df[train_df['grade'] == '8 Good']\n",
    "df_9 = train_df[train_df['grade'] == '9 Better']"
   ]
  },
  {
   "cell_type": "code",
   "execution_count": 33,
   "metadata": {},
   "outputs": [
    {
     "data": {
      "text/plain": [
       "0.0"
      ]
     },
     "execution_count": 33,
     "metadata": {},
     "output_type": "execute_result"
    }
   ],
   "source": [
    "# Finding f-statistic and p-value using ANOVA testing\n",
    "\n",
    "f_value_grade, p_value_grade = stats.f_oneway(df_10['price'], df_11['price'], df_12['price'],\n",
    "                                              df_4['price'], df_5['price'], df_6['price'],\n",
    "                                              df_7['price'], df_8['price'], df_9['price'])\n",
    "p_value_grade"
   ]
  },
  {
   "cell_type": "code",
   "execution_count": 34,
   "metadata": {},
   "outputs": [
    {
     "name": "stdout",
     "output_type": "stream",
     "text": [
      "                Multiple Comparison of Means - Tukey HSD, FWER=0.05                \n",
      "===================================================================================\n",
      "    group1        group2       meandiff   p-adj      lower         upper     reject\n",
      "-----------------------------------------------------------------------------------\n",
      " 10 Very Good  11 Excellent   381056.6583  0.001   322630.8353   439482.4812   True\n",
      " 10 Very Good     12 Luxury  1074763.4844  0.001   968843.2982  1180683.6706   True\n",
      " 10 Very Good    13 Mansion  2930578.2166  0.001  2621665.7899  3239490.6432   True\n",
      " 10 Very Good         4 Low  -879246.2195  0.001 -1068221.5081   -690270.931   True\n",
      " 10 Very Good        5 Fair   -826698.729  0.001  -900047.9995  -753349.4585   True\n",
      " 10 Very Good 6 Low Average  -769929.2032  0.001   -806921.026  -732937.3804   True\n",
      " 10 Very Good     7 Average  -672494.5974  0.001  -703935.7443  -641053.4505   True\n",
      " 10 Very Good        8 Good  -533427.0034  0.001  -565707.1228  -501146.8839   True\n",
      " 10 Very Good      9 Better  -300298.5162  0.001  -335756.5824  -264840.4499   True\n",
      " 11 Excellent     12 Luxury   693706.8261  0.001   580229.4766   807184.1757   True\n",
      " 11 Excellent    13 Mansion  2549521.5583  0.001  2237937.0427  2861106.0739   True\n",
      " 11 Excellent         4 Low -1260302.8778  0.001 -1453615.2745 -1066990.4811   True\n",
      " 11 Excellent        5 Fair -1207755.3873  0.001 -1291649.0014 -1123861.7732   True\n",
      " 11 Excellent 6 Low Average -1150985.8615  0.001 -1205998.7506 -1095972.9724   True\n",
      " 11 Excellent     7 Average -1053551.2557  0.001 -1104996.0681 -1002106.4432   True\n",
      " 11 Excellent        8 Good  -914483.6616  0.001  -966445.4661  -862521.8572   True\n",
      " 11 Excellent      9 Better  -681355.1744  0.001  -735348.6692  -627361.6797   True\n",
      "    12 Luxury    13 Mansion  1855814.7321  0.001  1531946.8278  2179682.6364   True\n",
      "    12 Luxury         4 Low -1954009.7039  0.001 -2166554.2681 -1741465.1398   True\n",
      "    12 Luxury        5 Fair -1901462.2134  0.001 -2023296.7223 -1779627.7046   True\n",
      "    12 Luxury 6 Low Average -1844692.6876  0.001 -1948769.2317 -1740616.1436   True\n",
      "    12 Luxury     7 Average -1747258.0818  0.001 -1849493.4856  -1645022.678   True\n",
      "    12 Luxury        8 Good -1608190.4878  0.001 -1710687.0154 -1505693.9601   True\n",
      "    12 Luxury      9 Better -1375062.0006  0.001 -1478603.3282 -1271520.6729   True\n",
      "   13 Mansion         4 Low -3809824.4361  0.001 -4169522.9116 -3450125.9606   True\n",
      "   13 Mansion        5 Fair -3757276.9456  0.001 -4072001.3473 -3442552.5438   True\n",
      "   13 Mansion 6 Low Average -3700507.4198  0.001 -4008792.5614 -3392222.2782   True\n",
      "   13 Mansion     7 Average  -3603072.814  0.001 -3910741.2708 -3295404.3572   True\n",
      "   13 Mansion        8 Good -3464005.2199  0.001 -3771760.5443 -3156249.8955   True\n",
      "   13 Mansion      9 Better -3230876.7327  0.001 -3538981.5981 -2922771.8674   True\n",
      "        4 Low        5 Fair    52547.4905    0.9  -145786.1209   250881.1019  False\n",
      "        4 Low 6 Low Average   109317.0163  0.683   -78631.1172   297265.1498  False\n",
      "        4 Low     7 Average   206751.6221 0.0169     19816.736   393686.5082   True\n",
      "        4 Low        8 Good   345819.2162  0.001   158741.3927   532897.0396   True\n",
      "        4 Low      9 Better   578947.7034  0.001   391295.4175   766599.9892   True\n",
      "       5 Fair 6 Low Average    56769.5258 0.2459   -13891.3308   127430.3824  False\n",
      "       5 Fair     7 Average   154204.1316  0.001    86284.2713   222123.9919   True\n",
      "       5 Fair        8 Good   293271.7257  0.001   224959.4441   361584.0073   True\n",
      "       5 Fair      9 Better   526400.2129  0.001    456530.075   596270.3508   True\n",
      "6 Low Average     7 Average    97434.6058  0.001    72911.4148   121957.7969   True\n",
      "6 Low Average        8 Good   236502.1999  0.001   210912.2157   262092.1841   True\n",
      "6 Low Average      9 Better   469630.6871  0.001   440132.9644   499128.4098   True\n",
      "    7 Average        8 Good    139067.594  0.001   122484.5287   155650.6594   True\n",
      "    7 Average      9 Better   372196.0812  0.001   350054.1209   394338.0416   True\n",
      "       8 Good      9 Better   233128.4872  0.001    209810.537   256446.4374   True\n",
      "-----------------------------------------------------------------------------------\n"
     ]
    }
   ],
   "source": [
    "# Ad-hoc test to determine differeces in price vs. grade\n",
    "\n",
    "df_grade = train_df[['grade', 'price']]\n",
    "\n",
    "print(pairwise_tukeyhsd(df_grade['price'], df_grade['grade']))"
   ]
  },
  {
   "cell_type": "code",
   "execution_count": 35,
   "metadata": {},
   "outputs": [
    {
     "data": {
      "text/html": [
       "<div>\n",
       "<style scoped>\n",
       "    .dataframe tbody tr th:only-of-type {\n",
       "        vertical-align: middle;\n",
       "    }\n",
       "\n",
       "    .dataframe tbody tr th {\n",
       "        vertical-align: top;\n",
       "    }\n",
       "\n",
       "    .dataframe thead th {\n",
       "        text-align: right;\n",
       "    }\n",
       "</style>\n",
       "<table border=\"1\" class=\"dataframe\">\n",
       "  <thead>\n",
       "    <tr style=\"text-align: right;\">\n",
       "      <th></th>\n",
       "      <th>grade</th>\n",
       "      <th>view</th>\n",
       "      <th>zipcode</th>\n",
       "    </tr>\n",
       "  </thead>\n",
       "  <tbody>\n",
       "    <tr>\n",
       "      <th>14622</th>\n",
       "      <td>7_Average</td>\n",
       "      <td>NONE</td>\n",
       "      <td>98058</td>\n",
       "    </tr>\n",
       "    <tr>\n",
       "      <th>1744</th>\n",
       "      <td>9_Better</td>\n",
       "      <td>NONE</td>\n",
       "      <td>98029</td>\n",
       "    </tr>\n",
       "    <tr>\n",
       "      <th>2729</th>\n",
       "      <td>7_Average</td>\n",
       "      <td>NONE</td>\n",
       "      <td>98168</td>\n",
       "    </tr>\n",
       "    <tr>\n",
       "      <th>13117</th>\n",
       "      <td>8_Good</td>\n",
       "      <td>NONE</td>\n",
       "      <td>98136</td>\n",
       "    </tr>\n",
       "    <tr>\n",
       "      <th>18281</th>\n",
       "      <td>7_Average</td>\n",
       "      <td>NONE</td>\n",
       "      <td>98133</td>\n",
       "    </tr>\n",
       "    <tr>\n",
       "      <th>...</th>\n",
       "      <td>...</td>\n",
       "      <td>...</td>\n",
       "      <td>...</td>\n",
       "    </tr>\n",
       "    <tr>\n",
       "      <th>13105</th>\n",
       "      <td>7_Average</td>\n",
       "      <td>NONE</td>\n",
       "      <td>98178</td>\n",
       "    </tr>\n",
       "    <tr>\n",
       "      <th>17476</th>\n",
       "      <td>7_Average</td>\n",
       "      <td>NONE</td>\n",
       "      <td>98166</td>\n",
       "    </tr>\n",
       "    <tr>\n",
       "      <th>9990</th>\n",
       "      <td>7_Average</td>\n",
       "      <td>NONE</td>\n",
       "      <td>98034</td>\n",
       "    </tr>\n",
       "    <tr>\n",
       "      <th>338</th>\n",
       "      <td>7_Average</td>\n",
       "      <td>NONE</td>\n",
       "      <td>98133</td>\n",
       "    </tr>\n",
       "    <tr>\n",
       "      <th>9180</th>\n",
       "      <td>5_Fair</td>\n",
       "      <td>NONE</td>\n",
       "      <td>98056</td>\n",
       "    </tr>\n",
       "  </tbody>\n",
       "</table>\n",
       "<p>14350 rows × 3 columns</p>\n",
       "</div>"
      ],
      "text/plain": [
       "           grade  view  zipcode\n",
       "14622  7_Average  NONE    98058\n",
       "1744    9_Better  NONE    98029\n",
       "2729   7_Average  NONE    98168\n",
       "13117     8_Good  NONE    98136\n",
       "18281  7_Average  NONE    98133\n",
       "...          ...   ...      ...\n",
       "13105  7_Average  NONE    98178\n",
       "17476  7_Average  NONE    98166\n",
       "9990   7_Average  NONE    98034\n",
       "338    7_Average  NONE    98133\n",
       "9180      5_Fair  NONE    98056\n",
       "\n",
       "[14350 rows x 3 columns]"
      ]
     },
     "execution_count": 35,
     "metadata": {},
     "output_type": "execute_result"
    }
   ],
   "source": [
    "#making the categorical variable\n",
    "cate_column = df3[['grade', 'view', 'zipcode']]\n",
    "\n",
    "cate_column"
   ]
  },
  {
   "cell_type": "code",
   "execution_count": 36,
   "metadata": {},
   "outputs": [
    {
     "data": {
      "text/plain": [
       "NONE         12913\n",
       "AVERAGE        637\n",
       "GOOD           336\n",
       "FAIR           230\n",
       "EXCELLENT      192\n",
       "Name: view, dtype: int64"
      ]
     },
     "execution_count": 36,
     "metadata": {},
     "output_type": "execute_result"
    }
   ],
   "source": [
    "df3.view.value_counts()"
   ]
  },
  {
   "cell_type": "code",
   "execution_count": 37,
   "metadata": {},
   "outputs": [
    {
     "data": {
      "text/plain": [
       "Index(['price', 'bedrooms', 'bathrooms', 'sqft_living', 'sqft_lot', 'view',\n",
       "       'grade', 'yr_built', 'zipcode'],\n",
       "      dtype='object')"
      ]
     },
     "execution_count": 37,
     "metadata": {},
     "output_type": "execute_result"
    }
   ],
   "source": [
    "df_copy.columns"
   ]
  },
  {
   "cell_type": "code",
   "execution_count": 38,
   "metadata": {},
   "outputs": [
    {
     "data": {
      "text/plain": [
       "70"
      ]
     },
     "execution_count": 38,
     "metadata": {},
     "output_type": "execute_result"
    }
   ],
   "source": [
    "len(df_copy.zipcode.unique())"
   ]
  },
  {
   "cell_type": "code",
   "execution_count": 39,
   "metadata": {},
   "outputs": [],
   "source": [
    "#ohe = OneHotEncoder(drop = 'if_binary')\n",
    "\n",
    "#column_name = ['grade', 'view', 'zipcode']\n",
    "#features = cate_column.copy()\n",
    "\n",
    "#features2 = features[column_name]\n",
    "\n",
    "#cate_ohe = ohe.fit_transform(features2)\n",
    "\n",
    "#cate_ohe"
   ]
  },
  {
   "cell_type": "code",
   "execution_count": 40,
   "metadata": {},
   "outputs": [],
   "source": [
    "#name = ohe.get_feature_names_out()"
   ]
  },
  {
   "cell_type": "code",
   "execution_count": 41,
   "metadata": {
    "scrolled": true
   },
   "outputs": [],
   "source": [
    "#df3.grade.value_counts()"
   ]
  },
  {
   "cell_type": "code",
   "execution_count": 42,
   "metadata": {
    "scrolled": false
   },
   "outputs": [],
   "source": [
    "#cate_parsed = pd.DataFrame(cate_ohe.todense(), columns = name, index = features.index)\n",
    "#cate_parsed"
   ]
  },
  {
   "cell_type": "code",
   "execution_count": 43,
   "metadata": {},
   "outputs": [],
   "source": [
    "#cate_parsed.drop(columns = ['view_FAIR', 'grade_4_Low'], inplace = True)"
   ]
  },
  {
   "cell_type": "markdown",
   "metadata": {},
   "source": [
    "Dropping the view_Fair because it's not different in term of mean price compared to average, dropping low in grade because it's not significant to some other grades but significant to others."
   ]
  },
  {
   "cell_type": "code",
   "execution_count": 44,
   "metadata": {},
   "outputs": [],
   "source": [
    "# Creating dataframe with only numerical columns\n",
    "#numbers = train_df.select_dtypes(np.number)"
   ]
  },
  {
   "cell_type": "code",
   "execution_count": 45,
   "metadata": {},
   "outputs": [
    {
     "name": "stdout",
     "output_type": "stream",
     "text": [
      "<class 'pandas.core.frame.DataFrame'>\n",
      "Int64Index: 14350 entries, 14622 to 9180\n",
      "Data columns (total 9 columns):\n",
      " #   Column       Non-Null Count  Dtype  \n",
      "---  ------       --------------  -----  \n",
      " 0   bedrooms     14350 non-null  int64  \n",
      " 1   bathrooms    14350 non-null  float64\n",
      " 2   sqft_living  14350 non-null  float64\n",
      " 3   sqft_lot     14350 non-null  int64  \n",
      " 4   view         14308 non-null  object \n",
      " 5   grade        14350 non-null  object \n",
      " 6   yr_built     14350 non-null  int64  \n",
      " 7   zipcode      14350 non-null  int64  \n",
      " 8   price        14350 non-null  float64\n",
      "dtypes: float64(3), int64(4), object(2)\n",
      "memory usage: 1.1+ MB\n"
     ]
    }
   ],
   "source": [
    "df3.info()"
   ]
  },
  {
   "cell_type": "code",
   "execution_count": 46,
   "metadata": {
    "scrolled": true
   },
   "outputs": [],
   "source": [
    "#df3.zipcode = df3.zipcode.astype(str)"
   ]
  },
  {
   "cell_type": "code",
   "execution_count": 47,
   "metadata": {},
   "outputs": [
    {
     "data": {
      "text/plain": [
       "70"
      ]
     },
     "execution_count": 47,
     "metadata": {},
     "output_type": "execute_result"
    }
   ],
   "source": [
    "len(df3.zipcode.unique())"
   ]
  },
  {
   "cell_type": "code",
   "execution_count": null,
   "metadata": {},
   "outputs": [],
   "source": []
  },
  {
   "cell_type": "code",
   "execution_count": 48,
   "metadata": {
    "scrolled": true
   },
   "outputs": [
    {
     "data": {
      "text/plain": [
       "array([[     0.,      0.,      0., ...,   1983.,  98058., 335000.],\n",
       "       [     0.,      0.,      0., ...,   2003.,  98029., 729000.],\n",
       "       [     0.,      0.,      0., ...,   1947.,  98168., 283000.],\n",
       "       ...,\n",
       "       [     0.,      0.,      0., ...,   1960.,  98034., 620000.],\n",
       "       [     0.,      0.,      0., ...,   1954.,  98133., 265000.],\n",
       "       [     0.,      0.,      0., ...,   1942.,  98056., 139000.]])"
      ]
     },
     "execution_count": 48,
     "metadata": {},
     "output_type": "execute_result"
    }
   ],
   "source": [
    "cat_cols = [c for c in df3.columns if df3[c].dtype == 'O']\n",
    "\n",
    "encoder = OneHotEncoder(drop='if_binary')\n",
    "from sklearn.compose import ColumnTransformer\n",
    "\n",
    "# Create an columntransformer object.\n",
    "# This will help us to merge transformed columns\n",
    "# with the rest of the dataset.\n",
    "\n",
    "ct = ColumnTransformer(transformers=[('ohe', encoder, cat_cols)],\n",
    "                       remainder='passthrough')\n",
    "ct.fit(df3)\n",
    "X_train_enc = ct.transform(df3)\n",
    "X_train_enc"
   ]
  },
  {
   "cell_type": "code",
   "execution_count": 49,
   "metadata": {},
   "outputs": [
    {
     "name": "stderr",
     "output_type": "stream",
     "text": [
      "C:\\Users\\xiaoh\\anaconda3\\envs\\learn-env\\lib\\site-packages\\sklearn\\utils\\deprecation.py:87: FutureWarning: Function get_feature_names is deprecated; get_feature_names is deprecated in 1.0 and will be removed in 1.2. Please use get_feature_names_out instead.\n",
      "  warnings.warn(msg, category=FutureWarning)\n"
     ]
    }
   ],
   "source": [
    "X_train_enc= pd.DataFrame(X_train_enc, columns= ct.get_feature_names())"
   ]
  },
  {
   "cell_type": "code",
   "execution_count": 50,
   "metadata": {
    "scrolled": true
   },
   "outputs": [],
   "source": [
    "#Rework to include only the train_df\n",
    "#ss = StandardScaler()\n",
    "\n",
    "#columns_name1 = ['price', 'sqft_living']\n",
    "#numbers_scaling = numbers.copy()\n",
    "\n",
    "#features= numbers_scaling[columns_name1]\n",
    "\n",
    "#scale1 = ss.fit(features)\n",
    "#scale2 = scale1.transform(features)\n",
    "#numbers_scaling[columns_name1] = scale2\n",
    "\n",
    "#numbers_scaling"
   ]
  },
  {
   "cell_type": "code",
   "execution_count": 51,
   "metadata": {},
   "outputs": [
    {
     "data": {
      "text/plain": [
       "array([[-0.21552789, -0.11645273, -0.12762818, ...,  0.4036936 ,\n",
       "        -0.3746041 , -0.56265404],\n",
       "       [-0.21552789, -0.11645273, -0.12762818, ...,  1.08548407,\n",
       "        -0.91880207,  0.51143509],\n",
       "       [-0.21552789, -0.11645273, -0.12762818, ..., -0.82352925,\n",
       "         1.68959511, -0.70441199],\n",
       "       ...,\n",
       "       [-0.21552789, -0.11645273, -0.12762818, ..., -0.38036544,\n",
       "        -0.82497483,  0.21428861],\n",
       "       [-0.21552789, -0.11645273, -0.12762818, ..., -0.58490258,\n",
       "         1.03280445, -0.75348205],\n",
       "       [-0.21552789, -0.11645273, -0.12762818, ..., -0.99397686,\n",
       "        -0.41213499, -1.09697249]])"
      ]
     },
     "execution_count": 51,
     "metadata": {},
     "output_type": "execute_result"
    }
   ],
   "source": [
    "# Instantiate our scaler\n",
    "\n",
    "scaler = StandardScaler()\n",
    "\n",
    "# Fit our scaler \n",
    "\n",
    "scaler.fit(X_train_enc)\n",
    "\n",
    "# Transform training data\n",
    "\n",
    "X_train_scaled = scaler.transform(X_train_enc)\n",
    "X_train_scaled"
   ]
  },
  {
   "cell_type": "code",
   "execution_count": 52,
   "metadata": {},
   "outputs": [
    {
     "data": {
      "text/plain": [
       "(14350,)"
      ]
     },
     "execution_count": 52,
     "metadata": {},
     "output_type": "execute_result"
    }
   ],
   "source": [
    "y_train.shape"
   ]
  },
  {
   "cell_type": "code",
   "execution_count": 53,
   "metadata": {
    "scrolled": true
   },
   "outputs": [],
   "source": [
    "scaled_p_df = pd.DataFrame(X_train_scaled, columns= ct.get_feature_names_out(), index = y_train.index)"
   ]
  },
  {
   "cell_type": "code",
   "execution_count": 54,
   "metadata": {},
   "outputs": [
    {
     "data": {
      "text/html": [
       "<div>\n",
       "<style scoped>\n",
       "    .dataframe tbody tr th:only-of-type {\n",
       "        vertical-align: middle;\n",
       "    }\n",
       "\n",
       "    .dataframe tbody tr th {\n",
       "        vertical-align: top;\n",
       "    }\n",
       "\n",
       "    .dataframe thead th {\n",
       "        text-align: right;\n",
       "    }\n",
       "</style>\n",
       "<table border=\"1\" class=\"dataframe\">\n",
       "  <thead>\n",
       "    <tr style=\"text-align: right;\">\n",
       "      <th></th>\n",
       "      <th>ohe__view_AVERAGE</th>\n",
       "      <th>ohe__view_EXCELLENT</th>\n",
       "      <th>ohe__view_FAIR</th>\n",
       "      <th>ohe__view_GOOD</th>\n",
       "      <th>ohe__view_NONE</th>\n",
       "      <th>ohe__view_nan</th>\n",
       "      <th>ohe__grade_10_Very_Good</th>\n",
       "      <th>ohe__grade_11_Excellent</th>\n",
       "      <th>ohe__grade_12_Luxury</th>\n",
       "      <th>ohe__grade_13_Mansion</th>\n",
       "      <th>ohe__grade_4_Low</th>\n",
       "      <th>ohe__grade_5_Fair</th>\n",
       "      <th>ohe__grade_6_Low_Average</th>\n",
       "      <th>ohe__grade_7_Average</th>\n",
       "      <th>ohe__grade_8_Good</th>\n",
       "      <th>ohe__grade_9_Better</th>\n",
       "      <th>remainder__bedrooms</th>\n",
       "      <th>remainder__bathrooms</th>\n",
       "      <th>remainder__sqft_living</th>\n",
       "      <th>remainder__sqft_lot</th>\n",
       "      <th>remainder__yr_built</th>\n",
       "      <th>remainder__zipcode</th>\n",
       "      <th>remainder__price</th>\n",
       "    </tr>\n",
       "  </thead>\n",
       "  <tbody>\n",
       "    <tr>\n",
       "      <th>14622</th>\n",
       "      <td>-0.22</td>\n",
       "      <td>-0.12</td>\n",
       "      <td>-0.13</td>\n",
       "      <td>-0.15</td>\n",
       "      <td>0.33</td>\n",
       "      <td>-0.05</td>\n",
       "      <td>-0.24</td>\n",
       "      <td>-0.14</td>\n",
       "      <td>-0.07</td>\n",
       "      <td>-0.02</td>\n",
       "      <td>-0.04</td>\n",
       "      <td>-0.10</td>\n",
       "      <td>-0.32</td>\n",
       "      <td>1.18</td>\n",
       "      <td>-0.62</td>\n",
       "      <td>-0.37</td>\n",
       "      <td>0.66</td>\n",
       "      <td>0.49</td>\n",
       "      <td>-0.20</td>\n",
       "      <td>-0.17</td>\n",
       "      <td>0.40</td>\n",
       "      <td>-0.37</td>\n",
       "      <td>-0.56</td>\n",
       "    </tr>\n",
       "    <tr>\n",
       "      <th>1744</th>\n",
       "      <td>-0.22</td>\n",
       "      <td>-0.12</td>\n",
       "      <td>-0.13</td>\n",
       "      <td>-0.15</td>\n",
       "      <td>0.33</td>\n",
       "      <td>-0.05</td>\n",
       "      <td>-0.24</td>\n",
       "      <td>-0.14</td>\n",
       "      <td>-0.07</td>\n",
       "      <td>-0.02</td>\n",
       "      <td>-0.04</td>\n",
       "      <td>-0.10</td>\n",
       "      <td>-0.32</td>\n",
       "      <td>-0.84</td>\n",
       "      <td>-0.62</td>\n",
       "      <td>2.69</td>\n",
       "      <td>0.66</td>\n",
       "      <td>0.49</td>\n",
       "      <td>0.79</td>\n",
       "      <td>-0.24</td>\n",
       "      <td>1.09</td>\n",
       "      <td>-0.92</td>\n",
       "      <td>0.51</td>\n",
       "    </tr>\n",
       "    <tr>\n",
       "      <th>2729</th>\n",
       "      <td>-0.22</td>\n",
       "      <td>-0.12</td>\n",
       "      <td>-0.13</td>\n",
       "      <td>-0.15</td>\n",
       "      <td>0.33</td>\n",
       "      <td>-0.05</td>\n",
       "      <td>-0.24</td>\n",
       "      <td>-0.14</td>\n",
       "      <td>-0.07</td>\n",
       "      <td>-0.02</td>\n",
       "      <td>-0.04</td>\n",
       "      <td>-0.10</td>\n",
       "      <td>-0.32</td>\n",
       "      <td>1.18</td>\n",
       "      <td>-0.62</td>\n",
       "      <td>-0.37</td>\n",
       "      <td>-0.40</td>\n",
       "      <td>-1.46</td>\n",
       "      <td>-0.21</td>\n",
       "      <td>-0.25</td>\n",
       "      <td>-0.82</td>\n",
       "      <td>1.69</td>\n",
       "      <td>-0.70</td>\n",
       "    </tr>\n",
       "    <tr>\n",
       "      <th>13117</th>\n",
       "      <td>-0.22</td>\n",
       "      <td>-0.12</td>\n",
       "      <td>-0.13</td>\n",
       "      <td>-0.15</td>\n",
       "      <td>0.33</td>\n",
       "      <td>-0.05</td>\n",
       "      <td>-0.24</td>\n",
       "      <td>-0.14</td>\n",
       "      <td>-0.07</td>\n",
       "      <td>-0.02</td>\n",
       "      <td>-0.04</td>\n",
       "      <td>-0.10</td>\n",
       "      <td>-0.32</td>\n",
       "      <td>-0.84</td>\n",
       "      <td>1.60</td>\n",
       "      <td>-0.37</td>\n",
       "      <td>0.66</td>\n",
       "      <td>0.49</td>\n",
       "      <td>0.83</td>\n",
       "      <td>-0.25</td>\n",
       "      <td>-0.11</td>\n",
       "      <td>1.09</td>\n",
       "      <td>0.02</td>\n",
       "    </tr>\n",
       "    <tr>\n",
       "      <th>18281</th>\n",
       "      <td>-0.22</td>\n",
       "      <td>-0.12</td>\n",
       "      <td>-0.13</td>\n",
       "      <td>-0.15</td>\n",
       "      <td>0.33</td>\n",
       "      <td>-0.05</td>\n",
       "      <td>-0.24</td>\n",
       "      <td>-0.14</td>\n",
       "      <td>-0.07</td>\n",
       "      <td>-0.02</td>\n",
       "      <td>-0.04</td>\n",
       "      <td>-0.10</td>\n",
       "      <td>-0.32</td>\n",
       "      <td>1.18</td>\n",
       "      <td>-0.62</td>\n",
       "      <td>-0.37</td>\n",
       "      <td>-0.40</td>\n",
       "      <td>-0.48</td>\n",
       "      <td>-0.76</td>\n",
       "      <td>-0.17</td>\n",
       "      <td>-0.99</td>\n",
       "      <td>1.03</td>\n",
       "      <td>-0.32</td>\n",
       "    </tr>\n",
       "  </tbody>\n",
       "</table>\n",
       "</div>"
      ],
      "text/plain": [
       "       ohe__view_AVERAGE  ohe__view_EXCELLENT  ohe__view_FAIR  ohe__view_GOOD  \\\n",
       "14622              -0.22                -0.12           -0.13           -0.15   \n",
       "1744               -0.22                -0.12           -0.13           -0.15   \n",
       "2729               -0.22                -0.12           -0.13           -0.15   \n",
       "13117              -0.22                -0.12           -0.13           -0.15   \n",
       "18281              -0.22                -0.12           -0.13           -0.15   \n",
       "\n",
       "       ohe__view_NONE  ohe__view_nan  ohe__grade_10_Very_Good  \\\n",
       "14622            0.33          -0.05                    -0.24   \n",
       "1744             0.33          -0.05                    -0.24   \n",
       "2729             0.33          -0.05                    -0.24   \n",
       "13117            0.33          -0.05                    -0.24   \n",
       "18281            0.33          -0.05                    -0.24   \n",
       "\n",
       "       ohe__grade_11_Excellent  ohe__grade_12_Luxury  ohe__grade_13_Mansion  \\\n",
       "14622                    -0.14                 -0.07                  -0.02   \n",
       "1744                     -0.14                 -0.07                  -0.02   \n",
       "2729                     -0.14                 -0.07                  -0.02   \n",
       "13117                    -0.14                 -0.07                  -0.02   \n",
       "18281                    -0.14                 -0.07                  -0.02   \n",
       "\n",
       "       ohe__grade_4_Low  ohe__grade_5_Fair  ohe__grade_6_Low_Average  \\\n",
       "14622             -0.04              -0.10                     -0.32   \n",
       "1744              -0.04              -0.10                     -0.32   \n",
       "2729              -0.04              -0.10                     -0.32   \n",
       "13117             -0.04              -0.10                     -0.32   \n",
       "18281             -0.04              -0.10                     -0.32   \n",
       "\n",
       "       ohe__grade_7_Average  ohe__grade_8_Good  ohe__grade_9_Better  \\\n",
       "14622                  1.18              -0.62                -0.37   \n",
       "1744                  -0.84              -0.62                 2.69   \n",
       "2729                   1.18              -0.62                -0.37   \n",
       "13117                 -0.84               1.60                -0.37   \n",
       "18281                  1.18              -0.62                -0.37   \n",
       "\n",
       "       remainder__bedrooms  remainder__bathrooms  remainder__sqft_living  \\\n",
       "14622                 0.66                  0.49                   -0.20   \n",
       "1744                  0.66                  0.49                    0.79   \n",
       "2729                 -0.40                 -1.46                   -0.21   \n",
       "13117                 0.66                  0.49                    0.83   \n",
       "18281                -0.40                 -0.48                   -0.76   \n",
       "\n",
       "       remainder__sqft_lot  remainder__yr_built  remainder__zipcode  \\\n",
       "14622                -0.17                 0.40               -0.37   \n",
       "1744                 -0.24                 1.09               -0.92   \n",
       "2729                 -0.25                -0.82                1.69   \n",
       "13117                -0.25                -0.11                1.09   \n",
       "18281                -0.17                -0.99                1.03   \n",
       "\n",
       "       remainder__price  \n",
       "14622             -0.56  \n",
       "1744               0.51  \n",
       "2729              -0.70  \n",
       "13117              0.02  \n",
       "18281             -0.32  "
      ]
     },
     "execution_count": 54,
     "metadata": {},
     "output_type": "execute_result"
    }
   ],
   "source": [
    "scaled_p_df.head()"
   ]
  },
  {
   "cell_type": "code",
   "execution_count": 55,
   "metadata": {},
   "outputs": [],
   "source": [
    "scaled_p_df.columns = [x.replace(\"ohe__\", \"\").replace('remainder__','').strip() for x in scaled_p_df.columns]"
   ]
  },
  {
   "cell_type": "code",
   "execution_count": 56,
   "metadata": {},
   "outputs": [
    {
     "data": {
      "text/html": [
       "<div>\n",
       "<style scoped>\n",
       "    .dataframe tbody tr th:only-of-type {\n",
       "        vertical-align: middle;\n",
       "    }\n",
       "\n",
       "    .dataframe tbody tr th {\n",
       "        vertical-align: top;\n",
       "    }\n",
       "\n",
       "    .dataframe thead th {\n",
       "        text-align: right;\n",
       "    }\n",
       "</style>\n",
       "<table border=\"1\" class=\"dataframe\">\n",
       "  <thead>\n",
       "    <tr style=\"text-align: right;\">\n",
       "      <th></th>\n",
       "      <th>view_AVERAGE</th>\n",
       "      <th>view_EXCELLENT</th>\n",
       "      <th>view_FAIR</th>\n",
       "      <th>view_GOOD</th>\n",
       "      <th>view_NONE</th>\n",
       "      <th>view_nan</th>\n",
       "      <th>grade_10_Very_Good</th>\n",
       "      <th>grade_11_Excellent</th>\n",
       "      <th>grade_12_Luxury</th>\n",
       "      <th>grade_13_Mansion</th>\n",
       "      <th>grade_4_Low</th>\n",
       "      <th>grade_5_Fair</th>\n",
       "      <th>grade_6_Low_Average</th>\n",
       "      <th>grade_7_Average</th>\n",
       "      <th>grade_8_Good</th>\n",
       "      <th>grade_9_Better</th>\n",
       "      <th>bedrooms</th>\n",
       "      <th>bathrooms</th>\n",
       "      <th>sqft_living</th>\n",
       "      <th>sqft_lot</th>\n",
       "      <th>yr_built</th>\n",
       "      <th>zipcode</th>\n",
       "      <th>price</th>\n",
       "    </tr>\n",
       "  </thead>\n",
       "  <tbody>\n",
       "    <tr>\n",
       "      <th>14622</th>\n",
       "      <td>-0.22</td>\n",
       "      <td>-0.12</td>\n",
       "      <td>-0.13</td>\n",
       "      <td>-0.15</td>\n",
       "      <td>0.33</td>\n",
       "      <td>-0.05</td>\n",
       "      <td>-0.24</td>\n",
       "      <td>-0.14</td>\n",
       "      <td>-0.07</td>\n",
       "      <td>-0.02</td>\n",
       "      <td>-0.04</td>\n",
       "      <td>-0.10</td>\n",
       "      <td>-0.32</td>\n",
       "      <td>1.18</td>\n",
       "      <td>-0.62</td>\n",
       "      <td>-0.37</td>\n",
       "      <td>0.66</td>\n",
       "      <td>0.49</td>\n",
       "      <td>-0.20</td>\n",
       "      <td>-0.17</td>\n",
       "      <td>0.40</td>\n",
       "      <td>-0.37</td>\n",
       "      <td>-0.56</td>\n",
       "    </tr>\n",
       "    <tr>\n",
       "      <th>1744</th>\n",
       "      <td>-0.22</td>\n",
       "      <td>-0.12</td>\n",
       "      <td>-0.13</td>\n",
       "      <td>-0.15</td>\n",
       "      <td>0.33</td>\n",
       "      <td>-0.05</td>\n",
       "      <td>-0.24</td>\n",
       "      <td>-0.14</td>\n",
       "      <td>-0.07</td>\n",
       "      <td>-0.02</td>\n",
       "      <td>-0.04</td>\n",
       "      <td>-0.10</td>\n",
       "      <td>-0.32</td>\n",
       "      <td>-0.84</td>\n",
       "      <td>-0.62</td>\n",
       "      <td>2.69</td>\n",
       "      <td>0.66</td>\n",
       "      <td>0.49</td>\n",
       "      <td>0.79</td>\n",
       "      <td>-0.24</td>\n",
       "      <td>1.09</td>\n",
       "      <td>-0.92</td>\n",
       "      <td>0.51</td>\n",
       "    </tr>\n",
       "    <tr>\n",
       "      <th>2729</th>\n",
       "      <td>-0.22</td>\n",
       "      <td>-0.12</td>\n",
       "      <td>-0.13</td>\n",
       "      <td>-0.15</td>\n",
       "      <td>0.33</td>\n",
       "      <td>-0.05</td>\n",
       "      <td>-0.24</td>\n",
       "      <td>-0.14</td>\n",
       "      <td>-0.07</td>\n",
       "      <td>-0.02</td>\n",
       "      <td>-0.04</td>\n",
       "      <td>-0.10</td>\n",
       "      <td>-0.32</td>\n",
       "      <td>1.18</td>\n",
       "      <td>-0.62</td>\n",
       "      <td>-0.37</td>\n",
       "      <td>-0.40</td>\n",
       "      <td>-1.46</td>\n",
       "      <td>-0.21</td>\n",
       "      <td>-0.25</td>\n",
       "      <td>-0.82</td>\n",
       "      <td>1.69</td>\n",
       "      <td>-0.70</td>\n",
       "    </tr>\n",
       "    <tr>\n",
       "      <th>13117</th>\n",
       "      <td>-0.22</td>\n",
       "      <td>-0.12</td>\n",
       "      <td>-0.13</td>\n",
       "      <td>-0.15</td>\n",
       "      <td>0.33</td>\n",
       "      <td>-0.05</td>\n",
       "      <td>-0.24</td>\n",
       "      <td>-0.14</td>\n",
       "      <td>-0.07</td>\n",
       "      <td>-0.02</td>\n",
       "      <td>-0.04</td>\n",
       "      <td>-0.10</td>\n",
       "      <td>-0.32</td>\n",
       "      <td>-0.84</td>\n",
       "      <td>1.60</td>\n",
       "      <td>-0.37</td>\n",
       "      <td>0.66</td>\n",
       "      <td>0.49</td>\n",
       "      <td>0.83</td>\n",
       "      <td>-0.25</td>\n",
       "      <td>-0.11</td>\n",
       "      <td>1.09</td>\n",
       "      <td>0.02</td>\n",
       "    </tr>\n",
       "    <tr>\n",
       "      <th>18281</th>\n",
       "      <td>-0.22</td>\n",
       "      <td>-0.12</td>\n",
       "      <td>-0.13</td>\n",
       "      <td>-0.15</td>\n",
       "      <td>0.33</td>\n",
       "      <td>-0.05</td>\n",
       "      <td>-0.24</td>\n",
       "      <td>-0.14</td>\n",
       "      <td>-0.07</td>\n",
       "      <td>-0.02</td>\n",
       "      <td>-0.04</td>\n",
       "      <td>-0.10</td>\n",
       "      <td>-0.32</td>\n",
       "      <td>1.18</td>\n",
       "      <td>-0.62</td>\n",
       "      <td>-0.37</td>\n",
       "      <td>-0.40</td>\n",
       "      <td>-0.48</td>\n",
       "      <td>-0.76</td>\n",
       "      <td>-0.17</td>\n",
       "      <td>-0.99</td>\n",
       "      <td>1.03</td>\n",
       "      <td>-0.32</td>\n",
       "    </tr>\n",
       "  </tbody>\n",
       "</table>\n",
       "</div>"
      ],
      "text/plain": [
       "       view_AVERAGE  view_EXCELLENT  view_FAIR  view_GOOD  view_NONE  \\\n",
       "14622         -0.22           -0.12      -0.13      -0.15       0.33   \n",
       "1744          -0.22           -0.12      -0.13      -0.15       0.33   \n",
       "2729          -0.22           -0.12      -0.13      -0.15       0.33   \n",
       "13117         -0.22           -0.12      -0.13      -0.15       0.33   \n",
       "18281         -0.22           -0.12      -0.13      -0.15       0.33   \n",
       "\n",
       "       view_nan  grade_10_Very_Good  grade_11_Excellent  grade_12_Luxury  \\\n",
       "14622     -0.05               -0.24               -0.14            -0.07   \n",
       "1744      -0.05               -0.24               -0.14            -0.07   \n",
       "2729      -0.05               -0.24               -0.14            -0.07   \n",
       "13117     -0.05               -0.24               -0.14            -0.07   \n",
       "18281     -0.05               -0.24               -0.14            -0.07   \n",
       "\n",
       "       grade_13_Mansion  grade_4_Low  grade_5_Fair  grade_6_Low_Average  \\\n",
       "14622             -0.02        -0.04         -0.10                -0.32   \n",
       "1744              -0.02        -0.04         -0.10                -0.32   \n",
       "2729              -0.02        -0.04         -0.10                -0.32   \n",
       "13117             -0.02        -0.04         -0.10                -0.32   \n",
       "18281             -0.02        -0.04         -0.10                -0.32   \n",
       "\n",
       "       grade_7_Average  grade_8_Good  grade_9_Better  bedrooms  bathrooms  \\\n",
       "14622             1.18         -0.62           -0.37      0.66       0.49   \n",
       "1744             -0.84         -0.62            2.69      0.66       0.49   \n",
       "2729              1.18         -0.62           -0.37     -0.40      -1.46   \n",
       "13117            -0.84          1.60           -0.37      0.66       0.49   \n",
       "18281             1.18         -0.62           -0.37     -0.40      -0.48   \n",
       "\n",
       "       sqft_living  sqft_lot  yr_built  zipcode  price  \n",
       "14622        -0.20     -0.17      0.40    -0.37  -0.56  \n",
       "1744          0.79     -0.24      1.09    -0.92   0.51  \n",
       "2729         -0.21     -0.25     -0.82     1.69  -0.70  \n",
       "13117         0.83     -0.25     -0.11     1.09   0.02  \n",
       "18281        -0.76     -0.17     -0.99     1.03  -0.32  "
      ]
     },
     "execution_count": 56,
     "metadata": {},
     "output_type": "execute_result"
    }
   ],
   "source": [
    "scaled_p_df.head()"
   ]
  },
  {
   "cell_type": "code",
   "execution_count": 57,
   "metadata": {},
   "outputs": [],
   "source": [
    "scaled_p_df.drop(columns = ['view_FAIR', 'grade_4_Low'], inplace = True)"
   ]
  },
  {
   "cell_type": "code",
   "execution_count": 58,
   "metadata": {
    "scrolled": true
   },
   "outputs": [],
   "source": [
    "#cate_parsed.info()"
   ]
  },
  {
   "cell_type": "code",
   "execution_count": 59,
   "metadata": {},
   "outputs": [],
   "source": [
    "#cate_parsed.head()"
   ]
  },
  {
   "cell_type": "code",
   "execution_count": 60,
   "metadata": {},
   "outputs": [],
   "source": [
    "#combinig scale and ohe\n",
    "#scaled_and_parse_df = pd.concat([numbers_scaling, cate_parsed], axis = 1)"
   ]
  },
  {
   "cell_type": "code",
   "execution_count": 61,
   "metadata": {},
   "outputs": [],
   "source": [
    "#scaled_and_parse_df.columns = [x.replace(\" \", \"_\").strip() for x in scaled_and_parse_df.columns]"
   ]
  },
  {
   "cell_type": "code",
   "execution_count": 62,
   "metadata": {},
   "outputs": [
    {
     "data": {
      "image/png": "[encoded data removed]",
      "text/plain": [
       "<Figure size 432x288 with 1 Axes>"
      ]
     },
     "metadata": {
      "needs_background": "light"
     },
     "output_type": "display_data"
    }
   ],
   "source": [
    "fig, ax = plt.subplots()\n",
    "\n",
    "x = scaled_p_df['sqft_living']\n",
    "y = scaled_p_df['price']\n",
    "\n",
    "\n",
    "ax.scatter(x, y);"
   ]
  },
  {
   "cell_type": "code",
   "execution_count": 63,
   "metadata": {},
   "outputs": [
    {
     "data": {
      "text/plain": [
       "array([[1.       , 0.7019173],\n",
       "       [0.7019173, 1.       ]])"
      ]
     },
     "execution_count": 63,
     "metadata": {},
     "output_type": "execute_result"
    }
   ],
   "source": [
    "np.corrcoef(df['sqft_living'],df['price'])"
   ]
  },
  {
   "cell_type": "code",
   "execution_count": 64,
   "metadata": {},
   "outputs": [
    {
     "data": {
      "text/plain": [
       "0.0"
      ]
     },
     "execution_count": 64,
     "metadata": {},
     "output_type": "execute_result"
    }
   ],
   "source": [
    "# Baseline model\n",
    "# Import necessary package\n",
    "from sklearn.dummy import DummyRegressor\n",
    "\n",
    "# Instantiate\n",
    "dummy_lr = DummyRegressor()\n",
    "\n",
    "# Create variables\n",
    "X = scaled_p_df['sqft_living']\n",
    "y = scaled_p_df['price']\n",
    "\n",
    "# Fit\n",
    "dummy_lr.fit(X,y)\n",
    "\n",
    "# Score\n",
    "dummy_lr.score(X,y)"
   ]
  },
  {
   "cell_type": "code",
   "execution_count": 65,
   "metadata": {},
   "outputs": [],
   "source": [
    "#Define X and y variable using scaled & parse dataframe\n",
    "\n",
    "X_s_p = scaled_p_df[['sqft_living']]\n",
    "y_s_p = scaled_p_df[['price']]"
   ]
  },
  {
   "cell_type": "code",
   "execution_count": 66,
   "metadata": {},
   "outputs": [
    {
     "name": "stderr",
     "output_type": "stream",
     "text": [
      "C:\\Users\\xiaoh\\anaconda3\\envs\\learn-env\\lib\\site-packages\\sklearn\\base.py:493: FutureWarning: The feature names should match those that were passed during fit. Starting version 1.2, an error will be raised.\n",
      "Feature names unseen at fit time:\n",
      "- price\n",
      "Feature names seen at fit time, yet now missing:\n",
      "- sqft_living\n",
      "\n",
      "  warnings.warn(message, FutureWarning)\n"
     ]
    },
    {
     "data": {
      "text/plain": [
       "array([[-0.34145182],\n",
       "       [ 0.31036913],\n",
       "       [-0.42747895],\n",
       "       ...,\n",
       "       [ 0.13004303],\n",
       "       [-0.45725758],\n",
       "       [-0.66570793]])"
      ]
     },
     "execution_count": 66,
     "metadata": {},
     "output_type": "execute_result"
    }
   ],
   "source": [
    "sk_lr = LinearRegression()\n",
    "sk_lr.fit(X_s_p, y_s_p)\n",
    "preds = sk_lr.predict(y_s_p)\n",
    "\n",
    "preds"
   ]
  },
  {
   "cell_type": "code",
   "execution_count": 67,
   "metadata": {},
   "outputs": [],
   "source": [
    "X = scaled_p_df['sqft_living']\n",
    "y = scaled_p_df[['price']]"
   ]
  },
  {
   "cell_type": "code",
   "execution_count": 68,
   "metadata": {},
   "outputs": [],
   "source": [
    "X = scaled_p_df['sqft_living']\n",
    "y = scaled_p_df[['price']]\n"
   ]
  },
  {
   "cell_type": "code",
   "execution_count": 69,
   "metadata": {},
   "outputs": [
    {
     "data": {
      "text/html": [
       "<div>\n",
       "<style scoped>\n",
       "    .dataframe tbody tr th:only-of-type {\n",
       "        vertical-align: middle;\n",
       "    }\n",
       "\n",
       "    .dataframe tbody tr th {\n",
       "        vertical-align: top;\n",
       "    }\n",
       "\n",
       "    .dataframe thead th {\n",
       "        text-align: right;\n",
       "    }\n",
       "</style>\n",
       "<table border=\"1\" class=\"dataframe\">\n",
       "  <thead>\n",
       "    <tr style=\"text-align: right;\">\n",
       "      <th></th>\n",
       "      <th>price</th>\n",
       "    </tr>\n",
       "  </thead>\n",
       "  <tbody>\n",
       "    <tr>\n",
       "      <th>14622</th>\n",
       "      <td>-0.22</td>\n",
       "    </tr>\n",
       "    <tr>\n",
       "      <th>1744</th>\n",
       "      <td>0.20</td>\n",
       "    </tr>\n",
       "    <tr>\n",
       "      <th>2729</th>\n",
       "      <td>-0.28</td>\n",
       "    </tr>\n",
       "    <tr>\n",
       "      <th>13117</th>\n",
       "      <td>0.01</td>\n",
       "    </tr>\n",
       "    <tr>\n",
       "      <th>18281</th>\n",
       "      <td>-0.12</td>\n",
       "    </tr>\n",
       "    <tr>\n",
       "      <th>...</th>\n",
       "      <td>...</td>\n",
       "    </tr>\n",
       "    <tr>\n",
       "      <th>13105</th>\n",
       "      <td>-0.26</td>\n",
       "    </tr>\n",
       "    <tr>\n",
       "      <th>17476</th>\n",
       "      <td>-0.29</td>\n",
       "    </tr>\n",
       "    <tr>\n",
       "      <th>9990</th>\n",
       "      <td>0.08</td>\n",
       "    </tr>\n",
       "    <tr>\n",
       "      <th>338</th>\n",
       "      <td>-0.30</td>\n",
       "    </tr>\n",
       "    <tr>\n",
       "      <th>9180</th>\n",
       "      <td>-0.43</td>\n",
       "    </tr>\n",
       "  </tbody>\n",
       "</table>\n",
       "<p>14350 rows × 1 columns</p>\n",
       "</div>"
      ],
      "text/plain": [
       "       price\n",
       "14622  -0.22\n",
       "1744    0.20\n",
       "2729   -0.28\n",
       "13117   0.01\n",
       "18281  -0.12\n",
       "...      ...\n",
       "13105  -0.26\n",
       "17476  -0.29\n",
       "9990    0.08\n",
       "338    -0.30\n",
       "9180   -0.43\n",
       "\n",
       "[14350 rows x 1 columns]"
      ]
     },
     "execution_count": 69,
     "metadata": {},
     "output_type": "execute_result"
    }
   ],
   "source": [
    "X = scaled_p_df['sqft_living']\n",
    "y = scaled_p_df[['price']]\n",
    "resids = y - preds\n",
    "resids"
   ]
  },
  {
   "cell_type": "code",
   "execution_count": 70,
   "metadata": {},
   "outputs": [
    {
     "data": {
      "text/plain": [
       "119"
      ]
     },
     "execution_count": 70,
     "metadata": {},
     "output_type": "execute_result"
    }
   ],
   "source": [
    "#Create out bins\n",
    "\n",
    "bins = int( len(X)**.5)\n",
    "bins"
   ]
  },
  {
   "cell_type": "code",
   "execution_count": 71,
   "metadata": {},
   "outputs": [
    {
     "data": {
      "image/png": "[encoded data removed]",
      "text/plain": [
       "<Figure size 432x288 with 1 Axes>"
      ]
     },
     "metadata": {
      "needs_background": "light"
     },
     "output_type": "display_data"
    }
   ],
   "source": [
    "# Histogram of residuals\n",
    "\n",
    "plt.hist(resids, bins=bins);"
   ]
  },
  {
   "cell_type": "code",
   "execution_count": 72,
   "metadata": {},
   "outputs": [
    {
     "name": "stdout",
     "output_type": "stream",
     "text": [
      "price   7.67\n",
      "dtype: float64\n"
     ]
    },
    {
     "data": {
      "text/plain": [
       "price   -0.49\n",
       "dtype: float64"
      ]
     },
     "execution_count": 72,
     "metadata": {},
     "output_type": "execute_result"
    }
   ],
   "source": [
    "print(resids.max())\n",
    "resids.min()"
   ]
  },
  {
   "cell_type": "code",
   "execution_count": 73,
   "metadata": {},
   "outputs": [
    {
     "data": {
      "text/plain": [
       "<seaborn.axisgrid.FacetGrid at 0x202a56fe370>"
      ]
     },
     "execution_count": 73,
     "metadata": {},
     "output_type": "execute_result"
    },
    {
     "data": {
      "image/png": "[encoded data removed]",
      "text/plain": [
       "<Figure size 420.875x360 with 1 Axes>"
      ]
     },
     "metadata": {
      "needs_background": "light"
     },
     "output_type": "display_data"
    }
   ],
   "source": [
    "sns.displot(resids, bins=bins, kde=True)"
   ]
  },
  {
   "cell_type": "code",
   "execution_count": 74,
   "metadata": {},
   "outputs": [
    {
     "data": {
      "image/png": "[encoded data removed]",
      "text/plain": [
       "<Figure size 432x288 with 1 Axes>"
      ]
     },
     "metadata": {
      "needs_background": "light"
     },
     "output_type": "display_data"
    }
   ],
   "source": [
    "sm.qqplot(resids, line='r');"
   ]
  },
  {
   "cell_type": "code",
   "execution_count": 75,
   "metadata": {},
   "outputs": [
    {
     "data": {
      "image/png": "[encoded data removed]",
      "text/plain": [
       "<Figure size 432x288 with 1 Axes>"
      ]
     },
     "metadata": {
      "needs_background": "light"
     },
     "output_type": "display_data"
    }
   ],
   "source": [
    "# resid plot sns.resid\n",
    "\n",
    "sns.residplot(x=X, y=y);"
   ]
  },
  {
   "cell_type": "code",
   "execution_count": 76,
   "metadata": {},
   "outputs": [
    {
     "data": {
      "image/png": "[encoded data removed]",
      "text/plain": [
       "<Figure size 432x288 with 1 Axes>"
      ]
     },
     "metadata": {
      "needs_background": "light"
     },
     "output_type": "display_data"
    }
   ],
   "source": [
    "plt.scatter(preds, resids);"
   ]
  },
  {
   "cell_type": "code",
   "execution_count": 77,
   "metadata": {},
   "outputs": [
    {
     "data": {
      "text/plain": [
       "DummyRegressor()"
      ]
     },
     "execution_count": 77,
     "metadata": {},
     "output_type": "execute_result"
    }
   ],
   "source": [
    "#Fit the dummy_regressor\n",
    "\n",
    "dummy_lr.fit(X_s_p,y_s_p)"
   ]
  },
  {
   "cell_type": "code",
   "execution_count": 78,
   "metadata": {},
   "outputs": [
    {
     "data": {
      "text/plain": [
       "0.0"
      ]
     },
     "execution_count": 78,
     "metadata": {},
     "output_type": "execute_result"
    }
   ],
   "source": [
    "# Score it\n",
    "\n",
    "dummy_lr.score(X_s_p,y_s_p)"
   ]
  },
  {
   "cell_type": "markdown",
   "metadata": {},
   "source": [
    "# Modeling"
   ]
  },
  {
   "cell_type": "code",
   "execution_count": 79,
   "metadata": {},
   "outputs": [
    {
     "data": {
      "text/html": [
       "<table class=\"simpletable\">\n",
       "<caption>OLS Regression Results</caption>\n",
       "<tr>\n",
       "  <th>Dep. Variable:</th>          <td>price</td>      <th>  R-squared:         </th> <td>   0.368</td> \n",
       "</tr>\n",
       "<tr>\n",
       "  <th>Model:</th>                   <td>OLS</td>       <th>  Adj. R-squared:    </th> <td>   0.368</td> \n",
       "</tr>\n",
       "<tr>\n",
       "  <th>Method:</th>             <td>Least Squares</td>  <th>  F-statistic:       </th> <td>   8365.</td> \n",
       "</tr>\n",
       "<tr>\n",
       "  <th>Date:</th>             <td>Tue, 29 Mar 2022</td> <th>  Prob (F-statistic):</th>  <td>  0.00</td>  \n",
       "</tr>\n",
       "<tr>\n",
       "  <th>Time:</th>                 <td>16:02:55</td>     <th>  Log-Likelihood:    </th> <td> -17066.</td> \n",
       "</tr>\n",
       "<tr>\n",
       "  <th>No. Observations:</th>      <td> 14350</td>      <th>  AIC:               </th> <td>3.414e+04</td>\n",
       "</tr>\n",
       "<tr>\n",
       "  <th>Df Residuals:</th>          <td> 14348</td>      <th>  BIC:               </th> <td>3.415e+04</td>\n",
       "</tr>\n",
       "<tr>\n",
       "  <th>Df Model:</th>              <td>     1</td>      <th>                     </th>     <td> </td>    \n",
       "</tr>\n",
       "<tr>\n",
       "  <th>Covariance Type:</th>      <td>nonrobust</td>    <th>                     </th>     <td> </td>    \n",
       "</tr>\n",
       "</table>\n",
       "<table class=\"simpletable\">\n",
       "<tr>\n",
       "       <td></td>          <th>coef</th>     <th>std err</th>      <th>t</th>      <th>P>|t|</th>  <th>[0.025</th>    <th>0.975]</th>  \n",
       "</tr>\n",
       "<tr>\n",
       "  <th>Intercept</th>   <td>-4.116e-14</td> <td>    0.007</td> <td> -6.2e-12</td> <td> 1.000</td> <td>   -0.013</td> <td>    0.013</td>\n",
       "</tr>\n",
       "<tr>\n",
       "  <th>sqft_living</th> <td>    0.6069</td> <td>    0.007</td> <td>   91.458</td> <td> 0.000</td> <td>    0.594</td> <td>    0.620</td>\n",
       "</tr>\n",
       "</table>\n",
       "<table class=\"simpletable\">\n",
       "<tr>\n",
       "  <th>Omnibus:</th>       <td>13227.742</td> <th>  Durbin-Watson:     </th>  <td>   1.993</td>  \n",
       "</tr>\n",
       "<tr>\n",
       "  <th>Prob(Omnibus):</th>  <td> 0.000</td>   <th>  Jarque-Bera (JB):  </th> <td>1260597.499</td>\n",
       "</tr>\n",
       "<tr>\n",
       "  <th>Skew:</th>           <td> 4.113</td>   <th>  Prob(JB):          </th>  <td>    0.00</td>  \n",
       "</tr>\n",
       "<tr>\n",
       "  <th>Kurtosis:</th>       <td>48.174</td>   <th>  Cond. No.          </th>  <td>    1.00</td>  \n",
       "</tr>\n",
       "</table><br/><br/>Notes:<br/>[1] Standard Errors assume that the covariance matrix of the errors is correctly specified."
      ],
      "text/plain": [
       "<class 'statsmodels.iolib.summary.Summary'>\n",
       "\"\"\"\n",
       "                            OLS Regression Results                            \n",
       "==============================================================================\n",
       "Dep. Variable:                  price   R-squared:                       0.368\n",
       "Model:                            OLS   Adj. R-squared:                  0.368\n",
       "Method:                 Least Squares   F-statistic:                     8365.\n",
       "Date:                Tue, 29 Mar 2022   Prob (F-statistic):               0.00\n",
       "Time:                        16:02:55   Log-Likelihood:                -17066.\n",
       "No. Observations:               14350   AIC:                         3.414e+04\n",
       "Df Residuals:                   14348   BIC:                         3.415e+04\n",
       "Df Model:                           1                                         \n",
       "Covariance Type:            nonrobust                                         \n",
       "===============================================================================\n",
       "                  coef    std err          t      P>|t|      [0.025      0.975]\n",
       "-------------------------------------------------------------------------------\n",
       "Intercept   -4.116e-14      0.007   -6.2e-12      1.000      -0.013       0.013\n",
       "sqft_living     0.6069      0.007     91.458      0.000       0.594       0.620\n",
       "==============================================================================\n",
       "Omnibus:                    13227.742   Durbin-Watson:                   1.993\n",
       "Prob(Omnibus):                  0.000   Jarque-Bera (JB):          1260597.499\n",
       "Skew:                           4.113   Prob(JB):                         0.00\n",
       "Kurtosis:                      48.174   Cond. No.                         1.00\n",
       "==============================================================================\n",
       "\n",
       "Notes:\n",
       "[1] Standard Errors assume that the covariance matrix of the errors is correctly specified.\n",
       "\"\"\""
      ]
     },
     "execution_count": 79,
     "metadata": {},
     "output_type": "execute_result"
    }
   ],
   "source": [
    "# Creating a straightforward, initial model --\n",
    "# just for kicks\n",
    "simple_formula = 'price ~ sqft_living'\n",
    "simple_models = ols(formula = simple_formula,\n",
    "                   data = scaled_p_df).fit()\n",
    "simple_mod_summ = simple_models.summary()\n",
    "\n",
    "simple_mod_summ"
   ]
  },
  {
   "cell_type": "code",
   "execution_count": 80,
   "metadata": {},
   "outputs": [
    {
     "data": {
      "text/plain": [
       "<matplotlib.collections.PathCollection at 0x202a943b460>"
      ]
     },
     "execution_count": 80,
     "metadata": {},
     "output_type": "execute_result"
    },
    {
     "data": {
      "image/png": "[encoded data removed]",
      "text/plain": [
       "<Figure size 1080x360 with 2 Axes>"
      ]
     },
     "metadata": {
      "needs_background": "light"
     },
     "output_type": "display_data"
    }
   ],
   "source": [
    "fig, ax = plt.subplots(ncols=2,figsize=(15,5))\n",
    "\n",
    "x1 = scaled_p_df[['sqft_living']]\n",
    "y1 = scaled_p_df[['price']]\n",
    "\n",
    "# x2 = scaled_and_parse_df[['bedrooms']]\n",
    "\n",
    "ax[0].scatter(x1, y1)\n",
    "# ax[1].scatter(x2,y1);"
   ]
  },
  {
   "cell_type": "code",
   "execution_count": 81,
   "metadata": {
    "scrolled": false
   },
   "outputs": [
    {
     "data": {
      "text/html": [
       "<table class=\"simpletable\">\n",
       "<caption>OLS Regression Results</caption>\n",
       "<tr>\n",
       "  <th>Dep. Variable:</th>          <td>price</td>      <th>  R-squared:         </th> <td>   0.571</td> \n",
       "</tr>\n",
       "<tr>\n",
       "  <th>Model:</th>                   <td>OLS</td>       <th>  Adj. R-squared:    </th> <td>   0.570</td> \n",
       "</tr>\n",
       "<tr>\n",
       "  <th>Method:</th>             <td>Least Squares</td>  <th>  F-statistic:       </th> <td>   1732.</td> \n",
       "</tr>\n",
       "<tr>\n",
       "  <th>Date:</th>             <td>Tue, 29 Mar 2022</td> <th>  Prob (F-statistic):</th>  <td>  0.00</td>  \n",
       "</tr>\n",
       "<tr>\n",
       "  <th>Time:</th>                 <td>16:02:56</td>     <th>  Log-Likelihood:    </th> <td> -14295.</td> \n",
       "</tr>\n",
       "<tr>\n",
       "  <th>No. Observations:</th>      <td> 14350</td>      <th>  AIC:               </th> <td>2.861e+04</td>\n",
       "</tr>\n",
       "<tr>\n",
       "  <th>Df Residuals:</th>          <td> 14338</td>      <th>  BIC:               </th> <td>2.871e+04</td>\n",
       "</tr>\n",
       "<tr>\n",
       "  <th>Df Model:</th>              <td>    11</td>      <th>                     </th>     <td> </td>    \n",
       "</tr>\n",
       "<tr>\n",
       "  <th>Covariance Type:</th>      <td>nonrobust</td>    <th>                     </th>     <td> </td>    \n",
       "</tr>\n",
       "</table>\n",
       "<table class=\"simpletable\">\n",
       "<tr>\n",
       "           <td></td>              <th>coef</th>     <th>std err</th>      <th>t</th>      <th>P>|t|</th>  <th>[0.025</th>    <th>0.975]</th>  \n",
       "</tr>\n",
       "<tr>\n",
       "  <th>Intercept</th>           <td>-2.023e-14</td> <td>    0.005</td> <td> -3.7e-12</td> <td> 1.000</td> <td>   -0.011</td> <td>    0.011</td>\n",
       "</tr>\n",
       "<tr>\n",
       "  <th>sqft_living</th>         <td>    0.2798</td> <td>    0.008</td> <td>   34.494</td> <td> 0.000</td> <td>    0.264</td> <td>    0.296</td>\n",
       "</tr>\n",
       "<tr>\n",
       "  <th>view_GOOD</th>           <td>   -0.0020</td> <td>    0.006</td> <td>   -0.326</td> <td> 0.744</td> <td>   -0.014</td> <td>    0.010</td>\n",
       "</tr>\n",
       "<tr>\n",
       "  <th>view_NONE</th>           <td>   -0.1686</td> <td>    0.006</td> <td>  -26.621</td> <td> 0.000</td> <td>   -0.181</td> <td>   -0.156</td>\n",
       "</tr>\n",
       "<tr>\n",
       "  <th>grade_11_Excellent</th>  <td>    0.1145</td> <td>    0.006</td> <td>   18.138</td> <td> 0.000</td> <td>    0.102</td> <td>    0.127</td>\n",
       "</tr>\n",
       "<tr>\n",
       "  <th>grade_12_Luxury</th>     <td>    0.1665</td> <td>    0.006</td> <td>   29.094</td> <td> 0.000</td> <td>    0.155</td> <td>    0.178</td>\n",
       "</tr>\n",
       "<tr>\n",
       "  <th>grade_13_Mansion</th>    <td>    0.1601</td> <td>    0.006</td> <td>   29.067</td> <td> 0.000</td> <td>    0.149</td> <td>    0.171</td>\n",
       "</tr>\n",
       "<tr>\n",
       "  <th>grade_5_Fair</th>        <td>   -0.1246</td> <td>    0.006</td> <td>  -19.392</td> <td> 0.000</td> <td>   -0.137</td> <td>   -0.112</td>\n",
       "</tr>\n",
       "<tr>\n",
       "  <th>grade_6_Low_Average</th> <td>   -0.3562</td> <td>    0.011</td> <td>  -33.896</td> <td> 0.000</td> <td>   -0.377</td> <td>   -0.336</td>\n",
       "</tr>\n",
       "<tr>\n",
       "  <th>grade_7_Average</th>     <td>   -0.5896</td> <td>    0.014</td> <td>  -41.830</td> <td> 0.000</td> <td>   -0.617</td> <td>   -0.562</td>\n",
       "</tr>\n",
       "<tr>\n",
       "  <th>grade_8_Good</th>        <td>   -0.4601</td> <td>    0.012</td> <td>  -37.667</td> <td> 0.000</td> <td>   -0.484</td> <td>   -0.436</td>\n",
       "</tr>\n",
       "<tr>\n",
       "  <th>grade_9_Better</th>      <td>   -0.1993</td> <td>    0.009</td> <td>  -21.379</td> <td> 0.000</td> <td>   -0.218</td> <td>   -0.181</td>\n",
       "</tr>\n",
       "</table>\n",
       "<table class=\"simpletable\">\n",
       "<tr>\n",
       "  <th>Omnibus:</th>       <td>10708.680</td> <th>  Durbin-Watson:     </th>  <td>   1.995</td> \n",
       "</tr>\n",
       "<tr>\n",
       "  <th>Prob(Omnibus):</th>  <td> 0.000</td>   <th>  Jarque-Bera (JB):  </th> <td>706350.719</td>\n",
       "</tr>\n",
       "<tr>\n",
       "  <th>Skew:</th>           <td> 2.999</td>   <th>  Prob(JB):          </th>  <td>    0.00</td> \n",
       "</tr>\n",
       "<tr>\n",
       "  <th>Kurtosis:</th>       <td>36.844</td>   <th>  Cond. No.          </th>  <td>    5.85</td> \n",
       "</tr>\n",
       "</table><br/><br/>Notes:<br/>[1] Standard Errors assume that the covariance matrix of the errors is correctly specified."
      ],
      "text/plain": [
       "<class 'statsmodels.iolib.summary.Summary'>\n",
       "\"\"\"\n",
       "                            OLS Regression Results                            \n",
       "==============================================================================\n",
       "Dep. Variable:                  price   R-squared:                       0.571\n",
       "Model:                            OLS   Adj. R-squared:                  0.570\n",
       "Method:                 Least Squares   F-statistic:                     1732.\n",
       "Date:                Tue, 29 Mar 2022   Prob (F-statistic):               0.00\n",
       "Time:                        16:02:56   Log-Likelihood:                -14295.\n",
       "No. Observations:               14350   AIC:                         2.861e+04\n",
       "Df Residuals:                   14338   BIC:                         2.871e+04\n",
       "Df Model:                          11                                         \n",
       "Covariance Type:            nonrobust                                         \n",
       "=======================================================================================\n",
       "                          coef    std err          t      P>|t|      [0.025      0.975]\n",
       "---------------------------------------------------------------------------------------\n",
       "Intercept           -2.023e-14      0.005   -3.7e-12      1.000      -0.011       0.011\n",
       "sqft_living             0.2798      0.008     34.494      0.000       0.264       0.296\n",
       "view_GOOD              -0.0020      0.006     -0.326      0.744      -0.014       0.010\n",
       "view_NONE              -0.1686      0.006    -26.621      0.000      -0.181      -0.156\n",
       "grade_11_Excellent      0.1145      0.006     18.138      0.000       0.102       0.127\n",
       "grade_12_Luxury         0.1665      0.006     29.094      0.000       0.155       0.178\n",
       "grade_13_Mansion        0.1601      0.006     29.067      0.000       0.149       0.171\n",
       "grade_5_Fair           -0.1246      0.006    -19.392      0.000      -0.137      -0.112\n",
       "grade_6_Low_Average    -0.3562      0.011    -33.896      0.000      -0.377      -0.336\n",
       "grade_7_Average        -0.5896      0.014    -41.830      0.000      -0.617      -0.562\n",
       "grade_8_Good           -0.4601      0.012    -37.667      0.000      -0.484      -0.436\n",
       "grade_9_Better         -0.1993      0.009    -21.379      0.000      -0.218      -0.181\n",
       "==============================================================================\n",
       "Omnibus:                    10708.680   Durbin-Watson:                   1.995\n",
       "Prob(Omnibus):                  0.000   Jarque-Bera (JB):           706350.719\n",
       "Skew:                           2.999   Prob(JB):                         0.00\n",
       "Kurtosis:                      36.844   Cond. No.                         5.85\n",
       "==============================================================================\n",
       "\n",
       "Notes:\n",
       "[1] Standard Errors assume that the covariance matrix of the errors is correctly specified.\n",
       "\"\"\""
      ]
     },
     "execution_count": 81,
     "metadata": {},
     "output_type": "execute_result"
    }
   ],
   "source": [
    "simple_formula4 = 'price ~ sqft_living + view_GOOD + view_NONE + grade_11_Excellent + grade_12_Luxury + grade_13_Mansion + grade_5_Fair + grade_6_Low_Average + grade_7_Average + grade_8_Good+ grade_9_Better'          \n",
    "\n",
    "simple_model4 = ols(formula = simple_formula4,\n",
    "                   data = scaled_p_df).fit()\n",
    "\n",
    "simple_mod_summ4 = simple_model4.summary()\n",
    "\n",
    "simple_mod_summ4"
   ]
  },
  {
   "cell_type": "code",
   "execution_count": 82,
   "metadata": {},
   "outputs": [
    {
     "data": {
      "text/html": [
       "<table class=\"simpletable\">\n",
       "<caption>OLS Regression Results</caption>\n",
       "<tr>\n",
       "  <th>Dep. Variable:</th>          <td>price</td>      <th>  R-squared:         </th> <td>   0.535</td> \n",
       "</tr>\n",
       "<tr>\n",
       "  <th>Model:</th>                   <td>OLS</td>       <th>  Adj. R-squared:    </th> <td>   0.535</td> \n",
       "</tr>\n",
       "<tr>\n",
       "  <th>Method:</th>             <td>Least Squares</td>  <th>  F-statistic:       </th> <td>   1650.</td> \n",
       "</tr>\n",
       "<tr>\n",
       "  <th>Date:</th>             <td>Tue, 29 Mar 2022</td> <th>  Prob (F-statistic):</th>  <td>  0.00</td>  \n",
       "</tr>\n",
       "<tr>\n",
       "  <th>Time:</th>                 <td>16:02:57</td>     <th>  Log-Likelihood:    </th> <td> -14867.</td> \n",
       "</tr>\n",
       "<tr>\n",
       "  <th>No. Observations:</th>      <td> 14350</td>      <th>  AIC:               </th> <td>2.976e+04</td>\n",
       "</tr>\n",
       "<tr>\n",
       "  <th>Df Residuals:</th>          <td> 14339</td>      <th>  BIC:               </th> <td>2.984e+04</td>\n",
       "</tr>\n",
       "<tr>\n",
       "  <th>Df Model:</th>              <td>    10</td>      <th>                     </th>     <td> </td>    \n",
       "</tr>\n",
       "<tr>\n",
       "  <th>Covariance Type:</th>      <td>nonrobust</td>    <th>                     </th>     <td> </td>    \n",
       "</tr>\n",
       "</table>\n",
       "<table class=\"simpletable\">\n",
       "<tr>\n",
       "           <td></td>              <th>coef</th>     <th>std err</th>      <th>t</th>      <th>P>|t|</th>  <th>[0.025</th>    <th>0.975]</th>  \n",
       "</tr>\n",
       "<tr>\n",
       "  <th>Intercept</th>           <td>-9.614e-17</td> <td>    0.006</td> <td>-1.69e-14</td> <td> 1.000</td> <td>   -0.011</td> <td>    0.011</td>\n",
       "</tr>\n",
       "<tr>\n",
       "  <th>view_GOOD</th>           <td>   -0.0002</td> <td>    0.006</td> <td>   -0.028</td> <td> 0.978</td> <td>   -0.013</td> <td>    0.012</td>\n",
       "</tr>\n",
       "<tr>\n",
       "  <th>view_NONE</th>           <td>   -0.1885</td> <td>    0.007</td> <td>  -28.728</td> <td> 0.000</td> <td>   -0.201</td> <td>   -0.176</td>\n",
       "</tr>\n",
       "<tr>\n",
       "  <th>grade_11_Excellent</th>  <td>    0.1366</td> <td>    0.007</td> <td>   20.900</td> <td> 0.000</td> <td>    0.124</td> <td>    0.149</td>\n",
       "</tr>\n",
       "<tr>\n",
       "  <th>grade_12_Luxury</th>     <td>    0.1865</td> <td>    0.006</td> <td>   31.466</td> <td> 0.000</td> <td>    0.175</td> <td>    0.198</td>\n",
       "</tr>\n",
       "<tr>\n",
       "  <th>grade_13_Mansion</th>    <td>    0.1712</td> <td>    0.006</td> <td>   29.909</td> <td> 0.000</td> <td>    0.160</td> <td>    0.182</td>\n",
       "</tr>\n",
       "<tr>\n",
       "  <th>grade_5_Fair</th>        <td>   -0.2082</td> <td>    0.006</td> <td>  -33.609</td> <td> 0.000</td> <td>   -0.220</td> <td>   -0.196</td>\n",
       "</tr>\n",
       "<tr>\n",
       "  <th>grade_6_Low_Average</th> <td>   -0.5594</td> <td>    0.009</td> <td>  -61.762</td> <td> 0.000</td> <td>   -0.577</td> <td>   -0.542</td>\n",
       "</tr>\n",
       "<tr>\n",
       "  <th>grade_7_Average</th>     <td>   -0.8150</td> <td>    0.013</td> <td>  -62.703</td> <td> 0.000</td> <td>   -0.841</td> <td>   -0.790</td>\n",
       "</tr>\n",
       "<tr>\n",
       "  <th>grade_8_Good</th>        <td>   -0.5891</td> <td>    0.012</td> <td>  -48.675</td> <td> 0.000</td> <td>   -0.613</td> <td>   -0.565</td>\n",
       "</tr>\n",
       "<tr>\n",
       "  <th>grade_9_Better</th>      <td>   -0.2343</td> <td>    0.010</td> <td>  -24.301</td> <td> 0.000</td> <td>   -0.253</td> <td>   -0.215</td>\n",
       "</tr>\n",
       "</table>\n",
       "<table class=\"simpletable\">\n",
       "<tr>\n",
       "  <th>Omnibus:</th>       <td>10662.505</td> <th>  Durbin-Watson:     </th>  <td>   2.010</td> \n",
       "</tr>\n",
       "<tr>\n",
       "  <th>Prob(Omnibus):</th>  <td> 0.000</td>   <th>  Jarque-Bera (JB):  </th> <td>687729.522</td>\n",
       "</tr>\n",
       "<tr>\n",
       "  <th>Skew:</th>           <td> 2.985</td>   <th>  Prob(JB):          </th>  <td>    0.00</td> \n",
       "</tr>\n",
       "<tr>\n",
       "  <th>Kurtosis:</th>       <td>36.385</td>   <th>  Cond. No.          </th>  <td>    4.76</td> \n",
       "</tr>\n",
       "</table><br/><br/>Notes:<br/>[1] Standard Errors assume that the covariance matrix of the errors is correctly specified."
      ],
      "text/plain": [
       "<class 'statsmodels.iolib.summary.Summary'>\n",
       "\"\"\"\n",
       "                            OLS Regression Results                            \n",
       "==============================================================================\n",
       "Dep. Variable:                  price   R-squared:                       0.535\n",
       "Model:                            OLS   Adj. R-squared:                  0.535\n",
       "Method:                 Least Squares   F-statistic:                     1650.\n",
       "Date:                Tue, 29 Mar 2022   Prob (F-statistic):               0.00\n",
       "Time:                        16:02:57   Log-Likelihood:                -14867.\n",
       "No. Observations:               14350   AIC:                         2.976e+04\n",
       "Df Residuals:                   14339   BIC:                         2.984e+04\n",
       "Df Model:                          10                                         \n",
       "Covariance Type:            nonrobust                                         \n",
       "=======================================================================================\n",
       "                          coef    std err          t      P>|t|      [0.025      0.975]\n",
       "---------------------------------------------------------------------------------------\n",
       "Intercept           -9.614e-17      0.006  -1.69e-14      1.000      -0.011       0.011\n",
       "view_GOOD              -0.0002      0.006     -0.028      0.978      -0.013       0.012\n",
       "view_NONE              -0.1885      0.007    -28.728      0.000      -0.201      -0.176\n",
       "grade_11_Excellent      0.1366      0.007     20.900      0.000       0.124       0.149\n",
       "grade_12_Luxury         0.1865      0.006     31.466      0.000       0.175       0.198\n",
       "grade_13_Mansion        0.1712      0.006     29.909      0.000       0.160       0.182\n",
       "grade_5_Fair           -0.2082      0.006    -33.609      0.000      -0.220      -0.196\n",
       "grade_6_Low_Average    -0.5594      0.009    -61.762      0.000      -0.577      -0.542\n",
       "grade_7_Average        -0.8150      0.013    -62.703      0.000      -0.841      -0.790\n",
       "grade_8_Good           -0.5891      0.012    -48.675      0.000      -0.613      -0.565\n",
       "grade_9_Better         -0.2343      0.010    -24.301      0.000      -0.253      -0.215\n",
       "==============================================================================\n",
       "Omnibus:                    10662.505   Durbin-Watson:                   2.010\n",
       "Prob(Omnibus):                  0.000   Jarque-Bera (JB):           687729.522\n",
       "Skew:                           2.985   Prob(JB):                         0.00\n",
       "Kurtosis:                      36.385   Cond. No.                         4.76\n",
       "==============================================================================\n",
       "\n",
       "Notes:\n",
       "[1] Standard Errors assume that the covariance matrix of the errors is correctly specified.\n",
       "\"\"\""
      ]
     },
     "execution_count": 82,
     "metadata": {},
     "output_type": "execute_result"
    }
   ],
   "source": [
    "simple_formula4 = 'price ~  view_GOOD + view_NONE + grade_11_Excellent + grade_12_Luxury + grade_13_Mansion + grade_5_Fair + grade_6_Low_Average + grade_7_Average + grade_8_Good+ grade_9_Better'          \n",
    "\n",
    "simple_model4 = ols(formula = simple_formula4,\n",
    "                   data = scaled_p_df).fit()\n",
    "\n",
    "simple_mod_summ4 = simple_model4.summary()\n",
    "\n",
    "simple_mod_summ4"
   ]
  },
  {
   "cell_type": "code",
   "execution_count": 83,
   "metadata": {},
   "outputs": [
    {
     "data": {
      "text/html": [
       "<table class=\"simpletable\">\n",
       "<caption>OLS Regression Results</caption>\n",
       "<tr>\n",
       "  <th>Dep. Variable:</th>          <td>price</td>      <th>  R-squared:         </th> <td>   0.545</td> \n",
       "</tr>\n",
       "<tr>\n",
       "  <th>Model:</th>                   <td>OLS</td>       <th>  Adj. R-squared:    </th> <td>   0.544</td> \n",
       "</tr>\n",
       "<tr>\n",
       "  <th>Method:</th>             <td>Least Squares</td>  <th>  F-statistic:       </th> <td>   1905.</td> \n",
       "</tr>\n",
       "<tr>\n",
       "  <th>Date:</th>             <td>Tue, 29 Mar 2022</td> <th>  Prob (F-statistic):</th>  <td>  0.00</td>  \n",
       "</tr>\n",
       "<tr>\n",
       "  <th>Time:</th>                 <td>16:02:57</td>     <th>  Log-Likelihood:    </th> <td> -14719.</td> \n",
       "</tr>\n",
       "<tr>\n",
       "  <th>No. Observations:</th>      <td> 14350</td>      <th>  AIC:               </th> <td>2.946e+04</td>\n",
       "</tr>\n",
       "<tr>\n",
       "  <th>Df Residuals:</th>          <td> 14340</td>      <th>  BIC:               </th> <td>2.953e+04</td>\n",
       "</tr>\n",
       "<tr>\n",
       "  <th>Df Model:</th>              <td>     9</td>      <th>                     </th>     <td> </td>    \n",
       "</tr>\n",
       "<tr>\n",
       "  <th>Covariance Type:</th>      <td>nonrobust</td>    <th>                     </th>     <td> </td>    \n",
       "</tr>\n",
       "</table>\n",
       "<table class=\"simpletable\">\n",
       "<tr>\n",
       "           <td></td>              <th>coef</th>     <th>std err</th>      <th>t</th>      <th>P>|t|</th>  <th>[0.025</th>    <th>0.975]</th>  \n",
       "</tr>\n",
       "<tr>\n",
       "  <th>Intercept</th>           <td>-2.047e-14</td> <td>    0.006</td> <td>-3.63e-12</td> <td> 1.000</td> <td>   -0.011</td> <td>    0.011</td>\n",
       "</tr>\n",
       "<tr>\n",
       "  <th>sqft_living</th>         <td>    0.3052</td> <td>    0.008</td> <td>   36.741</td> <td> 0.000</td> <td>    0.289</td> <td>    0.321</td>\n",
       "</tr>\n",
       "<tr>\n",
       "  <th>grade_11_Excellent</th>  <td>    0.1214</td> <td>    0.006</td> <td>   18.690</td> <td> 0.000</td> <td>    0.109</td> <td>    0.134</td>\n",
       "</tr>\n",
       "<tr>\n",
       "  <th>grade_12_Luxury</th>     <td>    0.1759</td> <td>    0.006</td> <td>   29.886</td> <td> 0.000</td> <td>    0.164</td> <td>    0.187</td>\n",
       "</tr>\n",
       "<tr>\n",
       "  <th>grade_13_Mansion</th>    <td>    0.1648</td> <td>    0.006</td> <td>   29.070</td> <td> 0.000</td> <td>    0.154</td> <td>    0.176</td>\n",
       "</tr>\n",
       "<tr>\n",
       "  <th>grade_5_Fair</th>        <td>   -0.1283</td> <td>    0.007</td> <td>  -19.384</td> <td> 0.000</td> <td>   -0.141</td> <td>   -0.115</td>\n",
       "</tr>\n",
       "<tr>\n",
       "  <th>grade_6_Low_Average</th> <td>   -0.3693</td> <td>    0.011</td> <td>  -34.168</td> <td> 0.000</td> <td>   -0.391</td> <td>   -0.348</td>\n",
       "</tr>\n",
       "<tr>\n",
       "  <th>grade_7_Average</th>     <td>   -0.6215</td> <td>    0.014</td> <td>  -42.960</td> <td> 0.000</td> <td>   -0.650</td> <td>   -0.593</td>\n",
       "</tr>\n",
       "<tr>\n",
       "  <th>grade_8_Good</th>        <td>   -0.4817</td> <td>    0.013</td> <td>  -38.373</td> <td> 0.000</td> <td>   -0.506</td> <td>   -0.457</td>\n",
       "</tr>\n",
       "<tr>\n",
       "  <th>grade_9_Better</th>      <td>   -0.2083</td> <td>    0.010</td> <td>  -21.710</td> <td> 0.000</td> <td>   -0.227</td> <td>   -0.189</td>\n",
       "</tr>\n",
       "</table>\n",
       "<table class=\"simpletable\">\n",
       "<tr>\n",
       "  <th>Omnibus:</th>       <td>11005.938</td> <th>  Durbin-Watson:     </th>  <td>   1.986</td> \n",
       "</tr>\n",
       "<tr>\n",
       "  <th>Prob(Omnibus):</th>  <td> 0.000</td>   <th>  Jarque-Bera (JB):  </th> <td>710586.151</td>\n",
       "</tr>\n",
       "<tr>\n",
       "  <th>Skew:</th>           <td> 3.143</td>   <th>  Prob(JB):          </th>  <td>    0.00</td> \n",
       "</tr>\n",
       "<tr>\n",
       "  <th>Kurtosis:</th>       <td>36.896</td>   <th>  Cond. No.          </th>  <td>    5.54</td> \n",
       "</tr>\n",
       "</table><br/><br/>Notes:<br/>[1] Standard Errors assume that the covariance matrix of the errors is correctly specified."
      ],
      "text/plain": [
       "<class 'statsmodels.iolib.summary.Summary'>\n",
       "\"\"\"\n",
       "                            OLS Regression Results                            \n",
       "==============================================================================\n",
       "Dep. Variable:                  price   R-squared:                       0.545\n",
       "Model:                            OLS   Adj. R-squared:                  0.544\n",
       "Method:                 Least Squares   F-statistic:                     1905.\n",
       "Date:                Tue, 29 Mar 2022   Prob (F-statistic):               0.00\n",
       "Time:                        16:02:57   Log-Likelihood:                -14719.\n",
       "No. Observations:               14350   AIC:                         2.946e+04\n",
       "Df Residuals:                   14340   BIC:                         2.953e+04\n",
       "Df Model:                           9                                         \n",
       "Covariance Type:            nonrobust                                         \n",
       "=======================================================================================\n",
       "                          coef    std err          t      P>|t|      [0.025      0.975]\n",
       "---------------------------------------------------------------------------------------\n",
       "Intercept           -2.047e-14      0.006  -3.63e-12      1.000      -0.011       0.011\n",
       "sqft_living             0.3052      0.008     36.741      0.000       0.289       0.321\n",
       "grade_11_Excellent      0.1214      0.006     18.690      0.000       0.109       0.134\n",
       "grade_12_Luxury         0.1759      0.006     29.886      0.000       0.164       0.187\n",
       "grade_13_Mansion        0.1648      0.006     29.070      0.000       0.154       0.176\n",
       "grade_5_Fair           -0.1283      0.007    -19.384      0.000      -0.141      -0.115\n",
       "grade_6_Low_Average    -0.3693      0.011    -34.168      0.000      -0.391      -0.348\n",
       "grade_7_Average        -0.6215      0.014    -42.960      0.000      -0.650      -0.593\n",
       "grade_8_Good           -0.4817      0.013    -38.373      0.000      -0.506      -0.457\n",
       "grade_9_Better         -0.2083      0.010    -21.710      0.000      -0.227      -0.189\n",
       "==============================================================================\n",
       "Omnibus:                    11005.938   Durbin-Watson:                   1.986\n",
       "Prob(Omnibus):                  0.000   Jarque-Bera (JB):           710586.151\n",
       "Skew:                           3.143   Prob(JB):                         0.00\n",
       "Kurtosis:                      36.896   Cond. No.                         5.54\n",
       "==============================================================================\n",
       "\n",
       "Notes:\n",
       "[1] Standard Errors assume that the covariance matrix of the errors is correctly specified.\n",
       "\"\"\""
      ]
     },
     "execution_count": 83,
     "metadata": {},
     "output_type": "execute_result"
    }
   ],
   "source": [
    "simple_formula4 = 'price ~ sqft_living + grade_11_Excellent + grade_12_Luxury + grade_13_Mansion + grade_5_Fair + grade_6_Low_Average + grade_7_Average + grade_8_Good+ grade_9_Better'          \n",
    "\n",
    "simple_model4 = ols(formula = simple_formula4,\n",
    "                   data = scaled_p_df).fit()\n",
    "\n",
    "simple_mod_summ4 = simple_model4.summary()\n",
    "\n",
    "simple_mod_summ4"
   ]
  },
  {
   "cell_type": "code",
   "execution_count": 84,
   "metadata": {
    "scrolled": false
   },
   "outputs": [
    {
     "data": {
      "text/html": [
       "<table class=\"simpletable\">\n",
       "<caption>OLS Regression Results</caption>\n",
       "<tr>\n",
       "  <th>Dep. Variable:</th>          <td>price</td>      <th>  R-squared:         </th> <td>   0.414</td> \n",
       "</tr>\n",
       "<tr>\n",
       "  <th>Model:</th>                   <td>OLS</td>       <th>  Adj. R-squared:    </th> <td>   0.414</td> \n",
       "</tr>\n",
       "<tr>\n",
       "  <th>Method:</th>             <td>Least Squares</td>  <th>  F-statistic:       </th> <td>   3378.</td> \n",
       "</tr>\n",
       "<tr>\n",
       "  <th>Date:</th>             <td>Tue, 29 Mar 2022</td> <th>  Prob (F-statistic):</th>  <td>  0.00</td>  \n",
       "</tr>\n",
       "<tr>\n",
       "  <th>Time:</th>                 <td>16:02:58</td>     <th>  Log-Likelihood:    </th> <td> -16528.</td> \n",
       "</tr>\n",
       "<tr>\n",
       "  <th>No. Observations:</th>      <td> 14350</td>      <th>  AIC:               </th> <td>3.306e+04</td>\n",
       "</tr>\n",
       "<tr>\n",
       "  <th>Df Residuals:</th>          <td> 14346</td>      <th>  BIC:               </th> <td>3.309e+04</td>\n",
       "</tr>\n",
       "<tr>\n",
       "  <th>Df Model:</th>              <td>     3</td>      <th>                     </th>     <td> </td>    \n",
       "</tr>\n",
       "<tr>\n",
       "  <th>Covariance Type:</th>      <td>nonrobust</td>    <th>                     </th>     <td> </td>    \n",
       "</tr>\n",
       "</table>\n",
       "<table class=\"simpletable\">\n",
       "<tr>\n",
       "       <td></td>          <th>coef</th>     <th>std err</th>      <th>t</th>      <th>P>|t|</th>  <th>[0.025</th>    <th>0.975]</th>  \n",
       "</tr>\n",
       "<tr>\n",
       "  <th>Intercept</th>   <td>-3.764e-14</td> <td>    0.006</td> <td>-5.89e-12</td> <td> 1.000</td> <td>   -0.013</td> <td>    0.013</td>\n",
       "</tr>\n",
       "<tr>\n",
       "  <th>sqft_living</th> <td>    0.5553</td> <td>    0.007</td> <td>   84.427</td> <td> 0.000</td> <td>    0.542</td> <td>    0.568</td>\n",
       "</tr>\n",
       "<tr>\n",
       "  <th>view_GOOD</th>   <td>    0.0114</td> <td>    0.007</td> <td>    1.583</td> <td> 0.113</td> <td>   -0.003</td> <td>    0.026</td>\n",
       "</tr>\n",
       "<tr>\n",
       "  <th>view_NONE</th>   <td>   -0.2143</td> <td>    0.007</td> <td>  -29.149</td> <td> 0.000</td> <td>   -0.229</td> <td>   -0.200</td>\n",
       "</tr>\n",
       "</table>\n",
       "<table class=\"simpletable\">\n",
       "<tr>\n",
       "  <th>Omnibus:</th>       <td>12992.814</td> <th>  Durbin-Watson:     </th>  <td>   2.001</td>  \n",
       "</tr>\n",
       "<tr>\n",
       "  <th>Prob(Omnibus):</th>  <td> 0.000</td>   <th>  Jarque-Bera (JB):  </th> <td>1297408.554</td>\n",
       "</tr>\n",
       "<tr>\n",
       "  <th>Skew:</th>           <td> 3.969</td>   <th>  Prob(JB):          </th>  <td>    0.00</td>  \n",
       "</tr>\n",
       "<tr>\n",
       "  <th>Kurtosis:</th>       <td>48.901</td>   <th>  Cond. No.          </th>  <td>    1.74</td>  \n",
       "</tr>\n",
       "</table><br/><br/>Notes:<br/>[1] Standard Errors assume that the covariance matrix of the errors is correctly specified."
      ],
      "text/plain": [
       "<class 'statsmodels.iolib.summary.Summary'>\n",
       "\"\"\"\n",
       "                            OLS Regression Results                            \n",
       "==============================================================================\n",
       "Dep. Variable:                  price   R-squared:                       0.414\n",
       "Model:                            OLS   Adj. R-squared:                  0.414\n",
       "Method:                 Least Squares   F-statistic:                     3378.\n",
       "Date:                Tue, 29 Mar 2022   Prob (F-statistic):               0.00\n",
       "Time:                        16:02:58   Log-Likelihood:                -16528.\n",
       "No. Observations:               14350   AIC:                         3.306e+04\n",
       "Df Residuals:                   14346   BIC:                         3.309e+04\n",
       "Df Model:                           3                                         \n",
       "Covariance Type:            nonrobust                                         \n",
       "===============================================================================\n",
       "                  coef    std err          t      P>|t|      [0.025      0.975]\n",
       "-------------------------------------------------------------------------------\n",
       "Intercept   -3.764e-14      0.006  -5.89e-12      1.000      -0.013       0.013\n",
       "sqft_living     0.5553      0.007     84.427      0.000       0.542       0.568\n",
       "view_GOOD       0.0114      0.007      1.583      0.113      -0.003       0.026\n",
       "view_NONE      -0.2143      0.007    -29.149      0.000      -0.229      -0.200\n",
       "==============================================================================\n",
       "Omnibus:                    12992.814   Durbin-Watson:                   2.001\n",
       "Prob(Omnibus):                  0.000   Jarque-Bera (JB):          1297408.554\n",
       "Skew:                           3.969   Prob(JB):                         0.00\n",
       "Kurtosis:                      48.901   Cond. No.                         1.74\n",
       "==============================================================================\n",
       "\n",
       "Notes:\n",
       "[1] Standard Errors assume that the covariance matrix of the errors is correctly specified.\n",
       "\"\"\""
      ]
     },
     "execution_count": 84,
     "metadata": {},
     "output_type": "execute_result"
    }
   ],
   "source": [
    "simple_formula4 = 'price ~ sqft_living + view_GOOD + view_NONE'          \n",
    "\n",
    "simple_model4 = ols(formula = simple_formula4,\n",
    "                   data = scaled_p_df).fit()\n",
    "\n",
    "simple_mod_summ4 = simple_model4.summary()\n",
    "\n",
    "simple_mod_summ4"
   ]
  },
  {
   "cell_type": "code",
   "execution_count": 85,
   "metadata": {},
   "outputs": [],
   "source": [
    "no_y_train_df = scaled_p_df.drop(columns = 'price')"
   ]
  },
  {
   "cell_type": "code",
   "execution_count": 86,
   "metadata": {},
   "outputs": [],
   "source": [
    "#just bedroom, bathrooms, sqft_lot, no zipcode\n",
    "no_zip_yr_built = no_y_train_df.drop(columns = ['zipcode', 'yr_built'])"
   ]
  },
  {
   "cell_type": "code",
   "execution_count": 87,
   "metadata": {
    "scrolled": false
   },
   "outputs": [
    {
     "data": {
      "text/html": [
       "<table class=\"simpletable\">\n",
       "<caption>OLS Regression Results</caption>\n",
       "<tr>\n",
       "  <th>Dep. Variable:</th>          <td>price</td>      <th>  R-squared:         </th>  <td>   0.593</td>  \n",
       "</tr>\n",
       "<tr>\n",
       "  <th>Model:</th>                   <td>OLS</td>       <th>  Adj. R-squared:    </th>  <td>   0.592</td>  \n",
       "</tr>\n",
       "<tr>\n",
       "  <th>Method:</th>             <td>Least Squares</td>  <th>  F-statistic:       </th>  <td>   1160.</td>  \n",
       "</tr>\n",
       "<tr>\n",
       "  <th>Date:</th>             <td>Tue, 29 Mar 2022</td> <th>  Prob (F-statistic):</th>   <td>  0.00</td>   \n",
       "</tr>\n",
       "<tr>\n",
       "  <th>Time:</th>                 <td>16:02:58</td>     <th>  Log-Likelihood:    </th> <td>-1.9777e+05</td>\n",
       "</tr>\n",
       "<tr>\n",
       "  <th>No. Observations:</th>      <td> 14350</td>      <th>  AIC:               </th>  <td>3.956e+05</td> \n",
       "</tr>\n",
       "<tr>\n",
       "  <th>Df Residuals:</th>          <td> 14331</td>      <th>  BIC:               </th>  <td>3.957e+05</td> \n",
       "</tr>\n",
       "<tr>\n",
       "  <th>Df Model:</th>              <td>    18</td>      <th>                     </th>      <td> </td>     \n",
       "</tr>\n",
       "<tr>\n",
       "  <th>Covariance Type:</th>      <td>nonrobust</td>    <th>                     </th>      <td> </td>     \n",
       "</tr>\n",
       "</table>\n",
       "<table class=\"simpletable\">\n",
       "<tr>\n",
       "           <td></td>              <th>coef</th>     <th>std err</th>      <th>t</th>      <th>P>|t|</th>  <th>[0.025</th>    <th>0.975]</th>  \n",
       "</tr>\n",
       "<tr>\n",
       "  <th>const</th>               <td> 5.414e+05</td> <td> 1954.890</td> <td>  276.944</td> <td> 0.000</td> <td> 5.38e+05</td> <td> 5.45e+05</td>\n",
       "</tr>\n",
       "<tr>\n",
       "  <th>view_AVERAGE</th>        <td>-1.502e+04</td> <td> 3714.888</td> <td>   -4.044</td> <td> 0.000</td> <td>-2.23e+04</td> <td>-7740.703</td>\n",
       "</tr>\n",
       "<tr>\n",
       "  <th>view_EXCELLENT</th>      <td> 4.776e+04</td> <td> 2647.270</td> <td>   18.043</td> <td> 0.000</td> <td> 4.26e+04</td> <td>  5.3e+04</td>\n",
       "</tr>\n",
       "<tr>\n",
       "  <th>view_GOOD</th>           <td> 3412.8560</td> <td> 3041.371</td> <td>    1.122</td> <td> 0.262</td> <td>-2548.625</td> <td> 9374.337</td>\n",
       "</tr>\n",
       "<tr>\n",
       "  <th>view_NONE</th>           <td>-5.592e+04</td> <td> 4699.539</td> <td>  -11.899</td> <td> 0.000</td> <td>-6.51e+04</td> <td>-4.67e+04</td>\n",
       "</tr>\n",
       "<tr>\n",
       "  <th>view_nan</th>            <td>-7560.9815</td> <td> 2124.462</td> <td>   -3.559</td> <td> 0.000</td> <td>-1.17e+04</td> <td>-3396.761</td>\n",
       "</tr>\n",
       "<tr>\n",
       "  <th>grade_10_Very_Good</th>  <td> 1.014e+05</td> <td> 1.24e+04</td> <td>    8.172</td> <td> 0.000</td> <td> 7.71e+04</td> <td> 1.26e+05</td>\n",
       "</tr>\n",
       "<tr>\n",
       "  <th>grade_11_Excellent</th>  <td> 1.019e+05</td> <td> 7646.628</td> <td>   13.324</td> <td> 0.000</td> <td> 8.69e+04</td> <td> 1.17e+05</td>\n",
       "</tr>\n",
       "<tr>\n",
       "  <th>grade_12_Luxury</th>     <td> 8.699e+04</td> <td> 4206.939</td> <td>   20.678</td> <td> 0.000</td> <td> 7.87e+04</td> <td> 9.52e+04</td>\n",
       "</tr>\n",
       "<tr>\n",
       "  <th>grade_13_Mansion</th>    <td> 6.775e+04</td> <td> 2324.846</td> <td>   29.140</td> <td> 0.000</td> <td> 6.32e+04</td> <td> 7.23e+04</td>\n",
       "</tr>\n",
       "<tr>\n",
       "  <th>grade_5_Fair</th>        <td> -758.3997</td> <td> 5756.406</td> <td>   -0.132</td> <td> 0.895</td> <td> -1.2e+04</td> <td> 1.05e+04</td>\n",
       "</tr>\n",
       "<tr>\n",
       "  <th>grade_6_Low_Average</th> <td> 1737.0890</td> <td> 1.58e+04</td> <td>    0.110</td> <td> 0.913</td> <td>-2.93e+04</td> <td> 3.28e+04</td>\n",
       "</tr>\n",
       "<tr>\n",
       "  <th>grade_7_Average</th>     <td> 8274.6707</td> <td> 2.67e+04</td> <td>    0.310</td> <td> 0.757</td> <td>-4.41e+04</td> <td> 6.06e+04</td>\n",
       "</tr>\n",
       "<tr>\n",
       "  <th>grade_8_Good</th>        <td> 3.512e+04</td> <td> 2.45e+04</td> <td>    1.435</td> <td> 0.151</td> <td>-1.29e+04</td> <td> 8.31e+04</td>\n",
       "</tr>\n",
       "<tr>\n",
       "  <th>grade_9_Better</th>      <td> 7.504e+04</td> <td>  1.8e+04</td> <td>    4.179</td> <td> 0.000</td> <td> 3.98e+04</td> <td>  1.1e+05</td>\n",
       "</tr>\n",
       "<tr>\n",
       "  <th>bedrooms</th>            <td>-4364.8174</td> <td> 2575.588</td> <td>   -1.695</td> <td> 0.090</td> <td>-9413.303</td> <td>  683.669</td>\n",
       "</tr>\n",
       "<tr>\n",
       "  <th>bathrooms</th>           <td> 1.315e+04</td> <td> 3154.130</td> <td>    4.169</td> <td> 0.000</td> <td> 6968.571</td> <td> 1.93e+04</td>\n",
       "</tr>\n",
       "<tr>\n",
       "  <th>sqft_living</th>         <td> 9.312e+04</td> <td> 3973.077</td> <td>   23.438</td> <td> 0.000</td> <td> 8.53e+04</td> <td> 1.01e+05</td>\n",
       "</tr>\n",
       "<tr>\n",
       "  <th>sqft_lot</th>            <td>-1.057e+04</td> <td> 1999.986</td> <td>   -5.287</td> <td> 0.000</td> <td>-1.45e+04</td> <td>-6654.199</td>\n",
       "</tr>\n",
       "</table>\n",
       "<table class=\"simpletable\">\n",
       "<tr>\n",
       "  <th>Omnibus:</th>       <td>10532.744</td> <th>  Durbin-Watson:     </th>  <td>   2.006</td> \n",
       "</tr>\n",
       "<tr>\n",
       "  <th>Prob(Omnibus):</th>  <td> 0.000</td>   <th>  Jarque-Bera (JB):  </th> <td>784333.064</td>\n",
       "</tr>\n",
       "<tr>\n",
       "  <th>Skew:</th>           <td> 2.878</td>   <th>  Prob(JB):          </th>  <td>    0.00</td> \n",
       "</tr>\n",
       "<tr>\n",
       "  <th>Kurtosis:</th>       <td>38.758</td>   <th>  Cond. No.          </th>  <td>    42.1</td> \n",
       "</tr>\n",
       "</table><br/><br/>Notes:<br/>[1] Standard Errors assume that the covariance matrix of the errors is correctly specified."
      ],
      "text/plain": [
       "<class 'statsmodels.iolib.summary.Summary'>\n",
       "\"\"\"\n",
       "                            OLS Regression Results                            \n",
       "==============================================================================\n",
       "Dep. Variable:                  price   R-squared:                       0.593\n",
       "Model:                            OLS   Adj. R-squared:                  0.592\n",
       "Method:                 Least Squares   F-statistic:                     1160.\n",
       "Date:                Tue, 29 Mar 2022   Prob (F-statistic):               0.00\n",
       "Time:                        16:02:58   Log-Likelihood:            -1.9777e+05\n",
       "No. Observations:               14350   AIC:                         3.956e+05\n",
       "Df Residuals:                   14331   BIC:                         3.957e+05\n",
       "Df Model:                          18                                         \n",
       "Covariance Type:            nonrobust                                         \n",
       "=======================================================================================\n",
       "                          coef    std err          t      P>|t|      [0.025      0.975]\n",
       "---------------------------------------------------------------------------------------\n",
       "const                5.414e+05   1954.890    276.944      0.000    5.38e+05    5.45e+05\n",
       "view_AVERAGE        -1.502e+04   3714.888     -4.044      0.000   -2.23e+04   -7740.703\n",
       "view_EXCELLENT       4.776e+04   2647.270     18.043      0.000    4.26e+04     5.3e+04\n",
       "view_GOOD            3412.8560   3041.371      1.122      0.262   -2548.625    9374.337\n",
       "view_NONE           -5.592e+04   4699.539    -11.899      0.000   -6.51e+04   -4.67e+04\n",
       "view_nan            -7560.9815   2124.462     -3.559      0.000   -1.17e+04   -3396.761\n",
       "grade_10_Very_Good   1.014e+05   1.24e+04      8.172      0.000    7.71e+04    1.26e+05\n",
       "grade_11_Excellent   1.019e+05   7646.628     13.324      0.000    8.69e+04    1.17e+05\n",
       "grade_12_Luxury      8.699e+04   4206.939     20.678      0.000    7.87e+04    9.52e+04\n",
       "grade_13_Mansion     6.775e+04   2324.846     29.140      0.000    6.32e+04    7.23e+04\n",
       "grade_5_Fair         -758.3997   5756.406     -0.132      0.895    -1.2e+04    1.05e+04\n",
       "grade_6_Low_Average  1737.0890   1.58e+04      0.110      0.913   -2.93e+04    3.28e+04\n",
       "grade_7_Average      8274.6707   2.67e+04      0.310      0.757   -4.41e+04    6.06e+04\n",
       "grade_8_Good         3.512e+04   2.45e+04      1.435      0.151   -1.29e+04    8.31e+04\n",
       "grade_9_Better       7.504e+04    1.8e+04      4.179      0.000    3.98e+04     1.1e+05\n",
       "bedrooms            -4364.8174   2575.588     -1.695      0.090   -9413.303     683.669\n",
       "bathrooms            1.315e+04   3154.130      4.169      0.000    6968.571    1.93e+04\n",
       "sqft_living          9.312e+04   3973.077     23.438      0.000    8.53e+04    1.01e+05\n",
       "sqft_lot            -1.057e+04   1999.986     -5.287      0.000   -1.45e+04   -6654.199\n",
       "==============================================================================\n",
       "Omnibus:                    10532.744   Durbin-Watson:                   2.006\n",
       "Prob(Omnibus):                  0.000   Jarque-Bera (JB):           784333.064\n",
       "Skew:                           2.878   Prob(JB):                         0.00\n",
       "Kurtosis:                      38.758   Cond. No.                         42.1\n",
       "==============================================================================\n",
       "\n",
       "Notes:\n",
       "[1] Standard Errors assume that the covariance matrix of the errors is correctly specified.\n",
       "\"\"\""
      ]
     },
     "execution_count": 87,
     "metadata": {},
     "output_type": "execute_result"
    }
   ],
   "source": [
    "all_var = sm.OLS(y_train, sm.add_constant(no_zip_yr_built)).fit()\n",
    "all_var.summary()"
   ]
  },
  {
   "cell_type": "code",
   "execution_count": 88,
   "metadata": {},
   "outputs": [],
   "source": [
    "no_zip_yr_built_bathrooms = no_y_train_df.drop(columns = ['zipcode', 'yr_built', 'bathrooms'])"
   ]
  },
  {
   "cell_type": "code",
   "execution_count": 89,
   "metadata": {},
   "outputs": [
    {
     "data": {
      "text/html": [
       "<table class=\"simpletable\">\n",
       "<caption>OLS Regression Results</caption>\n",
       "<tr>\n",
       "  <th>Dep. Variable:</th>          <td>price</td>      <th>  R-squared:         </th>  <td>   0.592</td>  \n",
       "</tr>\n",
       "<tr>\n",
       "  <th>Model:</th>                   <td>OLS</td>       <th>  Adj. R-squared:    </th>  <td>   0.592</td>  \n",
       "</tr>\n",
       "<tr>\n",
       "  <th>Method:</th>             <td>Least Squares</td>  <th>  F-statistic:       </th>  <td>   1226.</td>  \n",
       "</tr>\n",
       "<tr>\n",
       "  <th>Date:</th>             <td>Tue, 29 Mar 2022</td> <th>  Prob (F-statistic):</th>   <td>  0.00</td>   \n",
       "</tr>\n",
       "<tr>\n",
       "  <th>Time:</th>                 <td>16:02:58</td>     <th>  Log-Likelihood:    </th> <td>-1.9778e+05</td>\n",
       "</tr>\n",
       "<tr>\n",
       "  <th>No. Observations:</th>      <td> 14350</td>      <th>  AIC:               </th>  <td>3.956e+05</td> \n",
       "</tr>\n",
       "<tr>\n",
       "  <th>Df Residuals:</th>          <td> 14332</td>      <th>  BIC:               </th>  <td>3.957e+05</td> \n",
       "</tr>\n",
       "<tr>\n",
       "  <th>Df Model:</th>              <td>    17</td>      <th>                     </th>      <td> </td>     \n",
       "</tr>\n",
       "<tr>\n",
       "  <th>Covariance Type:</th>      <td>nonrobust</td>    <th>                     </th>      <td> </td>     \n",
       "</tr>\n",
       "</table>\n",
       "<table class=\"simpletable\">\n",
       "<tr>\n",
       "           <td></td>              <th>coef</th>     <th>std err</th>      <th>t</th>      <th>P>|t|</th>  <th>[0.025</th>    <th>0.975]</th>  \n",
       "</tr>\n",
       "<tr>\n",
       "  <th>const</th>               <td> 5.414e+05</td> <td> 1956.007</td> <td>  276.785</td> <td> 0.000</td> <td> 5.38e+05</td> <td> 5.45e+05</td>\n",
       "</tr>\n",
       "<tr>\n",
       "  <th>view_AVERAGE</th>        <td>-1.495e+04</td> <td> 3716.972</td> <td>   -4.023</td> <td> 0.000</td> <td>-2.22e+04</td> <td>-7666.074</td>\n",
       "</tr>\n",
       "<tr>\n",
       "  <th>view_EXCELLENT</th>      <td> 4.778e+04</td> <td> 2648.781</td> <td>   18.038</td> <td> 0.000</td> <td> 4.26e+04</td> <td>  5.3e+04</td>\n",
       "</tr>\n",
       "<tr>\n",
       "  <th>view_GOOD</th>           <td> 3550.8513</td> <td> 3042.929</td> <td>    1.167</td> <td> 0.243</td> <td>-2413.683</td> <td> 9515.386</td>\n",
       "</tr>\n",
       "<tr>\n",
       "  <th>view_NONE</th>           <td> -5.56e+04</td> <td> 4701.605</td> <td>  -11.826</td> <td> 0.000</td> <td>-6.48e+04</td> <td>-4.64e+04</td>\n",
       "</tr>\n",
       "<tr>\n",
       "  <th>view_nan</th>            <td>-7549.6672</td> <td> 2125.674</td> <td>   -3.552</td> <td> 0.000</td> <td>-1.17e+04</td> <td>-3383.071</td>\n",
       "</tr>\n",
       "<tr>\n",
       "  <th>grade_10_Very_Good</th>  <td> 1.028e+05</td> <td> 1.24e+04</td> <td>    8.280</td> <td> 0.000</td> <td> 7.85e+04</td> <td> 1.27e+05</td>\n",
       "</tr>\n",
       "<tr>\n",
       "  <th>grade_11_Excellent</th>  <td> 1.033e+05</td> <td> 7643.327</td> <td>   13.516</td> <td> 0.000</td> <td> 8.83e+04</td> <td> 1.18e+05</td>\n",
       "</tr>\n",
       "<tr>\n",
       "  <th>grade_12_Luxury</th>     <td> 8.808e+04</td> <td> 4201.159</td> <td>   20.966</td> <td> 0.000</td> <td> 7.98e+04</td> <td> 9.63e+04</td>\n",
       "</tr>\n",
       "<tr>\n",
       "  <th>grade_13_Mansion</th>    <td> 6.844e+04</td> <td> 2320.157</td> <td>   29.500</td> <td> 0.000</td> <td> 6.39e+04</td> <td>  7.3e+04</td>\n",
       "</tr>\n",
       "<tr>\n",
       "  <th>grade_5_Fair</th>        <td>-1077.5871</td> <td> 5759.186</td> <td>   -0.187</td> <td> 0.852</td> <td>-1.24e+04</td> <td> 1.02e+04</td>\n",
       "</tr>\n",
       "<tr>\n",
       "  <th>grade_6_Low_Average</th> <td>  380.9916</td> <td> 1.58e+04</td> <td>    0.024</td> <td> 0.981</td> <td>-3.07e+04</td> <td> 3.14e+04</td>\n",
       "</tr>\n",
       "<tr>\n",
       "  <th>grade_7_Average</th>     <td> 7637.2649</td> <td> 2.67e+04</td> <td>    0.286</td> <td> 0.775</td> <td>-4.48e+04</td> <td>    6e+04</td>\n",
       "</tr>\n",
       "<tr>\n",
       "  <th>grade_8_Good</th>        <td> 3.646e+04</td> <td> 2.45e+04</td> <td>    1.489</td> <td> 0.137</td> <td>-1.15e+04</td> <td> 8.45e+04</td>\n",
       "</tr>\n",
       "<tr>\n",
       "  <th>grade_9_Better</th>      <td>  7.62e+04</td> <td>  1.8e+04</td> <td>    4.242</td> <td> 0.000</td> <td>  4.1e+04</td> <td> 1.11e+05</td>\n",
       "</tr>\n",
       "<tr>\n",
       "  <th>bedrooms</th>            <td>-2929.8674</td> <td> 2553.950</td> <td>   -1.147</td> <td> 0.251</td> <td>-7935.939</td> <td> 2076.205</td>\n",
       "</tr>\n",
       "<tr>\n",
       "  <th>sqft_living</th>         <td> 9.991e+04</td> <td> 3626.690</td> <td>   27.547</td> <td> 0.000</td> <td> 9.28e+04</td> <td> 1.07e+05</td>\n",
       "</tr>\n",
       "<tr>\n",
       "  <th>sqft_lot</th>            <td>-1.089e+04</td> <td> 1999.738</td> <td>   -5.443</td> <td> 0.000</td> <td>-1.48e+04</td> <td>-6965.625</td>\n",
       "</tr>\n",
       "</table>\n",
       "<table class=\"simpletable\">\n",
       "<tr>\n",
       "  <th>Omnibus:</th>       <td>10579.213</td> <th>  Durbin-Watson:     </th>  <td>   2.006</td> \n",
       "</tr>\n",
       "<tr>\n",
       "  <th>Prob(Omnibus):</th>  <td> 0.000</td>   <th>  Jarque-Bera (JB):  </th> <td>799105.171</td>\n",
       "</tr>\n",
       "<tr>\n",
       "  <th>Skew:</th>           <td> 2.894</td>   <th>  Prob(JB):          </th>  <td>    0.00</td> \n",
       "</tr>\n",
       "<tr>\n",
       "  <th>Kurtosis:</th>       <td>39.097</td>   <th>  Cond. No.          </th>  <td>    38.1</td> \n",
       "</tr>\n",
       "</table><br/><br/>Notes:<br/>[1] Standard Errors assume that the covariance matrix of the errors is correctly specified."
      ],
      "text/plain": [
       "<class 'statsmodels.iolib.summary.Summary'>\n",
       "\"\"\"\n",
       "                            OLS Regression Results                            \n",
       "==============================================================================\n",
       "Dep. Variable:                  price   R-squared:                       0.592\n",
       "Model:                            OLS   Adj. R-squared:                  0.592\n",
       "Method:                 Least Squares   F-statistic:                     1226.\n",
       "Date:                Tue, 29 Mar 2022   Prob (F-statistic):               0.00\n",
       "Time:                        16:02:58   Log-Likelihood:            -1.9778e+05\n",
       "No. Observations:               14350   AIC:                         3.956e+05\n",
       "Df Residuals:                   14332   BIC:                         3.957e+05\n",
       "Df Model:                          17                                         \n",
       "Covariance Type:            nonrobust                                         \n",
       "=======================================================================================\n",
       "                          coef    std err          t      P>|t|      [0.025      0.975]\n",
       "---------------------------------------------------------------------------------------\n",
       "const                5.414e+05   1956.007    276.785      0.000    5.38e+05    5.45e+05\n",
       "view_AVERAGE        -1.495e+04   3716.972     -4.023      0.000   -2.22e+04   -7666.074\n",
       "view_EXCELLENT       4.778e+04   2648.781     18.038      0.000    4.26e+04     5.3e+04\n",
       "view_GOOD            3550.8513   3042.929      1.167      0.243   -2413.683    9515.386\n",
       "view_NONE            -5.56e+04   4701.605    -11.826      0.000   -6.48e+04   -4.64e+04\n",
       "view_nan            -7549.6672   2125.674     -3.552      0.000   -1.17e+04   -3383.071\n",
       "grade_10_Very_Good   1.028e+05   1.24e+04      8.280      0.000    7.85e+04    1.27e+05\n",
       "grade_11_Excellent   1.033e+05   7643.327     13.516      0.000    8.83e+04    1.18e+05\n",
       "grade_12_Luxury      8.808e+04   4201.159     20.966      0.000    7.98e+04    9.63e+04\n",
       "grade_13_Mansion     6.844e+04   2320.157     29.500      0.000    6.39e+04     7.3e+04\n",
       "grade_5_Fair        -1077.5871   5759.186     -0.187      0.852   -1.24e+04    1.02e+04\n",
       "grade_6_Low_Average   380.9916   1.58e+04      0.024      0.981   -3.07e+04    3.14e+04\n",
       "grade_7_Average      7637.2649   2.67e+04      0.286      0.775   -4.48e+04       6e+04\n",
       "grade_8_Good         3.646e+04   2.45e+04      1.489      0.137   -1.15e+04    8.45e+04\n",
       "grade_9_Better        7.62e+04    1.8e+04      4.242      0.000     4.1e+04    1.11e+05\n",
       "bedrooms            -2929.8674   2553.950     -1.147      0.251   -7935.939    2076.205\n",
       "sqft_living          9.991e+04   3626.690     27.547      0.000    9.28e+04    1.07e+05\n",
       "sqft_lot            -1.089e+04   1999.738     -5.443      0.000   -1.48e+04   -6965.625\n",
       "==============================================================================\n",
       "Omnibus:                    10579.213   Durbin-Watson:                   2.006\n",
       "Prob(Omnibus):                  0.000   Jarque-Bera (JB):           799105.171\n",
       "Skew:                           2.894   Prob(JB):                         0.00\n",
       "Kurtosis:                      39.097   Cond. No.                         38.1\n",
       "==============================================================================\n",
       "\n",
       "Notes:\n",
       "[1] Standard Errors assume that the covariance matrix of the errors is correctly specified.\n",
       "\"\"\""
      ]
     },
     "execution_count": 89,
     "metadata": {},
     "output_type": "execute_result"
    }
   ],
   "source": [
    "all_var = sm.OLS(y_train, sm.add_constant(no_zip_yr_built_bathrooms)).fit()\n",
    "all_var.summary()"
   ]
  },
  {
   "cell_type": "code",
   "execution_count": 90,
   "metadata": {},
   "outputs": [],
   "source": [
    "no_zip_yr_built_bathrooms_bedrooms = no_y_train_df.drop(columns = ['zipcode', 'yr_built', 'bathrooms', 'bedrooms'])"
   ]
  },
  {
   "cell_type": "code",
   "execution_count": 91,
   "metadata": {},
   "outputs": [
    {
     "data": {
      "text/html": [
       "<table class=\"simpletable\">\n",
       "<caption>OLS Regression Results</caption>\n",
       "<tr>\n",
       "  <th>Dep. Variable:</th>          <td>price</td>      <th>  R-squared:         </th>  <td>   0.592</td>  \n",
       "</tr>\n",
       "<tr>\n",
       "  <th>Model:</th>                   <td>OLS</td>       <th>  Adj. R-squared:    </th>  <td>   0.592</td>  \n",
       "</tr>\n",
       "<tr>\n",
       "  <th>Method:</th>             <td>Least Squares</td>  <th>  F-statistic:       </th>  <td>   1302.</td>  \n",
       "</tr>\n",
       "<tr>\n",
       "  <th>Date:</th>             <td>Tue, 29 Mar 2022</td> <th>  Prob (F-statistic):</th>   <td>  0.00</td>   \n",
       "</tr>\n",
       "<tr>\n",
       "  <th>Time:</th>                 <td>16:02:59</td>     <th>  Log-Likelihood:    </th> <td>-1.9778e+05</td>\n",
       "</tr>\n",
       "<tr>\n",
       "  <th>No. Observations:</th>      <td> 14350</td>      <th>  AIC:               </th>  <td>3.956e+05</td> \n",
       "</tr>\n",
       "<tr>\n",
       "  <th>Df Residuals:</th>          <td> 14333</td>      <th>  BIC:               </th>  <td>3.957e+05</td> \n",
       "</tr>\n",
       "<tr>\n",
       "  <th>Df Model:</th>              <td>    16</td>      <th>                     </th>      <td> </td>     \n",
       "</tr>\n",
       "<tr>\n",
       "  <th>Covariance Type:</th>      <td>nonrobust</td>    <th>                     </th>      <td> </td>     \n",
       "</tr>\n",
       "</table>\n",
       "<table class=\"simpletable\">\n",
       "<tr>\n",
       "           <td></td>              <th>coef</th>     <th>std err</th>      <th>t</th>      <th>P>|t|</th>  <th>[0.025</th>    <th>0.975]</th>  \n",
       "</tr>\n",
       "<tr>\n",
       "  <th>const</th>               <td> 5.414e+05</td> <td> 1956.028</td> <td>  276.782</td> <td> 0.000</td> <td> 5.38e+05</td> <td> 5.45e+05</td>\n",
       "</tr>\n",
       "<tr>\n",
       "  <th>view_AVERAGE</th>        <td>-1.494e+04</td> <td> 3717.002</td> <td>   -4.020</td> <td> 0.000</td> <td>-2.22e+04</td> <td>-7655.688</td>\n",
       "</tr>\n",
       "<tr>\n",
       "  <th>view_EXCELLENT</th>      <td> 4.784e+04</td> <td> 2648.168</td> <td>   18.067</td> <td> 0.000</td> <td> 4.27e+04</td> <td>  5.3e+04</td>\n",
       "</tr>\n",
       "<tr>\n",
       "  <th>view_GOOD</th>           <td> 3572.0234</td> <td> 3042.906</td> <td>    1.174</td> <td> 0.240</td> <td>-2392.467</td> <td> 9536.514</td>\n",
       "</tr>\n",
       "<tr>\n",
       "  <th>view_NONE</th>           <td>-5.572e+04</td> <td> 4700.459</td> <td>  -11.855</td> <td> 0.000</td> <td>-6.49e+04</td> <td>-4.65e+04</td>\n",
       "</tr>\n",
       "<tr>\n",
       "  <th>view_nan</th>            <td>-7557.0613</td> <td> 2125.688</td> <td>   -3.555</td> <td> 0.000</td> <td>-1.17e+04</td> <td>-3390.438</td>\n",
       "</tr>\n",
       "<tr>\n",
       "  <th>grade_10_Very_Good</th>  <td> 1.032e+05</td> <td> 1.24e+04</td> <td>    8.315</td> <td> 0.000</td> <td> 7.89e+04</td> <td> 1.28e+05</td>\n",
       "</tr>\n",
       "<tr>\n",
       "  <th>grade_11_Excellent</th>  <td> 1.036e+05</td> <td> 7639.674</td> <td>   13.558</td> <td> 0.000</td> <td> 8.86e+04</td> <td> 1.19e+05</td>\n",
       "</tr>\n",
       "<tr>\n",
       "  <th>grade_12_Luxury</th>     <td> 8.826e+04</td> <td> 4198.339</td> <td>   21.023</td> <td> 0.000</td> <td>    8e+04</td> <td> 9.65e+04</td>\n",
       "</tr>\n",
       "<tr>\n",
       "  <th>grade_13_Mansion</th>    <td> 6.851e+04</td> <td> 2319.351</td> <td>   29.540</td> <td> 0.000</td> <td>  6.4e+04</td> <td> 7.31e+04</td>\n",
       "</tr>\n",
       "<tr>\n",
       "  <th>grade_5_Fair</th>        <td>-1161.1762</td> <td> 5758.788</td> <td>   -0.202</td> <td> 0.840</td> <td>-1.24e+04</td> <td> 1.01e+04</td>\n",
       "</tr>\n",
       "<tr>\n",
       "  <th>grade_6_Low_Average</th> <td>  225.0969</td> <td> 1.58e+04</td> <td>    0.014</td> <td> 0.989</td> <td>-3.08e+04</td> <td> 3.13e+04</td>\n",
       "</tr>\n",
       "<tr>\n",
       "  <th>grade_7_Average</th>     <td> 7482.4362</td> <td> 2.67e+04</td> <td>    0.280</td> <td> 0.780</td> <td>-4.49e+04</td> <td> 5.99e+04</td>\n",
       "</tr>\n",
       "<tr>\n",
       "  <th>grade_8_Good</th>        <td> 3.666e+04</td> <td> 2.45e+04</td> <td>    1.497</td> <td> 0.135</td> <td>-1.14e+04</td> <td> 8.47e+04</td>\n",
       "</tr>\n",
       "<tr>\n",
       "  <th>grade_9_Better</th>      <td> 7.656e+04</td> <td>  1.8e+04</td> <td>    4.263</td> <td> 0.000</td> <td> 4.14e+04</td> <td> 1.12e+05</td>\n",
       "</tr>\n",
       "<tr>\n",
       "  <th>sqft_living</th>         <td> 9.753e+04</td> <td> 2978.221</td> <td>   32.748</td> <td> 0.000</td> <td> 9.17e+04</td> <td> 1.03e+05</td>\n",
       "</tr>\n",
       "<tr>\n",
       "  <th>sqft_lot</th>            <td>-1.071e+04</td> <td> 1993.607</td> <td>   -5.370</td> <td> 0.000</td> <td>-1.46e+04</td> <td>-6797.818</td>\n",
       "</tr>\n",
       "</table>\n",
       "<table class=\"simpletable\">\n",
       "<tr>\n",
       "  <th>Omnibus:</th>       <td>10578.993</td> <th>  Durbin-Watson:     </th>  <td>   2.006</td> \n",
       "</tr>\n",
       "<tr>\n",
       "  <th>Prob(Omnibus):</th>  <td> 0.000</td>   <th>  Jarque-Bera (JB):  </th> <td>799568.911</td>\n",
       "</tr>\n",
       "<tr>\n",
       "  <th>Skew:</th>           <td> 2.894</td>   <th>  Prob(JB):          </th>  <td>    0.00</td> \n",
       "</tr>\n",
       "<tr>\n",
       "  <th>Kurtosis:</th>       <td>39.108</td>   <th>  Cond. No.          </th>  <td>    36.5</td> \n",
       "</tr>\n",
       "</table><br/><br/>Notes:<br/>[1] Standard Errors assume that the covariance matrix of the errors is correctly specified."
      ],
      "text/plain": [
       "<class 'statsmodels.iolib.summary.Summary'>\n",
       "\"\"\"\n",
       "                            OLS Regression Results                            \n",
       "==============================================================================\n",
       "Dep. Variable:                  price   R-squared:                       0.592\n",
       "Model:                            OLS   Adj. R-squared:                  0.592\n",
       "Method:                 Least Squares   F-statistic:                     1302.\n",
       "Date:                Tue, 29 Mar 2022   Prob (F-statistic):               0.00\n",
       "Time:                        16:02:59   Log-Likelihood:            -1.9778e+05\n",
       "No. Observations:               14350   AIC:                         3.956e+05\n",
       "Df Residuals:                   14333   BIC:                         3.957e+05\n",
       "Df Model:                          16                                         \n",
       "Covariance Type:            nonrobust                                         \n",
       "=======================================================================================\n",
       "                          coef    std err          t      P>|t|      [0.025      0.975]\n",
       "---------------------------------------------------------------------------------------\n",
       "const                5.414e+05   1956.028    276.782      0.000    5.38e+05    5.45e+05\n",
       "view_AVERAGE        -1.494e+04   3717.002     -4.020      0.000   -2.22e+04   -7655.688\n",
       "view_EXCELLENT       4.784e+04   2648.168     18.067      0.000    4.27e+04     5.3e+04\n",
       "view_GOOD            3572.0234   3042.906      1.174      0.240   -2392.467    9536.514\n",
       "view_NONE           -5.572e+04   4700.459    -11.855      0.000   -6.49e+04   -4.65e+04\n",
       "view_nan            -7557.0613   2125.688     -3.555      0.000   -1.17e+04   -3390.438\n",
       "grade_10_Very_Good   1.032e+05   1.24e+04      8.315      0.000    7.89e+04    1.28e+05\n",
       "grade_11_Excellent   1.036e+05   7639.674     13.558      0.000    8.86e+04    1.19e+05\n",
       "grade_12_Luxury      8.826e+04   4198.339     21.023      0.000       8e+04    9.65e+04\n",
       "grade_13_Mansion     6.851e+04   2319.351     29.540      0.000     6.4e+04    7.31e+04\n",
       "grade_5_Fair        -1161.1762   5758.788     -0.202      0.840   -1.24e+04    1.01e+04\n",
       "grade_6_Low_Average   225.0969   1.58e+04      0.014      0.989   -3.08e+04    3.13e+04\n",
       "grade_7_Average      7482.4362   2.67e+04      0.280      0.780   -4.49e+04    5.99e+04\n",
       "grade_8_Good         3.666e+04   2.45e+04      1.497      0.135   -1.14e+04    8.47e+04\n",
       "grade_9_Better       7.656e+04    1.8e+04      4.263      0.000    4.14e+04    1.12e+05\n",
       "sqft_living          9.753e+04   2978.221     32.748      0.000    9.17e+04    1.03e+05\n",
       "sqft_lot            -1.071e+04   1993.607     -5.370      0.000   -1.46e+04   -6797.818\n",
       "==============================================================================\n",
       "Omnibus:                    10578.993   Durbin-Watson:                   2.006\n",
       "Prob(Omnibus):                  0.000   Jarque-Bera (JB):           799568.911\n",
       "Skew:                           2.894   Prob(JB):                         0.00\n",
       "Kurtosis:                      39.108   Cond. No.                         36.5\n",
       "==============================================================================\n",
       "\n",
       "Notes:\n",
       "[1] Standard Errors assume that the covariance matrix of the errors is correctly specified.\n",
       "\"\"\""
      ]
     },
     "execution_count": 91,
     "metadata": {},
     "output_type": "execute_result"
    }
   ],
   "source": [
    "all_var = sm.OLS(y_train, sm.add_constant(no_zip_yr_built_bathrooms_bedrooms)).fit()\n",
    "all_var.summary()"
   ]
  },
  {
   "cell_type": "code",
   "execution_count": 92,
   "metadata": {},
   "outputs": [],
   "source": [
    "no_zip_built_bathrooms_bedrooms_lot = no_y_train_df.drop(columns = ['zipcode', 'yr_built', 'bathrooms', 'bedrooms', 'sqft_lot'])"
   ]
  },
  {
   "cell_type": "code",
   "execution_count": 93,
   "metadata": {},
   "outputs": [
    {
     "data": {
      "text/html": [
       "<table class=\"simpletable\">\n",
       "<caption>OLS Regression Results</caption>\n",
       "<tr>\n",
       "  <th>Dep. Variable:</th>          <td>price</td>      <th>  R-squared:         </th>  <td>   0.592</td>  \n",
       "</tr>\n",
       "<tr>\n",
       "  <th>Model:</th>                   <td>OLS</td>       <th>  Adj. R-squared:    </th>  <td>   0.591</td>  \n",
       "</tr>\n",
       "<tr>\n",
       "  <th>Method:</th>             <td>Least Squares</td>  <th>  F-statistic:       </th>  <td>   1384.</td>  \n",
       "</tr>\n",
       "<tr>\n",
       "  <th>Date:</th>             <td>Tue, 29 Mar 2022</td> <th>  Prob (F-statistic):</th>   <td>  0.00</td>   \n",
       "</tr>\n",
       "<tr>\n",
       "  <th>Time:</th>                 <td>16:02:59</td>     <th>  Log-Likelihood:    </th> <td>-1.9780e+05</td>\n",
       "</tr>\n",
       "<tr>\n",
       "  <th>No. Observations:</th>      <td> 14350</td>      <th>  AIC:               </th>  <td>3.956e+05</td> \n",
       "</tr>\n",
       "<tr>\n",
       "  <th>Df Residuals:</th>          <td> 14334</td>      <th>  BIC:               </th>  <td>3.957e+05</td> \n",
       "</tr>\n",
       "<tr>\n",
       "  <th>Df Model:</th>              <td>    15</td>      <th>                     </th>      <td> </td>     \n",
       "</tr>\n",
       "<tr>\n",
       "  <th>Covariance Type:</th>      <td>nonrobust</td>    <th>                     </th>      <td> </td>     \n",
       "</tr>\n",
       "</table>\n",
       "<table class=\"simpletable\">\n",
       "<tr>\n",
       "           <td></td>              <th>coef</th>     <th>std err</th>      <th>t</th>      <th>P>|t|</th>  <th>[0.025</th>    <th>0.975]</th>  \n",
       "</tr>\n",
       "<tr>\n",
       "  <th>const</th>               <td> 5.414e+05</td> <td> 1957.927</td> <td>  276.514</td> <td> 0.000</td> <td> 5.38e+05</td> <td> 5.45e+05</td>\n",
       "</tr>\n",
       "<tr>\n",
       "  <th>view_AVERAGE</th>        <td>-1.557e+04</td> <td> 3718.752</td> <td>   -4.187</td> <td> 0.000</td> <td>-2.29e+04</td> <td>-8282.953</td>\n",
       "</tr>\n",
       "<tr>\n",
       "  <th>view_EXCELLENT</th>      <td> 4.773e+04</td> <td> 2650.650</td> <td>   18.007</td> <td> 0.000</td> <td> 4.25e+04</td> <td> 5.29e+04</td>\n",
       "</tr>\n",
       "<tr>\n",
       "  <th>view_GOOD</th>           <td> 2808.0839</td> <td> 3042.529</td> <td>    0.923</td> <td> 0.356</td> <td>-3155.667</td> <td> 8771.834</td>\n",
       "</tr>\n",
       "<tr>\n",
       "  <th>view_NONE</th>           <td>-5.623e+04</td> <td> 4704.089</td> <td>  -11.952</td> <td> 0.000</td> <td>-6.54e+04</td> <td> -4.7e+04</td>\n",
       "</tr>\n",
       "<tr>\n",
       "  <th>view_nan</th>            <td>-7676.7211</td> <td> 2127.634</td> <td>   -3.608</td> <td> 0.000</td> <td>-1.18e+04</td> <td>-3506.283</td>\n",
       "</tr>\n",
       "<tr>\n",
       "  <th>grade_10_Very_Good</th>  <td> 1.041e+05</td> <td> 1.24e+04</td> <td>    8.382</td> <td> 0.000</td> <td> 7.98e+04</td> <td> 1.28e+05</td>\n",
       "</tr>\n",
       "<tr>\n",
       "  <th>grade_11_Excellent</th>  <td> 1.038e+05</td> <td> 7646.966</td> <td>   13.576</td> <td> 0.000</td> <td> 8.88e+04</td> <td> 1.19e+05</td>\n",
       "</tr>\n",
       "<tr>\n",
       "  <th>grade_12_Luxury</th>     <td> 8.808e+04</td> <td> 4202.272</td> <td>   20.959</td> <td> 0.000</td> <td> 7.98e+04</td> <td> 9.63e+04</td>\n",
       "</tr>\n",
       "<tr>\n",
       "  <th>grade_13_Mansion</th>    <td> 6.868e+04</td> <td> 2321.390</td> <td>   29.587</td> <td> 0.000</td> <td> 6.41e+04</td> <td> 7.32e+04</td>\n",
       "</tr>\n",
       "<tr>\n",
       "  <th>grade_5_Fair</th>        <td>-1238.1829</td> <td> 5764.359</td> <td>   -0.215</td> <td> 0.830</td> <td>-1.25e+04</td> <td> 1.01e+04</td>\n",
       "</tr>\n",
       "<tr>\n",
       "  <th>grade_6_Low_Average</th> <td> 1167.4473</td> <td> 1.59e+04</td> <td>    0.074</td> <td> 0.941</td> <td>-2.99e+04</td> <td> 3.22e+04</td>\n",
       "</tr>\n",
       "<tr>\n",
       "  <th>grade_7_Average</th>     <td> 9838.3546</td> <td> 2.68e+04</td> <td>    0.368</td> <td> 0.713</td> <td>-4.26e+04</td> <td> 6.23e+04</td>\n",
       "</tr>\n",
       "<tr>\n",
       "  <th>grade_8_Good</th>        <td> 3.909e+04</td> <td> 2.45e+04</td> <td>    1.595</td> <td> 0.111</td> <td>-8956.689</td> <td> 8.71e+04</td>\n",
       "</tr>\n",
       "<tr>\n",
       "  <th>grade_9_Better</th>      <td> 7.816e+04</td> <td>  1.8e+04</td> <td>    4.348</td> <td> 0.000</td> <td> 4.29e+04</td> <td> 1.13e+05</td>\n",
       "</tr>\n",
       "<tr>\n",
       "  <th>sqft_living</th>         <td> 9.584e+04</td> <td> 2964.400</td> <td>   32.330</td> <td> 0.000</td> <td>    9e+04</td> <td> 1.02e+05</td>\n",
       "</tr>\n",
       "</table>\n",
       "<table class=\"simpletable\">\n",
       "<tr>\n",
       "  <th>Omnibus:</th>       <td>10617.893</td> <th>  Durbin-Watson:     </th>  <td>   2.005</td> \n",
       "</tr>\n",
       "<tr>\n",
       "  <th>Prob(Omnibus):</th>  <td> 0.000</td>   <th>  Jarque-Bera (JB):  </th> <td>803991.823</td>\n",
       "</tr>\n",
       "<tr>\n",
       "  <th>Skew:</th>           <td> 2.911</td>   <th>  Prob(JB):          </th>  <td>    0.00</td> \n",
       "</tr>\n",
       "<tr>\n",
       "  <th>Kurtosis:</th>       <td>39.204</td>   <th>  Cond. No.          </th>  <td>    36.3</td> \n",
       "</tr>\n",
       "</table><br/><br/>Notes:<br/>[1] Standard Errors assume that the covariance matrix of the errors is correctly specified."
      ],
      "text/plain": [
       "<class 'statsmodels.iolib.summary.Summary'>\n",
       "\"\"\"\n",
       "                            OLS Regression Results                            \n",
       "==============================================================================\n",
       "Dep. Variable:                  price   R-squared:                       0.592\n",
       "Model:                            OLS   Adj. R-squared:                  0.591\n",
       "Method:                 Least Squares   F-statistic:                     1384.\n",
       "Date:                Tue, 29 Mar 2022   Prob (F-statistic):               0.00\n",
       "Time:                        16:02:59   Log-Likelihood:            -1.9780e+05\n",
       "No. Observations:               14350   AIC:                         3.956e+05\n",
       "Df Residuals:                   14334   BIC:                         3.957e+05\n",
       "Df Model:                          15                                         \n",
       "Covariance Type:            nonrobust                                         \n",
       "=======================================================================================\n",
       "                          coef    std err          t      P>|t|      [0.025      0.975]\n",
       "---------------------------------------------------------------------------------------\n",
       "const                5.414e+05   1957.927    276.514      0.000    5.38e+05    5.45e+05\n",
       "view_AVERAGE        -1.557e+04   3718.752     -4.187      0.000   -2.29e+04   -8282.953\n",
       "view_EXCELLENT       4.773e+04   2650.650     18.007      0.000    4.25e+04    5.29e+04\n",
       "view_GOOD            2808.0839   3042.529      0.923      0.356   -3155.667    8771.834\n",
       "view_NONE           -5.623e+04   4704.089    -11.952      0.000   -6.54e+04    -4.7e+04\n",
       "view_nan            -7676.7211   2127.634     -3.608      0.000   -1.18e+04   -3506.283\n",
       "grade_10_Very_Good   1.041e+05   1.24e+04      8.382      0.000    7.98e+04    1.28e+05\n",
       "grade_11_Excellent   1.038e+05   7646.966     13.576      0.000    8.88e+04    1.19e+05\n",
       "grade_12_Luxury      8.808e+04   4202.272     20.959      0.000    7.98e+04    9.63e+04\n",
       "grade_13_Mansion     6.868e+04   2321.390     29.587      0.000    6.41e+04    7.32e+04\n",
       "grade_5_Fair        -1238.1829   5764.359     -0.215      0.830   -1.25e+04    1.01e+04\n",
       "grade_6_Low_Average  1167.4473   1.59e+04      0.074      0.941   -2.99e+04    3.22e+04\n",
       "grade_7_Average      9838.3546   2.68e+04      0.368      0.713   -4.26e+04    6.23e+04\n",
       "grade_8_Good         3.909e+04   2.45e+04      1.595      0.111   -8956.689    8.71e+04\n",
       "grade_9_Better       7.816e+04    1.8e+04      4.348      0.000    4.29e+04    1.13e+05\n",
       "sqft_living          9.584e+04   2964.400     32.330      0.000       9e+04    1.02e+05\n",
       "==============================================================================\n",
       "Omnibus:                    10617.893   Durbin-Watson:                   2.005\n",
       "Prob(Omnibus):                  0.000   Jarque-Bera (JB):           803991.823\n",
       "Skew:                           2.911   Prob(JB):                         0.00\n",
       "Kurtosis:                      39.204   Cond. No.                         36.3\n",
       "==============================================================================\n",
       "\n",
       "Notes:\n",
       "[1] Standard Errors assume that the covariance matrix of the errors is correctly specified.\n",
       "\"\"\""
      ]
     },
     "execution_count": 93,
     "metadata": {},
     "output_type": "execute_result"
    }
   ],
   "source": [
    "all_var = sm.OLS(y_train, sm.add_constant(no_zip_built_bathrooms_bedrooms_lot)).fit()\n",
    "all_var.summary()"
   ]
  },
  {
   "cell_type": "markdown",
   "metadata": {},
   "source": [
    "No log transformation\n",
    "- sqft_living = .488\n",
    "- sqft_living+ view + grade = .593\n",
    "- view + grade = .535\n",
    "- sqft_living + grade = .570\n",
    "- living + view = .517\n",
    "- view + grade + bedroom + bathroom + living + lot = .614\n",
    "- view + grade + living + bedrooms + lot = .614\n",
    "- view + grade + living + lot = .613\n",
    "- view + grade + living = .612\n",
    "\n",
    "\n",
    "Post log transformation\n",
    "- sqft_living = .368\n",
    "- sqft_living+ view + grade = .571\n",
    "- view + grade = .535\n",
    "- sqft_living + grade = .544\n",
    "- living + view = .414\n",
    "- view + grade + bedroom + bathroom + living + lot = .592 (bedroom & bathroom are multicollinear)\n",
    "- view + grade + living + bedrooms + lot = .592 (we get the same adj r-sqr because bedroom & bathroom are multicollinear)\n",
    "- view + grade + living + lot = .592\n",
    "- view + grade + living = .591"
   ]
  },
  {
   "cell_type": "markdown",
   "metadata": {},
   "source": [
    "## Testing Data"
   ]
  },
  {
   "cell_type": "code",
   "execution_count": 94,
   "metadata": {
    "scrolled": true
   },
   "outputs": [
    {
     "data": {
      "text/plain": [
       "690     520712.26\n",
       "14944   703209.23\n",
       "8329    307676.76\n",
       "7907    738511.25\n",
       "17942   806055.43\n",
       "           ...   \n",
       "15022   409181.40\n",
       "20717   643096.87\n",
       "21091   629269.49\n",
       "13222   882019.88\n",
       "8044    858401.96\n",
       "Length: 7069, dtype: float64"
      ]
     },
     "execution_count": 94,
     "metadata": {},
     "output_type": "execute_result"
    }
   ],
   "source": [
    "# Can now predict for our test set!\n",
    "simple_test_preds = simple_model.predict(sm.add_constant(X_test['sqft_living']))\n",
    "simple_test_preds"
   ]
  },
  {
   "cell_type": "code",
   "execution_count": 95,
   "metadata": {},
   "outputs": [
    {
     "data": {
      "text/plain": [
       "0.3836271889068843"
      ]
     },
     "execution_count": 95,
     "metadata": {},
     "output_type": "execute_result"
    }
   ],
   "source": [
    "r2_score(y_test,simple_test_preds)"
   ]
  },
  {
   "cell_type": "code",
   "execution_count": 96,
   "metadata": {
    "scrolled": true
   },
   "outputs": [
    {
     "data": {
      "text/plain": [
       "0.3682781853572882"
      ]
     },
     "execution_count": 96,
     "metadata": {},
     "output_type": "execute_result"
    }
   ],
   "source": [
    "r2_score(y_train,simple_train_preds)"
   ]
  },
  {
   "cell_type": "markdown",
   "metadata": {},
   "source": [
    "Our simple model appears to under perform our test model by .02."
   ]
  },
  {
   "cell_type": "code",
   "execution_count": 97,
   "metadata": {},
   "outputs": [
    {
     "data": {
      "image/png": "[encoded data removed]",
      "text/plain": [
       "<Figure size 432x288 with 1 Axes>"
      ]
     },
     "metadata": {
      "needs_background": "light"
     },
     "output_type": "display_data"
    }
   ],
   "source": [
    "# One last thing - can visualize both train and test set!\n",
    "\n",
    "# Plot our training data\n",
    "plt.scatter(train_df['sqft_living'], train_df['price'], color='blue', label='Training')\n",
    "# Plot our testing data\n",
    "plt.scatter(test_df['sqft_living'], test_df['price'], color='green', label='Testing')\n",
    "\n",
    "\n",
    "# Plot the line of best fit\n",
    "plt.plot(train_df['sqft_living'], simple_train_preds, color='black')\n",
    "# Plotting for the test data just to show it's the same!\n",
    "plt.plot(test_df['sqft_living'], simple_test_preds, color='red')\n",
    "\n",
    "plt.ylabel('Sale Price')\n",
    "plt.xlabel('Square Foot Living Area')\n",
    "plt.title('Relationship between Sale Price and Square Foot Living Area')\n",
    "plt.legend()\n",
    "plt.show()"
   ]
  },
  {
   "cell_type": "code",
   "execution_count": 98,
   "metadata": {},
   "outputs": [
    {
     "data": {
      "text/plain": [
       "array([[0.0000e+00, 0.0000e+00, 1.0000e+00, ..., 1.9580e+03, 9.8055e+04,\n",
       "        3.7300e+05],\n",
       "       [0.0000e+00, 0.0000e+00, 0.0000e+00, ..., 1.9850e+03, 9.8052e+04,\n",
       "        7.9010e+05],\n",
       "       [0.0000e+00, 0.0000e+00, 0.0000e+00, ..., 1.9640e+03, 9.8008e+04,\n",
       "        5.0000e+05],\n",
       "       ...,\n",
       "       [0.0000e+00, 0.0000e+00, 0.0000e+00, ..., 2.0140e+03, 9.8003e+04,\n",
       "        3.3349e+05],\n",
       "       [0.0000e+00, 0.0000e+00, 0.0000e+00, ..., 1.9240e+03, 9.8039e+04,\n",
       "        1.6500e+06],\n",
       "       [0.0000e+00, 0.0000e+00, 0.0000e+00, ..., 2.0120e+03, 9.8059e+04,\n",
       "        5.9000e+05]])"
      ]
     },
     "execution_count": 98,
     "metadata": {},
     "output_type": "execute_result"
    }
   ],
   "source": [
    "cat_cols2 = [c for c in test_df.columns if test_df[c].dtype == 'O']\n",
    "\n",
    "encoder = OneHotEncoder(drop='if_binary')\n",
    "from sklearn.compose import ColumnTransformer\n",
    "\n",
    "# Create an columntransformer object.\n",
    "# This will help us to merge transformed columns\n",
    "# with the rest of the dataset.\n",
    "\n",
    "ct2 = ColumnTransformer(transformers=[('ohe', encoder, cat_cols2)],\n",
    "                       remainder='passthrough')\n",
    "ct2.fit(test_df)\n",
    "X_test_enc = ct2.transform(test_df)\n",
    "X_test_enc"
   ]
  },
  {
   "cell_type": "code",
   "execution_count": 99,
   "metadata": {},
   "outputs": [
    {
     "name": "stderr",
     "output_type": "stream",
     "text": [
      "C:\\Users\\xiaoh\\anaconda3\\envs\\learn-env\\lib\\site-packages\\sklearn\\utils\\deprecation.py:87: FutureWarning: Function get_feature_names is deprecated; get_feature_names is deprecated in 1.0 and will be removed in 1.2. Please use get_feature_names_out instead.\n",
      "  warnings.warn(msg, category=FutureWarning)\n"
     ]
    }
   ],
   "source": [
    "X_test_enc= pd.DataFrame(X_test_enc, columns= ct.get_feature_names())"
   ]
  },
  {
   "cell_type": "code",
   "execution_count": 100,
   "metadata": {},
   "outputs": [
    {
     "data": {
      "text/plain": [
       "array([[-0.21552789, -0.11645273,  7.83526032, ..., -0.44854449,\n",
       "        -0.43090044, -0.45906168],\n",
       "       [-0.21552789, -0.11645273, -0.12762818, ...,  0.47187265,\n",
       "        -0.48719678,  0.67800069],\n",
       "       [-0.21552789, -0.11645273, -0.12762818, ..., -0.24400735,\n",
       "        -1.31287646, -0.11284514],\n",
       "       ...,\n",
       "       [-0.21552789, -0.11645273, -0.12762818, ...,  1.46046883,\n",
       "        -1.4067037 , -0.56677047],\n",
       "       [-0.21552789, -0.11645273, -0.12762818, ..., -1.60758829,\n",
       "        -0.7311476 ,  3.02218658],\n",
       "       [-0.21552789, -0.11645273, -0.12762818, ...,  1.39228978,\n",
       "        -0.35583865,  0.13250517]])"
      ]
     },
     "execution_count": 100,
     "metadata": {},
     "output_type": "execute_result"
    }
   ],
   "source": [
    "# Transform training data\n",
    "X_test_scaled = scaler.transform(X_test_enc)\n",
    "X_test_scaled"
   ]
  },
  {
   "cell_type": "code",
   "execution_count": 101,
   "metadata": {},
   "outputs": [],
   "source": [
    "scaled_test_df = pd.DataFrame(X_test_scaled, columns= ct.get_feature_names_out(), index = y_test.index)"
   ]
  },
  {
   "cell_type": "code",
   "execution_count": 102,
   "metadata": {},
   "outputs": [],
   "source": [
    "scaled_test_df.columns = [x.replace(\"ohe__\", \"\").replace('remainder__','').strip() for x in scaled_test_df.columns]"
   ]
  },
  {
   "cell_type": "code",
   "execution_count": 103,
   "metadata": {},
   "outputs": [],
   "source": [
    "scaled_test_df.drop(columns = ['view_FAIR', 'grade_4_Low'], inplace = True)"
   ]
  },
  {
   "cell_type": "code",
   "execution_count": null,
   "metadata": {},
   "outputs": [],
   "source": []
  },
  {
   "cell_type": "code",
   "execution_count": 111,
   "metadata": {},
   "outputs": [
    {
     "data": {
      "text/plain": [
       "array([[-0.21552789, -0.11645273, -0.12762818, ...,  0.4036936 ,\n",
       "        -0.3746041 , -0.56265404],\n",
       "       [-0.21552789, -0.11645273, -0.12762818, ...,  1.08548407,\n",
       "        -0.91880207,  0.51143509],\n",
       "       [-0.21552789, -0.11645273, -0.12762818, ..., -0.82352925,\n",
       "         1.68959511, -0.70441199],\n",
       "       ...,\n",
       "       [-0.21552789, -0.11645273, -0.12762818, ..., -0.38036544,\n",
       "        -0.82497483,  0.21428861],\n",
       "       [-0.21552789, -0.11645273, -0.12762818, ..., -0.58490258,\n",
       "         1.03280445, -0.75348205],\n",
       "       [-0.21552789, -0.11645273, -0.12762818, ..., -0.99397686,\n",
       "        -0.41213499, -1.09697249]])"
      ]
     },
     "execution_count": 111,
     "metadata": {},
     "output_type": "execute_result"
    }
   ],
   "source": [
    "X_train_scaled"
   ]
  },
  {
   "cell_type": "code",
   "execution_count": 104,
   "metadata": {},
   "outputs": [
    {
     "data": {
      "text/plain": [
       "LinearRegression()"
      ]
     },
     "execution_count": 104,
     "metadata": {},
     "output_type": "execute_result"
    }
   ],
   "source": [
    "# Set up and fit your model\n",
    "model = LinearRegression()\n",
    "\n",
    "model.fit(X_train_scaled, y_train)"
   ]
  },
  {
   "cell_type": "code",
   "execution_count": 105,
   "metadata": {},
   "outputs": [
    {
     "data": {
      "text/plain": [
       "1.0"
      ]
     },
     "execution_count": 105,
     "metadata": {},
     "output_type": "execute_result"
    }
   ],
   "source": [
    "model.score(X_train_scaled, y_train)"
   ]
  },
  {
   "cell_type": "code",
   "execution_count": 106,
   "metadata": {},
   "outputs": [
    {
     "data": {
      "text/plain": [
       "1.0"
      ]
     },
     "execution_count": 106,
     "metadata": {},
     "output_type": "execute_result"
    }
   ],
   "source": [
    "model.score(X_test_scaled, y_test)"
   ]
  },
  {
   "cell_type": "code",
   "execution_count": 107,
   "metadata": {},
   "outputs": [],
   "source": [
    "train_preds = model.predict(X_train_scaled)\n",
    "\n",
    "test_preds = model.predict(X_test_scaled)"
   ]
  },
  {
   "cell_type": "code",
   "execution_count": 108,
   "metadata": {},
   "outputs": [
    {
     "data": {
      "text/plain": [
       "1.0"
      ]
     },
     "execution_count": 108,
     "metadata": {},
     "output_type": "execute_result"
    }
   ],
   "source": [
    "r2_score(y_train, train_preds)"
   ]
  },
  {
   "cell_type": "code",
   "execution_count": 109,
   "metadata": {},
   "outputs": [
    {
     "data": {
      "text/plain": [
       "1.0"
      ]
     },
     "execution_count": 109,
     "metadata": {},
     "output_type": "execute_result"
    }
   ],
   "source": [
    "r2_score(y_test, test_preds)"
   ]
  },
  {
   "cell_type": "code",
   "execution_count": null,
   "metadata": {},
   "outputs": [],
   "source": []
  }
 ],
 "metadata": {
  "kernelspec": {
   "display_name": "Python (learn-env)",
   "language": "python",
   "name": "learn-env"
  },
  "language_info": {
   "codemirror_mode": {
    "name": "ipython",
    "version": 3
   },
   "file_extension": ".py",
   "mimetype": "text/x-python",
   "name": "python",
   "nbconvert_exporter": "python",
   "pygments_lexer": "ipython3",
   "version": "3.8.5"
  }
 },
 "nbformat": 4,
 "nbformat_minor": 4
}
