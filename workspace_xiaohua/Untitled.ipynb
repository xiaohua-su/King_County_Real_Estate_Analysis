{
 "cells": [
  {
   "cell_type": "code",
   "execution_count": 8,
   "metadata": {},
   "outputs": [],
   "source": [
    "import pandas as pd\n",
    "import numpy as np\n",
    "import scipy.stats as stats\n",
    "from statsmodels.stats.multicomp import pairwise_tukeyhsd\n",
    "\n",
    "\n",
    "pd.set_option('display.float_format', lambda x: '%.2f' % x)\n",
    "\n",
    "df = pd.read_csv('~/Documents/Flatiron/projects/phase2project/Phase2-Real--Estate/data/kc_house_data.csv')\n",
    "\n",
    "#think that view might be important so we fill the nulls there for now\n",
    "\n",
    "df_copy = df.copy()\n",
    "df_copy['view'] = df_copy['view'].fillna(value = 'NO_RECORD')\n",
    "\n",
    "'''is there a difference between those that have a view versus those that don't'''\n",
    "\n",
    "summary_of_view = df_copy.groupby('view').mean()\n",
    "'''from the df summary, we notice that there is a difference in price between price for those that are excellent\n",
    "compared to those that have a view written as none. Further investigation will be performed to determine if this\n",
    "difference is statistically significant'''\n",
    "\n",
    "''' Subsetting the data into different views\n",
    " - number of rows: none = 19422, avg = 957, good = 508, fair = 330, excellent = 317, norecord = 17\n",
    " - likely need to convert this to a function of some kind if we can'''\n",
    "df_average = df_copy[df_copy['view'] == 'AVERAGE']\n",
    "df_excellent = df_copy[df_copy['view'] == 'EXCELLENT']\n",
    "df_fair = df_copy[df_copy['view'] == 'FAIR']\n",
    "df_good = df_copy[df_copy['view'] == 'GOOD']\n",
    "df_none = df_copy[df_copy['view'] == 'NONE']\n",
    "df_no_record = df_copy[df_copy['view'] == 'NO_RECORD']\n",
    "\n",
    "fvalue, pvalue = stats.f_oneway(df_average['price'], df_excellent['price'], df_fair['price'],\n",
    "                                df_good['price'] , df_none['price'])"
   ]
  },
  {
   "cell_type": "code",
   "execution_count": 11,
   "metadata": {},
   "outputs": [
    {
     "ename": "TypeError",
     "evalue": "'<' not supported between instances of 'str' and 'float'",
     "output_type": "error",
     "traceback": [
      "\u001b[1;31m---------------------------------------------------------------------------\u001b[0m",
      "\u001b[1;31mTypeError\u001b[0m                                 Traceback (most recent call last)",
      "\u001b[1;32m<ipython-input-11-825411baf021>\u001b[0m in \u001b[0;36m<module>\u001b[1;34m\u001b[0m\n\u001b[0;32m      5\u001b[0m \u001b[1;33m\u001b[0m\u001b[0m\n\u001b[0;32m      6\u001b[0m \u001b[1;31m#Tukey test\u001b[0m\u001b[1;33m\u001b[0m\u001b[1;33m\u001b[0m\u001b[1;33m\u001b[0m\u001b[0m\n\u001b[1;32m----> 7\u001b[1;33m \u001b[0mpairwise_tukeyhsd\u001b[0m\u001b[1;33m(\u001b[0m\u001b[0mdf_view\u001b[0m\u001b[1;33m[\u001b[0m\u001b[1;34m'price'\u001b[0m\u001b[1;33m]\u001b[0m\u001b[1;33m,\u001b[0m \u001b[0mdf_view\u001b[0m\u001b[1;33m[\u001b[0m\u001b[1;34m'view'\u001b[0m\u001b[1;33m]\u001b[0m\u001b[1;33m)\u001b[0m\u001b[1;33m\u001b[0m\u001b[1;33m\u001b[0m\u001b[0m\n\u001b[0m",
      "\u001b[1;32m~\\anaconda3\\envs\\learn-env\\lib\\site-packages\\statsmodels\\stats\\multicomp.py\u001b[0m in \u001b[0;36mpairwise_tukeyhsd\u001b[1;34m(endog, groups, alpha)\u001b[0m\n\u001b[0;32m     42\u001b[0m     \"\"\"\n\u001b[0;32m     43\u001b[0m \u001b[1;33m\u001b[0m\u001b[0m\n\u001b[1;32m---> 44\u001b[1;33m     \u001b[1;32mreturn\u001b[0m \u001b[0mMultiComparison\u001b[0m\u001b[1;33m(\u001b[0m\u001b[0mendog\u001b[0m\u001b[1;33m,\u001b[0m \u001b[0mgroups\u001b[0m\u001b[1;33m)\u001b[0m\u001b[1;33m.\u001b[0m\u001b[0mtukeyhsd\u001b[0m\u001b[1;33m(\u001b[0m\u001b[0malpha\u001b[0m\u001b[1;33m=\u001b[0m\u001b[0malpha\u001b[0m\u001b[1;33m)\u001b[0m\u001b[1;33m\u001b[0m\u001b[1;33m\u001b[0m\u001b[0m\n\u001b[0m",
      "\u001b[1;32m~\\anaconda3\\envs\\learn-env\\lib\\site-packages\\statsmodels\\sandbox\\stats\\multicomp.py\u001b[0m in \u001b[0;36m__init__\u001b[1;34m(self, data, groups, group_order)\u001b[0m\n\u001b[0;32m    806\u001b[0m         \u001b[1;31m# Allow for user-provided sorting of groups\u001b[0m\u001b[1;33m\u001b[0m\u001b[1;33m\u001b[0m\u001b[1;33m\u001b[0m\u001b[0m\n\u001b[0;32m    807\u001b[0m         \u001b[1;32mif\u001b[0m \u001b[0mgroup_order\u001b[0m \u001b[1;32mis\u001b[0m \u001b[1;32mNone\u001b[0m\u001b[1;33m:\u001b[0m\u001b[1;33m\u001b[0m\u001b[1;33m\u001b[0m\u001b[0m\n\u001b[1;32m--> 808\u001b[1;33m             self.groupsunique, self.groupintlab = np.unique(groups,\n\u001b[0m\u001b[0;32m    809\u001b[0m                                                             return_inverse=True)\n\u001b[0;32m    810\u001b[0m         \u001b[1;32melse\u001b[0m\u001b[1;33m:\u001b[0m\u001b[1;33m\u001b[0m\u001b[1;33m\u001b[0m\u001b[0m\n",
      "\u001b[1;32m<__array_function__ internals>\u001b[0m in \u001b[0;36munique\u001b[1;34m(*args, **kwargs)\u001b[0m\n",
      "\u001b[1;32m~\\anaconda3\\envs\\learn-env\\lib\\site-packages\\numpy\\lib\\arraysetops.py\u001b[0m in \u001b[0;36munique\u001b[1;34m(ar, return_index, return_inverse, return_counts, axis)\u001b[0m\n\u001b[0;32m    261\u001b[0m     \u001b[0mar\u001b[0m \u001b[1;33m=\u001b[0m \u001b[0mnp\u001b[0m\u001b[1;33m.\u001b[0m\u001b[0masanyarray\u001b[0m\u001b[1;33m(\u001b[0m\u001b[0mar\u001b[0m\u001b[1;33m)\u001b[0m\u001b[1;33m\u001b[0m\u001b[1;33m\u001b[0m\u001b[0m\n\u001b[0;32m    262\u001b[0m     \u001b[1;32mif\u001b[0m \u001b[0maxis\u001b[0m \u001b[1;32mis\u001b[0m \u001b[1;32mNone\u001b[0m\u001b[1;33m:\u001b[0m\u001b[1;33m\u001b[0m\u001b[1;33m\u001b[0m\u001b[0m\n\u001b[1;32m--> 263\u001b[1;33m         \u001b[0mret\u001b[0m \u001b[1;33m=\u001b[0m \u001b[0m_unique1d\u001b[0m\u001b[1;33m(\u001b[0m\u001b[0mar\u001b[0m\u001b[1;33m,\u001b[0m \u001b[0mreturn_index\u001b[0m\u001b[1;33m,\u001b[0m \u001b[0mreturn_inverse\u001b[0m\u001b[1;33m,\u001b[0m \u001b[0mreturn_counts\u001b[0m\u001b[1;33m)\u001b[0m\u001b[1;33m\u001b[0m\u001b[1;33m\u001b[0m\u001b[0m\n\u001b[0m\u001b[0;32m    264\u001b[0m         \u001b[1;32mreturn\u001b[0m \u001b[0m_unpack_tuple\u001b[0m\u001b[1;33m(\u001b[0m\u001b[0mret\u001b[0m\u001b[1;33m)\u001b[0m\u001b[1;33m\u001b[0m\u001b[1;33m\u001b[0m\u001b[0m\n\u001b[0;32m    265\u001b[0m \u001b[1;33m\u001b[0m\u001b[0m\n",
      "\u001b[1;32m~\\anaconda3\\envs\\learn-env\\lib\\site-packages\\numpy\\lib\\arraysetops.py\u001b[0m in \u001b[0;36m_unique1d\u001b[1;34m(ar, return_index, return_inverse, return_counts)\u001b[0m\n\u001b[0;32m    306\u001b[0m \u001b[1;33m\u001b[0m\u001b[0m\n\u001b[0;32m    307\u001b[0m     \u001b[1;32mif\u001b[0m \u001b[0moptional_indices\u001b[0m\u001b[1;33m:\u001b[0m\u001b[1;33m\u001b[0m\u001b[1;33m\u001b[0m\u001b[0m\n\u001b[1;32m--> 308\u001b[1;33m         \u001b[0mperm\u001b[0m \u001b[1;33m=\u001b[0m \u001b[0mar\u001b[0m\u001b[1;33m.\u001b[0m\u001b[0margsort\u001b[0m\u001b[1;33m(\u001b[0m\u001b[0mkind\u001b[0m\u001b[1;33m=\u001b[0m\u001b[1;34m'mergesort'\u001b[0m \u001b[1;32mif\u001b[0m \u001b[0mreturn_index\u001b[0m \u001b[1;32melse\u001b[0m \u001b[1;34m'quicksort'\u001b[0m\u001b[1;33m)\u001b[0m\u001b[1;33m\u001b[0m\u001b[1;33m\u001b[0m\u001b[0m\n\u001b[0m\u001b[0;32m    309\u001b[0m         \u001b[0maux\u001b[0m \u001b[1;33m=\u001b[0m \u001b[0mar\u001b[0m\u001b[1;33m[\u001b[0m\u001b[0mperm\u001b[0m\u001b[1;33m]\u001b[0m\u001b[1;33m\u001b[0m\u001b[1;33m\u001b[0m\u001b[0m\n\u001b[0;32m    310\u001b[0m     \u001b[1;32melse\u001b[0m\u001b[1;33m:\u001b[0m\u001b[1;33m\u001b[0m\u001b[1;33m\u001b[0m\u001b[0m\n",
      "\u001b[1;31mTypeError\u001b[0m: '<' not supported between instances of 'str' and 'float'"
     ]
    }
   ],
   "source": [
    "#getting on the values we want\n",
    "view_mean_std = df_copy.groupby('view').agg(['mean', 'std'])\n",
    "\n",
    "df_view = df[['view', 'price']]\n",
    "\n",
    "#Tukey test\n",
    "pairwise_tukeyhsd(df_view['price'], df_view['view'])\n"
   ]
  },
  {
   "cell_type": "code",
   "execution_count": 3,
   "metadata": {},
   "outputs": [
    {
     "data": {
      "text/plain": [
       "\"There is a significant difference in price betweeen grades but we don't know which one is significant.\\nFurther testing required to determine which is important\""
      ]
     },
     "execution_count": 3,
     "metadata": {},
     "output_type": "execute_result"
    }
   ],
   "source": [
    "' Is there a difference between grades'\n",
    "\n",
    "grade_count = df_copy.grade.value_counts()\n",
    "'''issue here that there are many different grade and some of them have very little that can skew the perception\n",
    "#such as poor having 1, mansion having 13, low = 27, luxury having 87'''\n",
    "\n",
    "summary_of_grade = df_copy.groupby('grade').mean()\n",
    "\n",
    "#print(summary_of_grade.price)\n",
    "#excluding the three mentioned above for now, further discussion required\n",
    "df_10 = df_copy[df_copy['grade'] == '10 Very Good']\n",
    "df_11 = df_copy[df_copy['grade'] == '11 Excellent']\n",
    "df_12 = df_copy[df_copy['grade'] == '12 Luxury']\n",
    "df_4 = df_copy[df_copy['grade'] == '4 Low']\n",
    "df_5 = df_copy[df_copy['grade'] == '5 Fair']\n",
    "df_6 = df_copy[df_copy['grade'] == '6 Low Average']\n",
    "df_7 = df_copy[df_copy['grade'] == '7 Average']\n",
    "df_8 = df_copy[df_copy['grade'] == '8 Good']\n",
    "df_9 = df_copy[df_copy['grade'] == '9 Better']\n",
    "\n",
    "f_value_grade, p_value_grade = stats.f_oneway(df_10['price'], df_11['price'], df_12['price'],\n",
    "                                df_4['price'] , df_5['price'], df_6['price'], df_7['price'],df_8['price'],\n",
    "                                              df_9['price'])\n",
    "'''There is a significant difference in price betweeen grades but we don't know which one is significant.\n",
    "Further testing required to determine which is important'''"
   ]
  },
  {
   "cell_type": "code",
   "execution_count": null,
   "metadata": {},
   "outputs": [],
   "source": []
  }
 ],
 "metadata": {
  "kernelspec": {
   "display_name": "Python (learn-env)",
   "language": "python",
   "name": "learn-env"
  },
  "language_info": {
   "codemirror_mode": {
    "name": "ipython",
    "version": 3
   },
   "file_extension": ".py",
   "mimetype": "text/x-python",
   "name": "python",
   "nbconvert_exporter": "python",
   "pygments_lexer": "ipython3",
   "version": "3.8.5"
  }
 },
 "nbformat": 4,
 "nbformat_minor": 4
}
