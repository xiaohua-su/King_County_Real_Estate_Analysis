{
 "cells": [
  {
   "cell_type": "markdown",
   "metadata": {},
   "source": [
    "# Analysis of Real Estate Prices and Features in King County, Seattle "
   ]
  },
  {
   "cell_type": "markdown",
   "metadata": {},
   "source": [
    "![img](./images/kc_header.png)\n",
    "\n",
    "(image courtesy of [beautifulwashington.com](https://beautifulwashington.com/king-county.html))"
   ]
  },
  {
   "cell_type": "markdown",
   "metadata": {},
   "source": [
    "**Authors / Contributors:**\n",
    "\n",
    "- Luke Dowker\n",
    "- Jawwad Siddiqui\n",
    "- Xiaohua Su"
   ]
  },
  {
   "cell_type": "markdown",
   "metadata": {},
   "source": [
    "# Overview"
   ]
  },
  {
   "cell_type": "markdown",
   "metadata": {},
   "source": [
    "**Recommendations:**\n",
    "\n",
    "- null\n",
    "- null\n",
    "- null"
   ]
  },
  {
   "cell_type": "markdown",
   "metadata": {},
   "source": [
    "# Business Problem"
   ]
  },
  {
   "cell_type": "markdown",
   "metadata": {},
   "source": [
    "A real estate agency is looking to provide advice to homeowners looking to increase the values of their homes. We are seeking to identify several variables that can **predict** what a home's sale price can be.\n",
    "\n",
    "**Alternately:** If a customer is looking to purchase land without a house already on the lot, our recommendations will help home builders maximize their profits by helping builders identify which predictor variables to focus on."
   ]
  },
  {
   "cell_type": "markdown",
   "metadata": {},
   "source": [
    "# Data Investigation and Cleaning"
   ]
  },
  {
   "cell_type": "markdown",
   "metadata": {},
   "source": [
    "We kick things off by importing all necessary libraries and packages."
   ]
  },
  {
   "cell_type": "code",
   "execution_count": 98,
   "metadata": {
    "ExecuteTime": {
     "end_time": "2022-03-31T12:42:55.712237Z",
     "start_time": "2022-03-31T12:42:55.683043Z"
    }
   },
   "outputs": [],
   "source": [
    "# statsmodels\n",
    "from statsmodels.stats.multicomp import pairwise_tukeyhsd\n",
    "import statsmodels.api as sm\n",
    "from statsmodels.formula.api import ols\n",
    "# sci-kit learn\n",
    "from sklearn.metrics import mean_squared_error, r2_score\n",
    "from sklearn.model_selection import train_test_split\n",
    "from sklearn.dummy import DummyRegressor\n",
    "from sklearn.linear_model import LinearRegression\n",
    "from sklearn.datasets import make_regression\n",
    "from sklearn.preprocessing import OneHotEncoder, StandardScaler, MinMaxScaler\n",
    "# baseline analysis and visualization\n",
    "import pandas as pd\n",
    "import numpy as np\n",
    "from scipy import stats\n",
    "import matplotlib.pyplot as plt\n",
    "import seaborn as sns\n",
    "%matplotlib inline\n",
    "\n",
    "# from random import gauss\n",
    "# from mpl_toolkits.mplot3d import Axes3D"
   ]
  },
  {
   "cell_type": "markdown",
   "metadata": {},
   "source": [
    "...and some formatting options."
   ]
  },
  {
   "cell_type": "code",
   "execution_count": 36,
   "metadata": {
    "ExecuteTime": {
     "end_time": "2022-03-31T12:26:28.740918Z",
     "start_time": "2022-03-31T12:26:28.710857Z"
    }
   },
   "outputs": [],
   "source": [
    "# Shows *all* columns in dataframe, i.e. does not truncate horizontally\n",
    "pd.set_option('display.max_columns', None)\n",
    "\n",
    "# Converts from scientific notation to standard form (applied to every df in\n",
    "# this notebook) and rounds to two decimal places\n",
    "pd.set_option('display.float_format', lambda x: '%.2f' % x)"
   ]
  },
  {
   "cell_type": "markdown",
   "metadata": {},
   "source": [
    "Below, we read in the data and check out some of its basic features: column names, null values, data types, etc."
   ]
  },
  {
   "cell_type": "code",
   "execution_count": 37,
   "metadata": {
    "ExecuteTime": {
     "end_time": "2022-03-31T12:26:28.916306Z",
     "start_time": "2022-03-31T12:26:28.755494Z"
    },
    "scrolled": true
   },
   "outputs": [],
   "source": [
    "# Reading in .csv file, creating initial pandas dataframe\n",
    "df = pd.read_csv('data/kc_house_data.csv')"
   ]
  },
  {
   "cell_type": "code",
   "execution_count": 38,
   "metadata": {
    "ExecuteTime": {
     "end_time": "2022-03-31T12:26:28.941194Z",
     "start_time": "2022-03-31T12:26:28.916306Z"
    }
   },
   "outputs": [
    {
     "data": {
      "text/plain": [
       "Index(['id', 'date', 'price', 'bedrooms', 'bathrooms', 'sqft_living',\n",
       "       'sqft_lot', 'floors', 'waterfront', 'view', 'condition', 'grade',\n",
       "       'sqft_above', 'sqft_basement', 'yr_built', 'yr_renovated', 'zipcode',\n",
       "       'lat', 'long', 'sqft_living15', 'sqft_lot15'],\n",
       "      dtype='object')"
      ]
     },
     "execution_count": 38,
     "metadata": {},
     "output_type": "execute_result"
    }
   ],
   "source": [
    "# Listing out column names\n",
    "df.columns"
   ]
  },
  {
   "cell_type": "code",
   "execution_count": 39,
   "metadata": {
    "ExecuteTime": {
     "end_time": "2022-03-31T12:26:29.034595Z",
     "start_time": "2022-03-31T12:26:28.946394Z"
    }
   },
   "outputs": [
    {
     "name": "stdout",
     "output_type": "stream",
     "text": [
      "<class 'pandas.core.frame.DataFrame'>\n",
      "RangeIndex: 21597 entries, 0 to 21596\n",
      "Data columns (total 21 columns):\n",
      " #   Column         Non-Null Count  Dtype  \n",
      "---  ------         --------------  -----  \n",
      " 0   id             21597 non-null  int64  \n",
      " 1   date           21597 non-null  object \n",
      " 2   price          21597 non-null  float64\n",
      " 3   bedrooms       21597 non-null  int64  \n",
      " 4   bathrooms      21597 non-null  float64\n",
      " 5   sqft_living    21597 non-null  int64  \n",
      " 6   sqft_lot       21597 non-null  int64  \n",
      " 7   floors         21597 non-null  float64\n",
      " 8   waterfront     19221 non-null  object \n",
      " 9   view           21534 non-null  object \n",
      " 10  condition      21597 non-null  object \n",
      " 11  grade          21597 non-null  object \n",
      " 12  sqft_above     21597 non-null  int64  \n",
      " 13  sqft_basement  21597 non-null  object \n",
      " 14  yr_built       21597 non-null  int64  \n",
      " 15  yr_renovated   17755 non-null  float64\n",
      " 16  zipcode        21597 non-null  int64  \n",
      " 17  lat            21597 non-null  float64\n",
      " 18  long           21597 non-null  float64\n",
      " 19  sqft_living15  21597 non-null  int64  \n",
      " 20  sqft_lot15     21597 non-null  int64  \n",
      "dtypes: float64(6), int64(9), object(6)\n",
      "memory usage: 3.5+ MB\n"
     ]
    }
   ],
   "source": [
    "# Checking datatypes and null value counts\n",
    "df.info()"
   ]
  },
  {
   "cell_type": "markdown",
   "metadata": {},
   "source": [
    "**Two components** of this `info` printout that we can immediately identify as problems we may need to address:\n",
    "\n",
    "1. Columns currently coded as datatype `object`...\n",
    "\n",
    "    - `date`\n",
    "    - `waterfront`\n",
    "    - `view`\n",
    "    - `condition`\n",
    "    - `grade`\n",
    "    - `sqft_basement`\n",
    "\n",
    "\n",
    "2. Columns currently containing null values...\n",
    "\n",
    "    - `waterfront`\n",
    "    - `view`\n",
    "    - `yr_renovated`"
   ]
  },
  {
   "cell_type": "code",
   "execution_count": 40,
   "metadata": {
    "ExecuteTime": {
     "end_time": "2022-03-31T12:26:29.314429Z",
     "start_time": "2022-03-31T12:26:29.041340Z"
    },
    "scrolled": false
   },
   "outputs": [
    {
     "data": {
      "text/html": [
       "<div>\n",
       "<style scoped>\n",
       "    .dataframe tbody tr th:only-of-type {\n",
       "        vertical-align: middle;\n",
       "    }\n",
       "\n",
       "    .dataframe tbody tr th {\n",
       "        vertical-align: top;\n",
       "    }\n",
       "\n",
       "    .dataframe thead th {\n",
       "        text-align: right;\n",
       "    }\n",
       "</style>\n",
       "<table border=\"1\" class=\"dataframe\">\n",
       "  <thead>\n",
       "    <tr style=\"text-align: right;\">\n",
       "      <th></th>\n",
       "      <th>id</th>\n",
       "      <th>price</th>\n",
       "      <th>bedrooms</th>\n",
       "      <th>bathrooms</th>\n",
       "      <th>sqft_living</th>\n",
       "      <th>sqft_lot</th>\n",
       "      <th>floors</th>\n",
       "      <th>sqft_above</th>\n",
       "      <th>yr_built</th>\n",
       "      <th>yr_renovated</th>\n",
       "      <th>zipcode</th>\n",
       "      <th>lat</th>\n",
       "      <th>long</th>\n",
       "      <th>sqft_living15</th>\n",
       "      <th>sqft_lot15</th>\n",
       "    </tr>\n",
       "  </thead>\n",
       "  <tbody>\n",
       "    <tr>\n",
       "      <th>count</th>\n",
       "      <td>21597.00</td>\n",
       "      <td>21597.00</td>\n",
       "      <td>21597.00</td>\n",
       "      <td>21597.00</td>\n",
       "      <td>21597.00</td>\n",
       "      <td>21597.00</td>\n",
       "      <td>21597.00</td>\n",
       "      <td>21597.00</td>\n",
       "      <td>21597.00</td>\n",
       "      <td>17755.00</td>\n",
       "      <td>21597.00</td>\n",
       "      <td>21597.00</td>\n",
       "      <td>21597.00</td>\n",
       "      <td>21597.00</td>\n",
       "      <td>21597.00</td>\n",
       "    </tr>\n",
       "    <tr>\n",
       "      <th>mean</th>\n",
       "      <td>4580474287.77</td>\n",
       "      <td>540296.57</td>\n",
       "      <td>3.37</td>\n",
       "      <td>2.12</td>\n",
       "      <td>2080.32</td>\n",
       "      <td>15099.41</td>\n",
       "      <td>1.49</td>\n",
       "      <td>1788.60</td>\n",
       "      <td>1971.00</td>\n",
       "      <td>83.64</td>\n",
       "      <td>98077.95</td>\n",
       "      <td>47.56</td>\n",
       "      <td>-122.21</td>\n",
       "      <td>1986.62</td>\n",
       "      <td>12758.28</td>\n",
       "    </tr>\n",
       "    <tr>\n",
       "      <th>std</th>\n",
       "      <td>2876735715.75</td>\n",
       "      <td>367368.14</td>\n",
       "      <td>0.93</td>\n",
       "      <td>0.77</td>\n",
       "      <td>918.11</td>\n",
       "      <td>41412.64</td>\n",
       "      <td>0.54</td>\n",
       "      <td>827.76</td>\n",
       "      <td>29.38</td>\n",
       "      <td>399.95</td>\n",
       "      <td>53.51</td>\n",
       "      <td>0.14</td>\n",
       "      <td>0.14</td>\n",
       "      <td>685.23</td>\n",
       "      <td>27274.44</td>\n",
       "    </tr>\n",
       "    <tr>\n",
       "      <th>min</th>\n",
       "      <td>1000102.00</td>\n",
       "      <td>78000.00</td>\n",
       "      <td>1.00</td>\n",
       "      <td>0.50</td>\n",
       "      <td>370.00</td>\n",
       "      <td>520.00</td>\n",
       "      <td>1.00</td>\n",
       "      <td>370.00</td>\n",
       "      <td>1900.00</td>\n",
       "      <td>0.00</td>\n",
       "      <td>98001.00</td>\n",
       "      <td>47.16</td>\n",
       "      <td>-122.52</td>\n",
       "      <td>399.00</td>\n",
       "      <td>651.00</td>\n",
       "    </tr>\n",
       "    <tr>\n",
       "      <th>25%</th>\n",
       "      <td>2123049175.00</td>\n",
       "      <td>322000.00</td>\n",
       "      <td>3.00</td>\n",
       "      <td>1.75</td>\n",
       "      <td>1430.00</td>\n",
       "      <td>5040.00</td>\n",
       "      <td>1.00</td>\n",
       "      <td>1190.00</td>\n",
       "      <td>1951.00</td>\n",
       "      <td>0.00</td>\n",
       "      <td>98033.00</td>\n",
       "      <td>47.47</td>\n",
       "      <td>-122.33</td>\n",
       "      <td>1490.00</td>\n",
       "      <td>5100.00</td>\n",
       "    </tr>\n",
       "    <tr>\n",
       "      <th>50%</th>\n",
       "      <td>3904930410.00</td>\n",
       "      <td>450000.00</td>\n",
       "      <td>3.00</td>\n",
       "      <td>2.25</td>\n",
       "      <td>1910.00</td>\n",
       "      <td>7618.00</td>\n",
       "      <td>1.50</td>\n",
       "      <td>1560.00</td>\n",
       "      <td>1975.00</td>\n",
       "      <td>0.00</td>\n",
       "      <td>98065.00</td>\n",
       "      <td>47.57</td>\n",
       "      <td>-122.23</td>\n",
       "      <td>1840.00</td>\n",
       "      <td>7620.00</td>\n",
       "    </tr>\n",
       "    <tr>\n",
       "      <th>75%</th>\n",
       "      <td>7308900490.00</td>\n",
       "      <td>645000.00</td>\n",
       "      <td>4.00</td>\n",
       "      <td>2.50</td>\n",
       "      <td>2550.00</td>\n",
       "      <td>10685.00</td>\n",
       "      <td>2.00</td>\n",
       "      <td>2210.00</td>\n",
       "      <td>1997.00</td>\n",
       "      <td>0.00</td>\n",
       "      <td>98118.00</td>\n",
       "      <td>47.68</td>\n",
       "      <td>-122.12</td>\n",
       "      <td>2360.00</td>\n",
       "      <td>10083.00</td>\n",
       "    </tr>\n",
       "    <tr>\n",
       "      <th>max</th>\n",
       "      <td>9900000190.00</td>\n",
       "      <td>7700000.00</td>\n",
       "      <td>33.00</td>\n",
       "      <td>8.00</td>\n",
       "      <td>13540.00</td>\n",
       "      <td>1651359.00</td>\n",
       "      <td>3.50</td>\n",
       "      <td>9410.00</td>\n",
       "      <td>2015.00</td>\n",
       "      <td>2015.00</td>\n",
       "      <td>98199.00</td>\n",
       "      <td>47.78</td>\n",
       "      <td>-121.31</td>\n",
       "      <td>6210.00</td>\n",
       "      <td>871200.00</td>\n",
       "    </tr>\n",
       "  </tbody>\n",
       "</table>\n",
       "</div>"
      ],
      "text/plain": [
       "                 id      price  bedrooms  bathrooms  sqft_living   sqft_lot  \\\n",
       "count      21597.00   21597.00  21597.00   21597.00     21597.00   21597.00   \n",
       "mean  4580474287.77  540296.57      3.37       2.12      2080.32   15099.41   \n",
       "std   2876735715.75  367368.14      0.93       0.77       918.11   41412.64   \n",
       "min      1000102.00   78000.00      1.00       0.50       370.00     520.00   \n",
       "25%   2123049175.00  322000.00      3.00       1.75      1430.00    5040.00   \n",
       "50%   3904930410.00  450000.00      3.00       2.25      1910.00    7618.00   \n",
       "75%   7308900490.00  645000.00      4.00       2.50      2550.00   10685.00   \n",
       "max   9900000190.00 7700000.00     33.00       8.00     13540.00 1651359.00   \n",
       "\n",
       "        floors  sqft_above  yr_built  yr_renovated  zipcode      lat     long  \\\n",
       "count 21597.00    21597.00  21597.00      17755.00 21597.00 21597.00 21597.00   \n",
       "mean      1.49     1788.60   1971.00         83.64 98077.95    47.56  -122.21   \n",
       "std       0.54      827.76     29.38        399.95    53.51     0.14     0.14   \n",
       "min       1.00      370.00   1900.00          0.00 98001.00    47.16  -122.52   \n",
       "25%       1.00     1190.00   1951.00          0.00 98033.00    47.47  -122.33   \n",
       "50%       1.50     1560.00   1975.00          0.00 98065.00    47.57  -122.23   \n",
       "75%       2.00     2210.00   1997.00          0.00 98118.00    47.68  -122.12   \n",
       "max       3.50     9410.00   2015.00       2015.00 98199.00    47.78  -121.31   \n",
       "\n",
       "       sqft_living15  sqft_lot15  \n",
       "count       21597.00    21597.00  \n",
       "mean         1986.62    12758.28  \n",
       "std           685.23    27274.44  \n",
       "min           399.00      651.00  \n",
       "25%          1490.00     5100.00  \n",
       "50%          1840.00     7620.00  \n",
       "75%          2360.00    10083.00  \n",
       "max          6210.00   871200.00  "
      ]
     },
     "execution_count": 40,
     "metadata": {},
     "output_type": "execute_result"
    }
   ],
   "source": [
    "# Descriptive statistics for numerical columns\n",
    "df.describe()"
   ]
  },
  {
   "cell_type": "markdown",
   "metadata": {},
   "source": [
    "Looking at the row of `max` values, we can see right away that we have some outliers, values that look as if they depart substantially from the `75%` row; to be more specific, there are some **large, expensive** properties in this dataset.\n",
    "\n",
    "There's also one property listed with **33 bedrooms** - what's up with that?"
   ]
  },
  {
   "cell_type": "code",
   "execution_count": 41,
   "metadata": {
    "ExecuteTime": {
     "end_time": "2022-03-31T12:26:29.404474Z",
     "start_time": "2022-03-31T12:26:29.318516Z"
    },
    "scrolled": false
   },
   "outputs": [
    {
     "data": {
      "text/html": [
       "<div>\n",
       "<style scoped>\n",
       "    .dataframe tbody tr th:only-of-type {\n",
       "        vertical-align: middle;\n",
       "    }\n",
       "\n",
       "    .dataframe tbody tr th {\n",
       "        vertical-align: top;\n",
       "    }\n",
       "\n",
       "    .dataframe thead th {\n",
       "        text-align: right;\n",
       "    }\n",
       "</style>\n",
       "<table border=\"1\" class=\"dataframe\">\n",
       "  <thead>\n",
       "    <tr style=\"text-align: right;\">\n",
       "      <th></th>\n",
       "      <th>id</th>\n",
       "      <th>date</th>\n",
       "      <th>price</th>\n",
       "      <th>bedrooms</th>\n",
       "      <th>bathrooms</th>\n",
       "      <th>sqft_living</th>\n",
       "      <th>sqft_lot</th>\n",
       "      <th>floors</th>\n",
       "      <th>waterfront</th>\n",
       "      <th>view</th>\n",
       "      <th>condition</th>\n",
       "      <th>grade</th>\n",
       "      <th>sqft_above</th>\n",
       "      <th>sqft_basement</th>\n",
       "      <th>yr_built</th>\n",
       "      <th>yr_renovated</th>\n",
       "      <th>zipcode</th>\n",
       "      <th>lat</th>\n",
       "      <th>long</th>\n",
       "      <th>sqft_living15</th>\n",
       "      <th>sqft_lot15</th>\n",
       "    </tr>\n",
       "  </thead>\n",
       "  <tbody>\n",
       "    <tr>\n",
       "      <th>15856</th>\n",
       "      <td>2402100895</td>\n",
       "      <td>6/25/2014</td>\n",
       "      <td>640000.00</td>\n",
       "      <td>33</td>\n",
       "      <td>1.75</td>\n",
       "      <td>1620</td>\n",
       "      <td>6000</td>\n",
       "      <td>1.00</td>\n",
       "      <td>NO</td>\n",
       "      <td>NONE</td>\n",
       "      <td>Very Good</td>\n",
       "      <td>7 Average</td>\n",
       "      <td>1040</td>\n",
       "      <td>580.0</td>\n",
       "      <td>1947</td>\n",
       "      <td>0.00</td>\n",
       "      <td>98103</td>\n",
       "      <td>47.69</td>\n",
       "      <td>-122.33</td>\n",
       "      <td>1330</td>\n",
       "      <td>4700</td>\n",
       "    </tr>\n",
       "  </tbody>\n",
       "</table>\n",
       "</div>"
      ],
      "text/plain": [
       "               id       date     price  bedrooms  bathrooms  sqft_living  \\\n",
       "15856  2402100895  6/25/2014 640000.00        33       1.75         1620   \n",
       "\n",
       "       sqft_lot  floors waterfront  view  condition      grade  sqft_above  \\\n",
       "15856      6000    1.00         NO  NONE  Very Good  7 Average        1040   \n",
       "\n",
       "      sqft_basement  yr_built  yr_renovated  zipcode   lat    long  \\\n",
       "15856         580.0      1947          0.00    98103 47.69 -122.33   \n",
       "\n",
       "       sqft_living15  sqft_lot15  \n",
       "15856           1330        4700  "
      ]
     },
     "execution_count": 41,
     "metadata": {},
     "output_type": "execute_result"
    }
   ],
   "source": [
    "df.loc[(df['bedrooms']) == 33]"
   ]
  },
  {
   "cell_type": "markdown",
   "metadata": {},
   "source": [
    "## Basic data cleaning"
   ]
  },
  {
   "cell_type": "markdown",
   "metadata": {},
   "source": [
    "First, we convert the column `date` to a more usable format; the code below transforms the column to type `datetime64[ns]`."
   ]
  },
  {
   "cell_type": "code",
   "execution_count": 42,
   "metadata": {
    "ExecuteTime": {
     "end_time": "2022-03-31T12:26:29.548245Z",
     "start_time": "2022-03-31T12:26:29.423593Z"
    }
   },
   "outputs": [],
   "source": [
    "# Converting column `date` to datetime64[ns] from type string/object\n",
    "df['date'] = df['date'].astype('datetime64[ns]')"
   ]
  },
  {
   "cell_type": "markdown",
   "metadata": {},
   "source": [
    "Likewise, the column `grade` is in object format; it provides both a number and a corresponding descriptor, e.g. `5 Fair`. The following code transforms it to a more usable format, one with no whitespace."
   ]
  },
  {
   "cell_type": "code",
   "execution_count": 43,
   "metadata": {
    "ExecuteTime": {
     "end_time": "2022-03-31T12:26:29.588213Z",
     "start_time": "2022-03-31T12:26:29.552562Z"
    }
   },
   "outputs": [],
   "source": [
    "# Clean up the values in column `grade` so they are not\n",
    "# separated by whitespace\n",
    "df['grade'] = [x.replace(\" \", \"_\").strip() for x in df['grade']]"
   ]
  },
  {
   "cell_type": "code",
   "execution_count": 44,
   "metadata": {
    "ExecuteTime": {
     "end_time": "2022-03-31T12:26:29.653519Z",
     "start_time": "2022-03-31T12:26:29.592272Z"
    }
   },
   "outputs": [
    {
     "data": {
      "text/plain": [
       "7_Average        8974\n",
       "8_Good           6065\n",
       "9_Better         2615\n",
       "6_Low_Average    2038\n",
       "10_Very_Good     1134\n",
       "11_Excellent      399\n",
       "5_Fair            242\n",
       "12_Luxury          89\n",
       "4_Low              27\n",
       "13_Mansion         13\n",
       "3_Poor              1\n",
       "Name: grade, dtype: int64"
      ]
     },
     "execution_count": 44,
     "metadata": {},
     "output_type": "execute_result"
    }
   ],
   "source": [
    "# Validating that above code worked as intended\n",
    "df['grade'].value_counts()"
   ]
  },
  {
   "cell_type": "markdown",
   "metadata": {},
   "source": [
    "Every house has a unique `id` value, but does every row in the dataset represent a **unique house?**"
   ]
  },
  {
   "cell_type": "code",
   "execution_count": 45,
   "metadata": {
    "ExecuteTime": {
     "end_time": "2022-03-31T12:26:29.686900Z",
     "start_time": "2022-03-31T12:26:29.654515Z"
    }
   },
   "outputs": [
    {
     "data": {
      "text/plain": [
       "795000620     3\n",
       "1825069031    2\n",
       "2019200220    2\n",
       "7129304540    2\n",
       "1781500435    2\n",
       "             ..\n",
       "7812801125    1\n",
       "4364700875    1\n",
       "3021059276    1\n",
       "880000205     1\n",
       "1777500160    1\n",
       "Name: id, Length: 21420, dtype: int64"
      ]
     },
     "execution_count": 45,
     "metadata": {},
     "output_type": "execute_result"
    }
   ],
   "source": [
    "# Check for multiples in column `id`\n",
    "df['id'].value_counts()"
   ]
  },
  {
   "cell_type": "markdown",
   "metadata": {},
   "source": [
    "Looks like we have a few houses with more than one sale on record! Let's examine a few of the `id` values."
   ]
  },
  {
   "cell_type": "code",
   "execution_count": 46,
   "metadata": {
    "ExecuteTime": {
     "end_time": "2022-03-31T12:26:29.740615Z",
     "start_time": "2022-03-31T12:26:29.691711Z"
    },
    "scrolled": false
   },
   "outputs": [
    {
     "data": {
      "text/html": [
       "<div>\n",
       "<style scoped>\n",
       "    .dataframe tbody tr th:only-of-type {\n",
       "        vertical-align: middle;\n",
       "    }\n",
       "\n",
       "    .dataframe tbody tr th {\n",
       "        vertical-align: top;\n",
       "    }\n",
       "\n",
       "    .dataframe thead th {\n",
       "        text-align: right;\n",
       "    }\n",
       "</style>\n",
       "<table border=\"1\" class=\"dataframe\">\n",
       "  <thead>\n",
       "    <tr style=\"text-align: right;\">\n",
       "      <th></th>\n",
       "      <th>id</th>\n",
       "      <th>date</th>\n",
       "      <th>price</th>\n",
       "      <th>bedrooms</th>\n",
       "      <th>bathrooms</th>\n",
       "      <th>sqft_living</th>\n",
       "      <th>sqft_lot</th>\n",
       "      <th>floors</th>\n",
       "      <th>waterfront</th>\n",
       "      <th>view</th>\n",
       "      <th>condition</th>\n",
       "      <th>grade</th>\n",
       "      <th>sqft_above</th>\n",
       "      <th>sqft_basement</th>\n",
       "      <th>yr_built</th>\n",
       "      <th>yr_renovated</th>\n",
       "      <th>zipcode</th>\n",
       "      <th>lat</th>\n",
       "      <th>long</th>\n",
       "      <th>sqft_living15</th>\n",
       "      <th>sqft_lot15</th>\n",
       "    </tr>\n",
       "  </thead>\n",
       "  <tbody>\n",
       "    <tr>\n",
       "      <th>3946</th>\n",
       "      <td>1825069031</td>\n",
       "      <td>2014-08-14</td>\n",
       "      <td>550000.00</td>\n",
       "      <td>4</td>\n",
       "      <td>1.75</td>\n",
       "      <td>2410</td>\n",
       "      <td>8447</td>\n",
       "      <td>2.00</td>\n",
       "      <td>NO</td>\n",
       "      <td>GOOD</td>\n",
       "      <td>Good</td>\n",
       "      <td>8_Good</td>\n",
       "      <td>2060</td>\n",
       "      <td>350.0</td>\n",
       "      <td>1936</td>\n",
       "      <td>1980.00</td>\n",
       "      <td>98074</td>\n",
       "      <td>47.65</td>\n",
       "      <td>-122.09</td>\n",
       "      <td>2520</td>\n",
       "      <td>14789</td>\n",
       "    </tr>\n",
       "    <tr>\n",
       "      <th>3947</th>\n",
       "      <td>1825069031</td>\n",
       "      <td>2014-10-16</td>\n",
       "      <td>550000.00</td>\n",
       "      <td>4</td>\n",
       "      <td>1.75</td>\n",
       "      <td>2410</td>\n",
       "      <td>8447</td>\n",
       "      <td>2.00</td>\n",
       "      <td>NaN</td>\n",
       "      <td>GOOD</td>\n",
       "      <td>Good</td>\n",
       "      <td>8_Good</td>\n",
       "      <td>2060</td>\n",
       "      <td>350.0</td>\n",
       "      <td>1936</td>\n",
       "      <td>1980.00</td>\n",
       "      <td>98074</td>\n",
       "      <td>47.65</td>\n",
       "      <td>-122.09</td>\n",
       "      <td>2520</td>\n",
       "      <td>14789</td>\n",
       "    </tr>\n",
       "    <tr>\n",
       "      <th>12942</th>\n",
       "      <td>2019200220</td>\n",
       "      <td>2014-09-23</td>\n",
       "      <td>160000.00</td>\n",
       "      <td>3</td>\n",
       "      <td>2.25</td>\n",
       "      <td>1470</td>\n",
       "      <td>8682</td>\n",
       "      <td>1.00</td>\n",
       "      <td>NO</td>\n",
       "      <td>NONE</td>\n",
       "      <td>Average</td>\n",
       "      <td>7_Average</td>\n",
       "      <td>1160</td>\n",
       "      <td>310.0</td>\n",
       "      <td>1985</td>\n",
       "      <td>0.00</td>\n",
       "      <td>98003</td>\n",
       "      <td>47.27</td>\n",
       "      <td>-122.30</td>\n",
       "      <td>1670</td>\n",
       "      <td>8359</td>\n",
       "    </tr>\n",
       "    <tr>\n",
       "      <th>12943</th>\n",
       "      <td>2019200220</td>\n",
       "      <td>2015-02-26</td>\n",
       "      <td>269000.00</td>\n",
       "      <td>3</td>\n",
       "      <td>2.25</td>\n",
       "      <td>1470</td>\n",
       "      <td>8682</td>\n",
       "      <td>1.00</td>\n",
       "      <td>NO</td>\n",
       "      <td>NONE</td>\n",
       "      <td>Average</td>\n",
       "      <td>7_Average</td>\n",
       "      <td>1160</td>\n",
       "      <td>310.0</td>\n",
       "      <td>1985</td>\n",
       "      <td>nan</td>\n",
       "      <td>98003</td>\n",
       "      <td>47.27</td>\n",
       "      <td>-122.30</td>\n",
       "      <td>1670</td>\n",
       "      <td>8359</td>\n",
       "    </tr>\n",
       "    <tr>\n",
       "      <th>17588</th>\n",
       "      <td>795000620</td>\n",
       "      <td>2014-09-24</td>\n",
       "      <td>115000.00</td>\n",
       "      <td>3</td>\n",
       "      <td>1.00</td>\n",
       "      <td>1080</td>\n",
       "      <td>6250</td>\n",
       "      <td>1.00</td>\n",
       "      <td>NO</td>\n",
       "      <td>NONE</td>\n",
       "      <td>Fair</td>\n",
       "      <td>5_Fair</td>\n",
       "      <td>1080</td>\n",
       "      <td>0.0</td>\n",
       "      <td>1950</td>\n",
       "      <td>0.00</td>\n",
       "      <td>98168</td>\n",
       "      <td>47.50</td>\n",
       "      <td>-122.33</td>\n",
       "      <td>1070</td>\n",
       "      <td>6250</td>\n",
       "    </tr>\n",
       "    <tr>\n",
       "      <th>17589</th>\n",
       "      <td>795000620</td>\n",
       "      <td>2014-12-15</td>\n",
       "      <td>124000.00</td>\n",
       "      <td>3</td>\n",
       "      <td>1.00</td>\n",
       "      <td>1080</td>\n",
       "      <td>6250</td>\n",
       "      <td>1.00</td>\n",
       "      <td>NO</td>\n",
       "      <td>NONE</td>\n",
       "      <td>Fair</td>\n",
       "      <td>5_Fair</td>\n",
       "      <td>1080</td>\n",
       "      <td>0.0</td>\n",
       "      <td>1950</td>\n",
       "      <td>0.00</td>\n",
       "      <td>98168</td>\n",
       "      <td>47.50</td>\n",
       "      <td>-122.33</td>\n",
       "      <td>1070</td>\n",
       "      <td>6250</td>\n",
       "    </tr>\n",
       "    <tr>\n",
       "      <th>17590</th>\n",
       "      <td>795000620</td>\n",
       "      <td>2015-03-11</td>\n",
       "      <td>157000.00</td>\n",
       "      <td>3</td>\n",
       "      <td>1.00</td>\n",
       "      <td>1080</td>\n",
       "      <td>6250</td>\n",
       "      <td>1.00</td>\n",
       "      <td>NaN</td>\n",
       "      <td>NONE</td>\n",
       "      <td>Fair</td>\n",
       "      <td>5_Fair</td>\n",
       "      <td>1080</td>\n",
       "      <td>0.0</td>\n",
       "      <td>1950</td>\n",
       "      <td>nan</td>\n",
       "      <td>98168</td>\n",
       "      <td>47.50</td>\n",
       "      <td>-122.33</td>\n",
       "      <td>1070</td>\n",
       "      <td>6250</td>\n",
       "    </tr>\n",
       "  </tbody>\n",
       "</table>\n",
       "</div>"
      ],
      "text/plain": [
       "               id       date     price  bedrooms  bathrooms  sqft_living  \\\n",
       "3946   1825069031 2014-08-14 550000.00         4       1.75         2410   \n",
       "3947   1825069031 2014-10-16 550000.00         4       1.75         2410   \n",
       "12942  2019200220 2014-09-23 160000.00         3       2.25         1470   \n",
       "12943  2019200220 2015-02-26 269000.00         3       2.25         1470   \n",
       "17588   795000620 2014-09-24 115000.00         3       1.00         1080   \n",
       "17589   795000620 2014-12-15 124000.00         3       1.00         1080   \n",
       "17590   795000620 2015-03-11 157000.00         3       1.00         1080   \n",
       "\n",
       "       sqft_lot  floors waterfront  view condition      grade  sqft_above  \\\n",
       "3946       8447    2.00         NO  GOOD      Good     8_Good        2060   \n",
       "3947       8447    2.00        NaN  GOOD      Good     8_Good        2060   \n",
       "12942      8682    1.00         NO  NONE   Average  7_Average        1160   \n",
       "12943      8682    1.00         NO  NONE   Average  7_Average        1160   \n",
       "17588      6250    1.00         NO  NONE      Fair     5_Fair        1080   \n",
       "17589      6250    1.00         NO  NONE      Fair     5_Fair        1080   \n",
       "17590      6250    1.00        NaN  NONE      Fair     5_Fair        1080   \n",
       "\n",
       "      sqft_basement  yr_built  yr_renovated  zipcode   lat    long  \\\n",
       "3946          350.0      1936       1980.00    98074 47.65 -122.09   \n",
       "3947          350.0      1936       1980.00    98074 47.65 -122.09   \n",
       "12942         310.0      1985          0.00    98003 47.27 -122.30   \n",
       "12943         310.0      1985           nan    98003 47.27 -122.30   \n",
       "17588           0.0      1950          0.00    98168 47.50 -122.33   \n",
       "17589           0.0      1950          0.00    98168 47.50 -122.33   \n",
       "17590           0.0      1950           nan    98168 47.50 -122.33   \n",
       "\n",
       "       sqft_living15  sqft_lot15  \n",
       "3946            2520       14789  \n",
       "3947            2520       14789  \n",
       "12942           1670        8359  \n",
       "12943           1670        8359  \n",
       "17588           1070        6250  \n",
       "17589           1070        6250  \n",
       "17590           1070        6250  "
      ]
     },
     "execution_count": 46,
     "metadata": {},
     "output_type": "execute_result"
    }
   ],
   "source": [
    "df.loc[(df['id'] == 795000620) |\n",
    "       (df['id'] == 1825069031) |\n",
    "       (df['id'] == 2019200220)]"
   ]
  },
  {
   "cell_type": "markdown",
   "metadata": {},
   "source": [
    "The house with the `id` value `1825069031` saw no change in its sale price between its first sale (in August 2014) and second sale (in October 2014). However, the *other* two houses we're looking at here - `\t2019200220` and `795000620` - saw their sale prices **increase** over time, and with no changes in any other column!\n",
    "\n",
    "It might be best to keep the **most recent** sale on record to avoid adding any additional 'noise' to our model."
   ]
  },
  {
   "cell_type": "code",
   "execution_count": 47,
   "metadata": {
    "ExecuteTime": {
     "end_time": "2022-03-31T12:26:29.770238Z",
     "start_time": "2022-03-31T12:26:29.742621Z"
    }
   },
   "outputs": [],
   "source": [
    "# Dropping rows with duplicate values in `id` column,\n",
    "# sans the most recent sale\n",
    "df.drop_duplicates(subset=['id'], keep='last', inplace=True)"
   ]
  },
  {
   "cell_type": "markdown",
   "metadata": {},
   "source": [
    "Let's make sure that worked..."
   ]
  },
  {
   "cell_type": "code",
   "execution_count": 48,
   "metadata": {
    "ExecuteTime": {
     "end_time": "2022-03-31T12:26:29.797168Z",
     "start_time": "2022-03-31T12:26:29.774227Z"
    },
    "scrolled": false
   },
   "outputs": [
    {
     "data": {
      "text/plain": [
       "True"
      ]
     },
     "execution_count": 48,
     "metadata": {},
     "output_type": "execute_result"
    }
   ],
   "source": [
    "# Ensuring that number of unique `id` values matches\n",
    "# number of rows in dataframe, i.e. no repeated values\n",
    "len(df['id'].unique()) == len(df)"
   ]
  },
  {
   "cell_type": "code",
   "execution_count": 49,
   "metadata": {
    "ExecuteTime": {
     "end_time": "2022-03-31T12:26:29.827069Z",
     "start_time": "2022-03-31T12:26:29.798158Z"
    }
   },
   "outputs": [
    {
     "data": {
      "text/plain": [
       "17590   2015-03-11\n",
       "Name: date, dtype: datetime64[ns]"
      ]
     },
     "execution_count": 49,
     "metadata": {},
     "output_type": "execute_result"
    }
   ],
   "source": [
    "# Ensuring that only one sale remains for a house\n",
    "# we know initially had multiple sales on record\n",
    "df.loc[ df['id'] == 795000620 ]['date']"
   ]
  },
  {
   "cell_type": "markdown",
   "metadata": {},
   "source": [
    "We only got one result when indexing into the `date` column for the property `795000620`, and it's the date of the most recent sale on record for `795000620`! We've eliminated *all but the most recent sale* for any property with more than one sale on record.\n",
    "\n",
    "We no longer have any use for the `id` column, so we can drop it from our dataframe entirely."
   ]
  },
  {
   "cell_type": "code",
   "execution_count": 50,
   "metadata": {
    "ExecuteTime": {
     "end_time": "2022-03-31T12:26:29.844848Z",
     "start_time": "2022-03-31T12:26:29.832590Z"
    }
   },
   "outputs": [
    {
     "name": "stdout",
     "output_type": "stream",
     "text": [
      "2014-05-02 00:00:00\n",
      "2015-05-27 00:00:00\n"
     ]
    }
   ],
   "source": [
    "print(df['date'].min())\n",
    "print(df['date'].max())"
   ]
  },
  {
   "cell_type": "code",
   "execution_count": 51,
   "metadata": {
    "ExecuteTime": {
     "end_time": "2022-03-31T12:26:29.873566Z",
     "start_time": "2022-03-31T12:26:29.848321Z"
    }
   },
   "outputs": [],
   "source": [
    "# Dropping `id` column, now that we know we\n",
    "# have exclusively unique values for `id`\n",
    "\n",
    "df.drop(labels='id',\n",
    "        axis=1,\n",
    "        inplace=True)"
   ]
  },
  {
   "cell_type": "markdown",
   "metadata": {},
   "source": [
    "**Something else that might be of note:** in some of these rows where the same `id` appears twice, a value that *was* recorded in the first sale appears as a *null value* in a later sale, e.g. the `waterfront` column on the house whose `id` is `1825069031`."
   ]
  },
  {
   "cell_type": "code",
   "execution_count": 52,
   "metadata": {
    "ExecuteTime": {
     "end_time": "2022-03-31T12:26:32.982692Z",
     "start_time": "2022-03-31T12:26:29.873566Z"
    }
   },
   "outputs": [
    {
     "data": {
      "image/png": "[encoded data removed]",
      "text/plain": [
       "<Figure size 864x864 with 2 Axes>"
      ]
     },
     "metadata": {
      "needs_background": "light"
     },
     "output_type": "display_data"
    }
   ],
   "source": [
    "# Visualizing correlations between numerical columns\n",
    "# with a seaborn heatmap to investigate the correlation\n",
    "# of various features w/ `price` and assess potential\n",
    "# issues with multicollinearity\n",
    "\n",
    "fig, ax = plt.subplots(figsize=(12, 12))\n",
    "corr = df.corr()\n",
    "\n",
    "# Instantiate numpy array of zeroes and assign to `mask`\n",
    "mask = np.zeros_like(corr,\n",
    "                     dtype=bool)\n",
    "\n",
    "# Returns indices from upper triangle of array\n",
    "mask[np.triu_indices_from(mask)] = True\n",
    "\n",
    "sns.heatmap(corr,\n",
    "            annot=True,\n",
    "            mask=mask);"
   ]
  },
  {
   "cell_type": "markdown",
   "metadata": {},
   "source": [
    "**Observations from this heatmap:**\n",
    "\n",
    "- `sqft_living` has the highest correlation with price, an r-value of `0.7`...\n",
    "    - ...but `sqft_living` is also correlated with several other columns: `bedrooms`, `bathrooms`, `sqft_above` (this one has an r-value of `0.88`!), and `sqft_living15`, so we'll need to be careful that we don't include collinear features in our models.\n",
    "- `zipcode`, `lat`, and `long` all have low (`0.31` or below) correlations with `price` - these columns may not be immediately useful to us in constructing models for this project, but could be worth looking into as next-step recommendations, especially "
   ]
  },
  {
   "cell_type": "code",
   "execution_count": 53,
   "metadata": {
    "ExecuteTime": {
     "end_time": "2022-03-31T12:26:33.012814Z",
     "start_time": "2022-03-31T12:26:32.985779Z"
    }
   },
   "outputs": [],
   "source": [
    "# Creating copy of original dataframe before dropping columns\n",
    "df_copy = df.copy()"
   ]
  },
  {
   "cell_type": "code",
   "execution_count": 54,
   "metadata": {
    "ExecuteTime": {
     "end_time": "2022-03-31T12:26:33.059919Z",
     "start_time": "2022-03-31T12:26:33.020495Z"
    }
   },
   "outputs": [],
   "source": [
    "# Drop irrelevant columns\n",
    "df_copy.drop(columns=['date',\n",
    "                      'floors',\n",
    "                      'waterfront',\n",
    "                      'condition',\n",
    "                      'sqft_above',  # potential for multicollinearity\n",
    "                      'sqft_basement',  # potential for multicollinearity\n",
    "                      'yr_renovated',\n",
    "                      'lat',\n",
    "                      'long',\n",
    "                      'sqft_living15',  # potential for multicollinearity\n",
    "                      'sqft_lot15'],\n",
    "             inplace=True)"
   ]
  },
  {
   "cell_type": "code",
   "execution_count": 55,
   "metadata": {
    "ExecuteTime": {
     "end_time": "2022-03-31T12:26:33.077830Z",
     "start_time": "2022-03-31T12:26:33.065493Z"
    }
   },
   "outputs": [],
   "source": [
    "# mms = MinMaxScaler()\n",
    "# df_copy[['bathrooms']] = mms.fit_transform(df_copy[['bathrooms']])"
   ]
  },
  {
   "cell_type": "code",
   "execution_count": 71,
   "metadata": {
    "ExecuteTime": {
     "end_time": "2022-03-31T12:29:39.289307Z",
     "start_time": "2022-03-31T12:29:39.261633Z"
    },
    "scrolled": true
   },
   "outputs": [
    {
     "name": "stdout",
     "output_type": "stream",
     "text": [
      "<class 'pandas.core.frame.DataFrame'>\n",
      "Int64Index: 21343 entries, 0 to 21596\n",
      "Data columns (total 9 columns):\n",
      " #   Column       Non-Null Count  Dtype  \n",
      "---  ------       --------------  -----  \n",
      " 0   price        21343 non-null  float64\n",
      " 1   bedrooms     21343 non-null  int64  \n",
      " 2   bathrooms    21343 non-null  float64\n",
      " 3   sqft_living  21343 non-null  int64  \n",
      " 4   sqft_lot     21343 non-null  int64  \n",
      " 5   view         21343 non-null  object \n",
      " 6   grade        21343 non-null  object \n",
      " 7   yr_built     21343 non-null  int64  \n",
      " 8   zipcode      21343 non-null  int64  \n",
      "dtypes: float64(2), int64(5), object(2)\n",
      "memory usage: 1.6+ MB\n"
     ]
    }
   ],
   "source": [
    "df_copy.info()"
   ]
  },
  {
   "cell_type": "markdown",
   "metadata": {},
   "source": [
    "We've got some nulls in the `view` column, but the number of null values *vis-à-vis*  the number of total rows in the dataframe is such that we can safely drop those nulls without worrying about our conclusions being affected."
   ]
  },
  {
   "cell_type": "code",
   "execution_count": 57,
   "metadata": {
    "ExecuteTime": {
     "end_time": "2022-03-31T12:26:33.152680Z",
     "start_time": "2022-03-31T12:26:33.128731Z"
    }
   },
   "outputs": [],
   "source": [
    "# Dropping nulls from column `view`\n",
    "df_copy = df_copy.dropna(subset = ['view'])"
   ]
  },
  {
   "cell_type": "code",
   "execution_count": 58,
   "metadata": {
    "ExecuteTime": {
     "end_time": "2022-03-31T12:26:33.179379Z",
     "start_time": "2022-03-31T12:26:33.159657Z"
    },
    "scrolled": true
   },
   "outputs": [
    {
     "data": {
      "text/plain": [
       "True"
      ]
     },
     "execution_count": 58,
     "metadata": {},
     "output_type": "execute_result"
    }
   ],
   "source": [
    "# Validating that...\n",
    "df_copy['view'].isna().sum() == 0"
   ]
  },
  {
   "cell_type": "markdown",
   "metadata": {},
   "source": [
    "`view` and `grade` might seem similar on first glance - both columns use descriptors like `AVERAGE` and `GOOD` to assess the attributes of a house - but we determined that `grade` is a much more mutable category; it refers to the \"types of materials used (in building the house) and the quality of workmanship\" on display in the house's \"construction and design.\"\n",
    "\n",
    "Let's get a breakdown of the distribution of `grade` values in King County."
   ]
  },
  {
   "cell_type": "code",
   "execution_count": 70,
   "metadata": {
    "ExecuteTime": {
     "end_time": "2022-03-31T12:29:31.968810Z",
     "start_time": "2022-03-31T12:29:31.945499Z"
    }
   },
   "outputs": [
    {
     "data": {
      "text/plain": [
       "7_Average        8863\n",
       "8_Good           6029\n",
       "9_Better         2595\n",
       "6_Low_Average    1988\n",
       "10_Very_Good     1126\n",
       "11_Excellent      394\n",
       "5_Fair            234\n",
       "12_Luxury          87\n",
       "4_Low              27\n",
       "Name: grade, dtype: int64"
      ]
     },
     "execution_count": 70,
     "metadata": {},
     "output_type": "execute_result"
    }
   ],
   "source": [
    "# Checking out the frequency of each possible value\n",
    "# for column `grade`\n",
    "df_copy['grade'].value_counts()"
   ]
  },
  {
   "cell_type": "markdown",
   "metadata": {},
   "source": [
    "We find only **one row** where the `grade` value is equal to `3 Poor`, and the value `13_Mansion` also only has **thirteen** entries, many of which are outliers in the `price` data. We drop these column to further refine the data being used in our model(s)."
   ]
  },
  {
   "cell_type": "code",
   "execution_count": 69,
   "metadata": {
    "ExecuteTime": {
     "end_time": "2022-03-31T12:29:30.047679Z",
     "start_time": "2022-03-31T12:29:30.022477Z"
    }
   },
   "outputs": [],
   "source": [
    "# Dropping the single row where `grade` is equal to\n",
    "# `3 Poor`, in order to eliminate an outlier\n",
    "df_copy = df_copy.loc[df_copy['grade'] != '3_Poor']\n",
    "df_copy = df_copy.loc[df_copy['grade'] != '13_Mansion']"
   ]
  },
  {
   "cell_type": "code",
   "execution_count": 72,
   "metadata": {
    "ExecuteTime": {
     "end_time": "2022-03-31T12:30:24.199216Z",
     "start_time": "2022-03-31T12:30:24.175968Z"
    },
    "scrolled": false
   },
   "outputs": [
    {
     "name": "stdout",
     "output_type": "stream",
     "text": [
      "<class 'pandas.core.frame.DataFrame'>\n",
      "Int64Index: 21343 entries, 0 to 21596\n",
      "Data columns (total 9 columns):\n",
      " #   Column       Non-Null Count  Dtype  \n",
      "---  ------       --------------  -----  \n",
      " 0   price        21343 non-null  float64\n",
      " 1   bedrooms     21343 non-null  int64  \n",
      " 2   bathrooms    21343 non-null  float64\n",
      " 3   sqft_living  21343 non-null  int64  \n",
      " 4   sqft_lot     21343 non-null  int64  \n",
      " 5   view         21343 non-null  object \n",
      " 6   grade        21343 non-null  object \n",
      " 7   yr_built     21343 non-null  int64  \n",
      " 8   zipcode      21343 non-null  int64  \n",
      "dtypes: float64(2), int64(5), object(2)\n",
      "memory usage: 1.6+ MB\n"
     ]
    }
   ],
   "source": [
    "df_copy.info()"
   ]
  },
  {
   "cell_type": "markdown",
   "metadata": {},
   "source": [
    "All set to begin preprocessing!"
   ]
  },
  {
   "cell_type": "code",
   "execution_count": 73,
   "metadata": {
    "ExecuteTime": {
     "end_time": "2022-03-31T12:30:25.332896Z",
     "start_time": "2022-03-31T12:30:25.326912Z"
    }
   },
   "outputs": [],
   "source": [
    "# df_copy['sqft_living'] = np.log(df_copy['sqft_living'])"
   ]
  },
  {
   "cell_type": "markdown",
   "metadata": {},
   "source": [
    "# Splitting data into train and test sets"
   ]
  },
  {
   "cell_type": "markdown",
   "metadata": {},
   "source": [
    "Our **target** variable, or `X`, is going to be `price`, i.e. the sale price of a given home."
   ]
  },
  {
   "cell_type": "code",
   "execution_count": 74,
   "metadata": {
    "ExecuteTime": {
     "end_time": "2022-03-31T12:30:26.960942Z",
     "start_time": "2022-03-31T12:30:26.950859Z"
    }
   },
   "outputs": [],
   "source": [
    "# Creating target variable and predictor dataframe\n",
    "y = df_copy['price']\n",
    "X = df_copy.drop(labels='price',\n",
    "                 axis=1)"
   ]
  },
  {
   "cell_type": "code",
   "execution_count": 75,
   "metadata": {
    "ExecuteTime": {
     "end_time": "2022-03-31T12:30:27.344340Z",
     "start_time": "2022-03-31T12:30:27.337138Z"
    }
   },
   "outputs": [],
   "source": [
    "y2 = y\n",
    "X2 = X['sqft_living']"
   ]
  },
  {
   "cell_type": "code",
   "execution_count": 76,
   "metadata": {
    "ExecuteTime": {
     "end_time": "2022-03-31T12:30:28.132498Z",
     "start_time": "2022-03-31T12:30:27.602117Z"
    },
    "scrolled": false
   },
   "outputs": [
    {
     "data": {
      "image/png": "[encoded data removed]",
      "text/plain": [
       "<Figure size 432x288 with 1 Axes>"
      ]
     },
     "metadata": {
      "needs_background": "light"
     },
     "output_type": "display_data"
    }
   ],
   "source": [
    "# Viewing residuals of sqft_living vs. price\n",
    "sns.residplot(x=X2, y=y2);"
   ]
  },
  {
   "cell_type": "code",
   "execution_count": 77,
   "metadata": {
    "ExecuteTime": {
     "end_time": "2022-03-31T12:30:28.416300Z",
     "start_time": "2022-03-31T12:30:28.334387Z"
    }
   },
   "outputs": [],
   "source": [
    "# Initiating train-test split\n",
    "X_train, X_test, y_train, y_test = train_test_split(\n",
    "    X, y, test_size=0.33, random_state=42)"
   ]
  },
  {
   "cell_type": "code",
   "execution_count": 78,
   "metadata": {
    "ExecuteTime": {
     "end_time": "2022-03-31T12:30:28.733449Z",
     "start_time": "2022-03-31T12:30:28.689348Z"
    },
    "scrolled": false
   },
   "outputs": [
    {
     "name": "stdout",
     "output_type": "stream",
     "text": [
      "<class 'pandas.core.frame.DataFrame'>\n",
      "Int64Index: 14299 entries, 9034 to 16010\n",
      "Data columns (total 8 columns):\n",
      " #   Column       Non-Null Count  Dtype  \n",
      "---  ------       --------------  -----  \n",
      " 0   bedrooms     14299 non-null  int64  \n",
      " 1   bathrooms    14299 non-null  float64\n",
      " 2   sqft_living  14299 non-null  int64  \n",
      " 3   sqft_lot     14299 non-null  int64  \n",
      " 4   view         14299 non-null  object \n",
      " 5   grade        14299 non-null  object \n",
      " 6   yr_built     14299 non-null  int64  \n",
      " 7   zipcode      14299 non-null  int64  \n",
      "dtypes: float64(1), int64(5), object(2)\n",
      "memory usage: 1005.4+ KB\n"
     ]
    }
   ],
   "source": [
    "# Check out `X_train`\n",
    "X_train.info()"
   ]
  },
  {
   "cell_type": "code",
   "execution_count": 79,
   "metadata": {
    "ExecuteTime": {
     "end_time": "2022-03-31T12:30:30.934390Z",
     "start_time": "2022-03-31T12:30:30.913395Z"
    }
   },
   "outputs": [
    {
     "data": {
      "text/plain": [
       "True"
      ]
     },
     "execution_count": 79,
     "metadata": {},
     "output_type": "execute_result"
    }
   ],
   "source": [
    "X_train.shape[0] == y_train.shape[0]"
   ]
  },
  {
   "cell_type": "code",
   "execution_count": 80,
   "metadata": {
    "ExecuteTime": {
     "end_time": "2022-03-31T12:30:31.877494Z",
     "start_time": "2022-03-31T12:30:31.856321Z"
    },
    "scrolled": true
   },
   "outputs": [
    {
     "data": {
      "text/plain": [
       "True"
      ]
     },
     "execution_count": 80,
     "metadata": {},
     "output_type": "execute_result"
    }
   ],
   "source": [
    "X_test.shape[0] == y_test.shape[0]"
   ]
  },
  {
   "cell_type": "code",
   "execution_count": 81,
   "metadata": {
    "ExecuteTime": {
     "end_time": "2022-03-31T12:30:32.342299Z",
     "start_time": "2022-03-31T12:30:32.318708Z"
    }
   },
   "outputs": [],
   "source": [
    "# Creating concatenated dataframes\n",
    "train_df = pd.concat([X_train, y_train], axis=1)\n",
    "test_df = pd.concat([X_test, y_test], axis=1)"
   ]
  },
  {
   "cell_type": "code",
   "execution_count": 82,
   "metadata": {
    "ExecuteTime": {
     "end_time": "2022-03-31T12:30:32.760060Z",
     "start_time": "2022-03-31T12:30:32.754105Z"
    },
    "scrolled": true
   },
   "outputs": [],
   "source": [
    "train_df.head();"
   ]
  },
  {
   "cell_type": "code",
   "execution_count": 83,
   "metadata": {
    "ExecuteTime": {
     "end_time": "2022-03-31T12:30:33.280935Z",
     "start_time": "2022-03-31T12:30:33.270038Z"
    }
   },
   "outputs": [],
   "source": [
    "test_df.head();"
   ]
  },
  {
   "cell_type": "markdown",
   "metadata": {},
   "source": [
    "Below, we group the dataset by column `view` and get some descriptive statistics on the column."
   ]
  },
  {
   "cell_type": "code",
   "execution_count": 84,
   "metadata": {
    "ExecuteTime": {
     "end_time": "2022-03-31T12:30:33.914961Z",
     "start_time": "2022-03-31T12:30:33.901993Z"
    },
    "scrolled": true
   },
   "outputs": [],
   "source": [
    "# df_copy.groupby('view').mean()\n",
    "# df_copy.sort_values('price', ascending = False).head()"
   ]
  },
  {
   "cell_type": "code",
   "execution_count": 85,
   "metadata": {
    "ExecuteTime": {
     "end_time": "2022-03-31T12:30:34.398334Z",
     "start_time": "2022-03-31T12:30:34.381055Z"
    }
   },
   "outputs": [],
   "source": [
    "# fig, ax = plt.subplots(figsize=(20,10))\n",
    "\n",
    "# sns.histplot(df_copy['grade'])"
   ]
  },
  {
   "cell_type": "code",
   "execution_count": 86,
   "metadata": {
    "ExecuteTime": {
     "end_time": "2022-03-31T12:30:34.749933Z",
     "start_time": "2022-03-31T12:30:34.734247Z"
    }
   },
   "outputs": [],
   "source": [
    "# fig, ax = plt.subplots(figsize=(8,8))\n",
    "# heat = sns.heatmap(train_df.corr(), annot = True)"
   ]
  },
  {
   "cell_type": "markdown",
   "metadata": {},
   "source": [
    "# Linear Modeling"
   ]
  },
  {
   "cell_type": "markdown",
   "metadata": {},
   "source": [
    "## Baseline Model (using DummyRegressor)"
   ]
  },
  {
   "cell_type": "code",
   "execution_count": 87,
   "metadata": {
    "ExecuteTime": {
     "end_time": "2022-03-31T12:30:35.979844Z",
     "start_time": "2022-03-31T12:30:35.966209Z"
    }
   },
   "outputs": [
    {
     "name": "stdout",
     "output_type": "stream",
     "text": [
      "R-squared value for baseline model: -0.06257169411426888\n"
     ]
    }
   ],
   "source": [
    "# Instantiate the DummyRegressor\n",
    "dummy_lr = DummyRegressor(strategy='median')\n",
    "\n",
    "# Create variables\n",
    "X_dummy = train_df['sqft_living']\n",
    "y_dummy = train_df['price']\n",
    "\n",
    "# Fit regressor to variables\n",
    "dummy_lr.fit(X_dummy, y_dummy)\n",
    "\n",
    "# Score\n",
    "print(f\"R-squared value for baseline model: {dummy_lr.score(X_dummy, y_dummy)}\")"
   ]
  },
  {
   "cell_type": "code",
   "execution_count": 88,
   "metadata": {
    "ExecuteTime": {
     "end_time": "2022-03-31T12:30:37.244430Z",
     "start_time": "2022-03-31T12:30:37.231772Z"
    },
    "scrolled": true
   },
   "outputs": [
    {
     "data": {
      "text/plain": [
       "array([450000., 450000., 450000., ..., 450000., 450000., 450000.])"
      ]
     },
     "execution_count": 88,
     "metadata": {},
     "output_type": "execute_result"
    }
   ],
   "source": [
    "dummy_lr.predict(X_train)"
   ]
  },
  {
   "cell_type": "code",
   "execution_count": 89,
   "metadata": {
    "ExecuteTime": {
     "end_time": "2022-03-31T12:30:38.702428Z",
     "start_time": "2022-03-31T12:30:38.694650Z"
    }
   },
   "outputs": [],
   "source": [
    "# What else CAN we do with the dummy regressor?\n",
    "# What else do we still NEED to do?"
   ]
  },
  {
   "cell_type": "markdown",
   "metadata": {},
   "source": [
    "## Initial Model - Simple Linear Regression with `sqft_living`"
   ]
  },
  {
   "cell_type": "code",
   "execution_count": 91,
   "metadata": {
    "ExecuteTime": {
     "end_time": "2022-03-31T12:39:27.291429Z",
     "start_time": "2022-03-31T12:39:27.266681Z"
    }
   },
   "outputs": [],
   "source": [
    "# Using statsmodel.OLS to create our first model,\n",
    "# with a single feature (sqft_living)\n",
    "simple_model = sm.OLS(y_train, sm.add_constant(X_train['sqft_living'])).fit()"
   ]
  },
  {
   "cell_type": "code",
   "execution_count": 92,
   "metadata": {
    "ExecuteTime": {
     "end_time": "2022-03-31T12:39:27.700740Z",
     "start_time": "2022-03-31T12:39:27.650578Z"
    },
    "collapsed": true
   },
   "outputs": [
    {
     "data": {
      "text/html": [
       "<table class=\"simpletable\">\n",
       "<caption>OLS Regression Results</caption>\n",
       "<tr>\n",
       "  <th>Dep. Variable:</th>          <td>price</td>      <th>  R-squared:         </th>  <td>   0.482</td>  \n",
       "</tr>\n",
       "<tr>\n",
       "  <th>Model:</th>                   <td>OLS</td>       <th>  Adj. R-squared:    </th>  <td>   0.482</td>  \n",
       "</tr>\n",
       "<tr>\n",
       "  <th>Method:</th>             <td>Least Squares</td>  <th>  F-statistic:       </th>  <td>1.332e+04</td> \n",
       "</tr>\n",
       "<tr>\n",
       "  <th>Date:</th>             <td>Thu, 31 Mar 2022</td> <th>  Prob (F-statistic):</th>   <td>  0.00</td>   \n",
       "</tr>\n",
       "<tr>\n",
       "  <th>Time:</th>                 <td>08:39:27</td>     <th>  Log-Likelihood:    </th> <td>-1.9845e+05</td>\n",
       "</tr>\n",
       "<tr>\n",
       "  <th>No. Observations:</th>      <td> 14299</td>      <th>  AIC:               </th>  <td>3.969e+05</td> \n",
       "</tr>\n",
       "<tr>\n",
       "  <th>Df Residuals:</th>          <td> 14297</td>      <th>  BIC:               </th>  <td>3.969e+05</td> \n",
       "</tr>\n",
       "<tr>\n",
       "  <th>Df Model:</th>              <td>     1</td>      <th>                     </th>      <td> </td>     \n",
       "</tr>\n",
       "<tr>\n",
       "  <th>Covariance Type:</th>      <td>nonrobust</td>    <th>                     </th>      <td> </td>     \n",
       "</tr>\n",
       "</table>\n",
       "<table class=\"simpletable\">\n",
       "<tr>\n",
       "       <td></td>          <th>coef</th>     <th>std err</th>      <th>t</th>      <th>P>|t|</th>  <th>[0.025</th>    <th>0.975]</th>  \n",
       "</tr>\n",
       "<tr>\n",
       "  <th>const</th>       <td>-2.831e+04</td> <td> 5372.014</td> <td>   -5.270</td> <td> 0.000</td> <td>-3.88e+04</td> <td>-1.78e+04</td>\n",
       "</tr>\n",
       "<tr>\n",
       "  <th>sqft_living</th> <td>  273.1961</td> <td>    2.367</td> <td>  115.416</td> <td> 0.000</td> <td>  268.556</td> <td>  277.836</td>\n",
       "</tr>\n",
       "</table>\n",
       "<table class=\"simpletable\">\n",
       "<tr>\n",
       "  <th>Omnibus:</th>       <td>9265.907</td> <th>  Durbin-Watson:     </th>  <td>   2.016</td> \n",
       "</tr>\n",
       "<tr>\n",
       "  <th>Prob(Omnibus):</th>  <td> 0.000</td>  <th>  Jarque-Bera (JB):  </th> <td>264674.389</td>\n",
       "</tr>\n",
       "<tr>\n",
       "  <th>Skew:</th>           <td> 2.671</td>  <th>  Prob(JB):          </th>  <td>    0.00</td> \n",
       "</tr>\n",
       "<tr>\n",
       "  <th>Kurtosis:</th>       <td>23.389</td>  <th>  Cond. No.          </th>  <td>5.66e+03</td> \n",
       "</tr>\n",
       "</table><br/><br/>Notes:<br/>[1] Standard Errors assume that the covariance matrix of the errors is correctly specified.<br/>[2] The condition number is large, 5.66e+03. This might indicate that there are<br/>strong multicollinearity or other numerical problems."
      ],
      "text/plain": [
       "<class 'statsmodels.iolib.summary.Summary'>\n",
       "\"\"\"\n",
       "                            OLS Regression Results                            \n",
       "==============================================================================\n",
       "Dep. Variable:                  price   R-squared:                       0.482\n",
       "Model:                            OLS   Adj. R-squared:                  0.482\n",
       "Method:                 Least Squares   F-statistic:                 1.332e+04\n",
       "Date:                Thu, 31 Mar 2022   Prob (F-statistic):               0.00\n",
       "Time:                        08:39:27   Log-Likelihood:            -1.9845e+05\n",
       "No. Observations:               14299   AIC:                         3.969e+05\n",
       "Df Residuals:                   14297   BIC:                         3.969e+05\n",
       "Df Model:                           1                                         \n",
       "Covariance Type:            nonrobust                                         \n",
       "===============================================================================\n",
       "                  coef    std err          t      P>|t|      [0.025      0.975]\n",
       "-------------------------------------------------------------------------------\n",
       "const       -2.831e+04   5372.014     -5.270      0.000   -3.88e+04   -1.78e+04\n",
       "sqft_living   273.1961      2.367    115.416      0.000     268.556     277.836\n",
       "==============================================================================\n",
       "Omnibus:                     9265.907   Durbin-Watson:                   2.016\n",
       "Prob(Omnibus):                  0.000   Jarque-Bera (JB):           264674.389\n",
       "Skew:                           2.671   Prob(JB):                         0.00\n",
       "Kurtosis:                      23.389   Cond. No.                     5.66e+03\n",
       "==============================================================================\n",
       "\n",
       "Notes:\n",
       "[1] Standard Errors assume that the covariance matrix of the errors is correctly specified.\n",
       "[2] The condition number is large, 5.66e+03. This might indicate that there are\n",
       "strong multicollinearity or other numerical problems.\n",
       "\"\"\""
      ]
     },
     "execution_count": 92,
     "metadata": {},
     "output_type": "execute_result"
    }
   ],
   "source": [
    "simple_model.summary()"
   ]
  },
  {
   "cell_type": "code",
   "execution_count": 93,
   "metadata": {
    "ExecuteTime": {
     "end_time": "2022-03-31T12:39:28.279778Z",
     "start_time": "2022-03-31T12:39:28.257647Z"
    },
    "scrolled": true
   },
   "outputs": [
    {
     "data": {
      "text/plain": [
       "9034     583649.19\n",
       "15325    430659.37\n",
       "12686    354164.46\n",
       "6255     597308.99\n",
       "21425   1050814.53\n",
       "dtype: float64"
      ]
     },
     "execution_count": 93,
     "metadata": {},
     "output_type": "execute_result"
    }
   ],
   "source": [
    "# Grabbing predictions from simple linear model\n",
    "simple_train_preds = simple_model.predict(sm.add_constant(X_train['sqft_living']))\n",
    "\n",
    "simple_train_preds[:5]"
   ]
  },
  {
   "cell_type": "code",
   "execution_count": 94,
   "metadata": {
    "ExecuteTime": {
     "end_time": "2022-03-31T12:39:29.776129Z",
     "start_time": "2022-03-31T12:39:29.753507Z"
    }
   },
   "outputs": [
    {
     "data": {
      "text/plain": [
       "19648   471638.78\n",
       "12879   264009.74\n",
       "19587   313185.04\n",
       "18062   430659.37\n",
       "8057    296793.27\n",
       "dtype: float64"
      ]
     },
     "execution_count": 94,
     "metadata": {},
     "output_type": "execute_result"
    }
   ],
   "source": [
    "# Can now predict for our test set!\n",
    "simple_test_preds = simple_model.predict(sm.add_constant(X_test['sqft_living']))\n",
    "\n",
    "simple_test_preds[:5]"
   ]
  },
  {
   "cell_type": "code",
   "execution_count": 95,
   "metadata": {
    "ExecuteTime": {
     "end_time": "2022-03-31T12:39:57.569829Z",
     "start_time": "2022-03-31T12:39:56.024310Z"
    }
   },
   "outputs": [
    {
     "data": {
      "text/plain": [
       "0.48232949413779314"
      ]
     },
     "execution_count": 95,
     "metadata": {},
     "output_type": "execute_result"
    }
   ],
   "source": [
    "simple_sk = LinearRegression()\n",
    "\n",
    "simple_sk.fit(X_train[['sqft_living']], y_train)\n",
    "\n",
    "simple_sk.score(X_train[['sqft_living']], y_train)"
   ]
  },
  {
   "cell_type": "code",
   "execution_count": 96,
   "metadata": {
    "ExecuteTime": {
     "end_time": "2022-03-31T12:40:28.330428Z",
     "start_time": "2022-03-31T12:40:28.312866Z"
    }
   },
   "outputs": [
    {
     "data": {
      "text/plain": [
       "0.4792539026319236"
      ]
     },
     "execution_count": 96,
     "metadata": {},
     "output_type": "execute_result"
    }
   ],
   "source": [
    "simple_sk.score(X_test[['sqft_living']], y_test)"
   ]
  },
  {
   "cell_type": "code",
   "execution_count": 101,
   "metadata": {
    "ExecuteTime": {
     "end_time": "2022-03-31T13:12:08.369678Z",
     "start_time": "2022-03-31T13:12:08.355921Z"
    },
    "scrolled": true
   },
   "outputs": [
    {
     "name": "stdout",
     "output_type": "stream",
     "text": [
      "0.4792539026319236\n"
     ]
    }
   ],
   "source": [
    "print(r2_score(y_test, simple_test_preds))"
   ]
  },
  {
   "cell_type": "code",
   "execution_count": 48,
   "metadata": {
    "ExecuteTime": {
     "end_time": "2022-03-30T20:23:11.246761Z",
     "start_time": "2022-03-30T20:23:11.233926Z"
    }
   },
   "outputs": [
    {
     "data": {
      "text/plain": [
       "1215     776327.10\n",
       "12590   -241347.86\n",
       "13720     47483.29\n",
       "15200    -85922.45\n",
       "10730     15574.83\n",
       "dtype: float64"
      ]
     },
     "execution_count": 48,
     "metadata": {},
     "output_type": "execute_result"
    }
   ],
   "source": [
    "# First round of residuals\n",
    "resids = y_train - simple_train_preds\n",
    "\n",
    "resids[:5]"
   ]
  },
  {
   "cell_type": "code",
   "execution_count": 113,
   "metadata": {
    "ExecuteTime": {
     "end_time": "2022-03-30T20:27:52.416397Z",
     "start_time": "2022-03-30T20:27:52.395550Z"
    },
    "scrolled": true
   },
   "outputs": [
    {
     "data": {
      "text/plain": [
       "261866.1740107072"
      ]
     },
     "execution_count": 113,
     "metadata": {},
     "output_type": "execute_result"
    }
   ],
   "source": [
    "mean_squared_error(y_true=y_train,\n",
    "                   y_pred=simple_train_preds,\n",
    "                   squared=False)"
   ]
  },
  {
   "cell_type": "code",
   "execution_count": 99,
   "metadata": {
    "ExecuteTime": {
     "end_time": "2022-03-31T13:11:25.563476Z",
     "start_time": "2022-03-31T13:11:24.823388Z"
    }
   },
   "outputs": [
    {
     "data": {
      "image/png": "[encoded data removed]",
      "text/plain": [
       "<Figure size 432x288 with 1 Axes>"
      ]
     },
     "metadata": {
      "needs_background": "light"
     },
     "output_type": "display_data"
    }
   ],
   "source": [
    "# Just looking at two variables\n",
    "\n",
    "# Plot our points, rating vs balance, as a scatterplot\n",
    "plt.scatter(train_df['sqft_living'], train_df['price'])\n",
    "\n",
    "# Plot the line of best fit!\n",
    "plt.plot(train_df['sqft_living'], simple_train_preds, color='black')\n",
    "\n",
    "plt.ylabel('Sale Price')\n",
    "plt.xlabel('Squarefoot Living Area')\n",
    "plt.title('Relationship between Squarefoot Living Area and Sale Price')\n",
    "fig.tight_layout()\n",
    "plt.show()"
   ]
  },
  {
   "cell_type": "markdown",
   "metadata": {},
   "source": [
    "### `sqft_living` Analysis"
   ]
  },
  {
   "cell_type": "code",
   "execution_count": null,
   "metadata": {},
   "outputs": [],
   "source": []
  },
  {
   "cell_type": "markdown",
   "metadata": {},
   "source": [
    "## Modeling with Multiple Features"
   ]
  },
  {
   "cell_type": "code",
   "execution_count": null,
   "metadata": {},
   "outputs": [],
   "source": []
  },
  {
   "cell_type": "markdown",
   "metadata": {},
   "source": [
    "### `view` Analysis"
   ]
  },
  {
   "cell_type": "markdown",
   "metadata": {},
   "source": [
    "is there a difference between those that have a view versus those that don't"
   ]
  },
  {
   "cell_type": "code",
   "execution_count": 51,
   "metadata": {
    "ExecuteTime": {
     "end_time": "2022-03-30T20:23:11.908451Z",
     "start_time": "2022-03-30T20:23:11.818954Z"
    },
    "scrolled": true
   },
   "outputs": [
    {
     "data": {
      "text/html": [
       "<div>\n",
       "<style scoped>\n",
       "    .dataframe tbody tr th:only-of-type {\n",
       "        vertical-align: middle;\n",
       "    }\n",
       "\n",
       "    .dataframe tbody tr th {\n",
       "        vertical-align: top;\n",
       "    }\n",
       "\n",
       "    .dataframe thead tr th {\n",
       "        text-align: left;\n",
       "    }\n",
       "\n",
       "    .dataframe thead tr:last-of-type th {\n",
       "        text-align: right;\n",
       "    }\n",
       "</style>\n",
       "<table border=\"1\" class=\"dataframe\">\n",
       "  <thead>\n",
       "    <tr>\n",
       "      <th></th>\n",
       "      <th colspan=\"2\" halign=\"left\">price</th>\n",
       "      <th colspan=\"2\" halign=\"left\">bedrooms</th>\n",
       "      <th colspan=\"2\" halign=\"left\">bathrooms</th>\n",
       "      <th colspan=\"2\" halign=\"left\">sqft_living</th>\n",
       "      <th colspan=\"2\" halign=\"left\">sqft_lot</th>\n",
       "      <th colspan=\"2\" halign=\"left\">yr_built</th>\n",
       "      <th colspan=\"2\" halign=\"left\">zipcode</th>\n",
       "    </tr>\n",
       "    <tr>\n",
       "      <th></th>\n",
       "      <th>mean</th>\n",
       "      <th>std</th>\n",
       "      <th>mean</th>\n",
       "      <th>std</th>\n",
       "      <th>mean</th>\n",
       "      <th>std</th>\n",
       "      <th>mean</th>\n",
       "      <th>std</th>\n",
       "      <th>mean</th>\n",
       "      <th>std</th>\n",
       "      <th>mean</th>\n",
       "      <th>std</th>\n",
       "      <th>mean</th>\n",
       "      <th>std</th>\n",
       "    </tr>\n",
       "    <tr>\n",
       "      <th>view</th>\n",
       "      <th></th>\n",
       "      <th></th>\n",
       "      <th></th>\n",
       "      <th></th>\n",
       "      <th></th>\n",
       "      <th></th>\n",
       "      <th></th>\n",
       "      <th></th>\n",
       "      <th></th>\n",
       "      <th></th>\n",
       "      <th></th>\n",
       "      <th></th>\n",
       "      <th></th>\n",
       "      <th></th>\n",
       "    </tr>\n",
       "  </thead>\n",
       "  <tbody>\n",
       "    <tr>\n",
       "      <th>AVERAGE</th>\n",
       "      <td>791956.68</td>\n",
       "      <td>510351.93</td>\n",
       "      <td>3.57</td>\n",
       "      <td>0.98</td>\n",
       "      <td>2.43</td>\n",
       "      <td>0.87</td>\n",
       "      <td>2651.20</td>\n",
       "      <td>1133.59</td>\n",
       "      <td>22331.72</td>\n",
       "      <td>60261.29</td>\n",
       "      <td>1964.82</td>\n",
       "      <td>29.70</td>\n",
       "      <td>98090.98</td>\n",
       "      <td>59.82</td>\n",
       "    </tr>\n",
       "    <tr>\n",
       "      <th>EXCELLENT</th>\n",
       "      <td>1454416.19</td>\n",
       "      <td>934214.96</td>\n",
       "      <td>3.63</td>\n",
       "      <td>1.10</td>\n",
       "      <td>2.78</td>\n",
       "      <td>1.07</td>\n",
       "      <td>3337.17</td>\n",
       "      <td>1544.93</td>\n",
       "      <td>21762.46</td>\n",
       "      <td>35989.90</td>\n",
       "      <td>1965.77</td>\n",
       "      <td>27.23</td>\n",
       "      <td>98096.41</td>\n",
       "      <td>61.65</td>\n",
       "    </tr>\n",
       "    <tr>\n",
       "      <th>FAIR</th>\n",
       "      <td>814386.56</td>\n",
       "      <td>513226.70</td>\n",
       "      <td>3.53</td>\n",
       "      <td>0.98</td>\n",
       "      <td>2.35</td>\n",
       "      <td>0.84</td>\n",
       "      <td>2573.51</td>\n",
       "      <td>1042.89</td>\n",
       "      <td>12342.66</td>\n",
       "      <td>17078.17</td>\n",
       "      <td>1962.90</td>\n",
       "      <td>26.36</td>\n",
       "      <td>98096.60</td>\n",
       "      <td>61.08</td>\n",
       "    </tr>\n",
       "    <tr>\n",
       "      <th>GOOD</th>\n",
       "      <td>972849.27</td>\n",
       "      <td>615076.79</td>\n",
       "      <td>3.67</td>\n",
       "      <td>0.93</td>\n",
       "      <td>2.67</td>\n",
       "      <td>0.89</td>\n",
       "      <td>3012.47</td>\n",
       "      <td>1204.88</td>\n",
       "      <td>35010.67</td>\n",
       "      <td>109236.86</td>\n",
       "      <td>1967.34</td>\n",
       "      <td>30.00</td>\n",
       "      <td>98092.44</td>\n",
       "      <td>62.24</td>\n",
       "    </tr>\n",
       "    <tr>\n",
       "      <th>NONE</th>\n",
       "      <td>498336.32</td>\n",
       "      <td>287341.26</td>\n",
       "      <td>3.35</td>\n",
       "      <td>0.92</td>\n",
       "      <td>2.07</td>\n",
       "      <td>0.74</td>\n",
       "      <td>2001.17</td>\n",
       "      <td>837.19</td>\n",
       "      <td>14178.46</td>\n",
       "      <td>37109.10</td>\n",
       "      <td>1971.73</td>\n",
       "      <td>29.37</td>\n",
       "      <td>98076.21</td>\n",
       "      <td>52.33</td>\n",
       "    </tr>\n",
       "  </tbody>\n",
       "</table>\n",
       "</div>"
      ],
      "text/plain": [
       "               price           bedrooms      bathrooms      sqft_living  \\\n",
       "                mean       std     mean  std      mean  std        mean   \n",
       "view                                                                      \n",
       "AVERAGE    791956.68 510351.93     3.57 0.98      2.43 0.87     2651.20   \n",
       "EXCELLENT 1454416.19 934214.96     3.63 1.10      2.78 1.07     3337.17   \n",
       "FAIR       814386.56 513226.70     3.53 0.98      2.35 0.84     2573.51   \n",
       "GOOD       972849.27 615076.79     3.67 0.93      2.67 0.89     3012.47   \n",
       "NONE       498336.32 287341.26     3.35 0.92      2.07 0.74     2001.17   \n",
       "\n",
       "                  sqft_lot           yr_built        zipcode        \n",
       "              std     mean       std     mean   std     mean   std  \n",
       "view                                                                \n",
       "AVERAGE   1133.59 22331.72  60261.29  1964.82 29.70 98090.98 59.82  \n",
       "EXCELLENT 1544.93 21762.46  35989.90  1965.77 27.23 98096.41 61.65  \n",
       "FAIR      1042.89 12342.66  17078.17  1962.90 26.36 98096.60 61.08  \n",
       "GOOD      1204.88 35010.67 109236.86  1967.34 30.00 98092.44 62.24  \n",
       "NONE       837.19 14178.46  37109.10  1971.73 29.37 98076.21 52.33  "
      ]
     },
     "execution_count": 51,
     "metadata": {},
     "output_type": "execute_result"
    }
   ],
   "source": [
    "summary_of_view = df_copy.groupby('view').agg(['mean', 'std'])\n",
    "\n",
    "summary_of_view"
   ]
  },
  {
   "cell_type": "markdown",
   "metadata": {},
   "source": [
    "Observations from this summary:\n",
    "\n",
    "- Significant gap between `EXCELLENT` and `GOOD`\n",
    "- Smallest gap is between `FAIR` and `AVERAGE` - we'll need to determine if this difference is a signficant one."
   ]
  },
  {
   "cell_type": "markdown",
   "metadata": {},
   "source": [
    "From the df summary, we notice that there is a difference in price between price for those that are excellent\n",
    "compared to those that have a view written as none. Further investigation will be performed to determine if this\n",
    "difference is statistically significant"
   ]
  },
  {
   "cell_type": "code",
   "execution_count": 52,
   "metadata": {
    "ExecuteTime": {
     "end_time": "2022-03-30T20:23:11.955093Z",
     "start_time": "2022-03-30T20:23:11.916990Z"
    }
   },
   "outputs": [],
   "source": [
    "# Figure out how to do this in a loop/function?\n",
    "df_average = train_df[train_df['view'] == 'AVERAGE']\n",
    "df_excellent = train_df[train_df['view'] == 'EXCELLENT']\n",
    "df_fair = train_df[train_df['view'] == 'FAIR']\n",
    "df_good = train_df[train_df['view'] == 'GOOD']\n",
    "df_none = train_df[train_df['view'] == 'NONE']"
   ]
  },
  {
   "cell_type": "code",
   "execution_count": 53,
   "metadata": {
    "ExecuteTime": {
     "end_time": "2022-03-30T20:23:12.001486Z",
     "start_time": "2022-03-30T20:23:11.962593Z"
    }
   },
   "outputs": [
    {
     "data": {
      "text/plain": [
       "NONE         12899\n",
       "AVERAGE        644\n",
       "GOOD           336\n",
       "FAIR           225\n",
       "EXCELLENT      205\n",
       "Name: view, dtype: int64"
      ]
     },
     "execution_count": 53,
     "metadata": {},
     "output_type": "execute_result"
    }
   ],
   "source": [
    "train_df['view'].value_counts()"
   ]
  },
  {
   "cell_type": "markdown",
   "metadata": {},
   "source": [
    "Subsetting the data into different views\n",
    " - Number of rows:\n",
    "     - `NONE` = 12906\n",
    "     - `AVERAGE` = 636\n",
    "     - `GOOD` = 342\n",
    "     - `FAIR` = 213\n",
    "     - `EXCELLENT` = 212"
   ]
  },
  {
   "cell_type": "code",
   "execution_count": 54,
   "metadata": {
    "ExecuteTime": {
     "end_time": "2022-03-30T20:23:12.017446Z",
     "start_time": "2022-03-30T20:23:12.007472Z"
    }
   },
   "outputs": [],
   "source": [
    "fvalue, pvalue = stats.f_oneway(df_average['price'], df_excellent['price'], df_fair['price'],\n",
    "                                df_good['price'] , df_none['price'])"
   ]
  },
  {
   "cell_type": "code",
   "execution_count": 55,
   "metadata": {
    "ExecuteTime": {
     "end_time": "2022-03-30T20:23:12.033359Z",
     "start_time": "2022-03-30T20:23:12.023433Z"
    },
    "scrolled": false
   },
   "outputs": [],
   "source": [
    "#creating df of just view\n",
    "# df_view = train_df[['view', 'price']]\n",
    "\n",
    "#Tukey test\n",
    "#print(pairwise_tukeyhsd(df_view['price'], df_view['view']))"
   ]
  },
  {
   "cell_type": "markdown",
   "metadata": {},
   "source": [
    "`AVERAGE` and `FAIR` are not significant to each other, so they should be grouped together. Each other subset should be on their own as they have a p value of < .05"
   ]
  },
  {
   "cell_type": "markdown",
   "metadata": {},
   "source": [
    "### `grade` Analysis"
   ]
  },
  {
   "cell_type": "markdown",
   "metadata": {},
   "source": [
    " Is there a difference between grades"
   ]
  },
  {
   "cell_type": "code",
   "execution_count": 56,
   "metadata": {
    "ExecuteTime": {
     "end_time": "2022-03-30T20:23:12.080238Z",
     "start_time": "2022-03-30T20:23:12.038343Z"
    }
   },
   "outputs": [
    {
     "data": {
      "text/plain": [
       "7_Average        5961\n",
       "8_Good           4061\n",
       "9_Better         1722\n",
       "6_Low_Average    1299\n",
       "10_Very_Good      769\n",
       "11_Excellent      269\n",
       "5_Fair            144\n",
       "12_Luxury          61\n",
       "4_Low              18\n",
       "13_Mansion          5\n",
       "Name: grade, dtype: int64"
      ]
     },
     "execution_count": 56,
     "metadata": {},
     "output_type": "execute_result"
    }
   ],
   "source": [
    "train_df.grade.value_counts()"
   ]
  },
  {
   "cell_type": "code",
   "execution_count": 57,
   "metadata": {
    "ExecuteTime": {
     "end_time": "2022-03-30T20:23:12.110157Z",
     "start_time": "2022-03-30T20:23:12.086222Z"
    }
   },
   "outputs": [],
   "source": [
    "# Dropping poor row, since there is only one\n",
    "df3 = train_df.copy()\n",
    "df3 = df3[df3['grade'] != '3 Poor']"
   ]
  },
  {
   "cell_type": "code",
   "execution_count": 58,
   "metadata": {
    "ExecuteTime": {
     "end_time": "2022-03-30T20:23:12.156034Z",
     "start_time": "2022-03-30T20:23:12.118137Z"
    }
   },
   "outputs": [],
   "source": [
    "df3.grade = [x.replace(\" \", \"_\").strip() for x in df3.grade]"
   ]
  },
  {
   "cell_type": "code",
   "execution_count": 59,
   "metadata": {
    "ExecuteTime": {
     "end_time": "2022-03-30T20:23:12.187960Z",
     "start_time": "2022-03-30T20:23:12.162021Z"
    },
    "scrolled": true
   },
   "outputs": [
    {
     "data": {
      "text/plain": [
       "7_Average        5961\n",
       "8_Good           4061\n",
       "9_Better         1722\n",
       "6_Low_Average    1299\n",
       "10_Very_Good      769\n",
       "11_Excellent      269\n",
       "5_Fair            144\n",
       "12_Luxury          61\n",
       "4_Low              18\n",
       "13_Mansion          5\n",
       "Name: grade, dtype: int64"
      ]
     },
     "execution_count": 59,
     "metadata": {},
     "output_type": "execute_result"
    }
   ],
   "source": [
    "df3['grade'].value_counts()"
   ]
  },
  {
   "cell_type": "code",
   "execution_count": 60,
   "metadata": {
    "ExecuteTime": {
     "end_time": "2022-03-30T20:23:12.264392Z",
     "start_time": "2022-03-30T20:23:12.192946Z"
    }
   },
   "outputs": [],
   "source": [
    "# Might need a for loop or a function here\n",
    "df_10 = train_df[train_df['grade'] == '10 Very Good']\n",
    "df_11 = train_df[train_df['grade'] == '11 Excellent']\n",
    "df_12 = train_df[train_df['grade'] == '12 Luxury']\n",
    "df_4 = train_df[train_df['grade'] == '4 Low']\n",
    "df_5 = train_df[train_df['grade'] == '5 Fair']\n",
    "df_6 = train_df[train_df['grade'] == '6 Low Average']\n",
    "df_7 = train_df[train_df['grade'] == '7 Average']\n",
    "df_8 = train_df[train_df['grade'] == '8 Good']\n",
    "df_9 = train_df[train_df['grade'] == '9 Better']"
   ]
  },
  {
   "cell_type": "code",
   "execution_count": 61,
   "metadata": {
    "ExecuteTime": {
     "end_time": "2022-03-30T20:23:12.295923Z",
     "start_time": "2022-03-30T20:23:12.270327Z"
    }
   },
   "outputs": [
    {
     "name": "stderr",
     "output_type": "stream",
     "text": [
      "C:\\Users\\toast\\anaconda3\\envs\\learn-env\\lib\\site-packages\\scipy\\stats\\stats.py:3612: F_onewayBadInputSizesWarning: at least one input has length 0\n",
      "  warnings.warn(F_onewayBadInputSizesWarning('at least one input '\n"
     ]
    },
    {
     "data": {
      "text/plain": [
       "nan"
      ]
     },
     "execution_count": 61,
     "metadata": {},
     "output_type": "execute_result"
    }
   ],
   "source": [
    "# Finding f-statistic and p-value using ANOVA testing\n",
    "\n",
    "f_value_grade, p_value_grade = stats.f_oneway(df_10['price'], df_11['price'], df_12['price'],\n",
    "                                              df_4['price'], df_5['price'], df_6['price'],\n",
    "                                              df_7['price'], df_8['price'], df_9['price'])\n",
    "p_value_grade"
   ]
  },
  {
   "cell_type": "markdown",
   "metadata": {},
   "source": [
    "This 0.0 value indicates there is significance **somewhere** between `grade` values, but additional testing is required to determine **where** exactly this significance exists.\n",
    "\n",
    "There is a significant difference in price betweeen grades but we don't know which one is significant.\n",
    "Further testing required to determine which is important"
   ]
  },
  {
   "cell_type": "code",
   "execution_count": 62,
   "metadata": {
    "ExecuteTime": {
     "end_time": "2022-03-30T20:23:12.657948Z",
     "start_time": "2022-03-30T20:23:12.299915Z"
    }
   },
   "outputs": [
    {
     "name": "stdout",
     "output_type": "stream",
     "text": [
      "                Multiple Comparison of Means - Tukey HSD, FWER=0.05                \n",
      "===================================================================================\n",
      "    group1        group2       meandiff   p-adj      lower         upper     reject\n",
      "-----------------------------------------------------------------------------------\n",
      " 10_Very_Good  11_Excellent   432862.5842  0.001   375726.8067   489998.3618   True\n",
      " 10_Very_Good     12_Luxury  1223043.1185  0.001  1115752.9978  1330333.2392   True\n",
      " 10_Very_Good    13_Mansion  2353715.2497  0.001   1991829.832  2715600.6674   True\n",
      " 10_Very_Good         4_Low  -879781.9725  0.001 -1072107.4055  -687456.5395   True\n",
      " 10_Very_Good        5_Fair  -808571.6948  0.001  -881810.2466   -735333.143   True\n",
      " 10_Very_Good 6_Low_Average  -760126.9251  0.001  -796826.0997  -723427.7505   True\n",
      " 10_Very_Good     7_Average  -657980.9773  0.001  -688886.3209  -627075.6337   True\n",
      " 10_Very_Good        8_Good  -519509.1955  0.001  -551229.8892  -487788.5019   True\n",
      " 10_Very_Good      9_Better  -286349.5018  0.001  -321332.4088  -251366.5948   True\n",
      " 11_Excellent     12_Luxury   790180.5343  0.001   675796.6902   904564.3783   True\n",
      " 11_Excellent    13_Mansion  1920852.6654  0.001  1556801.0903  2284904.2405   True\n",
      " 11_Excellent         4_Low -1312644.5568  0.001 -1509015.5474 -1116273.5662   True\n",
      " 11_Excellent        5_Fair  -1241434.279  0.001 -1324719.2071  -1158149.351   True\n",
      " 11_Excellent 6_Low_Average -1192989.5093  0.001 -1247020.2709 -1138958.7478   True\n",
      " 11_Excellent     7_Average -1090843.5615  0.001 -1141119.1425 -1040567.9806   True\n",
      " 11_Excellent        8_Good  -952371.7798  0.001 -1003152.6441  -901590.9155   True\n",
      " 11_Excellent      9_Better   -719212.086  0.001  -772092.1159  -666332.0562   True\n",
      "    12_Luxury    13_Mansion  1130672.1311  0.001   755465.2252  1505879.0371   True\n",
      "    12_Luxury         4_Low -2102825.0911  0.001 -2319177.2089 -1886472.9733   True\n",
      "    12_Luxury        5_Fair -2031614.8133  0.001 -2154834.3417 -1908395.2849   True\n",
      "    12_Luxury 6_Low_Average -1983170.0436  0.001 -2088839.3207 -1877500.7665   True\n",
      "    12_Luxury     7_Average -1881024.0958  0.001  -1984823.455 -1777224.7367   True\n",
      "    12_Luxury        8_Good -1742552.3141  0.001 -1846597.3481   -1638507.28   True\n",
      "    12_Luxury      9_Better -1509392.6203  0.001 -1614478.1592 -1404307.0814   True\n",
      "   13_Mansion         4_Low -3233497.2222  0.001 -3641244.8457 -2825749.5988   True\n",
      "   13_Mansion        5_Fair -3162286.9444  0.001 -3529210.5574 -2795363.3315   True\n",
      "   13_Mansion 6_Low_Average -3113842.1747  0.001 -3475250.3673 -2752433.9822   True\n",
      "   13_Mansion     7_Average  -3011696.227  0.001 -3372562.1197 -2650830.3343   True\n",
      "   13_Mansion        8_Good -2873224.4452  0.001 -3234161.0805   -2512287.81   True\n",
      "   13_Mansion      9_Better -2640064.7515  0.001 -3001302.7008 -2278826.8021   True\n",
      "        4_Low        5_Fair    71210.2778    0.9   -130435.338   272855.8935  False\n",
      "        4_Low 6_Low_Average   119655.0475 0.5985   -71770.9129   311081.0078  False\n",
      "        4_Low     7_Average   221800.9952 0.0087    31400.8662   412201.1243   True\n",
      "        4_Low        8_Good    360272.777  0.001   169738.6035   550806.9505   True\n",
      "        4_Low      9_Better   593432.4708  0.001   402328.1206    784536.821   True\n",
      "       5_Fair 6_Low_Average    48444.7697 0.4835   -22398.0957   119287.6351  False\n",
      "       5_Fair     7_Average   150590.7175  0.001    82568.4974   218612.9376   True\n",
      "       5_Fair        8_Good   289062.4992  0.001   220665.9747   357459.0238   True\n",
      "       5_Fair      9_Better    522222.193  0.001   452253.0144   592191.3715   True\n",
      "6_Low_Average     7_Average   102145.9478  0.001    77448.4503   126843.4452   True\n",
      "6_Low_Average        8_Good   240617.7295  0.001   214907.2546   266328.2045   True\n",
      "6_Low_Average      9_Better   473777.4233  0.001   444135.7314   503419.1152   True\n",
      "    7_Average        8_Good   138471.7818  0.001   122060.2197   154883.3438   True\n",
      "    7_Average      9_Better   371631.4755  0.001   349564.7417   393698.2094   True\n",
      "       8_Good      9_Better   233159.6938  0.001   209964.8045    256354.583   True\n",
      "-----------------------------------------------------------------------------------\n"
     ]
    }
   ],
   "source": [
    "# Ad-hoc test to determine differeces in price vs. grade\n",
    "\n",
    "df_grade = train_df[['grade', 'price']]\n",
    "\n",
    "print(pairwise_tukeyhsd(df_grade['price'], df_grade['grade']))"
   ]
  },
  {
   "cell_type": "markdown",
   "metadata": {},
   "source": [
    "Summary of what we notice"
   ]
  },
  {
   "cell_type": "markdown",
   "metadata": {},
   "source": [
    "#### One Hot Encoding | Rework to include Train only"
   ]
  },
  {
   "cell_type": "code",
   "execution_count": 63,
   "metadata": {
    "ExecuteTime": {
     "end_time": "2022-03-30T20:23:12.689924Z",
     "start_time": "2022-03-30T20:23:12.662935Z"
    }
   },
   "outputs": [],
   "source": [
    "#categorizing average and fair together since they are not different from each other\n",
    "df3['view'] = df3['view'].str.replace('AVERAGE', 'FAIR')"
   ]
  },
  {
   "cell_type": "code",
   "execution_count": 64,
   "metadata": {
    "ExecuteTime": {
     "end_time": "2022-03-30T20:23:12.720734Z",
     "start_time": "2022-03-30T20:23:12.694918Z"
    }
   },
   "outputs": [
    {
     "data": {
      "text/html": [
       "<div>\n",
       "<style scoped>\n",
       "    .dataframe tbody tr th:only-of-type {\n",
       "        vertical-align: middle;\n",
       "    }\n",
       "\n",
       "    .dataframe tbody tr th {\n",
       "        vertical-align: top;\n",
       "    }\n",
       "\n",
       "    .dataframe thead th {\n",
       "        text-align: right;\n",
       "    }\n",
       "</style>\n",
       "<table border=\"1\" class=\"dataframe\">\n",
       "  <thead>\n",
       "    <tr style=\"text-align: right;\">\n",
       "      <th></th>\n",
       "      <th>grade</th>\n",
       "      <th>view</th>\n",
       "    </tr>\n",
       "  </thead>\n",
       "  <tbody>\n",
       "    <tr>\n",
       "      <th>1215</th>\n",
       "      <td>9_Better</td>\n",
       "      <td>GOOD</td>\n",
       "    </tr>\n",
       "    <tr>\n",
       "      <th>12590</th>\n",
       "      <td>7_Average</td>\n",
       "      <td>NONE</td>\n",
       "    </tr>\n",
       "    <tr>\n",
       "      <th>13720</th>\n",
       "      <td>7_Average</td>\n",
       "      <td>NONE</td>\n",
       "    </tr>\n",
       "    <tr>\n",
       "      <th>15200</th>\n",
       "      <td>7_Average</td>\n",
       "      <td>NONE</td>\n",
       "    </tr>\n",
       "    <tr>\n",
       "      <th>10730</th>\n",
       "      <td>9_Better</td>\n",
       "      <td>NONE</td>\n",
       "    </tr>\n",
       "    <tr>\n",
       "      <th>...</th>\n",
       "      <td>...</td>\n",
       "      <td>...</td>\n",
       "    </tr>\n",
       "    <tr>\n",
       "      <th>11423</th>\n",
       "      <td>8_Good</td>\n",
       "      <td>NONE</td>\n",
       "    </tr>\n",
       "    <tr>\n",
       "      <th>12112</th>\n",
       "      <td>7_Average</td>\n",
       "      <td>NONE</td>\n",
       "    </tr>\n",
       "    <tr>\n",
       "      <th>5451</th>\n",
       "      <td>8_Good</td>\n",
       "      <td>NONE</td>\n",
       "    </tr>\n",
       "    <tr>\n",
       "      <th>874</th>\n",
       "      <td>10_Very_Good</td>\n",
       "      <td>NONE</td>\n",
       "    </tr>\n",
       "    <tr>\n",
       "      <th>15996</th>\n",
       "      <td>8_Good</td>\n",
       "      <td>NONE</td>\n",
       "    </tr>\n",
       "  </tbody>\n",
       "</table>\n",
       "<p>14309 rows × 2 columns</p>\n",
       "</div>"
      ],
      "text/plain": [
       "              grade  view\n",
       "1215       9_Better  GOOD\n",
       "12590     7_Average  NONE\n",
       "13720     7_Average  NONE\n",
       "15200     7_Average  NONE\n",
       "10730      9_Better  NONE\n",
       "...             ...   ...\n",
       "11423        8_Good  NONE\n",
       "12112     7_Average  NONE\n",
       "5451         8_Good  NONE\n",
       "874    10_Very_Good  NONE\n",
       "15996        8_Good  NONE\n",
       "\n",
       "[14309 rows x 2 columns]"
      ]
     },
     "execution_count": 64,
     "metadata": {},
     "output_type": "execute_result"
    }
   ],
   "source": [
    "#making the categorical variable\n",
    "cate_column = df3[['grade', 'view']]\n",
    "\n",
    "cate_column"
   ]
  },
  {
   "cell_type": "code",
   "execution_count": 65,
   "metadata": {
    "ExecuteTime": {
     "end_time": "2022-03-30T20:23:12.783698Z",
     "start_time": "2022-03-30T20:23:12.724740Z"
    }
   },
   "outputs": [
    {
     "data": {
      "text/plain": [
       "<14309x12 sparse matrix of type '<class 'numpy.float64'>'\n",
       "\twith 27644 stored elements in Compressed Sparse Row format>"
      ]
     },
     "execution_count": 65,
     "metadata": {},
     "output_type": "execute_result"
    }
   ],
   "source": [
    "ohe = OneHotEncoder(drop='first')\n",
    "\n",
    "column_name = ['grade', 'view']\n",
    "features = cate_column.copy()\n",
    "\n",
    "features2 = features[column_name]\n",
    "\n",
    "cate_ohe = ohe.fit_transform(features2)\n",
    "\n",
    "cate_ohe"
   ]
  },
  {
   "cell_type": "code",
   "execution_count": 66,
   "metadata": {
    "ExecuteTime": {
     "end_time": "2022-03-30T20:23:12.815162Z",
     "start_time": "2022-03-30T20:23:12.808630Z"
    },
    "scrolled": true
   },
   "outputs": [],
   "source": [
    "name = ohe.get_feature_names_out()"
   ]
  },
  {
   "cell_type": "code",
   "execution_count": 67,
   "metadata": {
    "ExecuteTime": {
     "end_time": "2022-03-30T20:23:12.877499Z",
     "start_time": "2022-03-30T20:23:12.828032Z"
    }
   },
   "outputs": [
    {
     "data": {
      "text/html": [
       "<div>\n",
       "<style scoped>\n",
       "    .dataframe tbody tr th:only-of-type {\n",
       "        vertical-align: middle;\n",
       "    }\n",
       "\n",
       "    .dataframe tbody tr th {\n",
       "        vertical-align: top;\n",
       "    }\n",
       "\n",
       "    .dataframe thead th {\n",
       "        text-align: right;\n",
       "    }\n",
       "</style>\n",
       "<table border=\"1\" class=\"dataframe\">\n",
       "  <thead>\n",
       "    <tr style=\"text-align: right;\">\n",
       "      <th></th>\n",
       "      <th>grade_11_Excellent</th>\n",
       "      <th>grade_12_Luxury</th>\n",
       "      <th>grade_13_Mansion</th>\n",
       "      <th>grade_4_Low</th>\n",
       "      <th>grade_5_Fair</th>\n",
       "      <th>grade_6_Low_Average</th>\n",
       "      <th>grade_7_Average</th>\n",
       "      <th>grade_8_Good</th>\n",
       "      <th>grade_9_Better</th>\n",
       "      <th>view_FAIR</th>\n",
       "      <th>view_GOOD</th>\n",
       "      <th>view_NONE</th>\n",
       "    </tr>\n",
       "  </thead>\n",
       "  <tbody>\n",
       "    <tr>\n",
       "      <th>1215</th>\n",
       "      <td>0.00</td>\n",
       "      <td>0.00</td>\n",
       "      <td>0.00</td>\n",
       "      <td>0.00</td>\n",
       "      <td>0.00</td>\n",
       "      <td>0.00</td>\n",
       "      <td>0.00</td>\n",
       "      <td>0.00</td>\n",
       "      <td>1.00</td>\n",
       "      <td>0.00</td>\n",
       "      <td>1.00</td>\n",
       "      <td>0.00</td>\n",
       "    </tr>\n",
       "    <tr>\n",
       "      <th>12590</th>\n",
       "      <td>0.00</td>\n",
       "      <td>0.00</td>\n",
       "      <td>0.00</td>\n",
       "      <td>0.00</td>\n",
       "      <td>0.00</td>\n",
       "      <td>0.00</td>\n",
       "      <td>1.00</td>\n",
       "      <td>0.00</td>\n",
       "      <td>0.00</td>\n",
       "      <td>0.00</td>\n",
       "      <td>0.00</td>\n",
       "      <td>1.00</td>\n",
       "    </tr>\n",
       "    <tr>\n",
       "      <th>13720</th>\n",
       "      <td>0.00</td>\n",
       "      <td>0.00</td>\n",
       "      <td>0.00</td>\n",
       "      <td>0.00</td>\n",
       "      <td>0.00</td>\n",
       "      <td>0.00</td>\n",
       "      <td>1.00</td>\n",
       "      <td>0.00</td>\n",
       "      <td>0.00</td>\n",
       "      <td>0.00</td>\n",
       "      <td>0.00</td>\n",
       "      <td>1.00</td>\n",
       "    </tr>\n",
       "    <tr>\n",
       "      <th>15200</th>\n",
       "      <td>0.00</td>\n",
       "      <td>0.00</td>\n",
       "      <td>0.00</td>\n",
       "      <td>0.00</td>\n",
       "      <td>0.00</td>\n",
       "      <td>0.00</td>\n",
       "      <td>1.00</td>\n",
       "      <td>0.00</td>\n",
       "      <td>0.00</td>\n",
       "      <td>0.00</td>\n",
       "      <td>0.00</td>\n",
       "      <td>1.00</td>\n",
       "    </tr>\n",
       "    <tr>\n",
       "      <th>10730</th>\n",
       "      <td>0.00</td>\n",
       "      <td>0.00</td>\n",
       "      <td>0.00</td>\n",
       "      <td>0.00</td>\n",
       "      <td>0.00</td>\n",
       "      <td>0.00</td>\n",
       "      <td>0.00</td>\n",
       "      <td>0.00</td>\n",
       "      <td>1.00</td>\n",
       "      <td>0.00</td>\n",
       "      <td>0.00</td>\n",
       "      <td>1.00</td>\n",
       "    </tr>\n",
       "    <tr>\n",
       "      <th>...</th>\n",
       "      <td>...</td>\n",
       "      <td>...</td>\n",
       "      <td>...</td>\n",
       "      <td>...</td>\n",
       "      <td>...</td>\n",
       "      <td>...</td>\n",
       "      <td>...</td>\n",
       "      <td>...</td>\n",
       "      <td>...</td>\n",
       "      <td>...</td>\n",
       "      <td>...</td>\n",
       "      <td>...</td>\n",
       "    </tr>\n",
       "    <tr>\n",
       "      <th>11423</th>\n",
       "      <td>0.00</td>\n",
       "      <td>0.00</td>\n",
       "      <td>0.00</td>\n",
       "      <td>0.00</td>\n",
       "      <td>0.00</td>\n",
       "      <td>0.00</td>\n",
       "      <td>0.00</td>\n",
       "      <td>1.00</td>\n",
       "      <td>0.00</td>\n",
       "      <td>0.00</td>\n",
       "      <td>0.00</td>\n",
       "      <td>1.00</td>\n",
       "    </tr>\n",
       "    <tr>\n",
       "      <th>12112</th>\n",
       "      <td>0.00</td>\n",
       "      <td>0.00</td>\n",
       "      <td>0.00</td>\n",
       "      <td>0.00</td>\n",
       "      <td>0.00</td>\n",
       "      <td>0.00</td>\n",
       "      <td>1.00</td>\n",
       "      <td>0.00</td>\n",
       "      <td>0.00</td>\n",
       "      <td>0.00</td>\n",
       "      <td>0.00</td>\n",
       "      <td>1.00</td>\n",
       "    </tr>\n",
       "    <tr>\n",
       "      <th>5451</th>\n",
       "      <td>0.00</td>\n",
       "      <td>0.00</td>\n",
       "      <td>0.00</td>\n",
       "      <td>0.00</td>\n",
       "      <td>0.00</td>\n",
       "      <td>0.00</td>\n",
       "      <td>0.00</td>\n",
       "      <td>1.00</td>\n",
       "      <td>0.00</td>\n",
       "      <td>0.00</td>\n",
       "      <td>0.00</td>\n",
       "      <td>1.00</td>\n",
       "    </tr>\n",
       "    <tr>\n",
       "      <th>874</th>\n",
       "      <td>0.00</td>\n",
       "      <td>0.00</td>\n",
       "      <td>0.00</td>\n",
       "      <td>0.00</td>\n",
       "      <td>0.00</td>\n",
       "      <td>0.00</td>\n",
       "      <td>0.00</td>\n",
       "      <td>0.00</td>\n",
       "      <td>0.00</td>\n",
       "      <td>0.00</td>\n",
       "      <td>0.00</td>\n",
       "      <td>1.00</td>\n",
       "    </tr>\n",
       "    <tr>\n",
       "      <th>15996</th>\n",
       "      <td>0.00</td>\n",
       "      <td>0.00</td>\n",
       "      <td>0.00</td>\n",
       "      <td>0.00</td>\n",
       "      <td>0.00</td>\n",
       "      <td>0.00</td>\n",
       "      <td>0.00</td>\n",
       "      <td>1.00</td>\n",
       "      <td>0.00</td>\n",
       "      <td>0.00</td>\n",
       "      <td>0.00</td>\n",
       "      <td>1.00</td>\n",
       "    </tr>\n",
       "  </tbody>\n",
       "</table>\n",
       "<p>14309 rows × 12 columns</p>\n",
       "</div>"
      ],
      "text/plain": [
       "       grade_11_Excellent  grade_12_Luxury  grade_13_Mansion  grade_4_Low  \\\n",
       "1215                 0.00             0.00              0.00         0.00   \n",
       "12590                0.00             0.00              0.00         0.00   \n",
       "13720                0.00             0.00              0.00         0.00   \n",
       "15200                0.00             0.00              0.00         0.00   \n",
       "10730                0.00             0.00              0.00         0.00   \n",
       "...                   ...              ...               ...          ...   \n",
       "11423                0.00             0.00              0.00         0.00   \n",
       "12112                0.00             0.00              0.00         0.00   \n",
       "5451                 0.00             0.00              0.00         0.00   \n",
       "874                  0.00             0.00              0.00         0.00   \n",
       "15996                0.00             0.00              0.00         0.00   \n",
       "\n",
       "       grade_5_Fair  grade_6_Low_Average  grade_7_Average  grade_8_Good  \\\n",
       "1215           0.00                 0.00             0.00          0.00   \n",
       "12590          0.00                 0.00             1.00          0.00   \n",
       "13720          0.00                 0.00             1.00          0.00   \n",
       "15200          0.00                 0.00             1.00          0.00   \n",
       "10730          0.00                 0.00             0.00          0.00   \n",
       "...             ...                  ...              ...           ...   \n",
       "11423          0.00                 0.00             0.00          1.00   \n",
       "12112          0.00                 0.00             1.00          0.00   \n",
       "5451           0.00                 0.00             0.00          1.00   \n",
       "874            0.00                 0.00             0.00          0.00   \n",
       "15996          0.00                 0.00             0.00          1.00   \n",
       "\n",
       "       grade_9_Better  view_FAIR  view_GOOD  view_NONE  \n",
       "1215             1.00       0.00       1.00       0.00  \n",
       "12590            0.00       0.00       0.00       1.00  \n",
       "13720            0.00       0.00       0.00       1.00  \n",
       "15200            0.00       0.00       0.00       1.00  \n",
       "10730            1.00       0.00       0.00       1.00  \n",
       "...               ...        ...        ...        ...  \n",
       "11423            0.00       0.00       0.00       1.00  \n",
       "12112            0.00       0.00       0.00       1.00  \n",
       "5451             0.00       0.00       0.00       1.00  \n",
       "874              0.00       0.00       0.00       1.00  \n",
       "15996            0.00       0.00       0.00       1.00  \n",
       "\n",
       "[14309 rows x 12 columns]"
      ]
     },
     "execution_count": 67,
     "metadata": {},
     "output_type": "execute_result"
    }
   ],
   "source": [
    "cate_parsed = pd.DataFrame(cate_ohe.todense(), columns = name, index = features.index)\n",
    "cate_parsed"
   ]
  },
  {
   "cell_type": "markdown",
   "metadata": {},
   "source": [
    "### Scaling | Rework only to include train"
   ]
  },
  {
   "cell_type": "code",
   "execution_count": 68,
   "metadata": {
    "ExecuteTime": {
     "end_time": "2022-03-30T20:23:12.908844Z",
     "start_time": "2022-03-30T20:23:12.888470Z"
    }
   },
   "outputs": [],
   "source": [
    "# Creating dataframe with only numerical columns\n",
    "numbers = train_df.select_dtypes(np.number)"
   ]
  },
  {
   "cell_type": "code",
   "execution_count": 69,
   "metadata": {
    "ExecuteTime": {
     "end_time": "2022-03-30T20:23:13.032904Z",
     "start_time": "2022-03-30T20:23:12.927796Z"
    }
   },
   "outputs": [
    {
     "data": {
      "text/html": [
       "<div>\n",
       "<style scoped>\n",
       "    .dataframe tbody tr th:only-of-type {\n",
       "        vertical-align: middle;\n",
       "    }\n",
       "\n",
       "    .dataframe tbody tr th {\n",
       "        vertical-align: top;\n",
       "    }\n",
       "\n",
       "    .dataframe thead th {\n",
       "        text-align: right;\n",
       "    }\n",
       "</style>\n",
       "<table border=\"1\" class=\"dataframe\">\n",
       "  <thead>\n",
       "    <tr style=\"text-align: right;\">\n",
       "      <th></th>\n",
       "      <th>bedrooms</th>\n",
       "      <th>bathrooms</th>\n",
       "      <th>sqft_living</th>\n",
       "      <th>sqft_lot</th>\n",
       "      <th>yr_built</th>\n",
       "      <th>zipcode</th>\n",
       "      <th>price</th>\n",
       "    </tr>\n",
       "  </thead>\n",
       "  <tbody>\n",
       "    <tr>\n",
       "      <th>1215</th>\n",
       "      <td>5</td>\n",
       "      <td>3.25</td>\n",
       "      <td>2.21</td>\n",
       "      <td>7920</td>\n",
       "      <td>1921</td>\n",
       "      <td>98122</td>\n",
       "      <td>3.67</td>\n",
       "    </tr>\n",
       "    <tr>\n",
       "      <th>12590</th>\n",
       "      <td>3</td>\n",
       "      <td>1.75</td>\n",
       "      <td>-0.29</td>\n",
       "      <td>7194</td>\n",
       "      <td>1967</td>\n",
       "      <td>98003</td>\n",
       "      <td>-0.86</td>\n",
       "    </tr>\n",
       "    <tr>\n",
       "      <th>13720</th>\n",
       "      <td>3</td>\n",
       "      <td>1.75</td>\n",
       "      <td>-0.99</td>\n",
       "      <td>4000</td>\n",
       "      <td>1929</td>\n",
       "      <td>98118</td>\n",
       "      <td>-0.56</td>\n",
       "    </tr>\n",
       "    <tr>\n",
       "      <th>15200</th>\n",
       "      <td>3</td>\n",
       "      <td>1.00</td>\n",
       "      <td>-1.11</td>\n",
       "      <td>6164</td>\n",
       "      <td>1967</td>\n",
       "      <td>98001</td>\n",
       "      <td>-1.01</td>\n",
       "    </tr>\n",
       "    <tr>\n",
       "      <th>10730</th>\n",
       "      <td>4</td>\n",
       "      <td>2.50</td>\n",
       "      <td>0.74</td>\n",
       "      <td>13093</td>\n",
       "      <td>1989</td>\n",
       "      <td>98075</td>\n",
       "      <td>0.56</td>\n",
       "    </tr>\n",
       "    <tr>\n",
       "      <th>...</th>\n",
       "      <td>...</td>\n",
       "      <td>...</td>\n",
       "      <td>...</td>\n",
       "      <td>...</td>\n",
       "      <td>...</td>\n",
       "      <td>...</td>\n",
       "      <td>...</td>\n",
       "    </tr>\n",
       "    <tr>\n",
       "      <th>11423</th>\n",
       "      <td>3</td>\n",
       "      <td>2.50</td>\n",
       "      <td>0.04</td>\n",
       "      <td>2374</td>\n",
       "      <td>2005</td>\n",
       "      <td>98052</td>\n",
       "      <td>-0.20</td>\n",
       "    </tr>\n",
       "    <tr>\n",
       "      <th>12112</th>\n",
       "      <td>3</td>\n",
       "      <td>1.75</td>\n",
       "      <td>-0.05</td>\n",
       "      <td>273556</td>\n",
       "      <td>1997</td>\n",
       "      <td>98070</td>\n",
       "      <td>-0.20</td>\n",
       "    </tr>\n",
       "    <tr>\n",
       "      <th>5451</th>\n",
       "      <td>4</td>\n",
       "      <td>3.00</td>\n",
       "      <td>1.40</td>\n",
       "      <td>100681</td>\n",
       "      <td>1977</td>\n",
       "      <td>98058</td>\n",
       "      <td>0.67</td>\n",
       "    </tr>\n",
       "    <tr>\n",
       "      <th>874</th>\n",
       "      <td>3</td>\n",
       "      <td>2.25</td>\n",
       "      <td>1.06</td>\n",
       "      <td>12095</td>\n",
       "      <td>1983</td>\n",
       "      <td>98006</td>\n",
       "      <td>0.87</td>\n",
       "    </tr>\n",
       "    <tr>\n",
       "      <th>15996</th>\n",
       "      <td>4</td>\n",
       "      <td>2.50</td>\n",
       "      <td>1.00</td>\n",
       "      <td>5471</td>\n",
       "      <td>2013</td>\n",
       "      <td>98059</td>\n",
       "      <td>-0.01</td>\n",
       "    </tr>\n",
       "  </tbody>\n",
       "</table>\n",
       "<p>14309 rows × 7 columns</p>\n",
       "</div>"
      ],
      "text/plain": [
       "       bedrooms  bathrooms  sqft_living  sqft_lot  yr_built  zipcode  price\n",
       "1215          5       3.25         2.21      7920      1921    98122   3.67\n",
       "12590         3       1.75        -0.29      7194      1967    98003  -0.86\n",
       "13720         3       1.75        -0.99      4000      1929    98118  -0.56\n",
       "15200         3       1.00        -1.11      6164      1967    98001  -1.01\n",
       "10730         4       2.50         0.74     13093      1989    98075   0.56\n",
       "...         ...        ...          ...       ...       ...      ...    ...\n",
       "11423         3       2.50         0.04      2374      2005    98052  -0.20\n",
       "12112         3       1.75        -0.05    273556      1997    98070  -0.20\n",
       "5451          4       3.00         1.40    100681      1977    98058   0.67\n",
       "874           3       2.25         1.06     12095      1983    98006   0.87\n",
       "15996         4       2.50         1.00      5471      2013    98059  -0.01\n",
       "\n",
       "[14309 rows x 7 columns]"
      ]
     },
     "execution_count": 69,
     "metadata": {},
     "output_type": "execute_result"
    }
   ],
   "source": [
    "#Rework to include only the train_df\n",
    "ss = StandardScaler()\n",
    "\n",
    "columns_name1 = ['price', 'sqft_living']\n",
    "numbers_scaling = numbers.copy()\n",
    "\n",
    "features= numbers_scaling[columns_name1]\n",
    "\n",
    "scale1 = ss.fit(features)\n",
    "scale2 = scale1.transform(features)\n",
    "numbers_scaling[columns_name1] = scale2\n",
    "\n",
    "numbers_scaling"
   ]
  },
  {
   "cell_type": "code",
   "execution_count": 70,
   "metadata": {
    "ExecuteTime": {
     "end_time": "2022-03-30T20:23:13.064834Z",
     "start_time": "2022-03-30T20:23:13.038779Z"
    }
   },
   "outputs": [],
   "source": [
    "#combinig scale and ohe\n",
    "scaled_and_parse_df = pd.concat([numbers_scaling, cate_parsed], axis = 1)"
   ]
  },
  {
   "cell_type": "code",
   "execution_count": 71,
   "metadata": {
    "ExecuteTime": {
     "end_time": "2022-03-30T20:23:13.079904Z",
     "start_time": "2022-03-30T20:23:13.068822Z"
    }
   },
   "outputs": [],
   "source": [
    "scaled_and_parse_df.columns = [x.replace(\" \", \"_\").strip() for x in scaled_and_parse_df.columns]"
   ]
  },
  {
   "cell_type": "markdown",
   "metadata": {},
   "source": [
    "## Linear Regression | Rework so fit is only on train and not test"
   ]
  },
  {
   "cell_type": "markdown",
   "metadata": {},
   "source": [
    "#### simple linear"
   ]
  },
  {
   "cell_type": "code",
   "execution_count": 72,
   "metadata": {
    "ExecuteTime": {
     "end_time": "2022-03-30T20:23:13.545950Z",
     "start_time": "2022-03-30T20:23:13.083890Z"
    }
   },
   "outputs": [
    {
     "data": {
      "image/png": "[encoded data removed]",
      "text/plain": [
       "<Figure size 432x288 with 1 Axes>"
      ]
     },
     "metadata": {
      "needs_background": "light"
     },
     "output_type": "display_data"
    }
   ],
   "source": [
    "fig, ax = plt.subplots()\n",
    "\n",
    "x = scaled_and_parse_df['sqft_living']\n",
    "y = scaled_and_parse_df['price']\n",
    "\n",
    "\n",
    "ax.scatter(x, y);"
   ]
  },
  {
   "cell_type": "code",
   "execution_count": 73,
   "metadata": {
    "ExecuteTime": {
     "end_time": "2022-03-30T20:23:13.576867Z",
     "start_time": "2022-03-30T20:23:13.550935Z"
    }
   },
   "outputs": [
    {
     "data": {
      "text/plain": [
       "array([[1.        , 0.70129486],\n",
       "       [0.70129486, 1.        ]])"
      ]
     },
     "execution_count": 73,
     "metadata": {},
     "output_type": "execute_result"
    }
   ],
   "source": [
    "np.corrcoef(df['sqft_living'],df['price'])"
   ]
  },
  {
   "cell_type": "markdown",
   "metadata": {},
   "source": [
    "Passing our first assumption: Based on our scatterplot, we can see that there is a strong correlation between `sqft_living` and price. Our pearson correlation coefficiant of `.70` suggests that these two variables are strongly correlated. Refer to the heatmap above re: multicollinearity."
   ]
  },
  {
   "cell_type": "code",
   "execution_count": 74,
   "metadata": {
    "ExecuteTime": {
     "end_time": "2022-03-30T20:23:13.607412Z",
     "start_time": "2022-03-30T20:23:13.582866Z"
    }
   },
   "outputs": [
    {
     "data": {
      "text/plain": [
       "0.0"
      ]
     },
     "execution_count": 74,
     "metadata": {},
     "output_type": "execute_result"
    }
   ],
   "source": [
    "# Baseline model\n",
    "# Import necessary package\n",
    "from sklearn.dummy import DummyRegressor\n",
    "\n",
    "# Instantiate\n",
    "dummy_lr = DummyRegressor()\n",
    "\n",
    "# Create variables\n",
    "X = scaled_and_parse_df['sqft_living']\n",
    "y = scaled_and_parse_df['price']\n",
    "\n",
    "# Fit\n",
    "dummy_lr.fit(X,y)\n",
    "\n",
    "# Score\n",
    "dummy_lr.score(X,y)"
   ]
  },
  {
   "cell_type": "code",
   "execution_count": 75,
   "metadata": {
    "ExecuteTime": {
     "end_time": "2022-03-30T20:23:13.639478Z",
     "start_time": "2022-03-30T20:23:13.612399Z"
    }
   },
   "outputs": [],
   "source": [
    "#Define X and y variable using scaled & parse dataframe\n",
    "\n",
    "X_s_p = scaled_and_parse_df[['sqft_living']]\n",
    "y_s_p = scaled_and_parse_df[['price']]"
   ]
  },
  {
   "cell_type": "code",
   "execution_count": 76,
   "metadata": {
    "ExecuteTime": {
     "end_time": "2022-03-30T20:23:13.655055Z",
     "start_time": "2022-03-30T20:23:13.644070Z"
    }
   },
   "outputs": [],
   "source": [
    "# ^^^ Test DF must also be scaled and parsed"
   ]
  },
  {
   "cell_type": "code",
   "execution_count": 77,
   "metadata": {
    "ExecuteTime": {
     "end_time": "2022-03-30T20:23:13.734837Z",
     "start_time": "2022-03-30T20:23:13.660038Z"
    },
    "scrolled": false
   },
   "outputs": [
    {
     "name": "stderr",
     "output_type": "stream",
     "text": [
      "C:\\Users\\toast\\anaconda3\\envs\\learn-env\\lib\\site-packages\\sklearn\\base.py:493: FutureWarning: The feature names should match those that were passed during fit. Starting version 1.2, an error will be raised.\n",
      "Feature names unseen at fit time:\n",
      "- price\n",
      "Feature names seen at fit time, yet now missing:\n",
      "- sqft_living\n",
      "\n",
      "  warnings.warn(message, FutureWarning)\n"
     ]
    },
    {
     "data": {
      "text/plain": [
       "array([[ 2.55318295],\n",
       "       [-0.60061982],\n",
       "       [-0.38799469],\n",
       "       ...,\n",
       "       [ 0.46338377],\n",
       "       [ 0.6065207 ],\n",
       "       [-0.00419687]])"
      ]
     },
     "execution_count": 77,
     "metadata": {},
     "output_type": "execute_result"
    }
   ],
   "source": [
    "sk_lr = LinearRegression()\n",
    "sk_lr.fit(X_s_p, y_s_p)\n",
    "preds = sk_lr.predict(y_s_p)\n",
    "\n",
    "preds"
   ]
  },
  {
   "cell_type": "code",
   "execution_count": 78,
   "metadata": {
    "ExecuteTime": {
     "end_time": "2022-03-30T20:23:13.749804Z",
     "start_time": "2022-03-30T20:23:13.739823Z"
    }
   },
   "outputs": [],
   "source": [
    "X = scaled_and_parse_df['sqft_living']\n",
    "y = scaled_and_parse_df[['price']]"
   ]
  },
  {
   "cell_type": "code",
   "execution_count": 79,
   "metadata": {
    "ExecuteTime": {
     "end_time": "2022-03-30T20:23:13.780722Z",
     "start_time": "2022-03-30T20:23:13.754790Z"
    }
   },
   "outputs": [
    {
     "data": {
      "text/html": [
       "<div>\n",
       "<style scoped>\n",
       "    .dataframe tbody tr th:only-of-type {\n",
       "        vertical-align: middle;\n",
       "    }\n",
       "\n",
       "    .dataframe tbody tr th {\n",
       "        vertical-align: top;\n",
       "    }\n",
       "\n",
       "    .dataframe thead th {\n",
       "        text-align: right;\n",
       "    }\n",
       "</style>\n",
       "<table border=\"1\" class=\"dataframe\">\n",
       "  <thead>\n",
       "    <tr style=\"text-align: right;\">\n",
       "      <th></th>\n",
       "      <th>price</th>\n",
       "    </tr>\n",
       "  </thead>\n",
       "  <tbody>\n",
       "    <tr>\n",
       "      <th>1215</th>\n",
       "      <td>1.11</td>\n",
       "    </tr>\n",
       "    <tr>\n",
       "      <th>12590</th>\n",
       "      <td>-0.26</td>\n",
       "    </tr>\n",
       "    <tr>\n",
       "      <th>13720</th>\n",
       "      <td>-0.17</td>\n",
       "    </tr>\n",
       "    <tr>\n",
       "      <th>15200</th>\n",
       "      <td>-0.31</td>\n",
       "    </tr>\n",
       "    <tr>\n",
       "      <th>10730</th>\n",
       "      <td>0.17</td>\n",
       "    </tr>\n",
       "    <tr>\n",
       "      <th>...</th>\n",
       "      <td>...</td>\n",
       "    </tr>\n",
       "    <tr>\n",
       "      <th>11423</th>\n",
       "      <td>-0.06</td>\n",
       "    </tr>\n",
       "    <tr>\n",
       "      <th>12112</th>\n",
       "      <td>-0.06</td>\n",
       "    </tr>\n",
       "    <tr>\n",
       "      <th>5451</th>\n",
       "      <td>0.20</td>\n",
       "    </tr>\n",
       "    <tr>\n",
       "      <th>874</th>\n",
       "      <td>0.26</td>\n",
       "    </tr>\n",
       "    <tr>\n",
       "      <th>15996</th>\n",
       "      <td>-0.00</td>\n",
       "    </tr>\n",
       "  </tbody>\n",
       "</table>\n",
       "<p>14309 rows × 1 columns</p>\n",
       "</div>"
      ],
      "text/plain": [
       "       price\n",
       "1215    1.11\n",
       "12590  -0.26\n",
       "13720  -0.17\n",
       "15200  -0.31\n",
       "10730   0.17\n",
       "...      ...\n",
       "11423  -0.06\n",
       "12112  -0.06\n",
       "5451    0.20\n",
       "874     0.26\n",
       "15996  -0.00\n",
       "\n",
       "[14309 rows x 1 columns]"
      ]
     },
     "execution_count": 79,
     "metadata": {},
     "output_type": "execute_result"
    }
   ],
   "source": [
    "resids = y - preds\n",
    "resids"
   ]
  },
  {
   "cell_type": "code",
   "execution_count": 80,
   "metadata": {
    "ExecuteTime": {
     "end_time": "2022-03-30T20:23:13.795682Z",
     "start_time": "2022-03-30T20:23:13.785708Z"
    }
   },
   "outputs": [
    {
     "data": {
      "text/plain": [
       "119"
      ]
     },
     "execution_count": 80,
     "metadata": {},
     "output_type": "execute_result"
    }
   ],
   "source": [
    "#Create out bins\n",
    "\n",
    "bins = int( len(X)**.5)\n",
    "bins"
   ]
  },
  {
   "cell_type": "code",
   "execution_count": 81,
   "metadata": {
    "ExecuteTime": {
     "end_time": "2022-03-30T20:23:14.662252Z",
     "start_time": "2022-03-30T20:23:13.800669Z"
    },
    "scrolled": false
   },
   "outputs": [
    {
     "data": {
      "image/png": "[encoded data removed]",
      "text/plain": [
       "<Figure size 432x288 with 1 Axes>"
      ]
     },
     "metadata": {
      "needs_background": "light"
     },
     "output_type": "display_data"
    }
   ],
   "source": [
    "# Histogram of residuals\n",
    "\n",
    "plt.hist(resids, bins=bins);"
   ]
  },
  {
   "cell_type": "code",
   "execution_count": 82,
   "metadata": {
    "ExecuteTime": {
     "end_time": "2022-03-30T20:23:14.693288Z",
     "start_time": "2022-03-30T20:23:14.667240Z"
    }
   },
   "outputs": [
    {
     "name": "stdout",
     "output_type": "stream",
     "text": [
      "price   5.43\n",
      "dtype: float64\n"
     ]
    },
    {
     "data": {
      "text/plain": [
       "price   -0.39\n",
       "dtype: float64"
      ]
     },
     "execution_count": 82,
     "metadata": {},
     "output_type": "execute_result"
    }
   ],
   "source": [
    "print(resids.max())\n",
    "resids.min()"
   ]
  },
  {
   "cell_type": "code",
   "execution_count": 83,
   "metadata": {
    "ExecuteTime": {
     "end_time": "2022-03-30T20:23:16.711366Z",
     "start_time": "2022-03-30T20:23:14.698274Z"
    }
   },
   "outputs": [
    {
     "data": {
      "text/plain": [
       "<seaborn.axisgrid.FacetGrid at 0x27452841430>"
      ]
     },
     "execution_count": 83,
     "metadata": {},
     "output_type": "execute_result"
    },
    {
     "data": {
      "image/png": "[encoded data removed]",
      "text/plain": [
       "<Figure size 420.875x360 with 1 Axes>"
      ]
     },
     "metadata": {
      "needs_background": "light"
     },
     "output_type": "display_data"
    }
   ],
   "source": [
    "sns.displot(resids, bins=bins, kde=True)"
   ]
  },
  {
   "cell_type": "code",
   "execution_count": 84,
   "metadata": {
    "ExecuteTime": {
     "end_time": "2022-03-30T20:23:17.175760Z",
     "start_time": "2022-03-30T20:23:16.717069Z"
    }
   },
   "outputs": [
    {
     "data": {
      "image/png": "[encoded data removed]",
      "text/plain": [
       "<Figure size 432x288 with 1 Axes>"
      ]
     },
     "metadata": {
      "needs_background": "light"
     },
     "output_type": "display_data"
    }
   ],
   "source": [
    "sm.qqplot(resids, line='r');"
   ]
  },
  {
   "cell_type": "code",
   "execution_count": 85,
   "metadata": {
    "ExecuteTime": {
     "end_time": "2022-03-30T20:23:17.628880Z",
     "start_time": "2022-03-30T20:23:17.184740Z"
    }
   },
   "outputs": [
    {
     "data": {
      "image/png": "[encoded data removed]",
      "text/plain": [
       "<Figure size 432x288 with 1 Axes>"
      ]
     },
     "metadata": {
      "needs_background": "light"
     },
     "output_type": "display_data"
    }
   ],
   "source": [
    "# resid plot sns.resid\n",
    "\n",
    "sns.residplot(x=X, y=y);"
   ]
  },
  {
   "cell_type": "code",
   "execution_count": 86,
   "metadata": {
    "ExecuteTime": {
     "end_time": "2022-03-30T20:23:18.203912Z",
     "start_time": "2022-03-30T20:23:17.635865Z"
    }
   },
   "outputs": [
    {
     "data": {
      "image/png": "[encoded data removed]",
      "text/plain": [
       "<Figure size 432x288 with 1 Axes>"
      ]
     },
     "metadata": {
      "needs_background": "light"
     },
     "output_type": "display_data"
    }
   ],
   "source": [
    "plt.scatter(preds, resids);"
   ]
  },
  {
   "cell_type": "code",
   "execution_count": 87,
   "metadata": {
    "ExecuteTime": {
     "end_time": "2022-03-30T20:23:18.233977Z",
     "start_time": "2022-03-30T20:23:18.214094Z"
    }
   },
   "outputs": [
    {
     "data": {
      "text/plain": [
       "DummyRegressor()"
      ]
     },
     "execution_count": 87,
     "metadata": {},
     "output_type": "execute_result"
    }
   ],
   "source": [
    "#Fit the dummy_regressor\n",
    "\n",
    "dummy_lr.fit(X_s_p,y_s_p)"
   ]
  },
  {
   "cell_type": "code",
   "execution_count": 88,
   "metadata": {
    "ExecuteTime": {
     "end_time": "2022-03-30T20:23:18.265902Z",
     "start_time": "2022-03-30T20:23:18.238962Z"
    }
   },
   "outputs": [
    {
     "data": {
      "text/plain": [
       "0.0"
      ]
     },
     "execution_count": 88,
     "metadata": {},
     "output_type": "execute_result"
    }
   ],
   "source": [
    "# Score it\n",
    "\n",
    "dummy_lr.score(X_s_p,y_s_p)"
   ]
  },
  {
   "cell_type": "code",
   "execution_count": 89,
   "metadata": {
    "ExecuteTime": {
     "end_time": "2022-03-30T20:23:18.327197Z",
     "start_time": "2022-03-30T20:23:18.270885Z"
    }
   },
   "outputs": [
    {
     "data": {
      "text/html": [
       "<table class=\"simpletable\">\n",
       "<caption>OLS Regression Results</caption>\n",
       "<tr>\n",
       "  <th>Dep. Variable:</th>          <td>price</td>      <th>  R-squared:         </th> <td>   0.485</td> \n",
       "</tr>\n",
       "<tr>\n",
       "  <th>Model:</th>                   <td>OLS</td>       <th>  Adj. R-squared:    </th> <td>   0.485</td> \n",
       "</tr>\n",
       "<tr>\n",
       "  <th>Method:</th>             <td>Least Squares</td>  <th>  F-statistic:       </th> <td>1.346e+04</td>\n",
       "</tr>\n",
       "<tr>\n",
       "  <th>Date:</th>             <td>Wed, 30 Mar 2022</td> <th>  Prob (F-statistic):</th>  <td>  0.00</td>  \n",
       "</tr>\n",
       "<tr>\n",
       "  <th>Time:</th>                 <td>16:23:18</td>     <th>  Log-Likelihood:    </th> <td> -15558.</td> \n",
       "</tr>\n",
       "<tr>\n",
       "  <th>No. Observations:</th>      <td> 14309</td>      <th>  AIC:               </th> <td>3.112e+04</td>\n",
       "</tr>\n",
       "<tr>\n",
       "  <th>Df Residuals:</th>          <td> 14307</td>      <th>  BIC:               </th> <td>3.114e+04</td>\n",
       "</tr>\n",
       "<tr>\n",
       "  <th>Df Model:</th>              <td>     1</td>      <th>                     </th>     <td> </td>    \n",
       "</tr>\n",
       "<tr>\n",
       "  <th>Covariance Type:</th>      <td>nonrobust</td>    <th>                     </th>     <td> </td>    \n",
       "</tr>\n",
       "</table>\n",
       "<table class=\"simpletable\">\n",
       "<tr>\n",
       "       <td></td>          <th>coef</th>     <th>std err</th>      <th>t</th>      <th>P>|t|</th>  <th>[0.025</th>    <th>0.975]</th>  \n",
       "</tr>\n",
       "<tr>\n",
       "  <th>Intercept</th>   <td>-1.017e-16</td> <td>    0.006</td> <td> -1.7e-14</td> <td> 1.000</td> <td>   -0.012</td> <td>    0.012</td>\n",
       "</tr>\n",
       "<tr>\n",
       "  <th>sqft_living</th> <td>    0.6963</td> <td>    0.006</td> <td>  116.035</td> <td> 0.000</td> <td>    0.685</td> <td>    0.708</td>\n",
       "</tr>\n",
       "</table>\n",
       "<table class=\"simpletable\">\n",
       "<tr>\n",
       "  <th>Omnibus:</th>       <td>9226.498</td> <th>  Durbin-Watson:     </th>  <td>   2.002</td> \n",
       "</tr>\n",
       "<tr>\n",
       "  <th>Prob(Omnibus):</th>  <td> 0.000</td>  <th>  Jarque-Bera (JB):  </th> <td>257916.983</td>\n",
       "</tr>\n",
       "<tr>\n",
       "  <th>Skew:</th>           <td> 2.659</td>  <th>  Prob(JB):          </th>  <td>    0.00</td> \n",
       "</tr>\n",
       "<tr>\n",
       "  <th>Kurtosis:</th>       <td>23.107</td>  <th>  Cond. No.          </th>  <td>    1.00</td> \n",
       "</tr>\n",
       "</table><br/><br/>Notes:<br/>[1] Standard Errors assume that the covariance matrix of the errors is correctly specified."
      ],
      "text/plain": [
       "<class 'statsmodels.iolib.summary.Summary'>\n",
       "\"\"\"\n",
       "                            OLS Regression Results                            \n",
       "==============================================================================\n",
       "Dep. Variable:                  price   R-squared:                       0.485\n",
       "Model:                            OLS   Adj. R-squared:                  0.485\n",
       "Method:                 Least Squares   F-statistic:                 1.346e+04\n",
       "Date:                Wed, 30 Mar 2022   Prob (F-statistic):               0.00\n",
       "Time:                        16:23:18   Log-Likelihood:                -15558.\n",
       "No. Observations:               14309   AIC:                         3.112e+04\n",
       "Df Residuals:                   14307   BIC:                         3.114e+04\n",
       "Df Model:                           1                                         \n",
       "Covariance Type:            nonrobust                                         \n",
       "===============================================================================\n",
       "                  coef    std err          t      P>|t|      [0.025      0.975]\n",
       "-------------------------------------------------------------------------------\n",
       "Intercept   -1.017e-16      0.006   -1.7e-14      1.000      -0.012       0.012\n",
       "sqft_living     0.6963      0.006    116.035      0.000       0.685       0.708\n",
       "==============================================================================\n",
       "Omnibus:                     9226.498   Durbin-Watson:                   2.002\n",
       "Prob(Omnibus):                  0.000   Jarque-Bera (JB):           257916.983\n",
       "Skew:                           2.659   Prob(JB):                         0.00\n",
       "Kurtosis:                      23.107   Cond. No.                         1.00\n",
       "==============================================================================\n",
       "\n",
       "Notes:\n",
       "[1] Standard Errors assume that the covariance matrix of the errors is correctly specified.\n",
       "\"\"\""
      ]
     },
     "execution_count": 89,
     "metadata": {},
     "output_type": "execute_result"
    }
   ],
   "source": [
    "# Creating a straightforward, initial model --\n",
    "# just for kicks\n",
    "simple_formula = 'price ~ sqft_living'\n",
    "simple_model = ols(formula = simple_formula,\n",
    "                   data = scaled_and_parse_df).fit()\n",
    "simple_mod_summ = simple_model.summary()\n",
    "\n",
    "simple_mod_summ"
   ]
  },
  {
   "cell_type": "code",
   "execution_count": 90,
   "metadata": {
    "ExecuteTime": {
     "end_time": "2022-03-30T20:23:18.343156Z",
     "start_time": "2022-03-30T20:23:18.331187Z"
    }
   },
   "outputs": [],
   "source": [
    "#test on our test data set"
   ]
  },
  {
   "cell_type": "markdown",
   "metadata": {},
   "source": [
    "Summary comparison between the two"
   ]
  },
  {
   "cell_type": "markdown",
   "metadata": {},
   "source": [
    "#### Multiple regression | Rework to train data"
   ]
  },
  {
   "cell_type": "markdown",
   "metadata": {},
   "source": [
    "Slowly adding in other variables"
   ]
  },
  {
   "cell_type": "code",
   "execution_count": 91,
   "metadata": {
    "ExecuteTime": {
     "end_time": "2022-03-30T20:23:19.486253Z",
     "start_time": "2022-03-30T20:23:18.348142Z"
    }
   },
   "outputs": [
    {
     "data": {
      "text/plain": [
       "<matplotlib.collections.PathCollection at 0x27453e243a0>"
      ]
     },
     "execution_count": 91,
     "metadata": {},
     "output_type": "execute_result"
    },
    {
     "data": {
      "image/png": "[encoded data removed]",
      "text/plain": [
       "<Figure size 1080x360 with 2 Axes>"
      ]
     },
     "metadata": {
      "needs_background": "light"
     },
     "output_type": "display_data"
    }
   ],
   "source": [
    "fig, ax = plt.subplots(ncols=2,figsize=(15,5))\n",
    "\n",
    "x1 = scaled_and_parse_df[['sqft_living']]\n",
    "y1 = scaled_and_parse_df[['price']]\n",
    "\n",
    "# x2 = scaled_and_parse_df[['bedrooms']]\n",
    "\n",
    "ax[0].scatter(x1, y1)\n",
    "# ax[1].scatter(x2,y1);"
   ]
  },
  {
   "cell_type": "markdown",
   "metadata": {},
   "source": [
    "#Upon looking at our scaled dataframe, we noticed that there is a house sold with 33 bedrooms for $600k\n",
    "#After considering the price sold, sqft and number of bathrooms - the # of bedrooms appears \n",
    "#to be an error of somesort\n",
    "#Since we explored bedrooms having a relatively small correlation to price, we are not too worried about this one\n",
    "#outlier being included in our scatterplot"
   ]
  },
  {
   "cell_type": "code",
   "execution_count": 92,
   "metadata": {
    "ExecuteTime": {
     "end_time": "2022-03-30T20:23:19.548138Z",
     "start_time": "2022-03-30T20:23:19.491239Z"
    }
   },
   "outputs": [
    {
     "data": {
      "text/html": [
       "<table class=\"simpletable\">\n",
       "<caption>OLS Regression Results</caption>\n",
       "<tr>\n",
       "  <th>Dep. Variable:</th>          <td>price</td>      <th>  R-squared:         </th> <td>   0.485</td> \n",
       "</tr>\n",
       "<tr>\n",
       "  <th>Model:</th>                   <td>OLS</td>       <th>  Adj. R-squared:    </th> <td>   0.485</td> \n",
       "</tr>\n",
       "<tr>\n",
       "  <th>Method:</th>             <td>Least Squares</td>  <th>  F-statistic:       </th> <td>1.346e+04</td>\n",
       "</tr>\n",
       "<tr>\n",
       "  <th>Date:</th>             <td>Wed, 30 Mar 2022</td> <th>  Prob (F-statistic):</th>  <td>  0.00</td>  \n",
       "</tr>\n",
       "<tr>\n",
       "  <th>Time:</th>                 <td>16:23:19</td>     <th>  Log-Likelihood:    </th> <td> -15558.</td> \n",
       "</tr>\n",
       "<tr>\n",
       "  <th>No. Observations:</th>      <td> 14309</td>      <th>  AIC:               </th> <td>3.112e+04</td>\n",
       "</tr>\n",
       "<tr>\n",
       "  <th>Df Residuals:</th>          <td> 14307</td>      <th>  BIC:               </th> <td>3.114e+04</td>\n",
       "</tr>\n",
       "<tr>\n",
       "  <th>Df Model:</th>              <td>     1</td>      <th>                     </th>     <td> </td>    \n",
       "</tr>\n",
       "<tr>\n",
       "  <th>Covariance Type:</th>      <td>nonrobust</td>    <th>                     </th>     <td> </td>    \n",
       "</tr>\n",
       "</table>\n",
       "<table class=\"simpletable\">\n",
       "<tr>\n",
       "       <td></td>          <th>coef</th>     <th>std err</th>      <th>t</th>      <th>P>|t|</th>  <th>[0.025</th>    <th>0.975]</th>  \n",
       "</tr>\n",
       "<tr>\n",
       "  <th>Intercept</th>   <td>-1.017e-16</td> <td>    0.006</td> <td> -1.7e-14</td> <td> 1.000</td> <td>   -0.012</td> <td>    0.012</td>\n",
       "</tr>\n",
       "<tr>\n",
       "  <th>sqft_living</th> <td>    0.6963</td> <td>    0.006</td> <td>  116.035</td> <td> 0.000</td> <td>    0.685</td> <td>    0.708</td>\n",
       "</tr>\n",
       "</table>\n",
       "<table class=\"simpletable\">\n",
       "<tr>\n",
       "  <th>Omnibus:</th>       <td>9226.498</td> <th>  Durbin-Watson:     </th>  <td>   2.002</td> \n",
       "</tr>\n",
       "<tr>\n",
       "  <th>Prob(Omnibus):</th>  <td> 0.000</td>  <th>  Jarque-Bera (JB):  </th> <td>257916.983</td>\n",
       "</tr>\n",
       "<tr>\n",
       "  <th>Skew:</th>           <td> 2.659</td>  <th>  Prob(JB):          </th>  <td>    0.00</td> \n",
       "</tr>\n",
       "<tr>\n",
       "  <th>Kurtosis:</th>       <td>23.107</td>  <th>  Cond. No.          </th>  <td>    1.00</td> \n",
       "</tr>\n",
       "</table><br/><br/>Notes:<br/>[1] Standard Errors assume that the covariance matrix of the errors is correctly specified."
      ],
      "text/plain": [
       "<class 'statsmodels.iolib.summary.Summary'>\n",
       "\"\"\"\n",
       "                            OLS Regression Results                            \n",
       "==============================================================================\n",
       "Dep. Variable:                  price   R-squared:                       0.485\n",
       "Model:                            OLS   Adj. R-squared:                  0.485\n",
       "Method:                 Least Squares   F-statistic:                 1.346e+04\n",
       "Date:                Wed, 30 Mar 2022   Prob (F-statistic):               0.00\n",
       "Time:                        16:23:19   Log-Likelihood:                -15558.\n",
       "No. Observations:               14309   AIC:                         3.112e+04\n",
       "Df Residuals:                   14307   BIC:                         3.114e+04\n",
       "Df Model:                           1                                         \n",
       "Covariance Type:            nonrobust                                         \n",
       "===============================================================================\n",
       "                  coef    std err          t      P>|t|      [0.025      0.975]\n",
       "-------------------------------------------------------------------------------\n",
       "Intercept   -1.017e-16      0.006   -1.7e-14      1.000      -0.012       0.012\n",
       "sqft_living     0.6963      0.006    116.035      0.000       0.685       0.708\n",
       "==============================================================================\n",
       "Omnibus:                     9226.498   Durbin-Watson:                   2.002\n",
       "Prob(Omnibus):                  0.000   Jarque-Bera (JB):           257916.983\n",
       "Skew:                           2.659   Prob(JB):                         0.00\n",
       "Kurtosis:                      23.107   Cond. No.                         1.00\n",
       "==============================================================================\n",
       "\n",
       "Notes:\n",
       "[1] Standard Errors assume that the covariance matrix of the errors is correctly specified.\n",
       "\"\"\""
      ]
     },
     "execution_count": 92,
     "metadata": {},
     "output_type": "execute_result"
    }
   ],
   "source": [
    "simple_formula3 = 'price ~ sqft_living'\n",
    "simple_model3 = ols(formula = simple_formula3,\n",
    "                   data = scaled_and_parse_df).fit()\n",
    "simple_mod_summ3 = simple_model3.summary()\n",
    "\n",
    "simple_mod_summ3"
   ]
  },
  {
   "cell_type": "code",
   "execution_count": 93,
   "metadata": {
    "ExecuteTime": {
     "end_time": "2022-03-30T20:23:19.593896Z",
     "start_time": "2022-03-30T20:23:19.554124Z"
    }
   },
   "outputs": [
    {
     "data": {
      "text/html": [
       "<div>\n",
       "<style scoped>\n",
       "    .dataframe tbody tr th:only-of-type {\n",
       "        vertical-align: middle;\n",
       "    }\n",
       "\n",
       "    .dataframe tbody tr th {\n",
       "        vertical-align: top;\n",
       "    }\n",
       "\n",
       "    .dataframe thead th {\n",
       "        text-align: right;\n",
       "    }\n",
       "</style>\n",
       "<table border=\"1\" class=\"dataframe\">\n",
       "  <thead>\n",
       "    <tr style=\"text-align: right;\">\n",
       "      <th></th>\n",
       "      <th>bedrooms</th>\n",
       "      <th>bathrooms</th>\n",
       "      <th>sqft_living</th>\n",
       "      <th>sqft_lot</th>\n",
       "      <th>yr_built</th>\n",
       "      <th>zipcode</th>\n",
       "      <th>price</th>\n",
       "      <th>grade_11_Excellent</th>\n",
       "      <th>grade_12_Luxury</th>\n",
       "      <th>grade_13_Mansion</th>\n",
       "      <th>grade_4_Low</th>\n",
       "      <th>grade_5_Fair</th>\n",
       "      <th>grade_6_Low_Average</th>\n",
       "      <th>grade_7_Average</th>\n",
       "      <th>grade_8_Good</th>\n",
       "      <th>grade_9_Better</th>\n",
       "      <th>view_FAIR</th>\n",
       "      <th>view_GOOD</th>\n",
       "      <th>view_NONE</th>\n",
       "    </tr>\n",
       "  </thead>\n",
       "  <tbody>\n",
       "    <tr>\n",
       "      <th>1215</th>\n",
       "      <td>5</td>\n",
       "      <td>3.25</td>\n",
       "      <td>2.21</td>\n",
       "      <td>7920</td>\n",
       "      <td>1921</td>\n",
       "      <td>98122</td>\n",
       "      <td>3.67</td>\n",
       "      <td>0.00</td>\n",
       "      <td>0.00</td>\n",
       "      <td>0.00</td>\n",
       "      <td>0.00</td>\n",
       "      <td>0.00</td>\n",
       "      <td>0.00</td>\n",
       "      <td>0.00</td>\n",
       "      <td>0.00</td>\n",
       "      <td>1.00</td>\n",
       "      <td>0.00</td>\n",
       "      <td>1.00</td>\n",
       "      <td>0.00</td>\n",
       "    </tr>\n",
       "    <tr>\n",
       "      <th>12590</th>\n",
       "      <td>3</td>\n",
       "      <td>1.75</td>\n",
       "      <td>-0.29</td>\n",
       "      <td>7194</td>\n",
       "      <td>1967</td>\n",
       "      <td>98003</td>\n",
       "      <td>-0.86</td>\n",
       "      <td>0.00</td>\n",
       "      <td>0.00</td>\n",
       "      <td>0.00</td>\n",
       "      <td>0.00</td>\n",
       "      <td>0.00</td>\n",
       "      <td>0.00</td>\n",
       "      <td>1.00</td>\n",
       "      <td>0.00</td>\n",
       "      <td>0.00</td>\n",
       "      <td>0.00</td>\n",
       "      <td>0.00</td>\n",
       "      <td>1.00</td>\n",
       "    </tr>\n",
       "    <tr>\n",
       "      <th>13720</th>\n",
       "      <td>3</td>\n",
       "      <td>1.75</td>\n",
       "      <td>-0.99</td>\n",
       "      <td>4000</td>\n",
       "      <td>1929</td>\n",
       "      <td>98118</td>\n",
       "      <td>-0.56</td>\n",
       "      <td>0.00</td>\n",
       "      <td>0.00</td>\n",
       "      <td>0.00</td>\n",
       "      <td>0.00</td>\n",
       "      <td>0.00</td>\n",
       "      <td>0.00</td>\n",
       "      <td>1.00</td>\n",
       "      <td>0.00</td>\n",
       "      <td>0.00</td>\n",
       "      <td>0.00</td>\n",
       "      <td>0.00</td>\n",
       "      <td>1.00</td>\n",
       "    </tr>\n",
       "    <tr>\n",
       "      <th>15200</th>\n",
       "      <td>3</td>\n",
       "      <td>1.00</td>\n",
       "      <td>-1.11</td>\n",
       "      <td>6164</td>\n",
       "      <td>1967</td>\n",
       "      <td>98001</td>\n",
       "      <td>-1.01</td>\n",
       "      <td>0.00</td>\n",
       "      <td>0.00</td>\n",
       "      <td>0.00</td>\n",
       "      <td>0.00</td>\n",
       "      <td>0.00</td>\n",
       "      <td>0.00</td>\n",
       "      <td>1.00</td>\n",
       "      <td>0.00</td>\n",
       "      <td>0.00</td>\n",
       "      <td>0.00</td>\n",
       "      <td>0.00</td>\n",
       "      <td>1.00</td>\n",
       "    </tr>\n",
       "    <tr>\n",
       "      <th>10730</th>\n",
       "      <td>4</td>\n",
       "      <td>2.50</td>\n",
       "      <td>0.74</td>\n",
       "      <td>13093</td>\n",
       "      <td>1989</td>\n",
       "      <td>98075</td>\n",
       "      <td>0.56</td>\n",
       "      <td>0.00</td>\n",
       "      <td>0.00</td>\n",
       "      <td>0.00</td>\n",
       "      <td>0.00</td>\n",
       "      <td>0.00</td>\n",
       "      <td>0.00</td>\n",
       "      <td>0.00</td>\n",
       "      <td>0.00</td>\n",
       "      <td>1.00</td>\n",
       "      <td>0.00</td>\n",
       "      <td>0.00</td>\n",
       "      <td>1.00</td>\n",
       "    </tr>\n",
       "  </tbody>\n",
       "</table>\n",
       "</div>"
      ],
      "text/plain": [
       "       bedrooms  bathrooms  sqft_living  sqft_lot  yr_built  zipcode  price  \\\n",
       "1215          5       3.25         2.21      7920      1921    98122   3.67   \n",
       "12590         3       1.75        -0.29      7194      1967    98003  -0.86   \n",
       "13720         3       1.75        -0.99      4000      1929    98118  -0.56   \n",
       "15200         3       1.00        -1.11      6164      1967    98001  -1.01   \n",
       "10730         4       2.50         0.74     13093      1989    98075   0.56   \n",
       "\n",
       "       grade_11_Excellent  grade_12_Luxury  grade_13_Mansion  grade_4_Low  \\\n",
       "1215                 0.00             0.00              0.00         0.00   \n",
       "12590                0.00             0.00              0.00         0.00   \n",
       "13720                0.00             0.00              0.00         0.00   \n",
       "15200                0.00             0.00              0.00         0.00   \n",
       "10730                0.00             0.00              0.00         0.00   \n",
       "\n",
       "       grade_5_Fair  grade_6_Low_Average  grade_7_Average  grade_8_Good  \\\n",
       "1215           0.00                 0.00             0.00          0.00   \n",
       "12590          0.00                 0.00             1.00          0.00   \n",
       "13720          0.00                 0.00             1.00          0.00   \n",
       "15200          0.00                 0.00             1.00          0.00   \n",
       "10730          0.00                 0.00             0.00          0.00   \n",
       "\n",
       "       grade_9_Better  view_FAIR  view_GOOD  view_NONE  \n",
       "1215             1.00       0.00       1.00       0.00  \n",
       "12590            0.00       0.00       0.00       1.00  \n",
       "13720            0.00       0.00       0.00       1.00  \n",
       "15200            0.00       0.00       0.00       1.00  \n",
       "10730            1.00       0.00       0.00       1.00  "
      ]
     },
     "execution_count": 93,
     "metadata": {},
     "output_type": "execute_result"
    }
   ],
   "source": [
    "scaled_and_parse_df.head()"
   ]
  },
  {
   "cell_type": "code",
   "execution_count": 94,
   "metadata": {
    "ExecuteTime": {
     "end_time": "2022-03-30T20:23:19.781009Z",
     "start_time": "2022-03-30T20:23:19.598880Z"
    },
    "scrolled": false
   },
   "outputs": [
    {
     "data": {
      "text/html": [
       "<table class=\"simpletable\">\n",
       "<caption>OLS Regression Results</caption>\n",
       "<tr>\n",
       "  <th>Dep. Variable:</th>          <td>price</td>      <th>  R-squared:         </th> <td>   0.613</td> \n",
       "</tr>\n",
       "<tr>\n",
       "  <th>Model:</th>                   <td>OLS</td>       <th>  Adj. R-squared:    </th> <td>   0.613</td> \n",
       "</tr>\n",
       "<tr>\n",
       "  <th>Method:</th>             <td>Least Squares</td>  <th>  F-statistic:       </th> <td>   1741.</td> \n",
       "</tr>\n",
       "<tr>\n",
       "  <th>Date:</th>             <td>Wed, 30 Mar 2022</td> <th>  Prob (F-statistic):</th>  <td>  0.00</td>  \n",
       "</tr>\n",
       "<tr>\n",
       "  <th>Time:</th>                 <td>16:23:19</td>     <th>  Log-Likelihood:    </th> <td> -13514.</td> \n",
       "</tr>\n",
       "<tr>\n",
       "  <th>No. Observations:</th>      <td> 14309</td>      <th>  AIC:               </th> <td>2.706e+04</td>\n",
       "</tr>\n",
       "<tr>\n",
       "  <th>Df Residuals:</th>          <td> 14295</td>      <th>  BIC:               </th> <td>2.716e+04</td>\n",
       "</tr>\n",
       "<tr>\n",
       "  <th>Df Model:</th>              <td>    13</td>      <th>                     </th>     <td> </td>    \n",
       "</tr>\n",
       "<tr>\n",
       "  <th>Covariance Type:</th>      <td>nonrobust</td>    <th>                     </th>     <td> </td>    \n",
       "</tr>\n",
       "</table>\n",
       "<table class=\"simpletable\">\n",
       "<tr>\n",
       "           <td></td>              <th>coef</th>     <th>std err</th>      <th>t</th>      <th>P>|t|</th>  <th>[0.025</th>    <th>0.975]</th>  \n",
       "</tr>\n",
       "<tr>\n",
       "  <th>Intercept</th>           <td>    2.2036</td> <td>    0.050</td> <td>   43.654</td> <td> 0.000</td> <td>    2.105</td> <td>    2.303</td>\n",
       "</tr>\n",
       "<tr>\n",
       "  <th>sqft_living</th>         <td>    0.3507</td> <td>    0.008</td> <td>   42.550</td> <td> 0.000</td> <td>    0.335</td> <td>    0.367</td>\n",
       "</tr>\n",
       "<tr>\n",
       "  <th>view_FAIR</th>           <td>   -1.1252</td> <td>    0.049</td> <td>  -22.966</td> <td> 0.000</td> <td>   -1.221</td> <td>   -1.029</td>\n",
       "</tr>\n",
       "<tr>\n",
       "  <th>view_GOOD</th>           <td>   -0.9717</td> <td>    0.056</td> <td>  -17.492</td> <td> 0.000</td> <td>   -1.081</td> <td>   -0.863</td>\n",
       "</tr>\n",
       "<tr>\n",
       "  <th>view_NONE</th>           <td>   -1.4872</td> <td>    0.045</td> <td>  -32.973</td> <td> 0.000</td> <td>   -1.576</td> <td>   -1.399</td>\n",
       "</tr>\n",
       "<tr>\n",
       "  <th>grade_11_Excellent</th>  <td>    0.7548</td> <td>    0.045</td> <td>   16.852</td> <td> 0.000</td> <td>    0.667</td> <td>    0.843</td>\n",
       "</tr>\n",
       "<tr>\n",
       "  <th>grade_12_Luxury</th>     <td>    2.1826</td> <td>    0.085</td> <td>   25.579</td> <td> 0.000</td> <td>    2.015</td> <td>    2.350</td>\n",
       "</tr>\n",
       "<tr>\n",
       "  <th>grade_13_Mansion</th>    <td>    5.0714</td> <td>    0.281</td> <td>   18.049</td> <td> 0.000</td> <td>    4.521</td> <td>    5.622</td>\n",
       "</tr>\n",
       "<tr>\n",
       "  <th>grade_4_Low</th>         <td>   -1.1978</td> <td>    0.151</td> <td>   -7.952</td> <td> 0.000</td> <td>   -1.493</td> <td>   -0.903</td>\n",
       "</tr>\n",
       "<tr>\n",
       "  <th>grade_5_Fair</th>        <td>   -1.1330</td> <td>    0.061</td> <td>  -18.613</td> <td> 0.000</td> <td>   -1.252</td> <td>   -1.014</td>\n",
       "</tr>\n",
       "<tr>\n",
       "  <th>grade_6_Low_Average</th> <td>   -1.0490</td> <td>    0.035</td> <td>  -29.825</td> <td> 0.000</td> <td>   -1.118</td> <td>   -0.980</td>\n",
       "</tr>\n",
       "<tr>\n",
       "  <th>grade_7_Average</th>     <td>   -0.9660</td> <td>    0.029</td> <td>  -33.382</td> <td> 0.000</td> <td>   -1.023</td> <td>   -0.909</td>\n",
       "</tr>\n",
       "<tr>\n",
       "  <th>grade_8_Good</th>        <td>   -0.8082</td> <td>    0.027</td> <td>  -29.666</td> <td> 0.000</td> <td>   -0.862</td> <td>   -0.755</td>\n",
       "</tr>\n",
       "<tr>\n",
       "  <th>grade_9_Better</th>      <td>   -0.4747</td> <td>    0.028</td> <td>  -17.178</td> <td> 0.000</td> <td>   -0.529</td> <td>   -0.421</td>\n",
       "</tr>\n",
       "</table>\n",
       "<table class=\"simpletable\">\n",
       "<tr>\n",
       "  <th>Omnibus:</th>       <td>8658.642</td> <th>  Durbin-Watson:     </th>  <td>   2.009</td> \n",
       "</tr>\n",
       "<tr>\n",
       "  <th>Prob(Omnibus):</th>  <td> 0.000</td>  <th>  Jarque-Bera (JB):  </th> <td>350585.128</td>\n",
       "</tr>\n",
       "<tr>\n",
       "  <th>Skew:</th>           <td> 2.297</td>  <th>  Prob(JB):          </th>  <td>    0.00</td> \n",
       "</tr>\n",
       "<tr>\n",
       "  <th>Kurtosis:</th>       <td>26.810</td>  <th>  Cond. No.          </th>  <td>    79.2</td> \n",
       "</tr>\n",
       "</table><br/><br/>Notes:<br/>[1] Standard Errors assume that the covariance matrix of the errors is correctly specified."
      ],
      "text/plain": [
       "<class 'statsmodels.iolib.summary.Summary'>\n",
       "\"\"\"\n",
       "                            OLS Regression Results                            \n",
       "==============================================================================\n",
       "Dep. Variable:                  price   R-squared:                       0.613\n",
       "Model:                            OLS   Adj. R-squared:                  0.613\n",
       "Method:                 Least Squares   F-statistic:                     1741.\n",
       "Date:                Wed, 30 Mar 2022   Prob (F-statistic):               0.00\n",
       "Time:                        16:23:19   Log-Likelihood:                -13514.\n",
       "No. Observations:               14309   AIC:                         2.706e+04\n",
       "Df Residuals:                   14295   BIC:                         2.716e+04\n",
       "Df Model:                          13                                         \n",
       "Covariance Type:            nonrobust                                         \n",
       "=======================================================================================\n",
       "                          coef    std err          t      P>|t|      [0.025      0.975]\n",
       "---------------------------------------------------------------------------------------\n",
       "Intercept               2.2036      0.050     43.654      0.000       2.105       2.303\n",
       "sqft_living             0.3507      0.008     42.550      0.000       0.335       0.367\n",
       "view_FAIR              -1.1252      0.049    -22.966      0.000      -1.221      -1.029\n",
       "view_GOOD              -0.9717      0.056    -17.492      0.000      -1.081      -0.863\n",
       "view_NONE              -1.4872      0.045    -32.973      0.000      -1.576      -1.399\n",
       "grade_11_Excellent      0.7548      0.045     16.852      0.000       0.667       0.843\n",
       "grade_12_Luxury         2.1826      0.085     25.579      0.000       2.015       2.350\n",
       "grade_13_Mansion        5.0714      0.281     18.049      0.000       4.521       5.622\n",
       "grade_4_Low            -1.1978      0.151     -7.952      0.000      -1.493      -0.903\n",
       "grade_5_Fair           -1.1330      0.061    -18.613      0.000      -1.252      -1.014\n",
       "grade_6_Low_Average    -1.0490      0.035    -29.825      0.000      -1.118      -0.980\n",
       "grade_7_Average        -0.9660      0.029    -33.382      0.000      -1.023      -0.909\n",
       "grade_8_Good           -0.8082      0.027    -29.666      0.000      -0.862      -0.755\n",
       "grade_9_Better         -0.4747      0.028    -17.178      0.000      -0.529      -0.421\n",
       "==============================================================================\n",
       "Omnibus:                     8658.642   Durbin-Watson:                   2.009\n",
       "Prob(Omnibus):                  0.000   Jarque-Bera (JB):           350585.128\n",
       "Skew:                           2.297   Prob(JB):                         0.00\n",
       "Kurtosis:                      26.810   Cond. No.                         79.2\n",
       "==============================================================================\n",
       "\n",
       "Notes:\n",
       "[1] Standard Errors assume that the covariance matrix of the errors is correctly specified.\n",
       "\"\"\""
      ]
     },
     "execution_count": 94,
     "metadata": {},
     "output_type": "execute_result"
    }
   ],
   "source": [
    "simple_formula4 = 'price ~ sqft_living + view_FAIR + view_GOOD +view_NONE + grade_11_Excellent + grade_12_Luxury + grade_13_Mansion + grade_4_Low + grade_5_Fair + grade_6_Low_Average + grade_7_Average + grade_8_Good+ grade_9_Better'          \n",
    "\n",
    "simple_model4 = ols(formula = simple_formula4,\n",
    "                   data = scaled_and_parse_df).fit()\n",
    "\n",
    "simple_mod_summ4 = simple_model4.summary()\n",
    "\n",
    "simple_mod_summ4"
   ]
  },
  {
   "cell_type": "markdown",
   "metadata": {},
   "source": [
    "The above model has an adjusted R-squared value of 0.623 suggesting that this model accounts for roughly ~10-15% more variance."
   ]
  },
  {
   "cell_type": "code",
   "execution_count": 95,
   "metadata": {
    "ExecuteTime": {
     "end_time": "2022-03-30T20:23:19.981526Z",
     "start_time": "2022-03-30T20:23:19.784997Z"
    }
   },
   "outputs": [
    {
     "data": {
      "text/html": [
       "<table class=\"simpletable\">\n",
       "<caption>OLS Regression Results</caption>\n",
       "<tr>\n",
       "  <th>Dep. Variable:</th>          <td>price</td>      <th>  R-squared:         </th> <td>   0.564</td> \n",
       "</tr>\n",
       "<tr>\n",
       "  <th>Model:</th>                   <td>OLS</td>       <th>  Adj. R-squared:    </th> <td>   0.563</td> \n",
       "</tr>\n",
       "<tr>\n",
       "  <th>Method:</th>             <td>Least Squares</td>  <th>  F-statistic:       </th> <td>   1540.</td> \n",
       "</tr>\n",
       "<tr>\n",
       "  <th>Date:</th>             <td>Wed, 30 Mar 2022</td> <th>  Prob (F-statistic):</th>  <td>  0.00</td>  \n",
       "</tr>\n",
       "<tr>\n",
       "  <th>Time:</th>                 <td>16:23:19</td>     <th>  Log-Likelihood:    </th> <td> -14367.</td> \n",
       "</tr>\n",
       "<tr>\n",
       "  <th>No. Observations:</th>      <td> 14309</td>      <th>  AIC:               </th> <td>2.876e+04</td>\n",
       "</tr>\n",
       "<tr>\n",
       "  <th>Df Residuals:</th>          <td> 14296</td>      <th>  BIC:               </th> <td>2.886e+04</td>\n",
       "</tr>\n",
       "<tr>\n",
       "  <th>Df Model:</th>              <td>    12</td>      <th>                     </th>     <td> </td>    \n",
       "</tr>\n",
       "<tr>\n",
       "  <th>Covariance Type:</th>      <td>nonrobust</td>    <th>                     </th>     <td> </td>    \n",
       "</tr>\n",
       "</table>\n",
       "<table class=\"simpletable\">\n",
       "<tr>\n",
       "           <td></td>              <th>coef</th>     <th>std err</th>      <th>t</th>      <th>P>|t|</th>  <th>[0.025</th>    <th>0.975]</th>  \n",
       "</tr>\n",
       "<tr>\n",
       "  <th>Intercept</th>           <td>    2.8781</td> <td>    0.051</td> <td>   56.582</td> <td> 0.000</td> <td>    2.778</td> <td>    2.978</td>\n",
       "</tr>\n",
       "<tr>\n",
       "  <th>view_FAIR</th>           <td>   -1.1857</td> <td>    0.052</td> <td>  -22.810</td> <td> 0.000</td> <td>   -1.288</td> <td>   -1.084</td>\n",
       "</tr>\n",
       "<tr>\n",
       "  <th>view_GOOD</th>           <td>   -1.0073</td> <td>    0.059</td> <td>  -17.086</td> <td> 0.000</td> <td>   -1.123</td> <td>   -0.892</td>\n",
       "</tr>\n",
       "<tr>\n",
       "  <th>view_NONE</th>           <td>   -1.6395</td> <td>    0.048</td> <td>  -34.357</td> <td> 0.000</td> <td>   -1.733</td> <td>   -1.546</td>\n",
       "</tr>\n",
       "<tr>\n",
       "  <th>grade_11_Excellent</th>  <td>    1.0632</td> <td>    0.047</td> <td>   22.661</td> <td> 0.000</td> <td>    0.971</td> <td>    1.155</td>\n",
       "</tr>\n",
       "<tr>\n",
       "  <th>grade_12_Luxury</th>     <td>    2.9069</td> <td>    0.089</td> <td>   32.754</td> <td> 0.000</td> <td>    2.733</td> <td>    3.081</td>\n",
       "</tr>\n",
       "<tr>\n",
       "  <th>grade_13_Mansion</th>    <td>    6.3303</td> <td>    0.297</td> <td>   21.345</td> <td> 0.000</td> <td>    5.749</td> <td>    6.912</td>\n",
       "</tr>\n",
       "<tr>\n",
       "  <th>grade_4_Low</th>         <td>   -2.2749</td> <td>    0.158</td> <td>  -14.436</td> <td> 0.000</td> <td>   -2.584</td> <td>   -1.966</td>\n",
       "</tr>\n",
       "<tr>\n",
       "  <th>grade_5_Fair</th>        <td>   -2.0836</td> <td>    0.060</td> <td>  -34.669</td> <td> 0.000</td> <td>   -2.201</td> <td>   -1.966</td>\n",
       "</tr>\n",
       "<tr>\n",
       "  <th>grade_6_Low_Average</th> <td>   -1.9208</td> <td>    0.030</td> <td>  -63.305</td> <td> 0.000</td> <td>   -1.980</td> <td>   -1.861</td>\n",
       "</tr>\n",
       "<tr>\n",
       "  <th>grade_7_Average</th>     <td>   -1.6445</td> <td>    0.026</td> <td>  -64.165</td> <td> 0.000</td> <td>   -1.695</td> <td>   -1.594</td>\n",
       "</tr>\n",
       "<tr>\n",
       "  <th>grade_8_Good</th>        <td>   -1.3021</td> <td>    0.026</td> <td>  -49.773</td> <td> 0.000</td> <td>   -1.353</td> <td>   -1.251</td>\n",
       "</tr>\n",
       "<tr>\n",
       "  <th>grade_9_Better</th>      <td>   -0.7164</td> <td>    0.029</td> <td>  -24.957</td> <td> 0.000</td> <td>   -0.773</td> <td>   -0.660</td>\n",
       "</tr>\n",
       "</table>\n",
       "<table class=\"simpletable\">\n",
       "<tr>\n",
       "  <th>Omnibus:</th>       <td>10003.767</td> <th>  Durbin-Watson:     </th>  <td>   2.015</td> \n",
       "</tr>\n",
       "<tr>\n",
       "  <th>Prob(Omnibus):</th>  <td> 0.000</td>   <th>  Jarque-Bera (JB):  </th> <td>592087.179</td>\n",
       "</tr>\n",
       "<tr>\n",
       "  <th>Skew:</th>           <td> 2.735</td>   <th>  Prob(JB):          </th>  <td>    0.00</td> \n",
       "</tr>\n",
       "<tr>\n",
       "  <th>Kurtosis:</th>       <td>34.035</td>   <th>  Cond. No.          </th>  <td>    78.6</td> \n",
       "</tr>\n",
       "</table><br/><br/>Notes:<br/>[1] Standard Errors assume that the covariance matrix of the errors is correctly specified."
      ],
      "text/plain": [
       "<class 'statsmodels.iolib.summary.Summary'>\n",
       "\"\"\"\n",
       "                            OLS Regression Results                            \n",
       "==============================================================================\n",
       "Dep. Variable:                  price   R-squared:                       0.564\n",
       "Model:                            OLS   Adj. R-squared:                  0.563\n",
       "Method:                 Least Squares   F-statistic:                     1540.\n",
       "Date:                Wed, 30 Mar 2022   Prob (F-statistic):               0.00\n",
       "Time:                        16:23:19   Log-Likelihood:                -14367.\n",
       "No. Observations:               14309   AIC:                         2.876e+04\n",
       "Df Residuals:                   14296   BIC:                         2.886e+04\n",
       "Df Model:                          12                                         \n",
       "Covariance Type:            nonrobust                                         \n",
       "=======================================================================================\n",
       "                          coef    std err          t      P>|t|      [0.025      0.975]\n",
       "---------------------------------------------------------------------------------------\n",
       "Intercept               2.8781      0.051     56.582      0.000       2.778       2.978\n",
       "view_FAIR              -1.1857      0.052    -22.810      0.000      -1.288      -1.084\n",
       "view_GOOD              -1.0073      0.059    -17.086      0.000      -1.123      -0.892\n",
       "view_NONE              -1.6395      0.048    -34.357      0.000      -1.733      -1.546\n",
       "grade_11_Excellent      1.0632      0.047     22.661      0.000       0.971       1.155\n",
       "grade_12_Luxury         2.9069      0.089     32.754      0.000       2.733       3.081\n",
       "grade_13_Mansion        6.3303      0.297     21.345      0.000       5.749       6.912\n",
       "grade_4_Low            -2.2749      0.158    -14.436      0.000      -2.584      -1.966\n",
       "grade_5_Fair           -2.0836      0.060    -34.669      0.000      -2.201      -1.966\n",
       "grade_6_Low_Average    -1.9208      0.030    -63.305      0.000      -1.980      -1.861\n",
       "grade_7_Average        -1.6445      0.026    -64.165      0.000      -1.695      -1.594\n",
       "grade_8_Good           -1.3021      0.026    -49.773      0.000      -1.353      -1.251\n",
       "grade_9_Better         -0.7164      0.029    -24.957      0.000      -0.773      -0.660\n",
       "==============================================================================\n",
       "Omnibus:                    10003.767   Durbin-Watson:                   2.015\n",
       "Prob(Omnibus):                  0.000   Jarque-Bera (JB):           592087.179\n",
       "Skew:                           2.735   Prob(JB):                         0.00\n",
       "Kurtosis:                      34.035   Cond. No.                         78.6\n",
       "==============================================================================\n",
       "\n",
       "Notes:\n",
       "[1] Standard Errors assume that the covariance matrix of the errors is correctly specified.\n",
       "\"\"\""
      ]
     },
     "execution_count": 95,
     "metadata": {},
     "output_type": "execute_result"
    }
   ],
   "source": [
    "simple_formula4 = 'price ~ view_FAIR + view_GOOD +view_NONE + grade_11_Excellent + grade_12_Luxury + grade_13_Mansion + grade_4_Low + grade_5_Fair + grade_6_Low_Average + grade_7_Average + grade_8_Good+ grade_9_Better'          \n",
    "\n",
    "simple_model4 = ols(formula = simple_formula4,\n",
    "                   data = scaled_and_parse_df).fit()\n",
    "\n",
    "simple_mod_summ4 = simple_model4.summary()\n",
    "\n",
    "simple_mod_summ4"
   ]
  },
  {
   "cell_type": "code",
   "execution_count": 96,
   "metadata": {
    "ExecuteTime": {
     "end_time": "2022-03-30T20:23:20.136445Z",
     "start_time": "2022-03-30T20:23:19.988508Z"
    }
   },
   "outputs": [
    {
     "data": {
      "text/html": [
       "<table class=\"simpletable\">\n",
       "<caption>OLS Regression Results</caption>\n",
       "<tr>\n",
       "  <th>Dep. Variable:</th>          <td>price</td>      <th>  R-squared:         </th> <td>   0.574</td> \n",
       "</tr>\n",
       "<tr>\n",
       "  <th>Model:</th>                   <td>OLS</td>       <th>  Adj. R-squared:    </th> <td>   0.574</td> \n",
       "</tr>\n",
       "<tr>\n",
       "  <th>Method:</th>             <td>Least Squares</td>  <th>  F-statistic:       </th> <td>   1927.</td> \n",
       "</tr>\n",
       "<tr>\n",
       "  <th>Date:</th>             <td>Wed, 30 Mar 2022</td> <th>  Prob (F-statistic):</th>  <td>  0.00</td>  \n",
       "</tr>\n",
       "<tr>\n",
       "  <th>Time:</th>                 <td>16:23:20</td>     <th>  Log-Likelihood:    </th> <td> -14198.</td> \n",
       "</tr>\n",
       "<tr>\n",
       "  <th>No. Observations:</th>      <td> 14309</td>      <th>  AIC:               </th> <td>2.842e+04</td>\n",
       "</tr>\n",
       "<tr>\n",
       "  <th>Df Residuals:</th>          <td> 14298</td>      <th>  BIC:               </th> <td>2.850e+04</td>\n",
       "</tr>\n",
       "<tr>\n",
       "  <th>Df Model:</th>              <td>    10</td>      <th>                     </th>     <td> </td>    \n",
       "</tr>\n",
       "<tr>\n",
       "  <th>Covariance Type:</th>      <td>nonrobust</td>    <th>                     </th>     <td> </td>    \n",
       "</tr>\n",
       "</table>\n",
       "<table class=\"simpletable\">\n",
       "<tr>\n",
       "           <td></td>              <th>coef</th>     <th>std err</th>      <th>t</th>      <th>P>|t|</th>  <th>[0.025</th>    <th>0.975]</th>  \n",
       "</tr>\n",
       "<tr>\n",
       "  <th>Intercept</th>           <td>    0.8148</td> <td>    0.027</td> <td>   30.074</td> <td> 0.000</td> <td>    0.762</td> <td>    0.868</td>\n",
       "</tr>\n",
       "<tr>\n",
       "  <th>sqft_living</th>         <td>    0.3899</td> <td>    0.009</td> <td>   45.552</td> <td> 0.000</td> <td>    0.373</td> <td>    0.407</td>\n",
       "</tr>\n",
       "<tr>\n",
       "  <th>grade_11_Excellent</th>  <td>    0.8231</td> <td>    0.047</td> <td>   17.538</td> <td> 0.000</td> <td>    0.731</td> <td>    0.915</td>\n",
       "</tr>\n",
       "<tr>\n",
       "  <th>grade_12_Luxury</th>     <td>    2.4982</td> <td>    0.089</td> <td>   28.116</td> <td> 0.000</td> <td>    2.324</td> <td>    2.672</td>\n",
       "</tr>\n",
       "<tr>\n",
       "  <th>grade_13_Mansion</th>    <td>    5.0148</td> <td>    0.295</td> <td>   17.020</td> <td> 0.000</td> <td>    4.437</td> <td>    5.592</td>\n",
       "</tr>\n",
       "<tr>\n",
       "  <th>grade_4_Low</th>         <td>   -1.1950</td> <td>    0.158</td> <td>   -7.565</td> <td> 0.000</td> <td>   -1.505</td> <td>   -0.885</td>\n",
       "</tr>\n",
       "<tr>\n",
       "  <th>grade_5_Fair</th>        <td>   -1.1372</td> <td>    0.064</td> <td>  -17.812</td> <td> 0.000</td> <td>   -1.262</td> <td>   -1.012</td>\n",
       "</tr>\n",
       "<tr>\n",
       "  <th>grade_6_Low_Average</th> <td>   -1.0886</td> <td>    0.037</td> <td>  -29.524</td> <td> 0.000</td> <td>   -1.161</td> <td>   -1.016</td>\n",
       "</tr>\n",
       "<tr>\n",
       "  <th>grade_7_Average</th>     <td>   -1.0244</td> <td>    0.030</td> <td>  -33.804</td> <td> 0.000</td> <td>   -1.084</td> <td>   -0.965</td>\n",
       "</tr>\n",
       "<tr>\n",
       "  <th>grade_8_Good</th>        <td>   -0.8569</td> <td>    0.029</td> <td>  -30.029</td> <td> 0.000</td> <td>   -0.913</td> <td>   -0.801</td>\n",
       "</tr>\n",
       "<tr>\n",
       "  <th>grade_9_Better</th>      <td>   -0.5067</td> <td>    0.029</td> <td>  -17.492</td> <td> 0.000</td> <td>   -0.564</td> <td>   -0.450</td>\n",
       "</tr>\n",
       "</table>\n",
       "<table class=\"simpletable\">\n",
       "<tr>\n",
       "  <th>Omnibus:</th>       <td>9217.783</td> <th>  Durbin-Watson:     </th>  <td>   2.005</td> \n",
       "</tr>\n",
       "<tr>\n",
       "  <th>Prob(Omnibus):</th>  <td> 0.000</td>  <th>  Jarque-Bera (JB):  </th> <td>332869.043</td>\n",
       "</tr>\n",
       "<tr>\n",
       "  <th>Skew:</th>           <td> 2.566</td>  <th>  Prob(JB):          </th>  <td>    0.00</td> \n",
       "</tr>\n",
       "<tr>\n",
       "  <th>Kurtosis:</th>       <td>26.065</td>  <th>  Cond. No.          </th>  <td>    61.8</td> \n",
       "</tr>\n",
       "</table><br/><br/>Notes:<br/>[1] Standard Errors assume that the covariance matrix of the errors is correctly specified."
      ],
      "text/plain": [
       "<class 'statsmodels.iolib.summary.Summary'>\n",
       "\"\"\"\n",
       "                            OLS Regression Results                            \n",
       "==============================================================================\n",
       "Dep. Variable:                  price   R-squared:                       0.574\n",
       "Model:                            OLS   Adj. R-squared:                  0.574\n",
       "Method:                 Least Squares   F-statistic:                     1927.\n",
       "Date:                Wed, 30 Mar 2022   Prob (F-statistic):               0.00\n",
       "Time:                        16:23:20   Log-Likelihood:                -14198.\n",
       "No. Observations:               14309   AIC:                         2.842e+04\n",
       "Df Residuals:                   14298   BIC:                         2.850e+04\n",
       "Df Model:                          10                                         \n",
       "Covariance Type:            nonrobust                                         \n",
       "=======================================================================================\n",
       "                          coef    std err          t      P>|t|      [0.025      0.975]\n",
       "---------------------------------------------------------------------------------------\n",
       "Intercept               0.8148      0.027     30.074      0.000       0.762       0.868\n",
       "sqft_living             0.3899      0.009     45.552      0.000       0.373       0.407\n",
       "grade_11_Excellent      0.8231      0.047     17.538      0.000       0.731       0.915\n",
       "grade_12_Luxury         2.4982      0.089     28.116      0.000       2.324       2.672\n",
       "grade_13_Mansion        5.0148      0.295     17.020      0.000       4.437       5.592\n",
       "grade_4_Low            -1.1950      0.158     -7.565      0.000      -1.505      -0.885\n",
       "grade_5_Fair           -1.1372      0.064    -17.812      0.000      -1.262      -1.012\n",
       "grade_6_Low_Average    -1.0886      0.037    -29.524      0.000      -1.161      -1.016\n",
       "grade_7_Average        -1.0244      0.030    -33.804      0.000      -1.084      -0.965\n",
       "grade_8_Good           -0.8569      0.029    -30.029      0.000      -0.913      -0.801\n",
       "grade_9_Better         -0.5067      0.029    -17.492      0.000      -0.564      -0.450\n",
       "==============================================================================\n",
       "Omnibus:                     9217.783   Durbin-Watson:                   2.005\n",
       "Prob(Omnibus):                  0.000   Jarque-Bera (JB):           332869.043\n",
       "Skew:                           2.566   Prob(JB):                         0.00\n",
       "Kurtosis:                      26.065   Cond. No.                         61.8\n",
       "==============================================================================\n",
       "\n",
       "Notes:\n",
       "[1] Standard Errors assume that the covariance matrix of the errors is correctly specified.\n",
       "\"\"\""
      ]
     },
     "execution_count": 96,
     "metadata": {},
     "output_type": "execute_result"
    }
   ],
   "source": [
    "simple_formula4 = 'price ~ sqft_living + grade_11_Excellent + grade_12_Luxury + grade_13_Mansion + grade_4_Low + grade_5_Fair + grade_6_Low_Average + grade_7_Average + grade_8_Good+ grade_9_Better'          \n",
    "\n",
    "simple_model4 = ols(formula = simple_formula4,\n",
    "                   data = scaled_and_parse_df).fit()\n",
    "\n",
    "simple_mod_summ4 = simple_model4.summary()\n",
    "\n",
    "simple_mod_summ4"
   ]
  },
  {
   "cell_type": "code",
   "execution_count": 97,
   "metadata": {
    "ExecuteTime": {
     "end_time": "2022-03-30T20:23:20.229789Z",
     "start_time": "2022-03-30T20:23:20.140437Z"
    }
   },
   "outputs": [
    {
     "data": {
      "text/html": [
       "<table class=\"simpletable\">\n",
       "<caption>OLS Regression Results</caption>\n",
       "<tr>\n",
       "  <th>Dep. Variable:</th>          <td>price</td>      <th>  R-squared:         </th> <td>   0.537</td> \n",
       "</tr>\n",
       "<tr>\n",
       "  <th>Model:</th>                   <td>OLS</td>       <th>  Adj. R-squared:    </th> <td>   0.537</td> \n",
       "</tr>\n",
       "<tr>\n",
       "  <th>Method:</th>             <td>Least Squares</td>  <th>  F-statistic:       </th> <td>   4149.</td> \n",
       "</tr>\n",
       "<tr>\n",
       "  <th>Date:</th>             <td>Wed, 30 Mar 2022</td> <th>  Prob (F-statistic):</th>  <td>  0.00</td>  \n",
       "</tr>\n",
       "<tr>\n",
       "  <th>Time:</th>                 <td>16:23:20</td>     <th>  Log-Likelihood:    </th> <td> -14793.</td> \n",
       "</tr>\n",
       "<tr>\n",
       "  <th>No. Observations:</th>      <td> 14309</td>      <th>  AIC:               </th> <td>2.960e+04</td>\n",
       "</tr>\n",
       "<tr>\n",
       "  <th>Df Residuals:</th>          <td> 14304</td>      <th>  BIC:               </th> <td>2.963e+04</td>\n",
       "</tr>\n",
       "<tr>\n",
       "  <th>Df Model:</th>              <td>     4</td>      <th>                     </th>     <td> </td>    \n",
       "</tr>\n",
       "<tr>\n",
       "  <th>Covariance Type:</th>      <td>nonrobust</td>    <th>                     </th>     <td> </td>    \n",
       "</tr>\n",
       "</table>\n",
       "<table class=\"simpletable\">\n",
       "<tr>\n",
       "       <td></td>          <th>coef</th>     <th>std err</th>      <th>t</th>      <th>P>|t|</th>  <th>[0.025</th>    <th>0.975]</th>  \n",
       "</tr>\n",
       "<tr>\n",
       "  <th>Intercept</th>   <td>    1.6623</td> <td>    0.048</td> <td>   34.406</td> <td> 0.000</td> <td>    1.568</td> <td>    1.757</td>\n",
       "</tr>\n",
       "<tr>\n",
       "  <th>sqft_living</th> <td>    0.6316</td> <td>    0.006</td> <td>  106.256</td> <td> 0.000</td> <td>    0.620</td> <td>    0.643</td>\n",
       "</tr>\n",
       "<tr>\n",
       "  <th>view_FAIR</th>   <td>   -1.3355</td> <td>    0.053</td> <td>  -25.161</td> <td> 0.000</td> <td>   -1.440</td> <td>   -1.231</td>\n",
       "</tr>\n",
       "<tr>\n",
       "  <th>view_GOOD</th>   <td>   -1.1213</td> <td>    0.060</td> <td>  -18.574</td> <td> 0.000</td> <td>   -1.240</td> <td>   -1.003</td>\n",
       "</tr>\n",
       "<tr>\n",
       "  <th>view_NONE</th>   <td>   -1.7249</td> <td>    0.049</td> <td>  -35.358</td> <td> 0.000</td> <td>   -1.821</td> <td>   -1.629</td>\n",
       "</tr>\n",
       "</table>\n",
       "<table class=\"simpletable\">\n",
       "<tr>\n",
       "  <th>Omnibus:</th>       <td>8549.060</td> <th>  Durbin-Watson:     </th>  <td>   2.008</td> \n",
       "</tr>\n",
       "<tr>\n",
       "  <th>Prob(Omnibus):</th>  <td> 0.000</td>  <th>  Jarque-Bera (JB):  </th> <td>255622.423</td>\n",
       "</tr>\n",
       "<tr>\n",
       "  <th>Skew:</th>           <td> 2.353</td>  <th>  Prob(JB):          </th>  <td>    0.00</td> \n",
       "</tr>\n",
       "<tr>\n",
       "  <th>Kurtosis:</th>       <td>23.164</td>  <th>  Cond. No.          </th>  <td>    23.6</td> \n",
       "</tr>\n",
       "</table><br/><br/>Notes:<br/>[1] Standard Errors assume that the covariance matrix of the errors is correctly specified."
      ],
      "text/plain": [
       "<class 'statsmodels.iolib.summary.Summary'>\n",
       "\"\"\"\n",
       "                            OLS Regression Results                            \n",
       "==============================================================================\n",
       "Dep. Variable:                  price   R-squared:                       0.537\n",
       "Model:                            OLS   Adj. R-squared:                  0.537\n",
       "Method:                 Least Squares   F-statistic:                     4149.\n",
       "Date:                Wed, 30 Mar 2022   Prob (F-statistic):               0.00\n",
       "Time:                        16:23:20   Log-Likelihood:                -14793.\n",
       "No. Observations:               14309   AIC:                         2.960e+04\n",
       "Df Residuals:                   14304   BIC:                         2.963e+04\n",
       "Df Model:                           4                                         \n",
       "Covariance Type:            nonrobust                                         \n",
       "===============================================================================\n",
       "                  coef    std err          t      P>|t|      [0.025      0.975]\n",
       "-------------------------------------------------------------------------------\n",
       "Intercept       1.6623      0.048     34.406      0.000       1.568       1.757\n",
       "sqft_living     0.6316      0.006    106.256      0.000       0.620       0.643\n",
       "view_FAIR      -1.3355      0.053    -25.161      0.000      -1.440      -1.231\n",
       "view_GOOD      -1.1213      0.060    -18.574      0.000      -1.240      -1.003\n",
       "view_NONE      -1.7249      0.049    -35.358      0.000      -1.821      -1.629\n",
       "==============================================================================\n",
       "Omnibus:                     8549.060   Durbin-Watson:                   2.008\n",
       "Prob(Omnibus):                  0.000   Jarque-Bera (JB):           255622.423\n",
       "Skew:                           2.353   Prob(JB):                         0.00\n",
       "Kurtosis:                      23.164   Cond. No.                         23.6\n",
       "==============================================================================\n",
       "\n",
       "Notes:\n",
       "[1] Standard Errors assume that the covariance matrix of the errors is correctly specified.\n",
       "\"\"\""
      ]
     },
     "execution_count": 97,
     "metadata": {},
     "output_type": "execute_result"
    }
   ],
   "source": [
    "simple_formula4 = 'price ~ sqft_living + view_FAIR + view_GOOD + view_NONE'\n",
    "\n",
    "simple_model4 = ols(formula=simple_formula4,\n",
    "                    data=scaled_and_parse_df).fit()\n",
    "\n",
    "simple_mod_summ4 = simple_model4.summary()\n",
    "\n",
    "simple_mod_summ4"
   ]
  },
  {
   "cell_type": "markdown",
   "metadata": {},
   "source": [
    "It appears that our model is the strongest when we are comparing `sqft_living` + `view` + `grade` with an adjusted R-squared of 0.623.\n"
   ]
  },
  {
   "cell_type": "code",
   "execution_count": null,
   "metadata": {},
   "outputs": [],
   "source": []
  },
  {
   "cell_type": "markdown",
   "metadata": {},
   "source": [
    "# Potential Next Steps"
   ]
  },
  {
   "cell_type": "markdown",
   "metadata": {},
   "source": [
    "- `bathrooms` and `bedrooms` - they are collinear with variables like `sqft_living`, which prevented us from including them in our model, but they might be useful avenues for further exploration.\n",
    "- `waterfront` - our EDA demonstrated a significant difference in `price` between homes with waterfront views vs. homes without; it may be worth further exploring what development opportunities exist in waterfront areas.\n",
    "- `zipcode` - taking a look at what neighborhoods/geographic areas yield high sale prices.\n",
    "    - Look at interaction items: if homes with `EXCELLENT` views are concentrated in certain areas, perhaps."
   ]
  },
  {
   "cell_type": "code",
   "execution_count": 98,
   "metadata": {
    "ExecuteTime": {
     "end_time": "2022-03-30T20:23:20.245272Z",
     "start_time": "2022-03-30T20:23:20.235481Z"
    }
   },
   "outputs": [],
   "source": [
    "# Log transform `sqft_living` column\n",
    "# df_copy['sqft_living'] = np.log(df_copy['sqft_living'])"
   ]
  },
  {
   "cell_type": "code",
   "execution_count": 99,
   "metadata": {
    "ExecuteTime": {
     "end_time": "2022-03-30T20:23:20.261229Z",
     "start_time": "2022-03-30T20:23:20.250259Z"
    }
   },
   "outputs": [],
   "source": [
    "# Scale `bathrooms` column on 0 to 1 min-max\n",
    "# mms = MinMaxScaler()\n",
    "# df_copy[['bathrooms']] = mms.fit_transform(df_copy[['bathrooms']])"
   ]
  }
 ],
 "metadata": {
  "kernelspec": {
   "display_name": "Python (learn-env)",
   "language": "python",
   "name": "learn-env"
  },
  "language_info": {
   "codemirror_mode": {
    "name": "ipython",
    "version": 3
   },
   "file_extension": ".py",
   "mimetype": "text/x-python",
   "name": "python",
   "nbconvert_exporter": "python",
   "pygments_lexer": "ipython3",
   "version": "3.8.5"
  },
  "toc": {
   "base_numbering": 1,
   "nav_menu": {},
   "number_sections": true,
   "sideBar": true,
   "skip_h1_title": false,
   "title_cell": "Table of Contents",
   "title_sidebar": "Contents",
   "toc_cell": false,
   "toc_position": {
    "height": "calc(100% - 180px)",
    "left": "10px",
    "top": "150px",
    "width": "266px"
   },
   "toc_section_display": true,
   "toc_window_display": false
  },
  "varInspector": {
   "cols": {
    "lenName": 16,
    "lenType": 16,
    "lenVar": 40
   },
   "kernels_config": {
    "python": {
     "delete_cmd_postfix": "",
     "delete_cmd_prefix": "del ",
     "library": "var_list.py",
     "varRefreshCmd": "print(var_dic_list())"
    },
    "r": {
     "delete_cmd_postfix": ") ",
     "delete_cmd_prefix": "rm(",
     "library": "var_list.r",
     "varRefreshCmd": "cat(var_dic_list()) "
    }
   },
   "position": {
    "height": "293.844px",
    "left": "910px",
    "right": "20px",
    "top": "120px",
    "width": "350px"
   },
   "types_to_exclude": [
    "module",
    "function",
    "builtin_function_or_method",
    "instance",
    "_Feature"
   ],
   "window_display": false
  }
 },
 "nbformat": 4,
 "nbformat_minor": 4
}
