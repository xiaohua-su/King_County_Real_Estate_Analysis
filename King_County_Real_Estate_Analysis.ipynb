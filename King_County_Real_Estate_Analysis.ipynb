{
 "cells": [
  {
   "cell_type": "markdown",
   "metadata": {},
   "source": [
    "# Analysis of Real Estate Prices and Features in King County, Seattle "
   ]
  },
  {
   "cell_type": "markdown",
   "metadata": {},
   "source": [
    "![img](./images/kc_header.png)\n",
    "\n",
    "(image courtesy of [beautifulwashington.com](https://beautifulwashington.com/king-county.html))"
   ]
  },
  {
   "cell_type": "markdown",
   "metadata": {},
   "source": [
    "**Authors / Contributors:**\n",
    "\n",
    "- Luke Dowker\n",
    "- Jawwad Siddiqui\n",
    "- Xiaohua Su"
   ]
  },
  {
   "cell_type": "markdown",
   "metadata": {},
   "source": [
    "# Overview"
   ]
  },
  {
   "cell_type": "markdown",
   "metadata": {},
   "source": [
    "The COVID-19 pandemic has thrust housing markets across the country into **perpetual \"sellers' market\" status**, and Seattle, as one of the United States' most rapidly growing cities, is no different. "
   ]
  },
  {
   "cell_type": "markdown",
   "metadata": {},
   "source": [
    "**Recommendations:**\n",
    "\n",
    "1. `sqft_living` correlates with price - but there's no need to go **huge**!\n",
    "2. Build homes that feature a scenic `view` whenever possible!\n",
    "3. Ensure the material `grade` of the home is high-quality!"
   ]
  },
  {
   "cell_type": "markdown",
   "metadata": {},
   "source": [
    "# Business Problem"
   ]
  },
  {
   "cell_type": "markdown",
   "metadata": {},
   "source": [
    "UNIQUE Home Construction, LLC is a home building company that specializes in **new builds** and wants to know which **attributes** of a home can predict positive effects on the property's **sale price**. They would like to know which of these home attributes results in the highest sales price.  These aspects of a property will help determine which attributes to **focus on** when constructing new homes."
   ]
  },
  {
   "cell_type": "markdown",
   "metadata": {},
   "source": [
    "# Data Investigation and Cleaning"
   ]
  },
  {
   "cell_type": "markdown",
   "metadata": {},
   "source": [
    "We kick things off by importing all necessary libraries and packages."
   ]
  },
  {
   "cell_type": "code",
   "execution_count": 1,
   "metadata": {
    "ExecuteTime": {
     "end_time": "2022-04-01T19:00:28.876227Z",
     "start_time": "2022-04-01T19:00:26.429953Z"
    }
   },
   "outputs": [],
   "source": [
    "import pandas as pd\n",
    "import numpy as np\n",
    "import matplotlib.pyplot as plt\n",
    "from matplotlib import ticker\n",
    "import seaborn as sns\n",
    "from scipy import stats\n",
    "\n",
    "from sklearn.preprocessing import OneHotEncoder, StandardScaler\n",
    "from sklearn.datasets import make_regression\n",
    "from sklearn.linear_model import LinearRegression\n",
    "from sklearn.dummy import DummyRegressor\n",
    "import sklearn.metrics as metrics\n",
    "from sklearn.metrics import r2_score\n",
    "from sklearn.compose import ColumnTransformer\n",
    "from sklearn.metrics import mean_squared_error\n",
    "\n",
    "# from random import gauss\n",
    "# from mpl_toolkits.mplot3d import Axes3D\n",
    "\n",
    "from statsmodels.formula.api import ols\n",
    "import statsmodels.api as sm\n",
    "\n",
    "from statsmodels.stats.multicomp import pairwise_tukeyhsd\n",
    "from sklearn.model_selection import train_test_split\n",
    "\n",
    "%matplotlib inline"
   ]
  },
  {
   "cell_type": "code",
   "execution_count": 2,
   "metadata": {
    "ExecuteTime": {
     "end_time": "2022-04-01T19:00:28.907733Z",
     "start_time": "2022-04-01T19:00:28.882900Z"
    }
   },
   "outputs": [],
   "source": [
    "# Shows *all* columns in dataframe, i.e. does not truncate horizontally\n",
    "pd.set_option('display.max_columns', None)\n",
    "\n",
    "# Converts from scientific notation to standard form (applied to every df in\n",
    "# this notebook) and rounds to two decimal places\n",
    "pd.set_option('display.float_format', lambda x: '%.2f' % x)"
   ]
  },
  {
   "cell_type": "markdown",
   "metadata": {},
   "source": [
    "Below, we read in the data and check out some of its basic features: column names, null values, data types, etc."
   ]
  },
  {
   "cell_type": "code",
   "execution_count": 3,
   "metadata": {
    "ExecuteTime": {
     "end_time": "2022-04-01T19:00:28.970752Z",
     "start_time": "2022-04-01T19:00:28.910730Z"
    },
    "scrolled": true
   },
   "outputs": [],
   "source": [
    "# Reading in .csv file, creating initial pandas dataframe\n",
    "df = pd.read_csv('data/kc_house_data.csv')"
   ]
  },
  {
   "cell_type": "code",
   "execution_count": 4,
   "metadata": {
    "ExecuteTime": {
     "end_time": "2022-04-01T19:00:28.986319Z",
     "start_time": "2022-04-01T19:00:28.971715Z"
    }
   },
   "outputs": [
    {
     "data": {
      "text/plain": [
       "Index(['id', 'date', 'price', 'bedrooms', 'bathrooms', 'sqft_living',\n",
       "       'sqft_lot', 'floors', 'waterfront', 'view', 'condition', 'grade',\n",
       "       'sqft_above', 'sqft_basement', 'yr_built', 'yr_renovated', 'zipcode',\n",
       "       'lat', 'long', 'sqft_living15', 'sqft_lot15'],\n",
       "      dtype='object')"
      ]
     },
     "execution_count": 4,
     "metadata": {},
     "output_type": "execute_result"
    }
   ],
   "source": [
    "# Listing out column names\n",
    "df.columns"
   ]
  },
  {
   "cell_type": "code",
   "execution_count": 5,
   "metadata": {
    "ExecuteTime": {
     "end_time": "2022-04-01T19:00:29.033884Z",
     "start_time": "2022-04-01T19:00:28.996257Z"
    }
   },
   "outputs": [
    {
     "name": "stdout",
     "output_type": "stream",
     "text": [
      "<class 'pandas.core.frame.DataFrame'>\n",
      "RangeIndex: 21597 entries, 0 to 21596\n",
      "Data columns (total 21 columns):\n",
      " #   Column         Non-Null Count  Dtype  \n",
      "---  ------         --------------  -----  \n",
      " 0   id             21597 non-null  int64  \n",
      " 1   date           21597 non-null  object \n",
      " 2   price          21597 non-null  float64\n",
      " 3   bedrooms       21597 non-null  int64  \n",
      " 4   bathrooms      21597 non-null  float64\n",
      " 5   sqft_living    21597 non-null  int64  \n",
      " 6   sqft_lot       21597 non-null  int64  \n",
      " 7   floors         21597 non-null  float64\n",
      " 8   waterfront     19221 non-null  object \n",
      " 9   view           21534 non-null  object \n",
      " 10  condition      21597 non-null  object \n",
      " 11  grade          21597 non-null  object \n",
      " 12  sqft_above     21597 non-null  int64  \n",
      " 13  sqft_basement  21597 non-null  object \n",
      " 14  yr_built       21597 non-null  int64  \n",
      " 15  yr_renovated   17755 non-null  float64\n",
      " 16  zipcode        21597 non-null  int64  \n",
      " 17  lat            21597 non-null  float64\n",
      " 18  long           21597 non-null  float64\n",
      " 19  sqft_living15  21597 non-null  int64  \n",
      " 20  sqft_lot15     21597 non-null  int64  \n",
      "dtypes: float64(6), int64(9), object(6)\n",
      "memory usage: 3.5+ MB\n"
     ]
    }
   ],
   "source": [
    "# Checking datatypes and null value counts\n",
    "df.info()"
   ]
  },
  {
   "cell_type": "markdown",
   "metadata": {},
   "source": [
    "**Two components** of this `info` printout that we can immediately identify as problems we may need to address:\n",
    "\n",
    "1. Columns currently coded as datatype `object`...\n",
    "\n",
    "    - `date`\n",
    "    - `waterfront`\n",
    "    - `view`\n",
    "    - `condition`\n",
    "    - `grade`\n",
    "    - `sqft_basement`\n",
    "\n",
    "\n",
    "2. Columns currently containing null values...\n",
    "\n",
    "    - `waterfront`\n",
    "    - `view`\n",
    "    - `yr_renovated`"
   ]
  },
  {
   "cell_type": "markdown",
   "metadata": {},
   "source": [
    "## Initial analysis of descriptive statistics"
   ]
  },
  {
   "cell_type": "code",
   "execution_count": 6,
   "metadata": {
    "ExecuteTime": {
     "end_time": "2022-04-01T19:00:29.095774Z",
     "start_time": "2022-04-01T19:00:29.037903Z"
    },
    "scrolled": false
   },
   "outputs": [
    {
     "data": {
      "text/html": [
       "<div>\n",
       "<style scoped>\n",
       "    .dataframe tbody tr th:only-of-type {\n",
       "        vertical-align: middle;\n",
       "    }\n",
       "\n",
       "    .dataframe tbody tr th {\n",
       "        vertical-align: top;\n",
       "    }\n",
       "\n",
       "    .dataframe thead th {\n",
       "        text-align: right;\n",
       "    }\n",
       "</style>\n",
       "<table border=\"1\" class=\"dataframe\">\n",
       "  <thead>\n",
       "    <tr style=\"text-align: right;\">\n",
       "      <th></th>\n",
       "      <th>id</th>\n",
       "      <th>price</th>\n",
       "      <th>bedrooms</th>\n",
       "      <th>bathrooms</th>\n",
       "      <th>sqft_living</th>\n",
       "      <th>sqft_lot</th>\n",
       "      <th>floors</th>\n",
       "      <th>sqft_above</th>\n",
       "      <th>yr_built</th>\n",
       "      <th>yr_renovated</th>\n",
       "      <th>zipcode</th>\n",
       "      <th>lat</th>\n",
       "      <th>long</th>\n",
       "      <th>sqft_living15</th>\n",
       "      <th>sqft_lot15</th>\n",
       "    </tr>\n",
       "  </thead>\n",
       "  <tbody>\n",
       "    <tr>\n",
       "      <th>count</th>\n",
       "      <td>21597.00</td>\n",
       "      <td>21597.00</td>\n",
       "      <td>21597.00</td>\n",
       "      <td>21597.00</td>\n",
       "      <td>21597.00</td>\n",
       "      <td>21597.00</td>\n",
       "      <td>21597.00</td>\n",
       "      <td>21597.00</td>\n",
       "      <td>21597.00</td>\n",
       "      <td>17755.00</td>\n",
       "      <td>21597.00</td>\n",
       "      <td>21597.00</td>\n",
       "      <td>21597.00</td>\n",
       "      <td>21597.00</td>\n",
       "      <td>21597.00</td>\n",
       "    </tr>\n",
       "    <tr>\n",
       "      <th>mean</th>\n",
       "      <td>4580474287.77</td>\n",
       "      <td>540296.57</td>\n",
       "      <td>3.37</td>\n",
       "      <td>2.12</td>\n",
       "      <td>2080.32</td>\n",
       "      <td>15099.41</td>\n",
       "      <td>1.49</td>\n",
       "      <td>1788.60</td>\n",
       "      <td>1971.00</td>\n",
       "      <td>83.64</td>\n",
       "      <td>98077.95</td>\n",
       "      <td>47.56</td>\n",
       "      <td>-122.21</td>\n",
       "      <td>1986.62</td>\n",
       "      <td>12758.28</td>\n",
       "    </tr>\n",
       "    <tr>\n",
       "      <th>std</th>\n",
       "      <td>2876735715.75</td>\n",
       "      <td>367368.14</td>\n",
       "      <td>0.93</td>\n",
       "      <td>0.77</td>\n",
       "      <td>918.11</td>\n",
       "      <td>41412.64</td>\n",
       "      <td>0.54</td>\n",
       "      <td>827.76</td>\n",
       "      <td>29.38</td>\n",
       "      <td>399.95</td>\n",
       "      <td>53.51</td>\n",
       "      <td>0.14</td>\n",
       "      <td>0.14</td>\n",
       "      <td>685.23</td>\n",
       "      <td>27274.44</td>\n",
       "    </tr>\n",
       "    <tr>\n",
       "      <th>min</th>\n",
       "      <td>1000102.00</td>\n",
       "      <td>78000.00</td>\n",
       "      <td>1.00</td>\n",
       "      <td>0.50</td>\n",
       "      <td>370.00</td>\n",
       "      <td>520.00</td>\n",
       "      <td>1.00</td>\n",
       "      <td>370.00</td>\n",
       "      <td>1900.00</td>\n",
       "      <td>0.00</td>\n",
       "      <td>98001.00</td>\n",
       "      <td>47.16</td>\n",
       "      <td>-122.52</td>\n",
       "      <td>399.00</td>\n",
       "      <td>651.00</td>\n",
       "    </tr>\n",
       "    <tr>\n",
       "      <th>25%</th>\n",
       "      <td>2123049175.00</td>\n",
       "      <td>322000.00</td>\n",
       "      <td>3.00</td>\n",
       "      <td>1.75</td>\n",
       "      <td>1430.00</td>\n",
       "      <td>5040.00</td>\n",
       "      <td>1.00</td>\n",
       "      <td>1190.00</td>\n",
       "      <td>1951.00</td>\n",
       "      <td>0.00</td>\n",
       "      <td>98033.00</td>\n",
       "      <td>47.47</td>\n",
       "      <td>-122.33</td>\n",
       "      <td>1490.00</td>\n",
       "      <td>5100.00</td>\n",
       "    </tr>\n",
       "    <tr>\n",
       "      <th>50%</th>\n",
       "      <td>3904930410.00</td>\n",
       "      <td>450000.00</td>\n",
       "      <td>3.00</td>\n",
       "      <td>2.25</td>\n",
       "      <td>1910.00</td>\n",
       "      <td>7618.00</td>\n",
       "      <td>1.50</td>\n",
       "      <td>1560.00</td>\n",
       "      <td>1975.00</td>\n",
       "      <td>0.00</td>\n",
       "      <td>98065.00</td>\n",
       "      <td>47.57</td>\n",
       "      <td>-122.23</td>\n",
       "      <td>1840.00</td>\n",
       "      <td>7620.00</td>\n",
       "    </tr>\n",
       "    <tr>\n",
       "      <th>75%</th>\n",
       "      <td>7308900490.00</td>\n",
       "      <td>645000.00</td>\n",
       "      <td>4.00</td>\n",
       "      <td>2.50</td>\n",
       "      <td>2550.00</td>\n",
       "      <td>10685.00</td>\n",
       "      <td>2.00</td>\n",
       "      <td>2210.00</td>\n",
       "      <td>1997.00</td>\n",
       "      <td>0.00</td>\n",
       "      <td>98118.00</td>\n",
       "      <td>47.68</td>\n",
       "      <td>-122.12</td>\n",
       "      <td>2360.00</td>\n",
       "      <td>10083.00</td>\n",
       "    </tr>\n",
       "    <tr>\n",
       "      <th>max</th>\n",
       "      <td>9900000190.00</td>\n",
       "      <td>7700000.00</td>\n",
       "      <td>33.00</td>\n",
       "      <td>8.00</td>\n",
       "      <td>13540.00</td>\n",
       "      <td>1651359.00</td>\n",
       "      <td>3.50</td>\n",
       "      <td>9410.00</td>\n",
       "      <td>2015.00</td>\n",
       "      <td>2015.00</td>\n",
       "      <td>98199.00</td>\n",
       "      <td>47.78</td>\n",
       "      <td>-121.31</td>\n",
       "      <td>6210.00</td>\n",
       "      <td>871200.00</td>\n",
       "    </tr>\n",
       "  </tbody>\n",
       "</table>\n",
       "</div>"
      ],
      "text/plain": [
       "                 id      price  bedrooms  bathrooms  sqft_living   sqft_lot  \\\n",
       "count      21597.00   21597.00  21597.00   21597.00     21597.00   21597.00   \n",
       "mean  4580474287.77  540296.57      3.37       2.12      2080.32   15099.41   \n",
       "std   2876735715.75  367368.14      0.93       0.77       918.11   41412.64   \n",
       "min      1000102.00   78000.00      1.00       0.50       370.00     520.00   \n",
       "25%   2123049175.00  322000.00      3.00       1.75      1430.00    5040.00   \n",
       "50%   3904930410.00  450000.00      3.00       2.25      1910.00    7618.00   \n",
       "75%   7308900490.00  645000.00      4.00       2.50      2550.00   10685.00   \n",
       "max   9900000190.00 7700000.00     33.00       8.00     13540.00 1651359.00   \n",
       "\n",
       "        floors  sqft_above  yr_built  yr_renovated  zipcode      lat     long  \\\n",
       "count 21597.00    21597.00  21597.00      17755.00 21597.00 21597.00 21597.00   \n",
       "mean      1.49     1788.60   1971.00         83.64 98077.95    47.56  -122.21   \n",
       "std       0.54      827.76     29.38        399.95    53.51     0.14     0.14   \n",
       "min       1.00      370.00   1900.00          0.00 98001.00    47.16  -122.52   \n",
       "25%       1.00     1190.00   1951.00          0.00 98033.00    47.47  -122.33   \n",
       "50%       1.50     1560.00   1975.00          0.00 98065.00    47.57  -122.23   \n",
       "75%       2.00     2210.00   1997.00          0.00 98118.00    47.68  -122.12   \n",
       "max       3.50     9410.00   2015.00       2015.00 98199.00    47.78  -121.31   \n",
       "\n",
       "       sqft_living15  sqft_lot15  \n",
       "count       21597.00    21597.00  \n",
       "mean         1986.62    12758.28  \n",
       "std           685.23    27274.44  \n",
       "min           399.00      651.00  \n",
       "25%          1490.00     5100.00  \n",
       "50%          1840.00     7620.00  \n",
       "75%          2360.00    10083.00  \n",
       "max          6210.00   871200.00  "
      ]
     },
     "execution_count": 6,
     "metadata": {},
     "output_type": "execute_result"
    }
   ],
   "source": [
    "# Descriptive statistics for numerical columns\n",
    "df.describe()"
   ]
  },
  {
   "cell_type": "markdown",
   "metadata": {},
   "source": [
    "Looking at the row of `max` values, we can see right away that we have some outliers, values that look as if they depart substantially from the `75%` row; to be more specific, there are some **large, expensive** properties in this dataset.\n",
    "\n",
    "There's also one property listed with **33 bedrooms** - what's up with that?"
   ]
  },
  {
   "cell_type": "code",
   "execution_count": 7,
   "metadata": {
    "ExecuteTime": {
     "end_time": "2022-04-01T19:00:29.126332Z",
     "start_time": "2022-04-01T19:00:29.097769Z"
    },
    "scrolled": false
   },
   "outputs": [
    {
     "data": {
      "text/html": [
       "<div>\n",
       "<style scoped>\n",
       "    .dataframe tbody tr th:only-of-type {\n",
       "        vertical-align: middle;\n",
       "    }\n",
       "\n",
       "    .dataframe tbody tr th {\n",
       "        vertical-align: top;\n",
       "    }\n",
       "\n",
       "    .dataframe thead th {\n",
       "        text-align: right;\n",
       "    }\n",
       "</style>\n",
       "<table border=\"1\" class=\"dataframe\">\n",
       "  <thead>\n",
       "    <tr style=\"text-align: right;\">\n",
       "      <th></th>\n",
       "      <th>id</th>\n",
       "      <th>date</th>\n",
       "      <th>price</th>\n",
       "      <th>bedrooms</th>\n",
       "      <th>bathrooms</th>\n",
       "      <th>sqft_living</th>\n",
       "      <th>sqft_lot</th>\n",
       "      <th>floors</th>\n",
       "      <th>waterfront</th>\n",
       "      <th>view</th>\n",
       "      <th>condition</th>\n",
       "      <th>grade</th>\n",
       "      <th>sqft_above</th>\n",
       "      <th>sqft_basement</th>\n",
       "      <th>yr_built</th>\n",
       "      <th>yr_renovated</th>\n",
       "      <th>zipcode</th>\n",
       "      <th>lat</th>\n",
       "      <th>long</th>\n",
       "      <th>sqft_living15</th>\n",
       "      <th>sqft_lot15</th>\n",
       "    </tr>\n",
       "  </thead>\n",
       "  <tbody>\n",
       "    <tr>\n",
       "      <th>15856</th>\n",
       "      <td>2402100895</td>\n",
       "      <td>6/25/2014</td>\n",
       "      <td>640000.00</td>\n",
       "      <td>33</td>\n",
       "      <td>1.75</td>\n",
       "      <td>1620</td>\n",
       "      <td>6000</td>\n",
       "      <td>1.00</td>\n",
       "      <td>NO</td>\n",
       "      <td>NONE</td>\n",
       "      <td>Very Good</td>\n",
       "      <td>7 Average</td>\n",
       "      <td>1040</td>\n",
       "      <td>580.0</td>\n",
       "      <td>1947</td>\n",
       "      <td>0.00</td>\n",
       "      <td>98103</td>\n",
       "      <td>47.69</td>\n",
       "      <td>-122.33</td>\n",
       "      <td>1330</td>\n",
       "      <td>4700</td>\n",
       "    </tr>\n",
       "  </tbody>\n",
       "</table>\n",
       "</div>"
      ],
      "text/plain": [
       "               id       date     price  bedrooms  bathrooms  sqft_living  \\\n",
       "15856  2402100895  6/25/2014 640000.00        33       1.75         1620   \n",
       "\n",
       "       sqft_lot  floors waterfront  view  condition      grade  sqft_above  \\\n",
       "15856      6000    1.00         NO  NONE  Very Good  7 Average        1040   \n",
       "\n",
       "      sqft_basement  yr_built  yr_renovated  zipcode   lat    long  \\\n",
       "15856         580.0      1947          0.00    98103 47.69 -122.33   \n",
       "\n",
       "       sqft_living15  sqft_lot15  \n",
       "15856           1330        4700  "
      ]
     },
     "execution_count": 7,
     "metadata": {},
     "output_type": "execute_result"
    }
   ],
   "source": [
    "df.loc[(df['bedrooms']) == 33]"
   ]
  },
  {
   "cell_type": "markdown",
   "metadata": {},
   "source": [
    "## Basic data cleaning"
   ]
  },
  {
   "cell_type": "markdown",
   "metadata": {},
   "source": [
    "First, we convert the column `date` to a more usable format; the code below transforms the column to type `datetime64[ns]`."
   ]
  },
  {
   "cell_type": "code",
   "execution_count": 8,
   "metadata": {
    "ExecuteTime": {
     "end_time": "2022-04-01T19:00:29.173489Z",
     "start_time": "2022-04-01T19:00:29.128247Z"
    }
   },
   "outputs": [],
   "source": [
    "# Converting column `date` to datetime64[ns] from type string/object\n",
    "df['date'] = df['date'].astype('datetime64[ns]')"
   ]
  },
  {
   "cell_type": "markdown",
   "metadata": {},
   "source": [
    "Likewise, the column `grade` is in object format; it provides both a number and a corresponding descriptor, e.g. `5 Fair`. The following code transforms it to a more usable format, one with no whitespace."
   ]
  },
  {
   "cell_type": "code",
   "execution_count": 9,
   "metadata": {
    "ExecuteTime": {
     "end_time": "2022-04-01T19:00:29.203592Z",
     "start_time": "2022-04-01T19:00:29.177427Z"
    }
   },
   "outputs": [],
   "source": [
    "# Clean up the values in column `grade` so they are not\n",
    "# separated by whitespace\n",
    "df['grade'] = [x.replace(\" \", \"_\").strip() for x in df['grade']]"
   ]
  },
  {
   "cell_type": "code",
   "execution_count": 10,
   "metadata": {
    "ExecuteTime": {
     "end_time": "2022-04-01T19:00:29.219548Z",
     "start_time": "2022-04-01T19:00:29.207581Z"
    }
   },
   "outputs": [
    {
     "data": {
      "text/plain": [
       "7_Average        8974\n",
       "8_Good           6065\n",
       "9_Better         2615\n",
       "6_Low_Average    2038\n",
       "10_Very_Good     1134\n",
       "11_Excellent      399\n",
       "5_Fair            242\n",
       "12_Luxury          89\n",
       "4_Low              27\n",
       "13_Mansion         13\n",
       "3_Poor              1\n",
       "Name: grade, dtype: int64"
      ]
     },
     "execution_count": 10,
     "metadata": {},
     "output_type": "execute_result"
    }
   ],
   "source": [
    "# Validating that above code worked as intended\n",
    "df['grade'].value_counts()"
   ]
  },
  {
   "cell_type": "markdown",
   "metadata": {},
   "source": [
    "Every house has a unique `id` value, but does every row in the dataset represent a **unique house?**"
   ]
  },
  {
   "cell_type": "code",
   "execution_count": 11,
   "metadata": {
    "ExecuteTime": {
     "end_time": "2022-04-01T19:00:29.235538Z",
     "start_time": "2022-04-01T19:00:29.224535Z"
    }
   },
   "outputs": [
    {
     "data": {
      "text/plain": [
       "795000620     3\n",
       "1825069031    2\n",
       "2019200220    2\n",
       "7129304540    2\n",
       "1781500435    2\n",
       "             ..\n",
       "7812801125    1\n",
       "4364700875    1\n",
       "3021059276    1\n",
       "880000205     1\n",
       "1777500160    1\n",
       "Name: id, Length: 21420, dtype: int64"
      ]
     },
     "execution_count": 11,
     "metadata": {},
     "output_type": "execute_result"
    }
   ],
   "source": [
    "# Check for multiples in column `id`\n",
    "df['id'].value_counts()"
   ]
  },
  {
   "cell_type": "markdown",
   "metadata": {},
   "source": [
    "Looks like we have a few houses with more than one sale on record! Let's examine a few of the `id` values."
   ]
  },
  {
   "cell_type": "code",
   "execution_count": 12,
   "metadata": {
    "ExecuteTime": {
     "end_time": "2022-04-01T19:00:29.266232Z",
     "start_time": "2022-04-01T19:00:29.239495Z"
    },
    "scrolled": false
   },
   "outputs": [
    {
     "data": {
      "text/html": [
       "<div>\n",
       "<style scoped>\n",
       "    .dataframe tbody tr th:only-of-type {\n",
       "        vertical-align: middle;\n",
       "    }\n",
       "\n",
       "    .dataframe tbody tr th {\n",
       "        vertical-align: top;\n",
       "    }\n",
       "\n",
       "    .dataframe thead th {\n",
       "        text-align: right;\n",
       "    }\n",
       "</style>\n",
       "<table border=\"1\" class=\"dataframe\">\n",
       "  <thead>\n",
       "    <tr style=\"text-align: right;\">\n",
       "      <th></th>\n",
       "      <th>id</th>\n",
       "      <th>date</th>\n",
       "      <th>price</th>\n",
       "      <th>bedrooms</th>\n",
       "      <th>bathrooms</th>\n",
       "      <th>sqft_living</th>\n",
       "      <th>sqft_lot</th>\n",
       "      <th>floors</th>\n",
       "      <th>waterfront</th>\n",
       "      <th>view</th>\n",
       "      <th>condition</th>\n",
       "      <th>grade</th>\n",
       "      <th>sqft_above</th>\n",
       "      <th>sqft_basement</th>\n",
       "      <th>yr_built</th>\n",
       "      <th>yr_renovated</th>\n",
       "      <th>zipcode</th>\n",
       "      <th>lat</th>\n",
       "      <th>long</th>\n",
       "      <th>sqft_living15</th>\n",
       "      <th>sqft_lot15</th>\n",
       "    </tr>\n",
       "  </thead>\n",
       "  <tbody>\n",
       "    <tr>\n",
       "      <th>3946</th>\n",
       "      <td>1825069031</td>\n",
       "      <td>2014-08-14</td>\n",
       "      <td>550000.00</td>\n",
       "      <td>4</td>\n",
       "      <td>1.75</td>\n",
       "      <td>2410</td>\n",
       "      <td>8447</td>\n",
       "      <td>2.00</td>\n",
       "      <td>NO</td>\n",
       "      <td>GOOD</td>\n",
       "      <td>Good</td>\n",
       "      <td>8_Good</td>\n",
       "      <td>2060</td>\n",
       "      <td>350.0</td>\n",
       "      <td>1936</td>\n",
       "      <td>1980.00</td>\n",
       "      <td>98074</td>\n",
       "      <td>47.65</td>\n",
       "      <td>-122.09</td>\n",
       "      <td>2520</td>\n",
       "      <td>14789</td>\n",
       "    </tr>\n",
       "    <tr>\n",
       "      <th>3947</th>\n",
       "      <td>1825069031</td>\n",
       "      <td>2014-10-16</td>\n",
       "      <td>550000.00</td>\n",
       "      <td>4</td>\n",
       "      <td>1.75</td>\n",
       "      <td>2410</td>\n",
       "      <td>8447</td>\n",
       "      <td>2.00</td>\n",
       "      <td>NaN</td>\n",
       "      <td>GOOD</td>\n",
       "      <td>Good</td>\n",
       "      <td>8_Good</td>\n",
       "      <td>2060</td>\n",
       "      <td>350.0</td>\n",
       "      <td>1936</td>\n",
       "      <td>1980.00</td>\n",
       "      <td>98074</td>\n",
       "      <td>47.65</td>\n",
       "      <td>-122.09</td>\n",
       "      <td>2520</td>\n",
       "      <td>14789</td>\n",
       "    </tr>\n",
       "    <tr>\n",
       "      <th>12942</th>\n",
       "      <td>2019200220</td>\n",
       "      <td>2014-09-23</td>\n",
       "      <td>160000.00</td>\n",
       "      <td>3</td>\n",
       "      <td>2.25</td>\n",
       "      <td>1470</td>\n",
       "      <td>8682</td>\n",
       "      <td>1.00</td>\n",
       "      <td>NO</td>\n",
       "      <td>NONE</td>\n",
       "      <td>Average</td>\n",
       "      <td>7_Average</td>\n",
       "      <td>1160</td>\n",
       "      <td>310.0</td>\n",
       "      <td>1985</td>\n",
       "      <td>0.00</td>\n",
       "      <td>98003</td>\n",
       "      <td>47.27</td>\n",
       "      <td>-122.30</td>\n",
       "      <td>1670</td>\n",
       "      <td>8359</td>\n",
       "    </tr>\n",
       "    <tr>\n",
       "      <th>12943</th>\n",
       "      <td>2019200220</td>\n",
       "      <td>2015-02-26</td>\n",
       "      <td>269000.00</td>\n",
       "      <td>3</td>\n",
       "      <td>2.25</td>\n",
       "      <td>1470</td>\n",
       "      <td>8682</td>\n",
       "      <td>1.00</td>\n",
       "      <td>NO</td>\n",
       "      <td>NONE</td>\n",
       "      <td>Average</td>\n",
       "      <td>7_Average</td>\n",
       "      <td>1160</td>\n",
       "      <td>310.0</td>\n",
       "      <td>1985</td>\n",
       "      <td>nan</td>\n",
       "      <td>98003</td>\n",
       "      <td>47.27</td>\n",
       "      <td>-122.30</td>\n",
       "      <td>1670</td>\n",
       "      <td>8359</td>\n",
       "    </tr>\n",
       "    <tr>\n",
       "      <th>17588</th>\n",
       "      <td>795000620</td>\n",
       "      <td>2014-09-24</td>\n",
       "      <td>115000.00</td>\n",
       "      <td>3</td>\n",
       "      <td>1.00</td>\n",
       "      <td>1080</td>\n",
       "      <td>6250</td>\n",
       "      <td>1.00</td>\n",
       "      <td>NO</td>\n",
       "      <td>NONE</td>\n",
       "      <td>Fair</td>\n",
       "      <td>5_Fair</td>\n",
       "      <td>1080</td>\n",
       "      <td>0.0</td>\n",
       "      <td>1950</td>\n",
       "      <td>0.00</td>\n",
       "      <td>98168</td>\n",
       "      <td>47.50</td>\n",
       "      <td>-122.33</td>\n",
       "      <td>1070</td>\n",
       "      <td>6250</td>\n",
       "    </tr>\n",
       "    <tr>\n",
       "      <th>17589</th>\n",
       "      <td>795000620</td>\n",
       "      <td>2014-12-15</td>\n",
       "      <td>124000.00</td>\n",
       "      <td>3</td>\n",
       "      <td>1.00</td>\n",
       "      <td>1080</td>\n",
       "      <td>6250</td>\n",
       "      <td>1.00</td>\n",
       "      <td>NO</td>\n",
       "      <td>NONE</td>\n",
       "      <td>Fair</td>\n",
       "      <td>5_Fair</td>\n",
       "      <td>1080</td>\n",
       "      <td>0.0</td>\n",
       "      <td>1950</td>\n",
       "      <td>0.00</td>\n",
       "      <td>98168</td>\n",
       "      <td>47.50</td>\n",
       "      <td>-122.33</td>\n",
       "      <td>1070</td>\n",
       "      <td>6250</td>\n",
       "    </tr>\n",
       "    <tr>\n",
       "      <th>17590</th>\n",
       "      <td>795000620</td>\n",
       "      <td>2015-03-11</td>\n",
       "      <td>157000.00</td>\n",
       "      <td>3</td>\n",
       "      <td>1.00</td>\n",
       "      <td>1080</td>\n",
       "      <td>6250</td>\n",
       "      <td>1.00</td>\n",
       "      <td>NaN</td>\n",
       "      <td>NONE</td>\n",
       "      <td>Fair</td>\n",
       "      <td>5_Fair</td>\n",
       "      <td>1080</td>\n",
       "      <td>0.0</td>\n",
       "      <td>1950</td>\n",
       "      <td>nan</td>\n",
       "      <td>98168</td>\n",
       "      <td>47.50</td>\n",
       "      <td>-122.33</td>\n",
       "      <td>1070</td>\n",
       "      <td>6250</td>\n",
       "    </tr>\n",
       "  </tbody>\n",
       "</table>\n",
       "</div>"
      ],
      "text/plain": [
       "               id       date     price  bedrooms  bathrooms  sqft_living  \\\n",
       "3946   1825069031 2014-08-14 550000.00         4       1.75         2410   \n",
       "3947   1825069031 2014-10-16 550000.00         4       1.75         2410   \n",
       "12942  2019200220 2014-09-23 160000.00         3       2.25         1470   \n",
       "12943  2019200220 2015-02-26 269000.00         3       2.25         1470   \n",
       "17588   795000620 2014-09-24 115000.00         3       1.00         1080   \n",
       "17589   795000620 2014-12-15 124000.00         3       1.00         1080   \n",
       "17590   795000620 2015-03-11 157000.00         3       1.00         1080   \n",
       "\n",
       "       sqft_lot  floors waterfront  view condition      grade  sqft_above  \\\n",
       "3946       8447    2.00         NO  GOOD      Good     8_Good        2060   \n",
       "3947       8447    2.00        NaN  GOOD      Good     8_Good        2060   \n",
       "12942      8682    1.00         NO  NONE   Average  7_Average        1160   \n",
       "12943      8682    1.00         NO  NONE   Average  7_Average        1160   \n",
       "17588      6250    1.00         NO  NONE      Fair     5_Fair        1080   \n",
       "17589      6250    1.00         NO  NONE      Fair     5_Fair        1080   \n",
       "17590      6250    1.00        NaN  NONE      Fair     5_Fair        1080   \n",
       "\n",
       "      sqft_basement  yr_built  yr_renovated  zipcode   lat    long  \\\n",
       "3946          350.0      1936       1980.00    98074 47.65 -122.09   \n",
       "3947          350.0      1936       1980.00    98074 47.65 -122.09   \n",
       "12942         310.0      1985          0.00    98003 47.27 -122.30   \n",
       "12943         310.0      1985           nan    98003 47.27 -122.30   \n",
       "17588           0.0      1950          0.00    98168 47.50 -122.33   \n",
       "17589           0.0      1950          0.00    98168 47.50 -122.33   \n",
       "17590           0.0      1950           nan    98168 47.50 -122.33   \n",
       "\n",
       "       sqft_living15  sqft_lot15  \n",
       "3946            2520       14789  \n",
       "3947            2520       14789  \n",
       "12942           1670        8359  \n",
       "12943           1670        8359  \n",
       "17588           1070        6250  \n",
       "17589           1070        6250  \n",
       "17590           1070        6250  "
      ]
     },
     "execution_count": 12,
     "metadata": {},
     "output_type": "execute_result"
    }
   ],
   "source": [
    "df.loc[(df['id'] == 795000620) |\n",
    "       (df['id'] == 1825069031) |\n",
    "       (df['id'] == 2019200220)]"
   ]
  },
  {
   "cell_type": "markdown",
   "metadata": {},
   "source": [
    "The house with the `id` value `1825069031` saw no change in its sale price between its first sale (in August 2014) and second sale (in October 2014). However, the *other* two houses we're looking at here - `\t2019200220` and `795000620` - saw their sale prices **increase** over time, and with no changes in any other column!\n",
    "\n",
    "It might be best to keep the **most recent** sale on record to avoid adding any additional 'noise' to our model."
   ]
  },
  {
   "cell_type": "code",
   "execution_count": 13,
   "metadata": {
    "ExecuteTime": {
     "end_time": "2022-04-01T19:00:29.297550Z",
     "start_time": "2022-04-01T19:00:29.270197Z"
    }
   },
   "outputs": [],
   "source": [
    "# Dropping rows with duplicate values in `id` column,\n",
    "# sans the most recent sale\n",
    "df.drop_duplicates(subset=['id'], keep='last', inplace=True)"
   ]
  },
  {
   "cell_type": "markdown",
   "metadata": {},
   "source": [
    "Let's make sure that worked..."
   ]
  },
  {
   "cell_type": "code",
   "execution_count": 14,
   "metadata": {
    "ExecuteTime": {
     "end_time": "2022-04-01T19:00:29.313480Z",
     "start_time": "2022-04-01T19:00:29.299513Z"
    },
    "scrolled": false
   },
   "outputs": [
    {
     "data": {
      "text/plain": [
       "True"
      ]
     },
     "execution_count": 14,
     "metadata": {},
     "output_type": "execute_result"
    }
   ],
   "source": [
    "# Ensuring that number of unique `id` values matches\n",
    "# number of rows in dataframe, i.e. no repeated values\n",
    "len(df['id'].unique()) == len(df)"
   ]
  },
  {
   "cell_type": "code",
   "execution_count": 15,
   "metadata": {
    "ExecuteTime": {
     "end_time": "2022-04-01T19:00:29.345167Z",
     "start_time": "2022-04-01T19:00:29.327441Z"
    }
   },
   "outputs": [
    {
     "data": {
      "text/plain": [
       "17590   2015-03-11\n",
       "Name: date, dtype: datetime64[ns]"
      ]
     },
     "execution_count": 15,
     "metadata": {},
     "output_type": "execute_result"
    }
   ],
   "source": [
    "# Ensuring that only one sale remains for a house\n",
    "# we know initially had multiple sales on record\n",
    "df.loc[ df['id'] == 795000620 ]['date']"
   ]
  },
  {
   "cell_type": "markdown",
   "metadata": {},
   "source": [
    "We only got one result when indexing into the `date` column for the property `795000620`, and it's the date of the most recent sale on record for `795000620`! We've eliminated *all but the most recent sale* for any property with more than one sale on record.\n",
    "\n",
    "We no longer have any use for the `id` column, so we can drop it from our dataframe entirely."
   ]
  },
  {
   "cell_type": "code",
   "execution_count": 16,
   "metadata": {
    "ExecuteTime": {
     "end_time": "2022-04-01T19:00:29.360700Z",
     "start_time": "2022-04-01T19:00:29.348156Z"
    }
   },
   "outputs": [
    {
     "name": "stdout",
     "output_type": "stream",
     "text": [
      "2014-05-02 00:00:00\n",
      "2015-05-27 00:00:00\n"
     ]
    }
   ],
   "source": [
    "print(df['date'].min())\n",
    "print(df['date'].max())"
   ]
  },
  {
   "cell_type": "code",
   "execution_count": 17,
   "metadata": {
    "ExecuteTime": {
     "end_time": "2022-04-01T19:00:29.376657Z",
     "start_time": "2022-04-01T19:00:29.364657Z"
    }
   },
   "outputs": [],
   "source": [
    "# Dropping `id` column, now that we know we\n",
    "# have exclusively unique values for `id`\n",
    "\n",
    "df.drop(labels='id',\n",
    "        axis=1,\n",
    "        inplace=True)"
   ]
  },
  {
   "cell_type": "markdown",
   "metadata": {},
   "source": [
    "**Something else that might be of note:** in some of these rows where the same `id` appears twice, a value that *was* recorded in the first sale appears as a *null value* in a later sale, e.g. the `waterfront` column on the house whose `id` is `1825069031`."
   ]
  },
  {
   "cell_type": "code",
   "execution_count": 18,
   "metadata": {
    "ExecuteTime": {
     "end_time": "2022-04-01T19:00:29.392614Z",
     "start_time": "2022-04-01T19:00:29.379621Z"
    }
   },
   "outputs": [],
   "source": [
    "# Creating copy of original dataframe before dropping columns\n",
    "df_copy = df.copy()"
   ]
  },
  {
   "cell_type": "code",
   "execution_count": 19,
   "metadata": {
    "ExecuteTime": {
     "end_time": "2022-04-01T19:00:29.439875Z",
     "start_time": "2022-04-01T19:00:29.404972Z"
    },
    "scrolled": true
   },
   "outputs": [
    {
     "name": "stdout",
     "output_type": "stream",
     "text": [
      "<class 'pandas.core.frame.DataFrame'>\n",
      "Int64Index: 21420 entries, 0 to 21596\n",
      "Data columns (total 20 columns):\n",
      " #   Column         Non-Null Count  Dtype         \n",
      "---  ------         --------------  -----         \n",
      " 0   date           21420 non-null  datetime64[ns]\n",
      " 1   price          21420 non-null  float64       \n",
      " 2   bedrooms       21420 non-null  int64         \n",
      " 3   bathrooms      21420 non-null  float64       \n",
      " 4   sqft_living    21420 non-null  int64         \n",
      " 5   sqft_lot       21420 non-null  int64         \n",
      " 6   floors         21420 non-null  float64       \n",
      " 7   waterfront     19067 non-null  object        \n",
      " 8   view           21357 non-null  object        \n",
      " 9   condition      21420 non-null  object        \n",
      " 10  grade          21420 non-null  object        \n",
      " 11  sqft_above     21420 non-null  int64         \n",
      " 12  sqft_basement  21420 non-null  object        \n",
      " 13  yr_built       21420 non-null  int64         \n",
      " 14  yr_renovated   17607 non-null  float64       \n",
      " 15  zipcode        21420 non-null  int64         \n",
      " 16  lat            21420 non-null  float64       \n",
      " 17  long           21420 non-null  float64       \n",
      " 18  sqft_living15  21420 non-null  int64         \n",
      " 19  sqft_lot15     21420 non-null  int64         \n",
      "dtypes: datetime64[ns](1), float64(6), int64(8), object(5)\n",
      "memory usage: 3.4+ MB\n"
     ]
    }
   ],
   "source": [
    "df_copy.info()"
   ]
  },
  {
   "cell_type": "markdown",
   "metadata": {},
   "source": [
    "We've got some nulls in the `view` column, but the number of null values *vis-à-vis*  the number of total rows in the dataframe is such that we can safely drop those nulls without worrying about our conclusions being affected."
   ]
  },
  {
   "cell_type": "code",
   "execution_count": 20,
   "metadata": {
    "ExecuteTime": {
     "end_time": "2022-04-01T19:00:29.455323Z",
     "start_time": "2022-04-01T19:00:29.444863Z"
    }
   },
   "outputs": [],
   "source": [
    "# Dropping nulls from column `view`\n",
    "df_copy = df_copy.dropna(subset = ['view'])"
   ]
  },
  {
   "cell_type": "code",
   "execution_count": 21,
   "metadata": {
    "ExecuteTime": {
     "end_time": "2022-04-01T19:00:29.471044Z",
     "start_time": "2022-04-01T19:00:29.458316Z"
    },
    "scrolled": true
   },
   "outputs": [
    {
     "data": {
      "text/plain": [
       "True"
      ]
     },
     "execution_count": 21,
     "metadata": {},
     "output_type": "execute_result"
    }
   ],
   "source": [
    "# Validating that...\n",
    "df_copy['view'].isna().sum() == 0"
   ]
  },
  {
   "cell_type": "markdown",
   "metadata": {},
   "source": [
    "`view` and `grade` might seem similar on first glance - both columns use descriptors like `AVERAGE` and `GOOD` to assess the attributes of a house - but we determined that `grade` is a much more mutable category; it refers to the \"types of materials used (in building the house) and the quality of workmanship\" on display in the house's \"construction and design.\"\n",
    "\n",
    "Let's get a breakdown of the distribution of `grade` values in King County."
   ]
  },
  {
   "cell_type": "code",
   "execution_count": 22,
   "metadata": {
    "ExecuteTime": {
     "end_time": "2022-04-01T19:00:29.488544Z",
     "start_time": "2022-04-01T19:00:29.473595Z"
    }
   },
   "outputs": [
    {
     "data": {
      "text/plain": [
       "7_Average        8863\n",
       "8_Good           6029\n",
       "9_Better         2595\n",
       "6_Low_Average    1988\n",
       "10_Very_Good     1126\n",
       "11_Excellent      394\n",
       "5_Fair            234\n",
       "12_Luxury          87\n",
       "4_Low              27\n",
       "13_Mansion         13\n",
       "3_Poor              1\n",
       "Name: grade, dtype: int64"
      ]
     },
     "execution_count": 22,
     "metadata": {},
     "output_type": "execute_result"
    }
   ],
   "source": [
    "# Checking out the frequency of each possible value\n",
    "# for column `grade`\n",
    "df_copy['grade'].value_counts()"
   ]
  },
  {
   "cell_type": "markdown",
   "metadata": {},
   "source": [
    "We find only **one row** where the `grade` value is equal to `3 Poor`, and the value `13_Mansion` also only has **thirteen** entries, many of which are outliers in the `price` data. We drop these column to further refine the data being used in our model(s)."
   ]
  },
  {
   "cell_type": "code",
   "execution_count": 23,
   "metadata": {
    "ExecuteTime": {
     "end_time": "2022-04-01T19:00:29.502506Z",
     "start_time": "2022-04-01T19:00:29.492534Z"
    }
   },
   "outputs": [],
   "source": [
    "# Dropping the single row where [`grade` == `3 Poor`] as it has a sample of 1 and may skew data\n",
    "df_copy = df_copy.loc[df_copy['grade'] != '3_Poor']"
   ]
  },
  {
   "cell_type": "markdown",
   "metadata": {},
   "source": [
    "In the process of data exploration, we noticed when plotting `sqft_living` against `price` that the residuals had a *heteroskedastic* pattern; in keeping with the assumptions of linear regression, we transform the `price` column with `np.log()`."
   ]
  },
  {
   "cell_type": "markdown",
   "metadata": {},
   "source": [
    "### Exploring data"
   ]
  },
  {
   "cell_type": "code",
   "execution_count": 24,
   "metadata": {
    "ExecuteTime": {
     "end_time": "2022-04-01T19:00:29.564313Z",
     "start_time": "2022-04-01T19:00:29.505500Z"
    }
   },
   "outputs": [
    {
     "data": {
      "text/html": [
       "<div>\n",
       "<style scoped>\n",
       "    .dataframe tbody tr th:only-of-type {\n",
       "        vertical-align: middle;\n",
       "    }\n",
       "\n",
       "    .dataframe tbody tr th {\n",
       "        vertical-align: top;\n",
       "    }\n",
       "\n",
       "    .dataframe thead th {\n",
       "        text-align: right;\n",
       "    }\n",
       "</style>\n",
       "<table border=\"1\" class=\"dataframe\">\n",
       "  <thead>\n",
       "    <tr style=\"text-align: right;\">\n",
       "      <th></th>\n",
       "      <th>price</th>\n",
       "      <th>bedrooms</th>\n",
       "      <th>bathrooms</th>\n",
       "      <th>sqft_living</th>\n",
       "      <th>sqft_lot</th>\n",
       "      <th>floors</th>\n",
       "      <th>sqft_above</th>\n",
       "      <th>yr_built</th>\n",
       "      <th>yr_renovated</th>\n",
       "      <th>zipcode</th>\n",
       "      <th>lat</th>\n",
       "      <th>long</th>\n",
       "      <th>sqft_living15</th>\n",
       "      <th>sqft_lot15</th>\n",
       "    </tr>\n",
       "  </thead>\n",
       "  <tbody>\n",
       "    <tr>\n",
       "      <th>count</th>\n",
       "      <td>21356.00</td>\n",
       "      <td>21356.00</td>\n",
       "      <td>21356.00</td>\n",
       "      <td>21356.00</td>\n",
       "      <td>21356.00</td>\n",
       "      <td>21356.00</td>\n",
       "      <td>21356.00</td>\n",
       "      <td>21356.00</td>\n",
       "      <td>17555.00</td>\n",
       "      <td>21356.00</td>\n",
       "      <td>21356.00</td>\n",
       "      <td>21356.00</td>\n",
       "      <td>21356.00</td>\n",
       "      <td>21356.00</td>\n",
       "    </tr>\n",
       "    <tr>\n",
       "      <th>mean</th>\n",
       "      <td>541638.25</td>\n",
       "      <td>3.37</td>\n",
       "      <td>2.12</td>\n",
       "      <td>2082.72</td>\n",
       "      <td>15119.34</td>\n",
       "      <td>1.50</td>\n",
       "      <td>1791.20</td>\n",
       "      <td>1971.10</td>\n",
       "      <td>84.02</td>\n",
       "      <td>98077.86</td>\n",
       "      <td>47.56</td>\n",
       "      <td>-122.21</td>\n",
       "      <td>1988.10</td>\n",
       "      <td>12768.53</td>\n",
       "    </tr>\n",
       "    <tr>\n",
       "      <th>std</th>\n",
       "      <td>366243.35</td>\n",
       "      <td>0.93</td>\n",
       "      <td>0.77</td>\n",
       "      <td>918.11</td>\n",
       "      <td>41499.52</td>\n",
       "      <td>0.54</td>\n",
       "      <td>828.66</td>\n",
       "      <td>29.39</td>\n",
       "      <td>400.84</td>\n",
       "      <td>53.47</td>\n",
       "      <td>0.14</td>\n",
       "      <td>0.14</td>\n",
       "      <td>685.43</td>\n",
       "      <td>27327.41</td>\n",
       "    </tr>\n",
       "    <tr>\n",
       "      <th>min</th>\n",
       "      <td>78000.00</td>\n",
       "      <td>1.00</td>\n",
       "      <td>0.50</td>\n",
       "      <td>370.00</td>\n",
       "      <td>520.00</td>\n",
       "      <td>1.00</td>\n",
       "      <td>370.00</td>\n",
       "      <td>1900.00</td>\n",
       "      <td>0.00</td>\n",
       "      <td>98001.00</td>\n",
       "      <td>47.16</td>\n",
       "      <td>-122.52</td>\n",
       "      <td>399.00</td>\n",
       "      <td>651.00</td>\n",
       "    </tr>\n",
       "    <tr>\n",
       "      <th>25%</th>\n",
       "      <td>324950.00</td>\n",
       "      <td>3.00</td>\n",
       "      <td>1.75</td>\n",
       "      <td>1430.00</td>\n",
       "      <td>5040.00</td>\n",
       "      <td>1.00</td>\n",
       "      <td>1200.00</td>\n",
       "      <td>1952.00</td>\n",
       "      <td>0.00</td>\n",
       "      <td>98033.00</td>\n",
       "      <td>47.47</td>\n",
       "      <td>-122.33</td>\n",
       "      <td>1490.00</td>\n",
       "      <td>5100.00</td>\n",
       "    </tr>\n",
       "    <tr>\n",
       "      <th>50%</th>\n",
       "      <td>450250.00</td>\n",
       "      <td>3.00</td>\n",
       "      <td>2.25</td>\n",
       "      <td>1920.00</td>\n",
       "      <td>7612.00</td>\n",
       "      <td>1.50</td>\n",
       "      <td>1560.00</td>\n",
       "      <td>1975.00</td>\n",
       "      <td>0.00</td>\n",
       "      <td>98065.00</td>\n",
       "      <td>47.57</td>\n",
       "      <td>-122.23</td>\n",
       "      <td>1840.00</td>\n",
       "      <td>7620.00</td>\n",
       "    </tr>\n",
       "    <tr>\n",
       "      <th>75%</th>\n",
       "      <td>645000.00</td>\n",
       "      <td>4.00</td>\n",
       "      <td>2.50</td>\n",
       "      <td>2550.00</td>\n",
       "      <td>10695.25</td>\n",
       "      <td>2.00</td>\n",
       "      <td>2220.00</td>\n",
       "      <td>1997.00</td>\n",
       "      <td>0.00</td>\n",
       "      <td>98117.00</td>\n",
       "      <td>47.68</td>\n",
       "      <td>-122.12</td>\n",
       "      <td>2370.00</td>\n",
       "      <td>10087.00</td>\n",
       "    </tr>\n",
       "    <tr>\n",
       "      <th>max</th>\n",
       "      <td>7700000.00</td>\n",
       "      <td>33.00</td>\n",
       "      <td>8.00</td>\n",
       "      <td>13540.00</td>\n",
       "      <td>1651359.00</td>\n",
       "      <td>3.50</td>\n",
       "      <td>9410.00</td>\n",
       "      <td>2015.00</td>\n",
       "      <td>2015.00</td>\n",
       "      <td>98199.00</td>\n",
       "      <td>47.78</td>\n",
       "      <td>-121.31</td>\n",
       "      <td>6210.00</td>\n",
       "      <td>871200.00</td>\n",
       "    </tr>\n",
       "  </tbody>\n",
       "</table>\n",
       "</div>"
      ],
      "text/plain": [
       "           price  bedrooms  bathrooms  sqft_living   sqft_lot   floors  \\\n",
       "count   21356.00  21356.00   21356.00     21356.00   21356.00 21356.00   \n",
       "mean   541638.25      3.37       2.12      2082.72   15119.34     1.50   \n",
       "std    366243.35      0.93       0.77       918.11   41499.52     0.54   \n",
       "min     78000.00      1.00       0.50       370.00     520.00     1.00   \n",
       "25%    324950.00      3.00       1.75      1430.00    5040.00     1.00   \n",
       "50%    450250.00      3.00       2.25      1920.00    7612.00     1.50   \n",
       "75%    645000.00      4.00       2.50      2550.00   10695.25     2.00   \n",
       "max   7700000.00     33.00       8.00     13540.00 1651359.00     3.50   \n",
       "\n",
       "       sqft_above  yr_built  yr_renovated  zipcode      lat     long  \\\n",
       "count    21356.00  21356.00      17555.00 21356.00 21356.00 21356.00   \n",
       "mean      1791.20   1971.10         84.02 98077.86    47.56  -122.21   \n",
       "std        828.66     29.39        400.84    53.47     0.14     0.14   \n",
       "min        370.00   1900.00          0.00 98001.00    47.16  -122.52   \n",
       "25%       1200.00   1952.00          0.00 98033.00    47.47  -122.33   \n",
       "50%       1560.00   1975.00          0.00 98065.00    47.57  -122.23   \n",
       "75%       2220.00   1997.00          0.00 98117.00    47.68  -122.12   \n",
       "max       9410.00   2015.00       2015.00 98199.00    47.78  -121.31   \n",
       "\n",
       "       sqft_living15  sqft_lot15  \n",
       "count       21356.00    21356.00  \n",
       "mean         1988.10    12768.53  \n",
       "std           685.43    27327.41  \n",
       "min           399.00      651.00  \n",
       "25%          1490.00     5100.00  \n",
       "50%          1840.00     7620.00  \n",
       "75%          2370.00    10087.00  \n",
       "max          6210.00   871200.00  "
      ]
     },
     "execution_count": 24,
     "metadata": {},
     "output_type": "execute_result"
    }
   ],
   "source": [
    "df_copy.describe()"
   ]
  },
  {
   "cell_type": "markdown",
   "metadata": {},
   "source": [
    "There is a max of \\\\$7.7 mil house while the 75th percentile is \\\\$645000. Sqft_living also has a big disparity between the 75th percentile where it is 2550 while the max is 13540."
   ]
  },
  {
   "cell_type": "code",
   "execution_count": 25,
   "metadata": {
    "ExecuteTime": {
     "end_time": "2022-04-01T19:00:29.782475Z",
     "start_time": "2022-04-01T19:00:29.566310Z"
    }
   },
   "outputs": [
    {
     "data": {
      "image/png": "[encoded data removed]",
      "text/plain": [
       "<Figure size 720x720 with 1 Axes>"
      ]
     },
     "metadata": {
      "needs_background": "light"
     },
     "output_type": "display_data"
    }
   ],
   "source": [
    "#looking at price\n",
    "fig, ax = plt.subplots(figsize = (10, 10))\n",
    "sns.boxplot(x = df_copy['price']);"
   ]
  },
  {
   "cell_type": "code",
   "execution_count": 26,
   "metadata": {
    "ExecuteTime": {
     "end_time": "2022-04-01T19:00:30.124714Z",
     "start_time": "2022-04-01T19:00:29.788463Z"
    }
   },
   "outputs": [
    {
     "data": {
      "image/png": "[encoded data removed]",
      "text/plain": [
       "<Figure size 720x720 with 1 Axes>"
      ]
     },
     "metadata": {
      "needs_background": "light"
     },
     "output_type": "display_data"
    }
   ],
   "source": [
    "#looking into sqft_living\n",
    "fig, ax = plt.subplots(figsize = (10, 10))\n",
    "sns.boxplot(x = df_copy['sqft_living']);"
   ]
  },
  {
   "cell_type": "markdown",
   "metadata": {},
   "source": [
    "There are a substantial enough number of outliers in terms of both `sqft_living` area and sale `price` that we chose to trim down the dataset to reduce the potential for skewing. Below, we calculate an interquartile range for both `price` and `sqft_living` data to determine the 'cutoff points.'"
   ]
  },
  {
   "cell_type": "code",
   "execution_count": 27,
   "metadata": {
    "ExecuteTime": {
     "end_time": "2022-04-01T19:00:30.156629Z",
     "start_time": "2022-04-01T19:00:30.131703Z"
    }
   },
   "outputs": [
    {
     "data": {
      "text/plain": [
       "(61563.248080164776, 1021713.2480801648)"
      ]
     },
     "execution_count": 27,
     "metadata": {},
     "output_type": "execute_result"
    }
   ],
   "source": [
    "# Finding cut-off point: `price` IQR with mean price\n",
    "q3, q1 = np.percentile(df_copy['price'], [75, 25])\n",
    "q3, q1\n",
    "iqr = q3-q1\n",
    "\n",
    "lower_limit = df_copy['price'].mean()- (iqr*1.5)\n",
    "\n",
    "upper_limit = df_copy['price'].mean()+ (iqr*1.5)\n",
    "\n",
    "lower_limit, upper_limit"
   ]
  },
  {
   "cell_type": "code",
   "execution_count": 28,
   "metadata": {
    "ExecuteTime": {
     "end_time": "2022-04-01T19:00:30.172587Z",
     "start_time": "2022-04-01T19:00:30.159622Z"
    }
   },
   "outputs": [
    {
     "data": {
      "text/plain": [
       "(-29825.0, 930325.0)"
      ]
     },
     "execution_count": 28,
     "metadata": {},
     "output_type": "execute_result"
    }
   ],
   "source": [
    "#using median\n",
    "q3, q1 = np.percentile(df_copy['price'], [75, 25])\n",
    "q3, q1\n",
    "iqr = q3-q1\n",
    "\n",
    "lower_limit2 = df_copy['price'].median()- (iqr*1.5)\n",
    "\n",
    "upper_limit2 = df_copy['price'].median()+ (iqr*1.5)\n",
    "\n",
    "lower_limit2, upper_limit2"
   ]
  },
  {
   "cell_type": "markdown",
   "metadata": {},
   "source": [
    "Upon further discussion, we decide to use median because mean is more affect by the present of outliers compared to median. Although, they differ by about \\\\$10K, in data this is enough to skew our results in one direction."
   ]
  },
  {
   "cell_type": "code",
   "execution_count": 29,
   "metadata": {
    "ExecuteTime": {
     "end_time": "2022-04-01T19:00:30.188612Z",
     "start_time": "2022-04-01T19:00:30.175579Z"
    }
   },
   "outputs": [],
   "source": [
    "#droppped big outliers base on median price, narrowing down the market\n",
    "df_copy = df_copy[df_copy['price'] < upper_limit2]"
   ]
  },
  {
   "cell_type": "code",
   "execution_count": 30,
   "metadata": {
    "ExecuteTime": {
     "end_time": "2022-04-01T19:00:30.203977Z",
     "start_time": "2022-04-01T19:00:30.192601Z"
    }
   },
   "outputs": [
    {
     "data": {
      "text/plain": [
       "(330.0, 3330.0)"
      ]
     },
     "execution_count": 30,
     "metadata": {},
     "output_type": "execute_result"
    }
   ],
   "source": [
    "#Finding where our outliers are in sqft_living\n",
    "q3, q1 = np.percentile(df_copy['sqft_living'], [75, 25])\n",
    "q3, q1\n",
    "iqr = q3-q1\n",
    "\n",
    "living_lower_limit = df_copy['sqft_living'].median()- (iqr*1.5)\n",
    "\n",
    "living_upper_limit = df_copy['sqft_living'].median()+ (iqr*1.5)\n",
    "\n",
    "living_lower_limit, living_upper_limit"
   ]
  },
  {
   "cell_type": "markdown",
   "metadata": {},
   "source": [
    "Similar to the issue of price, we decide on median as we had big outliers that can skew the regrression."
   ]
  },
  {
   "cell_type": "code",
   "execution_count": 31,
   "metadata": {
    "ExecuteTime": {
     "end_time": "2022-04-01T19:00:30.219936Z",
     "start_time": "2022-04-01T19:00:30.206923Z"
    }
   },
   "outputs": [],
   "source": [
    "#dropping sqft_living outliers\n",
    "df_copy = df_copy[df_copy['sqft_living'] < living_upper_limit]"
   ]
  },
  {
   "cell_type": "code",
   "execution_count": 32,
   "metadata": {
    "ExecuteTime": {
     "end_time": "2022-04-01T19:00:32.022142Z",
     "start_time": "2022-04-01T19:00:30.224808Z"
    },
    "scrolled": true
   },
   "outputs": [
    {
     "data": {
      "image/png": "[encoded data removed]",
      "text/plain": [
       "<Figure size 864x864 with 2 Axes>"
      ]
     },
     "metadata": {
      "needs_background": "light"
     },
     "output_type": "display_data"
    }
   ],
   "source": [
    "# Visualizing correlations between numerical columns\n",
    "# with a seaborn heatmap to investigate the correlation\n",
    "\n",
    "fig, ax = plt.subplots(figsize=(12, 12))\n",
    "corr = df.corr()\n",
    "\n",
    "# Instantiate numpy array of zeroes and assign to `mask`\n",
    "mask = np.zeros_like(corr,\n",
    "                     dtype=bool)\n",
    "\n",
    "# Returns indices from upper triangle of array\n",
    "mask[np.triu_indices_from(mask)] = True\n",
    "\n",
    "sns.heatmap(corr,\n",
    "            annot=True,\n",
    "            mask=mask);"
   ]
  },
  {
   "cell_type": "markdown",
   "metadata": {},
   "source": [
    "**Observations from this heatmap:**\n",
    "\n",
    "- `sqft_living` has the highest correlation with price, an r-value of `0.7`...\n",
    "    - ...but `sqft_living` is also correlated with several other columns: `bedrooms`, `bathrooms`, `sqft_above` (this one has an r-value of `0.88`!), and `sqft_living15`, so we'll need to be careful that we don't include collinear features in our models.\n",
    "- `zipcode`, `lat`, and `long` all have low (`0.31` or below) correlations with `price` - these columns may not be immediately useful to us in constructing models for this project, but could be worth looking into as next-step recommendations."
   ]
  },
  {
   "cell_type": "code",
   "execution_count": 33,
   "metadata": {
    "ExecuteTime": {
     "end_time": "2022-04-01T19:00:32.037233Z",
     "start_time": "2022-04-01T19:00:32.024166Z"
    }
   },
   "outputs": [
    {
     "data": {
      "text/plain": [
       "3     9156\n",
       "4     5418\n",
       "2     2685\n",
       "5      987\n",
       "1      189\n",
       "6      158\n",
       "7       18\n",
       "8        5\n",
       "11       1\n",
       "10       1\n",
       "33       1\n",
       "Name: bedrooms, dtype: int64"
      ]
     },
     "execution_count": 33,
     "metadata": {},
     "output_type": "execute_result"
    }
   ],
   "source": [
    "#looking at bedroom and bath rooms\n",
    "df_copy.bedrooms.value_counts()"
   ]
  },
  {
   "cell_type": "code",
   "execution_count": 34,
   "metadata": {
    "ExecuteTime": {
     "end_time": "2022-04-01T19:00:32.067535Z",
     "start_time": "2022-04-01T19:00:32.046423Z"
    }
   },
   "outputs": [
    {
     "data": {
      "text/plain": [
       "2.50    4727\n",
       "1.00    3766\n",
       "1.75    2924\n",
       "2.00    1851\n",
       "2.25    1832\n",
       "1.50    1393\n",
       "2.75     927\n",
       "3.00     525\n",
       "3.50     277\n",
       "3.25     239\n",
       "0.75      69\n",
       "3.75      34\n",
       "4.00      27\n",
       "4.50       8\n",
       "1.25       7\n",
       "5.00       4\n",
       "4.25       4\n",
       "0.50       4\n",
       "5.25       1\n",
       "Name: bathrooms, dtype: int64"
      ]
     },
     "execution_count": 34,
     "metadata": {},
     "output_type": "execute_result"
    }
   ],
   "source": [
    "df_copy.bathrooms.value_counts()"
   ]
  },
  {
   "cell_type": "markdown",
   "metadata": {},
   "source": [
    "We notice that the bedrooms and bathrooms are categorical, so the correlation between the bathrooms, bedrooms and `sqft_living` is not actually what we see in the correlation map."
   ]
  },
  {
   "cell_type": "code",
   "execution_count": 35,
   "metadata": {
    "ExecuteTime": {
     "end_time": "2022-04-01T19:00:32.083491Z",
     "start_time": "2022-04-01T19:00:32.070493Z"
    }
   },
   "outputs": [],
   "source": [
    "# df_copy.drop(df_copy.loc[df_copy['bedrooms'] == 33])"
   ]
  },
  {
   "cell_type": "code",
   "execution_count": 36,
   "metadata": {
    "ExecuteTime": {
     "end_time": "2022-04-01T19:00:32.098967Z",
     "start_time": "2022-04-01T19:00:32.085493Z"
    }
   },
   "outputs": [],
   "source": [
    "#dropping inaccurate data and data with 1 sample\n",
    "\n",
    "df_copy = df_copy[(df_copy['bedrooms'] != 33)]"
   ]
  },
  {
   "cell_type": "code",
   "execution_count": 37,
   "metadata": {
    "ExecuteTime": {
     "end_time": "2022-04-01T19:00:32.114986Z",
     "start_time": "2022-04-01T19:00:32.100963Z"
    }
   },
   "outputs": [],
   "source": [
    "df_copy = df_copy[(df_copy['bedrooms'] != 10)]"
   ]
  },
  {
   "cell_type": "code",
   "execution_count": 38,
   "metadata": {
    "ExecuteTime": {
     "end_time": "2022-04-01T19:00:32.130740Z",
     "start_time": "2022-04-01T19:00:32.116948Z"
    }
   },
   "outputs": [],
   "source": [
    "df_copy = df_copy[(df_copy['bedrooms'] != 11)]"
   ]
  },
  {
   "cell_type": "code",
   "execution_count": 39,
   "metadata": {
    "ExecuteTime": {
     "end_time": "2022-04-01T19:00:32.146709Z",
     "start_time": "2022-04-01T19:00:32.132705Z"
    }
   },
   "outputs": [],
   "source": [
    "df_copy = df_copy[(df_copy['bathrooms'] != 5.25)]"
   ]
  },
  {
   "cell_type": "code",
   "execution_count": 40,
   "metadata": {
    "ExecuteTime": {
     "end_time": "2022-04-01T19:00:32.177674Z",
     "start_time": "2022-04-01T19:00:32.149702Z"
    }
   },
   "outputs": [
    {
     "data": {
      "text/plain": [
       "3    9156\n",
       "4    5418\n",
       "2    2685\n",
       "5     987\n",
       "1     189\n",
       "6     157\n",
       "7      18\n",
       "8       5\n",
       "Name: bedrooms, dtype: int64"
      ]
     },
     "execution_count": 40,
     "metadata": {},
     "output_type": "execute_result"
    }
   ],
   "source": [
    "# Sanity check...\n",
    "df_copy['bedrooms'].value_counts()"
   ]
  },
  {
   "cell_type": "code",
   "execution_count": 41,
   "metadata": {
    "ExecuteTime": {
     "end_time": "2022-04-01T19:00:32.192801Z",
     "start_time": "2022-04-01T19:00:32.179624Z"
    }
   },
   "outputs": [],
   "source": [
    "# Drop irrelevant columns\n",
    "df_copy.drop(columns=['date',\n",
    "                      'floors',\n",
    "                      'waterfront',\n",
    "                      'condition',\n",
    "                      'sqft_above',  # potential for multicollinearity\n",
    "                      'sqft_basement',  # potential for multicollinearity\n",
    "                      'yr_renovated',\n",
    "                      'lat',\n",
    "                      'long',\n",
    "                      'sqft_living15',  # potential for multicollinearity\n",
    "                      'sqft_lot15',\n",
    "                      'zipcode',\n",
    "                      'yr_built'],\n",
    "             inplace=True)"
   ]
  },
  {
   "cell_type": "code",
   "execution_count": 42,
   "metadata": {
    "ExecuteTime": {
     "end_time": "2022-04-01T19:00:32.240232Z",
     "start_time": "2022-04-01T19:00:32.195799Z"
    }
   },
   "outputs": [],
   "source": [
    "# Converting bedroom/bathrooms to ensure they remain categorical when we scale\n",
    "df_copy.bedrooms = df_copy.bedrooms.astype(str)\n",
    "df_copy.bathrooms  = df_copy.bathrooms.astype(str)"
   ]
  },
  {
   "cell_type": "markdown",
   "metadata": {},
   "source": [
    "In the process of data exploration, we noticed when plotting `sqft_living` against `price` that the residuals had a *heteroskedastic* pattern; in keeping with the assumptions of linear regression, we transform the `price` column with `np.log()`."
   ]
  },
  {
   "cell_type": "code",
   "execution_count": 43,
   "metadata": {
    "ExecuteTime": {
     "end_time": "2022-04-01T19:00:32.255921Z",
     "start_time": "2022-04-01T19:00:32.245964Z"
    }
   },
   "outputs": [],
   "source": [
    "# Transforming price column\n",
    "df_copy['price'] = np.log(df_copy['price'])"
   ]
  },
  {
   "cell_type": "markdown",
   "metadata": {},
   "source": [
    "All set to begin preprocessing!"
   ]
  },
  {
   "cell_type": "markdown",
   "metadata": {},
   "source": [
    "# Splitting data into train and test sets"
   ]
  },
  {
   "cell_type": "markdown",
   "metadata": {},
   "source": [
    "Our **target** variable, or `y`, is going to be `price`, i.e. the sale price of a given home."
   ]
  },
  {
   "cell_type": "code",
   "execution_count": 44,
   "metadata": {
    "ExecuteTime": {
     "end_time": "2022-04-01T19:00:32.271912Z",
     "start_time": "2022-04-01T19:00:32.258942Z"
    }
   },
   "outputs": [],
   "source": [
    "# Creating target variable and predictor dataframe\n",
    "y = df_copy['price']\n",
    "X = df_copy.drop(labels='price',\n",
    "                 axis=1)"
   ]
  },
  {
   "cell_type": "code",
   "execution_count": 45,
   "metadata": {
    "ExecuteTime": {
     "end_time": "2022-04-01T19:00:32.287836Z",
     "start_time": "2022-04-01T19:00:32.274869Z"
    }
   },
   "outputs": [],
   "source": [
    "# Initiating train-test split\n",
    "X_train, X_test, y_train, y_test = train_test_split(\n",
    "    X, y, test_size=0.33, random_state=42)"
   ]
  },
  {
   "cell_type": "code",
   "execution_count": 46,
   "metadata": {
    "ExecuteTime": {
     "end_time": "2022-04-01T19:00:32.335591Z",
     "start_time": "2022-04-01T19:00:32.290827Z"
    },
    "scrolled": false
   },
   "outputs": [
    {
     "data": {
      "text/plain": [
       "True"
      ]
     },
     "execution_count": 46,
     "metadata": {},
     "output_type": "execute_result"
    }
   ],
   "source": [
    "# Ensuring proper split / 'sanity check'\n",
    "len(X_train + X_test) == len(X)"
   ]
  },
  {
   "cell_type": "markdown",
   "metadata": {},
   "source": [
    "Below, we create our first model - a baseline model using `DummyRegressor` from `sklearn`, which allows us to calculate our first scores."
   ]
  },
  {
   "cell_type": "code",
   "execution_count": 47,
   "metadata": {
    "ExecuteTime": {
     "end_time": "2022-04-01T19:00:32.351521Z",
     "start_time": "2022-04-01T19:00:32.338556Z"
    },
    "scrolled": true
   },
   "outputs": [
    {
     "name": "stdout",
     "output_type": "stream",
     "text": [
      "179558.45456604185\n",
      "0.0\n"
     ]
    }
   ],
   "source": [
    "# Setting Baseline model for train\n",
    "\n",
    "# Instantiate\n",
    "dummy_lr = DummyRegressor()\n",
    "\n",
    "# Create variables\n",
    "X_t = X_train\n",
    "y_t = y_train\n",
    "\n",
    "# Fit\n",
    "dummy_lr.fit(X_t,y_t)\n",
    "\n",
    "# Score\n",
    "dummy_lr.score(X_t,y_t)\n",
    "\n",
    "#predict\n",
    "dummy_pred1 = dummy_lr.predict(X_t)\n",
    "\n",
    "#RMSE\n",
    "print(mean_squared_error(np.exp(y_t), np.exp(dummy_pred1), squared=False))\n",
    "print(r2_score(y_t, dummy_pred1))"
   ]
  },
  {
   "cell_type": "code",
   "execution_count": 48,
   "metadata": {
    "ExecuteTime": {
     "end_time": "2022-04-01T19:00:32.367390Z",
     "start_time": "2022-04-01T19:00:32.355508Z"
    }
   },
   "outputs": [
    {
     "name": "stdout",
     "output_type": "stream",
     "text": [
      "182343.9277872364\n",
      "-0.0001910009892840403\n"
     ]
    }
   ],
   "source": [
    "# Setting Baseline model for test\n",
    "\n",
    "# Create variables\n",
    "X_test1 = X_test\n",
    "y_test1 = y_test\n",
    "\n",
    "# Score\n",
    "dummy_lr.score(X_test1,y_test1)\n",
    "\n",
    "#predict\n",
    "dummy_pred2 = dummy_lr.predict(X_test1)\n",
    "\n",
    "#RMSE\n",
    "print(mean_squared_error(np.exp(y_test1), np.exp(dummy_pred2), squared=False))\n",
    "print(r2_score(y_test1,dummy_pred2))"
   ]
  },
  {
   "cell_type": "code",
   "execution_count": 49,
   "metadata": {
    "ExecuteTime": {
     "end_time": "2022-04-01T19:00:32.601842Z",
     "start_time": "2022-04-01T19:00:32.370383Z"
    }
   },
   "outputs": [
    {
     "data": {
      "image/png": "[encoded data removed]",
      "text/plain": [
       "<Figure size 864x864 with 2 Axes>"
      ]
     },
     "metadata": {
      "needs_background": "light"
     },
     "output_type": "display_data"
    }
   ],
   "source": [
    "#looking at coefficients once again to see what the chancges are for relationship between the features\n",
    "fig, ax = plt.subplots(figsize=(12, 12))\n",
    "corr = X_train.corr()\n",
    "\n",
    "# Instantiate numpy array of zeroes and assign to `mask`\n",
    "mask = np.zeros_like(corr,\n",
    "                     dtype=bool)\n",
    "\n",
    "# Returns indices from upper triangle of array\n",
    "mask[np.triu_indices_from(mask)] = True\n",
    "\n",
    "sns.heatmap(corr,\n",
    "            annot=True,\n",
    "            mask=mask);"
   ]
  },
  {
   "cell_type": "markdown",
   "metadata": {},
   "source": [
    "## Scaling and `OneHotEncoder`"
   ]
  },
  {
   "cell_type": "markdown",
   "metadata": {},
   "source": [
    "Now that we've established what our baseline model is, we can now move on to adjusting our features, as these transformation here affects the models being built."
   ]
  },
  {
   "cell_type": "code",
   "execution_count": 50,
   "metadata": {
    "ExecuteTime": {
     "end_time": "2022-04-01T19:00:32.648672Z",
     "start_time": "2022-04-01T19:00:32.604952Z"
    }
   },
   "outputs": [],
   "source": [
    "scaler = StandardScaler()\n",
    "\n",
    "# Calling to certain columns\n",
    "continous = [c for c in X_train.columns if (X_train[c].dtype == 'int64')| (X_train[c].dtype == 'float64')]\n",
    "\n",
    "#transform the dataframe with having to split into different dataframes of num and categorical\n",
    "ct = ColumnTransformer(transformers=[('scale', scaler, continous)],\n",
    "                       remainder='drop')\n",
    "ct.fit(X_train)\n",
    "\n",
    "# Transform training data\n",
    "X_train_scaled = X_train.copy()\n",
    "X_train_trans = ct.transform(X_train)\n",
    "\n",
    "#prevents the conversion of numerical columns into objects by saving over\n",
    "X_train_scaled[continous] = X_train_trans\n",
    "\n",
    "# Scaling testing data\n",
    "X_test_scaled = X_test.copy()\n",
    "\n",
    "X_test_trans = ct.transform(X_test)\n",
    "X_test_scaled[continous] = X_test_trans"
   ]
  },
  {
   "cell_type": "code",
   "execution_count": 51,
   "metadata": {
    "ExecuteTime": {
     "end_time": "2022-04-01T19:00:32.772015Z",
     "start_time": "2022-04-01T19:00:32.650668Z"
    }
   },
   "outputs": [
    {
     "data": {
      "text/plain": [
       "<6143x41 sparse matrix of type '<class 'numpy.float64'>'\n",
       "\twith 36858 stored elements in Compressed Sparse Row format>"
      ]
     },
     "execution_count": 51,
     "metadata": {},
     "output_type": "execute_result"
    }
   ],
   "source": [
    "#creating list of columns\n",
    "cat_cols = [c for c in X_train_scaled.columns if X_train_scaled[c].dtype == 'O']\n",
    "\n",
    "encoder = OneHotEncoder(drop='if_binary', handle_unknown='ignore')\n",
    "\n",
    "# Create a columntransformer object.\n",
    "ct2 = ColumnTransformer(transformers=[('ohe', encoder, cat_cols)],\n",
    "                       remainder='passthrough')\n",
    "ct2.fit(X_train_scaled)\n",
    "X_train_enc = ct2.transform(X_train_scaled)\n",
    "X_train_enc\n",
    "\n",
    "#OHE testing\n",
    "X_test_enc = ct2.transform(X_test_scaled)\n",
    "X_test_enc"
   ]
  },
  {
   "cell_type": "code",
   "execution_count": 52,
   "metadata": {
    "ExecuteTime": {
     "end_time": "2022-04-01T19:00:32.819494Z",
     "start_time": "2022-04-01T19:00:32.783593Z"
    }
   },
   "outputs": [],
   "source": [
    "scaled_p_df = pd.DataFrame(X_train_enc.todense() ,columns= ct2.get_feature_names_out(), index = y_train.index)\n",
    "scaled_test_df= pd.DataFrame(X_test_enc.todense(), columns= ct2.get_feature_names_out(), index = y_test.index)"
   ]
  },
  {
   "cell_type": "code",
   "execution_count": 53,
   "metadata": {
    "ExecuteTime": {
     "end_time": "2022-04-01T19:00:32.851333Z",
     "start_time": "2022-04-01T19:00:32.821491Z"
    },
    "scrolled": true
   },
   "outputs": [
    {
     "name": "stdout",
     "output_type": "stream",
     "text": [
      "<class 'pandas.core.frame.DataFrame'>\n",
      "Int64Index: 12472 entries, 13079 to 18204\n",
      "Data columns (total 41 columns):\n",
      " #   Column                    Non-Null Count  Dtype  \n",
      "---  ------                    --------------  -----  \n",
      " 0   ohe__bedrooms_1           12472 non-null  float64\n",
      " 1   ohe__bedrooms_2           12472 non-null  float64\n",
      " 2   ohe__bedrooms_3           12472 non-null  float64\n",
      " 3   ohe__bedrooms_4           12472 non-null  float64\n",
      " 4   ohe__bedrooms_5           12472 non-null  float64\n",
      " 5   ohe__bedrooms_6           12472 non-null  float64\n",
      " 6   ohe__bedrooms_7           12472 non-null  float64\n",
      " 7   ohe__bedrooms_8           12472 non-null  float64\n",
      " 8   ohe__bathrooms_0.5        12472 non-null  float64\n",
      " 9   ohe__bathrooms_0.75       12472 non-null  float64\n",
      " 10  ohe__bathrooms_1.0        12472 non-null  float64\n",
      " 11  ohe__bathrooms_1.25       12472 non-null  float64\n",
      " 12  ohe__bathrooms_1.5        12472 non-null  float64\n",
      " 13  ohe__bathrooms_1.75       12472 non-null  float64\n",
      " 14  ohe__bathrooms_2.0        12472 non-null  float64\n",
      " 15  ohe__bathrooms_2.25       12472 non-null  float64\n",
      " 16  ohe__bathrooms_2.5        12472 non-null  float64\n",
      " 17  ohe__bathrooms_2.75       12472 non-null  float64\n",
      " 18  ohe__bathrooms_3.0        12472 non-null  float64\n",
      " 19  ohe__bathrooms_3.25       12472 non-null  float64\n",
      " 20  ohe__bathrooms_3.5        12472 non-null  float64\n",
      " 21  ohe__bathrooms_3.75       12472 non-null  float64\n",
      " 22  ohe__bathrooms_4.0        12472 non-null  float64\n",
      " 23  ohe__bathrooms_4.25       12472 non-null  float64\n",
      " 24  ohe__bathrooms_4.5        12472 non-null  float64\n",
      " 25  ohe__bathrooms_5.0        12472 non-null  float64\n",
      " 26  ohe__view_AVERAGE         12472 non-null  float64\n",
      " 27  ohe__view_EXCELLENT       12472 non-null  float64\n",
      " 28  ohe__view_FAIR            12472 non-null  float64\n",
      " 29  ohe__view_GOOD            12472 non-null  float64\n",
      " 30  ohe__view_NONE            12472 non-null  float64\n",
      " 31  ohe__grade_10_Very_Good   12472 non-null  float64\n",
      " 32  ohe__grade_11_Excellent   12472 non-null  float64\n",
      " 33  ohe__grade_4_Low          12472 non-null  float64\n",
      " 34  ohe__grade_5_Fair         12472 non-null  float64\n",
      " 35  ohe__grade_6_Low_Average  12472 non-null  float64\n",
      " 36  ohe__grade_7_Average      12472 non-null  float64\n",
      " 37  ohe__grade_8_Good         12472 non-null  float64\n",
      " 38  ohe__grade_9_Better       12472 non-null  float64\n",
      " 39  remainder__sqft_living    12472 non-null  float64\n",
      " 40  remainder__sqft_lot       12472 non-null  float64\n",
      "dtypes: float64(41)\n",
      "memory usage: 4.0 MB\n"
     ]
    }
   ],
   "source": [
    "scaled_p_df.info()"
   ]
  },
  {
   "cell_type": "code",
   "execution_count": 54,
   "metadata": {
    "ExecuteTime": {
     "end_time": "2022-04-01T19:00:32.882142Z",
     "start_time": "2022-04-01T19:00:32.858329Z"
    }
   },
   "outputs": [],
   "source": [
    "#cleaning the column names for easier access\n",
    "scaled_p_df.columns = [x.replace(\"ohe__\", \"\").replace('remainder__','').strip() for x in scaled_p_df.columns]\n",
    "scaled_test_df.columns = [x.replace(\"ohe__\", \"\").replace('remainder__','').strip() for x in scaled_test_df.columns]"
   ]
  },
  {
   "cell_type": "code",
   "execution_count": 55,
   "metadata": {
    "ExecuteTime": {
     "end_time": "2022-04-01T19:00:32.928678Z",
     "start_time": "2022-04-01T19:00:32.891635Z"
    }
   },
   "outputs": [],
   "source": [
    "#dropping a columns as we did not do this in our ohe\n",
    "scaled_p_df.drop(columns = ['view_FAIR', 'grade_4_Low','bedrooms_8', 'bathrooms_5.0'], inplace = True)\n",
    "scaled_test_df.drop(columns = ['view_FAIR', 'grade_4_Low','bedrooms_8','bathrooms_5.0'], inplace = True)"
   ]
  },
  {
   "cell_type": "markdown",
   "metadata": {},
   "source": [
    "# Modeling"
   ]
  },
  {
   "cell_type": "markdown",
   "metadata": {},
   "source": [
    "## Function for scoring"
   ]
  },
  {
   "cell_type": "code",
   "execution_count": 56,
   "metadata": {
    "ExecuteTime": {
     "end_time": "2022-04-01T19:00:32.944628Z",
     "start_time": "2022-04-01T19:00:32.932666Z"
    }
   },
   "outputs": [],
   "source": [
    "#function that gather relevant information from train models\n",
    "def scores(x,y):\n",
    "    regressor = LinearRegression()\n",
    "    regressor.fit(x,y)\n",
    "    y_pred = regressor.predict(x)\n",
    "    result1 = regressor.score(x,y)\n",
    "    result2 = r2_score(y,y_pred)\n",
    "    rmse = mean_squared_error(np.exp(y), np.exp(y_pred), squared=False)\n",
    "    \n",
    "    print(\"Model train score is:\", result1) \n",
    "    print(\"Train r2_score is:\", result2)\n",
    "    print(\"The train RMSE is:\" , rmse)"
   ]
  },
  {
   "cell_type": "markdown",
   "metadata": {},
   "source": [
    "## Initial Model - Simple Linear Regression with `sqft_living`"
   ]
  },
  {
   "cell_type": "code",
   "execution_count": 57,
   "metadata": {
    "ExecuteTime": {
     "end_time": "2022-04-01T19:00:33.163809Z",
     "start_time": "2022-04-01T19:00:32.946623Z"
    }
   },
   "outputs": [
    {
     "data": {
      "image/png": "[encoded data removed]",
      "text/plain": [
       "<Figure size 1080x360 with 1 Axes>"
      ]
     },
     "metadata": {
      "needs_background": "light"
     },
     "output_type": "display_data"
    }
   ],
   "source": [
    "#taking a look at the relationship once more before we start\n",
    "fig, ax = plt.subplots(figsize = (15,5))\n",
    "\n",
    "x = scaled_p_df['sqft_living']\n",
    "y = y_train\n",
    "\n",
    "\n",
    "ax.scatter(x, y);"
   ]
  },
  {
   "cell_type": "code",
   "execution_count": 58,
   "metadata": {
    "ExecuteTime": {
     "end_time": "2022-04-01T19:00:33.179932Z",
     "start_time": "2022-04-01T19:00:33.165654Z"
    }
   },
   "outputs": [
    {
     "data": {
      "text/plain": [
       "array([[1.        , 0.53542926],\n",
       "       [0.53542926, 1.        ]])"
      ]
     },
     "execution_count": 58,
     "metadata": {},
     "output_type": "execute_result"
    }
   ],
   "source": [
    "# Correlation between X_train feature (sqft_living) to y_train\n",
    "np.corrcoef(x,y)"
   ]
  },
  {
   "cell_type": "markdown",
   "metadata": {},
   "source": [
    "The correlation drops from `0.7` to `0.54` after cleaning the data for outliers and splitting to train-test."
   ]
  },
  {
   "cell_type": "code",
   "execution_count": 59,
   "metadata": {
    "ExecuteTime": {
     "end_time": "2022-04-01T19:00:33.195928Z",
     "start_time": "2022-04-01T19:00:33.181787Z"
    }
   },
   "outputs": [
    {
     "data": {
      "text/plain": [
       "179558.45456604185"
      ]
     },
     "execution_count": 59,
     "metadata": {},
     "output_type": "execute_result"
    }
   ],
   "source": [
    "# Baseline model\n",
    "\n",
    "# Instantiate\n",
    "dummy_lr = DummyRegressor()\n",
    "\n",
    "# Create variables\n",
    "X = scaled_p_df['sqft_living']\n",
    "y = y_train\n",
    "\n",
    "# Fit\n",
    "dummy_lr.fit(X,y)\n",
    "\n",
    "# Score\n",
    "dummy_lr.score(X,y)\n",
    "\n",
    "#predict\n",
    "dummy_pred = dummy_lr.predict(X)\n",
    "\n",
    "#RMSE\n",
    "mean_squared_error(np.exp(y), np.exp(dummy_pred), squared=False)"
   ]
  },
  {
   "cell_type": "markdown",
   "metadata": {},
   "source": [
    "### Assumption testing - simple model (`sqft_living`)"
   ]
  },
  {
   "cell_type": "code",
   "execution_count": 60,
   "metadata": {
    "ExecuteTime": {
     "end_time": "2022-04-01T19:00:33.241854Z",
     "start_time": "2022-04-01T19:00:33.197921Z"
    }
   },
   "outputs": [
    {
     "name": "stdout",
     "output_type": "stream",
     "text": [
      "Model train score is: 0.2866844956284348\n",
      "Train r2_score is: 0.2866844956284348\n",
      "The train RMSE is: 150903.96834668456\n"
     ]
    }
   ],
   "source": [
    "X = scaled_p_df[['sqft_living']]\n",
    "y = y_train\n",
    "\n",
    "model = LinearRegression()\n",
    "model.fit(X,y)\n",
    "y_pred = model.predict(X)\n",
    "\n",
    "resids = y - y_pred\n",
    "\n",
    "# Scores for simple model\n",
    "scores(X,y)"
   ]
  },
  {
   "cell_type": "code",
   "execution_count": 61,
   "metadata": {
    "ExecuteTime": {
     "end_time": "2022-04-01T19:00:33.257626Z",
     "start_time": "2022-04-01T19:00:33.244627Z"
    }
   },
   "outputs": [
    {
     "data": {
      "text/plain": [
       "111"
      ]
     },
     "execution_count": 61,
     "metadata": {},
     "output_type": "execute_result"
    }
   ],
   "source": [
    "# Create bins count for histogram\n",
    "bins = int( len(X)**.5)\n",
    "bins"
   ]
  },
  {
   "cell_type": "code",
   "execution_count": 62,
   "metadata": {
    "ExecuteTime": {
     "end_time": "2022-04-01T19:00:33.787049Z",
     "start_time": "2022-04-01T19:00:33.273935Z"
    }
   },
   "outputs": [
    {
     "data": {
      "image/png": "[encoded data removed]",
      "text/plain": [
       "<Figure size 432x288 with 1 Axes>"
      ]
     },
     "metadata": {
      "needs_background": "light"
     },
     "output_type": "display_data"
    }
   ],
   "source": [
    "# Histogram of residuals\n",
    "\n",
    "plt.hist(resids, bins=bins);"
   ]
  },
  {
   "cell_type": "code",
   "execution_count": 63,
   "metadata": {
    "ExecuteTime": {
     "end_time": "2022-04-01T19:00:34.347155Z",
     "start_time": "2022-04-01T19:00:33.792035Z"
    }
   },
   "outputs": [
    {
     "data": {
      "text/plain": [
       "<seaborn.axisgrid.FacetGrid at 0x276397faf70>"
      ]
     },
     "execution_count": 63,
     "metadata": {},
     "output_type": "execute_result"
    },
    {
     "data": {
      "image/png": "[encoded data removed]",
      "text/plain": [
       "<Figure size 360x360 with 1 Axes>"
      ]
     },
     "metadata": {
      "needs_background": "light"
     },
     "output_type": "display_data"
    }
   ],
   "source": [
    "sns.displot(resids, bins=bins, kde=True)"
   ]
  },
  {
   "cell_type": "code",
   "execution_count": 64,
   "metadata": {
    "ExecuteTime": {
     "end_time": "2022-04-01T19:00:34.612907Z",
     "start_time": "2022-04-01T19:00:34.349150Z"
    }
   },
   "outputs": [
    {
     "data": {
      "image/png": "[encoded data removed]",
      "text/plain": [
       "<Figure size 432x288 with 1 Axes>"
      ]
     },
     "metadata": {
      "needs_background": "light"
     },
     "output_type": "display_data"
    }
   ],
   "source": [
    "sm.qqplot(resids, line='r');"
   ]
  },
  {
   "cell_type": "code",
   "execution_count": 65,
   "metadata": {
    "ExecuteTime": {
     "end_time": "2022-04-01T19:00:34.846780Z",
     "start_time": "2022-04-01T19:00:34.615905Z"
    }
   },
   "outputs": [
    {
     "data": {
      "image/png": "[encoded data removed]",
      "text/plain": [
       "<Figure size 432x288 with 1 Axes>"
      ]
     },
     "metadata": {
      "needs_background": "light"
     },
     "output_type": "display_data"
    }
   ],
   "source": [
    "# resid plot sns.resid\n",
    "\n",
    "sns.residplot(x=X, y=y);"
   ]
  },
  {
   "cell_type": "code",
   "execution_count": 66,
   "metadata": {
    "ExecuteTime": {
     "end_time": "2022-04-01T19:00:35.080048Z",
     "start_time": "2022-04-01T19:00:34.848803Z"
    }
   },
   "outputs": [
    {
     "data": {
      "image/png": "[encoded data removed]",
      "text/plain": [
       "<Figure size 432x288 with 1 Axes>"
      ]
     },
     "metadata": {
      "needs_background": "light"
     },
     "output_type": "display_data"
    }
   ],
   "source": [
    "plt.scatter(y_pred, resids);"
   ]
  },
  {
   "cell_type": "markdown",
   "metadata": {},
   "source": [
    "Our simple linear regression for the most part passes the assumption of linear regression as our residuals are more or less normally distributed, homoskedastic, and the qqplot is mostly linear."
   ]
  },
  {
   "cell_type": "markdown",
   "metadata": {},
   "source": [
    "## Modeling with Multiple Features"
   ]
  },
  {
   "cell_type": "markdown",
   "metadata": {},
   "source": [
    "### Iterative model 1"
   ]
  },
  {
   "cell_type": "markdown",
   "metadata": {},
   "source": [
    "This model contains all of the following features:\n",
    "- `bedrooms`\n",
    "- `bathrooms`\n",
    "- `view`\n",
    "- `grade`\n",
    "- `sqft_living`\n",
    "- `sqft_lot`"
   ]
  },
  {
   "cell_type": "code",
   "execution_count": 67,
   "metadata": {
    "ExecuteTime": {
     "end_time": "2022-04-01T19:00:35.111198Z",
     "start_time": "2022-04-01T19:00:35.082838Z"
    }
   },
   "outputs": [
    {
     "name": "stdout",
     "output_type": "stream",
     "text": [
      "<class 'pandas.core.frame.DataFrame'>\n",
      "Int64Index: 12472 entries, 13079 to 18204\n",
      "Data columns (total 37 columns):\n",
      " #   Column               Non-Null Count  Dtype  \n",
      "---  ------               --------------  -----  \n",
      " 0   bedrooms_1           12472 non-null  float64\n",
      " 1   bedrooms_2           12472 non-null  float64\n",
      " 2   bedrooms_3           12472 non-null  float64\n",
      " 3   bedrooms_4           12472 non-null  float64\n",
      " 4   bedrooms_5           12472 non-null  float64\n",
      " 5   bedrooms_6           12472 non-null  float64\n",
      " 6   bedrooms_7           12472 non-null  float64\n",
      " 7   bathrooms_0.5        12472 non-null  float64\n",
      " 8   bathrooms_0.75       12472 non-null  float64\n",
      " 9   bathrooms_1.0        12472 non-null  float64\n",
      " 10  bathrooms_1.25       12472 non-null  float64\n",
      " 11  bathrooms_1.5        12472 non-null  float64\n",
      " 12  bathrooms_1.75       12472 non-null  float64\n",
      " 13  bathrooms_2.0        12472 non-null  float64\n",
      " 14  bathrooms_2.25       12472 non-null  float64\n",
      " 15  bathrooms_2.5        12472 non-null  float64\n",
      " 16  bathrooms_2.75       12472 non-null  float64\n",
      " 17  bathrooms_3.0        12472 non-null  float64\n",
      " 18  bathrooms_3.25       12472 non-null  float64\n",
      " 19  bathrooms_3.5        12472 non-null  float64\n",
      " 20  bathrooms_3.75       12472 non-null  float64\n",
      " 21  bathrooms_4.0        12472 non-null  float64\n",
      " 22  bathrooms_4.25       12472 non-null  float64\n",
      " 23  bathrooms_4.5        12472 non-null  float64\n",
      " 24  view_AVERAGE         12472 non-null  float64\n",
      " 25  view_EXCELLENT       12472 non-null  float64\n",
      " 26  view_GOOD            12472 non-null  float64\n",
      " 27  view_NONE            12472 non-null  float64\n",
      " 28  grade_10_Very_Good   12472 non-null  float64\n",
      " 29  grade_11_Excellent   12472 non-null  float64\n",
      " 30  grade_5_Fair         12472 non-null  float64\n",
      " 31  grade_6_Low_Average  12472 non-null  float64\n",
      " 32  grade_7_Average      12472 non-null  float64\n",
      " 33  grade_8_Good         12472 non-null  float64\n",
      " 34  grade_9_Better       12472 non-null  float64\n",
      " 35  sqft_living          12472 non-null  float64\n",
      " 36  sqft_lot             12472 non-null  float64\n",
      "dtypes: float64(37)\n",
      "memory usage: 3.6 MB\n"
     ]
    }
   ],
   "source": [
    "scaled_p_df.info()"
   ]
  },
  {
   "cell_type": "code",
   "execution_count": 68,
   "metadata": {
    "ExecuteTime": {
     "end_time": "2022-04-01T19:00:35.126346Z",
     "start_time": "2022-04-01T19:00:35.114354Z"
    }
   },
   "outputs": [],
   "source": [
    "all_features = scaled_p_df.copy()"
   ]
  },
  {
   "cell_type": "code",
   "execution_count": 69,
   "metadata": {
    "ExecuteTime": {
     "end_time": "2022-04-01T19:00:35.156609Z",
     "start_time": "2022-04-01T19:00:35.129376Z"
    }
   },
   "outputs": [
    {
     "name": "stdout",
     "output_type": "stream",
     "text": [
      "<class 'pandas.core.frame.DataFrame'>\n",
      "Int64Index: 12472 entries, 13079 to 18204\n",
      "Data columns (total 37 columns):\n",
      " #   Column               Non-Null Count  Dtype  \n",
      "---  ------               --------------  -----  \n",
      " 0   bedrooms_1           12472 non-null  float64\n",
      " 1   bedrooms_2           12472 non-null  float64\n",
      " 2   bedrooms_3           12472 non-null  float64\n",
      " 3   bedrooms_4           12472 non-null  float64\n",
      " 4   bedrooms_5           12472 non-null  float64\n",
      " 5   bedrooms_6           12472 non-null  float64\n",
      " 6   bedrooms_7           12472 non-null  float64\n",
      " 7   bathrooms_0.5        12472 non-null  float64\n",
      " 8   bathrooms_0.75       12472 non-null  float64\n",
      " 9   bathrooms_1.0        12472 non-null  float64\n",
      " 10  bathrooms_1.25       12472 non-null  float64\n",
      " 11  bathrooms_1.5        12472 non-null  float64\n",
      " 12  bathrooms_1.75       12472 non-null  float64\n",
      " 13  bathrooms_2.0        12472 non-null  float64\n",
      " 14  bathrooms_2.25       12472 non-null  float64\n",
      " 15  bathrooms_2.5        12472 non-null  float64\n",
      " 16  bathrooms_2.75       12472 non-null  float64\n",
      " 17  bathrooms_3.0        12472 non-null  float64\n",
      " 18  bathrooms_3.25       12472 non-null  float64\n",
      " 19  bathrooms_3.5        12472 non-null  float64\n",
      " 20  bathrooms_3.75       12472 non-null  float64\n",
      " 21  bathrooms_4.0        12472 non-null  float64\n",
      " 22  bathrooms_4.25       12472 non-null  float64\n",
      " 23  bathrooms_4.5        12472 non-null  float64\n",
      " 24  view_AVERAGE         12472 non-null  float64\n",
      " 25  view_EXCELLENT       12472 non-null  float64\n",
      " 26  view_GOOD            12472 non-null  float64\n",
      " 27  view_NONE            12472 non-null  float64\n",
      " 28  grade_10_Very_Good   12472 non-null  float64\n",
      " 29  grade_11_Excellent   12472 non-null  float64\n",
      " 30  grade_5_Fair         12472 non-null  float64\n",
      " 31  grade_6_Low_Average  12472 non-null  float64\n",
      " 32  grade_7_Average      12472 non-null  float64\n",
      " 33  grade_8_Good         12472 non-null  float64\n",
      " 34  grade_9_Better       12472 non-null  float64\n",
      " 35  sqft_living          12472 non-null  float64\n",
      " 36  sqft_lot             12472 non-null  float64\n",
      "dtypes: float64(37)\n",
      "memory usage: 3.6 MB\n"
     ]
    }
   ],
   "source": [
    "all_features.info()"
   ]
  },
  {
   "cell_type": "code",
   "execution_count": 70,
   "metadata": {
    "ExecuteTime": {
     "end_time": "2022-04-01T19:00:35.187557Z",
     "start_time": "2022-04-01T19:00:35.158604Z"
    },
    "scrolled": true
   },
   "outputs": [
    {
     "name": "stdout",
     "output_type": "stream",
     "text": [
      "Model train score is: 0.39581229535560036\n",
      "Train r2_score is: 0.39581229535560036\n",
      "The train RMSE is: 138796.1739472261\n"
     ]
    }
   ],
   "source": [
    "scores(all_features, y_train)"
   ]
  },
  {
   "cell_type": "markdown",
   "metadata": {},
   "source": [
    "### Iterative model 2 - dropping `bathrooms`"
   ]
  },
  {
   "cell_type": "code",
   "execution_count": 71,
   "metadata": {
    "ExecuteTime": {
     "end_time": "2022-04-01T19:00:35.202874Z",
     "start_time": "2022-04-01T19:00:35.189521Z"
    }
   },
   "outputs": [],
   "source": [
    "no_bathrooms = all_features[all_features.columns.drop(list(all_features.filter(regex='bathrooms')))]"
   ]
  },
  {
   "cell_type": "code",
   "execution_count": 72,
   "metadata": {
    "ExecuteTime": {
     "end_time": "2022-04-01T19:00:35.264631Z",
     "start_time": "2022-04-01T19:00:35.213769Z"
    },
    "scrolled": true
   },
   "outputs": [
    {
     "name": "stdout",
     "output_type": "stream",
     "text": [
      "Model train score is: 0.3869884117604975\n",
      "Train r2_score is: 0.3869884117604975\n",
      "The train RMSE is: 139950.84152716948\n"
     ]
    }
   ],
   "source": [
    "scores(no_bathrooms, y_train)"
   ]
  },
  {
   "cell_type": "markdown",
   "metadata": {},
   "source": [
    "### Iterative model 3 - dropping `bedrooms`, `bathrooms`"
   ]
  },
  {
   "cell_type": "code",
   "execution_count": 73,
   "metadata": {
    "ExecuteTime": {
     "end_time": "2022-04-01T19:00:35.280173Z",
     "start_time": "2022-04-01T19:00:35.268617Z"
    }
   },
   "outputs": [],
   "source": [
    "no_bathrooms_bedrooms = no_bathrooms[no_bathrooms.columns.drop(\\\n",
    "                                    list(no_bathrooms.filter(regex= 'bedrooms')))]"
   ]
  },
  {
   "cell_type": "code",
   "execution_count": 74,
   "metadata": {
    "ExecuteTime": {
     "end_time": "2022-04-01T19:00:35.311238Z",
     "start_time": "2022-04-01T19:00:35.283164Z"
    }
   },
   "outputs": [
    {
     "name": "stdout",
     "output_type": "stream",
     "text": [
      "Model train score is: 0.3800444975586871\n",
      "Train r2_score is: 0.3800444975586871\n",
      "The train RMSE is: 140578.5330710249\n"
     ]
    }
   ],
   "source": [
    "scores(no_bathrooms_bedrooms, y_train)"
   ]
  },
  {
   "cell_type": "markdown",
   "metadata": {},
   "source": [
    "### Iterative model 4 - dropping `bedrooms`, `bathrooms`, `sqft_lot`"
   ]
  },
  {
   "cell_type": "code",
   "execution_count": 75,
   "metadata": {
    "ExecuteTime": {
     "end_time": "2022-04-01T19:00:35.326630Z",
     "start_time": "2022-04-01T19:00:35.316225Z"
    }
   },
   "outputs": [],
   "source": [
    "no_bathrooms_bedrooms_lot = no_bathrooms_bedrooms.drop(columns = 'sqft_lot')"
   ]
  },
  {
   "cell_type": "code",
   "execution_count": 76,
   "metadata": {
    "ExecuteTime": {
     "end_time": "2022-04-01T19:00:35.357547Z",
     "start_time": "2022-04-01T19:00:35.328625Z"
    },
    "scrolled": true
   },
   "outputs": [
    {
     "name": "stdout",
     "output_type": "stream",
     "text": [
      "Model train score is: 0.3799181972577498\n",
      "Train r2_score is: 0.3799181972577498\n",
      "The train RMSE is: 140568.4383576746\n"
     ]
    }
   ],
   "source": [
    "scores(no_bathrooms_bedrooms_lot, y_train)"
   ]
  },
  {
   "cell_type": "markdown",
   "metadata": {},
   "source": [
    "### Iterative model 5 - MLR with *only* `grade` and `sqft_living` (no `view`)"
   ]
  },
  {
   "cell_type": "code",
   "execution_count": 77,
   "metadata": {
    "ExecuteTime": {
     "end_time": "2022-04-01T19:00:35.372508Z",
     "start_time": "2022-04-01T19:00:35.359542Z"
    }
   },
   "outputs": [],
   "source": [
    "no_view = no_bathrooms_bedrooms_lot[no_bathrooms_bedrooms_lot.columns.drop(\\\n",
    "                                    list(no_bathrooms_bedrooms_lot.filter(regex= 'view')))]"
   ]
  },
  {
   "cell_type": "code",
   "execution_count": 78,
   "metadata": {
    "ExecuteTime": {
     "end_time": "2022-04-01T19:00:35.402974Z",
     "start_time": "2022-04-01T19:00:35.374502Z"
    }
   },
   "outputs": [
    {
     "name": "stdout",
     "output_type": "stream",
     "text": [
      "Model train score is: 0.3664179887358313\n",
      "Train r2_score is: 0.3664179887358313\n",
      "The train RMSE is: 142054.52825133374\n"
     ]
    }
   ],
   "source": [
    "scores(no_view, y_train)"
   ]
  },
  {
   "cell_type": "markdown",
   "metadata": {},
   "source": [
    "### Iterative model 6 - MLR with *only* `view` and `sqft_living` (no `grade`)"
   ]
  },
  {
   "cell_type": "code",
   "execution_count": 79,
   "metadata": {
    "ExecuteTime": {
     "end_time": "2022-04-01T19:00:35.418936Z",
     "start_time": "2022-04-01T19:00:35.405973Z"
    }
   },
   "outputs": [],
   "source": [
    "no_grade = no_bathrooms_bedrooms_lot[no_bathrooms_bedrooms_lot.columns.drop(\\\n",
    "                                    list(no_bathrooms_bedrooms_lot.filter(regex= 'grade')))]"
   ]
  },
  {
   "cell_type": "code",
   "execution_count": 80,
   "metadata": {
    "ExecuteTime": {
     "end_time": "2022-04-01T19:00:35.434897Z",
     "start_time": "2022-04-01T19:00:35.420929Z"
    }
   },
   "outputs": [
    {
     "name": "stdout",
     "output_type": "stream",
     "text": [
      "Model train score is: 0.30111344807027807\n",
      "Train r2_score is: 0.30111344807027807\n",
      "The train RMSE is: 149275.43418862144\n"
     ]
    }
   ],
   "source": [
    "scores(no_grade, y_train)"
   ]
  },
  {
   "cell_type": "markdown",
   "metadata": {},
   "source": [
    "Between our two models with exactly two features, we saw that dropping `grade` dropped the r2 to `0.30` versus when we dropped view which was `0.36` - a difference of about 6% in the r2 value, where `grade` better explains the variance."
   ]
  },
  {
   "cell_type": "markdown",
   "metadata": {},
   "source": [
    "Overall, we find that the model that explained the **most** variance in pricing is the model with all the features that we had chosen initially: `sqft_lot`, `bedrooms`, `bathrooms`, `view`, `grade` and `sqft_living`. This yields an r^2 value of about `0.4`."
   ]
  },
  {
   "cell_type": "code",
   "execution_count": 81,
   "metadata": {
    "ExecuteTime": {
     "end_time": "2022-04-01T19:00:35.545184Z",
     "start_time": "2022-04-01T19:00:35.437890Z"
    },
    "scrolled": true
   },
   "outputs": [
    {
     "data": {
      "text/html": [
       "<table class=\"simpletable\">\n",
       "<caption>OLS Regression Results</caption>\n",
       "<tr>\n",
       "  <th>Dep. Variable:</th>          <td>price</td>      <th>  R-squared:         </th> <td>   0.396</td>\n",
       "</tr>\n",
       "<tr>\n",
       "  <th>Model:</th>                   <td>OLS</td>       <th>  Adj. R-squared:    </th> <td>   0.394</td>\n",
       "</tr>\n",
       "<tr>\n",
       "  <th>Method:</th>             <td>Least Squares</td>  <th>  F-statistic:       </th> <td>   220.2</td>\n",
       "</tr>\n",
       "<tr>\n",
       "  <th>Date:</th>             <td>Fri, 01 Apr 2022</td> <th>  Prob (F-statistic):</th>  <td>  0.00</td> \n",
       "</tr>\n",
       "<tr>\n",
       "  <th>Time:</th>                 <td>15:00:35</td>     <th>  Log-Likelihood:    </th> <td> -3411.4</td>\n",
       "</tr>\n",
       "<tr>\n",
       "  <th>No. Observations:</th>      <td> 12472</td>      <th>  AIC:               </th> <td>   6899.</td>\n",
       "</tr>\n",
       "<tr>\n",
       "  <th>Df Residuals:</th>          <td> 12434</td>      <th>  BIC:               </th> <td>   7181.</td>\n",
       "</tr>\n",
       "<tr>\n",
       "  <th>Df Model:</th>              <td>    37</td>      <th>                     </th>     <td> </td>   \n",
       "</tr>\n",
       "<tr>\n",
       "  <th>Covariance Type:</th>      <td>nonrobust</td>    <th>                     </th>     <td> </td>   \n",
       "</tr>\n",
       "</table>\n",
       "<table class=\"simpletable\">\n",
       "<tr>\n",
       "           <td></td>              <th>coef</th>     <th>std err</th>      <th>t</th>      <th>P>|t|</th>  <th>[0.025</th>    <th>0.975]</th>  \n",
       "</tr>\n",
       "<tr>\n",
       "  <th>const</th>               <td>   12.4462</td> <td>    0.211</td> <td>   58.856</td> <td> 0.000</td> <td>   12.032</td> <td>   12.861</td>\n",
       "</tr>\n",
       "<tr>\n",
       "  <th>bedrooms_1</th>          <td>    0.0386</td> <td>    0.150</td> <td>    0.258</td> <td> 0.796</td> <td>   -0.255</td> <td>    0.332</td>\n",
       "</tr>\n",
       "<tr>\n",
       "  <th>bedrooms_2</th>          <td>    0.0325</td> <td>    0.147</td> <td>    0.221</td> <td> 0.825</td> <td>   -0.256</td> <td>    0.321</td>\n",
       "</tr>\n",
       "<tr>\n",
       "  <th>bedrooms_3</th>          <td>   -0.0728</td> <td>    0.147</td> <td>   -0.497</td> <td> 0.620</td> <td>   -0.360</td> <td>    0.215</td>\n",
       "</tr>\n",
       "<tr>\n",
       "  <th>bedrooms_4</th>          <td>   -0.0770</td> <td>    0.147</td> <td>   -0.525</td> <td> 0.599</td> <td>   -0.364</td> <td>    0.210</td>\n",
       "</tr>\n",
       "<tr>\n",
       "  <th>bedrooms_5</th>          <td>   -0.0654</td> <td>    0.147</td> <td>   -0.445</td> <td> 0.656</td> <td>   -0.353</td> <td>    0.223</td>\n",
       "</tr>\n",
       "<tr>\n",
       "  <th>bedrooms_6</th>          <td>   -0.0722</td> <td>    0.149</td> <td>   -0.485</td> <td> 0.627</td> <td>   -0.364</td> <td>    0.219</td>\n",
       "</tr>\n",
       "<tr>\n",
       "  <th>bedrooms_7</th>          <td>   -0.1080</td> <td>    0.178</td> <td>   -0.608</td> <td> 0.543</td> <td>   -0.457</td> <td>    0.241</td>\n",
       "</tr>\n",
       "<tr>\n",
       "  <th>bathrooms_0.5</th>       <td>   -0.3259</td> <td>    0.280</td> <td>   -1.162</td> <td> 0.245</td> <td>   -0.875</td> <td>    0.224</td>\n",
       "</tr>\n",
       "<tr>\n",
       "  <th>bathrooms_0.75</th>      <td>    0.0675</td> <td>    0.172</td> <td>    0.392</td> <td> 0.695</td> <td>   -0.270</td> <td>    0.405</td>\n",
       "</tr>\n",
       "<tr>\n",
       "  <th>bathrooms_1.0</th>       <td>    0.0708</td> <td>    0.166</td> <td>    0.427</td> <td> 0.670</td> <td>   -0.254</td> <td>    0.396</td>\n",
       "</tr>\n",
       "<tr>\n",
       "  <th>bathrooms_1.25</th>      <td>    0.1688</td> <td>    0.230</td> <td>    0.734</td> <td> 0.463</td> <td>   -0.282</td> <td>    0.620</td>\n",
       "</tr>\n",
       "<tr>\n",
       "  <th>bathrooms_1.5</th>       <td>    0.0409</td> <td>    0.166</td> <td>    0.247</td> <td> 0.805</td> <td>   -0.284</td> <td>    0.366</td>\n",
       "</tr>\n",
       "<tr>\n",
       "  <th>bathrooms_1.75</th>      <td>    0.0910</td> <td>    0.166</td> <td>    0.549</td> <td> 0.583</td> <td>   -0.234</td> <td>    0.416</td>\n",
       "</tr>\n",
       "<tr>\n",
       "  <th>bathrooms_2.0</th>       <td>    0.1011</td> <td>    0.166</td> <td>    0.610</td> <td> 0.542</td> <td>   -0.224</td> <td>    0.426</td>\n",
       "</tr>\n",
       "<tr>\n",
       "  <th>bathrooms_2.25</th>      <td>    0.0501</td> <td>    0.166</td> <td>    0.302</td> <td> 0.762</td> <td>   -0.275</td> <td>    0.375</td>\n",
       "</tr>\n",
       "<tr>\n",
       "  <th>bathrooms_2.5</th>       <td>   -0.0131</td> <td>    0.166</td> <td>   -0.079</td> <td> 0.937</td> <td>   -0.338</td> <td>    0.311</td>\n",
       "</tr>\n",
       "<tr>\n",
       "  <th>bathrooms_2.75</th>      <td>    0.0586</td> <td>    0.166</td> <td>    0.353</td> <td> 0.724</td> <td>   -0.266</td> <td>    0.383</td>\n",
       "</tr>\n",
       "<tr>\n",
       "  <th>bathrooms_3.0</th>       <td>    0.0597</td> <td>    0.166</td> <td>    0.360</td> <td> 0.719</td> <td>   -0.266</td> <td>    0.385</td>\n",
       "</tr>\n",
       "<tr>\n",
       "  <th>bathrooms_3.25</th>      <td>    0.1168</td> <td>    0.167</td> <td>    0.699</td> <td> 0.485</td> <td>   -0.211</td> <td>    0.444</td>\n",
       "</tr>\n",
       "<tr>\n",
       "  <th>bathrooms_3.5</th>       <td>    0.0753</td> <td>    0.167</td> <td>    0.451</td> <td> 0.652</td> <td>   -0.252</td> <td>    0.403</td>\n",
       "</tr>\n",
       "<tr>\n",
       "  <th>bathrooms_3.75</th>      <td>    0.1745</td> <td>    0.179</td> <td>    0.976</td> <td> 0.329</td> <td>   -0.176</td> <td>    0.525</td>\n",
       "</tr>\n",
       "<tr>\n",
       "  <th>bathrooms_4.0</th>       <td>    0.1277</td> <td>    0.179</td> <td>    0.712</td> <td> 0.476</td> <td>   -0.224</td> <td>    0.479</td>\n",
       "</tr>\n",
       "<tr>\n",
       "  <th>bathrooms_4.25</th>      <td>    0.1363</td> <td>    0.230</td> <td>    0.593</td> <td> 0.553</td> <td>   -0.314</td> <td>    0.587</td>\n",
       "</tr>\n",
       "<tr>\n",
       "  <th>bathrooms_4.5</th>       <td>   -0.0049</td> <td>    0.209</td> <td>   -0.023</td> <td> 0.981</td> <td>   -0.414</td> <td>    0.405</td>\n",
       "</tr>\n",
       "<tr>\n",
       "  <th>view_AVERAGE</th>        <td>   -0.0362</td> <td>    0.030</td> <td>   -1.199</td> <td> 0.230</td> <td>   -0.095</td> <td>    0.023</td>\n",
       "</tr>\n",
       "<tr>\n",
       "  <th>view_EXCELLENT</th>      <td>    0.1055</td> <td>    0.047</td> <td>    2.261</td> <td> 0.024</td> <td>    0.014</td> <td>    0.197</td>\n",
       "</tr>\n",
       "<tr>\n",
       "  <th>view_GOOD</th>           <td>   -0.0380</td> <td>    0.036</td> <td>   -1.069</td> <td> 0.285</td> <td>   -0.108</td> <td>    0.032</td>\n",
       "</tr>\n",
       "<tr>\n",
       "  <th>view_NONE</th>           <td>   -0.1844</td> <td>    0.026</td> <td>   -7.037</td> <td> 0.000</td> <td>   -0.236</td> <td>   -0.133</td>\n",
       "</tr>\n",
       "<tr>\n",
       "  <th>grade_10_Very_Good</th>  <td>    1.0234</td> <td>    0.083</td> <td>   12.369</td> <td> 0.000</td> <td>    0.861</td> <td>    1.186</td>\n",
       "</tr>\n",
       "<tr>\n",
       "  <th>grade_11_Excellent</th>  <td>    1.1018</td> <td>    0.115</td> <td>    9.608</td> <td> 0.000</td> <td>    0.877</td> <td>    1.327</td>\n",
       "</tr>\n",
       "<tr>\n",
       "  <th>grade_5_Fair</th>        <td>    0.2328</td> <td>    0.081</td> <td>    2.865</td> <td> 0.004</td> <td>    0.073</td> <td>    0.392</td>\n",
       "</tr>\n",
       "<tr>\n",
       "  <th>grade_6_Low_Average</th> <td>    0.3877</td> <td>    0.079</td> <td>    4.920</td> <td> 0.000</td> <td>    0.233</td> <td>    0.542</td>\n",
       "</tr>\n",
       "<tr>\n",
       "  <th>grade_7_Average</th>     <td>    0.5959</td> <td>    0.079</td> <td>    7.555</td> <td> 0.000</td> <td>    0.441</td> <td>    0.750</td>\n",
       "</tr>\n",
       "<tr>\n",
       "  <th>grade_8_Good</th>        <td>    0.7789</td> <td>    0.079</td> <td>    9.835</td> <td> 0.000</td> <td>    0.624</td> <td>    0.934</td>\n",
       "</tr>\n",
       "<tr>\n",
       "  <th>grade_9_Better</th>      <td>    0.9157</td> <td>    0.080</td> <td>   11.463</td> <td> 0.000</td> <td>    0.759</td> <td>    1.072</td>\n",
       "</tr>\n",
       "<tr>\n",
       "  <th>sqft_living</th>         <td>    0.1437</td> <td>    0.005</td> <td>   28.415</td> <td> 0.000</td> <td>    0.134</td> <td>    0.154</td>\n",
       "</tr>\n",
       "<tr>\n",
       "  <th>sqft_lot</th>            <td>    0.0022</td> <td>    0.003</td> <td>    0.767</td> <td> 0.443</td> <td>   -0.003</td> <td>    0.008</td>\n",
       "</tr>\n",
       "</table>\n",
       "<table class=\"simpletable\">\n",
       "<tr>\n",
       "  <th>Omnibus:</th>       <td>61.256</td> <th>  Durbin-Watson:     </th> <td>   2.025</td>\n",
       "</tr>\n",
       "<tr>\n",
       "  <th>Prob(Omnibus):</th> <td> 0.000</td> <th>  Jarque-Bera (JB):  </th> <td>  51.753</td>\n",
       "</tr>\n",
       "<tr>\n",
       "  <th>Skew:</th>          <td>-0.098</td> <th>  Prob(JB):          </th> <td>5.78e-12</td>\n",
       "</tr>\n",
       "<tr>\n",
       "  <th>Kurtosis:</th>      <td> 2.752</td> <th>  Cond. No.          </th> <td>    411.</td>\n",
       "</tr>\n",
       "</table><br/><br/>Notes:<br/>[1] Standard Errors assume that the covariance matrix of the errors is correctly specified."
      ],
      "text/plain": [
       "<class 'statsmodels.iolib.summary.Summary'>\n",
       "\"\"\"\n",
       "                            OLS Regression Results                            \n",
       "==============================================================================\n",
       "Dep. Variable:                  price   R-squared:                       0.396\n",
       "Model:                            OLS   Adj. R-squared:                  0.394\n",
       "Method:                 Least Squares   F-statistic:                     220.2\n",
       "Date:                Fri, 01 Apr 2022   Prob (F-statistic):               0.00\n",
       "Time:                        15:00:35   Log-Likelihood:                -3411.4\n",
       "No. Observations:               12472   AIC:                             6899.\n",
       "Df Residuals:                   12434   BIC:                             7181.\n",
       "Df Model:                          37                                         \n",
       "Covariance Type:            nonrobust                                         \n",
       "=======================================================================================\n",
       "                          coef    std err          t      P>|t|      [0.025      0.975]\n",
       "---------------------------------------------------------------------------------------\n",
       "const                  12.4462      0.211     58.856      0.000      12.032      12.861\n",
       "bedrooms_1              0.0386      0.150      0.258      0.796      -0.255       0.332\n",
       "bedrooms_2              0.0325      0.147      0.221      0.825      -0.256       0.321\n",
       "bedrooms_3             -0.0728      0.147     -0.497      0.620      -0.360       0.215\n",
       "bedrooms_4             -0.0770      0.147     -0.525      0.599      -0.364       0.210\n",
       "bedrooms_5             -0.0654      0.147     -0.445      0.656      -0.353       0.223\n",
       "bedrooms_6             -0.0722      0.149     -0.485      0.627      -0.364       0.219\n",
       "bedrooms_7             -0.1080      0.178     -0.608      0.543      -0.457       0.241\n",
       "bathrooms_0.5          -0.3259      0.280     -1.162      0.245      -0.875       0.224\n",
       "bathrooms_0.75          0.0675      0.172      0.392      0.695      -0.270       0.405\n",
       "bathrooms_1.0           0.0708      0.166      0.427      0.670      -0.254       0.396\n",
       "bathrooms_1.25          0.1688      0.230      0.734      0.463      -0.282       0.620\n",
       "bathrooms_1.5           0.0409      0.166      0.247      0.805      -0.284       0.366\n",
       "bathrooms_1.75          0.0910      0.166      0.549      0.583      -0.234       0.416\n",
       "bathrooms_2.0           0.1011      0.166      0.610      0.542      -0.224       0.426\n",
       "bathrooms_2.25          0.0501      0.166      0.302      0.762      -0.275       0.375\n",
       "bathrooms_2.5          -0.0131      0.166     -0.079      0.937      -0.338       0.311\n",
       "bathrooms_2.75          0.0586      0.166      0.353      0.724      -0.266       0.383\n",
       "bathrooms_3.0           0.0597      0.166      0.360      0.719      -0.266       0.385\n",
       "bathrooms_3.25          0.1168      0.167      0.699      0.485      -0.211       0.444\n",
       "bathrooms_3.5           0.0753      0.167      0.451      0.652      -0.252       0.403\n",
       "bathrooms_3.75          0.1745      0.179      0.976      0.329      -0.176       0.525\n",
       "bathrooms_4.0           0.1277      0.179      0.712      0.476      -0.224       0.479\n",
       "bathrooms_4.25          0.1363      0.230      0.593      0.553      -0.314       0.587\n",
       "bathrooms_4.5          -0.0049      0.209     -0.023      0.981      -0.414       0.405\n",
       "view_AVERAGE           -0.0362      0.030     -1.199      0.230      -0.095       0.023\n",
       "view_EXCELLENT          0.1055      0.047      2.261      0.024       0.014       0.197\n",
       "view_GOOD              -0.0380      0.036     -1.069      0.285      -0.108       0.032\n",
       "view_NONE              -0.1844      0.026     -7.037      0.000      -0.236      -0.133\n",
       "grade_10_Very_Good      1.0234      0.083     12.369      0.000       0.861       1.186\n",
       "grade_11_Excellent      1.1018      0.115      9.608      0.000       0.877       1.327\n",
       "grade_5_Fair            0.2328      0.081      2.865      0.004       0.073       0.392\n",
       "grade_6_Low_Average     0.3877      0.079      4.920      0.000       0.233       0.542\n",
       "grade_7_Average         0.5959      0.079      7.555      0.000       0.441       0.750\n",
       "grade_8_Good            0.7789      0.079      9.835      0.000       0.624       0.934\n",
       "grade_9_Better          0.9157      0.080     11.463      0.000       0.759       1.072\n",
       "sqft_living             0.1437      0.005     28.415      0.000       0.134       0.154\n",
       "sqft_lot                0.0022      0.003      0.767      0.443      -0.003       0.008\n",
       "==============================================================================\n",
       "Omnibus:                       61.256   Durbin-Watson:                   2.025\n",
       "Prob(Omnibus):                  0.000   Jarque-Bera (JB):               51.753\n",
       "Skew:                          -0.098   Prob(JB):                     5.78e-12\n",
       "Kurtosis:                       2.752   Cond. No.                         411.\n",
       "==============================================================================\n",
       "\n",
       "Notes:\n",
       "[1] Standard Errors assume that the covariance matrix of the errors is correctly specified.\n",
       "\"\"\""
      ]
     },
     "execution_count": 81,
     "metadata": {},
     "output_type": "execute_result"
    }
   ],
   "source": [
    "#our all features model in statmodel\n",
    "#statmodel version\n",
    "all_var = sm.OLS(y_train, sm.add_constant(all_features)).fit()\n",
    "all_var.summary()"
   ]
  },
  {
   "cell_type": "markdown",
   "metadata": {},
   "source": [
    "#### Explaining model coefficients"
   ]
  },
  {
   "cell_type": "code",
   "execution_count": 82,
   "metadata": {
    "ExecuteTime": {
     "end_time": "2022-04-01T19:00:35.561141Z",
     "start_time": "2022-04-01T19:00:35.547178Z"
    }
   },
   "outputs": [],
   "source": [
    "# Un-log-transforming coefficients to better interpret\n",
    "# affects of categorical variables\n",
    "coefs = (np.exp(all_var.params[1:]))"
   ]
  },
  {
   "cell_type": "markdown",
   "metadata": {},
   "source": [
    "**Interpreting coefficients and p-values:**\n",
    "\n",
    "- p-values below significance threshold of `0.05`:\n",
    "    - `sqft_living` = ~`0.000`\n",
    "    - `view_EXCELLENT` = `0.011`\n",
    "    - `view_GOOD` = `0.044`\n",
    "    - `view_NONE` = ~`0.000`\n",
    "    - all `grade` categories except `grade_5_Fair` = ~`0.000`\n",
    "    \n",
    "- Notable coefficient values **(unlogged)**\n",
    "    - `sqft_living` = `1.15`\n",
    "    - `grade_7_Average` and higher grades = >`1.81`\n",
    "        - `grade_11_Excellent` = `3.01`\n",
    "        - `grade_10_Very_Good` = `2.78`\n",
    "    - `view_EXCELLENT` = `1.11`\n",
    "\n",
    "- Root Mean Squared Error / RMSE\n",
    "    - `$139571.53` - our model can be expected to predict prices within ~ \\\\$140,000 of actual price"
   ]
  },
  {
   "cell_type": "markdown",
   "metadata": {},
   "source": [
    "## Testing best model on test data"
   ]
  },
  {
   "cell_type": "code",
   "execution_count": 83,
   "metadata": {
    "ExecuteTime": {
     "end_time": "2022-04-01T19:00:35.576101Z",
     "start_time": "2022-04-01T19:00:35.564134Z"
    }
   },
   "outputs": [],
   "source": [
    "def test_scores(x_test, y_test, X_train_model_data, y_train_model_data):\n",
    "    \n",
    "    model = LinearRegression()\n",
    "    model.fit(X_train_model_data, y_train_model_data) #input the correct X_train to create the right model\n",
    "    \n",
    "    test_preds = model.predict(x_test)\n",
    "\n",
    "    result1 = model.score(x_test, y_test)\n",
    "    result2 = r2_score(y_test, test_preds)\n",
    "    rmse = mean_squared_error(np.exp(y_test), np.exp(test_preds), squared=False)\n",
    "    \n",
    "    print(\"Model test score is:\", result1) \n",
    "    print(\"Test r2_score is:\", result2)\n",
    "    print(\"The test data RMSE is:\" , rmse)"
   ]
  },
  {
   "cell_type": "markdown",
   "metadata": {},
   "source": [
    "The train model that had all features was had the highest r2 of about `0.4`. As such, we will run our test data on this model to see what percentage of the variance we see in our price is explained by these features."
   ]
  },
  {
   "cell_type": "code",
   "execution_count": 84,
   "metadata": {
    "ExecuteTime": {
     "end_time": "2022-04-01T19:00:35.606880Z",
     "start_time": "2022-04-01T19:00:35.579093Z"
    },
    "scrolled": true
   },
   "outputs": [
    {
     "name": "stdout",
     "output_type": "stream",
     "text": [
      "Model train score is: 0.39581229535560036\n",
      "Train r2_score is: 0.39581229535560036\n",
      "The train RMSE is: 138796.1739472261\n"
     ]
    }
   ],
   "source": [
    "#train data score\n",
    "scores(all_features, y_train)"
   ]
  },
  {
   "cell_type": "code",
   "execution_count": 85,
   "metadata": {
    "ExecuteTime": {
     "end_time": "2022-04-01T19:00:35.638388Z",
     "start_time": "2022-04-01T19:00:35.609874Z"
    }
   },
   "outputs": [
    {
     "name": "stdout",
     "output_type": "stream",
     "text": [
      "Model test score is: 0.3952602514680913\n",
      "Test r2_score is: 0.3952602514680913\n",
      "The test data RMSE is: 141271.64045030565\n"
     ]
    }
   ],
   "source": [
    "#test data score\n",
    "test_scores(scaled_test_df, y_test,all_features,y_train)"
   ]
  },
  {
   "cell_type": "markdown",
   "metadata": {},
   "source": [
    "### Comparision of the r2 of test and train model here"
   ]
  },
  {
   "cell_type": "markdown",
   "metadata": {},
   "source": [
    "## Statistical Analysis"
   ]
  },
  {
   "cell_type": "markdown",
   "metadata": {},
   "source": [
    "### `sqft_living` Analysis"
   ]
  },
  {
   "cell_type": "code",
   "execution_count": 86,
   "metadata": {
    "ExecuteTime": {
     "end_time": "2022-04-01T19:00:36.278480Z",
     "start_time": "2022-04-01T19:00:35.640384Z"
    },
    "scrolled": true
   },
   "outputs": [
    {
     "data": {
      "image/png": "[encoded data removed]",
      "text/plain": [
       "<Figure size 1080x720 with 1 Axes>"
      ]
     },
     "metadata": {
      "needs_background": "light"
     },
     "output_type": "display_data"
    }
   ],
   "source": [
    "fig, ax = plt.subplots(figsize=(15,10))\n",
    "\n",
    "x = X_train['sqft_living']\n",
    "y = np.exp(y_train) \n",
    "\n",
    "\n",
    "m,b = np.polyfit(x, y, 1)\n",
    "plt.plot(x, m*x + b, c=\"black\")\n",
    "\n",
    "\n",
    "ax.set_ylim([0,1100000])\n",
    "\n",
    "ax.yaxis.set_major_formatter(ticker.StrMethodFormatter('${x:,.0f}'))\n",
    "ax.xaxis.set_major_formatter(ticker.StrMethodFormatter('{x:,.0f}'));\n",
    "\n",
    "ax.set_title('Correlation Between Sqft Living & Sale Price', fontsize='20', pad=10)\n",
    "ax.set_xlabel('Living Area (sqft)', fontsize='16', labelpad=20)\n",
    "ax.set_ylabel('Sale Price', fontsize='16', labelpad=20)\n",
    "\n",
    "plt.legend(['Predicted Price'])\n",
    "\n",
    "ax.scatter(x, y, color='coral');\n",
    "plt.savefig('./images/sqftliving.png')"
   ]
  },
  {
   "cell_type": "markdown",
   "metadata": {},
   "source": [
    "Below, we look at **descriptive"
   ]
  },
  {
   "cell_type": "code",
   "execution_count": 87,
   "metadata": {
    "ExecuteTime": {
     "end_time": "2022-04-01T19:00:36.294104Z",
     "start_time": "2022-04-01T19:00:36.281472Z"
    },
    "scrolled": true
   },
   "outputs": [
    {
     "data": {
      "text/plain": [
       "count   12472.00\n",
       "mean     1847.17\n",
       "std       624.49\n",
       "min       370.00\n",
       "25%      1360.00\n",
       "50%      1790.00\n",
       "75%      2290.00\n",
       "max      3320.00\n",
       "Name: sqft_living, dtype: float64"
      ]
     },
     "execution_count": 87,
     "metadata": {},
     "output_type": "execute_result"
    }
   ],
   "source": [
    "X_train['sqft_living'].describe()"
   ]
  },
  {
   "cell_type": "markdown",
   "metadata": {},
   "source": [
    "###  `view` Analysis"
   ]
  },
  {
   "cell_type": "markdown",
   "metadata": {},
   "source": [
    "is there a difference between those that have a view versus those that don't"
   ]
  },
  {
   "cell_type": "code",
   "execution_count": 88,
   "metadata": {
    "ExecuteTime": {
     "end_time": "2022-04-01T19:00:36.325065Z",
     "start_time": "2022-04-01T19:00:36.296100Z"
    }
   },
   "outputs": [
    {
     "data": {
      "text/html": [
       "<div>\n",
       "<style scoped>\n",
       "    .dataframe tbody tr th:only-of-type {\n",
       "        vertical-align: middle;\n",
       "    }\n",
       "\n",
       "    .dataframe tbody tr th {\n",
       "        vertical-align: top;\n",
       "    }\n",
       "\n",
       "    .dataframe thead tr th {\n",
       "        text-align: left;\n",
       "    }\n",
       "\n",
       "    .dataframe thead tr:last-of-type th {\n",
       "        text-align: right;\n",
       "    }\n",
       "</style>\n",
       "<table border=\"1\" class=\"dataframe\">\n",
       "  <thead>\n",
       "    <tr>\n",
       "      <th></th>\n",
       "      <th colspan=\"2\" halign=\"left\">price</th>\n",
       "      <th colspan=\"2\" halign=\"left\">sqft_living</th>\n",
       "      <th colspan=\"2\" halign=\"left\">sqft_lot</th>\n",
       "    </tr>\n",
       "    <tr>\n",
       "      <th></th>\n",
       "      <th>mean</th>\n",
       "      <th>std</th>\n",
       "      <th>mean</th>\n",
       "      <th>std</th>\n",
       "      <th>mean</th>\n",
       "      <th>std</th>\n",
       "    </tr>\n",
       "    <tr>\n",
       "      <th>view</th>\n",
       "      <th></th>\n",
       "      <th></th>\n",
       "      <th></th>\n",
       "      <th></th>\n",
       "      <th></th>\n",
       "      <th></th>\n",
       "    </tr>\n",
       "  </thead>\n",
       "  <tbody>\n",
       "    <tr>\n",
       "      <th>AVERAGE</th>\n",
       "      <td>13.18</td>\n",
       "      <td>0.35</td>\n",
       "      <td>2081.44</td>\n",
       "      <td>634.67</td>\n",
       "      <td>20893.51</td>\n",
       "      <td>54804.27</td>\n",
       "    </tr>\n",
       "    <tr>\n",
       "      <th>EXCELLENT</th>\n",
       "      <td>13.36</td>\n",
       "      <td>0.30</td>\n",
       "      <td>2105.09</td>\n",
       "      <td>647.35</td>\n",
       "      <td>20259.54</td>\n",
       "      <td>30854.82</td>\n",
       "    </tr>\n",
       "    <tr>\n",
       "      <th>FAIR</th>\n",
       "      <td>13.21</td>\n",
       "      <td>0.34</td>\n",
       "      <td>2087.95</td>\n",
       "      <td>641.49</td>\n",
       "      <td>12078.11</td>\n",
       "      <td>20053.50</td>\n",
       "    </tr>\n",
       "    <tr>\n",
       "      <th>GOOD</th>\n",
       "      <td>13.23</td>\n",
       "      <td>0.33</td>\n",
       "      <td>2244.06</td>\n",
       "      <td>576.37</td>\n",
       "      <td>41259.38</td>\n",
       "      <td>129422.14</td>\n",
       "    </tr>\n",
       "    <tr>\n",
       "      <th>NONE</th>\n",
       "      <td>12.91</td>\n",
       "      <td>0.41</td>\n",
       "      <td>1828.02</td>\n",
       "      <td>620.80</td>\n",
       "      <td>12561.84</td>\n",
       "      <td>31512.85</td>\n",
       "    </tr>\n",
       "  </tbody>\n",
       "</table>\n",
       "</div>"
      ],
      "text/plain": [
       "          price      sqft_living        sqft_lot          \n",
       "           mean  std        mean    std     mean       std\n",
       "view                                                      \n",
       "AVERAGE   13.18 0.35     2081.44 634.67 20893.51  54804.27\n",
       "EXCELLENT 13.36 0.30     2105.09 647.35 20259.54  30854.82\n",
       "FAIR      13.21 0.34     2087.95 641.49 12078.11  20053.50\n",
       "GOOD      13.23 0.33     2244.06 576.37 41259.38 129422.14\n",
       "NONE      12.91 0.41     1828.02 620.80 12561.84  31512.85"
      ]
     },
     "execution_count": 88,
     "metadata": {},
     "output_type": "execute_result"
    }
   ],
   "source": [
    "summary_of_view = df_copy.groupby('view').agg(['mean', 'std'])\n",
    "\n",
    "summary_of_view"
   ]
  },
  {
   "cell_type": "code",
   "execution_count": 89,
   "metadata": {
    "ExecuteTime": {
     "end_time": "2022-04-01T19:00:36.339716Z",
     "start_time": "2022-04-01T19:00:36.327059Z"
    }
   },
   "outputs": [],
   "source": [
    "#Created for analysis only\n",
    "#should not be used anywhere else in the project besised t-tests\n",
    "train_df = pd.concat([X_train, y_train], axis=1)"
   ]
  },
  {
   "cell_type": "code",
   "execution_count": 90,
   "metadata": {
    "ExecuteTime": {
     "end_time": "2022-04-01T19:00:36.371200Z",
     "start_time": "2022-04-01T19:00:36.340683Z"
    }
   },
   "outputs": [],
   "source": [
    "# Figure out how to do this in a loop/function?\n",
    "df_average = train_df[train_df['view'] == 'AVERAGE']\n",
    "df_excellent = train_df[train_df['view'] == 'EXCELLENT']\n",
    "df_fair = train_df[train_df['view'] == 'FAIR']\n",
    "df_good = train_df[train_df['view'] == 'GOOD']\n",
    "df_none = train_df[train_df['view'] == 'NONE']"
   ]
  },
  {
   "cell_type": "code",
   "execution_count": 91,
   "metadata": {
    "ExecuteTime": {
     "end_time": "2022-04-01T19:00:36.402073Z",
     "start_time": "2022-04-01T19:00:36.379072Z"
    }
   },
   "outputs": [],
   "source": [
    "fvalue, pvalue = stats.f_oneway(df_average['price'], df_excellent['price'], df_fair['price'],\n",
    "                                df_good['price'] , df_none['price'])"
   ]
  },
  {
   "cell_type": "code",
   "execution_count": 92,
   "metadata": {
    "ExecuteTime": {
     "end_time": "2022-04-01T19:00:36.635584Z",
     "start_time": "2022-04-01T19:00:36.404782Z"
    },
    "scrolled": true
   },
   "outputs": [
    {
     "name": "stdout",
     "output_type": "stream",
     "text": [
      "   Multiple Comparison of Means - Tukey HSD, FWER=0.05    \n",
      "==========================================================\n",
      "  group1    group2  meandiff p-adj   lower   upper  reject\n",
      "----------------------------------------------------------\n",
      "  AVERAGE EXCELLENT   0.1501  0.035  0.0067  0.2935   True\n",
      "  AVERAGE      FAIR   0.0371 0.8533 -0.0669  0.1411  False\n",
      "  AVERAGE      GOOD   0.0513 0.5993 -0.0473    0.15  False\n",
      "  AVERAGE      NONE  -0.2638  0.001  -0.318 -0.2097   True\n",
      "EXCELLENT      FAIR   -0.113 0.3056 -0.2734  0.0474  False\n",
      "EXCELLENT      GOOD  -0.0988 0.4254 -0.2557  0.0582  False\n",
      "EXCELLENT      NONE   -0.414  0.001 -0.5475 -0.2804   True\n",
      "     FAIR      GOOD   0.0143    0.9 -0.1078  0.1363  False\n",
      "     FAIR      NONE  -0.3009  0.001 -0.3909  -0.211   True\n",
      "     GOOD      NONE  -0.3152  0.001 -0.3988 -0.2315   True\n",
      "----------------------------------------------------------\n"
     ]
    }
   ],
   "source": [
    "df_view = train_df[['view', 'price']]\n",
    "\n",
    "print(pairwise_tukeyhsd(df_view['price'], df_view['view']))"
   ]
  },
  {
   "cell_type": "markdown",
   "metadata": {},
   "source": [
    "Average/Fair, Average/Good, Excellent/Good and Fair/Good are not statistically different from each other... BUT we should still note that Excellent/Good has a p-value of 0.14, which may be considered statistically significant depending on the alpha set. For our purposes, we will not consider it significant, as we set alpha to 0.05."
   ]
  },
  {
   "cell_type": "code",
   "execution_count": 93,
   "metadata": {
    "ExecuteTime": {
     "end_time": "2022-04-01T19:00:36.651566Z",
     "start_time": "2022-04-01T19:00:36.638579Z"
    }
   },
   "outputs": [],
   "source": [
    "train_copy = train_df.copy()"
   ]
  },
  {
   "cell_type": "code",
   "execution_count": 94,
   "metadata": {
    "ExecuteTime": {
     "end_time": "2022-04-01T19:00:36.667532Z",
     "start_time": "2022-04-01T19:00:36.655532Z"
    }
   },
   "outputs": [],
   "source": [
    "train_copy.price = np.exp(train_copy.price)"
   ]
  },
  {
   "cell_type": "code",
   "execution_count": 95,
   "metadata": {
    "ExecuteTime": {
     "end_time": "2022-04-01T19:00:36.683490Z",
     "start_time": "2022-04-01T19:00:36.669495Z"
    }
   },
   "outputs": [],
   "source": [
    "view_graph = train_copy.groupby('view').mean()"
   ]
  },
  {
   "cell_type": "code",
   "execution_count": 96,
   "metadata": {
    "ExecuteTime": {
     "end_time": "2022-04-01T19:00:36.699146Z",
     "start_time": "2022-04-01T19:00:36.686486Z"
    }
   },
   "outputs": [],
   "source": [
    "view_graph.sort_values('price', ascending= True, inplace = True)"
   ]
  },
  {
   "cell_type": "code",
   "execution_count": 97,
   "metadata": {
    "ExecuteTime": {
     "end_time": "2022-04-01T19:00:36.714490Z",
     "start_time": "2022-04-01T19:00:36.702140Z"
    }
   },
   "outputs": [
    {
     "data": {
      "text/html": [
       "<div>\n",
       "<style scoped>\n",
       "    .dataframe tbody tr th:only-of-type {\n",
       "        vertical-align: middle;\n",
       "    }\n",
       "\n",
       "    .dataframe tbody tr th {\n",
       "        vertical-align: top;\n",
       "    }\n",
       "\n",
       "    .dataframe thead th {\n",
       "        text-align: right;\n",
       "    }\n",
       "</style>\n",
       "<table border=\"1\" class=\"dataframe\">\n",
       "  <thead>\n",
       "    <tr style=\"text-align: right;\">\n",
       "      <th></th>\n",
       "      <th>sqft_living</th>\n",
       "      <th>sqft_lot</th>\n",
       "      <th>price</th>\n",
       "    </tr>\n",
       "    <tr>\n",
       "      <th>view</th>\n",
       "      <th></th>\n",
       "      <th></th>\n",
       "      <th></th>\n",
       "    </tr>\n",
       "  </thead>\n",
       "  <tbody>\n",
       "    <tr>\n",
       "      <th>NONE</th>\n",
       "      <td>1828.03</td>\n",
       "      <td>12448.57</td>\n",
       "      <td>436911.95</td>\n",
       "    </tr>\n",
       "    <tr>\n",
       "      <th>AVERAGE</th>\n",
       "      <td>2092.04</td>\n",
       "      <td>21066.61</td>\n",
       "      <td>555394.12</td>\n",
       "    </tr>\n",
       "    <tr>\n",
       "      <th>FAIR</th>\n",
       "      <td>2069.61</td>\n",
       "      <td>12616.60</td>\n",
       "      <td>575549.43</td>\n",
       "    </tr>\n",
       "    <tr>\n",
       "      <th>GOOD</th>\n",
       "      <td>2242.68</td>\n",
       "      <td>47860.87</td>\n",
       "      <td>581026.11</td>\n",
       "    </tr>\n",
       "    <tr>\n",
       "      <th>EXCELLENT</th>\n",
       "      <td>2082.18</td>\n",
       "      <td>20718.87</td>\n",
       "      <td>634712.38</td>\n",
       "    </tr>\n",
       "  </tbody>\n",
       "</table>\n",
       "</div>"
      ],
      "text/plain": [
       "           sqft_living  sqft_lot     price\n",
       "view                                      \n",
       "NONE           1828.03  12448.57 436911.95\n",
       "AVERAGE        2092.04  21066.61 555394.12\n",
       "FAIR           2069.61  12616.60 575549.43\n",
       "GOOD           2242.68  47860.87 581026.11\n",
       "EXCELLENT      2082.18  20718.87 634712.38"
      ]
     },
     "execution_count": 97,
     "metadata": {},
     "output_type": "execute_result"
    }
   ],
   "source": [
    "view_graph"
   ]
  },
  {
   "cell_type": "code",
   "execution_count": 98,
   "metadata": {
    "ExecuteTime": {
     "end_time": "2022-04-01T19:00:36.902658Z",
     "start_time": "2022-04-01T19:00:36.718479Z"
    }
   },
   "outputs": [
    {
     "data": {
      "image/png": "[encoded data removed]",
      "text/plain": [
       "<Figure size 1080x720 with 1 Axes>"
      ]
     },
     "metadata": {
      "needs_background": "light"
     },
     "output_type": "display_data"
    }
   ],
   "source": [
    "fig, ax = plt.subplots(figsize = (15, 10))\n",
    "\n",
    "x = view_graph.index\n",
    "y = view_graph['price'] \n",
    "ax.yaxis.set_major_formatter(ticker.StrMethodFormatter('${x:,.0f}'))\n",
    "\n",
    "ax.set_title('View VS Sale Price', fontsize='20', pad=10)\n",
    "ax.set_xlabel('View', fontsize='16', labelpad=20)\n",
    "ax.set_ylabel('Sale Price', fontsize='16', labelpad=20)\n",
    "ax.set_ylim([400000, 715000])\n",
    "\n",
    "\n",
    "ax.bar(x, y, color='coral');\n",
    "\n",
    "#plt.savefig('./images/view.png')"
   ]
  },
  {
   "cell_type": "markdown",
   "metadata": {},
   "source": [
    "### `grade` Analysis"
   ]
  },
  {
   "cell_type": "markdown",
   "metadata": {},
   "source": [
    "#### How significant is the difference between each `grade`? (Tukey test)"
   ]
  },
  {
   "cell_type": "code",
   "execution_count": 99,
   "metadata": {
    "ExecuteTime": {
     "end_time": "2022-04-01T19:00:36.949213Z",
     "start_time": "2022-04-01T19:00:36.908573Z"
    }
   },
   "outputs": [],
   "source": [
    "# Might need a for loop or a function here\n",
    "df_10 = train_df[train_df['grade'] == '10_Very_Good']\n",
    "df_11 = train_df[train_df['grade'] == '11_Excellent']\n",
    "df_4 = train_df[train_df['grade'] == '4_Low']\n",
    "df_5 = train_df[train_df['grade'] == '5_Fair']\n",
    "df_6 = train_df[train_df['grade'] == '6_Low_Average']\n",
    "df_7 = train_df[train_df['grade'] == '7_Average']\n",
    "df_8 = train_df[train_df['grade'] == '8_Good']\n",
    "df_9 = train_df[train_df['grade'] == '9_Better']"
   ]
  },
  {
   "cell_type": "code",
   "execution_count": 100,
   "metadata": {
    "ExecuteTime": {
     "end_time": "2022-04-01T19:00:36.964783Z",
     "start_time": "2022-04-01T19:00:36.951182Z"
    }
   },
   "outputs": [
    {
     "data": {
      "text/plain": [
       "0.0"
      ]
     },
     "execution_count": 100,
     "metadata": {},
     "output_type": "execute_result"
    }
   ],
   "source": [
    "f_value_grade, p_value_grade = stats.f_oneway(df_10['price'], df_11['price'],\n",
    "                                              df_4['price'], df_5['price'], df_6['price'],\n",
    "                                              df_7['price'], df_8['price'], df_9['price'])\n",
    "p_value_grade"
   ]
  },
  {
   "cell_type": "code",
   "execution_count": 101,
   "metadata": {
    "ExecuteTime": {
     "end_time": "2022-04-01T19:00:37.121731Z",
     "start_time": "2022-04-01T19:00:36.967146Z"
    }
   },
   "outputs": [
    {
     "name": "stdout",
     "output_type": "stream",
     "text": [
      "       Multiple Comparison of Means - Tukey HSD, FWER=0.05        \n",
      "==================================================================\n",
      "    group1        group2    meandiff p-adj   lower   upper  reject\n",
      "------------------------------------------------------------------\n",
      " 10_Very_Good  11_Excellent   0.1317 0.8122 -0.1436  0.4071  False\n",
      " 10_Very_Good         4_Low  -1.3789  0.001 -1.6258  -1.132   True\n",
      " 10_Very_Good        5_Fair  -1.1221  0.001 -1.2329 -1.0113   True\n",
      " 10_Very_Good 6_Low_Average  -0.9365  0.001 -1.0147 -0.8584   True\n",
      " 10_Very_Good     7_Average  -0.6609  0.001  -0.735 -0.5868   True\n",
      " 10_Very_Good        8_Good  -0.3983  0.001 -0.4732 -0.3235   True\n",
      " 10_Very_Good      9_Better  -0.1691  0.001  -0.248 -0.0903   True\n",
      " 11_Excellent         4_Low  -1.5106  0.001 -1.8658 -1.1554   True\n",
      " 11_Excellent        5_Fair  -1.2538  0.001 -1.5321 -0.9756   True\n",
      " 11_Excellent 6_Low_Average  -1.0683  0.001 -1.3353 -0.8013   True\n",
      " 11_Excellent     7_Average  -0.7927  0.001 -1.0585 -0.5268   True\n",
      " 11_Excellent        8_Good  -0.5301  0.001 -0.7961 -0.2641   True\n",
      " 11_Excellent      9_Better  -0.3009 0.0149 -0.5681 -0.0337   True\n",
      "        4_Low        5_Fair   0.2568 0.0395  0.0065   0.507   True\n",
      "        4_Low 6_Low_Average   0.4423  0.001  0.2048  0.6799   True\n",
      "        4_Low     7_Average   0.7179  0.001  0.4817  0.9542   True\n",
      "        4_Low        8_Good   0.9805  0.001   0.744   1.217   True\n",
      "        4_Low      9_Better   1.2097  0.001  0.9719  1.4475   True\n",
      "       5_Fair 6_Low_Average   0.1856  0.001  0.0975  0.2736   True\n",
      "       5_Fair     7_Average   0.4612  0.001  0.3767  0.5457   True\n",
      "       5_Fair        8_Good   0.7238  0.001  0.6387  0.8088   True\n",
      "       5_Fair      9_Better    0.953  0.001  0.8643  1.0416   True\n",
      "6_Low_Average     7_Average   0.2756  0.001  0.2444  0.3068   True\n",
      "6_Low_Average        8_Good   0.5382  0.001  0.5054   0.571   True\n",
      "6_Low_Average      9_Better   0.7674  0.001  0.7262  0.8086   True\n",
      "    7_Average        8_Good   0.2626  0.001   0.241  0.2841   True\n",
      "    7_Average      9_Better   0.4918  0.001  0.4588  0.5248   True\n",
      "       8_Good      9_Better   0.2292  0.001  0.1947  0.2637   True\n",
      "------------------------------------------------------------------\n"
     ]
    }
   ],
   "source": [
    "# Ad-hoc test to determine differeces in price vs. grade\n",
    "\n",
    "df_grade = train_df[['grade', 'price']]\n",
    "\n",
    "print(pairwise_tukeyhsd(train_df['price'], train_df['grade']))"
   ]
  },
  {
   "cell_type": "markdown",
   "metadata": {},
   "source": [
    "#### Visualizing by `grade`"
   ]
  },
  {
   "cell_type": "code",
   "execution_count": 102,
   "metadata": {
    "ExecuteTime": {
     "end_time": "2022-04-01T19:00:37.153287Z",
     "start_time": "2022-04-01T19:00:37.125698Z"
    }
   },
   "outputs": [],
   "source": [
    "grade_graph = train_copy.groupby('grade').mean()"
   ]
  },
  {
   "cell_type": "code",
   "execution_count": 103,
   "metadata": {
    "ExecuteTime": {
     "end_time": "2022-04-01T19:00:37.169140Z",
     "start_time": "2022-04-01T19:00:37.161161Z"
    }
   },
   "outputs": [],
   "source": [
    "grade_graph.sort_values('price', ascending= True, inplace = True)"
   ]
  },
  {
   "cell_type": "code",
   "execution_count": 104,
   "metadata": {
    "ExecuteTime": {
     "end_time": "2022-04-01T19:00:37.544931Z",
     "start_time": "2022-04-01T19:00:37.174712Z"
    }
   },
   "outputs": [
    {
     "name": "stderr",
     "output_type": "stream",
     "text": [
      "<ipython-input-104-bc60db856c31>:17: UserWarning: FixedFormatter should only be used together with FixedLocator\n",
      "  ax.set_xticklabels(grade_ticks, fontsize='13')\n",
      "<ipython-input-104-bc60db856c31>:18: UserWarning: FixedFormatter should only be used together with FixedLocator\n",
      "  ax.set_yticklabels(price_ticks, fontsize='13')\n"
     ]
    },
    {
     "data": {
      "image/png": "[encoded data removed]",
      "text/plain": [
       "<Figure size 1080x720 with 1 Axes>"
      ]
     },
     "metadata": {
      "needs_background": "light"
     },
     "output_type": "display_data"
    }
   ],
   "source": [
    "fig, ax = plt.subplots(figsize = (15, 10))\n",
    "\n",
    "grade_ticks = [\"Low\", \"Fair\", \"Low-Average\",\n",
    "               \"Average\", \"Good\", \"Better\",\n",
    "               \"Very Good\", \"Excellent\"]\n",
    "price_ticks = [\"$0\", \"$100,000\", \"$200,000\",\n",
    "               \"$300,000\", \"$400,000\", \"$500,000\",\n",
    "               \"$600,000\", \"$700,000\", \"$800,000\"]\n",
    "\n",
    "\n",
    "x = grade_graph.index\n",
    "y = grade_graph['price'] \n",
    "\n",
    "ax.yaxis.set_major_formatter(ticker.StrMethodFormatter('${x:,.0f}'))\n",
    "\n",
    "ax.set_title('Grade versus Sale Price', fontsize='20', pad=10)\n",
    "ax.set_xticklabels(grade_ticks, fontsize='13')\n",
    "ax.set_yticklabels(price_ticks, fontsize='13')\n",
    "ax.set_xlabel('Grade', fontsize='16', labelpad=20)\n",
    "ax.set_ylabel('Sale Price', fontsize='16', labelpad=20)\n",
    "\n",
    "\n",
    "ax.bar(x, y, color='coral')\n",
    "\n",
    "plt.savefig('./images/grade.png')\n",
    "# Ignore warnings?"
   ]
  },
  {
   "cell_type": "markdown",
   "metadata": {},
   "source": [
    "# Conclusions"
   ]
  },
  {
   "cell_type": "markdown",
   "metadata": {},
   "source": [
    "$1.$ `sqft_living` correlates with price - but there's no need to go **huge**! We advise sticking within the range of 1,500 - 3,000 square feet.\n",
    "\n",
    "$2.$ Build homes that feature a scenic `view` whenever possible! This includes views of the Seattle skyline, mountain ranges, or bodies of water.\n",
    "\n",
    "$3.$ Ensure the material `grade` of the home is high-quality! Other than the split between `EXCELLENT` and `VERY GOOD` grades, all other differences in grade result in a **significant** difference in `price`."
   ]
  },
  {
   "cell_type": "markdown",
   "metadata": {},
   "source": [
    "# Potential Next Steps"
   ]
  },
  {
   "cell_type": "markdown",
   "metadata": {},
   "source": [
    "- `bathrooms` and `bedrooms` - they are collinear with variables like `sqft_living`, which prevented us from including them in our model, but they might be useful avenues for further exploration.\n",
    "- `waterfront` - our EDA demonstrated a significant difference in `price` between homes with waterfront views vs. homes without; it may be worth further exploring what development opportunities exist in waterfront areas.\n",
    "- `zipcode` - taking a look at what neighborhoods/geographic areas yield high sale prices.\n",
    "    - Look at interaction items: if homes with `EXCELLENT` views are concentrated in certain areas, perhaps."
   ]
  }
 ],
 "metadata": {
  "kernelspec": {
   "display_name": "Python (learn-env)",
   "language": "python",
   "name": "learn-env"
  },
  "language_info": {
   "codemirror_mode": {
    "name": "ipython",
    "version": 3
   },
   "file_extension": ".py",
   "mimetype": "text/x-python",
   "name": "python",
   "nbconvert_exporter": "python",
   "pygments_lexer": "ipython3",
   "version": "3.8.5"
  },
  "toc": {
   "base_numbering": 1,
   "nav_menu": {},
   "number_sections": true,
   "sideBar": true,
   "skip_h1_title": false,
   "title_cell": "Table of Contents",
   "title_sidebar": "Contents",
   "toc_cell": false,
   "toc_position": {
    "height": "calc(100% - 180px)",
    "left": "10px",
    "top": "150px",
    "width": "265.994px"
   },
   "toc_section_display": true,
   "toc_window_display": true
  },
  "varInspector": {
   "cols": {
    "lenName": 16,
    "lenType": 16,
    "lenVar": 40
   },
   "kernels_config": {
    "python": {
     "delete_cmd_postfix": "",
     "delete_cmd_prefix": "del ",
     "library": "var_list.py",
     "varRefreshCmd": "print(var_dic_list())"
    },
    "r": {
     "delete_cmd_postfix": ") ",
     "delete_cmd_prefix": "rm(",
     "library": "var_list.r",
     "varRefreshCmd": "cat(var_dic_list()) "
    }
   },
   "position": {
    "height": "293.844px",
    "left": "910px",
    "right": "20px",
    "top": "120px",
    "width": "350px"
   },
   "types_to_exclude": [
    "module",
    "function",
    "builtin_function_or_method",
    "instance",
    "_Feature"
   ],
   "window_display": false
  }
 },
 "nbformat": 4,
 "nbformat_minor": 4
}
