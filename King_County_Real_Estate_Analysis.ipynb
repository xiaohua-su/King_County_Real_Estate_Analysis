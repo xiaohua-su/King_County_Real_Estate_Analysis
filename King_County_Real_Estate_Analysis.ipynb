{
 "cells": [
  {
   "cell_type": "markdown",
   "metadata": {},
   "source": [
    "![img](./images/kc_header.png)\n",
    "\n",
    "(image courtesy of [beautifulwashington.com](https://beautifulwashington.com/king-county.html))"
   ]
  },
  {
   "cell_type": "markdown",
   "metadata": {},
   "source": [
    "# Analysis of Real Estate Prices and Features in King County, Seattle "
   ]
  },
  {
   "cell_type": "markdown",
   "metadata": {},
   "source": [
    "**Authors/contributors:**\n",
    "- Luke Dowker\n",
    "- Jawwad Siddiqui\n",
    "- Xiaohua Su"
   ]
  },
  {
   "cell_type": "markdown",
   "metadata": {},
   "source": [
    "# Overview"
   ]
  },
  {
   "cell_type": "markdown",
   "metadata": {},
   "source": [
    "**Recommendations:**\n",
    "\n",
    "- 1\n",
    "- 2\n",
    "- 3"
   ]
  },
  {
   "cell_type": "markdown",
   "metadata": {},
   "source": [
    "# Business Problem"
   ]
  },
  {
   "cell_type": "markdown",
   "metadata": {},
   "source": [
    "A real estate agency is looking to provide advice to homeowners looking to increase the values of their homes. We are seeking to identify several variables that can **predict** what a home's sale price can be.\n",
    "\n",
    "**Alternately:** If a customer is looking to purchase land without a house already on the lot, our recommendations will help home builders maximize their profits by helping builders identify which predictor variables to focus on.\n",
    "\n",
    "**Note:** Two *separate* audiences - narrow this down!"
   ]
  },
  {
   "cell_type": "markdown",
   "metadata": {},
   "source": [
    "# Data investigation and cleaning"
   ]
  },
  {
   "cell_type": "markdown",
   "metadata": {},
   "source": [
    "We kick things off by importing all necessary libraries and packages"
   ]
  },
  {
   "cell_type": "code",
   "execution_count": 1,
   "metadata": {
    "ExecuteTime": {
     "end_time": "2022-03-30T16:38:46.364567Z",
     "start_time": "2022-03-30T16:38:41.873267Z"
    }
   },
   "outputs": [],
   "source": [
    "# statsmodels\n",
    "from statsmodels.stats.multicomp import pairwise_tukeyhsd\n",
    "import statsmodels.api as sm\n",
    "from statsmodels.formula.api import ols\n",
    "# sci-kit learn\n",
    "import sklearn.metrics as metrics\n",
    "from sklearn.model_selection import train_test_split\n",
    "from sklearn.dummy import DummyRegressor\n",
    "from sklearn.linear_model import LinearRegression\n",
    "from sklearn.datasets import make_regression\n",
    "from sklearn.preprocessing import OneHotEncoder, StandardScaler, MinMaxScaler\n",
    "# baseline analysis and visualization\n",
    "import pandas as pd\n",
    "import numpy as np\n",
    "from scipy import stats\n",
    "import matplotlib.pyplot as plt\n",
    "import seaborn as sns\n",
    "%matplotlib inline\n",
    "\n",
    "# from random import gauss\n",
    "# from mpl_toolkits.mplot3d import Axes3D"
   ]
  },
  {
   "cell_type": "markdown",
   "metadata": {},
   "source": [
    "...and some formatting options."
   ]
  },
  {
   "cell_type": "code",
   "execution_count": 2,
   "metadata": {
    "ExecuteTime": {
     "end_time": "2022-03-30T16:38:46.379521Z",
     "start_time": "2022-03-30T16:38:46.369548Z"
    }
   },
   "outputs": [],
   "source": [
    "# Shows *all* columns in dataframe, i.e. does not truncate horizontally\n",
    "pd.set_option('display.max_columns', None)\n",
    "\n",
    "# Converts from scientific notation to standard form (applied to every df in\n",
    "# this notebook) and rounds to two decimal places\n",
    "pd.set_option('display.float_format', lambda x: '%.2f' % x)"
   ]
  },
  {
   "cell_type": "markdown",
   "metadata": {},
   "source": [
    "Below, we read in the data and check out some of its basic features: column names, null values, data types, etc."
   ]
  },
  {
   "cell_type": "code",
   "execution_count": 3,
   "metadata": {
    "ExecuteTime": {
     "end_time": "2022-03-30T16:38:46.565371Z",
     "start_time": "2022-03-30T16:38:46.387017Z"
    },
    "scrolled": true
   },
   "outputs": [],
   "source": [
    "# Reading in .csv file, creating initial pandas dataframe\n",
    "df = pd.read_csv('data/kc_house_data.csv')"
   ]
  },
  {
   "cell_type": "code",
   "execution_count": 4,
   "metadata": {
    "ExecuteTime": {
     "end_time": "2022-03-30T16:38:46.596314Z",
     "start_time": "2022-03-30T16:38:46.570372Z"
    }
   },
   "outputs": [
    {
     "data": {
      "text/plain": [
       "Index(['id', 'date', 'price', 'bedrooms', 'bathrooms', 'sqft_living',\n",
       "       'sqft_lot', 'floors', 'waterfront', 'view', 'condition', 'grade',\n",
       "       'sqft_above', 'sqft_basement', 'yr_built', 'yr_renovated', 'zipcode',\n",
       "       'lat', 'long', 'sqft_living15', 'sqft_lot15'],\n",
       "      dtype='object')"
      ]
     },
     "execution_count": 4,
     "metadata": {},
     "output_type": "execute_result"
    }
   ],
   "source": [
    "# Listing out column names\n",
    "df.columns"
   ]
  },
  {
   "cell_type": "code",
   "execution_count": 5,
   "metadata": {
    "ExecuteTime": {
     "end_time": "2022-03-30T16:38:46.657600Z",
     "start_time": "2022-03-30T16:38:46.601301Z"
    }
   },
   "outputs": [
    {
     "name": "stdout",
     "output_type": "stream",
     "text": [
      "<class 'pandas.core.frame.DataFrame'>\n",
      "RangeIndex: 21597 entries, 0 to 21596\n",
      "Data columns (total 21 columns):\n",
      " #   Column         Non-Null Count  Dtype  \n",
      "---  ------         --------------  -----  \n",
      " 0   id             21597 non-null  int64  \n",
      " 1   date           21597 non-null  object \n",
      " 2   price          21597 non-null  float64\n",
      " 3   bedrooms       21597 non-null  int64  \n",
      " 4   bathrooms      21597 non-null  float64\n",
      " 5   sqft_living    21597 non-null  int64  \n",
      " 6   sqft_lot       21597 non-null  int64  \n",
      " 7   floors         21597 non-null  float64\n",
      " 8   waterfront     19221 non-null  object \n",
      " 9   view           21534 non-null  object \n",
      " 10  condition      21597 non-null  object \n",
      " 11  grade          21597 non-null  object \n",
      " 12  sqft_above     21597 non-null  int64  \n",
      " 13  sqft_basement  21597 non-null  object \n",
      " 14  yr_built       21597 non-null  int64  \n",
      " 15  yr_renovated   17755 non-null  float64\n",
      " 16  zipcode        21597 non-null  int64  \n",
      " 17  lat            21597 non-null  float64\n",
      " 18  long           21597 non-null  float64\n",
      " 19  sqft_living15  21597 non-null  int64  \n",
      " 20  sqft_lot15     21597 non-null  int64  \n",
      "dtypes: float64(6), int64(9), object(6)\n",
      "memory usage: 3.5+ MB\n"
     ]
    }
   ],
   "source": [
    "# Checking datatypes and null value counts\n",
    "df.info()"
   ]
  },
  {
   "cell_type": "markdown",
   "metadata": {},
   "source": [
    "**Two components** of this `info` printout that we can immediately identify as problems we may need to address:\n",
    "\n",
    "1. Columns currently coded as datatype `object`...\n",
    "\n",
    "    - `date`\n",
    "    - `waterfront`\n",
    "    - `view`\n",
    "    - `condition`\n",
    "    - `grade`\n",
    "    - `sqft_basement`\n",
    "\n",
    "\n",
    "2. Columns currently containing null values...\n",
    "\n",
    "    - `waterfront`\n",
    "    - `view`\n",
    "    - `yr_renovated`"
   ]
  },
  {
   "cell_type": "code",
   "execution_count": 6,
   "metadata": {
    "ExecuteTime": {
     "end_time": "2022-03-30T16:38:46.841411Z",
     "start_time": "2022-03-30T16:38:46.661594Z"
    },
    "scrolled": false
   },
   "outputs": [
    {
     "data": {
      "text/html": [
       "<div>\n",
       "<style scoped>\n",
       "    .dataframe tbody tr th:only-of-type {\n",
       "        vertical-align: middle;\n",
       "    }\n",
       "\n",
       "    .dataframe tbody tr th {\n",
       "        vertical-align: top;\n",
       "    }\n",
       "\n",
       "    .dataframe thead th {\n",
       "        text-align: right;\n",
       "    }\n",
       "</style>\n",
       "<table border=\"1\" class=\"dataframe\">\n",
       "  <thead>\n",
       "    <tr style=\"text-align: right;\">\n",
       "      <th></th>\n",
       "      <th>id</th>\n",
       "      <th>price</th>\n",
       "      <th>bedrooms</th>\n",
       "      <th>bathrooms</th>\n",
       "      <th>sqft_living</th>\n",
       "      <th>sqft_lot</th>\n",
       "      <th>floors</th>\n",
       "      <th>sqft_above</th>\n",
       "      <th>yr_built</th>\n",
       "      <th>yr_renovated</th>\n",
       "      <th>zipcode</th>\n",
       "      <th>lat</th>\n",
       "      <th>long</th>\n",
       "      <th>sqft_living15</th>\n",
       "      <th>sqft_lot15</th>\n",
       "    </tr>\n",
       "  </thead>\n",
       "  <tbody>\n",
       "    <tr>\n",
       "      <th>count</th>\n",
       "      <td>21597.00</td>\n",
       "      <td>21597.00</td>\n",
       "      <td>21597.00</td>\n",
       "      <td>21597.00</td>\n",
       "      <td>21597.00</td>\n",
       "      <td>21597.00</td>\n",
       "      <td>21597.00</td>\n",
       "      <td>21597.00</td>\n",
       "      <td>21597.00</td>\n",
       "      <td>17755.00</td>\n",
       "      <td>21597.00</td>\n",
       "      <td>21597.00</td>\n",
       "      <td>21597.00</td>\n",
       "      <td>21597.00</td>\n",
       "      <td>21597.00</td>\n",
       "    </tr>\n",
       "    <tr>\n",
       "      <th>mean</th>\n",
       "      <td>4580474287.77</td>\n",
       "      <td>540296.57</td>\n",
       "      <td>3.37</td>\n",
       "      <td>2.12</td>\n",
       "      <td>2080.32</td>\n",
       "      <td>15099.41</td>\n",
       "      <td>1.49</td>\n",
       "      <td>1788.60</td>\n",
       "      <td>1971.00</td>\n",
       "      <td>83.64</td>\n",
       "      <td>98077.95</td>\n",
       "      <td>47.56</td>\n",
       "      <td>-122.21</td>\n",
       "      <td>1986.62</td>\n",
       "      <td>12758.28</td>\n",
       "    </tr>\n",
       "    <tr>\n",
       "      <th>std</th>\n",
       "      <td>2876735715.75</td>\n",
       "      <td>367368.14</td>\n",
       "      <td>0.93</td>\n",
       "      <td>0.77</td>\n",
       "      <td>918.11</td>\n",
       "      <td>41412.64</td>\n",
       "      <td>0.54</td>\n",
       "      <td>827.76</td>\n",
       "      <td>29.38</td>\n",
       "      <td>399.95</td>\n",
       "      <td>53.51</td>\n",
       "      <td>0.14</td>\n",
       "      <td>0.14</td>\n",
       "      <td>685.23</td>\n",
       "      <td>27274.44</td>\n",
       "    </tr>\n",
       "    <tr>\n",
       "      <th>min</th>\n",
       "      <td>1000102.00</td>\n",
       "      <td>78000.00</td>\n",
       "      <td>1.00</td>\n",
       "      <td>0.50</td>\n",
       "      <td>370.00</td>\n",
       "      <td>520.00</td>\n",
       "      <td>1.00</td>\n",
       "      <td>370.00</td>\n",
       "      <td>1900.00</td>\n",
       "      <td>0.00</td>\n",
       "      <td>98001.00</td>\n",
       "      <td>47.16</td>\n",
       "      <td>-122.52</td>\n",
       "      <td>399.00</td>\n",
       "      <td>651.00</td>\n",
       "    </tr>\n",
       "    <tr>\n",
       "      <th>25%</th>\n",
       "      <td>2123049175.00</td>\n",
       "      <td>322000.00</td>\n",
       "      <td>3.00</td>\n",
       "      <td>1.75</td>\n",
       "      <td>1430.00</td>\n",
       "      <td>5040.00</td>\n",
       "      <td>1.00</td>\n",
       "      <td>1190.00</td>\n",
       "      <td>1951.00</td>\n",
       "      <td>0.00</td>\n",
       "      <td>98033.00</td>\n",
       "      <td>47.47</td>\n",
       "      <td>-122.33</td>\n",
       "      <td>1490.00</td>\n",
       "      <td>5100.00</td>\n",
       "    </tr>\n",
       "    <tr>\n",
       "      <th>50%</th>\n",
       "      <td>3904930410.00</td>\n",
       "      <td>450000.00</td>\n",
       "      <td>3.00</td>\n",
       "      <td>2.25</td>\n",
       "      <td>1910.00</td>\n",
       "      <td>7618.00</td>\n",
       "      <td>1.50</td>\n",
       "      <td>1560.00</td>\n",
       "      <td>1975.00</td>\n",
       "      <td>0.00</td>\n",
       "      <td>98065.00</td>\n",
       "      <td>47.57</td>\n",
       "      <td>-122.23</td>\n",
       "      <td>1840.00</td>\n",
       "      <td>7620.00</td>\n",
       "    </tr>\n",
       "    <tr>\n",
       "      <th>75%</th>\n",
       "      <td>7308900490.00</td>\n",
       "      <td>645000.00</td>\n",
       "      <td>4.00</td>\n",
       "      <td>2.50</td>\n",
       "      <td>2550.00</td>\n",
       "      <td>10685.00</td>\n",
       "      <td>2.00</td>\n",
       "      <td>2210.00</td>\n",
       "      <td>1997.00</td>\n",
       "      <td>0.00</td>\n",
       "      <td>98118.00</td>\n",
       "      <td>47.68</td>\n",
       "      <td>-122.12</td>\n",
       "      <td>2360.00</td>\n",
       "      <td>10083.00</td>\n",
       "    </tr>\n",
       "    <tr>\n",
       "      <th>max</th>\n",
       "      <td>9900000190.00</td>\n",
       "      <td>7700000.00</td>\n",
       "      <td>33.00</td>\n",
       "      <td>8.00</td>\n",
       "      <td>13540.00</td>\n",
       "      <td>1651359.00</td>\n",
       "      <td>3.50</td>\n",
       "      <td>9410.00</td>\n",
       "      <td>2015.00</td>\n",
       "      <td>2015.00</td>\n",
       "      <td>98199.00</td>\n",
       "      <td>47.78</td>\n",
       "      <td>-121.31</td>\n",
       "      <td>6210.00</td>\n",
       "      <td>871200.00</td>\n",
       "    </tr>\n",
       "  </tbody>\n",
       "</table>\n",
       "</div>"
      ],
      "text/plain": [
       "                 id      price  bedrooms  bathrooms  sqft_living   sqft_lot  \\\n",
       "count      21597.00   21597.00  21597.00   21597.00     21597.00   21597.00   \n",
       "mean  4580474287.77  540296.57      3.37       2.12      2080.32   15099.41   \n",
       "std   2876735715.75  367368.14      0.93       0.77       918.11   41412.64   \n",
       "min      1000102.00   78000.00      1.00       0.50       370.00     520.00   \n",
       "25%   2123049175.00  322000.00      3.00       1.75      1430.00    5040.00   \n",
       "50%   3904930410.00  450000.00      3.00       2.25      1910.00    7618.00   \n",
       "75%   7308900490.00  645000.00      4.00       2.50      2550.00   10685.00   \n",
       "max   9900000190.00 7700000.00     33.00       8.00     13540.00 1651359.00   \n",
       "\n",
       "        floors  sqft_above  yr_built  yr_renovated  zipcode      lat     long  \\\n",
       "count 21597.00    21597.00  21597.00      17755.00 21597.00 21597.00 21597.00   \n",
       "mean      1.49     1788.60   1971.00         83.64 98077.95    47.56  -122.21   \n",
       "std       0.54      827.76     29.38        399.95    53.51     0.14     0.14   \n",
       "min       1.00      370.00   1900.00          0.00 98001.00    47.16  -122.52   \n",
       "25%       1.00     1190.00   1951.00          0.00 98033.00    47.47  -122.33   \n",
       "50%       1.50     1560.00   1975.00          0.00 98065.00    47.57  -122.23   \n",
       "75%       2.00     2210.00   1997.00          0.00 98118.00    47.68  -122.12   \n",
       "max       3.50     9410.00   2015.00       2015.00 98199.00    47.78  -121.31   \n",
       "\n",
       "       sqft_living15  sqft_lot15  \n",
       "count       21597.00    21597.00  \n",
       "mean         1986.62    12758.28  \n",
       "std           685.23    27274.44  \n",
       "min           399.00      651.00  \n",
       "25%          1490.00     5100.00  \n",
       "50%          1840.00     7620.00  \n",
       "75%          2360.00    10083.00  \n",
       "max          6210.00   871200.00  "
      ]
     },
     "execution_count": 6,
     "metadata": {},
     "output_type": "execute_result"
    }
   ],
   "source": [
    "# Descriptive statistics for numerical columns\n",
    "df.describe()"
   ]
  },
  {
   "cell_type": "markdown",
   "metadata": {},
   "source": [
    "Looking at the row of `max` values, we can see right away that we have some outliers, values that look as if they depart substantially from the `75%` row; to be more specific, there are some **large, expensive** properties in this dataset."
   ]
  },
  {
   "cell_type": "markdown",
   "metadata": {},
   "source": [
    "## Basic data cleaning"
   ]
  },
  {
   "cell_type": "markdown",
   "metadata": {},
   "source": [
    "First, we convert the column `date` to a more usable format; the code below transforms the column to type `datetime64[ns]`."
   ]
  },
  {
   "cell_type": "code",
   "execution_count": 7,
   "metadata": {
    "ExecuteTime": {
     "end_time": "2022-03-30T16:38:46.964324Z",
     "start_time": "2022-03-30T16:38:46.850385Z"
    }
   },
   "outputs": [],
   "source": [
    "# Converting column `date` to datetime64[ns] from type string/object\n",
    "df['date'] = df['date'].astype('datetime64[ns]')"
   ]
  },
  {
   "cell_type": "markdown",
   "metadata": {},
   "source": [
    "Likewise, the column `grade` is in object format; it provides both a number and a corresponding descriptor, e.g. `5 Fair`. The following code transforms it to a more usable format, one with no whitespace."
   ]
  },
  {
   "cell_type": "code",
   "execution_count": 8,
   "metadata": {
    "ExecuteTime": {
     "end_time": "2022-03-30T16:38:47.009618Z",
     "start_time": "2022-03-30T16:38:46.969723Z"
    }
   },
   "outputs": [],
   "source": [
    "# Clean up the values in column `grade` so they are not\n",
    "# separated by whitespace\n",
    "df['grade'] = [x.replace(\" \", \"_\").strip() for x in df['grade']]"
   ]
  },
  {
   "cell_type": "code",
   "execution_count": 9,
   "metadata": {
    "ExecuteTime": {
     "end_time": "2022-03-30T16:38:47.041530Z",
     "start_time": "2022-03-30T16:38:47.014604Z"
    }
   },
   "outputs": [
    {
     "data": {
      "text/plain": [
       "7_Average        8974\n",
       "8_Good           6065\n",
       "9_Better         2615\n",
       "6_Low_Average    2038\n",
       "10_Very_Good     1134\n",
       "11_Excellent      399\n",
       "5_Fair            242\n",
       "12_Luxury          89\n",
       "4_Low              27\n",
       "13_Mansion         13\n",
       "3_Poor              1\n",
       "Name: grade, dtype: int64"
      ]
     },
     "execution_count": 9,
     "metadata": {},
     "output_type": "execute_result"
    }
   ],
   "source": [
    "# Validating that above code worked as intended\n",
    "df['grade'].value_counts()"
   ]
  },
  {
   "cell_type": "markdown",
   "metadata": {},
   "source": [
    "Every house has a unique `id` value, but does every row in the dataset represent a **unique house?**"
   ]
  },
  {
   "cell_type": "code",
   "execution_count": 10,
   "metadata": {
    "ExecuteTime": {
     "end_time": "2022-03-30T16:38:47.072448Z",
     "start_time": "2022-03-30T16:38:47.045520Z"
    }
   },
   "outputs": [
    {
     "data": {
      "text/plain": [
       "795000620     3\n",
       "1825069031    2\n",
       "2019200220    2\n",
       "7129304540    2\n",
       "1781500435    2\n",
       "             ..\n",
       "7812801125    1\n",
       "4364700875    1\n",
       "3021059276    1\n",
       "880000205     1\n",
       "1777500160    1\n",
       "Name: id, Length: 21420, dtype: int64"
      ]
     },
     "execution_count": 10,
     "metadata": {},
     "output_type": "execute_result"
    }
   ],
   "source": [
    "# Check for multiples in column `id`\n",
    "df['id'].value_counts()"
   ]
  },
  {
   "cell_type": "markdown",
   "metadata": {},
   "source": [
    "Looks like we have a few houses with more than one sale on record! Let's examine a few of the `id` values."
   ]
  },
  {
   "cell_type": "code",
   "execution_count": 11,
   "metadata": {
    "ExecuteTime": {
     "end_time": "2022-03-30T16:38:47.150549Z",
     "start_time": "2022-03-30T16:38:47.080428Z"
    },
    "scrolled": false
   },
   "outputs": [
    {
     "data": {
      "text/html": [
       "<div>\n",
       "<style scoped>\n",
       "    .dataframe tbody tr th:only-of-type {\n",
       "        vertical-align: middle;\n",
       "    }\n",
       "\n",
       "    .dataframe tbody tr th {\n",
       "        vertical-align: top;\n",
       "    }\n",
       "\n",
       "    .dataframe thead th {\n",
       "        text-align: right;\n",
       "    }\n",
       "</style>\n",
       "<table border=\"1\" class=\"dataframe\">\n",
       "  <thead>\n",
       "    <tr style=\"text-align: right;\">\n",
       "      <th></th>\n",
       "      <th>id</th>\n",
       "      <th>date</th>\n",
       "      <th>price</th>\n",
       "      <th>bedrooms</th>\n",
       "      <th>bathrooms</th>\n",
       "      <th>sqft_living</th>\n",
       "      <th>sqft_lot</th>\n",
       "      <th>floors</th>\n",
       "      <th>waterfront</th>\n",
       "      <th>view</th>\n",
       "      <th>condition</th>\n",
       "      <th>grade</th>\n",
       "      <th>sqft_above</th>\n",
       "      <th>sqft_basement</th>\n",
       "      <th>yr_built</th>\n",
       "      <th>yr_renovated</th>\n",
       "      <th>zipcode</th>\n",
       "      <th>lat</th>\n",
       "      <th>long</th>\n",
       "      <th>sqft_living15</th>\n",
       "      <th>sqft_lot15</th>\n",
       "    </tr>\n",
       "  </thead>\n",
       "  <tbody>\n",
       "    <tr>\n",
       "      <th>3946</th>\n",
       "      <td>1825069031</td>\n",
       "      <td>2014-08-14</td>\n",
       "      <td>550000.00</td>\n",
       "      <td>4</td>\n",
       "      <td>1.75</td>\n",
       "      <td>2410</td>\n",
       "      <td>8447</td>\n",
       "      <td>2.00</td>\n",
       "      <td>NO</td>\n",
       "      <td>GOOD</td>\n",
       "      <td>Good</td>\n",
       "      <td>8_Good</td>\n",
       "      <td>2060</td>\n",
       "      <td>350.0</td>\n",
       "      <td>1936</td>\n",
       "      <td>1980.00</td>\n",
       "      <td>98074</td>\n",
       "      <td>47.65</td>\n",
       "      <td>-122.09</td>\n",
       "      <td>2520</td>\n",
       "      <td>14789</td>\n",
       "    </tr>\n",
       "    <tr>\n",
       "      <th>3947</th>\n",
       "      <td>1825069031</td>\n",
       "      <td>2014-10-16</td>\n",
       "      <td>550000.00</td>\n",
       "      <td>4</td>\n",
       "      <td>1.75</td>\n",
       "      <td>2410</td>\n",
       "      <td>8447</td>\n",
       "      <td>2.00</td>\n",
       "      <td>NaN</td>\n",
       "      <td>GOOD</td>\n",
       "      <td>Good</td>\n",
       "      <td>8_Good</td>\n",
       "      <td>2060</td>\n",
       "      <td>350.0</td>\n",
       "      <td>1936</td>\n",
       "      <td>1980.00</td>\n",
       "      <td>98074</td>\n",
       "      <td>47.65</td>\n",
       "      <td>-122.09</td>\n",
       "      <td>2520</td>\n",
       "      <td>14789</td>\n",
       "    </tr>\n",
       "    <tr>\n",
       "      <th>12942</th>\n",
       "      <td>2019200220</td>\n",
       "      <td>2014-09-23</td>\n",
       "      <td>160000.00</td>\n",
       "      <td>3</td>\n",
       "      <td>2.25</td>\n",
       "      <td>1470</td>\n",
       "      <td>8682</td>\n",
       "      <td>1.00</td>\n",
       "      <td>NO</td>\n",
       "      <td>NONE</td>\n",
       "      <td>Average</td>\n",
       "      <td>7_Average</td>\n",
       "      <td>1160</td>\n",
       "      <td>310.0</td>\n",
       "      <td>1985</td>\n",
       "      <td>0.00</td>\n",
       "      <td>98003</td>\n",
       "      <td>47.27</td>\n",
       "      <td>-122.30</td>\n",
       "      <td>1670</td>\n",
       "      <td>8359</td>\n",
       "    </tr>\n",
       "    <tr>\n",
       "      <th>12943</th>\n",
       "      <td>2019200220</td>\n",
       "      <td>2015-02-26</td>\n",
       "      <td>269000.00</td>\n",
       "      <td>3</td>\n",
       "      <td>2.25</td>\n",
       "      <td>1470</td>\n",
       "      <td>8682</td>\n",
       "      <td>1.00</td>\n",
       "      <td>NO</td>\n",
       "      <td>NONE</td>\n",
       "      <td>Average</td>\n",
       "      <td>7_Average</td>\n",
       "      <td>1160</td>\n",
       "      <td>310.0</td>\n",
       "      <td>1985</td>\n",
       "      <td>nan</td>\n",
       "      <td>98003</td>\n",
       "      <td>47.27</td>\n",
       "      <td>-122.30</td>\n",
       "      <td>1670</td>\n",
       "      <td>8359</td>\n",
       "    </tr>\n",
       "    <tr>\n",
       "      <th>17588</th>\n",
       "      <td>795000620</td>\n",
       "      <td>2014-09-24</td>\n",
       "      <td>115000.00</td>\n",
       "      <td>3</td>\n",
       "      <td>1.00</td>\n",
       "      <td>1080</td>\n",
       "      <td>6250</td>\n",
       "      <td>1.00</td>\n",
       "      <td>NO</td>\n",
       "      <td>NONE</td>\n",
       "      <td>Fair</td>\n",
       "      <td>5_Fair</td>\n",
       "      <td>1080</td>\n",
       "      <td>0.0</td>\n",
       "      <td>1950</td>\n",
       "      <td>0.00</td>\n",
       "      <td>98168</td>\n",
       "      <td>47.50</td>\n",
       "      <td>-122.33</td>\n",
       "      <td>1070</td>\n",
       "      <td>6250</td>\n",
       "    </tr>\n",
       "    <tr>\n",
       "      <th>17589</th>\n",
       "      <td>795000620</td>\n",
       "      <td>2014-12-15</td>\n",
       "      <td>124000.00</td>\n",
       "      <td>3</td>\n",
       "      <td>1.00</td>\n",
       "      <td>1080</td>\n",
       "      <td>6250</td>\n",
       "      <td>1.00</td>\n",
       "      <td>NO</td>\n",
       "      <td>NONE</td>\n",
       "      <td>Fair</td>\n",
       "      <td>5_Fair</td>\n",
       "      <td>1080</td>\n",
       "      <td>0.0</td>\n",
       "      <td>1950</td>\n",
       "      <td>0.00</td>\n",
       "      <td>98168</td>\n",
       "      <td>47.50</td>\n",
       "      <td>-122.33</td>\n",
       "      <td>1070</td>\n",
       "      <td>6250</td>\n",
       "    </tr>\n",
       "    <tr>\n",
       "      <th>17590</th>\n",
       "      <td>795000620</td>\n",
       "      <td>2015-03-11</td>\n",
       "      <td>157000.00</td>\n",
       "      <td>3</td>\n",
       "      <td>1.00</td>\n",
       "      <td>1080</td>\n",
       "      <td>6250</td>\n",
       "      <td>1.00</td>\n",
       "      <td>NaN</td>\n",
       "      <td>NONE</td>\n",
       "      <td>Fair</td>\n",
       "      <td>5_Fair</td>\n",
       "      <td>1080</td>\n",
       "      <td>0.0</td>\n",
       "      <td>1950</td>\n",
       "      <td>nan</td>\n",
       "      <td>98168</td>\n",
       "      <td>47.50</td>\n",
       "      <td>-122.33</td>\n",
       "      <td>1070</td>\n",
       "      <td>6250</td>\n",
       "    </tr>\n",
       "  </tbody>\n",
       "</table>\n",
       "</div>"
      ],
      "text/plain": [
       "               id       date     price  bedrooms  bathrooms  sqft_living  \\\n",
       "3946   1825069031 2014-08-14 550000.00         4       1.75         2410   \n",
       "3947   1825069031 2014-10-16 550000.00         4       1.75         2410   \n",
       "12942  2019200220 2014-09-23 160000.00         3       2.25         1470   \n",
       "12943  2019200220 2015-02-26 269000.00         3       2.25         1470   \n",
       "17588   795000620 2014-09-24 115000.00         3       1.00         1080   \n",
       "17589   795000620 2014-12-15 124000.00         3       1.00         1080   \n",
       "17590   795000620 2015-03-11 157000.00         3       1.00         1080   \n",
       "\n",
       "       sqft_lot  floors waterfront  view condition      grade  sqft_above  \\\n",
       "3946       8447    2.00         NO  GOOD      Good     8_Good        2060   \n",
       "3947       8447    2.00        NaN  GOOD      Good     8_Good        2060   \n",
       "12942      8682    1.00         NO  NONE   Average  7_Average        1160   \n",
       "12943      8682    1.00         NO  NONE   Average  7_Average        1160   \n",
       "17588      6250    1.00         NO  NONE      Fair     5_Fair        1080   \n",
       "17589      6250    1.00         NO  NONE      Fair     5_Fair        1080   \n",
       "17590      6250    1.00        NaN  NONE      Fair     5_Fair        1080   \n",
       "\n",
       "      sqft_basement  yr_built  yr_renovated  zipcode   lat    long  \\\n",
       "3946          350.0      1936       1980.00    98074 47.65 -122.09   \n",
       "3947          350.0      1936       1980.00    98074 47.65 -122.09   \n",
       "12942         310.0      1985          0.00    98003 47.27 -122.30   \n",
       "12943         310.0      1985           nan    98003 47.27 -122.30   \n",
       "17588           0.0      1950          0.00    98168 47.50 -122.33   \n",
       "17589           0.0      1950          0.00    98168 47.50 -122.33   \n",
       "17590           0.0      1950           nan    98168 47.50 -122.33   \n",
       "\n",
       "       sqft_living15  sqft_lot15  \n",
       "3946            2520       14789  \n",
       "3947            2520       14789  \n",
       "12942           1670        8359  \n",
       "12943           1670        8359  \n",
       "17588           1070        6250  \n",
       "17589           1070        6250  \n",
       "17590           1070        6250  "
      ]
     },
     "execution_count": 11,
     "metadata": {},
     "output_type": "execute_result"
    }
   ],
   "source": [
    "df.loc[(df['id'] == 795000620) |\n",
    "       (df['id'] == 1825069031) |\n",
    "       (df['id'] == 2019200220)]"
   ]
  },
  {
   "cell_type": "markdown",
   "metadata": {},
   "source": [
    "The house with the `id` value `1825069031` saw no change in its sale price between its first sale (in August 2014) and second sale (in October 2014). However, the *other* two houses we're looking at here - `\t2019200220` and `795000620` - saw their sale prices **increase** over time, and with no changes in any other column!\n",
    "\n",
    "It might be best to keep the **most recent** sale on record to avoid adding any additional 'noise' to our model."
   ]
  },
  {
   "cell_type": "code",
   "execution_count": 12,
   "metadata": {
    "ExecuteTime": {
     "end_time": "2022-03-30T16:38:47.181770Z",
     "start_time": "2022-03-30T16:38:47.157531Z"
    }
   },
   "outputs": [],
   "source": [
    "# Dropping rows with duplicate values in `id` column,\n",
    "# sans the most recent sale\n",
    "df.drop_duplicates(subset=['id'], keep='last', inplace=True)"
   ]
  },
  {
   "cell_type": "markdown",
   "metadata": {},
   "source": [
    "Let's make sure that worked..."
   ]
  },
  {
   "cell_type": "code",
   "execution_count": 13,
   "metadata": {
    "ExecuteTime": {
     "end_time": "2022-03-30T16:38:47.211689Z",
     "start_time": "2022-03-30T16:38:47.187753Z"
    },
    "scrolled": false
   },
   "outputs": [
    {
     "data": {
      "text/plain": [
       "True"
      ]
     },
     "execution_count": 13,
     "metadata": {},
     "output_type": "execute_result"
    }
   ],
   "source": [
    "# Ensuring that number of unique `id` values matches\n",
    "# number of rows in dataframe, i.e. no repeated values\n",
    "len(df['id'].unique()) == len(df)"
   ]
  },
  {
   "cell_type": "code",
   "execution_count": 14,
   "metadata": {
    "ExecuteTime": {
     "end_time": "2022-03-30T16:38:47.243462Z",
     "start_time": "2022-03-30T16:38:47.214682Z"
    }
   },
   "outputs": [
    {
     "data": {
      "text/plain": [
       "17590   2015-03-11\n",
       "Name: date, dtype: datetime64[ns]"
      ]
     },
     "execution_count": 14,
     "metadata": {},
     "output_type": "execute_result"
    }
   ],
   "source": [
    "# Ensuring that only one sale remains for a house\n",
    "# we know initially had multiple sales on record\n",
    "df.loc[ df['id'] == 795000620 ]['date']"
   ]
  },
  {
   "cell_type": "markdown",
   "metadata": {},
   "source": [
    "We only got one result when indexing into the `date` column for the property `795000620`, and it's the date of the most recent sale on record for `795000620`! We've eliminated *all but the most recent sale* for any property with more than one sale on record.\n",
    "\n",
    "We no longer have any use for the `id` column, so we can drop it from our dataframe entirely."
   ]
  },
  {
   "cell_type": "code",
   "execution_count": 15,
   "metadata": {
    "ExecuteTime": {
     "end_time": "2022-03-30T16:38:47.275385Z",
     "start_time": "2022-03-30T16:38:47.248447Z"
    }
   },
   "outputs": [],
   "source": [
    "# Dropping `id` column, now that we know we\n",
    "# have exclusively unique values for `id`\n",
    "\n",
    "df.drop(labels='id',\n",
    "        axis=1,\n",
    "        inplace=True)"
   ]
  },
  {
   "cell_type": "markdown",
   "metadata": {},
   "source": [
    "**Something else that might be of note:** in some of these rows where the same `id` appears twice, a value that *was* recorded in the first sale appears as a *null value* in a later sale, e.g. the `waterfront` column on the house whose `id` is `1825069031`."
   ]
  },
  {
   "cell_type": "code",
   "execution_count": 16,
   "metadata": {
    "ExecuteTime": {
     "end_time": "2022-03-30T16:38:51.458021Z",
     "start_time": "2022-03-30T16:38:47.281360Z"
    }
   },
   "outputs": [
    {
     "data": {
      "text/plain": [
       "<AxesSubplot:>"
      ]
     },
     "execution_count": 16,
     "metadata": {},
     "output_type": "execute_result"
    },
    {
     "data": {
      "image/png": "[encoded data removed]",
      "text/plain": [
       "<Figure size 864x864 with 2 Axes>"
      ]
     },
     "metadata": {
      "needs_background": "light"
     },
     "output_type": "display_data"
    }
   ],
   "source": [
    "# Visualizing correlations between numerical columns\n",
    "# with a seaborn heatmap to investigate the correlation\n",
    "# of various features w/ `price` and assess potential\n",
    "# issues with multicollinearity\n",
    "\n",
    "fig, ax = plt.subplots(figsize=(12, 12))\n",
    "corr = df.corr()\n",
    "\n",
    "# Instantiate numpy array of zeroes and assign to `mask`\n",
    "mask = np.zeros_like(corr,\n",
    "                     dtype=bool)\n",
    "\n",
    "# Returns indices from upper triangle of array\n",
    "mask[np.triu_indices_from(mask)] = True\n",
    "\n",
    "sns.heatmap(corr,\n",
    "            annot=True,\n",
    "            mask=mask)"
   ]
  },
  {
   "cell_type": "markdown",
   "metadata": {},
   "source": [
    "**Observations from this heatmap:**\n",
    "\n",
    "- `sqft_living` has the highest correlation with price, an r-value of `0.7`...\n",
    "    - ...but `sqft_living` is also correlated with several other columns: `bedrooms`, `bathrooms`, `sqft_above` (this one has an r-value of `0.88`!), and `sqft_living15`, so we'll need to be careful that we don't include collinear features in our models.\n",
    "- `zipcode`, `lat`, and `long` all have low (`0.31` or below) correlations with `price` - these columns likely won't be useful to us in constructing models for this project, but could be worth looking into as next-step recommendations."
   ]
  },
  {
   "cell_type": "code",
   "execution_count": 38,
   "metadata": {
    "ExecuteTime": {
     "end_time": "2022-03-30T16:44:11.559927Z",
     "start_time": "2022-03-30T16:44:11.544968Z"
    }
   },
   "outputs": [],
   "source": [
    "# Creating copy of original dataframe before dropping columns\n",
    "df_copy = df.copy()"
   ]
  },
  {
   "cell_type": "code",
   "execution_count": 39,
   "metadata": {
    "ExecuteTime": {
     "end_time": "2022-03-30T16:44:12.338173Z",
     "start_time": "2022-03-30T16:44:12.328917Z"
    }
   },
   "outputs": [],
   "source": [
    "# Drop irrelevant columns\n",
    "df_copy.drop(columns=['date',\n",
    "                      'floors',\n",
    "                      'waterfront',\n",
    "                      'condition',\n",
    "                      'sqft_above',  # potential for multicollinearity\n",
    "                      'sqft_basement',  # potential for multicollinearity\n",
    "                      'yr_renovated',\n",
    "                      'lat',\n",
    "                      'long',\n",
    "                      'sqft_living15',  # potential for multicollinearity\n",
    "                      'sqft_lot15'],\n",
    "             inplace=True)"
   ]
  },
  {
   "cell_type": "code",
   "execution_count": 40,
   "metadata": {
    "ExecuteTime": {
     "end_time": "2022-03-30T16:44:12.756428Z",
     "start_time": "2022-03-30T16:44:12.753436Z"
    }
   },
   "outputs": [],
   "source": [
    "# mms = MinMaxScaler()\n",
    "# df_copy[['bathrooms']] = mms.fit_transform(df_copy[['bathrooms']])"
   ]
  },
  {
   "cell_type": "code",
   "execution_count": 41,
   "metadata": {
    "ExecuteTime": {
     "end_time": "2022-03-30T16:44:13.162091Z",
     "start_time": "2022-03-30T16:44:13.143303Z"
    },
    "scrolled": false
   },
   "outputs": [
    {
     "name": "stdout",
     "output_type": "stream",
     "text": [
      "<class 'pandas.core.frame.DataFrame'>\n",
      "Int64Index: 21420 entries, 0 to 21596\n",
      "Data columns (total 9 columns):\n",
      " #   Column       Non-Null Count  Dtype  \n",
      "---  ------       --------------  -----  \n",
      " 0   price        21420 non-null  float64\n",
      " 1   bedrooms     21420 non-null  int64  \n",
      " 2   bathrooms    21420 non-null  float64\n",
      " 3   sqft_living  21420 non-null  int64  \n",
      " 4   sqft_lot     21420 non-null  int64  \n",
      " 5   view         21357 non-null  object \n",
      " 6   grade        21420 non-null  object \n",
      " 7   yr_built     21420 non-null  int64  \n",
      " 8   zipcode      21420 non-null  int64  \n",
      "dtypes: float64(2), int64(5), object(2)\n",
      "memory usage: 1.6+ MB\n"
     ]
    }
   ],
   "source": [
    "df_copy.info()"
   ]
  },
  {
   "cell_type": "markdown",
   "metadata": {},
   "source": [
    "We've got some nulls in the `view` column, but the number of null values *vis-à-vis*  the number of total rows in the dataframe is such that we can safely drop those nulls without worrying about our conclusions being affected."
   ]
  },
  {
   "cell_type": "code",
   "execution_count": 42,
   "metadata": {
    "ExecuteTime": {
     "end_time": "2022-03-30T16:44:13.819348Z",
     "start_time": "2022-03-30T16:44:13.806382Z"
    }
   },
   "outputs": [],
   "source": [
    "# Dropping nulls from column `view`\n",
    "df_copy = df_copy.dropna(subset = ['view'])"
   ]
  },
  {
   "cell_type": "code",
   "execution_count": 43,
   "metadata": {
    "ExecuteTime": {
     "end_time": "2022-03-30T16:44:14.865311Z",
     "start_time": "2022-03-30T16:44:14.843532Z"
    },
    "scrolled": true
   },
   "outputs": [
    {
     "data": {
      "text/plain": [
       "True"
      ]
     },
     "execution_count": 43,
     "metadata": {},
     "output_type": "execute_result"
    }
   ],
   "source": [
    "# Validating that...\n",
    "df_copy['view'].isna().sum() == 0"
   ]
  },
  {
   "cell_type": "markdown",
   "metadata": {},
   "source": [
    "`view` and `grade` might seem similar on first glance - both columns use descriptors like `AVERAGE` and `GOOD` to assess the attributes of a house - but we determined that `grade` is a much more mutable category; it refers to the \"types of materials used (in building the house) and the quality of workmanship\" on display in the house's \"construction and design.\"\n",
    "\n",
    "Let's get a breakdown of the distribution of `grade` values in King County."
   ]
  },
  {
   "cell_type": "code",
   "execution_count": 44,
   "metadata": {
    "ExecuteTime": {
     "end_time": "2022-03-30T16:44:15.309180Z",
     "start_time": "2022-03-30T16:44:15.285245Z"
    }
   },
   "outputs": [
    {
     "data": {
      "text/plain": [
       "7_Average        8863\n",
       "8_Good           6029\n",
       "9_Better         2595\n",
       "6_Low_Average    1988\n",
       "10_Very_Good     1126\n",
       "11_Excellent      394\n",
       "5_Fair            234\n",
       "12_Luxury          87\n",
       "4_Low              27\n",
       "13_Mansion         13\n",
       "3_Poor              1\n",
       "Name: grade, dtype: int64"
      ]
     },
     "execution_count": 44,
     "metadata": {},
     "output_type": "execute_result"
    }
   ],
   "source": [
    "# Checking out the frequency of each possible value\n",
    "# for column `grade`\n",
    "df_copy['grade'].value_counts()"
   ]
  },
  {
   "cell_type": "markdown",
   "metadata": {},
   "source": [
    "We find only **one row** where the `grade` value is equal to `3 Poor`. We drop this column to eliminate an outlier."
   ]
  },
  {
   "cell_type": "code",
   "execution_count": 45,
   "metadata": {
    "ExecuteTime": {
     "end_time": "2022-03-30T16:44:16.232720Z",
     "start_time": "2022-03-30T16:44:16.214200Z"
    }
   },
   "outputs": [],
   "source": [
    "# Dropping the single row where `grade` is equal to\n",
    "# `3 Poor`, in order to eliminate an outlier\n",
    "df_copy = df_copy[df_copy['grade'] != '3 Poor']"
   ]
  },
  {
   "cell_type": "code",
   "execution_count": 46,
   "metadata": {
    "ExecuteTime": {
     "end_time": "2022-03-30T16:44:16.822753Z",
     "start_time": "2022-03-30T16:44:16.792835Z"
    },
    "scrolled": false
   },
   "outputs": [
    {
     "name": "stdout",
     "output_type": "stream",
     "text": [
      "<class 'pandas.core.frame.DataFrame'>\n",
      "Int64Index: 21357 entries, 0 to 21596\n",
      "Data columns (total 9 columns):\n",
      " #   Column       Non-Null Count  Dtype  \n",
      "---  ------       --------------  -----  \n",
      " 0   price        21357 non-null  float64\n",
      " 1   bedrooms     21357 non-null  int64  \n",
      " 2   bathrooms    21357 non-null  float64\n",
      " 3   sqft_living  21357 non-null  int64  \n",
      " 4   sqft_lot     21357 non-null  int64  \n",
      " 5   view         21357 non-null  object \n",
      " 6   grade        21357 non-null  object \n",
      " 7   yr_built     21357 non-null  int64  \n",
      " 8   zipcode      21357 non-null  int64  \n",
      "dtypes: float64(2), int64(5), object(2)\n",
      "memory usage: 1.6+ MB\n"
     ]
    }
   ],
   "source": [
    "df_copy.info()"
   ]
  },
  {
   "cell_type": "markdown",
   "metadata": {},
   "source": [
    "All set to begin preprocessing!"
   ]
  },
  {
   "cell_type": "code",
   "execution_count": 48,
   "metadata": {
    "ExecuteTime": {
     "end_time": "2022-03-30T16:44:28.716442Z",
     "start_time": "2022-03-30T16:44:28.703475Z"
    }
   },
   "outputs": [],
   "source": [
    "# df_copy['sqft_living'] = np.log(df_copy['sqft_living'])"
   ]
  },
  {
   "cell_type": "markdown",
   "metadata": {},
   "source": [
    "# Splitting data into train and test sets"
   ]
  },
  {
   "cell_type": "markdown",
   "metadata": {},
   "source": [
    "Our **target** variable, or `X`, is going to be `price`, i.e. the sale price of a given home."
   ]
  },
  {
   "cell_type": "code",
   "execution_count": 49,
   "metadata": {
    "ExecuteTime": {
     "end_time": "2022-03-30T16:44:31.502890Z",
     "start_time": "2022-03-30T16:44:31.485936Z"
    }
   },
   "outputs": [],
   "source": [
    "# Creating target variable and predictor dataframe\n",
    "y = df_copy['price']\n",
    "X = df_copy.drop(labels='price',\n",
    "                 axis=1)"
   ]
  },
  {
   "cell_type": "code",
   "execution_count": 50,
   "metadata": {
    "ExecuteTime": {
     "end_time": "2022-03-30T16:44:34.938022Z",
     "start_time": "2022-03-30T16:44:34.932039Z"
    }
   },
   "outputs": [],
   "source": [
    "y2 = y\n",
    "X2 = X['sqft_living']"
   ]
  },
  {
   "cell_type": "code",
   "execution_count": 51,
   "metadata": {
    "ExecuteTime": {
     "end_time": "2022-03-30T16:44:37.287724Z",
     "start_time": "2022-03-30T16:44:37.066379Z"
    },
    "scrolled": false
   },
   "outputs": [
    {
     "data": {
      "image/png": "[encoded data removed]",
      "text/plain": [
       "<Figure size 432x288 with 1 Axes>"
      ]
     },
     "metadata": {
      "needs_background": "light"
     },
     "output_type": "display_data"
    }
   ],
   "source": [
    "# Viewing residuals of sqft_living vs. price\n",
    "sns.residplot(x=X2, y=y2);"
   ]
  },
  {
   "cell_type": "code",
   "execution_count": null,
   "metadata": {
    "ExecuteTime": {
     "end_time": "2022-03-30T16:38:53.355471Z",
     "start_time": "2022-03-30T16:38:42.017Z"
    }
   },
   "outputs": [],
   "source": [
    "# Initiating train-test split\n",
    "X_train, X_test, y_train, y_test = train_test_split(\n",
    "    X, y, test_size=0.33, random_state=42)"
   ]
  },
  {
   "cell_type": "code",
   "execution_count": null,
   "metadata": {
    "ExecuteTime": {
     "end_time": "2022-03-30T16:38:53.358463Z",
     "start_time": "2022-03-30T16:38:42.022Z"
    },
    "scrolled": false
   },
   "outputs": [],
   "source": [
    "# Check out `X_train`\n",
    "X_train.info()"
   ]
  },
  {
   "cell_type": "code",
   "execution_count": null,
   "metadata": {
    "ExecuteTime": {
     "end_time": "2022-03-30T16:38:53.361455Z",
     "start_time": "2022-03-30T16:38:42.027Z"
    }
   },
   "outputs": [],
   "source": [
    "X_train.shape[0] == y_train.shape[0]"
   ]
  },
  {
   "cell_type": "code",
   "execution_count": null,
   "metadata": {
    "ExecuteTime": {
     "end_time": "2022-03-30T16:38:53.364449Z",
     "start_time": "2022-03-30T16:38:42.032Z"
    },
    "scrolled": true
   },
   "outputs": [],
   "source": [
    "X_test.shape[0] == y_test.shape[0]"
   ]
  },
  {
   "cell_type": "code",
   "execution_count": null,
   "metadata": {
    "ExecuteTime": {
     "end_time": "2022-03-30T16:38:53.367441Z",
     "start_time": "2022-03-30T16:38:42.039Z"
    }
   },
   "outputs": [],
   "source": [
    "# Creating concatenated dataframes\n",
    "train_df = pd.concat([X_train, y_train], axis=1)\n",
    "test_df = pd.concat([X_test, y_test], axis=1)"
   ]
  },
  {
   "cell_type": "code",
   "execution_count": null,
   "metadata": {
    "ExecuteTime": {
     "end_time": "2022-03-30T16:38:53.370430Z",
     "start_time": "2022-03-30T16:38:42.045Z"
    },
    "scrolled": true
   },
   "outputs": [],
   "source": [
    "train_df.head();"
   ]
  },
  {
   "cell_type": "code",
   "execution_count": null,
   "metadata": {
    "ExecuteTime": {
     "end_time": "2022-03-30T16:38:53.373426Z",
     "start_time": "2022-03-30T16:38:42.053Z"
    }
   },
   "outputs": [],
   "source": [
    "test_df.head();"
   ]
  },
  {
   "cell_type": "markdown",
   "metadata": {},
   "source": [
    "Below, we group the dataset by column `view` and get some descriptive statistics on the column."
   ]
  },
  {
   "cell_type": "code",
   "execution_count": null,
   "metadata": {
    "ExecuteTime": {
     "end_time": "2022-03-30T16:38:53.377415Z",
     "start_time": "2022-03-30T16:38:42.064Z"
    },
    "scrolled": true
   },
   "outputs": [],
   "source": [
    "# df_copy.groupby('view').mean()\n",
    "# df_copy.sort_values('price', ascending = False).head()"
   ]
  },
  {
   "cell_type": "code",
   "execution_count": null,
   "metadata": {
    "ExecuteTime": {
     "end_time": "2022-03-30T16:38:53.384405Z",
     "start_time": "2022-03-30T16:38:42.072Z"
    }
   },
   "outputs": [],
   "source": [
    "# fig, ax = plt.subplots(figsize=(20,10))\n",
    "\n",
    "# sns.histplot(df_copy['grade'])"
   ]
  },
  {
   "cell_type": "code",
   "execution_count": null,
   "metadata": {
    "ExecuteTime": {
     "end_time": "2022-03-30T16:38:53.387386Z",
     "start_time": "2022-03-30T16:38:42.081Z"
    }
   },
   "outputs": [],
   "source": [
    "# fig, ax = plt.subplots(figsize=(8,8))\n",
    "# heat = sns.heatmap(train_df.corr(), annot = True)"
   ]
  },
  {
   "cell_type": "code",
   "execution_count": null,
   "metadata": {},
   "outputs": [],
   "source": []
  },
  {
   "cell_type": "code",
   "execution_count": null,
   "metadata": {},
   "outputs": [],
   "source": []
  },
  {
   "cell_type": "markdown",
   "metadata": {},
   "source": [
    "## Baseline Model (using DummyRegressor)"
   ]
  },
  {
   "cell_type": "code",
   "execution_count": 52,
   "metadata": {
    "ExecuteTime": {
     "end_time": "2022-03-30T16:49:17.907730Z",
     "start_time": "2022-03-30T16:49:17.880836Z"
    }
   },
   "outputs": [
    {
     "ename": "NameError",
     "evalue": "name 'train_df' is not defined",
     "output_type": "error",
     "traceback": [
      "\u001b[1;31m---------------------------------------------------------------------------\u001b[0m",
      "\u001b[1;31mNameError\u001b[0m                                 Traceback (most recent call last)",
      "\u001b[1;32m<ipython-input-52-f5f42852c70a>\u001b[0m in \u001b[0;36m<module>\u001b[1;34m\u001b[0m\n\u001b[0;32m      3\u001b[0m \u001b[1;33m\u001b[0m\u001b[0m\n\u001b[0;32m      4\u001b[0m \u001b[1;31m# Create variables\u001b[0m\u001b[1;33m\u001b[0m\u001b[1;33m\u001b[0m\u001b[1;33m\u001b[0m\u001b[0m\n\u001b[1;32m----> 5\u001b[1;33m \u001b[0mX_dummy\u001b[0m \u001b[1;33m=\u001b[0m \u001b[0mtrain_df\u001b[0m\u001b[1;33m[\u001b[0m\u001b[1;34m'sqft_living'\u001b[0m\u001b[1;33m]\u001b[0m\u001b[1;33m\u001b[0m\u001b[1;33m\u001b[0m\u001b[0m\n\u001b[0m\u001b[0;32m      6\u001b[0m \u001b[0my_dummy\u001b[0m \u001b[1;33m=\u001b[0m \u001b[0mtrain_df\u001b[0m\u001b[1;33m[\u001b[0m\u001b[1;34m'price'\u001b[0m\u001b[1;33m]\u001b[0m\u001b[1;33m\u001b[0m\u001b[1;33m\u001b[0m\u001b[0m\n\u001b[0;32m      7\u001b[0m \u001b[1;33m\u001b[0m\u001b[0m\n",
      "\u001b[1;31mNameError\u001b[0m: name 'train_df' is not defined"
     ]
    }
   ],
   "source": [
    "# Instantiate the DummyRegressor\n",
    "dummy_lr = DummyRegressor(strategy='median')\n",
    "\n",
    "# Create variables\n",
    "X_dummy = train_df['sqft_living']\n",
    "y_dummy = train_df['price']\n",
    "\n",
    "# Fit regressor to variables\n",
    "dummy_lr.fit(X_dummy, y_dummy)\n",
    "\n",
    "# Score\n",
    "dummy_lr.score(X_dummy, y_dummy)"
   ]
  },
  {
   "cell_type": "code",
   "execution_count": null,
   "metadata": {
    "ExecuteTime": {
     "end_time": "2022-03-30T16:38:53.393369Z",
     "start_time": "2022-03-30T16:38:42.113Z"
    },
    "scrolled": true
   },
   "outputs": [],
   "source": [
    "dummy_lr.constant_"
   ]
  },
  {
   "cell_type": "code",
   "execution_count": null,
   "metadata": {},
   "outputs": [],
   "source": []
  },
  {
   "cell_type": "markdown",
   "metadata": {},
   "source": [
    "## Initial Model"
   ]
  },
  {
   "cell_type": "code",
   "execution_count": null,
   "metadata": {
    "ExecuteTime": {
     "end_time": "2022-03-30T16:38:53.397358Z",
     "start_time": "2022-03-30T16:38:42.128Z"
    }
   },
   "outputs": [],
   "source": [
    "# Using statsmodel.OLS to create our first model,\n",
    "# with a single feature (sqft_living)\n",
    "simple_model_1 = sm.OLS(y_train, sm.add_constant(X_train['sqft_living'])).fit()"
   ]
  },
  {
   "cell_type": "code",
   "execution_count": null,
   "metadata": {
    "ExecuteTime": {
     "end_time": "2022-03-30T16:38:53.400351Z",
     "start_time": "2022-03-30T16:38:42.135Z"
    }
   },
   "outputs": [],
   "source": [
    "simple_model_1.summary()"
   ]
  },
  {
   "cell_type": "code",
   "execution_count": null,
   "metadata": {
    "ExecuteTime": {
     "end_time": "2022-03-30T16:38:53.404340Z",
     "start_time": "2022-03-30T16:38:42.141Z"
    },
    "scrolled": true
   },
   "outputs": [],
   "source": [
    "# Grabbing predictions from simple linear model\n",
    "simple_train_preds_1 = simple_model_1.predict(sm.add_constant(X_train['sqft_living']))\n",
    "\n",
    "simple_train_preds_1"
   ]
  },
  {
   "cell_type": "code",
   "execution_count": null,
   "metadata": {
    "ExecuteTime": {
     "end_time": "2022-03-30T16:38:53.407335Z",
     "start_time": "2022-03-30T16:38:42.146Z"
    }
   },
   "outputs": [],
   "source": [
    "# First round of residuals\n",
    "residuals_1 = y_train - simple_train_preds_1\n",
    "\n",
    "residuals_1"
   ]
  },
  {
   "cell_type": "markdown",
   "metadata": {},
   "source": [
    "### View Analysis"
   ]
  },
  {
   "cell_type": "markdown",
   "metadata": {},
   "source": [
    "is there a difference between those that have a view versus those that don't"
   ]
  },
  {
   "cell_type": "code",
   "execution_count": null,
   "metadata": {
    "ExecuteTime": {
     "end_time": "2022-03-30T16:38:53.412318Z",
     "start_time": "2022-03-30T16:38:42.155Z"
    },
    "scrolled": true
   },
   "outputs": [],
   "source": [
    "summary_of_view = df_copy.groupby('view').agg(['mean', 'std'])\n",
    "\n",
    "summary_of_view"
   ]
  },
  {
   "cell_type": "markdown",
   "metadata": {},
   "source": [
    "Observations from this summary:\n",
    "\n",
    "- Significant gap between `EXCELLENT` and `GOOD`\n",
    "- Smallest gap is between `FAIR` and `AVERAGE` - we'll need to determine if this difference is a signficant one."
   ]
  },
  {
   "cell_type": "markdown",
   "metadata": {},
   "source": [
    "From the df summary, we notice that there is a difference in price between price for those that are excellent\n",
    "compared to those that have a view written as none. Further investigation will be performed to determine if this\n",
    "difference is statistically significant"
   ]
  },
  {
   "cell_type": "code",
   "execution_count": null,
   "metadata": {
    "ExecuteTime": {
     "end_time": "2022-03-30T16:38:53.415311Z",
     "start_time": "2022-03-30T16:38:42.166Z"
    }
   },
   "outputs": [],
   "source": [
    "# Figure out how to do this in a loop/function?\n",
    "df_average = train_df[train_df['view'] == 'AVERAGE']\n",
    "df_excellent = train_df[train_df['view'] == 'EXCELLENT']\n",
    "df_fair = train_df[train_df['view'] == 'FAIR']\n",
    "df_good = train_df[train_df['view'] == 'GOOD']\n",
    "df_none = train_df[train_df['view'] == 'NONE']"
   ]
  },
  {
   "cell_type": "code",
   "execution_count": null,
   "metadata": {
    "ExecuteTime": {
     "end_time": "2022-03-30T16:38:53.420302Z",
     "start_time": "2022-03-30T16:38:42.172Z"
    }
   },
   "outputs": [],
   "source": [
    "train_df['view'].value_counts()"
   ]
  },
  {
   "cell_type": "markdown",
   "metadata": {},
   "source": [
    "Subsetting the data into different views\n",
    " - Number of rows:\n",
    "     - `NONE` = 12906\n",
    "     - `AVERAGE` = 636\n",
    "     - `GOOD` = 342\n",
    "     - `FAIR` = 213\n",
    "     - `EXCELLENT` = 212"
   ]
  },
  {
   "cell_type": "code",
   "execution_count": null,
   "metadata": {
    "ExecuteTime": {
     "end_time": "2022-03-30T16:38:53.425284Z",
     "start_time": "2022-03-30T16:38:42.178Z"
    }
   },
   "outputs": [],
   "source": [
    "fvalue, pvalue = stats.f_oneway(df_average['price'], df_excellent['price'], df_fair['price'],\n",
    "                                df_good['price'] , df_none['price'])"
   ]
  },
  {
   "cell_type": "code",
   "execution_count": null,
   "metadata": {
    "ExecuteTime": {
     "end_time": "2022-03-30T16:38:53.430271Z",
     "start_time": "2022-03-30T16:38:42.183Z"
    },
    "scrolled": false
   },
   "outputs": [],
   "source": [
    "#creating df of just view\n",
    "# df_view = train_df[['view', 'price']]\n",
    "\n",
    "#Tukey test\n",
    "#print(pairwise_tukeyhsd(df_view['price'], df_view['view']))"
   ]
  },
  {
   "cell_type": "markdown",
   "metadata": {},
   "source": [
    "`AVERAGE` and `FAIR` are not significant to each other, so they should be grouped together. Each other subset should be on their own as they have a p value of < .05"
   ]
  },
  {
   "cell_type": "markdown",
   "metadata": {},
   "source": [
    "#### Grade Analysis"
   ]
  },
  {
   "cell_type": "markdown",
   "metadata": {},
   "source": [
    " Is there a difference between grades"
   ]
  },
  {
   "cell_type": "code",
   "execution_count": null,
   "metadata": {
    "ExecuteTime": {
     "end_time": "2022-03-30T16:38:53.434259Z",
     "start_time": "2022-03-30T16:38:42.197Z"
    }
   },
   "outputs": [],
   "source": [
    "train_df.grade.value_counts()"
   ]
  },
  {
   "cell_type": "code",
   "execution_count": null,
   "metadata": {
    "ExecuteTime": {
     "end_time": "2022-03-30T16:38:53.437822Z",
     "start_time": "2022-03-30T16:38:42.205Z"
    }
   },
   "outputs": [],
   "source": [
    "# Dropping poor row, since there is only one\n",
    "df3 = train_df.copy()\n",
    "df3 = df3[df3['grade'] != '3 Poor']"
   ]
  },
  {
   "cell_type": "code",
   "execution_count": null,
   "metadata": {
    "ExecuteTime": {
     "end_time": "2022-03-30T16:38:53.440814Z",
     "start_time": "2022-03-30T16:38:42.210Z"
    }
   },
   "outputs": [],
   "source": [
    "df3.grade = [x.replace(\" \", \"_\").strip() for x in df3.grade]"
   ]
  },
  {
   "cell_type": "code",
   "execution_count": null,
   "metadata": {
    "ExecuteTime": {
     "end_time": "2022-03-30T16:38:53.443806Z",
     "start_time": "2022-03-30T16:38:42.214Z"
    },
    "scrolled": true
   },
   "outputs": [],
   "source": [
    "df3['grade'].value_counts()"
   ]
  },
  {
   "cell_type": "code",
   "execution_count": null,
   "metadata": {
    "ExecuteTime": {
     "end_time": "2022-03-30T16:38:53.446926Z",
     "start_time": "2022-03-30T16:38:42.222Z"
    }
   },
   "outputs": [],
   "source": [
    "# Might need a for loop or a function here\n",
    "df_10 = train_df[train_df['grade'] == '10 Very Good']\n",
    "df_11 = train_df[train_df['grade'] == '11 Excellent']\n",
    "df_12 = train_df[train_df['grade'] == '12 Luxury']\n",
    "df_4 = train_df[train_df['grade'] == '4 Low']\n",
    "df_5 = train_df[train_df['grade'] == '5 Fair']\n",
    "df_6 = train_df[train_df['grade'] == '6 Low Average']\n",
    "df_7 = train_df[train_df['grade'] == '7 Average']\n",
    "df_8 = train_df[train_df['grade'] == '8 Good']\n",
    "df_9 = train_df[train_df['grade'] == '9 Better']"
   ]
  },
  {
   "cell_type": "code",
   "execution_count": null,
   "metadata": {
    "ExecuteTime": {
     "end_time": "2022-03-30T16:38:53.449919Z",
     "start_time": "2022-03-30T16:38:42.226Z"
    }
   },
   "outputs": [],
   "source": [
    "# Finding f-statistic and p-value using ANOVA testing\n",
    "\n",
    "f_value_grade, p_value_grade = stats.f_oneway(df_10['price'], df_11['price'], df_12['price'],\n",
    "                                              df_4['price'], df_5['price'], df_6['price'],\n",
    "                                              df_7['price'], df_8['price'], df_9['price'])\n",
    "p_value_grade"
   ]
  },
  {
   "cell_type": "markdown",
   "metadata": {},
   "source": [
    "This 0.0 value indicates there is significance **somewhere** between `grade` values, but additional testing is required to determine **where** exactly this significance exists.\n",
    "\n",
    "There is a significant difference in price betweeen grades but we don't know which one is significant.\n",
    "Further testing required to determine which is important"
   ]
  },
  {
   "cell_type": "code",
   "execution_count": null,
   "metadata": {
    "ExecuteTime": {
     "end_time": "2022-03-30T16:38:53.452910Z",
     "start_time": "2022-03-30T16:38:42.238Z"
    }
   },
   "outputs": [],
   "source": [
    "# Ad-hoc test to determine differeces in price vs. grade\n",
    "\n",
    "df_grade = train_df[['grade', 'price']]\n",
    "\n",
    "print(pairwise_tukeyhsd(df_grade['price'], df_grade['grade']))"
   ]
  },
  {
   "cell_type": "markdown",
   "metadata": {},
   "source": [
    "Summary of what we notice"
   ]
  },
  {
   "cell_type": "markdown",
   "metadata": {},
   "source": [
    "#### One Hot Encoding | Rework to include Train only"
   ]
  },
  {
   "cell_type": "code",
   "execution_count": null,
   "metadata": {
    "ExecuteTime": {
     "end_time": "2022-03-30T16:38:53.458895Z",
     "start_time": "2022-03-30T16:38:42.247Z"
    }
   },
   "outputs": [],
   "source": [
    "#categorizing average and fair together since they are not different from each other\n",
    "df3['view'] = df3['view'].str.replace('AVERAGE', 'FAIR')"
   ]
  },
  {
   "cell_type": "code",
   "execution_count": null,
   "metadata": {
    "ExecuteTime": {
     "end_time": "2022-03-30T16:38:53.462883Z",
     "start_time": "2022-03-30T16:38:42.254Z"
    }
   },
   "outputs": [],
   "source": [
    "#making the categorical variable\n",
    "cate_column = df3[['grade', 'view']]\n",
    "\n",
    "cate_column"
   ]
  },
  {
   "cell_type": "code",
   "execution_count": null,
   "metadata": {
    "ExecuteTime": {
     "end_time": "2022-03-30T16:38:53.465649Z",
     "start_time": "2022-03-30T16:38:42.258Z"
    }
   },
   "outputs": [],
   "source": [
    "ohe = OneHotEncoder(drop='first')\n",
    "\n",
    "column_name = ['grade', 'view']\n",
    "features = cate_column.copy()\n",
    "\n",
    "features2 = features[column_name]\n",
    "\n",
    "cate_ohe = ohe.fit_transform(features2)\n",
    "\n",
    "cate_ohe"
   ]
  },
  {
   "cell_type": "code",
   "execution_count": null,
   "metadata": {
    "ExecuteTime": {
     "end_time": "2022-03-30T16:38:53.468647Z",
     "start_time": "2022-03-30T16:38:42.264Z"
    },
    "scrolled": true
   },
   "outputs": [],
   "source": [
    "name = ohe.get_feature_names_out()"
   ]
  },
  {
   "cell_type": "code",
   "execution_count": null,
   "metadata": {
    "ExecuteTime": {
     "end_time": "2022-03-30T16:38:53.472637Z",
     "start_time": "2022-03-30T16:38:42.273Z"
    }
   },
   "outputs": [],
   "source": [
    "cate_parsed = pd.DataFrame(cate_ohe.todense(), columns = name, index = features.index)\n",
    "cate_parsed"
   ]
  },
  {
   "cell_type": "markdown",
   "metadata": {},
   "source": [
    "### Scaling | Rework only to include train"
   ]
  },
  {
   "cell_type": "code",
   "execution_count": null,
   "metadata": {
    "ExecuteTime": {
     "end_time": "2022-03-30T16:38:53.481614Z",
     "start_time": "2022-03-30T16:38:42.280Z"
    }
   },
   "outputs": [],
   "source": [
    "# Creating dataframe with only numerical columns\n",
    "numbers = train_df.select_dtypes(np.number)"
   ]
  },
  {
   "cell_type": "code",
   "execution_count": null,
   "metadata": {
    "ExecuteTime": {
     "end_time": "2022-03-30T16:38:53.485603Z",
     "start_time": "2022-03-30T16:38:42.287Z"
    }
   },
   "outputs": [],
   "source": [
    "#Rework to include only the train_df\n",
    "ss = StandardScaler()\n",
    "\n",
    "columns_name1 = ['price', 'sqft_living']\n",
    "numbers_scaling = numbers.copy()\n",
    "\n",
    "features= numbers_scaling[columns_name1]\n",
    "\n",
    "scale1 = ss.fit(features)\n",
    "scale2 = scale1.transform(features)\n",
    "numbers_scaling[columns_name1] = scale2\n",
    "\n",
    "numbers_scaling"
   ]
  },
  {
   "cell_type": "code",
   "execution_count": null,
   "metadata": {
    "ExecuteTime": {
     "end_time": "2022-03-30T16:38:53.489593Z",
     "start_time": "2022-03-30T16:38:42.294Z"
    }
   },
   "outputs": [],
   "source": [
    "#combinig scale and ohe\n",
    "scaled_and_parse_df = pd.concat([numbers_scaling, cate_parsed], axis = 1)"
   ]
  },
  {
   "cell_type": "code",
   "execution_count": null,
   "metadata": {
    "ExecuteTime": {
     "end_time": "2022-03-30T16:38:53.492584Z",
     "start_time": "2022-03-30T16:38:42.300Z"
    }
   },
   "outputs": [],
   "source": [
    "scaled_and_parse_df.columns = [x.replace(\" \", \"_\").strip() for x in scaled_and_parse_df.columns]"
   ]
  },
  {
   "cell_type": "markdown",
   "metadata": {},
   "source": [
    "## Linear Regression | Rework so fit is only on train and not test"
   ]
  },
  {
   "cell_type": "markdown",
   "metadata": {},
   "source": [
    "#### simple linear"
   ]
  },
  {
   "cell_type": "code",
   "execution_count": null,
   "metadata": {
    "ExecuteTime": {
     "end_time": "2022-03-30T16:38:53.495575Z",
     "start_time": "2022-03-30T16:38:42.311Z"
    }
   },
   "outputs": [],
   "source": [
    "fig, ax = plt.subplots()\n",
    "\n",
    "x = scaled_and_parse_df['sqft_living']\n",
    "y = scaled_and_parse_df['price']\n",
    "\n",
    "\n",
    "ax.scatter(x, y);"
   ]
  },
  {
   "cell_type": "code",
   "execution_count": null,
   "metadata": {
    "ExecuteTime": {
     "end_time": "2022-03-30T16:38:53.499568Z",
     "start_time": "2022-03-30T16:38:42.317Z"
    }
   },
   "outputs": [],
   "source": [
    "np.corrcoef(df['sqft_living'],df['price'])"
   ]
  },
  {
   "cell_type": "markdown",
   "metadata": {},
   "source": [
    "Passing our first assumption: Based on our scatterplot, we can see that there is a strong correlation between `sqft_living` and price. Our pearson correlation coefficiant of `.70` suggests that these two variables are strongly correlated. Refer to the heatmap above re: multicollinearity."
   ]
  },
  {
   "cell_type": "code",
   "execution_count": null,
   "metadata": {
    "ExecuteTime": {
     "end_time": "2022-03-30T16:38:53.503556Z",
     "start_time": "2022-03-30T16:38:42.326Z"
    }
   },
   "outputs": [],
   "source": [
    "# Baseline model\n",
    "# Import necessary package\n",
    "from sklearn.dummy import DummyRegressor\n",
    "\n",
    "# Instantiate\n",
    "dummy_lr = DummyRegressor()\n",
    "\n",
    "# Create variables\n",
    "X = scaled_and_parse_df['sqft_living']\n",
    "y = scaled_and_parse_df['price']\n",
    "\n",
    "# Fit\n",
    "dummy_lr.fit(X,y)\n",
    "\n",
    "# Score\n",
    "dummy_lr.score(X,y)"
   ]
  },
  {
   "cell_type": "code",
   "execution_count": null,
   "metadata": {
    "ExecuteTime": {
     "end_time": "2022-03-30T16:38:53.510538Z",
     "start_time": "2022-03-30T16:38:42.332Z"
    }
   },
   "outputs": [],
   "source": [
    "#Define X and y variable using scaled & parse dataframe\n",
    "\n",
    "X_s_p = scaled_and_parse_df[['sqft_living']]\n",
    "y_s_p = scaled_and_parse_df[['price']]"
   ]
  },
  {
   "cell_type": "code",
   "execution_count": null,
   "metadata": {
    "ExecuteTime": {
     "end_time": "2022-03-30T16:38:53.514523Z",
     "start_time": "2022-03-30T16:38:42.340Z"
    }
   },
   "outputs": [],
   "source": [
    "# ^^^ Test DF must also be scaled and parsed"
   ]
  },
  {
   "cell_type": "code",
   "execution_count": null,
   "metadata": {
    "ExecuteTime": {
     "end_time": "2022-03-30T16:38:53.519512Z",
     "start_time": "2022-03-30T16:38:42.345Z"
    },
    "scrolled": false
   },
   "outputs": [],
   "source": [
    "sk_lr = LinearRegression()\n",
    "sk_lr.fit(X_s_p, y_s_p)\n",
    "preds = sk_lr.predict(y_s_p)\n",
    "\n",
    "preds"
   ]
  },
  {
   "cell_type": "code",
   "execution_count": null,
   "metadata": {
    "ExecuteTime": {
     "end_time": "2022-03-30T16:38:53.525964Z",
     "start_time": "2022-03-30T16:38:42.350Z"
    }
   },
   "outputs": [],
   "source": [
    "X = scaled_and_parse_df['sqft_living']\n",
    "y = scaled_and_parse_df[['price']]"
   ]
  },
  {
   "cell_type": "code",
   "execution_count": null,
   "metadata": {
    "ExecuteTime": {
     "end_time": "2022-03-30T16:38:53.531904Z",
     "start_time": "2022-03-30T16:38:42.357Z"
    }
   },
   "outputs": [],
   "source": [
    "resids = y - preds\n",
    "resids"
   ]
  },
  {
   "cell_type": "code",
   "execution_count": null,
   "metadata": {
    "ExecuteTime": {
     "end_time": "2022-03-30T16:38:53.536892Z",
     "start_time": "2022-03-30T16:38:42.363Z"
    }
   },
   "outputs": [],
   "source": [
    "#Create out bins\n",
    "\n",
    "bins = int( len(X)**.5)\n",
    "bins"
   ]
  },
  {
   "cell_type": "code",
   "execution_count": null,
   "metadata": {
    "ExecuteTime": {
     "end_time": "2022-03-30T16:38:53.539883Z",
     "start_time": "2022-03-30T16:38:42.369Z"
    },
    "scrolled": false
   },
   "outputs": [],
   "source": [
    "# Histogram of residuals\n",
    "\n",
    "plt.hist(resids, bins=bins);"
   ]
  },
  {
   "cell_type": "code",
   "execution_count": null,
   "metadata": {
    "ExecuteTime": {
     "end_time": "2022-03-30T16:38:53.544875Z",
     "start_time": "2022-03-30T16:38:42.376Z"
    }
   },
   "outputs": [],
   "source": [
    "print(resids.max())\n",
    "resids.min()"
   ]
  },
  {
   "cell_type": "code",
   "execution_count": null,
   "metadata": {
    "ExecuteTime": {
     "end_time": "2022-03-30T16:38:53.549876Z",
     "start_time": "2022-03-30T16:38:42.382Z"
    }
   },
   "outputs": [],
   "source": [
    "sns.displot(resids, bins=bins, kde=True)"
   ]
  },
  {
   "cell_type": "code",
   "execution_count": null,
   "metadata": {
    "ExecuteTime": {
     "end_time": "2022-03-30T16:38:53.554868Z",
     "start_time": "2022-03-30T16:38:42.389Z"
    }
   },
   "outputs": [],
   "source": [
    "sm.qqplot(resids, line='r');"
   ]
  },
  {
   "cell_type": "code",
   "execution_count": null,
   "metadata": {
    "ExecuteTime": {
     "end_time": "2022-03-30T16:38:53.559815Z",
     "start_time": "2022-03-30T16:38:42.395Z"
    }
   },
   "outputs": [],
   "source": [
    "# resid plot sns.resid\n",
    "\n",
    "sns.residplot(x=X, y=y);"
   ]
  },
  {
   "cell_type": "code",
   "execution_count": null,
   "metadata": {
    "ExecuteTime": {
     "end_time": "2022-03-30T16:38:53.571783Z",
     "start_time": "2022-03-30T16:38:42.401Z"
    }
   },
   "outputs": [],
   "source": [
    "plt.scatter(preds, resids);"
   ]
  },
  {
   "cell_type": "code",
   "execution_count": null,
   "metadata": {
    "ExecuteTime": {
     "end_time": "2022-03-30T16:38:53.577765Z",
     "start_time": "2022-03-30T16:38:42.410Z"
    }
   },
   "outputs": [],
   "source": [
    "#Fit the dummy_regressor\n",
    "\n",
    "dummy_lr.fit(X_s_p,y_s_p)"
   ]
  },
  {
   "cell_type": "code",
   "execution_count": null,
   "metadata": {
    "ExecuteTime": {
     "end_time": "2022-03-30T16:38:53.580759Z",
     "start_time": "2022-03-30T16:38:42.417Z"
    }
   },
   "outputs": [],
   "source": [
    "# Score it\n",
    "\n",
    "dummy_lr.score(X_s_p,y_s_p)"
   ]
  },
  {
   "cell_type": "code",
   "execution_count": null,
   "metadata": {
    "ExecuteTime": {
     "end_time": "2022-03-30T16:38:53.584748Z",
     "start_time": "2022-03-30T16:38:42.426Z"
    }
   },
   "outputs": [],
   "source": [
    "# Creating a straightforward, initial model --\n",
    "# just for kicks\n",
    "simple_formula = 'price ~ sqft_living'\n",
    "simple_model = ols(formula = simple_formula,\n",
    "                   data = scaled_and_parse_df).fit()\n",
    "simple_mod_summ = simple_model.summary()\n",
    "\n",
    "simple_mod_summ"
   ]
  },
  {
   "cell_type": "code",
   "execution_count": null,
   "metadata": {
    "ExecuteTime": {
     "end_time": "2022-03-30T16:38:53.589744Z",
     "start_time": "2022-03-30T16:38:42.431Z"
    }
   },
   "outputs": [],
   "source": [
    "#test on our test data set"
   ]
  },
  {
   "cell_type": "markdown",
   "metadata": {},
   "source": [
    "Summary comparison between the two"
   ]
  },
  {
   "cell_type": "markdown",
   "metadata": {},
   "source": [
    "#### Multiple regression | Rework to train data"
   ]
  },
  {
   "cell_type": "markdown",
   "metadata": {},
   "source": [
    "Slowly adding in other variables"
   ]
  },
  {
   "cell_type": "code",
   "execution_count": null,
   "metadata": {
    "ExecuteTime": {
     "end_time": "2022-03-30T16:38:53.594724Z",
     "start_time": "2022-03-30T16:38:42.441Z"
    }
   },
   "outputs": [],
   "source": [
    "fig, ax = plt.subplots(ncols=2,figsize=(15,5))\n",
    "\n",
    "x1 = scaled_and_parse_df[['sqft_living']]\n",
    "y1 = scaled_and_parse_df[['price']]\n",
    "\n",
    "# x2 = scaled_and_parse_df[['bedrooms']]\n",
    "\n",
    "ax[0].scatter(x1, y1)\n",
    "# ax[1].scatter(x2,y1);"
   ]
  },
  {
   "cell_type": "markdown",
   "metadata": {},
   "source": [
    "#Upon looking at our scaled dataframe, we noticed that there is a house sold with 33 bedrooms for $600k\n",
    "#After considering the price sold, sqft and number of bathrooms - the # of bedrooms appears \n",
    "#to be an error of somesort\n",
    "#Since we explored bedrooms having a relatively small correlation to price, we are not too worried about this one\n",
    "#outlier being included in our scatterplot"
   ]
  },
  {
   "cell_type": "code",
   "execution_count": null,
   "metadata": {
    "ExecuteTime": {
     "end_time": "2022-03-30T16:38:53.597714Z",
     "start_time": "2022-03-30T16:38:42.450Z"
    }
   },
   "outputs": [],
   "source": [
    "simple_formula3 = 'price ~ sqft_living'\n",
    "simple_model3 = ols(formula = simple_formula3,\n",
    "                   data = scaled_and_parse_df).fit()\n",
    "simple_mod_summ3 = simple_model3.summary()\n",
    "\n",
    "simple_mod_summ3"
   ]
  },
  {
   "cell_type": "code",
   "execution_count": null,
   "metadata": {
    "ExecuteTime": {
     "end_time": "2022-03-30T16:38:53.600706Z",
     "start_time": "2022-03-30T16:38:42.459Z"
    }
   },
   "outputs": [],
   "source": [
    "scaled_and_parse_df.head()"
   ]
  },
  {
   "cell_type": "code",
   "execution_count": null,
   "metadata": {
    "ExecuteTime": {
     "end_time": "2022-03-30T16:38:53.603699Z",
     "start_time": "2022-03-30T16:38:42.467Z"
    },
    "scrolled": false
   },
   "outputs": [],
   "source": [
    "simple_formula4 = 'price ~ sqft_living + view_FAIR + view_GOOD +view_NONE + grade_11_Excellent + grade_12_Luxury + grade_13_Mansion + grade_4_Low + grade_5_Fair + grade_6_Low_Average + grade_7_Average + grade_8_Good+ grade_9_Better'          \n",
    "\n",
    "simple_model4 = ols(formula = simple_formula4,\n",
    "                   data = scaled_and_parse_df).fit()\n",
    "\n",
    "simple_mod_summ4 = simple_model4.summary()\n",
    "\n",
    "simple_mod_summ4"
   ]
  },
  {
   "cell_type": "markdown",
   "metadata": {},
   "source": [
    "The above model has an adjusted R-squared value of 0.623 suggesting that this model accounts for roughly ~10-15% more variance."
   ]
  },
  {
   "cell_type": "code",
   "execution_count": null,
   "metadata": {
    "ExecuteTime": {
     "end_time": "2022-03-30T16:38:53.606689Z",
     "start_time": "2022-03-30T16:38:42.476Z"
    }
   },
   "outputs": [],
   "source": [
    "simple_formula4 = 'price ~ view_FAIR + view_GOOD +view_NONE + grade_11_Excellent + grade_12_Luxury + grade_13_Mansion + grade_4_Low + grade_5_Fair + grade_6_Low_Average + grade_7_Average + grade_8_Good+ grade_9_Better'          \n",
    "\n",
    "simple_model4 = ols(formula = simple_formula4,\n",
    "                   data = scaled_and_parse_df).fit()\n",
    "\n",
    "simple_mod_summ4 = simple_model4.summary()\n",
    "\n",
    "simple_mod_summ4"
   ]
  },
  {
   "cell_type": "code",
   "execution_count": null,
   "metadata": {
    "ExecuteTime": {
     "end_time": "2022-03-30T16:38:53.610685Z",
     "start_time": "2022-03-30T16:38:42.484Z"
    }
   },
   "outputs": [],
   "source": [
    "simple_formula4 = 'price ~ sqft_living + grade_11_Excellent + grade_12_Luxury + grade_13_Mansion + grade_4_Low + grade_5_Fair + grade_6_Low_Average + grade_7_Average + grade_8_Good+ grade_9_Better'          \n",
    "\n",
    "simple_model4 = ols(formula = simple_formula4,\n",
    "                   data = scaled_and_parse_df).fit()\n",
    "\n",
    "simple_mod_summ4 = simple_model4.summary()\n",
    "\n",
    "simple_mod_summ4"
   ]
  },
  {
   "cell_type": "code",
   "execution_count": null,
   "metadata": {
    "ExecuteTime": {
     "end_time": "2022-03-30T16:38:53.615668Z",
     "start_time": "2022-03-30T16:38:42.491Z"
    }
   },
   "outputs": [],
   "source": [
    "simple_formula4 = 'price ~ sqft_living + view_FAIR + view_GOOD + view_NONE'\n",
    "\n",
    "simple_model4 = ols(formula=simple_formula4,\n",
    "                    data=scaled_and_parse_df).fit()\n",
    "\n",
    "simple_mod_summ4 = simple_model4.summary()\n",
    "\n",
    "simple_mod_summ4"
   ]
  },
  {
   "cell_type": "markdown",
   "metadata": {},
   "source": [
    "It appears that our model is the strongest when we are comparing `sqft_living` + `view` + `grade` with an adjusted R-squared of 0.623.\n"
   ]
  },
  {
   "cell_type": "code",
   "execution_count": null,
   "metadata": {},
   "outputs": [],
   "source": []
  },
  {
   "cell_type": "markdown",
   "metadata": {},
   "source": [
    "## Next Steps:"
   ]
  },
  {
   "cell_type": "markdown",
   "metadata": {},
   "source": [
    "- `bathrooms` and `bedrooms` - they are collinear with variables like `sqft_living`, which prevented us from including them in our model, but they might be useful avenues for further exploration.\n",
    "- `waterfront` - our EDA demonstrated a significant difference in `price` between homes with waterfront views vs. homes without; it may be worth further exploring what development opportunities exist in waterfront areas.\n",
    "- `zipcode` - taking a look at what neighborhoods/geographic areas yield high sale prices.\n",
    "    - Look at interaction items: if homes with `EXCELLENT` views are concentrated in certain areas, perhaps."
   ]
  },
  {
   "cell_type": "markdown",
   "metadata": {},
   "source": [
    "# Unused Code"
   ]
  },
  {
   "cell_type": "code",
   "execution_count": 37,
   "metadata": {
    "ExecuteTime": {
     "end_time": "2022-03-30T16:43:45.335477Z",
     "start_time": "2022-03-30T16:43:45.329452Z"
    }
   },
   "outputs": [],
   "source": [
    "# Log transform `sqft_living` column\n",
    "# df_copy['sqft_living'] = np.log(df_copy['sqft_living'])"
   ]
  },
  {
   "cell_type": "code",
   "execution_count": 53,
   "metadata": {
    "ExecuteTime": {
     "end_time": "2022-03-30T17:00:57.052274Z",
     "start_time": "2022-03-30T17:00:57.036317Z"
    }
   },
   "outputs": [],
   "source": [
    "# Scale `bathrooms` column on 0 to 1 min-max\n",
    "# mms = MinMaxScaler()\n",
    "# df_copy[['bathrooms']] = mms.fit_transform(df_copy[['bathrooms']])"
   ]
  },
  {
   "cell_type": "code",
   "execution_count": null,
   "metadata": {},
   "outputs": [],
   "source": []
  }
 ],
 "metadata": {
  "kernelspec": {
   "display_name": "Python (learn-env)",
   "language": "python",
   "name": "learn-env"
  },
  "language_info": {
   "codemirror_mode": {
    "name": "ipython",
    "version": 3
   },
   "file_extension": ".py",
   "mimetype": "text/x-python",
   "name": "python",
   "nbconvert_exporter": "python",
   "pygments_lexer": "ipython3",
   "version": "3.8.5"
  },
  "toc": {
   "base_numbering": 1,
   "nav_menu": {},
   "number_sections": true,
   "sideBar": true,
   "skip_h1_title": false,
   "title_cell": "Table of Contents",
   "title_sidebar": "Contents",
   "toc_cell": false,
   "toc_position": {
    "height": "calc(100% - 180px)",
    "left": "10px",
    "top": "150px",
    "width": "266px"
   },
   "toc_section_display": true,
   "toc_window_display": false
  },
  "varInspector": {
   "cols": {
    "lenName": 16,
    "lenType": 16,
    "lenVar": 40
   },
   "kernels_config": {
    "python": {
     "delete_cmd_postfix": "",
     "delete_cmd_prefix": "del ",
     "library": "var_list.py",
     "varRefreshCmd": "print(var_dic_list())"
    },
    "r": {
     "delete_cmd_postfix": ") ",
     "delete_cmd_prefix": "rm(",
     "library": "var_list.r",
     "varRefreshCmd": "cat(var_dic_list()) "
    }
   },
   "position": {
    "height": "293.844px",
    "left": "910px",
    "right": "20px",
    "top": "120px",
    "width": "350px"
   },
   "types_to_exclude": [
    "module",
    "function",
    "builtin_function_or_method",
    "instance",
    "_Feature"
   ],
   "window_display": false
  }
 },
 "nbformat": 4,
 "nbformat_minor": 4
}
