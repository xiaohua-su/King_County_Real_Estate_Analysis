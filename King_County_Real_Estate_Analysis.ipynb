{
 "cells": [
  {
   "cell_type": "markdown",
   "metadata": {},
   "source": [
    "# Analysis of Real Estate Prices and Features in King County, Seattle "
   ]
  },
  {
   "cell_type": "markdown",
   "metadata": {},
   "source": [
    "![img](./images/kc_header.png)\n",
    "\n",
    "(image courtesy of [beautifulwashington.com](https://beautifulwashington.com/king-county.html))"
   ]
  },
  {
   "cell_type": "markdown",
   "metadata": {},
   "source": [
    "**Authors / Contributors:**\n",
    "\n",
    "- Luke Dowker\n",
    "- Jawwad Siddiqui\n",
    "- Xiaohua Su"
   ]
  },
  {
   "cell_type": "markdown",
   "metadata": {},
   "source": [
    "# Overview"
   ]
  },
  {
   "cell_type": "markdown",
   "metadata": {},
   "source": [
    "**Recommendations:**\n",
    "\n",
    "1. `sqft_living` correlates with price - but there's no need to go **huge**!\n",
    "2. Build homes that feature a scenic `view`\n",
    "3. Ensure the material `grade` of the home is high-quality"
   ]
  },
  {
   "cell_type": "markdown",
   "metadata": {},
   "source": [
    "# Business Problem"
   ]
  },
  {
   "cell_type": "markdown",
   "metadata": {},
   "source": [
    "A real estate agency that specializes in **new builds** wants to know what **attributes** of a home will produce positive effects on the property's **sale price** - they are looking to minimize risk and maximize ROI. What aspects of the property should they **focus on** when constructing new homes?"
   ]
  },
  {
   "cell_type": "markdown",
   "metadata": {},
   "source": [
    "# Data Investigation and Cleaning"
   ]
  },
  {
   "cell_type": "markdown",
   "metadata": {},
   "source": [
    "We kick things off by importing all necessary libraries and packages."
   ]
  },
  {
   "cell_type": "code",
   "execution_count": 1,
   "metadata": {
    "ExecuteTime": {
     "end_time": "2022-03-31T22:03:04.596788Z",
     "start_time": "2022-03-31T22:03:02.511621Z"
    }
   },
   "outputs": [],
   "source": [
    "import pandas as pd\n",
    "import numpy as np\n",
    "import matplotlib.pyplot as plt\n",
    "from matplotlib import ticker\n",
    "import seaborn as sns\n",
    "from scipy import stats\n",
    "\n",
    "from sklearn.preprocessing import OneHotEncoder, StandardScaler\n",
    "from sklearn.datasets import make_regression\n",
    "from sklearn.linear_model import LinearRegression\n",
    "from sklearn.dummy import DummyRegressor\n",
    "import sklearn.metrics as metrics\n",
    "from sklearn.metrics import r2_score\n",
    "from sklearn.compose import ColumnTransformer\n",
    "from sklearn.metrics import mean_squared_error\n",
    "\n",
    "# from random import gauss\n",
    "# from mpl_toolkits.mplot3d import Axes3D\n",
    "\n",
    "from statsmodels.formula.api import ols\n",
    "import statsmodels.api as sm\n",
    "\n",
    "from statsmodels.stats.multicomp import pairwise_tukeyhsd\n",
    "from sklearn.model_selection import train_test_split\n",
    "\n",
    "%matplotlib inline"
   ]
  },
  {
   "cell_type": "markdown",
   "metadata": {},
   "source": [
    "...and some formatting options."
   ]
  },
  {
   "cell_type": "code",
   "execution_count": 2,
   "metadata": {
    "ExecuteTime": {
     "end_time": "2022-03-31T22:03:04.612158Z",
     "start_time": "2022-03-31T22:03:04.598620Z"
    }
   },
   "outputs": [],
   "source": [
    "# Shows *all* columns in dataframe, i.e. does not truncate horizontally\n",
    "pd.set_option('display.max_columns', None)\n",
    "\n",
    "# Converts from scientific notation to standard form (applied to every df in\n",
    "# this notebook) and rounds to two decimal places\n",
    "pd.set_option('display.float_format', lambda x: '%.2f' % x)"
   ]
  },
  {
   "cell_type": "markdown",
   "metadata": {},
   "source": [
    "Below, we read in the data and check out some of its basic features: column names, null values, data types, etc."
   ]
  },
  {
   "cell_type": "code",
   "execution_count": 3,
   "metadata": {
    "ExecuteTime": {
     "end_time": "2022-03-31T22:03:04.751910Z",
     "start_time": "2022-03-31T22:03:04.623510Z"
    },
    "scrolled": true
   },
   "outputs": [],
   "source": [
    "# Reading in .csv file, creating initial pandas dataframe\n",
    "df = pd.read_csv('data/kc_house_data.csv')"
   ]
  },
  {
   "cell_type": "code",
   "execution_count": 4,
   "metadata": {
    "ExecuteTime": {
     "end_time": "2022-03-31T22:03:04.767293Z",
     "start_time": "2022-03-31T22:03:04.754904Z"
    }
   },
   "outputs": [
    {
     "data": {
      "text/plain": [
       "Index(['id', 'date', 'price', 'bedrooms', 'bathrooms', 'sqft_living',\n",
       "       'sqft_lot', 'floors', 'waterfront', 'view', 'condition', 'grade',\n",
       "       'sqft_above', 'sqft_basement', 'yr_built', 'yr_renovated', 'zipcode',\n",
       "       'lat', 'long', 'sqft_living15', 'sqft_lot15'],\n",
       "      dtype='object')"
      ]
     },
     "execution_count": 4,
     "metadata": {},
     "output_type": "execute_result"
    }
   ],
   "source": [
    "# Listing out column names\n",
    "df.columns"
   ]
  },
  {
   "cell_type": "code",
   "execution_count": 5,
   "metadata": {
    "ExecuteTime": {
     "end_time": "2022-03-31T22:03:04.798909Z",
     "start_time": "2022-03-31T22:03:04.769288Z"
    }
   },
   "outputs": [
    {
     "name": "stdout",
     "output_type": "stream",
     "text": [
      "<class 'pandas.core.frame.DataFrame'>\n",
      "RangeIndex: 21597 entries, 0 to 21596\n",
      "Data columns (total 21 columns):\n",
      " #   Column         Non-Null Count  Dtype  \n",
      "---  ------         --------------  -----  \n",
      " 0   id             21597 non-null  int64  \n",
      " 1   date           21597 non-null  object \n",
      " 2   price          21597 non-null  float64\n",
      " 3   bedrooms       21597 non-null  int64  \n",
      " 4   bathrooms      21597 non-null  float64\n",
      " 5   sqft_living    21597 non-null  int64  \n",
      " 6   sqft_lot       21597 non-null  int64  \n",
      " 7   floors         21597 non-null  float64\n",
      " 8   waterfront     19221 non-null  object \n",
      " 9   view           21534 non-null  object \n",
      " 10  condition      21597 non-null  object \n",
      " 11  grade          21597 non-null  object \n",
      " 12  sqft_above     21597 non-null  int64  \n",
      " 13  sqft_basement  21597 non-null  object \n",
      " 14  yr_built       21597 non-null  int64  \n",
      " 15  yr_renovated   17755 non-null  float64\n",
      " 16  zipcode        21597 non-null  int64  \n",
      " 17  lat            21597 non-null  float64\n",
      " 18  long           21597 non-null  float64\n",
      " 19  sqft_living15  21597 non-null  int64  \n",
      " 20  sqft_lot15     21597 non-null  int64  \n",
      "dtypes: float64(6), int64(9), object(6)\n",
      "memory usage: 3.5+ MB\n"
     ]
    }
   ],
   "source": [
    "# Checking datatypes and null value counts\n",
    "df.info()"
   ]
  },
  {
   "cell_type": "markdown",
   "metadata": {},
   "source": [
    "**Two components** of this `info` printout that we can immediately identify as problems we may need to address:\n",
    "\n",
    "1. Columns currently coded as datatype `object`...\n",
    "\n",
    "    - `date`\n",
    "    - `waterfront`\n",
    "    - `view`\n",
    "    - `condition`\n",
    "    - `grade`\n",
    "    - `sqft_basement`\n",
    "\n",
    "\n",
    "2. Columns currently containing null values...\n",
    "\n",
    "    - `waterfront`\n",
    "    - `view`\n",
    "    - `yr_renovated`"
   ]
  },
  {
   "cell_type": "markdown",
   "metadata": {},
   "source": [
    "## Initial analysis of descriptive statistics"
   ]
  },
  {
   "cell_type": "code",
   "execution_count": 6,
   "metadata": {
    "ExecuteTime": {
     "end_time": "2022-03-31T22:03:04.891898Z",
     "start_time": "2022-03-31T22:03:04.800881Z"
    },
    "scrolled": false
   },
   "outputs": [
    {
     "data": {
      "text/html": [
       "<div>\n",
       "<style scoped>\n",
       "    .dataframe tbody tr th:only-of-type {\n",
       "        vertical-align: middle;\n",
       "    }\n",
       "\n",
       "    .dataframe tbody tr th {\n",
       "        vertical-align: top;\n",
       "    }\n",
       "\n",
       "    .dataframe thead th {\n",
       "        text-align: right;\n",
       "    }\n",
       "</style>\n",
       "<table border=\"1\" class=\"dataframe\">\n",
       "  <thead>\n",
       "    <tr style=\"text-align: right;\">\n",
       "      <th></th>\n",
       "      <th>id</th>\n",
       "      <th>price</th>\n",
       "      <th>bedrooms</th>\n",
       "      <th>bathrooms</th>\n",
       "      <th>sqft_living</th>\n",
       "      <th>sqft_lot</th>\n",
       "      <th>floors</th>\n",
       "      <th>sqft_above</th>\n",
       "      <th>yr_built</th>\n",
       "      <th>yr_renovated</th>\n",
       "      <th>zipcode</th>\n",
       "      <th>lat</th>\n",
       "      <th>long</th>\n",
       "      <th>sqft_living15</th>\n",
       "      <th>sqft_lot15</th>\n",
       "    </tr>\n",
       "  </thead>\n",
       "  <tbody>\n",
       "    <tr>\n",
       "      <th>count</th>\n",
       "      <td>21597.00</td>\n",
       "      <td>21597.00</td>\n",
       "      <td>21597.00</td>\n",
       "      <td>21597.00</td>\n",
       "      <td>21597.00</td>\n",
       "      <td>21597.00</td>\n",
       "      <td>21597.00</td>\n",
       "      <td>21597.00</td>\n",
       "      <td>21597.00</td>\n",
       "      <td>17755.00</td>\n",
       "      <td>21597.00</td>\n",
       "      <td>21597.00</td>\n",
       "      <td>21597.00</td>\n",
       "      <td>21597.00</td>\n",
       "      <td>21597.00</td>\n",
       "    </tr>\n",
       "    <tr>\n",
       "      <th>mean</th>\n",
       "      <td>4580474287.77</td>\n",
       "      <td>540296.57</td>\n",
       "      <td>3.37</td>\n",
       "      <td>2.12</td>\n",
       "      <td>2080.32</td>\n",
       "      <td>15099.41</td>\n",
       "      <td>1.49</td>\n",
       "      <td>1788.60</td>\n",
       "      <td>1971.00</td>\n",
       "      <td>83.64</td>\n",
       "      <td>98077.95</td>\n",
       "      <td>47.56</td>\n",
       "      <td>-122.21</td>\n",
       "      <td>1986.62</td>\n",
       "      <td>12758.28</td>\n",
       "    </tr>\n",
       "    <tr>\n",
       "      <th>std</th>\n",
       "      <td>2876735715.75</td>\n",
       "      <td>367368.14</td>\n",
       "      <td>0.93</td>\n",
       "      <td>0.77</td>\n",
       "      <td>918.11</td>\n",
       "      <td>41412.64</td>\n",
       "      <td>0.54</td>\n",
       "      <td>827.76</td>\n",
       "      <td>29.38</td>\n",
       "      <td>399.95</td>\n",
       "      <td>53.51</td>\n",
       "      <td>0.14</td>\n",
       "      <td>0.14</td>\n",
       "      <td>685.23</td>\n",
       "      <td>27274.44</td>\n",
       "    </tr>\n",
       "    <tr>\n",
       "      <th>min</th>\n",
       "      <td>1000102.00</td>\n",
       "      <td>78000.00</td>\n",
       "      <td>1.00</td>\n",
       "      <td>0.50</td>\n",
       "      <td>370.00</td>\n",
       "      <td>520.00</td>\n",
       "      <td>1.00</td>\n",
       "      <td>370.00</td>\n",
       "      <td>1900.00</td>\n",
       "      <td>0.00</td>\n",
       "      <td>98001.00</td>\n",
       "      <td>47.16</td>\n",
       "      <td>-122.52</td>\n",
       "      <td>399.00</td>\n",
       "      <td>651.00</td>\n",
       "    </tr>\n",
       "    <tr>\n",
       "      <th>25%</th>\n",
       "      <td>2123049175.00</td>\n",
       "      <td>322000.00</td>\n",
       "      <td>3.00</td>\n",
       "      <td>1.75</td>\n",
       "      <td>1430.00</td>\n",
       "      <td>5040.00</td>\n",
       "      <td>1.00</td>\n",
       "      <td>1190.00</td>\n",
       "      <td>1951.00</td>\n",
       "      <td>0.00</td>\n",
       "      <td>98033.00</td>\n",
       "      <td>47.47</td>\n",
       "      <td>-122.33</td>\n",
       "      <td>1490.00</td>\n",
       "      <td>5100.00</td>\n",
       "    </tr>\n",
       "    <tr>\n",
       "      <th>50%</th>\n",
       "      <td>3904930410.00</td>\n",
       "      <td>450000.00</td>\n",
       "      <td>3.00</td>\n",
       "      <td>2.25</td>\n",
       "      <td>1910.00</td>\n",
       "      <td>7618.00</td>\n",
       "      <td>1.50</td>\n",
       "      <td>1560.00</td>\n",
       "      <td>1975.00</td>\n",
       "      <td>0.00</td>\n",
       "      <td>98065.00</td>\n",
       "      <td>47.57</td>\n",
       "      <td>-122.23</td>\n",
       "      <td>1840.00</td>\n",
       "      <td>7620.00</td>\n",
       "    </tr>\n",
       "    <tr>\n",
       "      <th>75%</th>\n",
       "      <td>7308900490.00</td>\n",
       "      <td>645000.00</td>\n",
       "      <td>4.00</td>\n",
       "      <td>2.50</td>\n",
       "      <td>2550.00</td>\n",
       "      <td>10685.00</td>\n",
       "      <td>2.00</td>\n",
       "      <td>2210.00</td>\n",
       "      <td>1997.00</td>\n",
       "      <td>0.00</td>\n",
       "      <td>98118.00</td>\n",
       "      <td>47.68</td>\n",
       "      <td>-122.12</td>\n",
       "      <td>2360.00</td>\n",
       "      <td>10083.00</td>\n",
       "    </tr>\n",
       "    <tr>\n",
       "      <th>max</th>\n",
       "      <td>9900000190.00</td>\n",
       "      <td>7700000.00</td>\n",
       "      <td>33.00</td>\n",
       "      <td>8.00</td>\n",
       "      <td>13540.00</td>\n",
       "      <td>1651359.00</td>\n",
       "      <td>3.50</td>\n",
       "      <td>9410.00</td>\n",
       "      <td>2015.00</td>\n",
       "      <td>2015.00</td>\n",
       "      <td>98199.00</td>\n",
       "      <td>47.78</td>\n",
       "      <td>-121.31</td>\n",
       "      <td>6210.00</td>\n",
       "      <td>871200.00</td>\n",
       "    </tr>\n",
       "  </tbody>\n",
       "</table>\n",
       "</div>"
      ],
      "text/plain": [
       "                 id      price  bedrooms  bathrooms  sqft_living   sqft_lot  \\\n",
       "count      21597.00   21597.00  21597.00   21597.00     21597.00   21597.00   \n",
       "mean  4580474287.77  540296.57      3.37       2.12      2080.32   15099.41   \n",
       "std   2876735715.75  367368.14      0.93       0.77       918.11   41412.64   \n",
       "min      1000102.00   78000.00      1.00       0.50       370.00     520.00   \n",
       "25%   2123049175.00  322000.00      3.00       1.75      1430.00    5040.00   \n",
       "50%   3904930410.00  450000.00      3.00       2.25      1910.00    7618.00   \n",
       "75%   7308900490.00  645000.00      4.00       2.50      2550.00   10685.00   \n",
       "max   9900000190.00 7700000.00     33.00       8.00     13540.00 1651359.00   \n",
       "\n",
       "        floors  sqft_above  yr_built  yr_renovated  zipcode      lat     long  \\\n",
       "count 21597.00    21597.00  21597.00      17755.00 21597.00 21597.00 21597.00   \n",
       "mean      1.49     1788.60   1971.00         83.64 98077.95    47.56  -122.21   \n",
       "std       0.54      827.76     29.38        399.95    53.51     0.14     0.14   \n",
       "min       1.00      370.00   1900.00          0.00 98001.00    47.16  -122.52   \n",
       "25%       1.00     1190.00   1951.00          0.00 98033.00    47.47  -122.33   \n",
       "50%       1.50     1560.00   1975.00          0.00 98065.00    47.57  -122.23   \n",
       "75%       2.00     2210.00   1997.00          0.00 98118.00    47.68  -122.12   \n",
       "max       3.50     9410.00   2015.00       2015.00 98199.00    47.78  -121.31   \n",
       "\n",
       "       sqft_living15  sqft_lot15  \n",
       "count       21597.00    21597.00  \n",
       "mean         1986.62    12758.28  \n",
       "std           685.23    27274.44  \n",
       "min           399.00      651.00  \n",
       "25%          1490.00     5100.00  \n",
       "50%          1840.00     7620.00  \n",
       "75%          2360.00    10083.00  \n",
       "max          6210.00   871200.00  "
      ]
     },
     "execution_count": 6,
     "metadata": {},
     "output_type": "execute_result"
    }
   ],
   "source": [
    "# Descriptive statistics for numerical columns\n",
    "df.describe()"
   ]
  },
  {
   "cell_type": "markdown",
   "metadata": {},
   "source": [
    "Looking at the row of `max` values, we can see right away that we have some outliers, values that look as if they depart substantially from the `75%` row; to be more specific, there are some **large, expensive** properties in this dataset.\n",
    "\n",
    "There's also one property listed with **33 bedrooms** - what's up with that?"
   ]
  },
  {
   "cell_type": "code",
   "execution_count": 7,
   "metadata": {
    "ExecuteTime": {
     "end_time": "2022-03-31T22:03:04.938023Z",
     "start_time": "2022-03-31T22:03:04.903762Z"
    },
    "scrolled": false
   },
   "outputs": [
    {
     "data": {
      "text/html": [
       "<div>\n",
       "<style scoped>\n",
       "    .dataframe tbody tr th:only-of-type {\n",
       "        vertical-align: middle;\n",
       "    }\n",
       "\n",
       "    .dataframe tbody tr th {\n",
       "        vertical-align: top;\n",
       "    }\n",
       "\n",
       "    .dataframe thead th {\n",
       "        text-align: right;\n",
       "    }\n",
       "</style>\n",
       "<table border=\"1\" class=\"dataframe\">\n",
       "  <thead>\n",
       "    <tr style=\"text-align: right;\">\n",
       "      <th></th>\n",
       "      <th>id</th>\n",
       "      <th>date</th>\n",
       "      <th>price</th>\n",
       "      <th>bedrooms</th>\n",
       "      <th>bathrooms</th>\n",
       "      <th>sqft_living</th>\n",
       "      <th>sqft_lot</th>\n",
       "      <th>floors</th>\n",
       "      <th>waterfront</th>\n",
       "      <th>view</th>\n",
       "      <th>condition</th>\n",
       "      <th>grade</th>\n",
       "      <th>sqft_above</th>\n",
       "      <th>sqft_basement</th>\n",
       "      <th>yr_built</th>\n",
       "      <th>yr_renovated</th>\n",
       "      <th>zipcode</th>\n",
       "      <th>lat</th>\n",
       "      <th>long</th>\n",
       "      <th>sqft_living15</th>\n",
       "      <th>sqft_lot15</th>\n",
       "    </tr>\n",
       "  </thead>\n",
       "  <tbody>\n",
       "    <tr>\n",
       "      <th>15856</th>\n",
       "      <td>2402100895</td>\n",
       "      <td>6/25/2014</td>\n",
       "      <td>640000.00</td>\n",
       "      <td>33</td>\n",
       "      <td>1.75</td>\n",
       "      <td>1620</td>\n",
       "      <td>6000</td>\n",
       "      <td>1.00</td>\n",
       "      <td>NO</td>\n",
       "      <td>NONE</td>\n",
       "      <td>Very Good</td>\n",
       "      <td>7 Average</td>\n",
       "      <td>1040</td>\n",
       "      <td>580.0</td>\n",
       "      <td>1947</td>\n",
       "      <td>0.00</td>\n",
       "      <td>98103</td>\n",
       "      <td>47.69</td>\n",
       "      <td>-122.33</td>\n",
       "      <td>1330</td>\n",
       "      <td>4700</td>\n",
       "    </tr>\n",
       "  </tbody>\n",
       "</table>\n",
       "</div>"
      ],
      "text/plain": [
       "               id       date     price  bedrooms  bathrooms  sqft_living  \\\n",
       "15856  2402100895  6/25/2014 640000.00        33       1.75         1620   \n",
       "\n",
       "       sqft_lot  floors waterfront  view  condition      grade  sqft_above  \\\n",
       "15856      6000    1.00         NO  NONE  Very Good  7 Average        1040   \n",
       "\n",
       "      sqft_basement  yr_built  yr_renovated  zipcode   lat    long  \\\n",
       "15856         580.0      1947          0.00    98103 47.69 -122.33   \n",
       "\n",
       "       sqft_living15  sqft_lot15  \n",
       "15856           1330        4700  "
      ]
     },
     "execution_count": 7,
     "metadata": {},
     "output_type": "execute_result"
    }
   ],
   "source": [
    "df.loc[(df['bedrooms']) == 33]"
   ]
  },
  {
   "cell_type": "markdown",
   "metadata": {},
   "source": [
    "## Basic data cleaning"
   ]
  },
  {
   "cell_type": "markdown",
   "metadata": {},
   "source": [
    "First, we convert the column `date` to a more usable format; the code below transforms the column to type `datetime64[ns]`."
   ]
  },
  {
   "cell_type": "code",
   "execution_count": 8,
   "metadata": {
    "ExecuteTime": {
     "end_time": "2022-03-31T22:03:05.031382Z",
     "start_time": "2022-03-31T22:03:04.944008Z"
    }
   },
   "outputs": [],
   "source": [
    "# Converting column `date` to datetime64[ns] from type string/object\n",
    "df['date'] = df['date'].astype('datetime64[ns]')"
   ]
  },
  {
   "cell_type": "markdown",
   "metadata": {},
   "source": [
    "Likewise, the column `grade` is in object format; it provides both a number and a corresponding descriptor, e.g. `5 Fair`. The following code transforms it to a more usable format, one with no whitespace."
   ]
  },
  {
   "cell_type": "code",
   "execution_count": 9,
   "metadata": {
    "ExecuteTime": {
     "end_time": "2022-03-31T22:03:05.062156Z",
     "start_time": "2022-03-31T22:03:05.035373Z"
    }
   },
   "outputs": [],
   "source": [
    "# Clean up the values in column `grade` so they are not\n",
    "# separated by whitespace\n",
    "df['grade'] = [x.replace(\" \", \"_\").strip() for x in df['grade']]"
   ]
  },
  {
   "cell_type": "code",
   "execution_count": 10,
   "metadata": {
    "ExecuteTime": {
     "end_time": "2022-03-31T22:03:05.093700Z",
     "start_time": "2022-03-31T22:03:05.068142Z"
    }
   },
   "outputs": [
    {
     "data": {
      "text/plain": [
       "7_Average        8974\n",
       "8_Good           6065\n",
       "9_Better         2615\n",
       "6_Low_Average    2038\n",
       "10_Very_Good     1134\n",
       "11_Excellent      399\n",
       "5_Fair            242\n",
       "12_Luxury          89\n",
       "4_Low              27\n",
       "13_Mansion         13\n",
       "3_Poor              1\n",
       "Name: grade, dtype: int64"
      ]
     },
     "execution_count": 10,
     "metadata": {},
     "output_type": "execute_result"
    }
   ],
   "source": [
    "# Validating that above code worked as intended\n",
    "df['grade'].value_counts()"
   ]
  },
  {
   "cell_type": "markdown",
   "metadata": {},
   "source": [
    "Every house has a unique `id` value, but does every row in the dataset represent a **unique house?**"
   ]
  },
  {
   "cell_type": "code",
   "execution_count": 11,
   "metadata": {
    "ExecuteTime": {
     "end_time": "2022-03-31T22:03:05.109672Z",
     "start_time": "2022-03-31T22:03:05.096693Z"
    }
   },
   "outputs": [
    {
     "data": {
      "text/plain": [
       "795000620     3\n",
       "1825069031    2\n",
       "2019200220    2\n",
       "7129304540    2\n",
       "1781500435    2\n",
       "             ..\n",
       "7812801125    1\n",
       "4364700875    1\n",
       "3021059276    1\n",
       "880000205     1\n",
       "1777500160    1\n",
       "Name: id, Length: 21420, dtype: int64"
      ]
     },
     "execution_count": 11,
     "metadata": {},
     "output_type": "execute_result"
    }
   ],
   "source": [
    "# Check for multiples in column `id`\n",
    "df['id'].value_counts()"
   ]
  },
  {
   "cell_type": "markdown",
   "metadata": {},
   "source": [
    "Looks like we have a few houses with more than one sale on record! Let's examine a few of the `id` values."
   ]
  },
  {
   "cell_type": "code",
   "execution_count": 12,
   "metadata": {
    "ExecuteTime": {
     "end_time": "2022-03-31T22:03:05.171658Z",
     "start_time": "2022-03-31T22:03:05.120645Z"
    },
    "scrolled": false
   },
   "outputs": [
    {
     "data": {
      "text/html": [
       "<div>\n",
       "<style scoped>\n",
       "    .dataframe tbody tr th:only-of-type {\n",
       "        vertical-align: middle;\n",
       "    }\n",
       "\n",
       "    .dataframe tbody tr th {\n",
       "        vertical-align: top;\n",
       "    }\n",
       "\n",
       "    .dataframe thead th {\n",
       "        text-align: right;\n",
       "    }\n",
       "</style>\n",
       "<table border=\"1\" class=\"dataframe\">\n",
       "  <thead>\n",
       "    <tr style=\"text-align: right;\">\n",
       "      <th></th>\n",
       "      <th>id</th>\n",
       "      <th>date</th>\n",
       "      <th>price</th>\n",
       "      <th>bedrooms</th>\n",
       "      <th>bathrooms</th>\n",
       "      <th>sqft_living</th>\n",
       "      <th>sqft_lot</th>\n",
       "      <th>floors</th>\n",
       "      <th>waterfront</th>\n",
       "      <th>view</th>\n",
       "      <th>condition</th>\n",
       "      <th>grade</th>\n",
       "      <th>sqft_above</th>\n",
       "      <th>sqft_basement</th>\n",
       "      <th>yr_built</th>\n",
       "      <th>yr_renovated</th>\n",
       "      <th>zipcode</th>\n",
       "      <th>lat</th>\n",
       "      <th>long</th>\n",
       "      <th>sqft_living15</th>\n",
       "      <th>sqft_lot15</th>\n",
       "    </tr>\n",
       "  </thead>\n",
       "  <tbody>\n",
       "    <tr>\n",
       "      <th>3946</th>\n",
       "      <td>1825069031</td>\n",
       "      <td>2014-08-14</td>\n",
       "      <td>550000.00</td>\n",
       "      <td>4</td>\n",
       "      <td>1.75</td>\n",
       "      <td>2410</td>\n",
       "      <td>8447</td>\n",
       "      <td>2.00</td>\n",
       "      <td>NO</td>\n",
       "      <td>GOOD</td>\n",
       "      <td>Good</td>\n",
       "      <td>8_Good</td>\n",
       "      <td>2060</td>\n",
       "      <td>350.0</td>\n",
       "      <td>1936</td>\n",
       "      <td>1980.00</td>\n",
       "      <td>98074</td>\n",
       "      <td>47.65</td>\n",
       "      <td>-122.09</td>\n",
       "      <td>2520</td>\n",
       "      <td>14789</td>\n",
       "    </tr>\n",
       "    <tr>\n",
       "      <th>3947</th>\n",
       "      <td>1825069031</td>\n",
       "      <td>2014-10-16</td>\n",
       "      <td>550000.00</td>\n",
       "      <td>4</td>\n",
       "      <td>1.75</td>\n",
       "      <td>2410</td>\n",
       "      <td>8447</td>\n",
       "      <td>2.00</td>\n",
       "      <td>NaN</td>\n",
       "      <td>GOOD</td>\n",
       "      <td>Good</td>\n",
       "      <td>8_Good</td>\n",
       "      <td>2060</td>\n",
       "      <td>350.0</td>\n",
       "      <td>1936</td>\n",
       "      <td>1980.00</td>\n",
       "      <td>98074</td>\n",
       "      <td>47.65</td>\n",
       "      <td>-122.09</td>\n",
       "      <td>2520</td>\n",
       "      <td>14789</td>\n",
       "    </tr>\n",
       "    <tr>\n",
       "      <th>12942</th>\n",
       "      <td>2019200220</td>\n",
       "      <td>2014-09-23</td>\n",
       "      <td>160000.00</td>\n",
       "      <td>3</td>\n",
       "      <td>2.25</td>\n",
       "      <td>1470</td>\n",
       "      <td>8682</td>\n",
       "      <td>1.00</td>\n",
       "      <td>NO</td>\n",
       "      <td>NONE</td>\n",
       "      <td>Average</td>\n",
       "      <td>7_Average</td>\n",
       "      <td>1160</td>\n",
       "      <td>310.0</td>\n",
       "      <td>1985</td>\n",
       "      <td>0.00</td>\n",
       "      <td>98003</td>\n",
       "      <td>47.27</td>\n",
       "      <td>-122.30</td>\n",
       "      <td>1670</td>\n",
       "      <td>8359</td>\n",
       "    </tr>\n",
       "    <tr>\n",
       "      <th>12943</th>\n",
       "      <td>2019200220</td>\n",
       "      <td>2015-02-26</td>\n",
       "      <td>269000.00</td>\n",
       "      <td>3</td>\n",
       "      <td>2.25</td>\n",
       "      <td>1470</td>\n",
       "      <td>8682</td>\n",
       "      <td>1.00</td>\n",
       "      <td>NO</td>\n",
       "      <td>NONE</td>\n",
       "      <td>Average</td>\n",
       "      <td>7_Average</td>\n",
       "      <td>1160</td>\n",
       "      <td>310.0</td>\n",
       "      <td>1985</td>\n",
       "      <td>nan</td>\n",
       "      <td>98003</td>\n",
       "      <td>47.27</td>\n",
       "      <td>-122.30</td>\n",
       "      <td>1670</td>\n",
       "      <td>8359</td>\n",
       "    </tr>\n",
       "    <tr>\n",
       "      <th>17588</th>\n",
       "      <td>795000620</td>\n",
       "      <td>2014-09-24</td>\n",
       "      <td>115000.00</td>\n",
       "      <td>3</td>\n",
       "      <td>1.00</td>\n",
       "      <td>1080</td>\n",
       "      <td>6250</td>\n",
       "      <td>1.00</td>\n",
       "      <td>NO</td>\n",
       "      <td>NONE</td>\n",
       "      <td>Fair</td>\n",
       "      <td>5_Fair</td>\n",
       "      <td>1080</td>\n",
       "      <td>0.0</td>\n",
       "      <td>1950</td>\n",
       "      <td>0.00</td>\n",
       "      <td>98168</td>\n",
       "      <td>47.50</td>\n",
       "      <td>-122.33</td>\n",
       "      <td>1070</td>\n",
       "      <td>6250</td>\n",
       "    </tr>\n",
       "    <tr>\n",
       "      <th>17589</th>\n",
       "      <td>795000620</td>\n",
       "      <td>2014-12-15</td>\n",
       "      <td>124000.00</td>\n",
       "      <td>3</td>\n",
       "      <td>1.00</td>\n",
       "      <td>1080</td>\n",
       "      <td>6250</td>\n",
       "      <td>1.00</td>\n",
       "      <td>NO</td>\n",
       "      <td>NONE</td>\n",
       "      <td>Fair</td>\n",
       "      <td>5_Fair</td>\n",
       "      <td>1080</td>\n",
       "      <td>0.0</td>\n",
       "      <td>1950</td>\n",
       "      <td>0.00</td>\n",
       "      <td>98168</td>\n",
       "      <td>47.50</td>\n",
       "      <td>-122.33</td>\n",
       "      <td>1070</td>\n",
       "      <td>6250</td>\n",
       "    </tr>\n",
       "    <tr>\n",
       "      <th>17590</th>\n",
       "      <td>795000620</td>\n",
       "      <td>2015-03-11</td>\n",
       "      <td>157000.00</td>\n",
       "      <td>3</td>\n",
       "      <td>1.00</td>\n",
       "      <td>1080</td>\n",
       "      <td>6250</td>\n",
       "      <td>1.00</td>\n",
       "      <td>NaN</td>\n",
       "      <td>NONE</td>\n",
       "      <td>Fair</td>\n",
       "      <td>5_Fair</td>\n",
       "      <td>1080</td>\n",
       "      <td>0.0</td>\n",
       "      <td>1950</td>\n",
       "      <td>nan</td>\n",
       "      <td>98168</td>\n",
       "      <td>47.50</td>\n",
       "      <td>-122.33</td>\n",
       "      <td>1070</td>\n",
       "      <td>6250</td>\n",
       "    </tr>\n",
       "  </tbody>\n",
       "</table>\n",
       "</div>"
      ],
      "text/plain": [
       "               id       date     price  bedrooms  bathrooms  sqft_living  \\\n",
       "3946   1825069031 2014-08-14 550000.00         4       1.75         2410   \n",
       "3947   1825069031 2014-10-16 550000.00         4       1.75         2410   \n",
       "12942  2019200220 2014-09-23 160000.00         3       2.25         1470   \n",
       "12943  2019200220 2015-02-26 269000.00         3       2.25         1470   \n",
       "17588   795000620 2014-09-24 115000.00         3       1.00         1080   \n",
       "17589   795000620 2014-12-15 124000.00         3       1.00         1080   \n",
       "17590   795000620 2015-03-11 157000.00         3       1.00         1080   \n",
       "\n",
       "       sqft_lot  floors waterfront  view condition      grade  sqft_above  \\\n",
       "3946       8447    2.00         NO  GOOD      Good     8_Good        2060   \n",
       "3947       8447    2.00        NaN  GOOD      Good     8_Good        2060   \n",
       "12942      8682    1.00         NO  NONE   Average  7_Average        1160   \n",
       "12943      8682    1.00         NO  NONE   Average  7_Average        1160   \n",
       "17588      6250    1.00         NO  NONE      Fair     5_Fair        1080   \n",
       "17589      6250    1.00         NO  NONE      Fair     5_Fair        1080   \n",
       "17590      6250    1.00        NaN  NONE      Fair     5_Fair        1080   \n",
       "\n",
       "      sqft_basement  yr_built  yr_renovated  zipcode   lat    long  \\\n",
       "3946          350.0      1936       1980.00    98074 47.65 -122.09   \n",
       "3947          350.0      1936       1980.00    98074 47.65 -122.09   \n",
       "12942         310.0      1985          0.00    98003 47.27 -122.30   \n",
       "12943         310.0      1985           nan    98003 47.27 -122.30   \n",
       "17588           0.0      1950          0.00    98168 47.50 -122.33   \n",
       "17589           0.0      1950          0.00    98168 47.50 -122.33   \n",
       "17590           0.0      1950           nan    98168 47.50 -122.33   \n",
       "\n",
       "       sqft_living15  sqft_lot15  \n",
       "3946            2520       14789  \n",
       "3947            2520       14789  \n",
       "12942           1670        8359  \n",
       "12943           1670        8359  \n",
       "17588           1070        6250  \n",
       "17589           1070        6250  \n",
       "17590           1070        6250  "
      ]
     },
     "execution_count": 12,
     "metadata": {},
     "output_type": "execute_result"
    }
   ],
   "source": [
    "df.loc[(df['id'] == 795000620) |\n",
    "       (df['id'] == 1825069031) |\n",
    "       (df['id'] == 2019200220)]"
   ]
  },
  {
   "cell_type": "markdown",
   "metadata": {},
   "source": [
    "The house with the `id` value `1825069031` saw no change in its sale price between its first sale (in August 2014) and second sale (in October 2014). However, the *other* two houses we're looking at here - `\t2019200220` and `795000620` - saw their sale prices **increase** over time, and with no changes in any other column!\n",
    "\n",
    "It might be best to keep the **most recent** sale on record to avoid adding any additional 'noise' to our model."
   ]
  },
  {
   "cell_type": "code",
   "execution_count": 13,
   "metadata": {
    "ExecuteTime": {
     "end_time": "2022-03-31T22:03:05.218436Z",
     "start_time": "2022-03-31T22:03:05.183627Z"
    }
   },
   "outputs": [],
   "source": [
    "# Dropping rows with duplicate values in `id` column,\n",
    "# sans the most recent sale\n",
    "df.drop_duplicates(subset=['id'], keep='last', inplace=True)"
   ]
  },
  {
   "cell_type": "markdown",
   "metadata": {},
   "source": [
    "Let's make sure that worked..."
   ]
  },
  {
   "cell_type": "code",
   "execution_count": 14,
   "metadata": {
    "ExecuteTime": {
     "end_time": "2022-03-31T22:03:05.233949Z",
     "start_time": "2022-03-31T22:03:05.221429Z"
    },
    "scrolled": false
   },
   "outputs": [
    {
     "data": {
      "text/plain": [
       "True"
      ]
     },
     "execution_count": 14,
     "metadata": {},
     "output_type": "execute_result"
    }
   ],
   "source": [
    "# Ensuring that number of unique `id` values matches\n",
    "# number of rows in dataframe, i.e. no repeated values\n",
    "len(df['id'].unique()) == len(df)"
   ]
  },
  {
   "cell_type": "code",
   "execution_count": 15,
   "metadata": {
    "ExecuteTime": {
     "end_time": "2022-03-31T22:03:05.249198Z",
     "start_time": "2022-03-31T22:03:05.236946Z"
    }
   },
   "outputs": [
    {
     "data": {
      "text/plain": [
       "17590   2015-03-11\n",
       "Name: date, dtype: datetime64[ns]"
      ]
     },
     "execution_count": 15,
     "metadata": {},
     "output_type": "execute_result"
    }
   ],
   "source": [
    "# Ensuring that only one sale remains for a house\n",
    "# we know initially had multiple sales on record\n",
    "df.loc[ df['id'] == 795000620 ]['date']"
   ]
  },
  {
   "cell_type": "markdown",
   "metadata": {},
   "source": [
    "We only got one result when indexing into the `date` column for the property `795000620`, and it's the date of the most recent sale on record for `795000620`! We've eliminated *all but the most recent sale* for any property with more than one sale on record.\n",
    "\n",
    "We no longer have any use for the `id` column, so we can drop it from our dataframe entirely."
   ]
  },
  {
   "cell_type": "code",
   "execution_count": 16,
   "metadata": {
    "ExecuteTime": {
     "end_time": "2022-03-31T22:03:05.263988Z",
     "start_time": "2022-03-31T22:03:05.251195Z"
    }
   },
   "outputs": [
    {
     "name": "stdout",
     "output_type": "stream",
     "text": [
      "2014-05-02 00:00:00\n",
      "2015-05-27 00:00:00\n"
     ]
    }
   ],
   "source": [
    "print(df['date'].min())\n",
    "print(df['date'].max())"
   ]
  },
  {
   "cell_type": "code",
   "execution_count": 17,
   "metadata": {
    "ExecuteTime": {
     "end_time": "2022-03-31T22:03:05.295399Z",
     "start_time": "2022-03-31T22:03:05.270470Z"
    }
   },
   "outputs": [],
   "source": [
    "# Dropping `id` column, now that we know we\n",
    "# have exclusively unique values for `id`\n",
    "\n",
    "df.drop(labels='id',\n",
    "        axis=1,\n",
    "        inplace=True)"
   ]
  },
  {
   "cell_type": "markdown",
   "metadata": {},
   "source": [
    "**Something else that might be of note:** in some of these rows where the same `id` appears twice, a value that *was* recorded in the first sale appears as a *null value* in a later sale, e.g. the `waterfront` column on the house whose `id` is `1825069031`."
   ]
  },
  {
   "cell_type": "code",
   "execution_count": 18,
   "metadata": {
    "ExecuteTime": {
     "end_time": "2022-03-31T22:03:06.863110Z",
     "start_time": "2022-03-31T22:03:06.850073Z"
    }
   },
   "outputs": [],
   "source": [
    "# Creating copy of original dataframe before dropping columns\n",
    "df_copy = df.copy()"
   ]
  },
  {
   "cell_type": "code",
   "execution_count": 19,
   "metadata": {
    "ExecuteTime": {
     "end_time": "2022-03-31T22:04:43.458668Z",
     "start_time": "2022-03-31T22:04:43.441609Z"
    }
   },
   "outputs": [],
   "source": [
    "# mms = MinMaxScaler()\n",
    "# df_copy[['bathrooms']] = mms.fit_transform(df_copy[['bathrooms']])"
   ]
  },
  {
   "cell_type": "code",
   "execution_count": 20,
   "metadata": {
    "ExecuteTime": {
     "end_time": "2022-03-31T22:04:43.706761Z",
     "start_time": "2022-03-31T22:04:43.691556Z"
    },
    "scrolled": true
   },
   "outputs": [
    {
     "name": "stdout",
     "output_type": "stream",
     "text": [
      "<class 'pandas.core.frame.DataFrame'>\n",
      "Int64Index: 21420 entries, 0 to 21596\n",
      "Data columns (total 20 columns):\n",
      " #   Column         Non-Null Count  Dtype         \n",
      "---  ------         --------------  -----         \n",
      " 0   date           21420 non-null  datetime64[ns]\n",
      " 1   price          21420 non-null  float64       \n",
      " 2   bedrooms       21420 non-null  int64         \n",
      " 3   bathrooms      21420 non-null  float64       \n",
      " 4   sqft_living    21420 non-null  int64         \n",
      " 5   sqft_lot       21420 non-null  int64         \n",
      " 6   floors         21420 non-null  float64       \n",
      " 7   waterfront     19067 non-null  object        \n",
      " 8   view           21357 non-null  object        \n",
      " 9   condition      21420 non-null  object        \n",
      " 10  grade          21420 non-null  object        \n",
      " 11  sqft_above     21420 non-null  int64         \n",
      " 12  sqft_basement  21420 non-null  object        \n",
      " 13  yr_built       21420 non-null  int64         \n",
      " 14  yr_renovated   17607 non-null  float64       \n",
      " 15  zipcode        21420 non-null  int64         \n",
      " 16  lat            21420 non-null  float64       \n",
      " 17  long           21420 non-null  float64       \n",
      " 18  sqft_living15  21420 non-null  int64         \n",
      " 19  sqft_lot15     21420 non-null  int64         \n",
      "dtypes: datetime64[ns](1), float64(6), int64(8), object(5)\n",
      "memory usage: 3.4+ MB\n"
     ]
    }
   ],
   "source": [
    "df_copy.info()"
   ]
  },
  {
   "cell_type": "markdown",
   "metadata": {},
   "source": [
    "We've got some nulls in the `view` column, but the number of null values *vis-à-vis*  the number of total rows in the dataframe is such that we can safely drop those nulls without worrying about our conclusions being affected."
   ]
  },
  {
   "cell_type": "code",
   "execution_count": 21,
   "metadata": {},
   "outputs": [],
   "source": [
    "#removing spaces for underscore to encode better\n",
    "df_copy.grade = [x.replace(\" \", \"_\").strip() for x in df_copy.grade]"
   ]
  },
  {
   "cell_type": "code",
   "execution_count": 22,
   "metadata": {
    "ExecuteTime": {
     "end_time": "2022-03-31T22:04:45.373230Z",
     "start_time": "2022-03-31T22:04:45.350750Z"
    }
   },
   "outputs": [],
   "source": [
    "# Dropping nulls from column `view`\n",
    "df_copy = df_copy.dropna(subset = ['view'])"
   ]
  },
  {
   "cell_type": "code",
   "execution_count": 23,
   "metadata": {
    "ExecuteTime": {
     "end_time": "2022-03-31T22:04:45.886443Z",
     "start_time": "2022-03-31T22:04:45.866928Z"
    },
    "scrolled": true
   },
   "outputs": [
    {
     "data": {
      "text/plain": [
       "True"
      ]
     },
     "execution_count": 23,
     "metadata": {},
     "output_type": "execute_result"
    }
   ],
   "source": [
    "# Validating that...\n",
    "df_copy['view'].isna().sum() == 0"
   ]
  },
  {
   "cell_type": "markdown",
   "metadata": {},
   "source": [
    "`view` and `grade` might seem similar on first glance - both columns use descriptors like `AVERAGE` and `GOOD` to assess the attributes of a house - but we determined that `grade` is a much more mutable category; it refers to the \"types of materials used (in building the house) and the quality of workmanship\" on display in the house's \"construction and design.\"\n",
    "\n",
    "Let's get a breakdown of the distribution of `grade` values in King County."
   ]
  },
  {
   "cell_type": "code",
   "execution_count": 24,
   "metadata": {
    "ExecuteTime": {
     "end_time": "2022-03-31T22:04:46.972208Z",
     "start_time": "2022-03-31T22:04:46.955228Z"
    }
   },
   "outputs": [
    {
     "data": {
      "text/plain": [
       "7_Average        8863\n",
       "8_Good           6029\n",
       "9_Better         2595\n",
       "6_Low_Average    1988\n",
       "10_Very_Good     1126\n",
       "11_Excellent      394\n",
       "5_Fair            234\n",
       "12_Luxury          87\n",
       "4_Low              27\n",
       "13_Mansion         13\n",
       "3_Poor              1\n",
       "Name: grade, dtype: int64"
      ]
     },
     "execution_count": 24,
     "metadata": {},
     "output_type": "execute_result"
    }
   ],
   "source": [
    "# Checking out the frequency of each possible value\n",
    "# for column `grade`\n",
    "df_copy['grade'].value_counts()"
   ]
  },
  {
   "cell_type": "markdown",
   "metadata": {},
   "source": [
    "We find only **one row** where the `grade` value is equal to `3 Poor`, and the value `13_Mansion` also only has **thirteen** entries, many of which are outliers in the `price` data. We drop these column to further refine the data being used in our model(s)."
   ]
  },
  {
   "cell_type": "code",
   "execution_count": 25,
   "metadata": {
    "ExecuteTime": {
     "end_time": "2022-03-31T22:04:47.841798Z",
     "start_time": "2022-03-31T22:04:47.825741Z"
    }
   },
   "outputs": [],
   "source": [
    "# Dropping the single row where [`grade` == `3 Poor`] as it has a sample of 1 and may skew data\n",
    "df_copy = df_copy.loc[df_copy['grade'] != '3_Poor']"
   ]
  },
  {
   "cell_type": "code",
   "execution_count": 26,
   "metadata": {},
   "outputs": [],
   "source": [
    "#dropping inaccurate data and data with 1 sample\n",
    "df_copy = df_copy[(df_copy['bedrooms'] != 33) & (df_copy['bedrooms'] != 10) & (df_copy['bedrooms'] != 11) &\n",
    "                 (df_copy['bedrooms'] != 9)]"
   ]
  },
  {
   "cell_type": "code",
   "execution_count": 27,
   "metadata": {},
   "outputs": [],
   "source": [
    "df_copy = df_copy[df_copy['bathrooms'] != 5.25]"
   ]
  },
  {
   "cell_type": "code",
   "execution_count": 28,
   "metadata": {},
   "outputs": [],
   "source": [
    "#converting bedroom/bathrooms to ensure they remain categorical when we scale\n",
    "df_copy.bedrooms = df_copy.bedrooms.astype(str)\n",
    "df_copy.bathrooms  = df_copy.bathrooms.astype(str)"
   ]
  },
  {
   "cell_type": "markdown",
   "metadata": {},
   "source": [
    "In the process of data exploration, we noticed when plotting `sqft_living` against `price` that the residuals had a *heteroskedastic* pattern; in keeping with the assumptions of linear regression, we transform the `price` column with `np.log()`."
   ]
  },
  {
   "cell_type": "markdown",
   "metadata": {},
   "source": [
    "### Exploring data"
   ]
  },
  {
   "cell_type": "code",
   "execution_count": 29,
   "metadata": {},
   "outputs": [
    {
     "data": {
      "text/html": [
       "<div>\n",
       "<style scoped>\n",
       "    .dataframe tbody tr th:only-of-type {\n",
       "        vertical-align: middle;\n",
       "    }\n",
       "\n",
       "    .dataframe tbody tr th {\n",
       "        vertical-align: top;\n",
       "    }\n",
       "\n",
       "    .dataframe thead th {\n",
       "        text-align: right;\n",
       "    }\n",
       "</style>\n",
       "<table border=\"1\" class=\"dataframe\">\n",
       "  <thead>\n",
       "    <tr style=\"text-align: right;\">\n",
       "      <th></th>\n",
       "      <th>price</th>\n",
       "      <th>sqft_living</th>\n",
       "      <th>sqft_lot</th>\n",
       "      <th>floors</th>\n",
       "      <th>sqft_above</th>\n",
       "      <th>yr_built</th>\n",
       "      <th>yr_renovated</th>\n",
       "      <th>zipcode</th>\n",
       "      <th>lat</th>\n",
       "      <th>long</th>\n",
       "      <th>sqft_living15</th>\n",
       "      <th>sqft_lot15</th>\n",
       "    </tr>\n",
       "  </thead>\n",
       "  <tbody>\n",
       "    <tr>\n",
       "      <th>count</th>\n",
       "      <td>21333.00</td>\n",
       "      <td>21333.00</td>\n",
       "      <td>21333.00</td>\n",
       "      <td>21333.00</td>\n",
       "      <td>21333.00</td>\n",
       "      <td>21333.00</td>\n",
       "      <td>17532.00</td>\n",
       "      <td>21333.00</td>\n",
       "      <td>21333.00</td>\n",
       "      <td>21333.00</td>\n",
       "      <td>21333.00</td>\n",
       "      <td>21333.00</td>\n",
       "    </tr>\n",
       "    <tr>\n",
       "      <th>mean</th>\n",
       "      <td>540747.15</td>\n",
       "      <td>2080.32</td>\n",
       "      <td>15107.11</td>\n",
       "      <td>1.50</td>\n",
       "      <td>1789.31</td>\n",
       "      <td>1971.10</td>\n",
       "      <td>83.79</td>\n",
       "      <td>98077.88</td>\n",
       "      <td>47.56</td>\n",
       "      <td>-122.21</td>\n",
       "      <td>1987.42</td>\n",
       "      <td>12768.42</td>\n",
       "    </tr>\n",
       "    <tr>\n",
       "      <th>std</th>\n",
       "      <td>363795.66</td>\n",
       "      <td>914.53</td>\n",
       "      <td>41467.26</td>\n",
       "      <td>0.54</td>\n",
       "      <td>825.91</td>\n",
       "      <td>29.38</td>\n",
       "      <td>400.31</td>\n",
       "      <td>53.48</td>\n",
       "      <td>0.14</td>\n",
       "      <td>0.14</td>\n",
       "      <td>684.56</td>\n",
       "      <td>27338.07</td>\n",
       "    </tr>\n",
       "    <tr>\n",
       "      <th>min</th>\n",
       "      <td>78000.00</td>\n",
       "      <td>370.00</td>\n",
       "      <td>520.00</td>\n",
       "      <td>1.00</td>\n",
       "      <td>370.00</td>\n",
       "      <td>1900.00</td>\n",
       "      <td>0.00</td>\n",
       "      <td>98001.00</td>\n",
       "      <td>47.16</td>\n",
       "      <td>-122.52</td>\n",
       "      <td>399.00</td>\n",
       "      <td>651.00</td>\n",
       "    </tr>\n",
       "    <tr>\n",
       "      <th>25%</th>\n",
       "      <td>324900.00</td>\n",
       "      <td>1430.00</td>\n",
       "      <td>5040.00</td>\n",
       "      <td>1.00</td>\n",
       "      <td>1200.00</td>\n",
       "      <td>1952.00</td>\n",
       "      <td>0.00</td>\n",
       "      <td>98033.00</td>\n",
       "      <td>47.47</td>\n",
       "      <td>-122.33</td>\n",
       "      <td>1490.00</td>\n",
       "      <td>5100.00</td>\n",
       "    </tr>\n",
       "    <tr>\n",
       "      <th>50%</th>\n",
       "      <td>450000.00</td>\n",
       "      <td>1920.00</td>\n",
       "      <td>7611.00</td>\n",
       "      <td>1.50</td>\n",
       "      <td>1560.00</td>\n",
       "      <td>1975.00</td>\n",
       "      <td>0.00</td>\n",
       "      <td>98065.00</td>\n",
       "      <td>47.57</td>\n",
       "      <td>-122.23</td>\n",
       "      <td>1840.00</td>\n",
       "      <td>7620.00</td>\n",
       "    </tr>\n",
       "    <tr>\n",
       "      <th>75%</th>\n",
       "      <td>645000.00</td>\n",
       "      <td>2550.00</td>\n",
       "      <td>10685.00</td>\n",
       "      <td>2.00</td>\n",
       "      <td>2210.00</td>\n",
       "      <td>1997.00</td>\n",
       "      <td>0.00</td>\n",
       "      <td>98117.00</td>\n",
       "      <td>47.68</td>\n",
       "      <td>-122.12</td>\n",
       "      <td>2370.00</td>\n",
       "      <td>10083.00</td>\n",
       "    </tr>\n",
       "    <tr>\n",
       "      <th>max</th>\n",
       "      <td>7700000.00</td>\n",
       "      <td>13540.00</td>\n",
       "      <td>1651359.00</td>\n",
       "      <td>3.50</td>\n",
       "      <td>9410.00</td>\n",
       "      <td>2015.00</td>\n",
       "      <td>2015.00</td>\n",
       "      <td>98199.00</td>\n",
       "      <td>47.78</td>\n",
       "      <td>-121.31</td>\n",
       "      <td>6210.00</td>\n",
       "      <td>871200.00</td>\n",
       "    </tr>\n",
       "  </tbody>\n",
       "</table>\n",
       "</div>"
      ],
      "text/plain": [
       "           price  sqft_living   sqft_lot   floors  sqft_above  yr_built  \\\n",
       "count   21333.00     21333.00   21333.00 21333.00    21333.00  21333.00   \n",
       "mean   540747.15      2080.32   15107.11     1.50     1789.31   1971.10   \n",
       "std    363795.66       914.53   41467.26     0.54      825.91     29.38   \n",
       "min     78000.00       370.00     520.00     1.00      370.00   1900.00   \n",
       "25%    324900.00      1430.00    5040.00     1.00     1200.00   1952.00   \n",
       "50%    450000.00      1920.00    7611.00     1.50     1560.00   1975.00   \n",
       "75%    645000.00      2550.00   10685.00     2.00     2210.00   1997.00   \n",
       "max   7700000.00     13540.00 1651359.00     3.50     9410.00   2015.00   \n",
       "\n",
       "       yr_renovated  zipcode      lat     long  sqft_living15  sqft_lot15  \n",
       "count      17532.00 21333.00 21333.00 21333.00       21333.00    21333.00  \n",
       "mean          83.79 98077.88    47.56  -122.21        1987.42    12768.42  \n",
       "std          400.31    53.48     0.14     0.14         684.56    27338.07  \n",
       "min            0.00 98001.00    47.16  -122.52         399.00      651.00  \n",
       "25%            0.00 98033.00    47.47  -122.33        1490.00     5100.00  \n",
       "50%            0.00 98065.00    47.57  -122.23        1840.00     7620.00  \n",
       "75%            0.00 98117.00    47.68  -122.12        2370.00    10083.00  \n",
       "max         2015.00 98199.00    47.78  -121.31        6210.00   871200.00  "
      ]
     },
     "execution_count": 29,
     "metadata": {},
     "output_type": "execute_result"
    }
   ],
   "source": [
    "df_copy.describe()"
   ]
  },
  {
   "cell_type": "markdown",
   "metadata": {},
   "source": [
    "There is a max of \\\\$7.7 mil house while the 75th percentile is \\\\$645000"
   ]
  },
  {
   "cell_type": "code",
   "execution_count": 30,
   "metadata": {},
   "outputs": [
    {
     "name": "stderr",
     "output_type": "stream",
     "text": [
      "C:\\Users\\jsidd\\anaconda3\\envs\\learn-env\\lib\\site-packages\\seaborn\\_decorators.py:36: FutureWarning: Pass the following variable as a keyword arg: x. From version 0.12, the only valid positional argument will be `data`, and passing other arguments without an explicit keyword will result in an error or misinterpretation.\n",
      "  warnings.warn(\n"
     ]
    },
    {
     "data": {
      "image/png": "[encoded data removed]",
      "text/plain": [
       "<Figure size 1440x1080 with 1 Axes>"
      ]
     },
     "metadata": {
      "needs_background": "light"
     },
     "output_type": "display_data"
    }
   ],
   "source": [
    "#looking at price\n",
    "fig, ax = plt.subplots(figsize = (20, 15))\n",
    "sns.boxplot(df_copy['price']);"
   ]
  },
  {
   "cell_type": "markdown",
   "metadata": {},
   "source": [
    "We have enough outliers in our dataset that it needs to be clean as they can skew our analysis and regressions."
   ]
  },
  {
   "cell_type": "code",
   "execution_count": 31,
   "metadata": {},
   "outputs": [
    {
     "name": "stderr",
     "output_type": "stream",
     "text": [
      "C:\\Users\\jsidd\\anaconda3\\envs\\learn-env\\lib\\site-packages\\seaborn\\_decorators.py:36: FutureWarning: Pass the following variable as a keyword arg: x. From version 0.12, the only valid positional argument will be `data`, and passing other arguments without an explicit keyword will result in an error or misinterpretation.\n",
      "  warnings.warn(\n"
     ]
    },
    {
     "data": {
      "image/png": "[encoded data removed]",
      "text/plain": [
       "<Figure size 1440x1080 with 1 Axes>"
      ]
     },
     "metadata": {
      "needs_background": "light"
     },
     "output_type": "display_data"
    }
   ],
   "source": [
    "fig, ax = plt.subplots(figsize = (20, 15))\n",
    "sns.boxplot(df_copy['price']);"
   ]
  },
  {
   "cell_type": "code",
   "execution_count": 32,
   "metadata": {},
   "outputs": [
    {
     "data": {
      "text/plain": [
       "(60597.148877326166, 1020897.1488773262)"
      ]
     },
     "execution_count": 32,
     "metadata": {},
     "output_type": "execute_result"
    }
   ],
   "source": [
    "#finding the cut off\n",
    "#mean IQR \n",
    "q3, q1 = np.percentile(df_copy['price'], [75, 25])\n",
    "q3, q1\n",
    "iqr = q3-q1\n",
    "\n",
    "lower_limit = df_copy['price'].mean()- (iqr*1.5)\n",
    "\n",
    "upper_limit = df_copy['price'].mean()+ (iqr*1.5)\n",
    "\n",
    "lower_limit, upper_limit"
   ]
  },
  {
   "cell_type": "code",
   "execution_count": 33,
   "metadata": {},
   "outputs": [
    {
     "data": {
      "text/plain": [
       "(-30150.0, 930150.0)"
      ]
     },
     "execution_count": 33,
     "metadata": {},
     "output_type": "execute_result"
    }
   ],
   "source": [
    "#using median\n",
    "q3, q1 = np.percentile(df_copy['price'], [75, 25])\n",
    "q3, q1\n",
    "iqr = q3-q1\n",
    "\n",
    "lower_limit2 = df_copy['price'].median()- (iqr*1.5)\n",
    "\n",
    "upper_limit2 = df_copy['price'].median()+ (iqr*1.5)\n",
    "\n",
    "lower_limit2, upper_limit2"
   ]
  },
  {
   "cell_type": "markdown",
   "metadata": {},
   "source": [
    "Upon further discussion, we decide to use median because mean is more affect by the present of outliers compared to median. Although, they differ by about \\\\$10K, in data this is enough to skew our results in one direction."
   ]
  },
  {
   "cell_type": "code",
   "execution_count": 34,
   "metadata": {},
   "outputs": [],
   "source": [
    "#droppped big outliers base on median price, narrowing down the market\n",
    "df_copy = df_copy[df_copy['price'] < upper_limit2]"
   ]
  },
  {
   "cell_type": "code",
   "execution_count": 35,
   "metadata": {},
   "outputs": [
    {
     "data": {
      "text/plain": [
       "(345.0, 3315.0)"
      ]
     },
     "execution_count": 35,
     "metadata": {},
     "output_type": "execute_result"
    }
   ],
   "source": [
    "#Finding where our outliers are in sqft_living\n",
    "q3, q1 = np.percentile(df_copy['sqft_living'], [75, 25])\n",
    "q3, q1\n",
    "iqr = q3-q1\n",
    "\n",
    "living_lower_limit = df_copy['sqft_living'].median()- (iqr*1.5)\n",
    "\n",
    "living_upper_limit = df_copy['sqft_living'].median()+ (iqr*1.5)\n",
    "\n",
    "living_lower_limit, living_upper_limit"
   ]
  },
  {
   "cell_type": "markdown",
   "metadata": {},
   "source": [
    "Similar to the issue of price, we decide on median as we had big outliers that can skew the regrression."
   ]
  },
  {
   "cell_type": "code",
   "execution_count": 36,
   "metadata": {},
   "outputs": [],
   "source": [
    "#dropping sqft_living outliers\n",
    "df_copy = df_copy[df_copy['sqft_living'] < living_upper_limit]"
   ]
  },
  {
   "cell_type": "code",
   "execution_count": 37,
   "metadata": {},
   "outputs": [
    {
     "data": {
      "image/png": "[encoded data removed]",
      "text/plain": [
       "<Figure size 864x864 with 2 Axes>"
      ]
     },
     "metadata": {
      "needs_background": "light"
     },
     "output_type": "display_data"
    }
   ],
   "source": [
    "# Visualizing correlations between numerical columns\n",
    "# with a seaborn heatmap to investigate the correlation\n",
    "\n",
    "fig, ax = plt.subplots(figsize=(12, 12))\n",
    "corr = df.corr()\n",
    "\n",
    "# Instantiate numpy array of zeroes and assign to `mask`\n",
    "mask = np.zeros_like(corr,\n",
    "                     dtype=bool)\n",
    "\n",
    "# Returns indices from upper triangle of array\n",
    "mask[np.triu_indices_from(mask)] = True\n",
    "\n",
    "sns.heatmap(corr,\n",
    "            annot=True,\n",
    "            mask=mask);"
   ]
  },
  {
   "cell_type": "markdown",
   "metadata": {},
   "source": [
    "**Observations from this heatmap:**\n",
    "\n",
    "- `sqft_living` has the highest correlation with price, an r-value of `0.7`...\n",
    "    - ...but `sqft_living` is also correlated with several other columns: `bedrooms`, `bathrooms`, `sqft_above` (this one has an r-value of `0.88`!), and `sqft_living15`, so we'll need to be careful that we don't include collinear features in our models.\n",
    "- `zipcode`, `lat`, and `long` all have low (`0.31` or below) correlations with `price` - these columns may not be immediately useful to us in constructing models for this project, but could be worth looking into as next-step recommendations."
   ]
  },
  {
   "cell_type": "code",
   "execution_count": 38,
   "metadata": {},
   "outputs": [],
   "source": [
    "# Drop irrelevant columns\n",
    "df_copy.drop(columns=['date',\n",
    "                      'floors',\n",
    "                      'waterfront',\n",
    "                      'condition',\n",
    "                      'sqft_above',  # potential for multicollinearity\n",
    "                      'sqft_basement',  # potential for multicollinearity\n",
    "                      'yr_renovated',\n",
    "                      'lat',\n",
    "                      'long',\n",
    "                      'sqft_living15',  # potential for multicollinearity\n",
    "                      'sqft_lot15',\n",
    "                      'zipcode', 'yr_built'],\n",
    "             inplace=True)"
   ]
  },
  {
   "cell_type": "code",
   "execution_count": 39,
   "metadata": {},
   "outputs": [],
   "source": [
    "#transforming price column\n",
    "df_copy['price'] = np.log(df_copy['price'])"
   ]
  },
  {
   "cell_type": "markdown",
   "metadata": {},
   "source": [
    "This transformation of price occurred after we looked our assumptions and found that that our residuals had a fanning shape pattern in our initial run."
   ]
  },
  {
   "cell_type": "markdown",
   "metadata": {},
   "source": [
    "All set to begin preprocessing!"
   ]
  },
  {
   "cell_type": "markdown",
   "metadata": {},
   "source": [
    "# Splitting data into train and test sets"
   ]
  },
  {
   "cell_type": "markdown",
   "metadata": {},
   "source": [
    "Our **target** variable, or `y`, is going to be `price`, i.e. the sale price of a given home."
   ]
  },
  {
   "cell_type": "code",
   "execution_count": 40,
   "metadata": {
    "ExecuteTime": {
     "end_time": "2022-03-31T22:04:51.450402Z",
     "start_time": "2022-03-31T22:04:51.443421Z"
    }
   },
   "outputs": [],
   "source": [
    "# Creating target variable and predictor dataframe\n",
    "y = df_copy['price']\n",
    "X = df_copy.drop(labels='price',\n",
    "                 axis=1)"
   ]
  },
  {
   "cell_type": "code",
   "execution_count": 41,
   "metadata": {
    "ExecuteTime": {
     "end_time": "2022-03-31T22:04:52.101482Z",
     "start_time": "2022-03-31T22:04:52.091449Z"
    }
   },
   "outputs": [],
   "source": [
    "# Initiating train-test split\n",
    "X_train, X_test, y_train, y_test = train_test_split(\n",
    "    X, y, test_size=0.33, random_state=42)"
   ]
  },
  {
   "cell_type": "code",
   "execution_count": 42,
   "metadata": {
    "ExecuteTime": {
     "end_time": "2022-03-31T21:44:36.283391Z",
     "start_time": "2022-03-31T21:44:36.239497Z"
    },
    "scrolled": true
   },
   "outputs": [
    {
     "data": {
      "text/plain": [
       "True"
      ]
     },
     "execution_count": 42,
     "metadata": {},
     "output_type": "execute_result"
    }
   ],
   "source": [
    "# Did it split correctly?\n",
    "len(X_train + X_test) == len(X)"
   ]
  },
  {
   "cell_type": "code",
   "execution_count": 43,
   "metadata": {
    "ExecuteTime": {
     "end_time": "2022-03-31T21:44:36.283391Z",
     "start_time": "2022-03-31T21:44:36.239497Z"
    },
    "scrolled": true
   },
   "outputs": [
    {
     "data": {
      "text/plain": [
       "True"
      ]
     },
     "execution_count": 43,
     "metadata": {},
     "output_type": "execute_result"
    }
   ],
   "source": [
    "# Did it split correctly?\n",
    "len(X_train + X_test) == len(X)"
   ]
  },
  {
   "cell_type": "code",
   "execution_count": 44,
   "metadata": {
    "ExecuteTime": {
     "end_time": "2022-03-31T21:44:36.283391Z",
     "start_time": "2022-03-31T21:44:36.239497Z"
    },
    "scrolled": true
   },
   "outputs": [
    {
     "name": "stdout",
     "output_type": "stream",
     "text": [
      "179906.86194658646\n",
      "0.0\n"
     ]
    }
   ],
   "source": [
    "# Setting Baseline model for train\n",
    "\"\"\"\n",
    "You want to create your dummyregressor before you \n",
    "OHE and scale because then you've fitted your model.\n",
    "What you you want to test is what your model is as is\n",
    "before any other fitting occurs because then you're\n",
    "adjusting your features so they suit it better. Dummyregressor\n",
    "allows us to compare the data as is and see what the baseline is\n",
    "before we have to compare. At least what I gathered\n",
    "\n",
    "\"\"\"\n",
    "# Instantiate\n",
    "dummy_lr = DummyRegressor()\n",
    "\n",
    "# Create variables\n",
    "X_t = X_train\n",
    "y_t = y_train\n",
    "\n",
    "# Fit\n",
    "dummy_lr.fit(X_t,y_t)\n",
    "\n",
    "# Score\n",
    "dummy_lr.score(X_t,y_t)\n",
    "\n",
    "#predict\n",
    "dummy_pred1 = dummy_lr.predict(X_t)\n",
    "\n",
    "#RMSE\n",
    "print(mean_squared_error(np.exp(y_t), np.exp(dummy_pred1), squared=False))\n",
    "print(r2_score(y_t, dummy_pred1))"
   ]
  },
  {
   "cell_type": "code",
   "execution_count": 45,
   "metadata": {},
   "outputs": [
    {
     "name": "stdout",
     "output_type": "stream",
     "text": [
      "180694.03948474894\n",
      "-2.83631198061407e-06\n"
     ]
    }
   ],
   "source": [
    "# Setting Baseline model for test\n",
    "\n",
    "# Create variables\n",
    "X_test1 = X_test\n",
    "y_test1 = y_test\n",
    "\n",
    "# Score\n",
    "dummy_lr.score(X_test1,y_test1)\n",
    "\n",
    "#predict\n",
    "dummy_pred2 = dummy_lr.predict(X_test1)\n",
    "\n",
    "#RMSE\n",
    "print(mean_squared_error(np.exp(y_test1), np.exp(dummy_pred2), squared=False))\n",
    "print(r2_score(y_test1,dummy_pred2))"
   ]
  },
  {
   "cell_type": "code",
   "execution_count": 46,
   "metadata": {},
   "outputs": [
    {
     "data": {
      "image/png": "[encoded data removed]",
      "text/plain": [
       "<Figure size 864x864 with 2 Axes>"
      ]
     },
     "metadata": {
      "needs_background": "light"
     },
     "output_type": "display_data"
    }
   ],
   "source": [
    "#looking at coefficients once again to see what the chancges are for relationship between the features\n",
    "fig, ax = plt.subplots(figsize=(12, 12))\n",
    "corr = X_train.corr()\n",
    "\n",
    "# Instantiate numpy array of zeroes and assign to `mask`\n",
    "mask = np.zeros_like(corr,\n",
    "                     dtype=bool)\n",
    "\n",
    "# Returns indices from upper triangle of array\n",
    "mask[np.triu_indices_from(mask)] = True\n",
    "\n",
    "sns.heatmap(corr,\n",
    "            annot=True,\n",
    "            mask=mask);"
   ]
  },
  {
   "cell_type": "markdown",
   "metadata": {},
   "source": [
    "## SCALING AND OHE"
   ]
  },
  {
   "cell_type": "markdown",
   "metadata": {},
   "source": [
    "Now that we've established what our baseline model, we can now move on to adjusting our features as these transformation here affects model being built."
   ]
  },
  {
   "cell_type": "code",
   "execution_count": 47,
   "metadata": {},
   "outputs": [],
   "source": [
    "scaler = StandardScaler()\n",
    "\n",
    "# Calling to certain columns\n",
    "continous = [c for c in X_train.columns if (X_train[c].dtype == 'int64')| (X_train[c].dtype == 'float64')]\n",
    "\n",
    "ct = ColumnTransformer(transformers=[('scale', scaler, continous)],\n",
    "                       remainder='drop')\n",
    "ct.fit(X_train)\n",
    "\n",
    "# Transform training data\n",
    "X_train_scaled = X_train.copy()\n",
    "X_train_trans = ct.transform(X_train)\n",
    "\n",
    "X_train_scaled[continous] = X_train_trans\n",
    "\n",
    "# Scaling testing data\n",
    "\n",
    "X_test_scaled = X_test.copy()\n",
    "\n",
    "X_test_trans = ct.transform(X_test)\n",
    "X_test_scaled[continous] = X_test_trans"
   ]
  },
  {
   "cell_type": "code",
   "execution_count": 48,
   "metadata": {},
   "outputs": [
    {
     "data": {
      "text/plain": [
       "<6135x41 sparse matrix of type '<class 'numpy.float64'>'\n",
       "\twith 36810 stored elements in Compressed Sparse Row format>"
      ]
     },
     "execution_count": 48,
     "metadata": {},
     "output_type": "execute_result"
    }
   ],
   "source": [
    "cat_cols = [c for c in X_train_scaled.columns if X_train_scaled[c].dtype == 'O']\n",
    "\n",
    "encoder = OneHotEncoder(drop='if_binary', handle_unknown='ignore')\n",
    "\n",
    "# Create an columntransformer object.\n",
    "# This will help us to merge transformed columns\n",
    "# with the rest of the dataset.\n",
    "\n",
    "ct2 = ColumnTransformer(transformers=[('ohe', encoder, cat_cols)],\n",
    "                       remainder='passthrough')\n",
    "ct2.fit(X_train_scaled)\n",
    "X_train_enc = ct2.transform(X_train_scaled)\n",
    "X_train_enc\n",
    "\n",
    "#OHE testing\n",
    "X_test_enc = ct2.transform(X_test_scaled)\n",
    "X_test_enc"
   ]
  },
  {
   "cell_type": "code",
   "execution_count": 49,
   "metadata": {},
   "outputs": [],
   "source": [
    "scaled_p_df = pd.DataFrame(X_train_enc.todense() ,columns= ct2.get_feature_names_out(), index = y_train.index)\n",
    "scaled_test_df= pd.DataFrame(X_test_enc.todense(), columns= ct2.get_feature_names_out(), index = y_test.index)"
   ]
  },
  {
   "cell_type": "code",
   "execution_count": 50,
   "metadata": {},
   "outputs": [
    {
     "name": "stdout",
     "output_type": "stream",
     "text": [
      "<class 'pandas.core.frame.DataFrame'>\n",
      "Int64Index: 12454 entries, 3810 to 18228\n",
      "Data columns (total 41 columns):\n",
      " #   Column                    Non-Null Count  Dtype  \n",
      "---  ------                    --------------  -----  \n",
      " 0   ohe__bedrooms_1           12454 non-null  float64\n",
      " 1   ohe__bedrooms_2           12454 non-null  float64\n",
      " 2   ohe__bedrooms_3           12454 non-null  float64\n",
      " 3   ohe__bedrooms_4           12454 non-null  float64\n",
      " 4   ohe__bedrooms_5           12454 non-null  float64\n",
      " 5   ohe__bedrooms_6           12454 non-null  float64\n",
      " 6   ohe__bedrooms_7           12454 non-null  float64\n",
      " 7   ohe__bedrooms_8           12454 non-null  float64\n",
      " 8   ohe__bathrooms_0.5        12454 non-null  float64\n",
      " 9   ohe__bathrooms_0.75       12454 non-null  float64\n",
      " 10  ohe__bathrooms_1.0        12454 non-null  float64\n",
      " 11  ohe__bathrooms_1.25       12454 non-null  float64\n",
      " 12  ohe__bathrooms_1.5        12454 non-null  float64\n",
      " 13  ohe__bathrooms_1.75       12454 non-null  float64\n",
      " 14  ohe__bathrooms_2.0        12454 non-null  float64\n",
      " 15  ohe__bathrooms_2.25       12454 non-null  float64\n",
      " 16  ohe__bathrooms_2.5        12454 non-null  float64\n",
      " 17  ohe__bathrooms_2.75       12454 non-null  float64\n",
      " 18  ohe__bathrooms_3.0        12454 non-null  float64\n",
      " 19  ohe__bathrooms_3.25       12454 non-null  float64\n",
      " 20  ohe__bathrooms_3.5        12454 non-null  float64\n",
      " 21  ohe__bathrooms_3.75       12454 non-null  float64\n",
      " 22  ohe__bathrooms_4.0        12454 non-null  float64\n",
      " 23  ohe__bathrooms_4.25       12454 non-null  float64\n",
      " 24  ohe__bathrooms_4.5        12454 non-null  float64\n",
      " 25  ohe__bathrooms_5.0        12454 non-null  float64\n",
      " 26  ohe__view_AVERAGE         12454 non-null  float64\n",
      " 27  ohe__view_EXCELLENT       12454 non-null  float64\n",
      " 28  ohe__view_FAIR            12454 non-null  float64\n",
      " 29  ohe__view_GOOD            12454 non-null  float64\n",
      " 30  ohe__view_NONE            12454 non-null  float64\n",
      " 31  ohe__grade_10_Very_Good   12454 non-null  float64\n",
      " 32  ohe__grade_11_Excellent   12454 non-null  float64\n",
      " 33  ohe__grade_4_Low          12454 non-null  float64\n",
      " 34  ohe__grade_5_Fair         12454 non-null  float64\n",
      " 35  ohe__grade_6_Low_Average  12454 non-null  float64\n",
      " 36  ohe__grade_7_Average      12454 non-null  float64\n",
      " 37  ohe__grade_8_Good         12454 non-null  float64\n",
      " 38  ohe__grade_9_Better       12454 non-null  float64\n",
      " 39  remainder__sqft_living    12454 non-null  float64\n",
      " 40  remainder__sqft_lot       12454 non-null  float64\n",
      "dtypes: float64(41)\n",
      "memory usage: 4.0 MB\n"
     ]
    }
   ],
   "source": [
    "scaled_p_df.info()"
   ]
  },
  {
   "cell_type": "code",
   "execution_count": 51,
   "metadata": {},
   "outputs": [],
   "source": [
    "#cleaning the column names for easier access\n",
    "scaled_p_df.columns = [x.replace(\"ohe__\", \"\").replace('remainder__','').strip() for x in scaled_p_df.columns]\n",
    "scaled_test_df.columns = [x.replace(\"ohe__\", \"\").replace('remainder__','').strip() for x in scaled_test_df.columns]"
   ]
  },
  {
   "cell_type": "code",
   "execution_count": 52,
   "metadata": {},
   "outputs": [],
   "source": [
    "#dropping a columns as we did not do this in our ohe\n",
    "scaled_p_df.drop(columns = ['view_FAIR', 'grade_4_Low','bedrooms_8', 'bathrooms_5.0'], inplace = True)\n",
    "scaled_test_df.drop(columns = ['view_FAIR', 'grade_4_Low','bedrooms_8','bathrooms_5.0'], inplace = True)"
   ]
  },
  {
   "cell_type": "markdown",
   "metadata": {},
   "source": [
    "# Linear Modeling"
   ]
  },
  {
   "cell_type": "code",
   "execution_count": 53,
   "metadata": {},
   "outputs": [],
   "source": [
    "#function that gather relevant information from train models\n",
    "def scores(x,y):\n",
    "    regressor = LinearRegression()\n",
    "    regressor.fit(x,y)\n",
    "    y_pred = regressor.predict(x)\n",
    "    result1 = regressor.score(x,y)\n",
    "    result2 = r2_score(y,y_pred)\n",
    "    rmse = mean_squared_error(np.exp(y), np.exp(y_pred), squared=False)\n",
    "    \n",
    "    print(\"Model train score is:\", result1) \n",
    "    print(\"Train r2_score is:\", result2)\n",
    "    print(\"The train RMSE is:\" , rmse)"
   ]
  },
  {
   "cell_type": "markdown",
   "metadata": {},
   "source": [
    "## Initial Model - Simple Linear Regression with `sqft_living`"
   ]
  },
  {
   "cell_type": "code",
   "execution_count": 54,
   "metadata": {},
   "outputs": [
    {
     "data": {
      "image/png": "[encoded data removed]",
      "text/plain": [
       "<Figure size 1080x360 with 1 Axes>"
      ]
     },
     "metadata": {
      "needs_background": "light"
     },
     "output_type": "display_data"
    }
   ],
   "source": [
    "#taking a look at the relationship once more before we start\n",
    "fig, ax = plt.subplots(figsize = (15,5))\n",
    "\n",
    "x = scaled_p_df['sqft_living']\n",
    "y = y_train\n",
    "\n",
    "\n",
    "ax.scatter(x, y);"
   ]
  },
  {
   "cell_type": "code",
   "execution_count": 55,
   "metadata": {},
   "outputs": [
    {
     "data": {
      "text/plain": [
       "array([[1.        , 0.53444622],\n",
       "       [0.53444622, 1.        ]])"
      ]
     },
     "execution_count": 55,
     "metadata": {},
     "output_type": "execute_result"
    }
   ],
   "source": [
    "#Correlation between these X_train feature to y_train\n",
    "np.corrcoef(x,y)"
   ]
  },
  {
   "cell_type": "markdown",
   "metadata": {},
   "source": [
    "The correlation drops from .7 to .57 after cleaning the data for outliers and splitting to train-test."
   ]
  },
  {
   "cell_type": "code",
   "execution_count": 56,
   "metadata": {},
   "outputs": [
    {
     "data": {
      "text/plain": [
       "179906.86194658646"
      ]
     },
     "execution_count": 56,
     "metadata": {},
     "output_type": "execute_result"
    }
   ],
   "source": [
    "# Baseline model\n",
    "\n",
    "# Instantiate\n",
    "dummy_lr = DummyRegressor()\n",
    "\n",
    "# Create variables\n",
    "X = scaled_p_df['sqft_living']\n",
    "y = y_train\n",
    "\n",
    "# Fit\n",
    "dummy_lr.fit(X,y)\n",
    "\n",
    "# Score\n",
    "dummy_lr.score(X,y)\n",
    "\n",
    "#predict\n",
    "dummy_pred = dummy_lr.predict(X)\n",
    "\n",
    "#RMSE\n",
    "mean_squared_error(np.exp(y), np.exp(dummy_pred), squared=False)"
   ]
  },
  {
   "cell_type": "markdown",
   "metadata": {},
   "source": [
    "#### Testing our assumptions of linearity "
   ]
  },
  {
   "cell_type": "code",
   "execution_count": 57,
   "metadata": {},
   "outputs": [
    {
     "name": "stdout",
     "output_type": "stream",
     "text": [
      "Model train score is: 0.28563276388211223\n",
      "Train r2_score is: 0.28563276388211223\n",
      "The train RMSE is: 151494.07564749187\n"
     ]
    }
   ],
   "source": [
    "X = scaled_p_df[['sqft_living']]\n",
    "y = y_train\n",
    "\n",
    "model = LinearRegression()\n",
    "model.fit(X,y)\n",
    "y_pred = model.predict(X)\n",
    "\n",
    "resids = y - y_pred\n",
    "\n",
    "scores(X,y)"
   ]
  },
  {
   "cell_type": "code",
   "execution_count": 58,
   "metadata": {},
   "outputs": [
    {
     "data": {
      "text/plain": [
       "111"
      ]
     },
     "execution_count": 58,
     "metadata": {},
     "output_type": "execute_result"
    }
   ],
   "source": [
    "#Create out bins\n",
    "\n",
    "bins = int( len(X)**.5)\n",
    "bins"
   ]
  },
  {
   "cell_type": "code",
   "execution_count": 59,
   "metadata": {},
   "outputs": [
    {
     "data": {
      "image/png": "[encoded data removed]",
      "text/plain": [
       "<Figure size 432x288 with 1 Axes>"
      ]
     },
     "metadata": {
      "needs_background": "light"
     },
     "output_type": "display_data"
    }
   ],
   "source": [
    "#Histogram of residuals\n",
    "\n",
    "plt.hist(resids, bins=bins);"
   ]
  },
  {
   "cell_type": "code",
   "execution_count": 60,
   "metadata": {},
   "outputs": [
    {
     "data": {
      "text/plain": [
       "<seaborn.axisgrid.FacetGrid at 0x270206f7a60>"
      ]
     },
     "execution_count": 60,
     "metadata": {},
     "output_type": "execute_result"
    },
    {
     "data": {
      "image/png": "[encoded data removed]",
      "text/plain": [
       "<Figure size 360x360 with 1 Axes>"
      ]
     },
     "metadata": {
      "needs_background": "light"
     },
     "output_type": "display_data"
    }
   ],
   "source": [
    "sns.displot(resids, bins=bins, kde=True)"
   ]
  },
  {
   "cell_type": "code",
   "execution_count": 61,
   "metadata": {},
   "outputs": [
    {
     "data": {
      "image/png": "[encoded data removed]",
      "text/plain": [
       "<Figure size 432x288 with 1 Axes>"
      ]
     },
     "metadata": {
      "needs_background": "light"
     },
     "output_type": "display_data"
    }
   ],
   "source": [
    "sm.qqplot(resids, line='r');"
   ]
  },
  {
   "cell_type": "code",
   "execution_count": 62,
   "metadata": {},
   "outputs": [
    {
     "data": {
      "image/png": "[encoded data removed]",
      "text/plain": [
       "<Figure size 432x288 with 1 Axes>"
      ]
     },
     "metadata": {
      "needs_background": "light"
     },
     "output_type": "display_data"
    }
   ],
   "source": [
    "# resid plot sns.resid\n",
    "\n",
    "sns.residplot(x=X, y=y);"
   ]
  },
  {
   "cell_type": "code",
   "execution_count": 63,
   "metadata": {},
   "outputs": [
    {
     "data": {
      "image/png": "[encoded data removed]",
      "text/plain": [
       "<Figure size 432x288 with 1 Axes>"
      ]
     },
     "metadata": {
      "needs_background": "light"
     },
     "output_type": "display_data"
    }
   ],
   "source": [
    "plt.scatter(y_pred, resids);"
   ]
  },
  {
   "cell_type": "markdown",
   "metadata": {},
   "source": [
    "Our simple linear regression for the most part passes the assumption of linear regression as our residuals are more or less normally distributes, homoskedactic, and the qqplot is more or less mostly linear."
   ]
  },
  {
   "cell_type": "markdown",
   "metadata": {},
   "source": [
    "### `sqft_living` Analysis"
   ]
  },
  {
   "cell_type": "markdown",
   "metadata": {},
   "source": [
    "if you have something to say say it here about sqft_living."
   ]
  },
  {
   "cell_type": "markdown",
   "metadata": {},
   "source": [
    "## Modeling with Multiple Features"
   ]
  },
  {
   "cell_type": "code",
   "execution_count": 64,
   "metadata": {},
   "outputs": [],
   "source": [
    "all_features = scaled_p_df.copy()"
   ]
  },
  {
   "cell_type": "code",
   "execution_count": 65,
   "metadata": {},
   "outputs": [
    {
     "name": "stdout",
     "output_type": "stream",
     "text": [
      "<class 'pandas.core.frame.DataFrame'>\n",
      "Int64Index: 12454 entries, 3810 to 18228\n",
      "Data columns (total 37 columns):\n",
      " #   Column               Non-Null Count  Dtype  \n",
      "---  ------               --------------  -----  \n",
      " 0   bedrooms_1           12454 non-null  float64\n",
      " 1   bedrooms_2           12454 non-null  float64\n",
      " 2   bedrooms_3           12454 non-null  float64\n",
      " 3   bedrooms_4           12454 non-null  float64\n",
      " 4   bedrooms_5           12454 non-null  float64\n",
      " 5   bedrooms_6           12454 non-null  float64\n",
      " 6   bedrooms_7           12454 non-null  float64\n",
      " 7   bathrooms_0.5        12454 non-null  float64\n",
      " 8   bathrooms_0.75       12454 non-null  float64\n",
      " 9   bathrooms_1.0        12454 non-null  float64\n",
      " 10  bathrooms_1.25       12454 non-null  float64\n",
      " 11  bathrooms_1.5        12454 non-null  float64\n",
      " 12  bathrooms_1.75       12454 non-null  float64\n",
      " 13  bathrooms_2.0        12454 non-null  float64\n",
      " 14  bathrooms_2.25       12454 non-null  float64\n",
      " 15  bathrooms_2.5        12454 non-null  float64\n",
      " 16  bathrooms_2.75       12454 non-null  float64\n",
      " 17  bathrooms_3.0        12454 non-null  float64\n",
      " 18  bathrooms_3.25       12454 non-null  float64\n",
      " 19  bathrooms_3.5        12454 non-null  float64\n",
      " 20  bathrooms_3.75       12454 non-null  float64\n",
      " 21  bathrooms_4.0        12454 non-null  float64\n",
      " 22  bathrooms_4.25       12454 non-null  float64\n",
      " 23  bathrooms_4.5        12454 non-null  float64\n",
      " 24  view_AVERAGE         12454 non-null  float64\n",
      " 25  view_EXCELLENT       12454 non-null  float64\n",
      " 26  view_GOOD            12454 non-null  float64\n",
      " 27  view_NONE            12454 non-null  float64\n",
      " 28  grade_10_Very_Good   12454 non-null  float64\n",
      " 29  grade_11_Excellent   12454 non-null  float64\n",
      " 30  grade_5_Fair         12454 non-null  float64\n",
      " 31  grade_6_Low_Average  12454 non-null  float64\n",
      " 32  grade_7_Average      12454 non-null  float64\n",
      " 33  grade_8_Good         12454 non-null  float64\n",
      " 34  grade_9_Better       12454 non-null  float64\n",
      " 35  sqft_living          12454 non-null  float64\n",
      " 36  sqft_lot             12454 non-null  float64\n",
      "dtypes: float64(37)\n",
      "memory usage: 3.6 MB\n"
     ]
    }
   ],
   "source": [
    "all_features.info()"
   ]
  },
  {
   "cell_type": "code",
   "execution_count": 66,
   "metadata": {},
   "outputs": [
    {
     "name": "stdout",
     "output_type": "stream",
     "text": [
      "Model train score is: 0.39370942281923027\n",
      "Train r2_score is: 0.39370942281923027\n",
      "The train RMSE is: 139571.53375696248\n"
     ]
    }
   ],
   "source": [
    "scores(all_features, y_train)"
   ]
  },
  {
   "cell_type": "code",
   "execution_count": null,
   "metadata": {
    "scrolled": true
   },
   "outputs": [],
   "source": []
  },
  {
   "cell_type": "code",
   "execution_count": 67,
   "metadata": {},
   "outputs": [],
   "source": [
    "no_bathrooms = all_features[all_features.columns.drop(list(all_features.filter(regex='bathrooms')))]"
   ]
  },
  {
   "cell_type": "code",
   "execution_count": 68,
   "metadata": {},
   "outputs": [
    {
     "name": "stdout",
     "output_type": "stream",
     "text": [
      "Model train score is: 0.3854919722713067\n",
      "Train r2_score is: 0.3854919722713067\n",
      "The train RMSE is: 140701.2542754429\n"
     ]
    }
   ],
   "source": [
    "scores(no_bathrooms, y_train)"
   ]
  },
  {
   "cell_type": "code",
   "execution_count": 69,
   "metadata": {},
   "outputs": [],
   "source": [
    "no_bathrooms_bedrooms = no_bathrooms[no_bathrooms.columns.drop(\\\n",
    "                                    list(no_bathrooms.filter(regex= 'bedrooms')))]"
   ]
  },
  {
   "cell_type": "code",
   "execution_count": 70,
   "metadata": {},
   "outputs": [
    {
     "name": "stdout",
     "output_type": "stream",
     "text": [
      "Model train score is: 0.37879115489156634\n",
      "Train r2_score is: 0.37879115489156634\n",
      "The train RMSE is: 141360.59377223923\n"
     ]
    }
   ],
   "source": [
    "scores(no_bathrooms_bedrooms, y_train)"
   ]
  },
  {
   "cell_type": "code",
   "execution_count": 71,
   "metadata": {},
   "outputs": [],
   "source": [
    "no_bathrooms_bedrooms_lot = no_bathrooms_bedrooms.drop(columns = 'sqft_lot')"
   ]
  },
  {
   "cell_type": "code",
   "execution_count": 72,
   "metadata": {
    "scrolled": true
   },
   "outputs": [
    {
     "name": "stdout",
     "output_type": "stream",
     "text": [
      "Model train score is: 0.37874654155057386\n",
      "Train r2_score is: 0.37874654155057386\n",
      "The train RMSE is: 141354.75630318103\n"
     ]
    }
   ],
   "source": [
    "scores(no_bathrooms_bedrooms_lot, y_train)"
   ]
  },
  {
   "cell_type": "code",
   "execution_count": 73,
   "metadata": {},
   "outputs": [],
   "source": [
    "no_view = no_bathrooms_bedrooms_lot[no_bathrooms_bedrooms_lot.columns.drop(\\\n",
    "                                    list(no_bathrooms_bedrooms_lot.filter(regex= 'view')))]"
   ]
  },
  {
   "cell_type": "code",
   "execution_count": 74,
   "metadata": {},
   "outputs": [
    {
     "name": "stdout",
     "output_type": "stream",
     "text": [
      "Model train score is: 0.3647542411081257\n",
      "Train r2_score is: 0.3647542411081257\n",
      "The train RMSE is: 142870.5305731611\n"
     ]
    }
   ],
   "source": [
    "scores(no_view, y_train)"
   ]
  },
  {
   "cell_type": "code",
   "execution_count": 75,
   "metadata": {},
   "outputs": [],
   "source": [
    "no_grade = no_bathrooms_bedrooms_lot[no_bathrooms_bedrooms_lot.columns.drop(\\\n",
    "                                    list(no_bathrooms_bedrooms_lot.filter(regex= 'grade')))]"
   ]
  },
  {
   "cell_type": "code",
   "execution_count": 76,
   "metadata": {},
   "outputs": [
    {
     "name": "stdout",
     "output_type": "stream",
     "text": [
      "Model train score is: 0.3006383304409487\n",
      "Train r2_score is: 0.3006383304409487\n",
      "The train RMSE is: 149818.9828856358\n"
     ]
    }
   ],
   "source": [
    "scores(no_grade, y_train)"
   ]
  },
  {
   "cell_type": "markdown",
   "metadata": {},
   "source": [
    "Between looking at a model that has two features, we saw that dropping grade dropped the r2 to .36 versus when we dropped view which was .49."
   ]
  },
  {
   "cell_type": "markdown",
   "metadata": {},
   "source": [
    "Overall, we find that the model that explained te most variance in pricing is the model with all the features that we had chosen which is sqft_lot, bedrooms, bathrooms, view, grade and sqft_living. The main issue with this model is that the bedrooms and bathrooms are potentially multicolinear with sqft_living."
   ]
  },
  {
   "cell_type": "code",
   "execution_count": 77,
   "metadata": {},
   "outputs": [
    {
     "data": {
      "text/html": [
       "<table class=\"simpletable\">\n",
       "<caption>OLS Regression Results</caption>\n",
       "<tr>\n",
       "  <th>Dep. Variable:</th>          <td>price</td>      <th>  R-squared:         </th> <td>   0.394</td>\n",
       "</tr>\n",
       "<tr>\n",
       "  <th>Model:</th>                   <td>OLS</td>       <th>  Adj. R-squared:    </th> <td>   0.392</td>\n",
       "</tr>\n",
       "<tr>\n",
       "  <th>Method:</th>             <td>Least Squares</td>  <th>  F-statistic:       </th> <td>   217.9</td>\n",
       "</tr>\n",
       "<tr>\n",
       "  <th>Date:</th>             <td>Fri, 01 Apr 2022</td> <th>  Prob (F-statistic):</th>  <td>  0.00</td> \n",
       "</tr>\n",
       "<tr>\n",
       "  <th>Time:</th>                 <td>09:17:29</td>     <th>  Log-Likelihood:    </th> <td> -3477.7</td>\n",
       "</tr>\n",
       "<tr>\n",
       "  <th>No. Observations:</th>      <td> 12454</td>      <th>  AIC:               </th> <td>   7031.</td>\n",
       "</tr>\n",
       "<tr>\n",
       "  <th>Df Residuals:</th>          <td> 12416</td>      <th>  BIC:               </th> <td>   7314.</td>\n",
       "</tr>\n",
       "<tr>\n",
       "  <th>Df Model:</th>              <td>    37</td>      <th>                     </th>     <td> </td>   \n",
       "</tr>\n",
       "<tr>\n",
       "  <th>Covariance Type:</th>      <td>nonrobust</td>    <th>                     </th>     <td> </td>   \n",
       "</tr>\n",
       "</table>\n",
       "<table class=\"simpletable\">\n",
       "<tr>\n",
       "           <td></td>              <th>coef</th>     <th>std err</th>      <th>t</th>      <th>P>|t|</th>  <th>[0.025</th>    <th>0.975]</th>  \n",
       "</tr>\n",
       "<tr>\n",
       "  <th>const</th>               <td>   12.6262</td> <td>    0.307</td> <td>   41.158</td> <td> 0.000</td> <td>   12.025</td> <td>   13.228</td>\n",
       "</tr>\n",
       "<tr>\n",
       "  <th>bedrooms_1</th>          <td>   -0.0343</td> <td>    0.229</td> <td>   -0.150</td> <td> 0.881</td> <td>   -0.483</td> <td>    0.414</td>\n",
       "</tr>\n",
       "<tr>\n",
       "  <th>bedrooms_2</th>          <td>   -0.0186</td> <td>    0.227</td> <td>   -0.082</td> <td> 0.935</td> <td>   -0.464</td> <td>    0.426</td>\n",
       "</tr>\n",
       "<tr>\n",
       "  <th>bedrooms_3</th>          <td>   -0.1239</td> <td>    0.227</td> <td>   -0.546</td> <td> 0.585</td> <td>   -0.569</td> <td>    0.321</td>\n",
       "</tr>\n",
       "<tr>\n",
       "  <th>bedrooms_4</th>          <td>   -0.1217</td> <td>    0.227</td> <td>   -0.537</td> <td> 0.591</td> <td>   -0.566</td> <td>    0.323</td>\n",
       "</tr>\n",
       "<tr>\n",
       "  <th>bedrooms_5</th>          <td>   -0.1254</td> <td>    0.227</td> <td>   -0.553</td> <td> 0.581</td> <td>   -0.570</td> <td>    0.320</td>\n",
       "</tr>\n",
       "<tr>\n",
       "  <th>bedrooms_6</th>          <td>   -0.1066</td> <td>    0.229</td> <td>   -0.465</td> <td> 0.642</td> <td>   -0.555</td> <td>    0.342</td>\n",
       "</tr>\n",
       "<tr>\n",
       "  <th>bedrooms_7</th>          <td>   -0.3042</td> <td>    0.257</td> <td>   -1.183</td> <td> 0.237</td> <td>   -0.808</td> <td>    0.200</td>\n",
       "</tr>\n",
       "<tr>\n",
       "  <th>bathrooms_0.5</th>       <td>   -0.0167</td> <td>    0.373</td> <td>   -0.045</td> <td> 0.964</td> <td>   -0.747</td> <td>    0.714</td>\n",
       "</tr>\n",
       "<tr>\n",
       "  <th>bathrooms_0.75</th>      <td>    0.0180</td> <td>    0.195</td> <td>    0.092</td> <td> 0.926</td> <td>   -0.364</td> <td>    0.400</td>\n",
       "</tr>\n",
       "<tr>\n",
       "  <th>bathrooms_1.0</th>       <td>    0.0409</td> <td>    0.188</td> <td>    0.218</td> <td> 0.828</td> <td>   -0.328</td> <td>    0.410</td>\n",
       "</tr>\n",
       "<tr>\n",
       "  <th>bathrooms_1.25</th>      <td>    0.0063</td> <td>    0.236</td> <td>    0.027</td> <td> 0.979</td> <td>   -0.457</td> <td>    0.470</td>\n",
       "</tr>\n",
       "<tr>\n",
       "  <th>bathrooms_1.5</th>       <td>    0.0218</td> <td>    0.188</td> <td>    0.116</td> <td> 0.908</td> <td>   -0.347</td> <td>    0.391</td>\n",
       "</tr>\n",
       "<tr>\n",
       "  <th>bathrooms_1.75</th>      <td>    0.0589</td> <td>    0.188</td> <td>    0.313</td> <td> 0.754</td> <td>   -0.310</td> <td>    0.427</td>\n",
       "</tr>\n",
       "<tr>\n",
       "  <th>bathrooms_2.0</th>       <td>    0.0633</td> <td>    0.188</td> <td>    0.337</td> <td> 0.736</td> <td>   -0.305</td> <td>    0.432</td>\n",
       "</tr>\n",
       "<tr>\n",
       "  <th>bathrooms_2.25</th>      <td>    0.0084</td> <td>    0.188</td> <td>    0.044</td> <td> 0.965</td> <td>   -0.360</td> <td>    0.377</td>\n",
       "</tr>\n",
       "<tr>\n",
       "  <th>bathrooms_2.5</th>       <td>   -0.0419</td> <td>    0.188</td> <td>   -0.223</td> <td> 0.824</td> <td>   -0.410</td> <td>    0.327</td>\n",
       "</tr>\n",
       "<tr>\n",
       "  <th>bathrooms_2.75</th>      <td>    0.0317</td> <td>    0.188</td> <td>    0.169</td> <td> 0.866</td> <td>   -0.337</td> <td>    0.401</td>\n",
       "</tr>\n",
       "<tr>\n",
       "  <th>bathrooms_3.0</th>       <td>    0.0473</td> <td>    0.188</td> <td>    0.251</td> <td> 0.802</td> <td>   -0.322</td> <td>    0.416</td>\n",
       "</tr>\n",
       "<tr>\n",
       "  <th>bathrooms_3.25</th>      <td>    0.0750</td> <td>    0.190</td> <td>    0.395</td> <td> 0.693</td> <td>   -0.297</td> <td>    0.447</td>\n",
       "</tr>\n",
       "<tr>\n",
       "  <th>bathrooms_3.5</th>       <td>    0.0723</td> <td>    0.189</td> <td>    0.382</td> <td> 0.703</td> <td>   -0.299</td> <td>    0.443</td>\n",
       "</tr>\n",
       "<tr>\n",
       "  <th>bathrooms_3.75</th>      <td>    0.1504</td> <td>    0.198</td> <td>    0.760</td> <td> 0.447</td> <td>   -0.238</td> <td>    0.538</td>\n",
       "</tr>\n",
       "<tr>\n",
       "  <th>bathrooms_4.0</th>       <td>    0.1490</td> <td>    0.200</td> <td>    0.745</td> <td> 0.456</td> <td>   -0.243</td> <td>    0.541</td>\n",
       "</tr>\n",
       "<tr>\n",
       "  <th>bathrooms_4.25</th>      <td>    0.1067</td> <td>    0.247</td> <td>    0.432</td> <td> 0.666</td> <td>   -0.378</td> <td>    0.591</td>\n",
       "</tr>\n",
       "<tr>\n",
       "  <th>bathrooms_4.5</th>       <td>   -0.1453</td> <td>    0.217</td> <td>   -0.669</td> <td> 0.503</td> <td>   -0.571</td> <td>    0.280</td>\n",
       "</tr>\n",
       "<tr>\n",
       "  <th>view_AVERAGE</th>        <td>   -0.0556</td> <td>    0.030</td> <td>   -1.836</td> <td> 0.066</td> <td>   -0.115</td> <td>    0.004</td>\n",
       "</tr>\n",
       "<tr>\n",
       "  <th>view_EXCELLENT</th>      <td>    0.1285</td> <td>    0.048</td> <td>    2.692</td> <td> 0.007</td> <td>    0.035</td> <td>    0.222</td>\n",
       "</tr>\n",
       "<tr>\n",
       "  <th>view_GOOD</th>           <td>   -0.0525</td> <td>    0.036</td> <td>   -1.446</td> <td> 0.148</td> <td>   -0.124</td> <td>    0.019</td>\n",
       "</tr>\n",
       "<tr>\n",
       "  <th>view_NONE</th>           <td>   -0.1981</td> <td>    0.026</td> <td>   -7.490</td> <td> 0.000</td> <td>   -0.250</td> <td>   -0.146</td>\n",
       "</tr>\n",
       "<tr>\n",
       "  <th>grade_10_Very_Good</th>  <td>    0.9320</td> <td>    0.086</td> <td>   10.803</td> <td> 0.000</td> <td>    0.763</td> <td>    1.101</td>\n",
       "</tr>\n",
       "<tr>\n",
       "  <th>grade_11_Excellent</th>  <td>    1.0360</td> <td>    0.116</td> <td>    8.949</td> <td> 0.000</td> <td>    0.809</td> <td>    1.263</td>\n",
       "</tr>\n",
       "<tr>\n",
       "  <th>grade_5_Fair</th>        <td>    0.1508</td> <td>    0.085</td> <td>    1.774</td> <td> 0.076</td> <td>   -0.016</td> <td>    0.318</td>\n",
       "</tr>\n",
       "<tr>\n",
       "  <th>grade_6_Low_Average</th> <td>    0.2915</td> <td>    0.083</td> <td>    3.530</td> <td> 0.000</td> <td>    0.130</td> <td>    0.453</td>\n",
       "</tr>\n",
       "<tr>\n",
       "  <th>grade_7_Average</th>     <td>    0.5154</td> <td>    0.083</td> <td>    6.237</td> <td> 0.000</td> <td>    0.353</td> <td>    0.677</td>\n",
       "</tr>\n",
       "<tr>\n",
       "  <th>grade_8_Good</th>        <td>    0.6952</td> <td>    0.083</td> <td>    8.381</td> <td> 0.000</td> <td>    0.533</td> <td>    0.858</td>\n",
       "</tr>\n",
       "<tr>\n",
       "  <th>grade_9_Better</th>      <td>    0.8217</td> <td>    0.084</td> <td>    9.823</td> <td> 0.000</td> <td>    0.658</td> <td>    0.986</td>\n",
       "</tr>\n",
       "<tr>\n",
       "  <th>sqft_living</th>         <td>    0.1424</td> <td>    0.005</td> <td>   27.835</td> <td> 0.000</td> <td>    0.132</td> <td>    0.152</td>\n",
       "</tr>\n",
       "<tr>\n",
       "  <th>sqft_lot</th>            <td>    0.0011</td> <td>    0.003</td> <td>    0.389</td> <td> 0.697</td> <td>   -0.005</td> <td>    0.007</td>\n",
       "</tr>\n",
       "</table>\n",
       "<table class=\"simpletable\">\n",
       "<tr>\n",
       "  <th>Omnibus:</th>       <td>56.895</td> <th>  Durbin-Watson:     </th> <td>   1.986</td>\n",
       "</tr>\n",
       "<tr>\n",
       "  <th>Prob(Omnibus):</th> <td> 0.000</td> <th>  Jarque-Bera (JB):  </th> <td>  50.826</td>\n",
       "</tr>\n",
       "<tr>\n",
       "  <th>Skew:</th>          <td>-0.112</td> <th>  Prob(JB):          </th> <td>9.19e-12</td>\n",
       "</tr>\n",
       "<tr>\n",
       "  <th>Kurtosis:</th>      <td> 2.782</td> <th>  Cond. No.          </th> <td>    468.</td>\n",
       "</tr>\n",
       "</table><br/><br/>Notes:<br/>[1] Standard Errors assume that the covariance matrix of the errors is correctly specified."
      ],
      "text/plain": [
       "<class 'statsmodels.iolib.summary.Summary'>\n",
       "\"\"\"\n",
       "                            OLS Regression Results                            \n",
       "==============================================================================\n",
       "Dep. Variable:                  price   R-squared:                       0.394\n",
       "Model:                            OLS   Adj. R-squared:                  0.392\n",
       "Method:                 Least Squares   F-statistic:                     217.9\n",
       "Date:                Fri, 01 Apr 2022   Prob (F-statistic):               0.00\n",
       "Time:                        09:17:29   Log-Likelihood:                -3477.7\n",
       "No. Observations:               12454   AIC:                             7031.\n",
       "Df Residuals:                   12416   BIC:                             7314.\n",
       "Df Model:                          37                                         \n",
       "Covariance Type:            nonrobust                                         \n",
       "=======================================================================================\n",
       "                          coef    std err          t      P>|t|      [0.025      0.975]\n",
       "---------------------------------------------------------------------------------------\n",
       "const                  12.6262      0.307     41.158      0.000      12.025      13.228\n",
       "bedrooms_1             -0.0343      0.229     -0.150      0.881      -0.483       0.414\n",
       "bedrooms_2             -0.0186      0.227     -0.082      0.935      -0.464       0.426\n",
       "bedrooms_3             -0.1239      0.227     -0.546      0.585      -0.569       0.321\n",
       "bedrooms_4             -0.1217      0.227     -0.537      0.591      -0.566       0.323\n",
       "bedrooms_5             -0.1254      0.227     -0.553      0.581      -0.570       0.320\n",
       "bedrooms_6             -0.1066      0.229     -0.465      0.642      -0.555       0.342\n",
       "bedrooms_7             -0.3042      0.257     -1.183      0.237      -0.808       0.200\n",
       "bathrooms_0.5          -0.0167      0.373     -0.045      0.964      -0.747       0.714\n",
       "bathrooms_0.75          0.0180      0.195      0.092      0.926      -0.364       0.400\n",
       "bathrooms_1.0           0.0409      0.188      0.218      0.828      -0.328       0.410\n",
       "bathrooms_1.25          0.0063      0.236      0.027      0.979      -0.457       0.470\n",
       "bathrooms_1.5           0.0218      0.188      0.116      0.908      -0.347       0.391\n",
       "bathrooms_1.75          0.0589      0.188      0.313      0.754      -0.310       0.427\n",
       "bathrooms_2.0           0.0633      0.188      0.337      0.736      -0.305       0.432\n",
       "bathrooms_2.25          0.0084      0.188      0.044      0.965      -0.360       0.377\n",
       "bathrooms_2.5          -0.0419      0.188     -0.223      0.824      -0.410       0.327\n",
       "bathrooms_2.75          0.0317      0.188      0.169      0.866      -0.337       0.401\n",
       "bathrooms_3.0           0.0473      0.188      0.251      0.802      -0.322       0.416\n",
       "bathrooms_3.25          0.0750      0.190      0.395      0.693      -0.297       0.447\n",
       "bathrooms_3.5           0.0723      0.189      0.382      0.703      -0.299       0.443\n",
       "bathrooms_3.75          0.1504      0.198      0.760      0.447      -0.238       0.538\n",
       "bathrooms_4.0           0.1490      0.200      0.745      0.456      -0.243       0.541\n",
       "bathrooms_4.25          0.1067      0.247      0.432      0.666      -0.378       0.591\n",
       "bathrooms_4.5          -0.1453      0.217     -0.669      0.503      -0.571       0.280\n",
       "view_AVERAGE           -0.0556      0.030     -1.836      0.066      -0.115       0.004\n",
       "view_EXCELLENT          0.1285      0.048      2.692      0.007       0.035       0.222\n",
       "view_GOOD              -0.0525      0.036     -1.446      0.148      -0.124       0.019\n",
       "view_NONE              -0.1981      0.026     -7.490      0.000      -0.250      -0.146\n",
       "grade_10_Very_Good      0.9320      0.086     10.803      0.000       0.763       1.101\n",
       "grade_11_Excellent      1.0360      0.116      8.949      0.000       0.809       1.263\n",
       "grade_5_Fair            0.1508      0.085      1.774      0.076      -0.016       0.318\n",
       "grade_6_Low_Average     0.2915      0.083      3.530      0.000       0.130       0.453\n",
       "grade_7_Average         0.5154      0.083      6.237      0.000       0.353       0.677\n",
       "grade_8_Good            0.6952      0.083      8.381      0.000       0.533       0.858\n",
       "grade_9_Better          0.8217      0.084      9.823      0.000       0.658       0.986\n",
       "sqft_living             0.1424      0.005     27.835      0.000       0.132       0.152\n",
       "sqft_lot                0.0011      0.003      0.389      0.697      -0.005       0.007\n",
       "==============================================================================\n",
       "Omnibus:                       56.895   Durbin-Watson:                   1.986\n",
       "Prob(Omnibus):                  0.000   Jarque-Bera (JB):               50.826\n",
       "Skew:                          -0.112   Prob(JB):                     9.19e-12\n",
       "Kurtosis:                       2.782   Cond. No.                         468.\n",
       "==============================================================================\n",
       "\n",
       "Notes:\n",
       "[1] Standard Errors assume that the covariance matrix of the errors is correctly specified.\n",
       "\"\"\""
      ]
     },
     "execution_count": 77,
     "metadata": {},
     "output_type": "execute_result"
    }
   ],
   "source": [
    "#our all features model in statmodel\n",
    "#statmodel version\n",
    "all_var = sm.OLS(y_train, sm.add_constant(all_features)).fit()\n",
    "all_var.summary()"
   ]
  },
  {
   "cell_type": "markdown",
   "metadata": {},
   "source": [
    "##### Explain the coefficients of this model here and rmse of it which is \\\\$139571.53375696248"
   ]
  },
  {
   "cell_type": "markdown",
   "metadata": {},
   "source": [
    "## Testing best model on test data"
   ]
  },
  {
   "cell_type": "code",
   "execution_count": 78,
   "metadata": {},
   "outputs": [],
   "source": [
    "def test_scores(x_test,y_test):\n",
    "    \n",
    "    model = LinearRegression()\n",
    "    model.fit(all_features, y_train) #input the correct X_train to create the right model\n",
    "    \n",
    "    test_preds = model.predict(x_test)\n",
    "    \n",
    "    result1 = model.score(x_test,y_test)\n",
    "    result2 = r2_score(y_test,test_preds)\n",
    "    rmse = mean_squared_error(np.exp(y_test), np.exp(test_preds), squared=False)\n",
    "    \n",
    "    print(\"Model test score is:\", result1) \n",
    "    print(\"Test r2_score is:\", result2)\n",
    "    print(\"The test data RMSE is:\" , rmse)"
   ]
  },
  {
   "cell_type": "markdown",
   "metadata": {},
   "source": [
    "The train model that had all features was had the highest r2 of about 0.4. As such, we will run our test data on this model to see what percentage of the variance we see in our price is explained by these features."
   ]
  },
  {
   "cell_type": "code",
   "execution_count": 79,
   "metadata": {},
   "outputs": [
    {
     "name": "stdout",
     "output_type": "stream",
     "text": [
      "Model train score is: 0.39370942281923027\n",
      "Train r2_score is: 0.39370942281923027\n",
      "The train RMSE is: 139571.53375696248\n"
     ]
    }
   ],
   "source": [
    "#train data score\n",
    "scores(all_features, y_train)"
   ]
  },
  {
   "cell_type": "markdown",
   "metadata": {},
   "source": [
    "### SOMEONE FIX THE CODE BELOW SO IT RUN "
   ]
  },
  {
   "cell_type": "code",
   "execution_count": 80,
   "metadata": {
    "scrolled": false
   },
   "outputs": [
    {
     "name": "stdout",
     "output_type": "stream",
     "text": [
      "Model test score is: 0.39602260288483715\n",
      "Test r2_score is: 0.39602260288483715\n",
      "The test data RMSE is: 139051.78478990105\n"
     ]
    }
   ],
   "source": [
    "#test data score\n",
    "test_scores(scaled_test_df, y_test)"
   ]
  },
  {
   "cell_type": "markdown",
   "metadata": {},
   "source": [
    "#### Comparision of the r2 of test and train model here"
   ]
  },
  {
   "cell_type": "markdown",
   "metadata": {},
   "source": [
    "## Statistical Analysis of View and Grade"
   ]
  },
  {
   "cell_type": "markdown",
   "metadata": {},
   "source": [
    "###  View"
   ]
  },
  {
   "cell_type": "markdown",
   "metadata": {},
   "source": [
    "is there a difference between those that have a view versus those that don't"
   ]
  },
  {
   "cell_type": "code",
   "execution_count": 81,
   "metadata": {},
   "outputs": [
    {
     "data": {
      "text/html": [
       "<div>\n",
       "<style scoped>\n",
       "    .dataframe tbody tr th:only-of-type {\n",
       "        vertical-align: middle;\n",
       "    }\n",
       "\n",
       "    .dataframe tbody tr th {\n",
       "        vertical-align: top;\n",
       "    }\n",
       "\n",
       "    .dataframe thead tr th {\n",
       "        text-align: left;\n",
       "    }\n",
       "\n",
       "    .dataframe thead tr:last-of-type th {\n",
       "        text-align: right;\n",
       "    }\n",
       "</style>\n",
       "<table border=\"1\" class=\"dataframe\">\n",
       "  <thead>\n",
       "    <tr>\n",
       "      <th></th>\n",
       "      <th colspan=\"2\" halign=\"left\">price</th>\n",
       "      <th colspan=\"2\" halign=\"left\">sqft_living</th>\n",
       "      <th colspan=\"2\" halign=\"left\">sqft_lot</th>\n",
       "    </tr>\n",
       "    <tr>\n",
       "      <th></th>\n",
       "      <th>mean</th>\n",
       "      <th>std</th>\n",
       "      <th>mean</th>\n",
       "      <th>std</th>\n",
       "      <th>mean</th>\n",
       "      <th>std</th>\n",
       "    </tr>\n",
       "    <tr>\n",
       "      <th>view</th>\n",
       "      <th></th>\n",
       "      <th></th>\n",
       "      <th></th>\n",
       "      <th></th>\n",
       "      <th></th>\n",
       "      <th></th>\n",
       "    </tr>\n",
       "  </thead>\n",
       "  <tbody>\n",
       "    <tr>\n",
       "      <th>AVERAGE</th>\n",
       "      <td>13.18</td>\n",
       "      <td>0.35</td>\n",
       "      <td>2079.48</td>\n",
       "      <td>633.26</td>\n",
       "      <td>20905.78</td>\n",
       "      <td>54846.81</td>\n",
       "    </tr>\n",
       "    <tr>\n",
       "      <th>EXCELLENT</th>\n",
       "      <td>13.36</td>\n",
       "      <td>0.30</td>\n",
       "      <td>2105.09</td>\n",
       "      <td>647.35</td>\n",
       "      <td>20259.54</td>\n",
       "      <td>30854.82</td>\n",
       "    </tr>\n",
       "    <tr>\n",
       "      <th>FAIR</th>\n",
       "      <td>13.21</td>\n",
       "      <td>0.34</td>\n",
       "      <td>2087.95</td>\n",
       "      <td>641.49</td>\n",
       "      <td>12078.11</td>\n",
       "      <td>20053.50</td>\n",
       "    </tr>\n",
       "    <tr>\n",
       "      <th>GOOD</th>\n",
       "      <td>13.23</td>\n",
       "      <td>0.33</td>\n",
       "      <td>2239.90</td>\n",
       "      <td>573.57</td>\n",
       "      <td>39572.01</td>\n",
       "      <td>126774.88</td>\n",
       "    </tr>\n",
       "    <tr>\n",
       "      <th>NONE</th>\n",
       "      <td>12.91</td>\n",
       "      <td>0.41</td>\n",
       "      <td>1825.96</td>\n",
       "      <td>618.75</td>\n",
       "      <td>12539.81</td>\n",
       "      <td>31478.68</td>\n",
       "    </tr>\n",
       "  </tbody>\n",
       "</table>\n",
       "</div>"
      ],
      "text/plain": [
       "          price      sqft_living        sqft_lot          \n",
       "           mean  std        mean    std     mean       std\n",
       "view                                                      \n",
       "AVERAGE   13.18 0.35     2079.48 633.26 20905.78  54846.81\n",
       "EXCELLENT 13.36 0.30     2105.09 647.35 20259.54  30854.82\n",
       "FAIR      13.21 0.34     2087.95 641.49 12078.11  20053.50\n",
       "GOOD      13.23 0.33     2239.90 573.57 39572.01 126774.88\n",
       "NONE      12.91 0.41     1825.96 618.75 12539.81  31478.68"
      ]
     },
     "execution_count": 81,
     "metadata": {},
     "output_type": "execute_result"
    }
   ],
   "source": [
    "summary_of_view = df_copy.groupby('view').agg(['mean', 'std'])\n",
    "\n",
    "summary_of_view"
   ]
  },
  {
   "cell_type": "code",
   "execution_count": 82,
   "metadata": {},
   "outputs": [],
   "source": [
    "#Created for analysis only\n",
    "#should not be used anywhere else in the project besised t-tests\n",
    "train_df = pd.concat([X_train, y_train], axis=1)"
   ]
  },
  {
   "cell_type": "code",
   "execution_count": 83,
   "metadata": {},
   "outputs": [],
   "source": [
    "# Figure out how to do this in a loop/function?\n",
    "df_average = train_df[train_df['view'] == 'AVERAGE']\n",
    "df_excellent = train_df[train_df['view'] == 'EXCELLENT']\n",
    "df_fair = train_df[train_df['view'] == 'FAIR']\n",
    "df_good = train_df[train_df['view'] == 'GOOD']\n",
    "df_none = train_df[train_df['view'] == 'NONE']"
   ]
  },
  {
   "cell_type": "code",
   "execution_count": 84,
   "metadata": {},
   "outputs": [],
   "source": [
    "fvalue, pvalue = stats.f_oneway(df_average['price'], df_excellent['price'], df_fair['price'],\n",
    "                                df_good['price'] , df_none['price'])"
   ]
  },
  {
   "cell_type": "code",
   "execution_count": 85,
   "metadata": {
    "scrolled": true
   },
   "outputs": [
    {
     "name": "stdout",
     "output_type": "stream",
     "text": [
      "   Multiple Comparison of Means - Tukey HSD, FWER=0.05    \n",
      "==========================================================\n",
      "  group1    group2  meandiff p-adj   lower   upper  reject\n",
      "----------------------------------------------------------\n",
      "  AVERAGE EXCELLENT   0.2006 0.0017  0.0543  0.3468   True\n",
      "  AVERAGE      FAIR   0.0354  0.879 -0.0686  0.1393  False\n",
      "  AVERAGE      GOOD   0.0632 0.4252 -0.0372  0.1636  False\n",
      "  AVERAGE      NONE  -0.2652  0.001 -0.3184  -0.212   True\n",
      "EXCELLENT      FAIR  -0.1652 0.0465 -0.3288 -0.0016   True\n",
      "EXCELLENT      GOOD  -0.1374 0.1374 -0.2987   0.024  False\n",
      "EXCELLENT      NONE  -0.4658  0.001 -0.6028 -0.3287   True\n",
      "     FAIR      GOOD   0.0278    0.9 -0.0965  0.1521  False\n",
      "     FAIR      NONE  -0.3005  0.001 -0.3911   -0.21   True\n",
      "     GOOD      NONE  -0.3284  0.001 -0.4148  -0.242   True\n",
      "----------------------------------------------------------\n"
     ]
    }
   ],
   "source": [
    "df_view = train_df[['view', 'price']]\n",
    "\n",
    "print(pairwise_tukeyhsd(df_view['price'], df_view['view']))"
   ]
  },
  {
   "cell_type": "markdown",
   "metadata": {},
   "source": [
    "Average - Fair , Average - Good, Excellent-good and Fair-Good are not statistically different from each other. BUT we should still note that Excellent-good has a p-value of 0.14, which may be considered statistically significant depending on the alpha set. For our purposes, we will not consider it significant as we set alpha to 0.05."
   ]
  },
  {
   "cell_type": "code",
   "execution_count": 86,
   "metadata": {},
   "outputs": [],
   "source": [
    "train_copy = train_df.copy()"
   ]
  },
  {
   "cell_type": "code",
   "execution_count": 87,
   "metadata": {},
   "outputs": [],
   "source": [
    "train_copy.price = np.exp(train_copy.price)"
   ]
  },
  {
   "cell_type": "code",
   "execution_count": 88,
   "metadata": {},
   "outputs": [],
   "source": [
    "view_graph = train_copy.groupby('view').mean()"
   ]
  },
  {
   "cell_type": "code",
   "execution_count": 89,
   "metadata": {},
   "outputs": [],
   "source": [
    "view_graph.sort_values('price', ascending= True, inplace = True)"
   ]
  },
  {
   "cell_type": "code",
   "execution_count": 90,
   "metadata": {},
   "outputs": [
    {
     "data": {
      "text/html": [
       "<div>\n",
       "<style scoped>\n",
       "    .dataframe tbody tr th:only-of-type {\n",
       "        vertical-align: middle;\n",
       "    }\n",
       "\n",
       "    .dataframe tbody tr th {\n",
       "        vertical-align: top;\n",
       "    }\n",
       "\n",
       "    .dataframe thead th {\n",
       "        text-align: right;\n",
       "    }\n",
       "</style>\n",
       "<table border=\"1\" class=\"dataframe\">\n",
       "  <thead>\n",
       "    <tr style=\"text-align: right;\">\n",
       "      <th></th>\n",
       "      <th>sqft_living</th>\n",
       "      <th>sqft_lot</th>\n",
       "      <th>price</th>\n",
       "    </tr>\n",
       "    <tr>\n",
       "      <th>view</th>\n",
       "      <th></th>\n",
       "      <th></th>\n",
       "      <th></th>\n",
       "    </tr>\n",
       "  </thead>\n",
       "  <tbody>\n",
       "    <tr>\n",
       "      <th>NONE</th>\n",
       "      <td>1817.65</td>\n",
       "      <td>12543.44</td>\n",
       "      <td>437234.30</td>\n",
       "    </tr>\n",
       "    <tr>\n",
       "      <th>AVERAGE</th>\n",
       "      <td>2092.06</td>\n",
       "      <td>21635.36</td>\n",
       "      <td>557868.05</td>\n",
       "    </tr>\n",
       "    <tr>\n",
       "      <th>FAIR</th>\n",
       "      <td>2072.67</td>\n",
       "      <td>12688.69</td>\n",
       "      <td>572245.86</td>\n",
       "    </tr>\n",
       "    <tr>\n",
       "      <th>GOOD</th>\n",
       "      <td>2219.92</td>\n",
       "      <td>43259.26</td>\n",
       "      <td>586699.61</td>\n",
       "    </tr>\n",
       "    <tr>\n",
       "      <th>EXCELLENT</th>\n",
       "      <td>2132.55</td>\n",
       "      <td>15822.12</td>\n",
       "      <td>668882.85</td>\n",
       "    </tr>\n",
       "  </tbody>\n",
       "</table>\n",
       "</div>"
      ],
      "text/plain": [
       "           sqft_living  sqft_lot     price\n",
       "view                                      \n",
       "NONE           1817.65  12543.44 437234.30\n",
       "AVERAGE        2092.06  21635.36 557868.05\n",
       "FAIR           2072.67  12688.69 572245.86\n",
       "GOOD           2219.92  43259.26 586699.61\n",
       "EXCELLENT      2132.55  15822.12 668882.85"
      ]
     },
     "execution_count": 90,
     "metadata": {},
     "output_type": "execute_result"
    }
   ],
   "source": [
    "view_graph"
   ]
  },
  {
   "cell_type": "code",
   "execution_count": 91,
   "metadata": {},
   "outputs": [
    {
     "data": {
      "text/plain": [
       "<BarContainer object of 5 artists>"
      ]
     },
     "execution_count": 91,
     "metadata": {},
     "output_type": "execute_result"
    },
    {
     "data": {
      "image/png": "[encoded data removed]",
      "text/plain": [
       "<Figure size 1080x720 with 1 Axes>"
      ]
     },
     "metadata": {
      "needs_background": "light"
     },
     "output_type": "display_data"
    }
   ],
   "source": [
    "fig, ax = plt.subplots(figsize = (15, 10))\n",
    "\n",
    "x = view_graph.index\n",
    "y = view_graph['price'] \n",
    "ax.yaxis.set_major_formatter(ticker.StrMethodFormatter('${x:,.0f}'))\n",
    "\n",
    "ax.set_title('View VS Sale Price', fontsize='20', pad=10)\n",
    "ax.set_xlabel('View', fontsize='16', labelpad=20)\n",
    "ax.set_ylabel('Sale Price', fontsize='16', labelpad=20)\n",
    "ax.set_ylim([400000, 715000])\n",
    "\n",
    "\n",
    "ax.bar(x, y, color='coral')\n",
    "\n",
    "#plt.savefig('./images/view.png')"
   ]
  },
  {
   "cell_type": "markdown",
   "metadata": {},
   "source": [
    "### `grade` Analysis"
   ]
  },
  {
   "cell_type": "markdown",
   "metadata": {},
   "source": [
    " Is there a difference between grades"
   ]
  },
  {
   "cell_type": "code",
   "execution_count": 92,
   "metadata": {},
   "outputs": [],
   "source": [
    "# Might need a for loop or a function here\n",
    "df_10 = train_df[train_df['grade'] == '10_Very_Good']\n",
    "df_11 = train_df[train_df['grade'] == '11_Excellent']\n",
    "df_4 = train_df[train_df['grade'] == '4_Low']\n",
    "df_5 = train_df[train_df['grade'] == '5_Fair']\n",
    "df_6 = train_df[train_df['grade'] == '6_Low_Average']\n",
    "df_7 = train_df[train_df['grade'] == '7_Average']\n",
    "df_8 = train_df[train_df['grade'] == '8_Good']\n",
    "df_9 = train_df[train_df['grade'] == '9_Better']"
   ]
  },
  {
   "cell_type": "code",
   "execution_count": 93,
   "metadata": {},
   "outputs": [
    {
     "data": {
      "text/plain": [
       "0.0"
      ]
     },
     "execution_count": 93,
     "metadata": {},
     "output_type": "execute_result"
    }
   ],
   "source": [
    "f_value_grade, p_value_grade = stats.f_oneway(df_10['price'], df_11['price'],\n",
    "                                              df_4['price'], df_5['price'], df_6['price'],\n",
    "                                              df_7['price'], df_8['price'], df_9['price'])\n",
    "p_value_grade"
   ]
  },
  {
   "cell_type": "code",
   "execution_count": 94,
   "metadata": {},
   "outputs": [
    {
     "name": "stdout",
     "output_type": "stream",
     "text": [
      "       Multiple Comparison of Means - Tukey HSD, FWER=0.05        \n",
      "==================================================================\n",
      "    group1        group2    meandiff p-adj   lower   upper  reject\n",
      "------------------------------------------------------------------\n",
      " 10_Very_Good  11_Excellent   0.1517 0.6535 -0.1163  0.4196  False\n",
      " 10_Very_Good         4_Low  -1.2997  0.001 -1.5602 -1.0392   True\n",
      " 10_Very_Good        5_Fair  -1.1026  0.001 -1.2107 -0.9945   True\n",
      " 10_Very_Good 6_Low_Average    -0.94  0.001 -1.0168 -0.8632   True\n",
      " 10_Very_Good     7_Average  -0.6488  0.001 -0.7215 -0.5761   True\n",
      " 10_Very_Good        8_Good   -0.389  0.001 -0.4624 -0.3156   True\n",
      " 10_Very_Good      9_Better  -0.1646  0.001 -0.2424 -0.0869   True\n",
      " 11_Excellent         4_Low  -1.4513  0.001 -1.8111 -1.0916   True\n",
      " 11_Excellent        5_Fair  -1.2543  0.001 -1.5249 -0.9836   True\n",
      " 11_Excellent 6_Low_Average  -1.0917  0.001 -1.3514 -0.8319   True\n",
      " 11_Excellent     7_Average  -0.8005  0.001 -1.0591 -0.5419   True\n",
      " 11_Excellent        8_Good  -0.5407  0.001 -0.7994 -0.2819   True\n",
      " 11_Excellent      9_Better  -0.3163 0.0056 -0.5763 -0.0563   True\n",
      "        4_Low        5_Fair    0.197 0.3113 -0.0663  0.4604  False\n",
      "        4_Low 6_Low_Average   0.3597  0.001  0.1076  0.6117   True\n",
      "        4_Low     7_Average   0.6508  0.001     0.4  0.9017   True\n",
      "        4_Low        8_Good   0.9107  0.001  0.6596  1.1617   True\n",
      "        4_Low      9_Better    1.135  0.001  0.8827  1.3874   True\n",
      "       5_Fair 6_Low_Average   0.1626  0.001  0.0767  0.2485   True\n",
      "       5_Fair     7_Average   0.4538  0.001  0.3715   0.536   True\n",
      "       5_Fair        8_Good   0.7136  0.001  0.6307  0.7965   True\n",
      "       5_Fair      9_Better    0.938  0.001  0.8512  1.0247   True\n",
      "6_Low_Average     7_Average   0.2912  0.001    0.26  0.3223   True\n",
      "6_Low_Average        8_Good    0.551  0.001  0.5182  0.5838   True\n",
      "6_Low_Average      9_Better   0.7754  0.001  0.7338  0.8169   True\n",
      "    7_Average        8_Good   0.2598  0.001  0.2381  0.2815   True\n",
      "    7_Average      9_Better   0.4842  0.001  0.4507  0.5177   True\n",
      "       8_Good      9_Better   0.2244  0.001  0.1893  0.2594   True\n",
      "------------------------------------------------------------------\n"
     ]
    }
   ],
   "source": [
    "# Ad-hoc test to determine differeces in price vs. grade\n",
    "\n",
    "df_grade = train_df[['grade', 'price']]\n",
    "\n",
    "print(pairwise_tukeyhsd(train_df['price'], train_df['grade']))"
   ]
  },
  {
   "cell_type": "markdown",
   "metadata": {},
   "source": [
    "#### talk about what you see with the tukey test"
   ]
  },
  {
   "cell_type": "code",
   "execution_count": 95,
   "metadata": {},
   "outputs": [],
   "source": [
    "grade_graph = train_copy.groupby('grade').mean()"
   ]
  },
  {
   "cell_type": "code",
   "execution_count": 96,
   "metadata": {},
   "outputs": [],
   "source": [
    "grade_graph.sort_values('price', ascending= True, inplace = True)"
   ]
  },
  {
   "cell_type": "code",
   "execution_count": 97,
   "metadata": {},
   "outputs": [
    {
     "name": "stderr",
     "output_type": "stream",
     "text": [
      "<ipython-input-97-d66e45079325>:13: UserWarning: FixedFormatter should only be used together with FixedLocator\n",
      "  ax.set_xticklabels(grade_ticks, fontsize='13')\n",
      "<ipython-input-97-d66e45079325>:14: UserWarning: FixedFormatter should only be used together with FixedLocator\n",
      "  ax.set_yticklabels(price_ticks, fontsize='13')\n"
     ]
    },
    {
     "data": {
      "image/png": "[encoded data removed]",
      "text/plain": [
       "<Figure size 1080x720 with 1 Axes>"
      ]
     },
     "metadata": {
      "needs_background": "light"
     },
     "output_type": "display_data"
    }
   ],
   "source": [
    "fig, ax = plt.subplots(figsize = (15, 10))\n",
    "\n",
    "grade_ticks = [\"Low\", \"Fair\", \"Low-Average\", \"Average\", \"Good\", \"Better\", \"Very Good\", \"Excellent\"]\n",
    "price_ticks = [\"$0\", \"$100,000\", \"$200,000\", \"$300,000\", \"$400,000\",\n",
    "               \"$500,000\", \"$600,000\",\"$700,000\", \"$800,000\"]\n",
    "\n",
    "x = grade_graph.index\n",
    "y = grade_graph['price'] \n",
    "\n",
    "ax.yaxis.set_major_formatter(ticker.StrMethodFormatter('${x:,.0f}'))\n",
    "\n",
    "ax.set_title('Grade versus Sale Price', fontsize='20', pad=10)\n",
    "ax.set_xticklabels(grade_ticks, fontsize='13')\n",
    "ax.set_yticklabels(price_ticks, fontsize='13')\n",
    "ax.set_xlabel('Grade', fontsize='16', labelpad=20)\n",
    "ax.set_ylabel('Sale Price', fontsize='16', labelpad=20)\n",
    "\n",
    "\n",
    "ax.bar(x, y, color='coral')\n",
    "\n",
    "plt.savefig('./images/grade.png')"
   ]
  },
  {
   "cell_type": "markdown",
   "metadata": {},
   "source": [
    "### `sqft_living` Analysis"
   ]
  },
  {
   "cell_type": "markdown",
   "metadata": {},
   "source": [
    "if you guys plan on putting something here"
   ]
  },
  {
   "cell_type": "code",
   "execution_count": 98,
   "metadata": {},
   "outputs": [
    {
     "data": {
      "image/png": "[encoded data removed]",
      "text/plain": [
       "<Figure size 1080x720 with 1 Axes>"
      ]
     },
     "metadata": {
      "needs_background": "light"
     },
     "output_type": "display_data"
    }
   ],
   "source": [
    "fig, ax = plt.subplots(figsize=(15,10))\n",
    "\n",
    "x = X_train['sqft_living']\n",
    "y = np.exp(y_train) \n",
    "\n",
    "\n",
    "m,b = np.polyfit(x, y, 1)\n",
    "plt.plot(x, m*x + b, c=\"black\")\n",
    "\n",
    "\n",
    "ax.set_ylim([0,1100000])\n",
    "\n",
    "ax.yaxis.set_major_formatter(ticker.StrMethodFormatter('${x:,.0f}'))\n",
    "ax.xaxis.set_major_formatter(ticker.StrMethodFormatter('{x:,.0f}'));\n",
    "\n",
    "ax.set_title('Correlation Between Sqft Living & Sale Price', fontsize='20', pad=10)\n",
    "ax.set_xlabel('Living Area (sqft)', fontsize='16', labelpad=20)\n",
    "ax.set_ylabel('Sale Price', fontsize='16', labelpad=20)\n",
    "\n",
    "plt.legend(['Predicted Price'])\n",
    "\n",
    "ax.scatter(x, y, color='coral');\n",
    "plt.savefig('./images/sqftliving.png')"
   ]
  },
  {
   "cell_type": "markdown",
   "metadata": {},
   "source": [
    "# Potential Next Steps"
   ]
  },
  {
   "cell_type": "markdown",
   "metadata": {},
   "source": [
    "- `bathrooms` and `bedrooms` - they are collinear with variables like `sqft_living`, which prevented us from including them in our model, but they might be useful avenues for further exploration.\n",
    "- `waterfront` - our EDA demonstrated a significant difference in `price` between homes with waterfront views vs. homes without; it may be worth further exploring what development opportunities exist in waterfront areas.\n",
    "- `zipcode` - taking a look at what neighborhoods/geographic areas yield high sale prices.\n",
    "    - Look at interaction items: if homes with `EXCELLENT` views are concentrated in certain areas, perhaps."
   ]
  }
 ],
 "metadata": {
  "kernelspec": {
   "display_name": "Python (learn-env)",
   "language": "python",
   "name": "learn-env"
  },
  "language_info": {
   "codemirror_mode": {
    "name": "ipython",
    "version": 3
   },
   "file_extension": ".py",
   "mimetype": "text/x-python",
   "name": "python",
   "nbconvert_exporter": "python",
   "pygments_lexer": "ipython3",
   "version": "3.8.5"
  },
  "toc": {
   "base_numbering": 1,
   "nav_menu": {},
   "number_sections": true,
   "sideBar": true,
   "skip_h1_title": false,
   "title_cell": "Table of Contents",
   "title_sidebar": "Contents",
   "toc_cell": false,
   "toc_position": {
    "height": "calc(100% - 180px)",
    "left": "10px",
    "top": "150px",
    "width": "266px"
   },
   "toc_section_display": true,
   "toc_window_display": true
  },
  "varInspector": {
   "cols": {
    "lenName": 16,
    "lenType": 16,
    "lenVar": 40
   },
   "kernels_config": {
    "python": {
     "delete_cmd_postfix": "",
     "delete_cmd_prefix": "del ",
     "library": "var_list.py",
     "varRefreshCmd": "print(var_dic_list())"
    },
    "r": {
     "delete_cmd_postfix": ") ",
     "delete_cmd_prefix": "rm(",
     "library": "var_list.r",
     "varRefreshCmd": "cat(var_dic_list()) "
    }
   },
   "position": {
    "height": "293.844px",
    "left": "910px",
    "right": "20px",
    "top": "120px",
    "width": "350px"
   },
   "types_to_exclude": [
    "module",
    "function",
    "builtin_function_or_method",
    "instance",
    "_Feature"
   ],
   "window_display": false
  }
 },
 "nbformat": 4,
 "nbformat_minor": 4
}
