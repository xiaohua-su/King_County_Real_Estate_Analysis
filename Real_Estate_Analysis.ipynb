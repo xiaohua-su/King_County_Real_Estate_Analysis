{
 "cells": [
  {
   "cell_type": "markdown",
   "metadata": {},
   "source": [
    "# Analysis of Real Estate Prices and Features in King County, Seattle "
   ]
  },
  {
   "cell_type": "markdown",
   "metadata": {},
   "source": [
    "## Overview"
   ]
  },
  {
   "cell_type": "markdown",
   "metadata": {},
   "source": [
    "Recommendations:\n",
    "\n",
    "- 1\n",
    "- 2\n",
    "- 3"
   ]
  },
  {
   "cell_type": "markdown",
   "metadata": {},
   "source": [
    "## Business Problem"
   ]
  },
  {
   "cell_type": "markdown",
   "metadata": {},
   "source": [
    "A real estate agency is looking to provide advice to homeowners looking to increase the values of their homes. We are seeking to identify several variables that can **predict** what a home's sale price can be.\n",
    "\n",
    "**Alternately:** If a customer is looking to purchase land without a house already on the lot, our recommendations will help home builders maximize their profits by helping builders identify which predictor variables to focus on."
   ]
  },
  {
   "cell_type": "markdown",
   "metadata": {},
   "source": [
    "## Importing Packages and Libraries"
   ]
  },
  {
   "cell_type": "code",
   "execution_count": 1,
   "metadata": {},
   "outputs": [],
   "source": [
    "import pandas as pd\n",
    "import numpy as np\n",
    "import matplotlib.pyplot as plt\n",
    "import seaborn as sns\n",
    "from scipy import stats\n",
    "\n",
    "from sklearn.preprocessing import OneHotEncoder, StandardScaler\n",
    "from sklearn.datasets import make_regression\n",
    "from sklearn.linear_model import LinearRegression\n",
    "from sklearn.dummy import DummyRegressor\n",
    "import sklearn.metrics as metrics\n",
    "\n",
    "# from random import gauss\n",
    "# from mpl_toolkits.mplot3d import Axes3D\n",
    "\n",
    "from statsmodels.formula.api import ols\n",
    "import statsmodels.api as sm\n",
    "\n",
    "from statsmodels.stats.multicomp import pairwise_tukeyhsd\n",
    "from sklearn.model_selection import train_test_split\n",
    "\n",
    "%matplotlib inline"
   ]
  },
  {
   "cell_type": "markdown",
   "metadata": {},
   "source": [
    "...and some formatting options."
   ]
  },
  {
   "cell_type": "code",
   "execution_count": 2,
   "metadata": {},
   "outputs": [],
   "source": [
    "# Shows *all* columns in dataframe, i.e. does not truncate horizontally\n",
    "pd.set_option('display.max_columns', None)\n",
    "\n",
    "# Converts from scientific notation to standard form (applied to every df in\n",
    "# this notebook) and rounds to two decimal places\n",
    "pd.set_option('display.float_format', lambda x: '%.2f' % x)"
   ]
  },
  {
   "cell_type": "markdown",
   "metadata": {},
   "source": [
    "Below, we read in the data and check out some of its basic features: column names, null values, data types, etc."
   ]
  },
  {
   "cell_type": "code",
   "execution_count": 3,
   "metadata": {},
   "outputs": [
    {
     "data": {
      "text/plain": [
       "Index(['id', 'date', 'price', 'bedrooms', 'bathrooms', 'sqft_living',\n",
       "       'sqft_lot', 'floors', 'waterfront', 'view', 'condition', 'grade',\n",
       "       'sqft_above', 'sqft_basement', 'yr_built', 'yr_renovated', 'zipcode',\n",
       "       'lat', 'long', 'sqft_living15', 'sqft_lot15'],\n",
       "      dtype='object')"
      ]
     },
     "execution_count": 3,
     "metadata": {},
     "output_type": "execute_result"
    }
   ],
   "source": [
    "df = pd.read_csv('./data/kc_house_data.csv')\n",
    "\n",
    "# Listing out column names\n",
    "df.columns"
   ]
  },
  {
   "cell_type": "code",
   "execution_count": 4,
   "metadata": {
    "scrolled": true
   },
   "outputs": [
    {
     "data": {
      "text/html": [
       "<div>\n",
       "<style scoped>\n",
       "    .dataframe tbody tr th:only-of-type {\n",
       "        vertical-align: middle;\n",
       "    }\n",
       "\n",
       "    .dataframe tbody tr th {\n",
       "        vertical-align: top;\n",
       "    }\n",
       "\n",
       "    .dataframe thead th {\n",
       "        text-align: right;\n",
       "    }\n",
       "</style>\n",
       "<table border=\"1\" class=\"dataframe\">\n",
       "  <thead>\n",
       "    <tr style=\"text-align: right;\">\n",
       "      <th></th>\n",
       "      <th>id</th>\n",
       "      <th>price</th>\n",
       "      <th>bedrooms</th>\n",
       "      <th>bathrooms</th>\n",
       "      <th>sqft_living</th>\n",
       "      <th>sqft_lot</th>\n",
       "      <th>floors</th>\n",
       "      <th>sqft_above</th>\n",
       "      <th>yr_built</th>\n",
       "      <th>yr_renovated</th>\n",
       "      <th>zipcode</th>\n",
       "      <th>lat</th>\n",
       "      <th>long</th>\n",
       "      <th>sqft_living15</th>\n",
       "      <th>sqft_lot15</th>\n",
       "    </tr>\n",
       "  </thead>\n",
       "  <tbody>\n",
       "    <tr>\n",
       "      <th>count</th>\n",
       "      <td>21597.00</td>\n",
       "      <td>21597.00</td>\n",
       "      <td>21597.00</td>\n",
       "      <td>21597.00</td>\n",
       "      <td>21597.00</td>\n",
       "      <td>21597.00</td>\n",
       "      <td>21597.00</td>\n",
       "      <td>21597.00</td>\n",
       "      <td>21597.00</td>\n",
       "      <td>17755.00</td>\n",
       "      <td>21597.00</td>\n",
       "      <td>21597.00</td>\n",
       "      <td>21597.00</td>\n",
       "      <td>21597.00</td>\n",
       "      <td>21597.00</td>\n",
       "    </tr>\n",
       "    <tr>\n",
       "      <th>mean</th>\n",
       "      <td>4580474287.77</td>\n",
       "      <td>540296.57</td>\n",
       "      <td>3.37</td>\n",
       "      <td>2.12</td>\n",
       "      <td>2080.32</td>\n",
       "      <td>15099.41</td>\n",
       "      <td>1.49</td>\n",
       "      <td>1788.60</td>\n",
       "      <td>1971.00</td>\n",
       "      <td>83.64</td>\n",
       "      <td>98077.95</td>\n",
       "      <td>47.56</td>\n",
       "      <td>-122.21</td>\n",
       "      <td>1986.62</td>\n",
       "      <td>12758.28</td>\n",
       "    </tr>\n",
       "    <tr>\n",
       "      <th>std</th>\n",
       "      <td>2876735715.75</td>\n",
       "      <td>367368.14</td>\n",
       "      <td>0.93</td>\n",
       "      <td>0.77</td>\n",
       "      <td>918.11</td>\n",
       "      <td>41412.64</td>\n",
       "      <td>0.54</td>\n",
       "      <td>827.76</td>\n",
       "      <td>29.38</td>\n",
       "      <td>399.95</td>\n",
       "      <td>53.51</td>\n",
       "      <td>0.14</td>\n",
       "      <td>0.14</td>\n",
       "      <td>685.23</td>\n",
       "      <td>27274.44</td>\n",
       "    </tr>\n",
       "    <tr>\n",
       "      <th>min</th>\n",
       "      <td>1000102.00</td>\n",
       "      <td>78000.00</td>\n",
       "      <td>1.00</td>\n",
       "      <td>0.50</td>\n",
       "      <td>370.00</td>\n",
       "      <td>520.00</td>\n",
       "      <td>1.00</td>\n",
       "      <td>370.00</td>\n",
       "      <td>1900.00</td>\n",
       "      <td>0.00</td>\n",
       "      <td>98001.00</td>\n",
       "      <td>47.16</td>\n",
       "      <td>-122.52</td>\n",
       "      <td>399.00</td>\n",
       "      <td>651.00</td>\n",
       "    </tr>\n",
       "    <tr>\n",
       "      <th>25%</th>\n",
       "      <td>2123049175.00</td>\n",
       "      <td>322000.00</td>\n",
       "      <td>3.00</td>\n",
       "      <td>1.75</td>\n",
       "      <td>1430.00</td>\n",
       "      <td>5040.00</td>\n",
       "      <td>1.00</td>\n",
       "      <td>1190.00</td>\n",
       "      <td>1951.00</td>\n",
       "      <td>0.00</td>\n",
       "      <td>98033.00</td>\n",
       "      <td>47.47</td>\n",
       "      <td>-122.33</td>\n",
       "      <td>1490.00</td>\n",
       "      <td>5100.00</td>\n",
       "    </tr>\n",
       "    <tr>\n",
       "      <th>50%</th>\n",
       "      <td>3904930410.00</td>\n",
       "      <td>450000.00</td>\n",
       "      <td>3.00</td>\n",
       "      <td>2.25</td>\n",
       "      <td>1910.00</td>\n",
       "      <td>7618.00</td>\n",
       "      <td>1.50</td>\n",
       "      <td>1560.00</td>\n",
       "      <td>1975.00</td>\n",
       "      <td>0.00</td>\n",
       "      <td>98065.00</td>\n",
       "      <td>47.57</td>\n",
       "      <td>-122.23</td>\n",
       "      <td>1840.00</td>\n",
       "      <td>7620.00</td>\n",
       "    </tr>\n",
       "    <tr>\n",
       "      <th>75%</th>\n",
       "      <td>7308900490.00</td>\n",
       "      <td>645000.00</td>\n",
       "      <td>4.00</td>\n",
       "      <td>2.50</td>\n",
       "      <td>2550.00</td>\n",
       "      <td>10685.00</td>\n",
       "      <td>2.00</td>\n",
       "      <td>2210.00</td>\n",
       "      <td>1997.00</td>\n",
       "      <td>0.00</td>\n",
       "      <td>98118.00</td>\n",
       "      <td>47.68</td>\n",
       "      <td>-122.12</td>\n",
       "      <td>2360.00</td>\n",
       "      <td>10083.00</td>\n",
       "    </tr>\n",
       "    <tr>\n",
       "      <th>max</th>\n",
       "      <td>9900000190.00</td>\n",
       "      <td>7700000.00</td>\n",
       "      <td>33.00</td>\n",
       "      <td>8.00</td>\n",
       "      <td>13540.00</td>\n",
       "      <td>1651359.00</td>\n",
       "      <td>3.50</td>\n",
       "      <td>9410.00</td>\n",
       "      <td>2015.00</td>\n",
       "      <td>2015.00</td>\n",
       "      <td>98199.00</td>\n",
       "      <td>47.78</td>\n",
       "      <td>-121.31</td>\n",
       "      <td>6210.00</td>\n",
       "      <td>871200.00</td>\n",
       "    </tr>\n",
       "  </tbody>\n",
       "</table>\n",
       "</div>"
      ],
      "text/plain": [
       "                 id      price  bedrooms  bathrooms  sqft_living   sqft_lot  \\\n",
       "count      21597.00   21597.00  21597.00   21597.00     21597.00   21597.00   \n",
       "mean  4580474287.77  540296.57      3.37       2.12      2080.32   15099.41   \n",
       "std   2876735715.75  367368.14      0.93       0.77       918.11   41412.64   \n",
       "min      1000102.00   78000.00      1.00       0.50       370.00     520.00   \n",
       "25%   2123049175.00  322000.00      3.00       1.75      1430.00    5040.00   \n",
       "50%   3904930410.00  450000.00      3.00       2.25      1910.00    7618.00   \n",
       "75%   7308900490.00  645000.00      4.00       2.50      2550.00   10685.00   \n",
       "max   9900000190.00 7700000.00     33.00       8.00     13540.00 1651359.00   \n",
       "\n",
       "        floors  sqft_above  yr_built  yr_renovated  zipcode      lat     long  \\\n",
       "count 21597.00    21597.00  21597.00      17755.00 21597.00 21597.00 21597.00   \n",
       "mean      1.49     1788.60   1971.00         83.64 98077.95    47.56  -122.21   \n",
       "std       0.54      827.76     29.38        399.95    53.51     0.14     0.14   \n",
       "min       1.00      370.00   1900.00          0.00 98001.00    47.16  -122.52   \n",
       "25%       1.00     1190.00   1951.00          0.00 98033.00    47.47  -122.33   \n",
       "50%       1.50     1560.00   1975.00          0.00 98065.00    47.57  -122.23   \n",
       "75%       2.00     2210.00   1997.00          0.00 98118.00    47.68  -122.12   \n",
       "max       3.50     9410.00   2015.00       2015.00 98199.00    47.78  -121.31   \n",
       "\n",
       "       sqft_living15  sqft_lot15  \n",
       "count       21597.00    21597.00  \n",
       "mean         1986.62    12758.28  \n",
       "std           685.23    27274.44  \n",
       "min           399.00      651.00  \n",
       "25%          1490.00     5100.00  \n",
       "50%          1840.00     7620.00  \n",
       "75%          2360.00    10083.00  \n",
       "max          6210.00   871200.00  "
      ]
     },
     "execution_count": 4,
     "metadata": {},
     "output_type": "execute_result"
    }
   ],
   "source": [
    "# Checking out descriptive statistics\n",
    "df.describe()"
   ]
  },
  {
   "cell_type": "markdown",
   "metadata": {},
   "source": [
    "## Splitting data into train and test sets"
   ]
  },
  {
   "cell_type": "markdown",
   "metadata": {},
   "source": [
    "Our **target** variable, or `X`, is going to be `price`, i.e. the sale price of a given home."
   ]
  },
  {
   "cell_type": "code",
   "execution_count": 5,
   "metadata": {},
   "outputs": [],
   "source": [
    "# Creating target variable and predictor dataframe\n",
    "y = df['price']\n",
    "X = df.drop(labels = 'price',\n",
    "            axis = 1)"
   ]
  },
  {
   "cell_type": "code",
   "execution_count": 6,
   "metadata": {},
   "outputs": [],
   "source": [
    "# Initiating train-test split\n",
    "X_train, X_test, y_train, y_test = train_test_split(X, y, test_size = 0.33, random_state = 42)"
   ]
  },
  {
   "cell_type": "code",
   "execution_count": 7,
   "metadata": {},
   "outputs": [
    {
     "name": "stdout",
     "output_type": "stream",
     "text": [
      "X_train is a DataFrame with 14469 rows and 20 columns.\n",
      "y_train is a Series with 14469 values.\n"
     ]
    }
   ],
   "source": [
    "print(f\"X_train is a DataFrame with {X_train.shape[0]} rows and {X_train.shape[1]} columns.\")\n",
    "print(f\"y_train is a Series with {y_train.shape[0]} values.\")\n",
    "\n",
    "assert X_train.shape[0] == y_train.shape[0]"
   ]
  },
  {
   "cell_type": "markdown",
   "metadata": {},
   "source": [
    "## Initial Cleaning"
   ]
  },
  {
   "cell_type": "code",
   "execution_count": 8,
   "metadata": {
    "scrolled": false
   },
   "outputs": [
    {
     "name": "stdout",
     "output_type": "stream",
     "text": [
      "<class 'pandas.core.frame.DataFrame'>\n",
      "Int64Index: 14469 entries, 19709 to 15795\n",
      "Data columns (total 20 columns):\n",
      " #   Column         Non-Null Count  Dtype  \n",
      "---  ------         --------------  -----  \n",
      " 0   id             14469 non-null  int64  \n",
      " 1   date           14469 non-null  object \n",
      " 2   bedrooms       14469 non-null  int64  \n",
      " 3   bathrooms      14469 non-null  float64\n",
      " 4   sqft_living    14469 non-null  int64  \n",
      " 5   sqft_lot       14469 non-null  int64  \n",
      " 6   floors         14469 non-null  float64\n",
      " 7   waterfront     12913 non-null  object \n",
      " 8   view           14427 non-null  object \n",
      " 9   condition      14469 non-null  object \n",
      " 10  grade          14469 non-null  object \n",
      " 11  sqft_above     14469 non-null  int64  \n",
      " 12  sqft_basement  14469 non-null  object \n",
      " 13  yr_built       14469 non-null  int64  \n",
      " 14  yr_renovated   11883 non-null  float64\n",
      " 15  zipcode        14469 non-null  int64  \n",
      " 16  lat            14469 non-null  float64\n",
      " 17  long           14469 non-null  float64\n",
      " 18  sqft_living15  14469 non-null  int64  \n",
      " 19  sqft_lot15     14469 non-null  int64  \n",
      "dtypes: float64(5), int64(9), object(6)\n",
      "memory usage: 2.3+ MB\n"
     ]
    }
   ],
   "source": [
    "X_train.info()"
   ]
  },
  {
   "cell_type": "markdown",
   "metadata": {},
   "source": [
    "Right away, we notice some columns with null values:\n",
    "- `waterfront`\n",
    "- `view`\n",
    "- `yr_renovated`\n",
    "\n",
    "We'll have to either figure out how to fill in those null values or drop them altogether."
   ]
  },
  {
   "cell_type": "markdown",
   "metadata": {},
   "source": [
    "Since we have a fairly small number of null values in the `view` column (63 entries in total), we can safely *drop* those rows."
   ]
  },
  {
   "cell_type": "code",
   "execution_count": 9,
   "metadata": {},
   "outputs": [
    {
     "data": {
      "text/plain": [
       "(14469, 20)"
      ]
     },
     "execution_count": 9,
     "metadata": {},
     "output_type": "execute_result"
    }
   ],
   "source": [
    "X_train.shape"
   ]
  },
  {
   "cell_type": "code",
   "execution_count": 10,
   "metadata": {},
   "outputs": [
    {
     "data": {
      "text/plain": [
       "(7128, 20)"
      ]
     },
     "execution_count": 10,
     "metadata": {},
     "output_type": "execute_result"
    }
   ],
   "source": [
    "X_test.shape"
   ]
  },
  {
   "cell_type": "code",
   "execution_count": 11,
   "metadata": {},
   "outputs": [],
   "source": [
    "df_copy = df.copy()"
   ]
  },
  {
   "cell_type": "code",
   "execution_count": 12,
   "metadata": {
    "scrolled": true
   },
   "outputs": [
    {
     "data": {
      "text/plain": [
       "795000620     3\n",
       "1825069031    2\n",
       "2019200220    2\n",
       "7129304540    2\n",
       "1781500435    2\n",
       "             ..\n",
       "7812801125    1\n",
       "4364700875    1\n",
       "3021059276    1\n",
       "880000205     1\n",
       "1777500160    1\n",
       "Name: id, Length: 21420, dtype: int64"
      ]
     },
     "execution_count": 12,
     "metadata": {},
     "output_type": "execute_result"
    }
   ],
   "source": [
    "df_copy['id'].value_counts()"
   ]
  },
  {
   "cell_type": "markdown",
   "metadata": {},
   "source": [
    "When we run `value_counts()` on the `id` column, we discover that some `id` values appear multiple times in the dataset - these represent houses that have **multiple sales** on record. The code below creates a new version of `df_copy` that retains only the **most recent sale** for given `id`."
   ]
  },
  {
   "cell_type": "code",
   "execution_count": 13,
   "metadata": {},
   "outputs": [],
   "source": [
    "# Dropping rows where `id` is repeated\n",
    "# df_copy = df_copy.sort_values(by=['id', 'date'])\n",
    "# df_copy = df_copy.drop_duplicates(subset=['id'], keep='last')"
   ]
  },
  {
   "cell_type": "markdown",
   "metadata": {},
   "source": [
    "The column `date` is read in as datatype `object`, but we can convert it into datetime format with a single line of code for easier use."
   ]
  },
  {
   "cell_type": "code",
   "execution_count": 14,
   "metadata": {},
   "outputs": [],
   "source": [
    "# Converting column `date` to datetime64[ns] from type string/object\n",
    "# df['date'] = df['date'].astype('datetime64[ns]')"
   ]
  },
  {
   "cell_type": "code",
   "execution_count": 15,
   "metadata": {},
   "outputs": [
    {
     "name": "stdout",
     "output_type": "stream",
     "text": [
      "'VIEW' value counts:\n",
      "NONE         13023\n",
      "AVERAGE        626\n",
      "GOOD           335\n",
      "EXCELLENT      225\n",
      "FAIR           218\n",
      "Name: view, dtype: int64\n",
      "\n",
      "\n",
      "'GRADE' value counts:\n",
      "7 Average        6002\n",
      "8 Good           4096\n",
      "9 Better         1725\n",
      "6 Low Average    1355\n",
      "10 Very Good      769\n",
      "11 Excellent      270\n",
      "5 Fair            166\n",
      "12 Luxury          62\n",
      "4 Low              16\n",
      "13 Mansion          7\n",
      "3 Poor              1\n",
      "Name: grade, dtype: int64\n",
      "\n",
      "\n",
      "'CONDITION' value counts:\n",
      "Average      9406\n",
      "Good         3775\n",
      "Very Good    1153\n",
      "Fair          118\n",
      "Poor           17\n",
      "Name: condition, dtype: int64\n",
      "\n",
      "\n",
      "'YR_RENOVATED' value counts:\n",
      "0.00       11390\n",
      "2014.00       43\n",
      "2005.00       24\n",
      "2007.00       23\n",
      "2003.00       22\n",
      "           ...  \n",
      "1974.00        1\n",
      "1956.00        1\n",
      "1944.00        1\n",
      "1951.00        1\n",
      "1946.00        1\n",
      "Name: yr_renovated, Length: 66, dtype: int64\n",
      "\n",
      "\n"
     ]
    }
   ],
   "source": [
    "# Creating variables to count values in columns `grade`, `condition`, \n",
    "# and `yr_renovated` in King County real estate data train set\n",
    "\n",
    "view_counts = X_train['view'].value_counts()\n",
    "grade_counts = X_train['grade'].value_counts()\n",
    "condition_counts = X_train['condition'].value_counts()\n",
    "renovation_counts = X_train['yr_renovated'].value_counts()\n",
    "\n",
    "# Looping through to see several value counts at once\n",
    "counts = [view_counts, grade_counts, condition_counts, renovation_counts]\n",
    "num = 0\n",
    "\n",
    "for x in counts:\n",
    "    num += 1\n",
    "    column_name = x.name\n",
    "    print(f\"'{column_name.upper()}' value counts:\\n{x}\\n\\n\")"
   ]
  },
  {
   "cell_type": "code",
   "execution_count": 16,
   "metadata": {},
   "outputs": [],
   "source": [
    "# Dropping nulls from column `view`\n",
    "X_train = X_train.dropna(subset = ['view'])\n",
    "\n",
    "# Filling null values in column `view` with string indicating\n",
    "# that no record exists on the property's view\n",
    "# X_train.view.fillna(value = 'NO_RECORD', inplace = True)\n",
    "\n",
    "# Filling null values in column `yr_renovated` with integer 0,\n",
    "# indicating that no renovation year exists for this record\n",
    "# X_train.yr_renovated.fillna(value = 0, inplace = True)"
   ]
  },
  {
   "cell_type": "markdown",
   "metadata": {},
   "source": [
    "## Exploring Data"
   ]
  },
  {
   "cell_type": "code",
   "execution_count": 17,
   "metadata": {},
   "outputs": [],
   "source": [
    "#looking at correlations\n",
    "#fig, ax = plt.subplots(figsize=(15,15))\n",
    "#heat = sns.heatmap(df_copy.corr(), annot = True)"
   ]
  },
  {
   "cell_type": "markdown",
   "metadata": {},
   "source": [
    "Observations from this heatmap:\n",
    "\n",
    "- We'll likely need to use a **mask** on this heatmap in order to create a more readable visualization that focuses on relevant features/columns.\n",
    "- `sqft_living` has the highest correlation with price...\n",
    "    - ...but `sqft_living` is also correlated with several other columns: `sqft_living15`, `sqft_above`, `bathrooms`, and `bedrooms`, so we'll likely need to choose just one of these features in order to minimize multicollinearity.\n",
    "- `zipcode`, `lat`, and `long` all have low (0.31 or below) correlations with `price` - these columns likely won't be useful to us in constructing models for this project, but could be worth looking into as next-step recommendations."
   ]
  },
  {
   "cell_type": "markdown",
   "metadata": {},
   "source": [
    "Below, we group the dataset by column `view` and get some descriptive statistics on the column."
   ]
  },
  {
   "cell_type": "code",
   "execution_count": 18,
   "metadata": {
    "scrolled": true
   },
   "outputs": [
    {
     "data": {
      "text/html": [
       "<div>\n",
       "<style scoped>\n",
       "    .dataframe tbody tr th:only-of-type {\n",
       "        vertical-align: middle;\n",
       "    }\n",
       "\n",
       "    .dataframe tbody tr th {\n",
       "        vertical-align: top;\n",
       "    }\n",
       "\n",
       "    .dataframe thead th {\n",
       "        text-align: right;\n",
       "    }\n",
       "</style>\n",
       "<table border=\"1\" class=\"dataframe\">\n",
       "  <thead>\n",
       "    <tr style=\"text-align: right;\">\n",
       "      <th></th>\n",
       "      <th>id</th>\n",
       "      <th>date</th>\n",
       "      <th>price</th>\n",
       "      <th>bedrooms</th>\n",
       "      <th>bathrooms</th>\n",
       "      <th>sqft_living</th>\n",
       "      <th>sqft_lot</th>\n",
       "      <th>floors</th>\n",
       "      <th>waterfront</th>\n",
       "      <th>view</th>\n",
       "      <th>condition</th>\n",
       "      <th>grade</th>\n",
       "      <th>sqft_above</th>\n",
       "      <th>sqft_basement</th>\n",
       "      <th>yr_built</th>\n",
       "      <th>yr_renovated</th>\n",
       "      <th>zipcode</th>\n",
       "      <th>lat</th>\n",
       "      <th>long</th>\n",
       "      <th>sqft_living15</th>\n",
       "      <th>sqft_lot15</th>\n",
       "    </tr>\n",
       "  </thead>\n",
       "  <tbody>\n",
       "    <tr>\n",
       "      <th>7245</th>\n",
       "      <td>6762700020</td>\n",
       "      <td>10/13/2014</td>\n",
       "      <td>7700000.00</td>\n",
       "      <td>6</td>\n",
       "      <td>8.00</td>\n",
       "      <td>12050</td>\n",
       "      <td>27600</td>\n",
       "      <td>2.50</td>\n",
       "      <td>NO</td>\n",
       "      <td>GOOD</td>\n",
       "      <td>Good</td>\n",
       "      <td>13 Mansion</td>\n",
       "      <td>8570</td>\n",
       "      <td>3480.0</td>\n",
       "      <td>1910</td>\n",
       "      <td>1987.00</td>\n",
       "      <td>98102</td>\n",
       "      <td>47.63</td>\n",
       "      <td>-122.32</td>\n",
       "      <td>3940</td>\n",
       "      <td>8800</td>\n",
       "    </tr>\n",
       "    <tr>\n",
       "      <th>3910</th>\n",
       "      <td>9808700762</td>\n",
       "      <td>6/11/2014</td>\n",
       "      <td>7060000.00</td>\n",
       "      <td>5</td>\n",
       "      <td>4.50</td>\n",
       "      <td>10040</td>\n",
       "      <td>37325</td>\n",
       "      <td>2.00</td>\n",
       "      <td>YES</td>\n",
       "      <td>AVERAGE</td>\n",
       "      <td>Average</td>\n",
       "      <td>11 Excellent</td>\n",
       "      <td>7680</td>\n",
       "      <td>2360.0</td>\n",
       "      <td>1940</td>\n",
       "      <td>2001.00</td>\n",
       "      <td>98004</td>\n",
       "      <td>47.65</td>\n",
       "      <td>-122.21</td>\n",
       "      <td>3930</td>\n",
       "      <td>25449</td>\n",
       "    </tr>\n",
       "    <tr>\n",
       "      <th>9245</th>\n",
       "      <td>9208900037</td>\n",
       "      <td>9/19/2014</td>\n",
       "      <td>6890000.00</td>\n",
       "      <td>6</td>\n",
       "      <td>7.75</td>\n",
       "      <td>9890</td>\n",
       "      <td>31374</td>\n",
       "      <td>2.00</td>\n",
       "      <td>NO</td>\n",
       "      <td>EXCELLENT</td>\n",
       "      <td>Average</td>\n",
       "      <td>13 Mansion</td>\n",
       "      <td>8860</td>\n",
       "      <td>1030.0</td>\n",
       "      <td>2001</td>\n",
       "      <td>0.00</td>\n",
       "      <td>98039</td>\n",
       "      <td>47.63</td>\n",
       "      <td>-122.24</td>\n",
       "      <td>4540</td>\n",
       "      <td>42730</td>\n",
       "    </tr>\n",
       "    <tr>\n",
       "      <th>4407</th>\n",
       "      <td>2470100110</td>\n",
       "      <td>8/4/2014</td>\n",
       "      <td>5570000.00</td>\n",
       "      <td>5</td>\n",
       "      <td>5.75</td>\n",
       "      <td>9200</td>\n",
       "      <td>35069</td>\n",
       "      <td>2.00</td>\n",
       "      <td>NO</td>\n",
       "      <td>NONE</td>\n",
       "      <td>Average</td>\n",
       "      <td>13 Mansion</td>\n",
       "      <td>6200</td>\n",
       "      <td>3000.0</td>\n",
       "      <td>2001</td>\n",
       "      <td>nan</td>\n",
       "      <td>98039</td>\n",
       "      <td>47.63</td>\n",
       "      <td>-122.23</td>\n",
       "      <td>3560</td>\n",
       "      <td>24345</td>\n",
       "    </tr>\n",
       "    <tr>\n",
       "      <th>1446</th>\n",
       "      <td>8907500070</td>\n",
       "      <td>4/13/2015</td>\n",
       "      <td>5350000.00</td>\n",
       "      <td>5</td>\n",
       "      <td>5.00</td>\n",
       "      <td>8000</td>\n",
       "      <td>23985</td>\n",
       "      <td>2.00</td>\n",
       "      <td>NO</td>\n",
       "      <td>EXCELLENT</td>\n",
       "      <td>Average</td>\n",
       "      <td>12 Luxury</td>\n",
       "      <td>6720</td>\n",
       "      <td>1280.0</td>\n",
       "      <td>2009</td>\n",
       "      <td>0.00</td>\n",
       "      <td>98004</td>\n",
       "      <td>47.62</td>\n",
       "      <td>-122.22</td>\n",
       "      <td>4600</td>\n",
       "      <td>21750</td>\n",
       "    </tr>\n",
       "    <tr>\n",
       "      <th>...</th>\n",
       "      <td>...</td>\n",
       "      <td>...</td>\n",
       "      <td>...</td>\n",
       "      <td>...</td>\n",
       "      <td>...</td>\n",
       "      <td>...</td>\n",
       "      <td>...</td>\n",
       "      <td>...</td>\n",
       "      <td>...</td>\n",
       "      <td>...</td>\n",
       "      <td>...</td>\n",
       "      <td>...</td>\n",
       "      <td>...</td>\n",
       "      <td>...</td>\n",
       "      <td>...</td>\n",
       "      <td>...</td>\n",
       "      <td>...</td>\n",
       "      <td>...</td>\n",
       "      <td>...</td>\n",
       "      <td>...</td>\n",
       "      <td>...</td>\n",
       "    </tr>\n",
       "    <tr>\n",
       "      <th>2139</th>\n",
       "      <td>1623049041</td>\n",
       "      <td>5/8/2014</td>\n",
       "      <td>82500.00</td>\n",
       "      <td>2</td>\n",
       "      <td>1.00</td>\n",
       "      <td>520</td>\n",
       "      <td>22334</td>\n",
       "      <td>1.00</td>\n",
       "      <td>NO</td>\n",
       "      <td>NONE</td>\n",
       "      <td>Fair</td>\n",
       "      <td>5 Fair</td>\n",
       "      <td>520</td>\n",
       "      <td>0.0</td>\n",
       "      <td>1951</td>\n",
       "      <td>0.00</td>\n",
       "      <td>98168</td>\n",
       "      <td>47.48</td>\n",
       "      <td>-122.30</td>\n",
       "      <td>1572</td>\n",
       "      <td>10570</td>\n",
       "    </tr>\n",
       "    <tr>\n",
       "      <th>8267</th>\n",
       "      <td>3883800011</td>\n",
       "      <td>11/5/2014</td>\n",
       "      <td>82000.00</td>\n",
       "      <td>3</td>\n",
       "      <td>1.00</td>\n",
       "      <td>860</td>\n",
       "      <td>10426</td>\n",
       "      <td>1.00</td>\n",
       "      <td>NO</td>\n",
       "      <td>NONE</td>\n",
       "      <td>Average</td>\n",
       "      <td>6 Low Average</td>\n",
       "      <td>860</td>\n",
       "      <td>0.0</td>\n",
       "      <td>1954</td>\n",
       "      <td>0.00</td>\n",
       "      <td>98146</td>\n",
       "      <td>47.50</td>\n",
       "      <td>-122.34</td>\n",
       "      <td>1140</td>\n",
       "      <td>11250</td>\n",
       "    </tr>\n",
       "    <tr>\n",
       "      <th>16184</th>\n",
       "      <td>3028200080</td>\n",
       "      <td>3/24/2015</td>\n",
       "      <td>81000.00</td>\n",
       "      <td>2</td>\n",
       "      <td>1.00</td>\n",
       "      <td>730</td>\n",
       "      <td>9975</td>\n",
       "      <td>1.00</td>\n",
       "      <td>NaN</td>\n",
       "      <td>NONE</td>\n",
       "      <td>Poor</td>\n",
       "      <td>5 Fair</td>\n",
       "      <td>730</td>\n",
       "      <td>0.0</td>\n",
       "      <td>1943</td>\n",
       "      <td>0.00</td>\n",
       "      <td>98168</td>\n",
       "      <td>47.48</td>\n",
       "      <td>-122.31</td>\n",
       "      <td>860</td>\n",
       "      <td>9000</td>\n",
       "    </tr>\n",
       "    <tr>\n",
       "      <th>465</th>\n",
       "      <td>8658300340</td>\n",
       "      <td>5/23/2014</td>\n",
       "      <td>80000.00</td>\n",
       "      <td>1</td>\n",
       "      <td>0.75</td>\n",
       "      <td>430</td>\n",
       "      <td>5050</td>\n",
       "      <td>1.00</td>\n",
       "      <td>NaN</td>\n",
       "      <td>NONE</td>\n",
       "      <td>Fair</td>\n",
       "      <td>4 Low</td>\n",
       "      <td>430</td>\n",
       "      <td>0.0</td>\n",
       "      <td>1912</td>\n",
       "      <td>0.00</td>\n",
       "      <td>98014</td>\n",
       "      <td>47.65</td>\n",
       "      <td>-121.91</td>\n",
       "      <td>1200</td>\n",
       "      <td>7500</td>\n",
       "    </tr>\n",
       "    <tr>\n",
       "      <th>15279</th>\n",
       "      <td>40000362</td>\n",
       "      <td>5/6/2014</td>\n",
       "      <td>78000.00</td>\n",
       "      <td>2</td>\n",
       "      <td>1.00</td>\n",
       "      <td>780</td>\n",
       "      <td>16344</td>\n",
       "      <td>1.00</td>\n",
       "      <td>NO</td>\n",
       "      <td>NONE</td>\n",
       "      <td>Poor</td>\n",
       "      <td>5 Fair</td>\n",
       "      <td>780</td>\n",
       "      <td>0.0</td>\n",
       "      <td>1942</td>\n",
       "      <td>nan</td>\n",
       "      <td>98168</td>\n",
       "      <td>47.47</td>\n",
       "      <td>-122.28</td>\n",
       "      <td>1700</td>\n",
       "      <td>10387</td>\n",
       "    </tr>\n",
       "  </tbody>\n",
       "</table>\n",
       "<p>21597 rows × 21 columns</p>\n",
       "</div>"
      ],
      "text/plain": [
       "               id        date      price  bedrooms  bathrooms  sqft_living  \\\n",
       "7245   6762700020  10/13/2014 7700000.00         6       8.00        12050   \n",
       "3910   9808700762   6/11/2014 7060000.00         5       4.50        10040   \n",
       "9245   9208900037   9/19/2014 6890000.00         6       7.75         9890   \n",
       "4407   2470100110    8/4/2014 5570000.00         5       5.75         9200   \n",
       "1446   8907500070   4/13/2015 5350000.00         5       5.00         8000   \n",
       "...           ...         ...        ...       ...        ...          ...   \n",
       "2139   1623049041    5/8/2014   82500.00         2       1.00          520   \n",
       "8267   3883800011   11/5/2014   82000.00         3       1.00          860   \n",
       "16184  3028200080   3/24/2015   81000.00         2       1.00          730   \n",
       "465    8658300340   5/23/2014   80000.00         1       0.75          430   \n",
       "15279    40000362    5/6/2014   78000.00         2       1.00          780   \n",
       "\n",
       "       sqft_lot  floors waterfront       view condition          grade  \\\n",
       "7245      27600    2.50         NO       GOOD      Good     13 Mansion   \n",
       "3910      37325    2.00        YES    AVERAGE   Average   11 Excellent   \n",
       "9245      31374    2.00         NO  EXCELLENT   Average     13 Mansion   \n",
       "4407      35069    2.00         NO       NONE   Average     13 Mansion   \n",
       "1446      23985    2.00         NO  EXCELLENT   Average      12 Luxury   \n",
       "...         ...     ...        ...        ...       ...            ...   \n",
       "2139      22334    1.00         NO       NONE      Fair         5 Fair   \n",
       "8267      10426    1.00         NO       NONE   Average  6 Low Average   \n",
       "16184      9975    1.00        NaN       NONE      Poor         5 Fair   \n",
       "465        5050    1.00        NaN       NONE      Fair          4 Low   \n",
       "15279     16344    1.00         NO       NONE      Poor         5 Fair   \n",
       "\n",
       "       sqft_above sqft_basement  yr_built  yr_renovated  zipcode   lat  \\\n",
       "7245         8570        3480.0      1910       1987.00    98102 47.63   \n",
       "3910         7680        2360.0      1940       2001.00    98004 47.65   \n",
       "9245         8860        1030.0      2001          0.00    98039 47.63   \n",
       "4407         6200        3000.0      2001           nan    98039 47.63   \n",
       "1446         6720        1280.0      2009          0.00    98004 47.62   \n",
       "...           ...           ...       ...           ...      ...   ...   \n",
       "2139          520           0.0      1951          0.00    98168 47.48   \n",
       "8267          860           0.0      1954          0.00    98146 47.50   \n",
       "16184         730           0.0      1943          0.00    98168 47.48   \n",
       "465           430           0.0      1912          0.00    98014 47.65   \n",
       "15279         780           0.0      1942           nan    98168 47.47   \n",
       "\n",
       "         long  sqft_living15  sqft_lot15  \n",
       "7245  -122.32           3940        8800  \n",
       "3910  -122.21           3930       25449  \n",
       "9245  -122.24           4540       42730  \n",
       "4407  -122.23           3560       24345  \n",
       "1446  -122.22           4600       21750  \n",
       "...       ...            ...         ...  \n",
       "2139  -122.30           1572       10570  \n",
       "8267  -122.34           1140       11250  \n",
       "16184 -122.31            860        9000  \n",
       "465   -121.91           1200        7500  \n",
       "15279 -122.28           1700       10387  \n",
       "\n",
       "[21597 rows x 21 columns]"
      ]
     },
     "execution_count": 18,
     "metadata": {},
     "output_type": "execute_result"
    }
   ],
   "source": [
    "df_copy.groupby('view').mean()\n",
    "\n",
    "df_copy.sort_values('price', ascending = False)"
   ]
  },
  {
   "cell_type": "markdown",
   "metadata": {},
   "source": [
    "Visually the price of average, fair and good look the about the same so we would need to run a significance test and visualize the data to see. Excellent and none looks to be potentially significant. Need to use anova here to see and ad-hoc tests"
   ]
  },
  {
   "cell_type": "code",
   "execution_count": 19,
   "metadata": {},
   "outputs": [],
   "source": [
    "# Dropping irrelevant columns\n",
    "df_copy.drop(columns = ['id', 'floors', 'waterfront',\n",
    "                        'bathrooms', 'bedrooms',\n",
    "                        'lat', 'long',\n",
    "                        'yr_built', 'yr_renovated', \n",
    "                        'sqft_lot', 'sqft_lot15',\n",
    "                        'sqft_above', 'sqft_living15',\n",
    "                        'zipcode', 'sqft_basement'],\n",
    "                        inplace=True, axis=1 )"
   ]
  },
  {
   "cell_type": "code",
   "execution_count": 20,
   "metadata": {},
   "outputs": [
    {
     "data": {
      "text/html": [
       "<div>\n",
       "<style scoped>\n",
       "    .dataframe tbody tr th:only-of-type {\n",
       "        vertical-align: middle;\n",
       "    }\n",
       "\n",
       "    .dataframe tbody tr th {\n",
       "        vertical-align: top;\n",
       "    }\n",
       "\n",
       "    .dataframe thead th {\n",
       "        text-align: right;\n",
       "    }\n",
       "</style>\n",
       "<table border=\"1\" class=\"dataframe\">\n",
       "  <thead>\n",
       "    <tr style=\"text-align: right;\">\n",
       "      <th></th>\n",
       "      <th>date</th>\n",
       "      <th>price</th>\n",
       "      <th>sqft_living</th>\n",
       "      <th>view</th>\n",
       "      <th>condition</th>\n",
       "      <th>grade</th>\n",
       "    </tr>\n",
       "  </thead>\n",
       "  <tbody>\n",
       "    <tr>\n",
       "      <th>0</th>\n",
       "      <td>10/13/2014</td>\n",
       "      <td>221900.00</td>\n",
       "      <td>1180</td>\n",
       "      <td>NONE</td>\n",
       "      <td>Average</td>\n",
       "      <td>7 Average</td>\n",
       "    </tr>\n",
       "    <tr>\n",
       "      <th>1</th>\n",
       "      <td>12/9/2014</td>\n",
       "      <td>538000.00</td>\n",
       "      <td>2570</td>\n",
       "      <td>NONE</td>\n",
       "      <td>Average</td>\n",
       "      <td>7 Average</td>\n",
       "    </tr>\n",
       "    <tr>\n",
       "      <th>2</th>\n",
       "      <td>2/25/2015</td>\n",
       "      <td>180000.00</td>\n",
       "      <td>770</td>\n",
       "      <td>NONE</td>\n",
       "      <td>Average</td>\n",
       "      <td>6 Low Average</td>\n",
       "    </tr>\n",
       "    <tr>\n",
       "      <th>3</th>\n",
       "      <td>12/9/2014</td>\n",
       "      <td>604000.00</td>\n",
       "      <td>1960</td>\n",
       "      <td>NONE</td>\n",
       "      <td>Very Good</td>\n",
       "      <td>7 Average</td>\n",
       "    </tr>\n",
       "    <tr>\n",
       "      <th>4</th>\n",
       "      <td>2/18/2015</td>\n",
       "      <td>510000.00</td>\n",
       "      <td>1680</td>\n",
       "      <td>NONE</td>\n",
       "      <td>Average</td>\n",
       "      <td>8 Good</td>\n",
       "    </tr>\n",
       "  </tbody>\n",
       "</table>\n",
       "</div>"
      ],
      "text/plain": [
       "         date     price  sqft_living  view  condition          grade\n",
       "0  10/13/2014 221900.00         1180  NONE    Average      7 Average\n",
       "1   12/9/2014 538000.00         2570  NONE    Average      7 Average\n",
       "2   2/25/2015 180000.00          770  NONE    Average  6 Low Average\n",
       "3   12/9/2014 604000.00         1960  NONE  Very Good      7 Average\n",
       "4   2/18/2015 510000.00         1680  NONE    Average         8 Good"
      ]
     },
     "execution_count": 20,
     "metadata": {},
     "output_type": "execute_result"
    }
   ],
   "source": [
    "df_copy.head()"
   ]
  },
  {
   "cell_type": "code",
   "execution_count": 21,
   "metadata": {
    "scrolled": false
   },
   "outputs": [],
   "source": [
    "# df_copy['grade'].value_counts()"
   ]
  },
  {
   "cell_type": "code",
   "execution_count": 22,
   "metadata": {},
   "outputs": [],
   "source": [
    "# fig, ax = plt.subplots(figsize=(20,10))\n",
    "\n",
    "# sns.histplot(df_copy['grade'])"
   ]
  },
  {
   "cell_type": "markdown",
   "metadata": {},
   "source": [
    "### Initiating `train_test_split`"
   ]
  },
  {
   "cell_type": "code",
   "execution_count": 23,
   "metadata": {},
   "outputs": [],
   "source": [
    "# Establishing target and predictor variables\n",
    "X = df_copy.drop(columns = 'price')\n",
    "y = df_copy.price"
   ]
  },
  {
   "cell_type": "code",
   "execution_count": 24,
   "metadata": {},
   "outputs": [],
   "source": [
    "# Creating variables for train and test sets\n",
    "X_train, X_test, y_train, y_test = train_test_split(X, y, test_size=0.33, random_state=42)"
   ]
  },
  {
   "cell_type": "code",
   "execution_count": 25,
   "metadata": {},
   "outputs": [],
   "source": [
    "train_df = pd.concat([X_train, y_train], axis=1)\n",
    "\n",
    "test_df = pd.concat([X_test, y_test], axis=1)"
   ]
  },
  {
   "cell_type": "code",
   "execution_count": 26,
   "metadata": {},
   "outputs": [],
   "source": [
    "# fig, ax = plt.subplots(figsize=(8,8))\n",
    "# heat = sns.heatmap(train_df.corr(), annot = True)"
   ]
  },
  {
   "cell_type": "markdown",
   "metadata": {},
   "source": [
    "### View Analysis"
   ]
  },
  {
   "cell_type": "markdown",
   "metadata": {},
   "source": [
    "is there a difference between those that have a view versus those that don't"
   ]
  },
  {
   "cell_type": "code",
   "execution_count": 27,
   "metadata": {
    "scrolled": true
   },
   "outputs": [
    {
     "data": {
      "text/html": [
       "<div>\n",
       "<style scoped>\n",
       "    .dataframe tbody tr th:only-of-type {\n",
       "        vertical-align: middle;\n",
       "    }\n",
       "\n",
       "    .dataframe tbody tr th {\n",
       "        vertical-align: top;\n",
       "    }\n",
       "\n",
       "    .dataframe thead tr th {\n",
       "        text-align: left;\n",
       "    }\n",
       "\n",
       "    .dataframe thead tr:last-of-type th {\n",
       "        text-align: right;\n",
       "    }\n",
       "</style>\n",
       "<table border=\"1\" class=\"dataframe\">\n",
       "  <thead>\n",
       "    <tr>\n",
       "      <th></th>\n",
       "      <th colspan=\"2\" halign=\"left\">price</th>\n",
       "      <th colspan=\"2\" halign=\"left\">sqft_living</th>\n",
       "    </tr>\n",
       "    <tr>\n",
       "      <th></th>\n",
       "      <th>mean</th>\n",
       "      <th>std</th>\n",
       "      <th>mean</th>\n",
       "      <th>std</th>\n",
       "    </tr>\n",
       "    <tr>\n",
       "      <th>view</th>\n",
       "      <th></th>\n",
       "      <th></th>\n",
       "      <th></th>\n",
       "      <th></th>\n",
       "    </tr>\n",
       "  </thead>\n",
       "  <tbody>\n",
       "    <tr>\n",
       "      <th>AVERAGE</th>\n",
       "      <td>791390.37</td>\n",
       "      <td>510385.69</td>\n",
       "      <td>2650.72</td>\n",
       "      <td>1133.09</td>\n",
       "    </tr>\n",
       "    <tr>\n",
       "      <th>EXCELLENT</th>\n",
       "      <td>1452465.88</td>\n",
       "      <td>930747.70</td>\n",
       "      <td>3334.48</td>\n",
       "      <td>1539.56</td>\n",
       "    </tr>\n",
       "    <tr>\n",
       "      <th>FAIR</th>\n",
       "      <td>813373.27</td>\n",
       "      <td>512776.63</td>\n",
       "      <td>2571.05</td>\n",
       "      <td>1042.26</td>\n",
       "    </tr>\n",
       "    <tr>\n",
       "      <th>GOOD</th>\n",
       "      <td>973285.20</td>\n",
       "      <td>613898.40</td>\n",
       "      <td>3016.85</td>\n",
       "      <td>1204.90</td>\n",
       "    </tr>\n",
       "    <tr>\n",
       "      <th>NONE</th>\n",
       "      <td>496806.07</td>\n",
       "      <td>287419.96</td>\n",
       "      <td>1998.36</td>\n",
       "      <td>836.49</td>\n",
       "    </tr>\n",
       "  </tbody>\n",
       "</table>\n",
       "</div>"
      ],
      "text/plain": [
       "               price           sqft_living        \n",
       "                mean       std        mean     std\n",
       "view                                              \n",
       "AVERAGE    791390.37 510385.69     2650.72 1133.09\n",
       "EXCELLENT 1452465.88 930747.70     3334.48 1539.56\n",
       "FAIR       813373.27 512776.63     2571.05 1042.26\n",
       "GOOD       973285.20 613898.40     3016.85 1204.90\n",
       "NONE       496806.07 287419.96     1998.36  836.49"
      ]
     },
     "execution_count": 27,
     "metadata": {},
     "output_type": "execute_result"
    }
   ],
   "source": [
    "summary_of_view = df_copy.groupby('view').agg(['mean', 'std'])\n",
    "\n",
    "summary_of_view"
   ]
  },
  {
   "cell_type": "markdown",
   "metadata": {},
   "source": [
    "Observations from this summary:\n",
    "\n",
    "- Significant gap between `EXCELLENT` and `GOOD`\n",
    "- Smallest gap is between `FAIR` and `AVERAGE` - we'll need to determine if this difference is a signficant one."
   ]
  },
  {
   "cell_type": "markdown",
   "metadata": {},
   "source": [
    "From the df summary, we notice that there is a difference in price between price for those that are excellent\n",
    "compared to those that have a view written as none. Further investigation will be performed to determine if this\n",
    "difference is statistically significant"
   ]
  },
  {
   "cell_type": "code",
   "execution_count": 28,
   "metadata": {},
   "outputs": [],
   "source": [
    "# Figure out how to do this in a loop/function?\n",
    "df_average = train_df[train_df['view'] == 'AVERAGE']\n",
    "df_excellent = train_df[train_df['view'] == 'EXCELLENT']\n",
    "df_fair = train_df[train_df['view'] == 'FAIR']\n",
    "df_good = train_df[train_df['view'] == 'GOOD']\n",
    "df_none = train_df[train_df['view'] == 'NONE']"
   ]
  },
  {
   "cell_type": "code",
   "execution_count": 29,
   "metadata": {},
   "outputs": [
    {
     "data": {
      "text/plain": [
       "NONE         13023\n",
       "AVERAGE        626\n",
       "GOOD           335\n",
       "EXCELLENT      225\n",
       "FAIR           218\n",
       "Name: view, dtype: int64"
      ]
     },
     "execution_count": 29,
     "metadata": {},
     "output_type": "execute_result"
    }
   ],
   "source": [
    "train_df['view'].value_counts()"
   ]
  },
  {
   "cell_type": "markdown",
   "metadata": {},
   "source": [
    "Subsetting the data into different views\n",
    " - Number of rows:\n",
    "     - `NONE` = 12906\n",
    "     - `AVERAGE` = 636\n",
    "     - `GOOD` = 342\n",
    "     - `FAIR` = 213\n",
    "     - `EXCELLENT` = 212"
   ]
  },
  {
   "cell_type": "code",
   "execution_count": 30,
   "metadata": {},
   "outputs": [],
   "source": [
    "fvalue, pvalue = stats.f_oneway(df_average['price'], df_excellent['price'], df_fair['price'],\n",
    "                                df_good['price'] , df_none['price'])"
   ]
  },
  {
   "cell_type": "code",
   "execution_count": 31,
   "metadata": {
    "scrolled": false
   },
   "outputs": [],
   "source": [
    "#creating df of just view\n",
    "# df_view = train_df[['view', 'price']]\n",
    "\n",
    "#Tukey test\n",
    "#print(pairwise_tukeyhsd(df_view['price'], df_view['view']))"
   ]
  },
  {
   "cell_type": "markdown",
   "metadata": {},
   "source": [
    "`AVERAGE` and `FAIR` are not significant to each other, so they should be grouped together. Each other subset should be on their own as they have a p value of < .05"
   ]
  },
  {
   "cell_type": "markdown",
   "metadata": {},
   "source": [
    "#### Grade Analysis"
   ]
  },
  {
   "cell_type": "markdown",
   "metadata": {},
   "source": [
    " Is there a difference between grades"
   ]
  },
  {
   "cell_type": "code",
   "execution_count": 32,
   "metadata": {},
   "outputs": [
    {
     "data": {
      "text/plain": [
       "7 Average        6002\n",
       "8 Good           4096\n",
       "9 Better         1725\n",
       "6 Low Average    1355\n",
       "10 Very Good      769\n",
       "11 Excellent      270\n",
       "5 Fair            166\n",
       "12 Luxury          62\n",
       "4 Low              16\n",
       "13 Mansion          7\n",
       "3 Poor              1\n",
       "Name: grade, dtype: int64"
      ]
     },
     "execution_count": 32,
     "metadata": {},
     "output_type": "execute_result"
    }
   ],
   "source": [
    "train_df.grade.value_counts()"
   ]
  },
  {
   "cell_type": "markdown",
   "metadata": {},
   "source": [
    "Issues that may be present here:\n",
    "- Only a single record for `grade` value of `3 Poor`\n",
    "- `grade` is type `object`, so we'll need to convert it in the encoding process."
   ]
  },
  {
   "cell_type": "code",
   "execution_count": 85,
   "metadata": {},
   "outputs": [],
   "source": [
    "# Dropping poor row, since there is only one\n",
    "df3 = train_df.copy()\n",
    "df3 = df3[df3['grade'] != '3 Poor']"
   ]
  },
  {
   "cell_type": "code",
   "execution_count": 87,
   "metadata": {},
   "outputs": [],
   "source": [
    "df3.grade = [x.replace(\" \", \"_\").strip() for x in df3.grade]"
   ]
  },
  {
   "cell_type": "code",
   "execution_count": 90,
   "metadata": {
    "scrolled": true
   },
   "outputs": [
    {
     "data": {
      "text/plain": [
       "7_Average        6002\n",
       "8_Good           4096\n",
       "9_Better         1725\n",
       "6_Low_Average    1355\n",
       "10_Very_Good      769\n",
       "11_Excellent      270\n",
       "5_Fair            166\n",
       "12_Luxury          62\n",
       "4_Low              16\n",
       "13_Mansion          7\n",
       "Name: grade, dtype: int64"
      ]
     },
     "execution_count": 90,
     "metadata": {},
     "output_type": "execute_result"
    }
   ],
   "source": [
    "df3['grade'].value_counts()"
   ]
  },
  {
   "cell_type": "code",
   "execution_count": 34,
   "metadata": {},
   "outputs": [],
   "source": [
    "# Might need a for loop or a function here\n",
    "df_10 = train_df[train_df['grade'] == '10 Very Good']\n",
    "df_11 = train_df[train_df['grade'] == '11 Excellent']\n",
    "df_12 = train_df[train_df['grade'] == '12 Luxury']\n",
    "df_4 = train_df[train_df['grade'] == '4 Low']\n",
    "df_5 = train_df[train_df['grade'] == '5 Fair']\n",
    "df_6 = train_df[train_df['grade'] == '6 Low Average']\n",
    "df_7 = train_df[train_df['grade'] == '7 Average']\n",
    "df_8 = train_df[train_df['grade'] == '8 Good']\n",
    "df_9 = train_df[train_df['grade'] == '9 Better']"
   ]
  },
  {
   "cell_type": "code",
   "execution_count": 35,
   "metadata": {},
   "outputs": [
    {
     "data": {
      "text/plain": [
       "0.0"
      ]
     },
     "execution_count": 35,
     "metadata": {},
     "output_type": "execute_result"
    }
   ],
   "source": [
    "# Finding f-statistic and p-value using ANOVA testing\n",
    "\n",
    "f_value_grade, p_value_grade = stats.f_oneway(df_10['price'], df_11['price'], df_12['price'],\n",
    "                                              df_4['price'], df_5['price'], df_6['price'],\n",
    "                                              df_7['price'], df_8['price'], df_9['price'])\n",
    "p_value_grade"
   ]
  },
  {
   "cell_type": "markdown",
   "metadata": {},
   "source": [
    "This 0.0 value indicates there is significance **somewhere** between `grade` values, but additional testing is required to determine **where** exactly this significance exists.\n",
    "\n",
    "There is a significant difference in price betweeen grades but we don't know which one is significant.\n",
    "Further testing required to determine which is important"
   ]
  },
  {
   "cell_type": "code",
   "execution_count": 36,
   "metadata": {},
   "outputs": [
    {
     "name": "stdout",
     "output_type": "stream",
     "text": [
      "                Multiple Comparison of Means - Tukey HSD, FWER=0.05                \n",
      "===================================================================================\n",
      "    group1        group2       meandiff   p-adj      lower         upper     reject\n",
      "-----------------------------------------------------------------------------------\n",
      " 10 Very Good  11 Excellent    428802.454  0.001    370844.154    486760.754   True\n",
      " 10 Very Good     12 Luxury  1123902.7107  0.001  1015735.8031  1232069.6184   True\n",
      " 10 Very Good    13 Mansion  2998292.1116  0.001  2687212.4718  3309371.7515   True\n",
      " 10 Very Good        3 Poor  -822565.0312 0.0484 -1642416.3685    -2713.6939   True\n",
      " 10 Very Good         4 Low  -884686.9062  0.001 -1091636.5026  -677737.3098   True\n",
      " 10 Very Good        5 Fair  -833902.2782  0.001  -904022.2137  -763782.3427   True\n",
      " 10 Very Good 6 Low Average  -782710.8386  0.001  -819701.9479  -745719.7293   True\n",
      " 10 Very Good     7 Average  -681208.8045  0.001  -712589.9041  -649827.7048   True\n",
      " 10 Very Good        8 Good  -542663.4548  0.001  -574863.1081  -510463.8015   True\n",
      " 10 Very Good      9 Better  -307382.5616  0.001  -342908.3253   -271856.798   True\n",
      " 11 Excellent     12 Luxury   695100.2568  0.001   579716.6178   810483.8957   True\n",
      " 11 Excellent    13 Mansion  2569489.6577  0.001  2255827.6636  2883151.6518   True\n",
      " 11 Excellent        3 Poor -1251367.4852  0.001 -2072202.1332  -430532.8371   True\n",
      " 11 Excellent         4 Low -1313489.3602  0.001 -1524300.7444  -1102677.976   True\n",
      " 11 Excellent        5 Fair -1262704.7322  0.001 -1343513.8257 -1181895.6386   True\n",
      " 11 Excellent 6 Low Average -1211513.2926  0.001 -1266117.7467 -1156908.8385   True\n",
      " 11 Excellent     7 Average -1110011.2584  0.001 -1160982.5999 -1059039.9169   True\n",
      " 11 Excellent        8 Good  -971465.9088  0.001 -1022945.2436   -919986.574   True\n",
      " 11 Excellent      9 Better  -736185.0156  0.001  -789807.6239  -682562.4073   True\n",
      "    12 Luxury    13 Mansion  1874389.4009  0.001  1547701.8408   2201076.961   True\n",
      "    12 Luxury        3 Poor -1946467.7419  0.001 -2772367.5148 -1120567.9691   True\n",
      "    12 Luxury         4 Low -2008589.6169  0.001 -2238333.7248 -1778845.5091   True\n",
      "    12 Luxury        5 Fair -1957804.9889  0.001  -2079751.801 -1835858.1769   True\n",
      "    12 Luxury 6 Low Average -1906613.5493  0.001 -2013021.0762 -1800206.0224   True\n",
      "    12 Luxury     7 Average -1805111.5152  0.001 -1909701.1563 -1700521.8741   True\n",
      "    12 Luxury        8 Good -1666566.1655  0.001 -1771404.3135 -1561728.0175   True\n",
      "    12 Luxury      9 Better -1431285.2724  0.001 -1537192.3047 -1325378.2401   True\n",
      "   13 Mansion        3 Poor -3820857.1429  0.001 -4696745.7757   -2944968.51   True\n",
      "   13 Mansion         4 Low -3882979.0179  0.001 -4254264.3764 -3511693.6593   True\n",
      "   13 Mansion        5 Fair -3832194.3898  0.001 -4148329.6257  -3516059.154   True\n",
      "   13 Mansion 6 Low Average -3781002.9502  0.001 -4091475.2101 -3470530.6903   True\n",
      "   13 Mansion     7 Average -3679500.9161  0.001  -3989354.842 -3369646.9902   True\n",
      "   13 Mansion        8 Good -3540955.5664  0.001 -3850893.4629   -3231017.67   True\n",
      "   13 Mansion      9 Better -3305674.6733  0.001 -3615975.7559 -2995373.5907   True\n",
      "       3 Poor         4 Low    -62121.875    0.9  -906656.3565   782412.6065  False\n",
      "       3 Poor        5 Fair    -11337.247    0.9  -833120.1625   810445.6686  False\n",
      "       3 Poor 6 Low Average    39854.1926    0.9  -779766.8766   859475.2618  False\n",
      "       3 Poor     7 Average   141356.2268    0.9  -678030.8175    960743.271  False\n",
      "       3 Poor        8 Good   279901.5764    0.9  -539517.2253  1099320.3781  False\n",
      "       3 Poor      9 Better   515182.4696 0.6137   -304373.773  1334738.7122  False\n",
      "        4 Low        5 Fair     50784.628    0.9  -163689.3343   265258.5904  False\n",
      "        4 Low 6 Low Average   101976.0676 0.8813  -104059.4083   308011.5435  False\n",
      "        4 Low     7 Average   203478.1018 0.0541    -1624.4301   408580.6336  False\n",
      "        4 Low        8 Good   342023.4514  0.001    136794.085   547252.8178   True\n",
      "        4 Low      9 Better   577304.3446  0.001    371526.904   783081.7851   True\n",
      "       5 Fair 6 Low Average    51191.4396 0.3376   -16182.7931   118565.6723  False\n",
      "       5 Fair     7 Average   152693.4737  0.001    88228.6114   217158.3361   True\n",
      "       5 Fair        8 Good   291238.8234  0.001   226371.5533   356106.0935   True\n",
      "       5 Fair      9 Better   526519.7166  0.001   459938.7512   593100.6819   True\n",
      "6 Low Average     7 Average   101502.0341  0.001    76859.4838   126144.5844   True\n",
      "6 Low Average        8 Good   240047.3838  0.001    214370.555   265724.2126   True\n",
      "6 Low Average      9 Better   475328.2769  0.001   445586.6941   505069.8598   True\n",
      "    7 Average        8 Good   138545.3497  0.001   121940.2063   155150.4931   True\n",
      "    7 Average      9 Better   373826.2428  0.001     351443.37   396209.1157   True\n",
      "       8 Good      9 Better   235280.8931  0.001   211764.1491   258797.6372   True\n",
      "-----------------------------------------------------------------------------------\n"
     ]
    }
   ],
   "source": [
    "# Ad-hoc test to determine differeces in price vs. grade\n",
    "\n",
    "df_grade = train_df[['grade', 'price']]\n",
    "\n",
    "print(pairwise_tukeyhsd(df_grade['price'], df_grade['grade']))"
   ]
  },
  {
   "cell_type": "markdown",
   "metadata": {},
   "source": [
    "Summary of what we notice"
   ]
  },
  {
   "cell_type": "markdown",
   "metadata": {},
   "source": [
    "#### One Hot Encoding | Rework to include Train only"
   ]
  },
  {
   "cell_type": "code",
   "execution_count": 94,
   "metadata": {},
   "outputs": [],
   "source": [
    "#categorizing average and fair together since they are not different from each other\n",
    "df3['view'] = df3['view'].str.replace('AVERAGE', 'FAIR')"
   ]
  },
  {
   "cell_type": "code",
   "execution_count": 95,
   "metadata": {},
   "outputs": [
    {
     "data": {
      "text/html": [
       "<div>\n",
       "<style scoped>\n",
       "    .dataframe tbody tr th:only-of-type {\n",
       "        vertical-align: middle;\n",
       "    }\n",
       "\n",
       "    .dataframe tbody tr th {\n",
       "        vertical-align: top;\n",
       "    }\n",
       "\n",
       "    .dataframe thead th {\n",
       "        text-align: right;\n",
       "    }\n",
       "</style>\n",
       "<table border=\"1\" class=\"dataframe\">\n",
       "  <thead>\n",
       "    <tr style=\"text-align: right;\">\n",
       "      <th></th>\n",
       "      <th>grade</th>\n",
       "      <th>view</th>\n",
       "    </tr>\n",
       "  </thead>\n",
       "  <tbody>\n",
       "    <tr>\n",
       "      <th>19709</th>\n",
       "      <td>9_Better</td>\n",
       "      <td>FAIR</td>\n",
       "    </tr>\n",
       "    <tr>\n",
       "      <th>4800</th>\n",
       "      <td>7_Average</td>\n",
       "      <td>NONE</td>\n",
       "    </tr>\n",
       "    <tr>\n",
       "      <th>13225</th>\n",
       "      <td>6_Low_Average</td>\n",
       "      <td>EXCELLENT</td>\n",
       "    </tr>\n",
       "    <tr>\n",
       "      <th>16111</th>\n",
       "      <td>8_Good</td>\n",
       "      <td>FAIR</td>\n",
       "    </tr>\n",
       "    <tr>\n",
       "      <th>17711</th>\n",
       "      <td>7_Average</td>\n",
       "      <td>NONE</td>\n",
       "    </tr>\n",
       "    <tr>\n",
       "      <th>...</th>\n",
       "      <td>...</td>\n",
       "      <td>...</td>\n",
       "    </tr>\n",
       "    <tr>\n",
       "      <th>11964</th>\n",
       "      <td>7_Average</td>\n",
       "      <td>NONE</td>\n",
       "    </tr>\n",
       "    <tr>\n",
       "      <th>21575</th>\n",
       "      <td>8_Good</td>\n",
       "      <td>NONE</td>\n",
       "    </tr>\n",
       "    <tr>\n",
       "      <th>5390</th>\n",
       "      <td>6_Low_Average</td>\n",
       "      <td>NONE</td>\n",
       "    </tr>\n",
       "    <tr>\n",
       "      <th>860</th>\n",
       "      <td>5_Fair</td>\n",
       "      <td>NONE</td>\n",
       "    </tr>\n",
       "    <tr>\n",
       "      <th>15795</th>\n",
       "      <td>8_Good</td>\n",
       "      <td>NONE</td>\n",
       "    </tr>\n",
       "  </tbody>\n",
       "</table>\n",
       "<p>14468 rows × 2 columns</p>\n",
       "</div>"
      ],
      "text/plain": [
       "               grade       view\n",
       "19709       9_Better       FAIR\n",
       "4800       7_Average       NONE\n",
       "13225  6_Low_Average  EXCELLENT\n",
       "16111         8_Good       FAIR\n",
       "17711      7_Average       NONE\n",
       "...              ...        ...\n",
       "11964      7_Average       NONE\n",
       "21575         8_Good       NONE\n",
       "5390   6_Low_Average       NONE\n",
       "860           5_Fair       NONE\n",
       "15795         8_Good       NONE\n",
       "\n",
       "[14468 rows x 2 columns]"
      ]
     },
     "execution_count": 95,
     "metadata": {},
     "output_type": "execute_result"
    }
   ],
   "source": [
    "#making the categorical variable\n",
    "cate_column = df3[['grade', 'view']]\n",
    "\n",
    "cate_column"
   ]
  },
  {
   "cell_type": "code",
   "execution_count": 96,
   "metadata": {},
   "outputs": [
    {
     "data": {
      "text/plain": [
       "<14468x13 sparse matrix of type '<class 'numpy.float64'>'\n",
       "\twith 27942 stored elements in Compressed Sparse Row format>"
      ]
     },
     "execution_count": 96,
     "metadata": {},
     "output_type": "execute_result"
    }
   ],
   "source": [
    "ohe = OneHotEncoder(drop='first')\n",
    "\n",
    "column_name = ['grade', 'view']\n",
    "features = cate_column.copy()\n",
    "\n",
    "features2 = features[column_name]\n",
    "\n",
    "cate_ohe = ohe.fit_transform(features2)\n",
    "\n",
    "cate_ohe"
   ]
  },
  {
   "cell_type": "code",
   "execution_count": 97,
   "metadata": {
    "scrolled": true
   },
   "outputs": [],
   "source": [
    "name = ohe.get_feature_names_out()"
   ]
  },
  {
   "cell_type": "code",
   "execution_count": 99,
   "metadata": {},
   "outputs": [
    {
     "data": {
      "text/html": [
       "<div>\n",
       "<style scoped>\n",
       "    .dataframe tbody tr th:only-of-type {\n",
       "        vertical-align: middle;\n",
       "    }\n",
       "\n",
       "    .dataframe tbody tr th {\n",
       "        vertical-align: top;\n",
       "    }\n",
       "\n",
       "    .dataframe thead th {\n",
       "        text-align: right;\n",
       "    }\n",
       "</style>\n",
       "<table border=\"1\" class=\"dataframe\">\n",
       "  <thead>\n",
       "    <tr style=\"text-align: right;\">\n",
       "      <th></th>\n",
       "      <th>grade_11_Excellent</th>\n",
       "      <th>grade_12_Luxury</th>\n",
       "      <th>grade_13_Mansion</th>\n",
       "      <th>grade_4_Low</th>\n",
       "      <th>grade_5_Fair</th>\n",
       "      <th>grade_6_Low_Average</th>\n",
       "      <th>grade_7_Average</th>\n",
       "      <th>grade_8_Good</th>\n",
       "      <th>grade_9_Better</th>\n",
       "      <th>view_FAIR</th>\n",
       "      <th>view_GOOD</th>\n",
       "      <th>view_NONE</th>\n",
       "      <th>view_nan</th>\n",
       "    </tr>\n",
       "  </thead>\n",
       "  <tbody>\n",
       "    <tr>\n",
       "      <th>19709</th>\n",
       "      <td>0.00</td>\n",
       "      <td>0.00</td>\n",
       "      <td>0.00</td>\n",
       "      <td>0.00</td>\n",
       "      <td>0.00</td>\n",
       "      <td>0.00</td>\n",
       "      <td>0.00</td>\n",
       "      <td>0.00</td>\n",
       "      <td>1.00</td>\n",
       "      <td>1.00</td>\n",
       "      <td>0.00</td>\n",
       "      <td>0.00</td>\n",
       "      <td>0.00</td>\n",
       "    </tr>\n",
       "    <tr>\n",
       "      <th>4800</th>\n",
       "      <td>0.00</td>\n",
       "      <td>0.00</td>\n",
       "      <td>0.00</td>\n",
       "      <td>0.00</td>\n",
       "      <td>0.00</td>\n",
       "      <td>0.00</td>\n",
       "      <td>1.00</td>\n",
       "      <td>0.00</td>\n",
       "      <td>0.00</td>\n",
       "      <td>0.00</td>\n",
       "      <td>0.00</td>\n",
       "      <td>1.00</td>\n",
       "      <td>0.00</td>\n",
       "    </tr>\n",
       "    <tr>\n",
       "      <th>13225</th>\n",
       "      <td>0.00</td>\n",
       "      <td>0.00</td>\n",
       "      <td>0.00</td>\n",
       "      <td>0.00</td>\n",
       "      <td>0.00</td>\n",
       "      <td>1.00</td>\n",
       "      <td>0.00</td>\n",
       "      <td>0.00</td>\n",
       "      <td>0.00</td>\n",
       "      <td>0.00</td>\n",
       "      <td>0.00</td>\n",
       "      <td>0.00</td>\n",
       "      <td>0.00</td>\n",
       "    </tr>\n",
       "    <tr>\n",
       "      <th>16111</th>\n",
       "      <td>0.00</td>\n",
       "      <td>0.00</td>\n",
       "      <td>0.00</td>\n",
       "      <td>0.00</td>\n",
       "      <td>0.00</td>\n",
       "      <td>0.00</td>\n",
       "      <td>0.00</td>\n",
       "      <td>1.00</td>\n",
       "      <td>0.00</td>\n",
       "      <td>1.00</td>\n",
       "      <td>0.00</td>\n",
       "      <td>0.00</td>\n",
       "      <td>0.00</td>\n",
       "    </tr>\n",
       "    <tr>\n",
       "      <th>17711</th>\n",
       "      <td>0.00</td>\n",
       "      <td>0.00</td>\n",
       "      <td>0.00</td>\n",
       "      <td>0.00</td>\n",
       "      <td>0.00</td>\n",
       "      <td>0.00</td>\n",
       "      <td>1.00</td>\n",
       "      <td>0.00</td>\n",
       "      <td>0.00</td>\n",
       "      <td>0.00</td>\n",
       "      <td>0.00</td>\n",
       "      <td>1.00</td>\n",
       "      <td>0.00</td>\n",
       "    </tr>\n",
       "    <tr>\n",
       "      <th>...</th>\n",
       "      <td>...</td>\n",
       "      <td>...</td>\n",
       "      <td>...</td>\n",
       "      <td>...</td>\n",
       "      <td>...</td>\n",
       "      <td>...</td>\n",
       "      <td>...</td>\n",
       "      <td>...</td>\n",
       "      <td>...</td>\n",
       "      <td>...</td>\n",
       "      <td>...</td>\n",
       "      <td>...</td>\n",
       "      <td>...</td>\n",
       "    </tr>\n",
       "    <tr>\n",
       "      <th>11964</th>\n",
       "      <td>0.00</td>\n",
       "      <td>0.00</td>\n",
       "      <td>0.00</td>\n",
       "      <td>0.00</td>\n",
       "      <td>0.00</td>\n",
       "      <td>0.00</td>\n",
       "      <td>1.00</td>\n",
       "      <td>0.00</td>\n",
       "      <td>0.00</td>\n",
       "      <td>0.00</td>\n",
       "      <td>0.00</td>\n",
       "      <td>1.00</td>\n",
       "      <td>0.00</td>\n",
       "    </tr>\n",
       "    <tr>\n",
       "      <th>21575</th>\n",
       "      <td>0.00</td>\n",
       "      <td>0.00</td>\n",
       "      <td>0.00</td>\n",
       "      <td>0.00</td>\n",
       "      <td>0.00</td>\n",
       "      <td>0.00</td>\n",
       "      <td>0.00</td>\n",
       "      <td>1.00</td>\n",
       "      <td>0.00</td>\n",
       "      <td>0.00</td>\n",
       "      <td>0.00</td>\n",
       "      <td>1.00</td>\n",
       "      <td>0.00</td>\n",
       "    </tr>\n",
       "    <tr>\n",
       "      <th>5390</th>\n",
       "      <td>0.00</td>\n",
       "      <td>0.00</td>\n",
       "      <td>0.00</td>\n",
       "      <td>0.00</td>\n",
       "      <td>0.00</td>\n",
       "      <td>1.00</td>\n",
       "      <td>0.00</td>\n",
       "      <td>0.00</td>\n",
       "      <td>0.00</td>\n",
       "      <td>0.00</td>\n",
       "      <td>0.00</td>\n",
       "      <td>1.00</td>\n",
       "      <td>0.00</td>\n",
       "    </tr>\n",
       "    <tr>\n",
       "      <th>860</th>\n",
       "      <td>0.00</td>\n",
       "      <td>0.00</td>\n",
       "      <td>0.00</td>\n",
       "      <td>0.00</td>\n",
       "      <td>1.00</td>\n",
       "      <td>0.00</td>\n",
       "      <td>0.00</td>\n",
       "      <td>0.00</td>\n",
       "      <td>0.00</td>\n",
       "      <td>0.00</td>\n",
       "      <td>0.00</td>\n",
       "      <td>1.00</td>\n",
       "      <td>0.00</td>\n",
       "    </tr>\n",
       "    <tr>\n",
       "      <th>15795</th>\n",
       "      <td>0.00</td>\n",
       "      <td>0.00</td>\n",
       "      <td>0.00</td>\n",
       "      <td>0.00</td>\n",
       "      <td>0.00</td>\n",
       "      <td>0.00</td>\n",
       "      <td>0.00</td>\n",
       "      <td>1.00</td>\n",
       "      <td>0.00</td>\n",
       "      <td>0.00</td>\n",
       "      <td>0.00</td>\n",
       "      <td>1.00</td>\n",
       "      <td>0.00</td>\n",
       "    </tr>\n",
       "  </tbody>\n",
       "</table>\n",
       "<p>14468 rows × 13 columns</p>\n",
       "</div>"
      ],
      "text/plain": [
       "       grade_11_Excellent  grade_12_Luxury  grade_13_Mansion  grade_4_Low  \\\n",
       "19709                0.00             0.00              0.00         0.00   \n",
       "4800                 0.00             0.00              0.00         0.00   \n",
       "13225                0.00             0.00              0.00         0.00   \n",
       "16111                0.00             0.00              0.00         0.00   \n",
       "17711                0.00             0.00              0.00         0.00   \n",
       "...                   ...              ...               ...          ...   \n",
       "11964                0.00             0.00              0.00         0.00   \n",
       "21575                0.00             0.00              0.00         0.00   \n",
       "5390                 0.00             0.00              0.00         0.00   \n",
       "860                  0.00             0.00              0.00         0.00   \n",
       "15795                0.00             0.00              0.00         0.00   \n",
       "\n",
       "       grade_5_Fair  grade_6_Low_Average  grade_7_Average  grade_8_Good  \\\n",
       "19709          0.00                 0.00             0.00          0.00   \n",
       "4800           0.00                 0.00             1.00          0.00   \n",
       "13225          0.00                 1.00             0.00          0.00   \n",
       "16111          0.00                 0.00             0.00          1.00   \n",
       "17711          0.00                 0.00             1.00          0.00   \n",
       "...             ...                  ...              ...           ...   \n",
       "11964          0.00                 0.00             1.00          0.00   \n",
       "21575          0.00                 0.00             0.00          1.00   \n",
       "5390           0.00                 1.00             0.00          0.00   \n",
       "860            1.00                 0.00             0.00          0.00   \n",
       "15795          0.00                 0.00             0.00          1.00   \n",
       "\n",
       "       grade_9_Better  view_FAIR  view_GOOD  view_NONE  view_nan  \n",
       "19709            1.00       1.00       0.00       0.00      0.00  \n",
       "4800             0.00       0.00       0.00       1.00      0.00  \n",
       "13225            0.00       0.00       0.00       0.00      0.00  \n",
       "16111            0.00       1.00       0.00       0.00      0.00  \n",
       "17711            0.00       0.00       0.00       1.00      0.00  \n",
       "...               ...        ...        ...        ...       ...  \n",
       "11964            0.00       0.00       0.00       1.00      0.00  \n",
       "21575            0.00       0.00       0.00       1.00      0.00  \n",
       "5390             0.00       0.00       0.00       1.00      0.00  \n",
       "860              0.00       0.00       0.00       1.00      0.00  \n",
       "15795            0.00       0.00       0.00       1.00      0.00  \n",
       "\n",
       "[14468 rows x 13 columns]"
      ]
     },
     "execution_count": 99,
     "metadata": {},
     "output_type": "execute_result"
    }
   ],
   "source": [
    "cate_parsed = pd.DataFrame(cate_ohe.todense(), columns = name, index = features.index)\n",
    "cate_parsed"
   ]
  },
  {
   "cell_type": "markdown",
   "metadata": {},
   "source": [
    "### Scaling | Rework only to include train"
   ]
  },
  {
   "cell_type": "code",
   "execution_count": 45,
   "metadata": {},
   "outputs": [],
   "source": [
    "# Creating dataframe with only numerical columns\n",
    "numbers = train_df.select_dtypes(np.number)"
   ]
  },
  {
   "cell_type": "code",
   "execution_count": 46,
   "metadata": {},
   "outputs": [
    {
     "data": {
      "text/html": [
       "<div>\n",
       "<style scoped>\n",
       "    .dataframe tbody tr th:only-of-type {\n",
       "        vertical-align: middle;\n",
       "    }\n",
       "\n",
       "    .dataframe tbody tr th {\n",
       "        vertical-align: top;\n",
       "    }\n",
       "\n",
       "    .dataframe thead th {\n",
       "        text-align: right;\n",
       "    }\n",
       "</style>\n",
       "<table border=\"1\" class=\"dataframe\">\n",
       "  <thead>\n",
       "    <tr style=\"text-align: right;\">\n",
       "      <th></th>\n",
       "      <th>sqft_living</th>\n",
       "      <th>price</th>\n",
       "    </tr>\n",
       "  </thead>\n",
       "  <tbody>\n",
       "    <tr>\n",
       "      <th>19709</th>\n",
       "      <td>1.34</td>\n",
       "      <td>2.26</td>\n",
       "    </tr>\n",
       "    <tr>\n",
       "      <th>4800</th>\n",
       "      <td>-0.44</td>\n",
       "      <td>-0.51</td>\n",
       "    </tr>\n",
       "    <tr>\n",
       "      <th>13225</th>\n",
       "      <td>-0.58</td>\n",
       "      <td>0.39</td>\n",
       "    </tr>\n",
       "    <tr>\n",
       "      <th>16111</th>\n",
       "      <td>0.73</td>\n",
       "      <td>0.70</td>\n",
       "    </tr>\n",
       "    <tr>\n",
       "      <th>17711</th>\n",
       "      <td>-0.74</td>\n",
       "      <td>0.09</td>\n",
       "    </tr>\n",
       "    <tr>\n",
       "      <th>...</th>\n",
       "      <td>...</td>\n",
       "      <td>...</td>\n",
       "    </tr>\n",
       "    <tr>\n",
       "      <th>11964</th>\n",
       "      <td>0.15</td>\n",
       "      <td>-0.28</td>\n",
       "    </tr>\n",
       "    <tr>\n",
       "      <th>21575</th>\n",
       "      <td>0.74</td>\n",
       "      <td>0.08</td>\n",
       "    </tr>\n",
       "    <tr>\n",
       "      <th>5390</th>\n",
       "      <td>-0.60</td>\n",
       "      <td>-0.65</td>\n",
       "    </tr>\n",
       "    <tr>\n",
       "      <th>860</th>\n",
       "      <td>-1.85</td>\n",
       "      <td>-0.80</td>\n",
       "    </tr>\n",
       "    <tr>\n",
       "      <th>15795</th>\n",
       "      <td>0.72</td>\n",
       "      <td>0.01</td>\n",
       "    </tr>\n",
       "  </tbody>\n",
       "</table>\n",
       "<p>14469 rows × 2 columns</p>\n",
       "</div>"
      ],
      "text/plain": [
       "       sqft_living  price\n",
       "19709         1.34   2.26\n",
       "4800         -0.44  -0.51\n",
       "13225        -0.58   0.39\n",
       "16111         0.73   0.70\n",
       "17711        -0.74   0.09\n",
       "...            ...    ...\n",
       "11964         0.15  -0.28\n",
       "21575         0.74   0.08\n",
       "5390         -0.60  -0.65\n",
       "860          -1.85  -0.80\n",
       "15795         0.72   0.01\n",
       "\n",
       "[14469 rows x 2 columns]"
      ]
     },
     "execution_count": 46,
     "metadata": {},
     "output_type": "execute_result"
    }
   ],
   "source": [
    "#Rework to include only the train_df\n",
    "ss = StandardScaler()\n",
    "\n",
    "columns_name1 = ['price', 'sqft_living']\n",
    "numbers_scaling = numbers.copy()\n",
    "\n",
    "features= numbers_scaling[columns_name1]\n",
    "\n",
    "scale1 = ss.fit(features)\n",
    "scale2 = scale1.transform(features)\n",
    "numbers_scaling[columns_name1] = scale2\n",
    "\n",
    "numbers_scaling"
   ]
  },
  {
   "cell_type": "code",
   "execution_count": 47,
   "metadata": {},
   "outputs": [],
   "source": [
    "#combinig scale and ohe\n",
    "scaled_and_parse_df = pd.concat([numbers_scaling, cate_parsed], axis = 1)"
   ]
  },
  {
   "cell_type": "code",
   "execution_count": 105,
   "metadata": {},
   "outputs": [],
   "source": [
    "scaled_and_parse_df.columns = [x.replace(\" \", \"_\").strip() for x in scaled_and_parse_df.columns]"
   ]
  },
  {
   "cell_type": "markdown",
   "metadata": {},
   "source": [
    "## Linear Regression | Rework so fit is only on train and not test"
   ]
  },
  {
   "cell_type": "markdown",
   "metadata": {},
   "source": [
    "#### simple linear"
   ]
  },
  {
   "cell_type": "code",
   "execution_count": 48,
   "metadata": {},
   "outputs": [
    {
     "data": {
      "image/png": "[encoded data removed]",
      "text/plain": [
       "<Figure size 432x288 with 1 Axes>"
      ]
     },
     "metadata": {
      "needs_background": "light"
     },
     "output_type": "display_data"
    }
   ],
   "source": [
    "fig, ax = plt.subplots()\n",
    "\n",
    "x = scaled_and_parse_df['sqft_living']\n",
    "y = scaled_and_parse_df['price']\n",
    "\n",
    "\n",
    "ax.scatter(x, y);"
   ]
  },
  {
   "cell_type": "code",
   "execution_count": 49,
   "metadata": {},
   "outputs": [
    {
     "data": {
      "text/plain": [
       "array([[1.       , 0.7019173],\n",
       "       [0.7019173, 1.       ]])"
      ]
     },
     "execution_count": 49,
     "metadata": {},
     "output_type": "execute_result"
    }
   ],
   "source": [
    "np.corrcoef(df['sqft_living'],df['price'])"
   ]
  },
  {
   "cell_type": "markdown",
   "metadata": {},
   "source": [
    "Passing our first assumption: Based on our scatterplot, we can see that there is a strong correlation between `sqft_living` and price. Our pearson correlation coefficiant of `.70` suggests that these two variables are strongly correlated. Refer to the heatmap above re: multicollinearity."
   ]
  },
  {
   "cell_type": "code",
   "execution_count": 50,
   "metadata": {},
   "outputs": [
    {
     "data": {
      "text/plain": [
       "0.0"
      ]
     },
     "execution_count": 50,
     "metadata": {},
     "output_type": "execute_result"
    }
   ],
   "source": [
    "# Baseline model\n",
    "# Import necessary package\n",
    "from sklearn.dummy import DummyRegressor\n",
    "\n",
    "# Instantiate\n",
    "dummy_lr = DummyRegressor()\n",
    "\n",
    "# Create variables\n",
    "X = scaled_and_parse_df['sqft_living']\n",
    "y = scaled_and_parse_df['price']\n",
    "\n",
    "# Fit\n",
    "dummy_lr.fit(X,y)\n",
    "\n",
    "# Score\n",
    "dummy_lr.score(X,y)"
   ]
  },
  {
   "cell_type": "code",
   "execution_count": 51,
   "metadata": {},
   "outputs": [],
   "source": [
    "#Define X and y variable using scaled & parse dataframe\n",
    "\n",
    "X_s_p = scaled_and_parse_df[['sqft_living']]\n",
    "y_s_p = scaled_and_parse_df[['price']]"
   ]
  },
  {
   "cell_type": "code",
   "execution_count": 52,
   "metadata": {
    "scrolled": false
   },
   "outputs": [
    {
     "name": "stderr",
     "output_type": "stream",
     "text": [
      "C:\\Users\\jsidd\\anaconda3\\envs\\learn-env\\lib\\site-packages\\sklearn\\base.py:493: FutureWarning: The feature names should match those that were passed during fit. Starting version 1.2, an error will be raised.\n",
      "Feature names unseen at fit time:\n",
      "- price\n",
      "Feature names seen at fit time, yet now missing:\n",
      "- sqft_living\n",
      "\n",
      "  warnings.warn(message, FutureWarning)\n"
     ]
    },
    {
     "data": {
      "text/plain": [
       "array([[-0.00774277],\n",
       "       [-0.686163  ],\n",
       "       [-0.06080357],\n",
       "       ...,\n",
       "       [-0.26925671],\n",
       "       [-0.26527526],\n",
       "       [-0.41138386]])"
      ]
     },
     "execution_count": 52,
     "metadata": {},
     "output_type": "execute_result"
    }
   ],
   "source": [
    "sk_lr = LinearRegression()\n",
    "sk_lr.fit(X_s_p, y_s_p)\n",
    "preds = sk_lr.predict(y_s_p)\n",
    "\n",
    "preds"
   ]
  },
  {
   "cell_type": "code",
   "execution_count": 53,
   "metadata": {},
   "outputs": [],
   "source": [
    "X = scaled_and_parse_df['sqft_living']\n",
    "y = scaled_and_parse_df[['price']]"
   ]
  },
  {
   "cell_type": "code",
   "execution_count": 54,
   "metadata": {},
   "outputs": [
    {
     "data": {
      "text/html": [
       "<div>\n",
       "<style scoped>\n",
       "    .dataframe tbody tr th:only-of-type {\n",
       "        vertical-align: middle;\n",
       "    }\n",
       "\n",
       "    .dataframe tbody tr th {\n",
       "        vertical-align: top;\n",
       "    }\n",
       "\n",
       "    .dataframe thead th {\n",
       "        text-align: right;\n",
       "    }\n",
       "</style>\n",
       "<table border=\"1\" class=\"dataframe\">\n",
       "  <thead>\n",
       "    <tr style=\"text-align: right;\">\n",
       "      <th></th>\n",
       "      <th>price</th>\n",
       "    </tr>\n",
       "  </thead>\n",
       "  <tbody>\n",
       "    <tr>\n",
       "      <th>1</th>\n",
       "      <td>-0.00</td>\n",
       "    </tr>\n",
       "    <tr>\n",
       "      <th>2</th>\n",
       "      <td>-0.29</td>\n",
       "    </tr>\n",
       "    <tr>\n",
       "      <th>4</th>\n",
       "      <td>-0.03</td>\n",
       "    </tr>\n",
       "    <tr>\n",
       "      <th>5</th>\n",
       "      <td>0.55</td>\n",
       "    </tr>\n",
       "    <tr>\n",
       "      <th>7</th>\n",
       "      <td>-0.20</td>\n",
       "    </tr>\n",
       "    <tr>\n",
       "      <th>...</th>\n",
       "      <td>...</td>\n",
       "    </tr>\n",
       "    <tr>\n",
       "      <th>21590</th>\n",
       "      <td>0.38</td>\n",
       "    </tr>\n",
       "    <tr>\n",
       "      <th>21592</th>\n",
       "      <td>-0.15</td>\n",
       "    </tr>\n",
       "    <tr>\n",
       "      <th>21593</th>\n",
       "      <td>-0.11</td>\n",
       "    </tr>\n",
       "    <tr>\n",
       "      <th>21594</th>\n",
       "      <td>-0.11</td>\n",
       "    </tr>\n",
       "    <tr>\n",
       "      <th>21596</th>\n",
       "      <td>-0.18</td>\n",
       "    </tr>\n",
       "  </tbody>\n",
       "</table>\n",
       "<p>14469 rows × 1 columns</p>\n",
       "</div>"
      ],
      "text/plain": [
       "       price\n",
       "1      -0.00\n",
       "2      -0.29\n",
       "4      -0.03\n",
       "5       0.55\n",
       "7      -0.20\n",
       "...      ...\n",
       "21590   0.38\n",
       "21592  -0.15\n",
       "21593  -0.11\n",
       "21594  -0.11\n",
       "21596  -0.18\n",
       "\n",
       "[14469 rows x 1 columns]"
      ]
     },
     "execution_count": 54,
     "metadata": {},
     "output_type": "execute_result"
    }
   ],
   "source": [
    "resids = y - preds\n",
    "resids"
   ]
  },
  {
   "cell_type": "code",
   "execution_count": 55,
   "metadata": {},
   "outputs": [
    {
     "data": {
      "text/plain": [
       "120"
      ]
     },
     "execution_count": 55,
     "metadata": {},
     "output_type": "execute_result"
    }
   ],
   "source": [
    "#Create out bins\n",
    "\n",
    "bins = int( len(X)**.5)\n",
    "bins"
   ]
  },
  {
   "cell_type": "code",
   "execution_count": 56,
   "metadata": {
    "scrolled": false
   },
   "outputs": [
    {
     "data": {
      "image/png": "[encoded data removed]",
      "text/plain": [
       "<Figure size 432x288 with 1 Axes>"
      ]
     },
     "metadata": {
      "needs_background": "light"
     },
     "output_type": "display_data"
    }
   ],
   "source": [
    "# Histogram of residuals\n",
    "\n",
    "plt.hist(resids, bins=bins);"
   ]
  },
  {
   "cell_type": "code",
   "execution_count": 57,
   "metadata": {},
   "outputs": [
    {
     "name": "stdout",
     "output_type": "stream",
     "text": [
      "price   5.77\n",
      "dtype: float64\n"
     ]
    },
    {
     "data": {
      "text/plain": [
       "price   -0.37\n",
       "dtype: float64"
      ]
     },
     "execution_count": 57,
     "metadata": {},
     "output_type": "execute_result"
    }
   ],
   "source": [
    "print(resids.max())\n",
    "resids.min()"
   ]
  },
  {
   "cell_type": "code",
   "execution_count": 58,
   "metadata": {},
   "outputs": [
    {
     "data": {
      "text/plain": [
       "<seaborn.axisgrid.FacetGrid at 0x2493137dd60>"
      ]
     },
     "execution_count": 58,
     "metadata": {},
     "output_type": "execute_result"
    },
    {
     "data": {
      "image/png": "[encoded data removed]",
      "text/plain": [
       "<Figure size 420.875x360 with 1 Axes>"
      ]
     },
     "metadata": {
      "needs_background": "light"
     },
     "output_type": "display_data"
    }
   ],
   "source": [
    "sns.displot(resids, bins=bins, kde=True)"
   ]
  },
  {
   "cell_type": "code",
   "execution_count": 59,
   "metadata": {},
   "outputs": [
    {
     "data": {
      "image/png": "[encoded data removed]",
      "text/plain": [
       "<Figure size 432x288 with 1 Axes>"
      ]
     },
     "metadata": {
      "needs_background": "light"
     },
     "output_type": "display_data"
    }
   ],
   "source": [
    "sm.qqplot(resids, line='r');"
   ]
  },
  {
   "cell_type": "code",
   "execution_count": 60,
   "metadata": {},
   "outputs": [
    {
     "data": {
      "image/png": "[encoded data removed]",
      "text/plain": [
       "<Figure size 432x288 with 1 Axes>"
      ]
     },
     "metadata": {
      "needs_background": "light"
     },
     "output_type": "display_data"
    }
   ],
   "source": [
    "# resid plot sns.resid\n",
    "\n",
    "sns.residplot(x=X, y=y);"
   ]
  },
  {
   "cell_type": "code",
   "execution_count": 61,
   "metadata": {},
   "outputs": [
    {
     "data": {
      "image/png": "[encoded data removed]",
      "text/plain": [
       "<Figure size 432x288 with 1 Axes>"
      ]
     },
     "metadata": {
      "needs_background": "light"
     },
     "output_type": "display_data"
    }
   ],
   "source": [
    "plt.scatter(preds, resids);"
   ]
  },
  {
   "cell_type": "code",
   "execution_count": 62,
   "metadata": {},
   "outputs": [
    {
     "data": {
      "text/plain": [
       "DummyRegressor()"
      ]
     },
     "execution_count": 62,
     "metadata": {},
     "output_type": "execute_result"
    }
   ],
   "source": [
    "#Fit the dummy_regressor\n",
    "\n",
    "dummy_lr.fit(X_s_p,y_s_p)"
   ]
  },
  {
   "cell_type": "code",
   "execution_count": 63,
   "metadata": {},
   "outputs": [
    {
     "data": {
      "text/plain": [
       "0.0"
      ]
     },
     "execution_count": 63,
     "metadata": {},
     "output_type": "execute_result"
    }
   ],
   "source": [
    "# Score it\n",
    "\n",
    "dummy_lr.score(X_s_p,y_s_p)"
   ]
  },
  {
   "cell_type": "code",
   "execution_count": 64,
   "metadata": {},
   "outputs": [
    {
     "data": {
      "text/html": [
       "<table class=\"simpletable\">\n",
       "<caption>OLS Regression Results</caption>\n",
       "<tr>\n",
       "  <th>Dep. Variable:</th>          <td>price</td>      <th>  R-squared:         </th> <td>   0.492</td> \n",
       "</tr>\n",
       "<tr>\n",
       "  <th>Model:</th>                   <td>OLS</td>       <th>  Adj. R-squared:    </th> <td>   0.492</td> \n",
       "</tr>\n",
       "<tr>\n",
       "  <th>Method:</th>             <td>Least Squares</td>  <th>  F-statistic:       </th> <td>1.401e+04</td>\n",
       "</tr>\n",
       "<tr>\n",
       "  <th>Date:</th>             <td>Tue, 29 Mar 2022</td> <th>  Prob (F-statistic):</th>  <td>  0.00</td>  \n",
       "</tr>\n",
       "<tr>\n",
       "  <th>Time:</th>                 <td>08:44:45</td>     <th>  Log-Likelihood:    </th> <td> -15630.</td> \n",
       "</tr>\n",
       "<tr>\n",
       "  <th>No. Observations:</th>      <td> 14469</td>      <th>  AIC:               </th> <td>3.126e+04</td>\n",
       "</tr>\n",
       "<tr>\n",
       "  <th>Df Residuals:</th>          <td> 14467</td>      <th>  BIC:               </th> <td>3.128e+04</td>\n",
       "</tr>\n",
       "<tr>\n",
       "  <th>Df Model:</th>              <td>     1</td>      <th>                     </th>     <td> </td>    \n",
       "</tr>\n",
       "<tr>\n",
       "  <th>Covariance Type:</th>      <td>nonrobust</td>    <th>                     </th>     <td> </td>    \n",
       "</tr>\n",
       "</table>\n",
       "<table class=\"simpletable\">\n",
       "<tr>\n",
       "       <td></td>          <th>coef</th>     <th>std err</th>      <th>t</th>      <th>P>|t|</th>  <th>[0.025</th>    <th>0.975]</th>  \n",
       "</tr>\n",
       "<tr>\n",
       "  <th>Intercept</th>   <td> 1.152e-16</td> <td>    0.006</td> <td> 1.94e-14</td> <td> 1.000</td> <td>   -0.012</td> <td>    0.012</td>\n",
       "</tr>\n",
       "<tr>\n",
       "  <th>sqft_living</th> <td>    0.7015</td> <td>    0.006</td> <td>  118.383</td> <td> 0.000</td> <td>    0.690</td> <td>    0.713</td>\n",
       "</tr>\n",
       "</table>\n",
       "<table class=\"simpletable\">\n",
       "<tr>\n",
       "  <th>Omnibus:</th>       <td>9406.447</td> <th>  Durbin-Watson:     </th>  <td>   1.972</td> \n",
       "</tr>\n",
       "<tr>\n",
       "  <th>Prob(Omnibus):</th>  <td> 0.000</td>  <th>  Jarque-Bera (JB):  </th> <td>265707.063</td>\n",
       "</tr>\n",
       "<tr>\n",
       "  <th>Skew:</th>           <td> 2.688</td>  <th>  Prob(JB):          </th>  <td>    0.00</td> \n",
       "</tr>\n",
       "<tr>\n",
       "  <th>Kurtosis:</th>       <td>23.293</td>  <th>  Cond. No.          </th>  <td>    1.00</td> \n",
       "</tr>\n",
       "</table><br/><br/>Notes:<br/>[1] Standard Errors assume that the covariance matrix of the errors is correctly specified."
      ],
      "text/plain": [
       "<class 'statsmodels.iolib.summary.Summary'>\n",
       "\"\"\"\n",
       "                            OLS Regression Results                            \n",
       "==============================================================================\n",
       "Dep. Variable:                  price   R-squared:                       0.492\n",
       "Model:                            OLS   Adj. R-squared:                  0.492\n",
       "Method:                 Least Squares   F-statistic:                 1.401e+04\n",
       "Date:                Tue, 29 Mar 2022   Prob (F-statistic):               0.00\n",
       "Time:                        08:44:45   Log-Likelihood:                -15630.\n",
       "No. Observations:               14469   AIC:                         3.126e+04\n",
       "Df Residuals:                   14467   BIC:                         3.128e+04\n",
       "Df Model:                           1                                         \n",
       "Covariance Type:            nonrobust                                         \n",
       "===============================================================================\n",
       "                  coef    std err          t      P>|t|      [0.025      0.975]\n",
       "-------------------------------------------------------------------------------\n",
       "Intercept    1.152e-16      0.006   1.94e-14      1.000      -0.012       0.012\n",
       "sqft_living     0.7015      0.006    118.383      0.000       0.690       0.713\n",
       "==============================================================================\n",
       "Omnibus:                     9406.447   Durbin-Watson:                   1.972\n",
       "Prob(Omnibus):                  0.000   Jarque-Bera (JB):           265707.063\n",
       "Skew:                           2.688   Prob(JB):                         0.00\n",
       "Kurtosis:                      23.293   Cond. No.                         1.00\n",
       "==============================================================================\n",
       "\n",
       "Notes:\n",
       "[1] Standard Errors assume that the covariance matrix of the errors is correctly specified.\n",
       "\"\"\""
      ]
     },
     "execution_count": 64,
     "metadata": {},
     "output_type": "execute_result"
    }
   ],
   "source": [
    "# Creating a straightforward, initial model --\n",
    "# just for kicks\n",
    "simple_formula = 'price ~ sqft_living'\n",
    "simple_model = ols(formula = simple_formula,\n",
    "                   data = scaled_and_parse_df).fit()\n",
    "simple_mod_summ = simple_model.summary()\n",
    "\n",
    "simple_mod_summ"
   ]
  },
  {
   "cell_type": "code",
   "execution_count": null,
   "metadata": {},
   "outputs": [],
   "source": [
    "#test on our test data set"
   ]
  },
  {
   "cell_type": "markdown",
   "metadata": {},
   "source": [
    "Summary comparison between the two"
   ]
  },
  {
   "cell_type": "markdown",
   "metadata": {},
   "source": [
    "#### Multiple regression | Rework to train data"
   ]
  },
  {
   "cell_type": "markdown",
   "metadata": {},
   "source": [
    "Slowly adding in other variables"
   ]
  },
  {
   "cell_type": "code",
   "execution_count": 65,
   "metadata": {},
   "outputs": [
    {
     "data": {
      "text/plain": [
       "<matplotlib.collections.PathCollection at 0x24934ca10a0>"
      ]
     },
     "execution_count": 65,
     "metadata": {},
     "output_type": "execute_result"
    },
    {
     "data": {
      "image/png": "[encoded data removed]",
      "text/plain": [
       "<Figure size 1080x360 with 2 Axes>"
      ]
     },
     "metadata": {
      "needs_background": "light"
     },
     "output_type": "display_data"
    }
   ],
   "source": [
    "fig, ax = plt.subplots(ncols=2,figsize=(15,5))\n",
    "\n",
    "x1 = scaled_and_parse_df[['sqft_living']]\n",
    "y1 = scaled_and_parse_df[['price']]\n",
    "\n",
    "# x2 = scaled_and_parse_df[['bedrooms']]\n",
    "\n",
    "ax[0].scatter(x1, y1)\n",
    "# ax[1].scatter(x2,y1);"
   ]
  },
  {
   "cell_type": "markdown",
   "metadata": {},
   "source": [
    "#Upon looking at our scaled dataframe, we noticed that there is a house sold with 33 bedrooms for $600k\n",
    "#After considering the price sold, sqft and number of bathrooms - the # of bedrooms appears \n",
    "#to be an error of somesort\n",
    "#Since we explored bedrooms having a relatively small correlation to price, we are not too worried about this one\n",
    "#outlier being included in our scatterplot"
   ]
  },
  {
   "cell_type": "code",
   "execution_count": 66,
   "metadata": {},
   "outputs": [
    {
     "data": {
      "text/html": [
       "<table class=\"simpletable\">\n",
       "<caption>OLS Regression Results</caption>\n",
       "<tr>\n",
       "  <th>Dep. Variable:</th>          <td>price</td>      <th>  R-squared:         </th> <td>   0.492</td> \n",
       "</tr>\n",
       "<tr>\n",
       "  <th>Model:</th>                   <td>OLS</td>       <th>  Adj. R-squared:    </th> <td>   0.492</td> \n",
       "</tr>\n",
       "<tr>\n",
       "  <th>Method:</th>             <td>Least Squares</td>  <th>  F-statistic:       </th> <td>1.401e+04</td>\n",
       "</tr>\n",
       "<tr>\n",
       "  <th>Date:</th>             <td>Tue, 29 Mar 2022</td> <th>  Prob (F-statistic):</th>  <td>  0.00</td>  \n",
       "</tr>\n",
       "<tr>\n",
       "  <th>Time:</th>                 <td>08:44:54</td>     <th>  Log-Likelihood:    </th> <td> -15630.</td> \n",
       "</tr>\n",
       "<tr>\n",
       "  <th>No. Observations:</th>      <td> 14469</td>      <th>  AIC:               </th> <td>3.126e+04</td>\n",
       "</tr>\n",
       "<tr>\n",
       "  <th>Df Residuals:</th>          <td> 14467</td>      <th>  BIC:               </th> <td>3.128e+04</td>\n",
       "</tr>\n",
       "<tr>\n",
       "  <th>Df Model:</th>              <td>     1</td>      <th>                     </th>     <td> </td>    \n",
       "</tr>\n",
       "<tr>\n",
       "  <th>Covariance Type:</th>      <td>nonrobust</td>    <th>                     </th>     <td> </td>    \n",
       "</tr>\n",
       "</table>\n",
       "<table class=\"simpletable\">\n",
       "<tr>\n",
       "       <td></td>          <th>coef</th>     <th>std err</th>      <th>t</th>      <th>P>|t|</th>  <th>[0.025</th>    <th>0.975]</th>  \n",
       "</tr>\n",
       "<tr>\n",
       "  <th>Intercept</th>   <td> 1.152e-16</td> <td>    0.006</td> <td> 1.94e-14</td> <td> 1.000</td> <td>   -0.012</td> <td>    0.012</td>\n",
       "</tr>\n",
       "<tr>\n",
       "  <th>sqft_living</th> <td>    0.7015</td> <td>    0.006</td> <td>  118.383</td> <td> 0.000</td> <td>    0.690</td> <td>    0.713</td>\n",
       "</tr>\n",
       "</table>\n",
       "<table class=\"simpletable\">\n",
       "<tr>\n",
       "  <th>Omnibus:</th>       <td>9406.447</td> <th>  Durbin-Watson:     </th>  <td>   1.972</td> \n",
       "</tr>\n",
       "<tr>\n",
       "  <th>Prob(Omnibus):</th>  <td> 0.000</td>  <th>  Jarque-Bera (JB):  </th> <td>265707.063</td>\n",
       "</tr>\n",
       "<tr>\n",
       "  <th>Skew:</th>           <td> 2.688</td>  <th>  Prob(JB):          </th>  <td>    0.00</td> \n",
       "</tr>\n",
       "<tr>\n",
       "  <th>Kurtosis:</th>       <td>23.293</td>  <th>  Cond. No.          </th>  <td>    1.00</td> \n",
       "</tr>\n",
       "</table><br/><br/>Notes:<br/>[1] Standard Errors assume that the covariance matrix of the errors is correctly specified."
      ],
      "text/plain": [
       "<class 'statsmodels.iolib.summary.Summary'>\n",
       "\"\"\"\n",
       "                            OLS Regression Results                            \n",
       "==============================================================================\n",
       "Dep. Variable:                  price   R-squared:                       0.492\n",
       "Model:                            OLS   Adj. R-squared:                  0.492\n",
       "Method:                 Least Squares   F-statistic:                 1.401e+04\n",
       "Date:                Tue, 29 Mar 2022   Prob (F-statistic):               0.00\n",
       "Time:                        08:44:54   Log-Likelihood:                -15630.\n",
       "No. Observations:               14469   AIC:                         3.126e+04\n",
       "Df Residuals:                   14467   BIC:                         3.128e+04\n",
       "Df Model:                           1                                         \n",
       "Covariance Type:            nonrobust                                         \n",
       "===============================================================================\n",
       "                  coef    std err          t      P>|t|      [0.025      0.975]\n",
       "-------------------------------------------------------------------------------\n",
       "Intercept    1.152e-16      0.006   1.94e-14      1.000      -0.012       0.012\n",
       "sqft_living     0.7015      0.006    118.383      0.000       0.690       0.713\n",
       "==============================================================================\n",
       "Omnibus:                     9406.447   Durbin-Watson:                   1.972\n",
       "Prob(Omnibus):                  0.000   Jarque-Bera (JB):           265707.063\n",
       "Skew:                           2.688   Prob(JB):                         0.00\n",
       "Kurtosis:                      23.293   Cond. No.                         1.00\n",
       "==============================================================================\n",
       "\n",
       "Notes:\n",
       "[1] Standard Errors assume that the covariance matrix of the errors is correctly specified.\n",
       "\"\"\""
      ]
     },
     "execution_count": 66,
     "metadata": {},
     "output_type": "execute_result"
    }
   ],
   "source": [
    "simple_formula3 = 'price ~ sqft_living'\n",
    "simple_model3 = ols(formula = simple_formula3,\n",
    "                   data = scaled_and_parse_df).fit()\n",
    "simple_mod_summ3 = simple_model3.summary()\n",
    "\n",
    "simple_mod_summ3"
   ]
  },
  {
   "cell_type": "code",
   "execution_count": 103,
   "metadata": {},
   "outputs": [
    {
     "data": {
      "text/html": [
       "<div>\n",
       "<style scoped>\n",
       "    .dataframe tbody tr th:only-of-type {\n",
       "        vertical-align: middle;\n",
       "    }\n",
       "\n",
       "    .dataframe tbody tr th {\n",
       "        vertical-align: top;\n",
       "    }\n",
       "\n",
       "    .dataframe thead th {\n",
       "        text-align: right;\n",
       "    }\n",
       "</style>\n",
       "<table border=\"1\" class=\"dataframe\">\n",
       "  <thead>\n",
       "    <tr style=\"text-align: right;\">\n",
       "      <th></th>\n",
       "      <th>sqft_living</th>\n",
       "      <th>price</th>\n",
       "      <th>grade_11 Excellent</th>\n",
       "      <th>grade_12 Luxury</th>\n",
       "      <th>grade_13 Mansion</th>\n",
       "      <th>grade_4 Low</th>\n",
       "      <th>grade_5 Fair</th>\n",
       "      <th>grade_6 Low Average</th>\n",
       "      <th>grade_7 Average</th>\n",
       "      <th>grade_8 Good</th>\n",
       "      <th>grade_9 Better</th>\n",
       "      <th>view_FAIR</th>\n",
       "      <th>view_GOOD</th>\n",
       "      <th>view_NONE</th>\n",
       "      <th>view_nan</th>\n",
       "    </tr>\n",
       "  </thead>\n",
       "  <tbody>\n",
       "    <tr>\n",
       "      <th>1</th>\n",
       "      <td>0.52</td>\n",
       "      <td>-0.01</td>\n",
       "      <td>0.00</td>\n",
       "      <td>0.00</td>\n",
       "      <td>0.00</td>\n",
       "      <td>0.00</td>\n",
       "      <td>0.00</td>\n",
       "      <td>0.00</td>\n",
       "      <td>1.00</td>\n",
       "      <td>0.00</td>\n",
       "      <td>0.00</td>\n",
       "      <td>0.00</td>\n",
       "      <td>0.00</td>\n",
       "      <td>1.00</td>\n",
       "      <td>0.00</td>\n",
       "    </tr>\n",
       "    <tr>\n",
       "      <th>2</th>\n",
       "      <td>-1.42</td>\n",
       "      <td>-0.98</td>\n",
       "      <td>0.00</td>\n",
       "      <td>0.00</td>\n",
       "      <td>0.00</td>\n",
       "      <td>0.00</td>\n",
       "      <td>0.00</td>\n",
       "      <td>1.00</td>\n",
       "      <td>0.00</td>\n",
       "      <td>0.00</td>\n",
       "      <td>0.00</td>\n",
       "      <td>0.00</td>\n",
       "      <td>0.00</td>\n",
       "      <td>1.00</td>\n",
       "      <td>0.00</td>\n",
       "    </tr>\n",
       "    <tr>\n",
       "      <th>4</th>\n",
       "      <td>-0.44</td>\n",
       "      <td>-0.09</td>\n",
       "      <td>0.00</td>\n",
       "      <td>0.00</td>\n",
       "      <td>0.00</td>\n",
       "      <td>0.00</td>\n",
       "      <td>0.00</td>\n",
       "      <td>0.00</td>\n",
       "      <td>0.00</td>\n",
       "      <td>1.00</td>\n",
       "      <td>0.00</td>\n",
       "      <td>0.00</td>\n",
       "      <td>0.00</td>\n",
       "      <td>1.00</td>\n",
       "      <td>0.00</td>\n",
       "    </tr>\n",
       "    <tr>\n",
       "      <th>5</th>\n",
       "      <td>3.60</td>\n",
       "      <td>1.86</td>\n",
       "      <td>1.00</td>\n",
       "      <td>0.00</td>\n",
       "      <td>0.00</td>\n",
       "      <td>0.00</td>\n",
       "      <td>0.00</td>\n",
       "      <td>0.00</td>\n",
       "      <td>0.00</td>\n",
       "      <td>0.00</td>\n",
       "      <td>0.00</td>\n",
       "      <td>0.00</td>\n",
       "      <td>0.00</td>\n",
       "      <td>1.00</td>\n",
       "      <td>0.00</td>\n",
       "    </tr>\n",
       "    <tr>\n",
       "      <th>7</th>\n",
       "      <td>-1.11</td>\n",
       "      <td>-0.68</td>\n",
       "      <td>0.00</td>\n",
       "      <td>0.00</td>\n",
       "      <td>0.00</td>\n",
       "      <td>0.00</td>\n",
       "      <td>0.00</td>\n",
       "      <td>0.00</td>\n",
       "      <td>1.00</td>\n",
       "      <td>0.00</td>\n",
       "      <td>0.00</td>\n",
       "      <td>0.00</td>\n",
       "      <td>0.00</td>\n",
       "      <td>0.00</td>\n",
       "      <td>1.00</td>\n",
       "    </tr>\n",
       "  </tbody>\n",
       "</table>\n",
       "</div>"
      ],
      "text/plain": [
       "   sqft_living  price  grade_11 Excellent  grade_12 Luxury  grade_13 Mansion  \\\n",
       "1         0.52  -0.01                0.00             0.00              0.00   \n",
       "2        -1.42  -0.98                0.00             0.00              0.00   \n",
       "4        -0.44  -0.09                0.00             0.00              0.00   \n",
       "5         3.60   1.86                1.00             0.00              0.00   \n",
       "7        -1.11  -0.68                0.00             0.00              0.00   \n",
       "\n",
       "   grade_4 Low  grade_5 Fair  grade_6 Low Average  grade_7 Average  \\\n",
       "1         0.00          0.00                 0.00             1.00   \n",
       "2         0.00          0.00                 1.00             0.00   \n",
       "4         0.00          0.00                 0.00             0.00   \n",
       "5         0.00          0.00                 0.00             0.00   \n",
       "7         0.00          0.00                 0.00             1.00   \n",
       "\n",
       "   grade_8 Good  grade_9 Better  view_FAIR  view_GOOD  view_NONE  view_nan  \n",
       "1          0.00            0.00       0.00       0.00       1.00      0.00  \n",
       "2          0.00            0.00       0.00       0.00       1.00      0.00  \n",
       "4          1.00            0.00       0.00       0.00       1.00      0.00  \n",
       "5          0.00            0.00       0.00       0.00       1.00      0.00  \n",
       "7          0.00            0.00       0.00       0.00       0.00      1.00  "
      ]
     },
     "execution_count": 103,
     "metadata": {},
     "output_type": "execute_result"
    }
   ],
   "source": [
    "scaled_and_parse_df.head()"
   ]
  },
  {
   "cell_type": "code",
   "execution_count": 107,
   "metadata": {
    "scrolled": false
   },
   "outputs": [
    {
     "data": {
      "text/html": [
       "<table class=\"simpletable\">\n",
       "<caption>OLS Regression Results</caption>\n",
       "<tr>\n",
       "  <th>Dep. Variable:</th>          <td>price</td>      <th>  R-squared:         </th> <td>   0.623</td> \n",
       "</tr>\n",
       "<tr>\n",
       "  <th>Model:</th>                   <td>OLS</td>       <th>  Adj. R-squared:    </th> <td>   0.623</td> \n",
       "</tr>\n",
       "<tr>\n",
       "  <th>Method:</th>             <td>Least Squares</td>  <th>  F-statistic:       </th> <td>   1841.</td> \n",
       "</tr>\n",
       "<tr>\n",
       "  <th>Date:</th>             <td>Tue, 29 Mar 2022</td> <th>  Prob (F-statistic):</th>  <td>  0.00</td>  \n",
       "</tr>\n",
       "<tr>\n",
       "  <th>Time:</th>                 <td>09:15:16</td>     <th>  Log-Likelihood:    </th> <td> -13464.</td> \n",
       "</tr>\n",
       "<tr>\n",
       "  <th>No. Observations:</th>      <td> 14468</td>      <th>  AIC:               </th> <td>2.696e+04</td>\n",
       "</tr>\n",
       "<tr>\n",
       "  <th>Df Residuals:</th>          <td> 14454</td>      <th>  BIC:               </th> <td>2.706e+04</td>\n",
       "</tr>\n",
       "<tr>\n",
       "  <th>Df Model:</th>              <td>    13</td>      <th>                     </th>     <td> </td>    \n",
       "</tr>\n",
       "<tr>\n",
       "  <th>Covariance Type:</th>      <td>nonrobust</td>    <th>                     </th>     <td> </td>    \n",
       "</tr>\n",
       "</table>\n",
       "<table class=\"simpletable\">\n",
       "<tr>\n",
       "           <td></td>              <th>coef</th>     <th>std err</th>      <th>t</th>      <th>P>|t|</th>  <th>[0.025</th>    <th>0.975]</th>  \n",
       "</tr>\n",
       "<tr>\n",
       "  <th>Intercept</th>           <td>    2.0239</td> <td>    0.045</td> <td>   44.943</td> <td> 0.000</td> <td>    1.936</td> <td>    2.112</td>\n",
       "</tr>\n",
       "<tr>\n",
       "  <th>sqft_living</th>         <td>    0.3497</td> <td>    0.008</td> <td>   43.085</td> <td> 0.000</td> <td>    0.334</td> <td>    0.366</td>\n",
       "</tr>\n",
       "<tr>\n",
       "  <th>view_FAIR</th>           <td>   -0.9613</td> <td>    0.043</td> <td>  -22.182</td> <td> 0.000</td> <td>   -1.046</td> <td>   -0.876</td>\n",
       "</tr>\n",
       "<tr>\n",
       "  <th>view_GOOD</th>           <td>   -0.7289</td> <td>    0.050</td> <td>  -14.443</td> <td> 0.000</td> <td>   -0.828</td> <td>   -0.630</td>\n",
       "</tr>\n",
       "<tr>\n",
       "  <th>view_NONE</th>           <td>   -1.2664</td> <td>    0.039</td> <td>  -32.652</td> <td> 0.000</td> <td>   -1.342</td> <td>   -1.190</td>\n",
       "</tr>\n",
       "<tr>\n",
       "  <th>grade_11_Excellent</th>  <td>    0.7373</td> <td>    0.044</td> <td>   16.721</td> <td> 0.000</td> <td>    0.651</td> <td>    0.824</td>\n",
       "</tr>\n",
       "<tr>\n",
       "  <th>grade_12_Luxury</th>     <td>    2.0550</td> <td>    0.083</td> <td>   24.768</td> <td> 0.000</td> <td>    1.892</td> <td>    2.218</td>\n",
       "</tr>\n",
       "<tr>\n",
       "  <th>grade_13_Mansion</th>    <td>    6.3655</td> <td>    0.236</td> <td>   27.018</td> <td> 0.000</td> <td>    5.904</td> <td>    6.827</td>\n",
       "</tr>\n",
       "<tr>\n",
       "  <th>grade_4_Low</th>         <td>   -1.1937</td> <td>    0.157</td> <td>   -7.600</td> <td> 0.000</td> <td>   -1.502</td> <td>   -0.886</td>\n",
       "</tr>\n",
       "<tr>\n",
       "  <th>grade_5_Fair</th>        <td>   -1.1460</td> <td>    0.057</td> <td>  -20.079</td> <td> 0.000</td> <td>   -1.258</td> <td>   -1.034</td>\n",
       "</tr>\n",
       "<tr>\n",
       "  <th>grade_6_Low_Average</th> <td>   -1.0868</td> <td>    0.035</td> <td>  -31.485</td> <td> 0.000</td> <td>   -1.154</td> <td>   -1.019</td>\n",
       "</tr>\n",
       "<tr>\n",
       "  <th>grade_7_Average</th>     <td>   -1.0075</td> <td>    0.029</td> <td>  -35.288</td> <td> 0.000</td> <td>   -1.063</td> <td>   -0.952</td>\n",
       "</tr>\n",
       "<tr>\n",
       "  <th>grade_8_Good</th>        <td>   -0.8466</td> <td>    0.027</td> <td>  -31.453</td> <td> 0.000</td> <td>   -0.899</td> <td>   -0.794</td>\n",
       "</tr>\n",
       "<tr>\n",
       "  <th>grade_9_Better</th>      <td>   -0.5279</td> <td>    0.027</td> <td>  -19.379</td> <td> 0.000</td> <td>   -0.581</td> <td>   -0.475</td>\n",
       "</tr>\n",
       "</table>\n",
       "<table class=\"simpletable\">\n",
       "<tr>\n",
       "  <th>Omnibus:</th>       <td>7075.392</td> <th>  Durbin-Watson:     </th>  <td>   1.986</td> \n",
       "</tr>\n",
       "<tr>\n",
       "  <th>Prob(Omnibus):</th>  <td> 0.000</td>  <th>  Jarque-Bera (JB):  </th> <td>116120.981</td>\n",
       "</tr>\n",
       "<tr>\n",
       "  <th>Skew:</th>           <td> 1.947</td>  <th>  Prob(JB):          </th>  <td>    0.00</td> \n",
       "</tr>\n",
       "<tr>\n",
       "  <th>Kurtosis:</th>       <td>16.322</td>  <th>  Cond. No.          </th>  <td>    67.7</td> \n",
       "</tr>\n",
       "</table><br/><br/>Notes:<br/>[1] Standard Errors assume that the covariance matrix of the errors is correctly specified."
      ],
      "text/plain": [
       "<class 'statsmodels.iolib.summary.Summary'>\n",
       "\"\"\"\n",
       "                            OLS Regression Results                            \n",
       "==============================================================================\n",
       "Dep. Variable:                  price   R-squared:                       0.623\n",
       "Model:                            OLS   Adj. R-squared:                  0.623\n",
       "Method:                 Least Squares   F-statistic:                     1841.\n",
       "Date:                Tue, 29 Mar 2022   Prob (F-statistic):               0.00\n",
       "Time:                        09:15:16   Log-Likelihood:                -13464.\n",
       "No. Observations:               14468   AIC:                         2.696e+04\n",
       "Df Residuals:                   14454   BIC:                         2.706e+04\n",
       "Df Model:                          13                                         \n",
       "Covariance Type:            nonrobust                                         \n",
       "=======================================================================================\n",
       "                          coef    std err          t      P>|t|      [0.025      0.975]\n",
       "---------------------------------------------------------------------------------------\n",
       "Intercept               2.0239      0.045     44.943      0.000       1.936       2.112\n",
       "sqft_living             0.3497      0.008     43.085      0.000       0.334       0.366\n",
       "view_FAIR              -0.9613      0.043    -22.182      0.000      -1.046      -0.876\n",
       "view_GOOD              -0.7289      0.050    -14.443      0.000      -0.828      -0.630\n",
       "view_NONE              -1.2664      0.039    -32.652      0.000      -1.342      -1.190\n",
       "grade_11_Excellent      0.7373      0.044     16.721      0.000       0.651       0.824\n",
       "grade_12_Luxury         2.0550      0.083     24.768      0.000       1.892       2.218\n",
       "grade_13_Mansion        6.3655      0.236     27.018      0.000       5.904       6.827\n",
       "grade_4_Low            -1.1937      0.157     -7.600      0.000      -1.502      -0.886\n",
       "grade_5_Fair           -1.1460      0.057    -20.079      0.000      -1.258      -1.034\n",
       "grade_6_Low_Average    -1.0868      0.035    -31.485      0.000      -1.154      -1.019\n",
       "grade_7_Average        -1.0075      0.029    -35.288      0.000      -1.063      -0.952\n",
       "grade_8_Good           -0.8466      0.027    -31.453      0.000      -0.899      -0.794\n",
       "grade_9_Better         -0.5279      0.027    -19.379      0.000      -0.581      -0.475\n",
       "==============================================================================\n",
       "Omnibus:                     7075.392   Durbin-Watson:                   1.986\n",
       "Prob(Omnibus):                  0.000   Jarque-Bera (JB):           116120.981\n",
       "Skew:                           1.947   Prob(JB):                         0.00\n",
       "Kurtosis:                      16.322   Cond. No.                         67.7\n",
       "==============================================================================\n",
       "\n",
       "Notes:\n",
       "[1] Standard Errors assume that the covariance matrix of the errors is correctly specified.\n",
       "\"\"\""
      ]
     },
     "execution_count": 107,
     "metadata": {},
     "output_type": "execute_result"
    }
   ],
   "source": [
    "simple_formula4 = 'price ~ sqft_living + view_FAIR + view_GOOD +view_NONE + grade_11_Excellent + grade_12_Luxury + grade_13_Mansion + grade_4_Low + grade_5_Fair + grade_6_Low_Average + grade_7_Average + grade_8_Good+ grade_9_Better'          \n",
    "\n",
    "simple_model4 = ols(formula = simple_formula4,\n",
    "                   data = scaled_and_parse_df).fit()\n",
    "\n",
    "simple_mod_summ4 = simple_model4.summary()\n",
    "\n",
    "simple_mod_summ4"
   ]
  },
  {
   "cell_type": "markdown",
   "metadata": {},
   "source": [
    "The above model has an adjusted R-squared value of 0.623 suggesting that this model accounts for roughly ~10-15% more variance."
   ]
  },
  {
   "cell_type": "code",
   "execution_count": 108,
   "metadata": {},
   "outputs": [
    {
     "data": {
      "text/html": [
       "<table class=\"simpletable\">\n",
       "<caption>OLS Regression Results</caption>\n",
       "<tr>\n",
       "  <th>Dep. Variable:</th>          <td>price</td>      <th>  R-squared:         </th> <td>   0.575</td> \n",
       "</tr>\n",
       "<tr>\n",
       "  <th>Model:</th>                   <td>OLS</td>       <th>  Adj. R-squared:    </th> <td>   0.575</td> \n",
       "</tr>\n",
       "<tr>\n",
       "  <th>Method:</th>             <td>Least Squares</td>  <th>  F-statistic:       </th> <td>   1630.</td> \n",
       "</tr>\n",
       "<tr>\n",
       "  <th>Date:</th>             <td>Tue, 29 Mar 2022</td> <th>  Prob (F-statistic):</th>  <td>  0.00</td>  \n",
       "</tr>\n",
       "<tr>\n",
       "  <th>Time:</th>                 <td>09:17:07</td>     <th>  Log-Likelihood:    </th> <td> -14338.</td> \n",
       "</tr>\n",
       "<tr>\n",
       "  <th>No. Observations:</th>      <td> 14468</td>      <th>  AIC:               </th> <td>2.870e+04</td>\n",
       "</tr>\n",
       "<tr>\n",
       "  <th>Df Residuals:</th>          <td> 14455</td>      <th>  BIC:               </th> <td>2.880e+04</td>\n",
       "</tr>\n",
       "<tr>\n",
       "  <th>Df Model:</th>              <td>    12</td>      <th>                     </th>     <td> </td>    \n",
       "</tr>\n",
       "<tr>\n",
       "  <th>Covariance Type:</th>      <td>nonrobust</td>    <th>                     </th>     <td> </td>    \n",
       "</tr>\n",
       "</table>\n",
       "<table class=\"simpletable\">\n",
       "<tr>\n",
       "           <td></td>              <th>coef</th>     <th>std err</th>      <th>t</th>      <th>P>|t|</th>  <th>[0.025</th>    <th>0.975]</th>  \n",
       "</tr>\n",
       "<tr>\n",
       "  <th>Intercept</th>           <td>    2.6907</td> <td>    0.045</td> <td>   59.897</td> <td> 0.000</td> <td>    2.603</td> <td>    2.779</td>\n",
       "</tr>\n",
       "<tr>\n",
       "  <th>view_FAIR</th>           <td>   -1.0178</td> <td>    0.046</td> <td>  -22.120</td> <td> 0.000</td> <td>   -1.108</td> <td>   -0.928</td>\n",
       "</tr>\n",
       "<tr>\n",
       "  <th>view_GOOD</th>           <td>   -0.7595</td> <td>    0.054</td> <td>  -14.170</td> <td> 0.000</td> <td>   -0.865</td> <td>   -0.654</td>\n",
       "</tr>\n",
       "<tr>\n",
       "  <th>view_NONE</th>           <td>   -1.4082</td> <td>    0.041</td> <td>  -34.304</td> <td> 0.000</td> <td>   -1.489</td> <td>   -1.328</td>\n",
       "</tr>\n",
       "<tr>\n",
       "  <th>grade_11_Excellent</th>  <td>    1.0371</td> <td>    0.046</td> <td>   22.422</td> <td> 0.000</td> <td>    0.946</td> <td>    1.128</td>\n",
       "</tr>\n",
       "<tr>\n",
       "  <th>grade_12_Luxury</th>     <td>    2.7629</td> <td>    0.086</td> <td>   31.982</td> <td> 0.000</td> <td>    2.594</td> <td>    2.932</td>\n",
       "</tr>\n",
       "<tr>\n",
       "  <th>grade_13_Mansion</th>    <td>    7.7849</td> <td>    0.248</td> <td>   31.415</td> <td> 0.000</td> <td>    7.299</td> <td>    8.271</td>\n",
       "</tr>\n",
       "<tr>\n",
       "  <th>grade_4_Low</th>         <td>   -2.2558</td> <td>    0.165</td> <td>  -13.691</td> <td> 0.000</td> <td>   -2.579</td> <td>   -1.933</td>\n",
       "</tr>\n",
       "<tr>\n",
       "  <th>grade_5_Fair</th>        <td>   -2.0901</td> <td>    0.056</td> <td>  -37.335</td> <td> 0.000</td> <td>   -2.200</td> <td>   -1.980</td>\n",
       "</tr>\n",
       "<tr>\n",
       "  <th>grade_6_Low_Average</th> <td>   -1.9561</td> <td>    0.030</td> <td>  -65.759</td> <td> 0.000</td> <td>   -2.014</td> <td>   -1.898</td>\n",
       "</tr>\n",
       "<tr>\n",
       "  <th>grade_7_Average</th>     <td>   -1.6852</td> <td>    0.025</td> <td>  -66.589</td> <td> 0.000</td> <td>   -1.735</td> <td>   -1.636</td>\n",
       "</tr>\n",
       "<tr>\n",
       "  <th>grade_8_Good</th>        <td>   -1.3450</td> <td>    0.026</td> <td>  -52.097</td> <td> 0.000</td> <td>   -1.396</td> <td>   -1.294</td>\n",
       "</tr>\n",
       "<tr>\n",
       "  <th>grade_9_Better</th>      <td>   -0.7689</td> <td>    0.028</td> <td>  -27.149</td> <td> 0.000</td> <td>   -0.824</td> <td>   -0.713</td>\n",
       "</tr>\n",
       "</table>\n",
       "<table class=\"simpletable\">\n",
       "<tr>\n",
       "  <th>Omnibus:</th>       <td>7944.405</td> <th>  Durbin-Watson:     </th>  <td>   1.990</td> \n",
       "</tr>\n",
       "<tr>\n",
       "  <th>Prob(Omnibus):</th>  <td> 0.000</td>  <th>  Jarque-Bera (JB):  </th> <td>164308.616</td>\n",
       "</tr>\n",
       "<tr>\n",
       "  <th>Skew:</th>           <td> 2.201</td>  <th>  Prob(JB):          </th>  <td>    0.00</td> \n",
       "</tr>\n",
       "<tr>\n",
       "  <th>Kurtosis:</th>       <td>18.912</td>  <th>  Cond. No.          </th>  <td>    66.9</td> \n",
       "</tr>\n",
       "</table><br/><br/>Notes:<br/>[1] Standard Errors assume that the covariance matrix of the errors is correctly specified."
      ],
      "text/plain": [
       "<class 'statsmodels.iolib.summary.Summary'>\n",
       "\"\"\"\n",
       "                            OLS Regression Results                            \n",
       "==============================================================================\n",
       "Dep. Variable:                  price   R-squared:                       0.575\n",
       "Model:                            OLS   Adj. R-squared:                  0.575\n",
       "Method:                 Least Squares   F-statistic:                     1630.\n",
       "Date:                Tue, 29 Mar 2022   Prob (F-statistic):               0.00\n",
       "Time:                        09:17:07   Log-Likelihood:                -14338.\n",
       "No. Observations:               14468   AIC:                         2.870e+04\n",
       "Df Residuals:                   14455   BIC:                         2.880e+04\n",
       "Df Model:                          12                                         \n",
       "Covariance Type:            nonrobust                                         \n",
       "=======================================================================================\n",
       "                          coef    std err          t      P>|t|      [0.025      0.975]\n",
       "---------------------------------------------------------------------------------------\n",
       "Intercept               2.6907      0.045     59.897      0.000       2.603       2.779\n",
       "view_FAIR              -1.0178      0.046    -22.120      0.000      -1.108      -0.928\n",
       "view_GOOD              -0.7595      0.054    -14.170      0.000      -0.865      -0.654\n",
       "view_NONE              -1.4082      0.041    -34.304      0.000      -1.489      -1.328\n",
       "grade_11_Excellent      1.0371      0.046     22.422      0.000       0.946       1.128\n",
       "grade_12_Luxury         2.7629      0.086     31.982      0.000       2.594       2.932\n",
       "grade_13_Mansion        7.7849      0.248     31.415      0.000       7.299       8.271\n",
       "grade_4_Low            -2.2558      0.165    -13.691      0.000      -2.579      -1.933\n",
       "grade_5_Fair           -2.0901      0.056    -37.335      0.000      -2.200      -1.980\n",
       "grade_6_Low_Average    -1.9561      0.030    -65.759      0.000      -2.014      -1.898\n",
       "grade_7_Average        -1.6852      0.025    -66.589      0.000      -1.735      -1.636\n",
       "grade_8_Good           -1.3450      0.026    -52.097      0.000      -1.396      -1.294\n",
       "grade_9_Better         -0.7689      0.028    -27.149      0.000      -0.824      -0.713\n",
       "==============================================================================\n",
       "Omnibus:                     7944.405   Durbin-Watson:                   1.990\n",
       "Prob(Omnibus):                  0.000   Jarque-Bera (JB):           164308.616\n",
       "Skew:                           2.201   Prob(JB):                         0.00\n",
       "Kurtosis:                      18.912   Cond. No.                         66.9\n",
       "==============================================================================\n",
       "\n",
       "Notes:\n",
       "[1] Standard Errors assume that the covariance matrix of the errors is correctly specified.\n",
       "\"\"\""
      ]
     },
     "execution_count": 108,
     "metadata": {},
     "output_type": "execute_result"
    }
   ],
   "source": [
    "simple_formula4 = 'price ~ view_FAIR + view_GOOD +view_NONE + grade_11_Excellent + grade_12_Luxury + grade_13_Mansion + grade_4_Low + grade_5_Fair + grade_6_Low_Average + grade_7_Average + grade_8_Good+ grade_9_Better'          \n",
    "\n",
    "simple_model4 = ols(formula = simple_formula4,\n",
    "                   data = scaled_and_parse_df).fit()\n",
    "\n",
    "simple_mod_summ4 = simple_model4.summary()\n",
    "\n",
    "simple_mod_summ4"
   ]
  },
  {
   "cell_type": "markdown",
   "metadata": {},
   "source": []
  },
  {
   "cell_type": "code",
   "execution_count": 109,
   "metadata": {},
   "outputs": [
    {
     "data": {
      "text/html": [
       "<table class=\"simpletable\">\n",
       "<caption>OLS Regression Results</caption>\n",
       "<tr>\n",
       "  <th>Dep. Variable:</th>          <td>price</td>      <th>  R-squared:         </th> <td>   0.588</td> \n",
       "</tr>\n",
       "<tr>\n",
       "  <th>Model:</th>                   <td>OLS</td>       <th>  Adj. R-squared:    </th> <td>   0.588</td> \n",
       "</tr>\n",
       "<tr>\n",
       "  <th>Method:</th>             <td>Least Squares</td>  <th>  F-statistic:       </th> <td>   2062.</td> \n",
       "</tr>\n",
       "<tr>\n",
       "  <th>Date:</th>             <td>Tue, 29 Mar 2022</td> <th>  Prob (F-statistic):</th>  <td>  0.00</td>  \n",
       "</tr>\n",
       "<tr>\n",
       "  <th>Time:</th>                 <td>09:17:58</td>     <th>  Log-Likelihood:    </th> <td> -14117.</td> \n",
       "</tr>\n",
       "<tr>\n",
       "  <th>No. Observations:</th>      <td> 14468</td>      <th>  AIC:               </th> <td>2.826e+04</td>\n",
       "</tr>\n",
       "<tr>\n",
       "  <th>Df Residuals:</th>          <td> 14457</td>      <th>  BIC:               </th> <td>2.834e+04</td>\n",
       "</tr>\n",
       "<tr>\n",
       "  <th>Df Model:</th>              <td>    10</td>      <th>                     </th>     <td> </td>    \n",
       "</tr>\n",
       "<tr>\n",
       "  <th>Covariance Type:</th>      <td>nonrobust</td>    <th>                     </th>     <td> </td>    \n",
       "</tr>\n",
       "</table>\n",
       "<table class=\"simpletable\">\n",
       "<tr>\n",
       "           <td></td>              <th>coef</th>     <th>std err</th>      <th>t</th>      <th>P>|t|</th>  <th>[0.025</th>    <th>0.975]</th>  \n",
       "</tr>\n",
       "<tr>\n",
       "  <th>Intercept</th>           <td>    0.8551</td> <td>    0.027</td> <td>   32.032</td> <td> 0.000</td> <td>    0.803</td> <td>    0.907</td>\n",
       "</tr>\n",
       "<tr>\n",
       "  <th>sqft_living</th>         <td>    0.3868</td> <td>    0.008</td> <td>   45.971</td> <td> 0.000</td> <td>    0.370</td> <td>    0.403</td>\n",
       "</tr>\n",
       "<tr>\n",
       "  <th>grade_11_Excellent</th>  <td>    0.8067</td> <td>    0.046</td> <td>   17.509</td> <td> 0.000</td> <td>    0.716</td> <td>    0.897</td>\n",
       "</tr>\n",
       "<tr>\n",
       "  <th>grade_12_Luxury</th>     <td>    2.2177</td> <td>    0.087</td> <td>   25.597</td> <td> 0.000</td> <td>    2.048</td> <td>    2.388</td>\n",
       "</tr>\n",
       "<tr>\n",
       "  <th>grade_13_Mansion</th>    <td>    6.4756</td> <td>    0.246</td> <td>   26.282</td> <td> 0.000</td> <td>    5.993</td> <td>    6.959</td>\n",
       "</tr>\n",
       "<tr>\n",
       "  <th>grade_4_Low</th>         <td>   -1.1974</td> <td>    0.164</td> <td>   -7.288</td> <td> 0.000</td> <td>   -1.519</td> <td>   -0.875</td>\n",
       "</tr>\n",
       "<tr>\n",
       "  <th>grade_5_Fair</th>        <td>   -1.1827</td> <td>    0.060</td> <td>  -19.814</td> <td> 0.000</td> <td>   -1.300</td> <td>   -1.066</td>\n",
       "</tr>\n",
       "<tr>\n",
       "  <th>grade_6_Low_Average</th> <td>   -1.1274</td> <td>    0.036</td> <td>  -31.247</td> <td> 0.000</td> <td>   -1.198</td> <td>   -1.057</td>\n",
       "</tr>\n",
       "<tr>\n",
       "  <th>grade_7_Average</th>     <td>   -1.0661</td> <td>    0.030</td> <td>  -35.763</td> <td> 0.000</td> <td>   -1.125</td> <td>   -1.008</td>\n",
       "</tr>\n",
       "<tr>\n",
       "  <th>grade_8_Good</th>        <td>   -0.8966</td> <td>    0.028</td> <td>  -31.891</td> <td> 0.000</td> <td>   -0.952</td> <td>   -0.842</td>\n",
       "</tr>\n",
       "<tr>\n",
       "  <th>grade_9_Better</th>      <td>   -0.5552</td> <td>    0.028</td> <td>  -19.492</td> <td> 0.000</td> <td>   -0.611</td> <td>   -0.499</td>\n",
       "</tr>\n",
       "</table>\n",
       "<table class=\"simpletable\">\n",
       "<tr>\n",
       "  <th>Omnibus:</th>       <td>8084.288</td> <th>  Durbin-Watson:     </th>  <td>   1.985</td> \n",
       "</tr>\n",
       "<tr>\n",
       "  <th>Prob(Omnibus):</th>  <td> 0.000</td>  <th>  Jarque-Bera (JB):  </th> <td>152062.228</td>\n",
       "</tr>\n",
       "<tr>\n",
       "  <th>Skew:</th>           <td> 2.289</td>  <th>  Prob(JB):          </th>  <td>    0.00</td> \n",
       "</tr>\n",
       "<tr>\n",
       "  <th>Kurtosis:</th>       <td>18.208</td>  <th>  Cond. No.          </th>  <td>    52.8</td> \n",
       "</tr>\n",
       "</table><br/><br/>Notes:<br/>[1] Standard Errors assume that the covariance matrix of the errors is correctly specified."
      ],
      "text/plain": [
       "<class 'statsmodels.iolib.summary.Summary'>\n",
       "\"\"\"\n",
       "                            OLS Regression Results                            \n",
       "==============================================================================\n",
       "Dep. Variable:                  price   R-squared:                       0.588\n",
       "Model:                            OLS   Adj. R-squared:                  0.588\n",
       "Method:                 Least Squares   F-statistic:                     2062.\n",
       "Date:                Tue, 29 Mar 2022   Prob (F-statistic):               0.00\n",
       "Time:                        09:17:58   Log-Likelihood:                -14117.\n",
       "No. Observations:               14468   AIC:                         2.826e+04\n",
       "Df Residuals:                   14457   BIC:                         2.834e+04\n",
       "Df Model:                          10                                         \n",
       "Covariance Type:            nonrobust                                         \n",
       "=======================================================================================\n",
       "                          coef    std err          t      P>|t|      [0.025      0.975]\n",
       "---------------------------------------------------------------------------------------\n",
       "Intercept               0.8551      0.027     32.032      0.000       0.803       0.907\n",
       "sqft_living             0.3868      0.008     45.971      0.000       0.370       0.403\n",
       "grade_11_Excellent      0.8067      0.046     17.509      0.000       0.716       0.897\n",
       "grade_12_Luxury         2.2177      0.087     25.597      0.000       2.048       2.388\n",
       "grade_13_Mansion        6.4756      0.246     26.282      0.000       5.993       6.959\n",
       "grade_4_Low            -1.1974      0.164     -7.288      0.000      -1.519      -0.875\n",
       "grade_5_Fair           -1.1827      0.060    -19.814      0.000      -1.300      -1.066\n",
       "grade_6_Low_Average    -1.1274      0.036    -31.247      0.000      -1.198      -1.057\n",
       "grade_7_Average        -1.0661      0.030    -35.763      0.000      -1.125      -1.008\n",
       "grade_8_Good           -0.8966      0.028    -31.891      0.000      -0.952      -0.842\n",
       "grade_9_Better         -0.5552      0.028    -19.492      0.000      -0.611      -0.499\n",
       "==============================================================================\n",
       "Omnibus:                     8084.288   Durbin-Watson:                   1.985\n",
       "Prob(Omnibus):                  0.000   Jarque-Bera (JB):           152062.228\n",
       "Skew:                           2.289   Prob(JB):                         0.00\n",
       "Kurtosis:                      18.208   Cond. No.                         52.8\n",
       "==============================================================================\n",
       "\n",
       "Notes:\n",
       "[1] Standard Errors assume that the covariance matrix of the errors is correctly specified.\n",
       "\"\"\""
      ]
     },
     "execution_count": 109,
     "metadata": {},
     "output_type": "execute_result"
    }
   ],
   "source": [
    "simple_formula4 = 'price ~ sqft_living + grade_11_Excellent + grade_12_Luxury + grade_13_Mansion + grade_4_Low + grade_5_Fair + grade_6_Low_Average + grade_7_Average + grade_8_Good+ grade_9_Better'          \n",
    "\n",
    "simple_model4 = ols(formula = simple_formula4,\n",
    "                   data = scaled_and_parse_df).fit()\n",
    "\n",
    "simple_mod_summ4 = simple_model4.summary()\n",
    "\n",
    "simple_mod_summ4"
   ]
  },
  {
   "cell_type": "code",
   "execution_count": 110,
   "metadata": {},
   "outputs": [
    {
     "data": {
      "text/html": [
       "<table class=\"simpletable\">\n",
       "<caption>OLS Regression Results</caption>\n",
       "<tr>\n",
       "  <th>Dep. Variable:</th>          <td>price</td>      <th>  R-squared:         </th> <td>   0.539</td> \n",
       "</tr>\n",
       "<tr>\n",
       "  <th>Model:</th>                   <td>OLS</td>       <th>  Adj. R-squared:    </th> <td>   0.539</td> \n",
       "</tr>\n",
       "<tr>\n",
       "  <th>Method:</th>             <td>Least Squares</td>  <th>  F-statistic:       </th> <td>   4226.</td> \n",
       "</tr>\n",
       "<tr>\n",
       "  <th>Date:</th>             <td>Tue, 29 Mar 2022</td> <th>  Prob (F-statistic):</th>  <td>  0.00</td>  \n",
       "</tr>\n",
       "<tr>\n",
       "  <th>Time:</th>                 <td>09:18:20</td>     <th>  Log-Likelihood:    </th> <td> -14929.</td> \n",
       "</tr>\n",
       "<tr>\n",
       "  <th>No. Observations:</th>      <td> 14468</td>      <th>  AIC:               </th> <td>2.987e+04</td>\n",
       "</tr>\n",
       "<tr>\n",
       "  <th>Df Residuals:</th>          <td> 14463</td>      <th>  BIC:               </th> <td>2.991e+04</td>\n",
       "</tr>\n",
       "<tr>\n",
       "  <th>Df Model:</th>              <td>     4</td>      <th>                     </th>     <td> </td>    \n",
       "</tr>\n",
       "<tr>\n",
       "  <th>Covariance Type:</th>      <td>nonrobust</td>    <th>                     </th>     <td> </td>    \n",
       "</tr>\n",
       "</table>\n",
       "<table class=\"simpletable\">\n",
       "<tr>\n",
       "       <td></td>          <th>coef</th>     <th>std err</th>      <th>t</th>      <th>P>|t|</th>  <th>[0.025</th>    <th>0.975]</th>  \n",
       "</tr>\n",
       "<tr>\n",
       "  <th>Intercept</th>   <td>    1.3648</td> <td>    0.042</td> <td>   32.342</td> <td> 0.000</td> <td>    1.282</td> <td>    1.447</td>\n",
       "</tr>\n",
       "<tr>\n",
       "  <th>sqft_living</th> <td>    0.6401</td> <td>    0.006</td> <td>  108.391</td> <td> 0.000</td> <td>    0.629</td> <td>    0.652</td>\n",
       "</tr>\n",
       "<tr>\n",
       "  <th>view_FAIR</th>   <td>   -1.0743</td> <td>    0.048</td> <td>  -22.470</td> <td> 0.000</td> <td>   -1.168</td> <td>   -0.981</td>\n",
       "</tr>\n",
       "<tr>\n",
       "  <th>view_GOOD</th>   <td>   -0.7806</td> <td>    0.056</td> <td>  -14.007</td> <td> 0.000</td> <td>   -0.890</td> <td>   -0.671</td>\n",
       "</tr>\n",
       "<tr>\n",
       "  <th>view_NONE</th>   <td>   -1.4266</td> <td>    0.043</td> <td>  -33.399</td> <td> 0.000</td> <td>   -1.510</td> <td>   -1.343</td>\n",
       "</tr>\n",
       "</table>\n",
       "<table class=\"simpletable\">\n",
       "<tr>\n",
       "  <th>Omnibus:</th>       <td>8781.255</td> <th>  Durbin-Watson:     </th>  <td>   1.969</td> \n",
       "</tr>\n",
       "<tr>\n",
       "  <th>Prob(Omnibus):</th>  <td> 0.000</td>  <th>  Jarque-Bera (JB):  </th> <td>261450.414</td>\n",
       "</tr>\n",
       "<tr>\n",
       "  <th>Skew:</th>           <td> 2.410</td>  <th>  Prob(JB):          </th>  <td>    0.00</td> \n",
       "</tr>\n",
       "<tr>\n",
       "  <th>Kurtosis:</th>       <td>23.260</td>  <th>  Cond. No.          </th>  <td>    20.9</td> \n",
       "</tr>\n",
       "</table><br/><br/>Notes:<br/>[1] Standard Errors assume that the covariance matrix of the errors is correctly specified."
      ],
      "text/plain": [
       "<class 'statsmodels.iolib.summary.Summary'>\n",
       "\"\"\"\n",
       "                            OLS Regression Results                            \n",
       "==============================================================================\n",
       "Dep. Variable:                  price   R-squared:                       0.539\n",
       "Model:                            OLS   Adj. R-squared:                  0.539\n",
       "Method:                 Least Squares   F-statistic:                     4226.\n",
       "Date:                Tue, 29 Mar 2022   Prob (F-statistic):               0.00\n",
       "Time:                        09:18:20   Log-Likelihood:                -14929.\n",
       "No. Observations:               14468   AIC:                         2.987e+04\n",
       "Df Residuals:                   14463   BIC:                         2.991e+04\n",
       "Df Model:                           4                                         \n",
       "Covariance Type:            nonrobust                                         \n",
       "===============================================================================\n",
       "                  coef    std err          t      P>|t|      [0.025      0.975]\n",
       "-------------------------------------------------------------------------------\n",
       "Intercept       1.3648      0.042     32.342      0.000       1.282       1.447\n",
       "sqft_living     0.6401      0.006    108.391      0.000       0.629       0.652\n",
       "view_FAIR      -1.0743      0.048    -22.470      0.000      -1.168      -0.981\n",
       "view_GOOD      -0.7806      0.056    -14.007      0.000      -0.890      -0.671\n",
       "view_NONE      -1.4266      0.043    -33.399      0.000      -1.510      -1.343\n",
       "==============================================================================\n",
       "Omnibus:                     8781.255   Durbin-Watson:                   1.969\n",
       "Prob(Omnibus):                  0.000   Jarque-Bera (JB):           261450.414\n",
       "Skew:                           2.410   Prob(JB):                         0.00\n",
       "Kurtosis:                      23.260   Cond. No.                         20.9\n",
       "==============================================================================\n",
       "\n",
       "Notes:\n",
       "[1] Standard Errors assume that the covariance matrix of the errors is correctly specified.\n",
       "\"\"\""
      ]
     },
     "execution_count": 110,
     "metadata": {},
     "output_type": "execute_result"
    }
   ],
   "source": [
    "simple_formula4 = 'price ~ sqft_living + view_FAIR + view_GOOD +view_NONE'          \n",
    "\n",
    "simple_model4 = ols(formula = simple_formula4,\n",
    "                   data = scaled_and_parse_df).fit()\n",
    "\n",
    "simple_mod_summ4 = simple_model4.summary()\n",
    "\n",
    "simple_mod_summ4"
   ]
  },
  {
   "cell_type": "markdown",
   "metadata": {},
   "source": [
    "It appears that our model is the strongest when we are comparing `sqft_living` + `view` + `grade` with an adjusted R-squared of 0.623.\n"
   ]
  },
  {
   "cell_type": "code",
   "execution_count": null,
   "metadata": {},
   "outputs": [],
   "source": []
  },
  {
   "cell_type": "markdown",
   "metadata": {},
   "source": [
    "## Next Steps:"
   ]
  },
  {
   "cell_type": "markdown",
   "metadata": {},
   "source": [
    "- `bathrooms` and `bedrooms` - they are collinear with variables like `sqft_living`, which prevented us from including them in our model, but they might be useful avenues for further exploration.\n",
    "- `waterfront` - our EDA demonstrated a significant difference in `price` between homes with waterfront views vs. homes without; it may be worth further exploring what development opportunities exist in waterfront areas.\n",
    "- `zipcode` - taking a look at what neighborhoods/geographic areas yield high sale prices.\n",
    "    - Look at interaction items: if homes with `EXCELLENT` views are concentrated in certain areas, perhaps."
   ]
  },
  {
   "cell_type": "code",
   "execution_count": null,
   "metadata": {},
   "outputs": [],
   "source": []
  }
 ],
 "metadata": {
  "kernelspec": {
   "display_name": "Python (learn-env)",
   "language": "python",
   "name": "learn-env"
  },
  "language_info": {
   "codemirror_mode": {
    "name": "ipython",
    "version": 3
   },
   "file_extension": ".py",
   "mimetype": "text/x-python",
   "name": "python",
   "nbconvert_exporter": "python",
   "pygments_lexer": "ipython3",
   "version": "3.8.5"
  }
 },
 "nbformat": 4,
 "nbformat_minor": 4
}
